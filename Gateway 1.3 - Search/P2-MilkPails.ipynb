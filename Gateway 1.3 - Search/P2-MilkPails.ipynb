{
 "cells": [
  {
   "cell_type": "markdown",
   "id": "81f747b2-9371-4045-93e2-bc502cb7b541",
   "metadata": {},
   "source": [
    "# Milk Pails\n",
    "> http://www.usaco.org/index.php?page=viewproblem2&cpid=615\n",
    "### Prepare Inputs"
   ]
  },
  {
   "cell_type": "code",
   "execution_count": 2,
   "id": "ea2f168d-2257-4a61-9ba5-3c2bc75e4f3d",
   "metadata": {},
   "outputs": [],
   "source": [
    "fin=StringIO('''17 25 77\n",
    "''')"
   ]
  },
  {
   "cell_type": "markdown",
   "id": "c5484b60-67d7-4022-a243-a1709bacd355",
   "metadata": {},
   "source": [
    "### Brutal Force Complete Search"
   ]
  },
  {
   "cell_type": "code",
   "execution_count": 3,
   "id": "de73321d-7eaf-46e3-af47-e2b1fe07370b",
   "metadata": {},
   "outputs": [
    {
     "name": "stdout",
     "output_type": "stream",
     "text": [
      "76\n"
     ]
    }
   ],
   "source": [
    "buck1, buck2, buck3 = map(int, fin.readline().split())\n",
    "\n",
    "ans = 0\n",
    "\n",
    "# x and y below take care of all \n",
    "# possible combinations of the two buckets.\n",
    "\n",
    "for x in range(1001):\n",
    "    if (buck1 * x) > buck3:\n",
    "        break\n",
    "    for y in range(1001):\n",
    "        current = (buck1 * x) + (buck2 * y)\n",
    "        if current > buck3:\n",
    "            break\n",
    "        ans = max(ans, current)\n",
    "        \n",
    "print(ans)"
   ]
  }
 ],
 "metadata": {
  "kernelspec": {
   "display_name": "Python 3",
   "language": "python",
   "name": "python3"
  },
  "language_info": {
   "codemirror_mode": {
    "name": "ipython",
    "version": 3
   },
   "file_extension": ".py",
   "mimetype": "text/x-python",
   "name": "python",
   "nbconvert_exporter": "python",
   "pygments_lexer": "ipython3",
   "version": "3.9.7"
  }
 },
 "nbformat": 4,
 "nbformat_minor": 5
}
