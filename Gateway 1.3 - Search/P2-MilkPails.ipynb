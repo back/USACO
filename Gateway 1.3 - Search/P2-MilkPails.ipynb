{
 "cells": [
  {
   "cell_type": "markdown",
   "id": "5520c2dc-9d45-449c-ac9c-9c0b53c7d3f5",
   "metadata": {},
   "source": [
    "# Milk Pails\n",
    "> http://www.usaco.org/index.php?page=viewproblem2&cpid=615\n",
    "### Brutal Force Complete Search\n",
    "- Double loop for all combinations of Xs and Ys..."
   ]
  },
  {
   "cell_type": "code",
   "execution_count": 1,
   "id": "de73321d-7eaf-46e3-af47-e2b1fe07370b",
   "metadata": {},
   "outputs": [
    {
     "name": "stdout",
     "output_type": "stream",
     "text": [
      "76\n"
     ]
    }
   ],
   "source": [
    "x, y, m = 17, 25, 77\n",
    "\n",
    "ans = 0\n",
    "\n",
    "for i in range(1001):\n",
    "    if (i * x) > m:\n",
    "        break\n",
    "    for j in range(1001):\n",
    "        current = (i * x) + (j * y)\n",
    "        if current > m:\n",
    "            break\n",
    "        ans = max(ans, current)\n",
    "        \n",
    "print(ans)"
   ]
  }
 ],
 "metadata": {
  "kernelspec": {
   "display_name": "Python 3",
   "language": "python",
   "name": "python3"
  },
  "language_info": {
   "codemirror_mode": {
    "name": "ipython",
    "version": 3
   },
   "file_extension": ".py",
   "mimetype": "text/x-python",
   "name": "python",
   "nbconvert_exporter": "python",
   "pygments_lexer": "ipython3",
   "version": "3.9.7"
  }
 },
 "nbformat": 4,
 "nbformat_minor": 5
}
