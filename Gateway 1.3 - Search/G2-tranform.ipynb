{
 "cells": [
  {
   "cell_type": "markdown",
   "metadata": {},
   "source": [
    "# Section 1.3 - Transformations\n",
    "---\n",
    "## How to rotate a matrix\n",
    "\n",
    "- [Rotate Image](https://leetcode.com/problems/rotate-image/) (A LeetCode practice)"
   ]
  },
  {
   "cell_type": "code",
   "execution_count": 3,
   "metadata": {},
   "outputs": [
    {
     "name": "stdout",
     "output_type": "stream",
     "text": [
      "[77, 49, 42, 54, 75, 62, 56, 21, 53, 95]\n",
      "[76, 36, 27, 40, 83, 41, 89, 95, 84, 84]\n",
      "[34, 66, 73, 73, 60, 59, 91, 77, 16, 33]\n",
      "[11, 30, 10, 62, 99, 49, 27, 90, 82, 42]\n",
      "[84, 63, 63, 63, 34, 56, 18, 87, 82, 40]\n",
      "[95, 75, 22, 62, 24, 19, 16, 73, 95, 45]\n",
      "[15, 57, 30, 76, 27, 58, 72, 93, 26, 81]\n",
      "[81, 33, 36, 77, 28, 22, 65, 22, 33, 93]\n",
      "[33, 55, 76, 26, 13, 98, 12, 68, 86, 89]\n",
      "[45, 76, 88, 95, 14, 25, 63, 81, 13, 96]\n"
     ]
    }
   ],
   "source": [
    "n   = 10\n",
    "mtx = [[randint(10,99) for _ in range(n)] for _ in range(n)]\n",
    "for row in mtx:\n",
    "    print(row)"
   ]
  },
  {
   "cell_type": "code",
   "execution_count": 5,
   "metadata": {},
   "outputs": [
    {
     "name": "stdout",
     "output_type": "stream",
     "text": [
      "[45, 33, 81, 15, 95, 84, 11, 34, 76, 77]\n",
      "[76, 55, 33, 57, 75, 63, 30, 66, 36, 49]\n",
      "[88, 76, 36, 30, 22, 63, 10, 73, 27, 42]\n",
      "[95, 26, 77, 76, 62, 63, 62, 73, 40, 54]\n",
      "[14, 13, 28, 27, 24, 34, 99, 60, 83, 75]\n",
      "[25, 98, 22, 58, 19, 56, 49, 59, 41, 62]\n",
      "[63, 12, 65, 72, 16, 18, 27, 91, 89, 56]\n",
      "[81, 68, 22, 93, 73, 87, 90, 77, 95, 21]\n",
      "[13, 86, 33, 26, 95, 82, 82, 16, 84, 53]\n",
      "[96, 89, 93, 81, 45, 40, 42, 33, 84, 95]\n"
     ]
    }
   ],
   "source": [
    "tgt = [[0 for _ in range(n)] for _ in range(n)]\n",
    "\n",
    "for i in range(n):\n",
    "    for j in range(n):\n",
    "        #tgt[i][j] = mtx[n-j-1][i]\n",
    "        tgt[i][j] = mtx[n-i-1][n-j-1]\n",
    "        #tgt[i][j] = mtx[j][n-i-1]\n",
    "        #tgt[i][j] = mtx[i][n-j-1]\n",
    "        \n",
    "for row in tgt:\n",
    "    print(row)"
   ]
  }
 ],
 "metadata": {
  "kernelspec": {
   "display_name": "Python 3",
   "language": "python",
   "name": "python3"
  },
  "language_info": {
   "codemirror_mode": {
    "name": "ipython",
    "version": 3
   },
   "file_extension": ".py",
   "mimetype": "text/x-python",
   "name": "python",
   "nbconvert_exporter": "python",
   "pygments_lexer": "ipython3",
   "version": "3.9.7"
  }
 },
 "nbformat": 4,
 "nbformat_minor": 4
}
