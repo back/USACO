{
 "cells": [
  {
   "cell_type": "markdown",
   "id": "1986a929-8aaa-4f4f-9648-5e9212f8dde2",
   "metadata": {},
   "source": [
    "# 3 Sum\n",
    "- https://leetcode.com/problems/3sum/"
   ]
  },
  {
   "cell_type": "code",
   "execution_count": 1,
   "id": "86b2bcb8-e1df-4dd5-8495-997828ecd377",
   "metadata": {},
   "outputs": [],
   "source": [
    "nums = [-1,0,1,2,-1,-4]"
   ]
  },
  {
   "cell_type": "code",
   "execution_count": 4,
   "id": "3e027c6e-c2f4-470b-8cd7-512a1e35ff84",
   "metadata": {},
   "outputs": [
    {
     "name": "stdout",
     "output_type": "stream",
     "text": [
      "[[-1, -1, 2], [-1, 0, 1]]\n"
     ]
    }
   ],
   "source": [
    "nums.sort()\n",
    "N = len(nums)\n",
    "answer = []\n",
    "\n",
    "for i in range(N):\n",
    "    if i > 0 and nums[i] == nums[i-1]:\n",
    "        continue\n",
    "    target = -nums[i]\n",
    "    j, k = i+1, N-1\n",
    "    while j<k:\n",
    "        if nums[j] + nums[k] == target:\n",
    "            answer.append([nums[i], nums[j], nums[k]])\n",
    "            j+=1\n",
    "            while j<k and nums[j] == nums[j-1]:\n",
    "                j+=1\n",
    "        elif nums[j] + nums[k] < target:\n",
    "            j+=1\n",
    "        else:\n",
    "            k-=1\n",
    "\n",
    "print(answer)"
   ]
  }
 ],
 "metadata": {
  "kernelspec": {
   "display_name": "Python 3",
   "language": "python",
   "name": "python3"
  },
  "language_info": {
   "codemirror_mode": {
    "name": "ipython",
    "version": 3
   },
   "file_extension": ".py",
   "mimetype": "text/x-python",
   "name": "python",
   "nbconvert_exporter": "python",
   "pygments_lexer": "ipython3",
   "version": "3.9.7"
  }
 },
 "nbformat": 4,
 "nbformat_minor": 5
}
