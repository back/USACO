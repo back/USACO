{
 "cells": [
  {
   "cell_type": "markdown",
   "id": "b138d02b",
   "metadata": {},
   "source": [
    "# Section 3.1 - [Agri-Net](https://train.usaco.org)\n",
    "\n",
    "### Read Inputs"
   ]
  },
  {
   "cell_type": "code",
   "execution_count": 30,
   "id": "46c3aade",
   "metadata": {},
   "outputs": [
    {
     "name": "stdout",
     "output_type": "stream",
     "text": [
      "[0, 4, 9, 21]\n",
      "[4, 0, 8, 17]\n",
      "[9, 8, 0, 16]\n",
      "[21, 17, 16, 0]\n"
     ]
    }
   ],
   "source": [
    "fin=StringIO('''4\n",
    "0 4 9 21\n",
    "4 0 8 17\n",
    "9 8 0 16\n",
    "21 17 16 0\n",
    "''')\n",
    "\n",
    "n = int(fin.readline().strip())\n",
    "m = [list(map(int, line.split())) for line in fin.readlines()]\n",
    "for row in m:\n",
    "    print(row)"
   ]
  },
  {
   "cell_type": "markdown",
   "id": "91b57183",
   "metadata": {},
   "source": [
    "### Prim's Algorithm"
   ]
  },
  {
   "cell_type": "code",
   "execution_count": 31,
   "id": "61c626ff",
   "metadata": {},
   "outputs": [
    {
     "name": "stdout",
     "output_type": "stream",
     "text": [
      "1 4 4\n",
      "2 8 12\n",
      "3 16 28\n"
     ]
    }
   ],
   "source": [
    "shortPath = 0\n",
    "connected = {0}\n",
    "\n",
    "while len(connected) < n:\n",
    "    minCol = 0\n",
    "    minPath = 0\n",
    "    for row in connected:\n",
    "        for col in range(n): # for col in NOT_Connected...\n",
    "            if m[row][col] == 0 or col in connected:\n",
    "                continue\n",
    "            if minPath == 0 or m[row][col] < minPath:\n",
    "                minPath = m[row][col]\n",
    "                minCol = col\n",
    "\n",
    "    connected.add(minCol)\n",
    "    shortPath += minPath\n",
    "    \n",
    "    print(minCol, minPath, shortPath)"
   ]
  }
 ],
 "metadata": {
  "kernelspec": {
   "display_name": "Python 3 (ipykernel)",
   "language": "python",
   "name": "python3"
  },
  "language_info": {
   "codemirror_mode": {
    "name": "ipython",
    "version": 3
   },
   "file_extension": ".py",
   "mimetype": "text/x-python",
   "name": "python",
   "nbconvert_exporter": "python",
   "pygments_lexer": "ipython3",
   "version": "3.9.7"
  }
 },
 "nbformat": 4,
 "nbformat_minor": 5
}
