{
 "cells": [
  {
   "cell_type": "markdown",
   "id": "7fdfb9b5",
   "metadata": {},
   "source": [
    "# Road Reparation\n",
    "- https://cses.fi/problemset/task/1675\n",
    "\n",
    "### Read Inputs"
   ]
  },
  {
   "cell_type": "code",
   "execution_count": 130,
   "id": "d6fe887d",
   "metadata": {},
   "outputs": [
    {
     "name": "stdout",
     "output_type": "stream",
     "text": [
      "5 6\n"
     ]
    }
   ],
   "source": [
    "fin = StringIO('''5 6\n",
    "1 2 3\n",
    "2 3 5\n",
    "2 4 2\n",
    "3 4 8\n",
    "5 1 7\n",
    "5 4 4\n",
    "''')\n",
    "\n",
    "n, m = map(int, fin.readline().split())\n",
    "print(n, m)"
   ]
  },
  {
   "cell_type": "markdown",
   "id": "2e58af31",
   "metadata": {},
   "source": [
    "### Kruskal Algorithm\n",
    "#### Read the edges into edge list\n",
    "- Sort the list by each edge's weight"
   ]
  },
  {
   "cell_type": "code",
   "execution_count": 131,
   "id": "ee26e280",
   "metadata": {},
   "outputs": [
    {
     "name": "stdout",
     "output_type": "stream",
     "text": [
      "[2, 4, 2]\n",
      "[1, 2, 3]\n",
      "[5, 4, 4]\n",
      "[2, 3, 5]\n",
      "[5, 1, 7]\n",
      "[3, 4, 8]\n"
     ]
    }
   ],
   "source": [
    "edges = [list(map(int, line.split())) for line in fin.readlines()]\n",
    "edges.sort(key=lambda x:x[2])\n",
    "for e in edges:\n",
    "    print(e)"
   ]
  },
  {
   "cell_type": "markdown",
   "id": "3758b666",
   "metadata": {},
   "source": [
    "#### Define two utility functions"
   ]
  },
  {
   "cell_type": "code",
   "execution_count": 132,
   "id": "1cec8c10",
   "metadata": {},
   "outputs": [],
   "source": [
    "dist = 0\n",
    "tree = []       # List of List: holding groups of nodes connected together so far...\n",
    "\n",
    "#[  [1,2] , [6,8,10,20],  [11,23,45,53]      ]\n",
    "\n",
    "def find(x):\n",
    "    for i, s in enumerate(tree):\n",
    "        if x in s:\n",
    "            return i\n",
    "    tree.append([x])\n",
    "    return len(tree)-1\n",
    "\n",
    "def merge(i, j):\n",
    "    tree[i].extend(tree[j])\n",
    "    tree.pop(j)"
   ]
  },
  {
   "cell_type": "markdown",
   "id": "4681b43c",
   "metadata": {},
   "source": [
    "#### Then start from the lightest/shortest edges"
   ]
  },
  {
   "cell_type": "code",
   "execution_count": 133,
   "id": "1ddb03b8",
   "metadata": {},
   "outputs": [
    {
     "name": "stdout",
     "output_type": "stream",
     "text": [
      "2 4 2 [[2, 4]] 2\n",
      "1 2 3 [[1, 2, 4]] 5\n",
      "5 4 4 [[5, 1, 2, 4]] 9\n",
      "2 3 5 [[5, 1, 2, 4, 3]] 14\n",
      "5 1 7 [[5, 1, 2, 4, 3]] 14\n",
      "3 4 8 [[5, 1, 2, 4, 3]] 14\n"
     ]
    }
   ],
   "source": [
    "for a,b,c in edges:\n",
    "    i = find(a)\n",
    "    j = find(b)\n",
    "    if i != j:\n",
    "        dist += c\n",
    "        merge(i, j)\n",
    "    print(a, b, c, tree, dist)"
   ]
  },
  {
   "cell_type": "markdown",
   "id": "58ef7f8a",
   "metadata": {},
   "source": [
    "#### Don't forget to check if all nodes are linked"
   ]
  },
  {
   "cell_type": "code",
   "execution_count": 125,
   "id": "0711c717",
   "metadata": {},
   "outputs": [
    {
     "name": "stdout",
     "output_type": "stream",
     "text": [
      "True\n"
     ]
    }
   ],
   "source": [
    "print(len(tree)==1)"
   ]
  }
 ],
 "metadata": {
  "kernelspec": {
   "display_name": "Python 3 (ipykernel)",
   "language": "python",
   "name": "python3"
  },
  "language_info": {
   "codemirror_mode": {
    "name": "ipython",
    "version": 3
   },
   "file_extension": ".py",
   "mimetype": "text/x-python",
   "name": "python",
   "nbconvert_exporter": "python",
   "pygments_lexer": "ipython3",
   "version": "3.9.7"
  }
 },
 "nbformat": 4,
 "nbformat_minor": 5
}
