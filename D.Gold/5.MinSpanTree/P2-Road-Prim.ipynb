{
 "cells": [
  {
   "cell_type": "markdown",
   "id": "cfbc4a31",
   "metadata": {},
   "source": [
    "# Road Reparation\n",
    "- https://cses.fi/problemset/task/1675\n",
    "\n",
    "### Read Inputs"
   ]
  },
  {
   "cell_type": "code",
   "execution_count": 1,
   "id": "10624ed2",
   "metadata": {},
   "outputs": [
    {
     "name": "stdout",
     "output_type": "stream",
     "text": [
      "5 6\n"
     ]
    }
   ],
   "source": [
    "fin = StringIO('''5 6\n",
    "1 2 3\n",
    "2 3 5\n",
    "2 4 2\n",
    "3 4 8\n",
    "5 1 7\n",
    "5 4 4\n",
    "''')\n",
    "\n",
    "n, m = map(int, fin.readline().split())\n",
    "print(n, m)"
   ]
  },
  {
   "cell_type": "markdown",
   "id": "27e83684",
   "metadata": {},
   "source": [
    "### Prim Algorithm\n",
    "#### Read edges into an ajacent list\n",
    "- Ajacent structure: (distance, to_node)"
   ]
  },
  {
   "cell_type": "code",
   "execution_count": 2,
   "id": "4feb58bc",
   "metadata": {},
   "outputs": [
    {
     "name": "stdout",
     "output_type": "stream",
     "text": [
      "{1: [(3, 2), (7, 5)],\n",
      " 2: [(3, 1), (5, 3), (2, 4)],\n",
      " 3: [(5, 2), (8, 4)],\n",
      " 4: [(2, 2), (8, 3), (4, 5)],\n",
      " 5: [(7, 1), (4, 4)]}\n"
     ]
    }
   ],
   "source": [
    "tree = {}\n",
    "for line in fin.readlines():\n",
    "    a,b,c = map(int, line.split())\n",
    "    if a in tree:\n",
    "        tree[a].append((c,b))\n",
    "    else:\n",
    "        tree[a] = [(c,b)]\n",
    "    if b in tree:\n",
    "        tree[b].append((c,a))\n",
    "    else:\n",
    "        tree[b] = [(c,a)]\n",
    "pp(tree)"
   ]
  },
  {
   "cell_type": "markdown",
   "id": "3929a3a4",
   "metadata": {},
   "source": [
    "#### Define a utility function"
   ]
  },
  {
   "cell_type": "code",
   "execution_count": 3,
   "id": "5195036f",
   "metadata": {},
   "outputs": [],
   "source": [
    "def process(i):\n",
    "    taken[i] = 1\n",
    "    if i in tree:\n",
    "        for di, toi in tree[i]:\n",
    "            if not taken[toi]:\n",
    "                q.append((di, toi))\n",
    "    q.sort()\n",
    "    print(q, taken, dist)   "
   ]
  },
  {
   "cell_type": "markdown",
   "id": "0572eb01",
   "metadata": {},
   "source": [
    "#### Initialize\n",
    "  - a total distance\n",
    "  - a taken array for monitoring linked vertex\n",
    "  - a working queue (priority simulated by sort)"
   ]
  },
  {
   "cell_type": "code",
   "execution_count": 8,
   "id": "a7a0a516",
   "metadata": {},
   "outputs": [
    {
     "name": "stdout",
     "output_type": "stream",
     "text": [
      "[0, 0, 0, 0, 0, 0]\n"
     ]
    }
   ],
   "source": [
    "dist = 0\n",
    "taken = [0] * (n+1)\n",
    "q=[]\n",
    "\n",
    "print (taken)"
   ]
  },
  {
   "cell_type": "markdown",
   "id": "c55812a7",
   "metadata": {},
   "source": [
    "#### Now start the algorithm"
   ]
  },
  {
   "cell_type": "code",
   "execution_count": 5,
   "id": "b904b3e8",
   "metadata": {},
   "outputs": [
    {
     "name": "stdout",
     "output_type": "stream",
     "text": [
      "[(3, 2), (7, 5)] [0, 1, 0, 0, 0, 0] 0\n",
      "[(2, 4), (5, 3), (7, 5)] [0, 1, 1, 0, 0, 0] 3\n",
      "[(4, 5), (5, 3), (7, 5), (8, 3)] [0, 1, 1, 0, 1, 0] 5\n",
      "[(5, 3), (7, 5), (8, 3)] [0, 1, 1, 0, 1, 1] 9\n",
      "[(7, 5), (8, 3)] [0, 1, 1, 1, 1, 1] 14\n"
     ]
    }
   ],
   "source": [
    "process(1) \n",
    "while q:\n",
    "    d, to = q.pop(0)\n",
    "    if not taken[to]:\n",
    "        dist += d\n",
    "        process(to)"
   ]
  },
  {
   "cell_type": "markdown",
   "id": "b6d50533",
   "metadata": {},
   "source": [
    "#### Don't forget to check if all nodes are linked"
   ]
  },
  {
   "cell_type": "code",
   "execution_count": 6,
   "id": "16bcfd2d",
   "metadata": {},
   "outputs": [
    {
     "name": "stdout",
     "output_type": "stream",
     "text": [
      "True\n"
     ]
    }
   ],
   "source": [
    "print (all(taken[1:]))"
   ]
  }
 ],
 "metadata": {
  "kernelspec": {
   "display_name": "Python 3 (ipykernel)",
   "language": "python",
   "name": "python3"
  },
  "language_info": {
   "codemirror_mode": {
    "name": "ipython",
    "version": 3
   },
   "file_extension": ".py",
   "mimetype": "text/x-python",
   "name": "python",
   "nbconvert_exporter": "python",
   "pygments_lexer": "ipython3",
   "version": "3.9.7"
  }
 },
 "nbformat": 4,
 "nbformat_minor": 5
}
