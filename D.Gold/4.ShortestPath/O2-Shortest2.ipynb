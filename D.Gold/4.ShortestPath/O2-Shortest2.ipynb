{
 "cells": [
  {
   "cell_type": "markdown",
   "id": "63553cf5",
   "metadata": {},
   "source": [
    "# Shortest Path - II\n",
    "\n",
    "- https://cses.fi/problemset/task/1672\n",
    "\n",
    "### Floyd-Warshall Algorithm\n",
    "https://en.wikipedia.org/wiki/Floyd%E2%80%93Warshall_algorithm\n",
    "\n",
    "### Read Inputs"
   ]
  },
  {
   "cell_type": "code",
   "execution_count": 8,
   "id": "bcbdb98b",
   "metadata": {},
   "outputs": [
    {
     "name": "stdout",
     "output_type": "stream",
     "text": [
      "[[-1, -1, -1, -1, -1],\n",
      " [-1, 0, 5, 9, -1],\n",
      " [-1, 5, 0, 3, -1],\n",
      " [-1, 9, 3, 0, -1],\n",
      " [-1, -1, -1, -1, 0]]\n"
     ]
    }
   ],
   "source": [
    "fin = StringIO('''4 3 5\n",
    "1 2 5\n",
    "1 3 9\n",
    "2 3 3\n",
    "1 2\n",
    "2 1\n",
    "1 3\n",
    "1 4\n",
    "3 2\n",
    "''')\n",
    "\n",
    "# cities, roads, queries\n",
    "n, m, q = map(int, fin.readline().split())\n",
    "g = [[-1] * (n+1) for _ in range(n+1)]\n",
    "for i in range(1,n+1):\n",
    "    g[i][i] = 0\n",
    "for _ in range(m):\n",
    "    a,b,c = map(int, fin.readline().split())\n",
    "    g[a][b] = g[b][a] = c\n",
    "pp(g)"
   ]
  },
  {
   "cell_type": "markdown",
   "id": "8027bb04",
   "metadata": {},
   "source": [
    "### Floyd-Warshall Algorithm"
   ]
  },
  {
   "cell_type": "code",
   "execution_count": 9,
   "id": "b902c01c",
   "metadata": {},
   "outputs": [
    {
     "name": "stdout",
     "output_type": "stream",
     "text": [
      "[[-1, -1, -1, -1, -1],\n",
      " [-1, 0, 5, 8, -1],\n",
      " [-1, 5, 0, 3, -1],\n",
      " [-1, 8, 3, 0, -1],\n",
      " [-1, -1, -1, -1, 0]]\n"
     ]
    }
   ],
   "source": [
    "for k in range(1, n+1):\n",
    "    for i in range(1, n+1):\n",
    "        for j in range(1, n+1):\n",
    "            if g[i][k] >= 0 and g[k][j] >= 0:\n",
    "                x = g[i][k] + g[k][j]\n",
    "                if g[i][j] < 0 or g[i][j] > x: # -1 means infinite\n",
    "                    g[i][j] = g[j][i] = x         \n",
    "pp(g)"
   ]
  },
  {
   "cell_type": "markdown",
   "id": "a63c5176",
   "metadata": {},
   "source": [
    "### Print Results for Each Queries"
   ]
  },
  {
   "cell_type": "code",
   "execution_count": 10,
   "id": "17c3b6f6",
   "metadata": {},
   "outputs": [
    {
     "name": "stdout",
     "output_type": "stream",
     "text": [
      "5\n",
      "5\n",
      "8\n",
      "-1\n",
      "3\n"
     ]
    }
   ],
   "source": [
    "for _ in range(q):\n",
    "    a,b = map(int, fin.readline().split())\n",
    "    print(g[a][b])"
   ]
  },
  {
   "cell_type": "markdown",
   "id": "64058fcb",
   "metadata": {
    "jupyter": {
     "source_hidden": true
    }
   },
   "source": [
    "## Java Implementation\n",
    "```Java\n",
    "\tpublic static void main(String[] args) {\n",
    "\t\tKattio io = new Kattio();\n",
    "\n",
    "\t\tint n = io.nextInt(), m = io.nextInt(), q = io.nextInt();\n",
    "\n",
    "\t\tlong[][] mat = new long[n][n];\n",
    "\t\tlong INF = (long)1e18;\n",
    "\n",
    "\t\tfor(long[] row : mat) {\n",
    "\t\t\tArrays.fill(row, INF);\n",
    "\t\t}\n",
    "\n",
    "\t\tfor (int i = 0; i < m; i++) {\n",
    "\t\t\tint u = io.nextInt(), v = io.nextInt(), w = io.nextInt();\n",
    "\t\t\tu--; v--;\n",
    "\t\t\tif (w < mat[u][v]) mat[u][v] = mat[v][u] = w;\n",
    "\t\t}\n",
    "\n",
    "\t\t// floyd-warshall\n",
    "\t\tfor (int k = 0; k < n; k++)\n",
    "\t\t\tfor (int i = 0; i < n; i++)\n",
    "\t\t\t\tfor (int j = i + 1; j < n; j++)\n",
    "\t\t\t\t\tif (mat[i][k] + mat[k][j] < mat[i][j])\n",
    "\t\t\t\t\t\tmat[i][j] = mat[j][i] = mat[i][k] + mat[k][j];\n",
    "\n",
    "\t\twhile (q-- > 0) {\n",
    "\t\t\tint u = io.nextInt(), v = io.nextInt();\n",
    "\t\t\tu--; v--;\n",
    "\t\t\tif (u == v) mat[u][v] = 0;\n",
    "\t\t\tif (mat[u][v] == INF) mat[u][v] = -1;\n",
    "\t\t\tio.println(mat[u][v]);\n",
    "\t\t}\n",
    "\n",
    "\t\tio.close();\n",
    "\t}\n",
    "```"
   ]
  }
 ],
 "metadata": {
  "kernelspec": {
   "display_name": "Python 3 (ipykernel)",
   "language": "python",
   "name": "python3"
  },
  "language_info": {
   "codemirror_mode": {
    "name": "ipython",
    "version": 3
   },
   "file_extension": ".py",
   "mimetype": "text/x-python",
   "name": "python",
   "nbconvert_exporter": "python",
   "pygments_lexer": "ipython3",
   "version": "3.9.7"
  }
 },
 "nbformat": 4,
 "nbformat_minor": 5
}
