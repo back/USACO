{
 "cells": [
  {
   "cell_type": "markdown",
   "id": "ffc68fc8",
   "metadata": {},
   "source": [
    "# Shortest Path with Non-Negative Edge Weights\n",
    "\n",
    "### Bellman-Ford\n",
    "- [Competitive Programmer's Handbook](https://usaco.guide/CPH.pdf#page=133)\n",
    "\n",
    "### Dijkstra\n",
    "- [CP-Algorithms](https://cp-algorithms.com/graph/dijkstra.html)\n",
    "- [CPH](https://usaco.guide/CPH.pdf#page=136)\n",
    "- [CPC](https://github.com/SuprDewd/T-414-AFLV/tree/master/08_graphs_2)\n",
    "- [CP2](https://usaco.guide/CP2.pdf#page=107)\n",
    "\n",
    "### Floyd-Warshall (\\*)\n",
    "- [Competitive Programmer's Handbook](https://usaco.guide/CPH.pdf#page=139)\n",
    "- [CP-Algorithms](https://cp-algorithms.com/graph/all-pair-shortest-path-floyd-warshall.html)\n",
    "- [PAPS](https://usaco.guide/PAPS.pdf#page=227)\n",
    "- [CP2](https://usaco.guide/CP2.pdf#page=112)\n",
    "\n",
    "### Sample Exercises\n",
    "- [Shortest Routes I](https://cses.fi/problemset/task/1671)\n",
    "- [Shortest Routes II](https://cses.fi/problemset/task/1672)\n",
    "\n",
    "### Problems\n",
    "- [Flight Discount](https://cses.fi/problemset/task/1195)\n",
    "- [Milk Pumping](http://www.usaco.org/index.php?page=viewproblem2&cpid=969)\n",
    "- [Why Did the Cow Cross the Road](http://www.usaco.org/index.php?page=viewproblem2&cpid=717)\n",
    "- [Fine Dining](http://www.usaco.org/index.php?page=viewproblem2&cpid=861)\n",
    "- [Shortcut](http://www.usaco.org/index.php?page=viewproblem2&cpid=899)\n",
    "- [Investigation](https://cses.fi/problemset/task/1202)\n"
   ]
  }
 ],
 "metadata": {
  "kernelspec": {
   "display_name": "Python 3 (ipykernel)",
   "language": "python",
   "name": "python3"
  },
  "language_info": {
   "codemirror_mode": {
    "name": "ipython",
    "version": 3
   },
   "file_extension": ".py",
   "mimetype": "text/x-python",
   "name": "python",
   "nbconvert_exporter": "python",
   "pygments_lexer": "ipython3",
   "version": "3.9.7"
  }
 },
 "nbformat": 4,
 "nbformat_minor": 5
}
