{
 "cells": [
  {
   "cell_type": "markdown",
   "id": "b07077e2",
   "metadata": {},
   "source": [
    "# 0-1 Knapsack Problem\n",
    "\n",
    "- Each item could be used only once.\n",
    "\n",
    "### Standard Inputs"
   ]
  },
  {
   "cell_type": "code",
   "execution_count": 39,
   "id": "47fa8ffc",
   "metadata": {},
   "outputs": [],
   "source": [
    "weight = [  8,  7,  3,  1, 2,  4 ]\n",
    "value  = [ 15, 15, 10, 20, 5, 25 ]    # if using 2-d array: wv[i][0], wv[i][1]\n",
    "W      = 10"
   ]
  },
  {
   "cell_type": "markdown",
   "id": "036da944",
   "metadata": {},
   "source": [
    "### Standard Output \n",
    "- Max value achieved withint the weight limit (W=10)\n",
    "- In this case, the answer is:\n",
    "\n",
    "> total weight = 1  + 8  = 9  < W \n",
    "> <br/>total value  = 20 + 40 = 60\n",
    "\n",
    "### DP: STE (State Transition Equition)\n",
    "$$\n",
    "V_{i, w} = max( V_{i-1, w}, V_{i-1, w-weight_i} + value_i )\n",
    "$$\n",
    "\n",
    "### Prepare the DP array"
   ]
  },
  {
   "cell_type": "code",
   "execution_count": 40,
   "id": "848cadce",
   "metadata": {},
   "outputs": [
    {
     "name": "stdout",
     "output_type": "stream",
     "text": [
      "[[0, 0, 0, 0, 0, 0, 0, 0, 0, 0, 0],\n",
      " [0, 0, 0, 0, 0, 0, 0, 0, 0, 0, 0],\n",
      " [0, 0, 0, 0, 0, 0, 0, 0, 0, 0, 0],\n",
      " [0, 0, 0, 0, 0, 0, 0, 0, 0, 0, 0],\n",
      " [0, 0, 0, 0, 0, 0, 0, 0, 0, 0, 0],\n",
      " [0, 0, 0, 0, 0, 0, 0, 0, 0, 0, 0]]\n"
     ]
    }
   ],
   "source": [
    "dp=[ [0]*(W+1) for _ in range(len(value)) ]\n",
    "pp(dp)"
   ]
  },
  {
   "cell_type": "markdown",
   "id": "9550cdb8",
   "metadata": {},
   "source": [
    "### Initialization\n",
    "- Put first item solutions"
   ]
  },
  {
   "cell_type": "code",
   "execution_count": 41,
   "id": "d6c8dab3",
   "metadata": {},
   "outputs": [
    {
     "name": "stdout",
     "output_type": "stream",
     "text": [
      "[[0, 0, 0, 0, 0, 0, 0, 0, 15, 15, 15],\n",
      " [0, 0, 0, 0, 0, 0, 0, 0, 0, 0, 0],\n",
      " [0, 0, 0, 0, 0, 0, 0, 0, 0, 0, 0],\n",
      " [0, 0, 0, 0, 0, 0, 0, 0, 0, 0, 0],\n",
      " [0, 0, 0, 0, 0, 0, 0, 0, 0, 0, 0],\n",
      " [0, 0, 0, 0, 0, 0, 0, 0, 0, 0, 0]]\n"
     ]
    }
   ],
   "source": [
    "for col in range(weight[0],W+1):\n",
    "    dp[0][col]=value[0]\n",
    "pp(dp)"
   ]
  },
  {
   "cell_type": "markdown",
   "id": "e3b34c03",
   "metadata": {},
   "source": [
    "### Now do the DP"
   ]
  },
  {
   "cell_type": "code",
   "execution_count": 42,
   "id": "aaeb78da",
   "metadata": {},
   "outputs": [
    {
     "name": "stdout",
     "output_type": "stream",
     "text": [
      "[[0, 0, 0, 0, 0, 0, 0, 0, 15, 15, 15],\n",
      " [0, 0, 0, 0, 0, 0, 0, 15, 15, 15, 15],\n",
      " [0, 0, 0, 10, 10, 10, 10, 15, 15, 15, 25],\n",
      " [0, 20, 20, 20, 30, 30, 30, 30, 35, 35, 35],\n",
      " [0, 20, 20, 25, 30, 30, 35, 35, 35, 35, 40],\n",
      " [0, 20, 20, 25, 30, 45, 45, 50, 55, 55, 60]]\n"
     ]
    }
   ],
   "source": [
    "for i in range(1, len(value)):      # item index, from 0 to 5...\n",
    "    for col in range(1, W+1):       # weight limit, from 1 to 10\n",
    "        if col < weight[i]:\n",
    "            dp[i][col] = dp[i-1][col]\n",
    "        else:\n",
    "            dp[i][col] = max( dp[i-1][col], dp[i-1][col-weight[i]] + value[i] )\n",
    "pp(dp)"
   ]
  },
  {
   "cell_type": "markdown",
   "id": "ac41d15c",
   "metadata": {},
   "source": [
    "### Output the Final Answer"
   ]
  },
  {
   "cell_type": "code",
   "execution_count": 43,
   "id": "a3ba4e57",
   "metadata": {},
   "outputs": [
    {
     "name": "stdout",
     "output_type": "stream",
     "text": [
      "60\n"
     ]
    }
   ],
   "source": [
    "print(dp[-1][-1])"
   ]
  },
  {
   "cell_type": "markdown",
   "id": "6fb6a330",
   "metadata": {},
   "source": [
    "### Array Compression"
   ]
  },
  {
   "cell_type": "code",
   "execution_count": 44,
   "id": "e60e7278",
   "metadata": {},
   "outputs": [
    {
     "name": "stdout",
     "output_type": "stream",
     "text": [
      "[0, 20, 20, 25, 30, 45, 45, 50, 55, 55, 60]\n"
     ]
    }
   ],
   "source": [
    "dp = [0]*(W+1)\n",
    "for i in range(len(value)):\n",
    "    for col in range(W,0,-1):\n",
    "        if col >= weight[i]:\n",
    "            dp[col] = max( dp[col], dp[col-weight[i]] + value[i] )\n",
    "pp(dp)"
   ]
  }
 ],
 "metadata": {
  "kernelspec": {
   "display_name": "Python 3 (ipykernel)",
   "language": "python",
   "name": "python3"
  },
  "language_info": {
   "codemirror_mode": {
    "name": "ipython",
    "version": 3
   },
   "file_extension": ".py",
   "mimetype": "text/x-python",
   "name": "python",
   "nbconvert_exporter": "python",
   "pygments_lexer": "ipython3",
   "version": "3.9.7"
  }
 },
 "nbformat": 4,
 "nbformat_minor": 5
}
