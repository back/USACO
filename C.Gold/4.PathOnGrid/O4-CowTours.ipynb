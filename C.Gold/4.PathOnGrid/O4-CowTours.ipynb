{
 "cells": [
  {
   "cell_type": "markdown",
   "metadata": {},
   "source": [
    "# Section 2.4 - Cow Tours\n",
    "### Read Inputs"
   ]
  },
  {
   "cell_type": "code",
   "execution_count": 1,
   "metadata": {},
   "outputs": [
    {
     "name": "stdout",
     "output_type": "stream",
     "text": [
      "[[10, 10], [15, 10], [20, 10], [15, 15], [20, 15], [30, 15], [25, 10], [30, 10]]\n",
      "[[0, 1, 0, 0, 0, 0, 0, 0],\n",
      " [1, 0, 1, 1, 1, 0, 0, 0],\n",
      " [0, 1, 0, 0, 1, 0, 0, 0],\n",
      " [0, 1, 0, 0, 1, 0, 0, 0],\n",
      " [0, 1, 1, 1, 0, 0, 0, 0],\n",
      " [0, 0, 0, 0, 0, 0, 1, 0],\n",
      " [0, 0, 0, 0, 0, 1, 0, 1],\n",
      " [0, 0, 0, 0, 0, 0, 1, 0]]\n"
     ]
    }
   ],
   "source": [
    "fin=StringIO('''8\n",
    "10 10\n",
    "15 10\n",
    "20 10\n",
    "15 15\n",
    "20 15\n",
    "30 15\n",
    "25 10\n",
    "30 10\n",
    "01000000\n",
    "10111000\n",
    "01001000\n",
    "01001000\n",
    "01110000\n",
    "00000010\n",
    "00000101\n",
    "00000010\n",
    "''')\n",
    "\n",
    "n = int(fin.readline().strip())\n",
    "d = fin.readlines()\n",
    "loc = [list(map(int,line.split())) for line in d[:n]]\n",
    "con = [[int(i) for i in line.strip()]  for line in d[n:]]\n",
    "\n",
    "pp(loc)\n",
    "pp(con)"
   ]
  },
  {
   "cell_type": "markdown",
   "metadata": {},
   "source": [
    "### Define a Helper Function for Distance"
   ]
  },
  {
   "cell_type": "code",
   "execution_count": 2,
   "metadata": {},
   "outputs": [],
   "source": [
    "from math import sqrt\n",
    "\n",
    "def geo_dis(x, y):\n",
    "    a = loc[x][0] - loc[y][0]\n",
    "    b = loc[x][1] - loc[y][1]\n",
    "    return sqrt( a*a + b*b )"
   ]
  },
  {
   "cell_type": "markdown",
   "metadata": {},
   "source": [
    "### Prepare Distance Matrix"
   ]
  },
  {
   "cell_type": "code",
   "execution_count": 10,
   "metadata": {},
   "outputs": [
    {
     "name": "stdout",
     "output_type": "stream",
     "text": [
      "[[0, 0, 0, 0, 0, 0, 0, 0],\n",
      " [0, 0, 0, 0, 0, 0, 0, 0],\n",
      " [0, 0, 0, 0, 0, 0, 0, 0],\n",
      " [0, 0, 0, 0, 0, 0, 0, 0],\n",
      " [0, 0, 0, 0, 0, 0, 0, 0],\n",
      " [0, 0, 0, 0, 0, 0, 0, 0],\n",
      " [0, 0, 0, 0, 0, 0, 0, 0],\n",
      " [0, 0, 0, 0, 0, 0, 0, 0]]\n"
     ]
    }
   ],
   "source": [
    "dis = [[0]*n for _ in range(n)]\n",
    "pp(dis)"
   ]
  },
  {
   "cell_type": "markdown",
   "metadata": {},
   "source": [
    "### Floyd-Warshall Algorithm\n",
    "https://en.wikipedia.org/wiki/Floyd%E2%80%93Warshall_algorithm"
   ]
  },
  {
   "cell_type": "code",
   "execution_count": 11,
   "metadata": {},
   "outputs": [
    {
     "name": "stdout",
     "output_type": "stream",
     "text": [
      "[[0, 5.0, -1, -1, -1, -1, -1, -1],\n",
      " [5.0, 0, 5.0, 5.0, 7.0710678118654755, -1, -1, -1],\n",
      " [-1, 5.0, 0, -1, 5.0, -1, -1, -1],\n",
      " [-1, 5.0, -1, 0, 5.0, -1, -1, -1],\n",
      " [-1, 7.0710678118654755, 5.0, 5.0, 0, -1, -1, -1],\n",
      " [-1, -1, -1, -1, -1, 0, 7.0710678118654755, -1],\n",
      " [-1, -1, -1, -1, -1, 7.0710678118654755, 0, 5.0],\n",
      " [-1, -1, -1, -1, -1, -1, 5.0, 0]]\n"
     ]
    }
   ],
   "source": [
    "for i in range(n-1):\n",
    "    for j in range(i+1,n):\n",
    "        dis[i][j] = dis[j][i] = geo_dis(i,j) if con[i][j] else -1 # -1 means infinite\n",
    "pp(dis)       "
   ]
  },
  {
   "cell_type": "code",
   "execution_count": 12,
   "metadata": {},
   "outputs": [
    {
     "name": "stdout",
     "output_type": "stream",
     "text": [
      "[[0, 5.0, 10.0, 10.0, 12.071067811865476, -1, -1, -1],\n",
      " [5.0, 0, 5.0, 5.0, 7.0710678118654755, -1, -1, -1],\n",
      " [10.0, 5.0, 0, 10.0, 5.0, -1, -1, -1],\n",
      " [10.0, 5.0, 10.0, 0, 5.0, -1, -1, -1],\n",
      " [12.071067811865476, 7.0710678118654755, 5.0, 5.0, 0, -1, -1, -1],\n",
      " [-1, -1, -1, -1, -1, 0, 7.0710678118654755, 12.071067811865476],\n",
      " [-1, -1, -1, -1, -1, 7.0710678118654755, 0, 5.0],\n",
      " [-1, -1, -1, -1, -1, 12.071067811865476, 5.0, 0]]\n"
     ]
    }
   ],
   "source": [
    "for k in range(n):\n",
    "    for i in range(n-1):\n",
    "        for j in range(i+1,n):\n",
    "            if dis[i][k] > 0 and dis[k][j] > 0:\n",
    "                x = dis[i][k] + dis[k][j]\n",
    "                if dis[i][j] < 0 or dis[i][j] > x: # -1 means infinite\n",
    "                    dis[i][j] = dis[j][i] = x\n",
    "\n",
    "pp(dis)"
   ]
  },
  {
   "cell_type": "code",
   "execution_count": 13,
   "metadata": {},
   "outputs": [
    {
     "name": "stdout",
     "output_type": "stream",
     "text": [
      "[12.071067811865476,\n",
      " 7.0710678118654755,\n",
      " 10.0,\n",
      " 10.0,\n",
      " 12.071067811865476,\n",
      " 12.071067811865476,\n",
      " 7.0710678118654755,\n",
      " 12.071067811865476]\n"
     ]
    }
   ],
   "source": [
    "max_dis = [max(row) for row in dis]\n",
    "pp(max_dis)"
   ]
  },
  {
   "cell_type": "code",
   "execution_count": 14,
   "metadata": {},
   "outputs": [
    {
     "name": "stdout",
     "output_type": "stream",
     "text": [
      "22.071067811865476\n"
     ]
    }
   ],
   "source": [
    "ans = min(geo_dis(i, j) + max_dis[i] + max_dis[j]\n",
    "            for i in range(n-1)       # These 3 conditions find:\n",
    "            for j in range(i+1, n)    # All combinations between\n",
    "            if dis[i][j] < 0)         # Unconnected nodes\n",
    "pp(ans)"
   ]
  },
  {
   "cell_type": "code",
   "execution_count": 15,
   "metadata": {},
   "outputs": [
    {
     "name": "stdout",
     "output_type": "stream",
     "text": [
      "22.071068\n",
      "\n"
     ]
    }
   ],
   "source": [
    "print('{:.6f}\\n'.format(max(ans, max(max_dis))))"
   ]
  }
 ],
 "metadata": {
  "kernelspec": {
   "display_name": "Python 3 (ipykernel)",
   "language": "python",
   "name": "python3"
  },
  "language_info": {
   "codemirror_mode": {
    "name": "ipython",
    "version": 3
   },
   "file_extension": ".py",
   "mimetype": "text/x-python",
   "name": "python",
   "nbconvert_exporter": "python",
   "pygments_lexer": "ipython3",
   "version": "3.9.7"
  }
 },
 "nbformat": 4,
 "nbformat_minor": 4
}
