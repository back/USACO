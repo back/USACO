{
 "cells": [
  {
   "cell_type": "markdown",
   "id": "c73221b1",
   "metadata": {},
   "source": [
    "# Unbounded Knapsack Problem\n",
    "\n",
    "- Each item could be used unlimited multiple times.\n",
    "\n",
    "### Standard Inputs"
   ]
  },
  {
   "cell_type": "code",
   "execution_count": 12,
   "id": "db56bb93",
   "metadata": {},
   "outputs": [],
   "source": [
    "weight = [ 2,  3,  8,  7,  4,  1 ]\n",
    "value  = [ 5, 10, 40, 15, 25, 20 ]\n",
    "W      = 10"
   ]
  },
  {
   "cell_type": "markdown",
   "id": "f2cf4047",
   "metadata": {},
   "source": [
    "### Standard Output \n",
    "- Max value achieved withint the weight limit (W=10)\n",
    "- In this case, the answer is:\n",
    "\n",
    "> total weight = 1 + 1 + 1 + 1 + 1 + 1 + 1 + 1 + 1 + 1 = 10 < W<br/>\n",
    "> total value  = 20 + 20 + 20 + 20 + 20 + 20 + 20 + 20 + 20 + 20 = 200\n",
    "\n",
    "### DP: STE (State Transition Equition)\n",
    "$$\n",
    "V_{i, w} = max( V_{i-1, w - k*weight_i} + k*value_i ) | 0 \\le k*weight_i \\le w\n",
    "$$\n",
    "\n",
    "---\n",
    "### Base Idea: Convert to KP-01\n",
    "- Convert each item to be multi-bundled items\n",
    "  - (3,10) => (3,10), (6,20), (9,30)\n",
    "\n",
    "### Simplification A: Remove Inefficient Items\n",
    "- Compare (3,10) with (7,15):\n",
    "    - Two (3,10) has more value than single (7,15) and still lighter than it, so (7,15) can be eliminated\n",
    "\n",
    "### Simplification B: Binary Group Items\n",
    "- Instead of adding: (1,20), (2,20), (3,20), (4,20), (5,20), (6,20), (7,20), (8,20), (9,20), (10,20)\n",
    "  - We can just using: (1,20), (2,40), (4,80), (8,160)\n",
    "\n",
    "---  \n",
    "### The Better Idea: DP Mode\n",
    "\n",
    "$$\n",
    "V_{i, w} = \\max\\limits_{k=1}^{w}( V_{i-1, w-weight_i} + value_i )\n",
    "$$"
   ]
  },
  {
   "cell_type": "code",
   "execution_count": 13,
   "id": "4f77393d",
   "metadata": {},
   "outputs": [
    {
     "name": "stdout",
     "output_type": "stream",
     "text": [
      "[0, 0, 0, 0, 0, 0, 0, 0, 0, 0, 0]\n"
     ]
    }
   ],
   "source": [
    "dp=[0]*(W+1)\n",
    "pp(dp)"
   ]
  },
  {
   "cell_type": "markdown",
   "id": "14a1cfb1",
   "metadata": {},
   "source": [
    "### No Need to Initialize, start DP immediately"
   ]
  },
  {
   "cell_type": "code",
   "execution_count": 15,
   "id": "6c5912c7",
   "metadata": {},
   "outputs": [
    {
     "name": "stdout",
     "output_type": "stream",
     "text": [
      "[0, 20, 40, 60, 80, 100, 120, 140, 160, 180, 200]\n"
     ]
    }
   ],
   "source": [
    "for i in range(len(value)):\n",
    "    for col in range(1, W+1):        \n",
    "        if col >= weight[i]:\n",
    "            dp[col] = max( dp[col], dp[col-weight[i]] + value[i] )\n",
    "pp(dp)"
   ]
  },
  {
   "cell_type": "markdown",
   "id": "ae2d16fe",
   "metadata": {},
   "source": [
    "### Output the Final Answer"
   ]
  },
  {
   "cell_type": "code",
   "execution_count": 16,
   "id": "a6b8ff66",
   "metadata": {},
   "outputs": [
    {
     "name": "stdout",
     "output_type": "stream",
     "text": [
      "200\n"
     ]
    }
   ],
   "source": [
    "print(dp[-1])"
   ]
  }
 ],
 "metadata": {
  "kernelspec": {
   "display_name": "Python 3 (ipykernel)",
   "language": "python",
   "name": "python3"
  },
  "language_info": {
   "codemirror_mode": {
    "name": "ipython",
    "version": 3
   },
   "file_extension": ".py",
   "mimetype": "text/x-python",
   "name": "python",
   "nbconvert_exporter": "python",
   "pygments_lexer": "ipython3",
   "version": "3.9.7"
  }
 },
 "nbformat": 4,
 "nbformat_minor": 5
}
