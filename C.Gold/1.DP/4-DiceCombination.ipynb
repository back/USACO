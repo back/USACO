{
 "cells": [
  {
   "cell_type": "markdown",
   "id": "529602e8",
   "metadata": {},
   "source": [
    "# Dice Combinations\n",
    "\n",
    "### Problem\n",
    "- [Dice Combinations](https://cses.fi/problemset/task/1633)\n",
    "\n",
    "### STE (State Transition Equation)\n",
    "$$ dp[x]= \\sum\\limits_{i=1}^{6} dp[x-i] $$\n",
    "\n",
    "### Read Inputs and Prepare DP array\n",
    "- Utilize 1-indexed array"
   ]
  },
  {
   "cell_type": "code",
   "execution_count": 19,
   "id": "d1ac45f0",
   "metadata": {},
   "outputs": [
    {
     "name": "stdout",
     "output_type": "stream",
     "text": [
      "[1, 0, 0, 0, 0, 0, 0, 0, 0, 0, 0, 0, 0, 0, 0, 0, 0, 0, 0, 0, 0, 0, 0, 0, 0, 0, 0, 0, 0, 0, 0, 0, 0, 0, 0, 0, 0, 0, 0, 0, 0, 0, 0, 0, 0, 0, 0, 0, 0, 0, 0]\n"
     ]
    }
   ],
   "source": [
    "n = 50\n",
    "\n",
    "dp = [0] * (n+1)\n",
    "dp[0] = 1\n",
    "print (dp)"
   ]
  },
  {
   "cell_type": "markdown",
   "id": "8ec6eb3b",
   "metadata": {},
   "source": [
    "### Now do the DP walks\n",
    "- Please note that Python performance is not fast enough to pass later test cases..."
   ]
  },
  {
   "cell_type": "code",
   "execution_count": 20,
   "id": "9d5f0e03",
   "metadata": {},
   "outputs": [
    {
     "name": "stdout",
     "output_type": "stream",
     "text": [
      "660641036\n"
     ]
    }
   ],
   "source": [
    "for i in range(1,n+1):\n",
    "    for j in range(i-6,i):\n",
    "        if j>=0:\n",
    "            dp[i]+=dp[j]\n",
    "    dp[i] %= 1000000007\n",
    "print(dp[n])"
   ]
  }
 ],
 "metadata": {
  "kernelspec": {
   "display_name": "Python 3",
   "language": "python",
   "name": "python3"
  },
  "language_info": {
   "codemirror_mode": {
    "name": "ipython",
    "version": 3
   },
   "file_extension": ".py",
   "mimetype": "text/x-python",
   "name": "python",
   "nbconvert_exporter": "python",
   "pygments_lexer": "ipython3",
   "version": "3.9.7"
  }
 },
 "nbformat": 4,
 "nbformat_minor": 5
}
