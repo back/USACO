{
 "cells": [
  {
   "cell_type": "markdown",
   "metadata": {},
   "source": [
    "# Section 1.4 - Ski Course Design\n",
    "---\n",
    "Read inputs\n",
    "---"
   ]
  },
  {
   "cell_type": "code",
   "execution_count": 5,
   "metadata": {},
   "outputs": [
    {
     "name": "stdout",
     "output_type": "stream",
     "text": [
      "5 [20, 4, 1, 24, 21]\n"
     ]
    }
   ],
   "source": [
    "fin=StringIO('''5\n",
    "20\n",
    "4\n",
    "1\n",
    "24\n",
    "21''')\n",
    "\n",
    "n = int(fin.readline())\n",
    "h = list(map(int, fin.readlines()))\n",
    "\n",
    "print(n, h)"
   ]
  },
  {
   "cell_type": "code",
   "execution_count": 6,
   "metadata": {},
   "outputs": [
    {
     "data": {
      "image/png": "[encoded data removed]",
      "text/plain": [
       "<Figure size 640x480 with 1 Axes>"
      ]
     },
     "metadata": {},
     "output_type": "display_data"
    }
   ],
   "source": [
    "import matplotlib.pyplot as plt\n",
    "import numpy as np\n",
    "\n",
    "plt.bar(np.arange(len(h)), h, align='center', alpha=0.5)\n",
    "plt.ylabel('Height')\n",
    "plt.title('Ski Course')\n",
    "\n",
    "plt.show()"
   ]
  },
  {
   "cell_type": "markdown",
   "metadata": {},
   "source": [
    "(1, 18)\n",
    "(2, 19)\n",
    "...\n",
    "(7, 24)"
   ]
  },
  {
   "cell_type": "markdown",
   "metadata": {},
   "source": [
    "---\n",
    "Calculate a single hill fixing cost\n",
    "---"
   ]
  },
  {
   "cell_type": "code",
   "execution_count": 8,
   "metadata": {},
   "outputs": [],
   "source": [
    "def fix(x, minHeight):\n",
    "    if x < minHeight:\n",
    "        return (minHeight - x)*(minHeight - x)\n",
    "    if x > minHeight+17:\n",
    "        return (x - minHeight - 17)*(x - minHeight - 17)\n",
    "    return 0"
   ]
  },
  {
   "cell_type": "markdown",
   "metadata": {},
   "source": [
    "---\n",
    "Searching for the minimum cost from all possible hills heights\n",
    "---"
   ]
  },
  {
   "cell_type": "code",
   "execution_count": 9,
   "metadata": {},
   "outputs": [
    {
     "name": "stdout",
     "output_type": "stream",
     "text": [
      "planning on min height: 1  total cost will be: 49\n",
      "planning on min height: 2  total cost will be: 31\n",
      "planning on min height: 3  total cost will be: 21\n",
      "planning on min height: 4  total cost will be: 18\n",
      "planning on min height: 5  total cost will be: 21\n",
      "planning on min height: 6  total cost will be: 30\n",
      "18\n"
     ]
    }
   ],
   "source": [
    "minSum = 0\n",
    "for i in range( min(h), max(h)-17 ):\n",
    "    sum = 0\n",
    "    print ('planning on min height: ' + str(i), end='  ')\n",
    "    for x in h:\n",
    "        sum += fix(x, i)\n",
    "    print ('total cost will be: ' + str(sum))\n",
    "    if not minSum or sum < minSum:\n",
    "        minSum = sum\n",
    "        \n",
    "print(minSum)"
   ]
  }
 ],
 "metadata": {
  "kernelspec": {
   "display_name": "Python 3",
   "language": "python",
   "name": "python3"
  },
  "language_info": {
   "codemirror_mode": {
    "name": "ipython",
    "version": 3
   },
   "file_extension": ".py",
   "mimetype": "text/x-python",
   "name": "python",
   "nbconvert_exporter": "python",
   "pygments_lexer": "ipython3",
   "version": "3.8.3"
  }
 },
 "nbformat": 4,
 "nbformat_minor": 4
}
