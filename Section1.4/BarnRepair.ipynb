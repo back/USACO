{
 "cells": [
  {
   "cell_type": "markdown",
   "metadata": {},
   "source": [
    "# Section 1.4 - Barn Repair\n",
    "---"
   ]
  },
  {
   "cell_type": "code",
   "execution_count": 7,
   "metadata": {},
   "outputs": [
    {
     "name": "stdout",
     "output_type": "stream",
     "text": [
      "4 50 18\n",
      "[3, 4, 6, 8, 14, 15, 16, 17, 21, 25, 26, 27, 30, 31, 40, 41, 42, 43]\n"
     ]
    }
   ],
   "source": [
    "fin=StringIO('''4 50 18\n",
    "3\n",
    "4\n",
    "6\n",
    "8\n",
    "14\n",
    "15\n",
    "16\n",
    "17\n",
    "21\n",
    "25\n",
    "26\n",
    "27\n",
    "30\n",
    "31\n",
    "40\n",
    "41\n",
    "42\n",
    "43''')\n",
    "\n",
    "m, s, c = map(int, fin.readline().split())\n",
    "cows = sorted(int(line.strip()) for line in fin.readlines())\n",
    "\n",
    "print(m, s, c)\n",
    "print(cows)"
   ]
  },
  {
   "cell_type": "code",
   "execution_count": 8,
   "metadata": {},
   "outputs": [
    {
     "name": "stdout",
     "output_type": "stream",
     "text": [
      "[0, 1, 1, 5, 0, 0, 0, 3, 3, 0, 0, 2, 0, 8, 0, 0, 0]\n",
      "[1, 1, 2, 3, 3, 5, 8]\n"
     ]
    }
   ],
   "source": [
    "gaps = [cows[i] - cows[i-1] - 1 for i in range(1,c)]\n",
    "print(gaps)\n",
    "\n",
    "gaps = [i for i in gaps if i]\n",
    "gaps.sort()\n",
    "print(gaps)"
   ]
  },
  {
   "cell_type": "code",
   "execution_count": 9,
   "metadata": {},
   "outputs": [
    {
     "name": "stdout",
     "output_type": "stream",
     "text": [
      "25\n"
     ]
    }
   ],
   "source": [
    "skip = min(m-1, len(gaps))\n",
    "skip = sum(gaps[-skip:]) if skip else 0\n",
    "full = cows[-1] - cows[0] + 1\n",
    "\n",
    "print(full - skip)"
   ]
  }
 ],
 "metadata": {
  "kernelspec": {
   "display_name": "Python 3",
   "language": "python",
   "name": "python3"
  },
  "language_info": {
   "codemirror_mode": {
    "name": "ipython",
    "version": 3
   },
   "file_extension": ".py",
   "mimetype": "text/x-python",
   "name": "python",
   "nbconvert_exporter": "python",
   "pygments_lexer": "ipython3",
   "version": "3.8.3"
  }
 },
 "nbformat": 4,
 "nbformat_minor": 4
}
