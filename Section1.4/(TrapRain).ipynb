{
 "cells": [
  {
   "cell_type": "markdown",
   "metadata": {},
   "source": [
    "# (Trapping Rain Water)\n",
    "https://leetcode.com/problems/trapping-rain-water/\n",
    "---\n",
    "---\n",
    "Read Inputs\n",
    "---"
   ]
  },
  {
   "cell_type": "code",
   "execution_count": 1,
   "metadata": {},
   "outputs": [],
   "source": [
    "height=[0,1,0,2,1,0,1,3,2,1,2,1]"
   ]
  },
  {
   "cell_type": "markdown",
   "metadata": {},
   "source": [
    "---\n",
    "Two pointer algorithm\n",
    "---"
   ]
  },
  {
   "cell_type": "code",
   "execution_count": 2,
   "metadata": {},
   "outputs": [
    {
     "name": "stdout",
     "output_type": "stream",
     "text": [
      "6\n"
     ]
    }
   ],
   "source": [
    "i,j,maxLeft,maxRight,answer=0,len(height)-1,0,0,0\n",
    "while i<j:\n",
    "    if height[i] < height[j]:\n",
    "        if height[i]>maxLeft:\n",
    "            maxLeft = height[i]\n",
    "        else:\n",
    "            answer += maxLeft - height[i]\n",
    "        i+=1\n",
    "    else:\n",
    "        if height[j]>maxRight:\n",
    "            maxRight = height[j]\n",
    "        else:\n",
    "            answer += maxRight - height[j]\n",
    "        j-=1\n",
    "print(answer)"
   ]
  }
 ],
 "metadata": {
  "kernelspec": {
   "display_name": "Python 3",
   "language": "python",
   "name": "python3"
  },
  "language_info": {
   "codemirror_mode": {
    "name": "ipython",
    "version": 3
   },
   "file_extension": ".py",
   "mimetype": "text/x-python",
   "name": "python",
   "nbconvert_exporter": "python",
   "pygments_lexer": "ipython3",
   "version": "3.8.3"
  }
 },
 "nbformat": 4,
 "nbformat_minor": 4
}
