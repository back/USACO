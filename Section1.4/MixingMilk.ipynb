{
 "cells": [
  {
   "cell_type": "markdown",
   "metadata": {},
   "source": [
    "# Section 1.4 - Mixing Milk\n",
    "---"
   ]
  },
  {
   "cell_type": "code",
   "execution_count": 17,
   "metadata": {},
   "outputs": [
    {
     "name": "stdout",
     "output_type": "stream",
     "text": [
      "[(5, 20), (9, 40), (3, 10), (8, 80), (6, 30)]\n",
      "100\n",
      "[(3, 10), (5, 20), (6, 30), (8, 80), (9, 40)]\n"
     ]
    }
   ],
   "source": [
    "fin=StringIO('''100 5\n",
    "5 20\n",
    "9 40\n",
    "3 10\n",
    "8 80\n",
    "6 30\n",
    "''')\n",
    "\n",
    "units, num = map(int, fin.readline().split())\n",
    "farmers=[tuple(map(int, line.split())) for line in fin.readlines()] \n",
    "\n",
    "print(farmers)\n",
    "\n",
    "\n",
    "#TreeMap...\n",
    "\n",
    "\n",
    "farmers.sort()\n",
    "\n",
    "print(units)\n",
    "print(farmers)"
   ]
  },
  {
   "cell_type": "code",
   "execution_count": 18,
   "metadata": {},
   "outputs": [
    {
     "name": "stdout",
     "output_type": "stream",
     "text": [
      "3 10 90 30\n",
      "5 20 70 130\n",
      "6 30 40 310\n",
      "8 80 40 630\n"
     ]
    }
   ],
   "source": [
    "cost = 0\n",
    "for (price, unit) in farmers:\n",
    "    if unit >= units:\n",
    "        cost += units * price\n",
    "        break\n",
    "    else:\n",
    "        cost += unit * price\n",
    "        units -= unit\n",
    "    print(price, unit, units, cost)\n",
    "print(price, unit, units, cost)"
   ]
  }
 ],
 "metadata": {
  "kernelspec": {
   "display_name": "Python 3",
   "language": "python",
   "name": "python3"
  },
  "language_info": {
   "codemirror_mode": {
    "name": "ipython",
    "version": 3
   },
   "file_extension": ".py",
   "mimetype": "text/x-python",
   "name": "python",
   "nbconvert_exporter": "python",
   "pygments_lexer": "ipython3",
   "version": "3.8.3"
  }
 },
 "nbformat": 4,
 "nbformat_minor": 4
}
