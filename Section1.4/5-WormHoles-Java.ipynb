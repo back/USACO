{
 "cells": [
  {
   "cell_type": "markdown",
   "metadata": {},
   "source": [
    "# Section 1.4 - Wormhole\n",
    "---\n",
    "Initialize a wormholes list\n",
    "---\n",
    "What we really need is a simple list showing who is on each point's **next** right."
   ]
  },
  {
   "cell_type": "code",
   "execution_count": 31,
   "metadata": {},
   "outputs": [
    {
     "name": "stdout",
     "output_type": "stream",
     "text": [
      "[1, -1, -1, 2]\n"
     ]
    }
   ],
   "source": [
    "int[][] m = {{0, 0}, {1, 0}, {1, 1}, {0, 1}};\n",
    "\n",
    "int[] m_next = new int[m.length];\n",
    "Arrays.fill(m_next, -1);\n",
    "\n",
    "for(int i=0; i<m_next.length; i++)\n",
    "    for (int j=0; j<m_next.length; j++)\n",
    "        if (i!=j && m[i][1]==m[j][1] && m[i][0]<m[j][0])\n",
    "            if(m_next[i]<0 || m[m_next[i]][0]>m[j][0])\n",
    "                m_next[i] = j;\n",
    "\n",
    "System.out.println(Arrays.toString(m_next));"
   ]
  },
  {
   "cell_type": "markdown",
   "metadata": {},
   "source": [
    "---\n",
    "Then we create all combinations of point-pairs\n",
    "---"
   ]
  },
  {
   "cell_type": "code",
   "execution_count": 32,
   "metadata": {},
   "outputs": [
    {
     "name": "stdout",
     "output_type": "stream",
     "text": [
      "[0, 1, 2, 3]\n"
     ]
    }
   ],
   "source": [
    "int[] wh = new int[m.length];\n",
    "for(int i=0;i<wh.length;i++)wh[i]=i;\n",
    "System.out.println(Arrays.toString(wh));"
   ]
  },
  {
   "cell_type": "markdown",
   "metadata": {},
   "source": [
    "---\n",
    "Method 1 - Working Queue (BFS)\n",
    "---"
   ]
  },
  {
   "cell_type": "code",
   "execution_count": 33,
   "metadata": {},
   "outputs": [
    {
     "name": "stdout",
     "output_type": "stream",
     "text": [
      "[1, 0, 3, 2]\n",
      "[2, 3, 0, 1]\n",
      "[3, 2, 1, 0]\n"
     ]
    }
   ],
   "source": [
    "List<int[]> q = new ArrayList<int[]>();\n",
    "q.add(wh);                                     // Our the first working item\n",
    "\n",
    "boolean keep_working = true;\n",
    "while(keep_working){\n",
    "    int[] head = q.get(0);\n",
    "    keep_working = false;    \n",
    "    for(int i=0;i<head.length-1;i++){\n",
    "        if (head[i]==i) {                      // find first unswapped item\n",
    "            for(int j=i+1;j<head.length;j++){\n",
    "                if (head[j]==j) {              // find all other unswapped items\n",
    "                    int[] work = head.clone(); // create a \"clone\" copy\n",
    "                    work[i]=j; work[j]=i;      // swap the appointed 2 elements\n",
    "                    q.add(work);               // add swapped results to working queue\n",
    "                    keep_working = true;       // new working items found, keep working\n",
    "                }\n",
    "            }\n",
    "            break;                             // Done all swaps for item[i]\n",
    "        }\n",
    "    }\n",
    "    if (keep_working) q.remove(0);             // Remove the head working item\n",
    "}\n",
    "\n",
    "for(int[] m_pair: q)\n",
    "    System.out.println(Arrays.toString(m_pair));"
   ]
  },
  {
   "cell_type": "markdown",
   "metadata": {},
   "source": [
    "---\n",
    "Method 2 - Recursive Loops (DFS)\n",
    "---"
   ]
  },
  {
   "cell_type": "code",
   "execution_count": 34,
   "metadata": {},
   "outputs": [
    {
     "name": "stdout",
     "output_type": "stream",
     "text": [
      "[1, 0, 3, 2]\n",
      "[2, 3, 0, 1]\n",
      "[3, 2, 1, 0]\n"
     ]
    }
   ],
   "source": [
    "void search(int start) {\n",
    "    boolean changed = false;\n",
    "    for (int i = start; i < wh.length; i++) {\n",
    "        if(wh[i]==i) {                                  // Find first unswapped point\n",
    "            for (int j = i + 1; j < wh.length; j++) {\n",
    "                if (wh[j] == j) {                       // Find next unswapped point\n",
    "                    changed = true;\n",
    "                    wh[i] = j;\n",
    "                    wh[j] = i;\n",
    "                    search(i + 1);\n",
    "                    wh[i] = i;\n",
    "                    wh[j] = j;\n",
    "                }\n",
    "            }\n",
    "            break;\n",
    "        }\n",
    "    }\n",
    "    if (!changed) System.out.println(Arrays.toString(wh));\n",
    "}\n",
    "\n",
    "search(0);"
   ]
  },
  {
   "cell_type": "markdown",
   "metadata": {},
   "source": [
    "---\n",
    "Checking loops\n",
    "---"
   ]
  },
  {
   "cell_type": "code",
   "execution_count": 35,
   "metadata": {},
   "outputs": [
    {
     "name": "stdout",
     "output_type": "stream",
     "text": [
      "[1, 0, 3, 2]\n",
      "[1, -1, -1, 2]\n",
      "Loops found! starting from : 1\n",
      "\n",
      "[2, 3, 0, 1]\n",
      "[1, -1, -1, 2]\n",
      "Loops found! starting from : 1\n",
      "\n",
      "[3, 2, 1, 0]\n",
      "[1, -1, -1, 2]\n",
      "\n"
     ]
    }
   ],
   "source": [
    "for(int[] m_pair: q) {\n",
    "    System.out.println(Arrays.toString(m_pair));\n",
    "    System.out.println(Arrays.toString(m_next));\n",
    "    \n",
    "    for(int i = 0; i < m.length; i++) {\n",
    "        int pos = i, steps = m.length;\n",
    "        while(steps-- >= 0 && pos >= 0)\n",
    "            pos = m_next[m_pair[pos]];\n",
    "        if (pos > -1) {\n",
    "            System.out.println(\"Loops found! starting from : \" + i);\n",
    "            break;\n",
    "        }\n",
    "    }\n",
    "    \n",
    "    System.out.println();\n",
    "}"
   ]
  }
 ],
 "metadata": {
  "kernelspec": {
   "display_name": "Java",
   "language": "java",
   "name": "java"
  },
  "language_info": {
   "codemirror_mode": "java",
   "file_extension": ".jshell",
   "mimetype": "text/x-java-source",
   "name": "Java",
   "pygments_lexer": "java",
   "version": "14.0.2+12-46"
  }
 },
 "nbformat": 4,
 "nbformat_minor": 4
}
