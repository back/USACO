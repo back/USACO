{
 "cells": [
  {
   "cell_type": "markdown",
   "metadata": {},
   "source": [
    "# Section 1.4 - Wormholes\n",
    "---\n",
    "Read Inputs\n",
    "---"
   ]
  },
  {
   "cell_type": "code",
   "execution_count": 18,
   "metadata": {},
   "outputs": [
    {
     "name": "stdout",
     "output_type": "stream",
     "text": [
      "[(0, 0), (1, 0), (1, 1), (0, 1)]\n"
     ]
    }
   ],
   "source": [
    "fin=StringIO('''4\n",
    "0 0\n",
    "1 0\n",
    "1 1\n",
    "0 1''')\n",
    "\n",
    "n = int(fin.readline().strip())\n",
    "m = [tuple(map(int, line.split())) for line in fin.readlines()]\n",
    "\n",
    "print(m)"
   ]
  },
  {
   "cell_type": "markdown",
   "metadata": {},
   "source": [
    "---\n",
    "Search for all possible pairs\n",
    "---"
   ]
  },
  {
   "cell_type": "code",
   "execution_count": 52,
   "metadata": {},
   "outputs": [
    {
     "name": "stdout",
     "output_type": "stream",
     "text": [
      "[(0, 1), (2, 3)]\n",
      "[(0, 2), (1, 3)]\n",
      "[(0, 3), (1, 2)]\n"
     ]
    }
   ],
   "source": [
    "def all_pairs(lst):\n",
    "    if len(lst) < 2:\n",
    "        yield []\n",
    "    else:\n",
    "        a = lst[0]\n",
    "        for i in range(1,len(lst)):\n",
    "            pair = (a,lst[i])\n",
    "            for rest in all_pairs(lst[1:i]+lst[i+1:]):\n",
    "                yield [pair] + rest\n",
    "\n",
    "for p in all_pairs(list(range(n))):\n",
    "    print(p)"
   ]
  },
  {
   "cell_type": "markdown",
   "metadata": {},
   "source": [
    "---\n",
    "Better prepared pair data\n",
    "---"
   ]
  },
  {
   "cell_type": "code",
   "execution_count": 53,
   "metadata": {},
   "outputs": [
    {
     "name": "stdout",
     "output_type": "stream",
     "text": [
      "m_pair: [1, 0, 3, 2]\n",
      "m_pair: [2, 3, 0, 1]\n",
      "m_pair: [3, 2, 1, 0]\n"
     ]
    }
   ],
   "source": [
    "for p in all_pairs(list(range(n))):\n",
    "    m_pair = [-1] * n\n",
    "    for x,y in p:\n",
    "        m_pair[x] = y\n",
    "        m_pair[y] = x\n",
    "    print('m_pair:', m_pair)"
   ]
  },
  {
   "cell_type": "markdown",
   "metadata": {},
   "source": [
    "---\n",
    "Or, with a Working Queue\n",
    "---"
   ]
  },
  {
   "cell_type": "code",
   "execution_count": 1,
   "metadata": {},
   "outputs": [
    {
     "name": "stdout",
     "output_type": "stream",
     "text": [
      "m_pair: [1, 0, 3, 2]\n",
      "m_pair: [2, 3, 0, 1]\n",
      "m_pair: [3, 2, 1, 0]\n"
     ]
    }
   ],
   "source": [
    "n=4\n",
    "all_p = [list(range(n))]\n",
    "\n",
    "while True:\n",
    "    w = all_p[0]\n",
    "    unchanged = [i for i in range(n) if w[i]==i]\n",
    "    if unchanged:\n",
    "        i = unchanged[0]\n",
    "        for j in unchanged[1:]:\n",
    "            new_w = w.copy()\n",
    "            new_w[i], new_w[j] = j, i\n",
    "            all_p.append(new_w)\n",
    "        del all_p[0]\n",
    "    else:\n",
    "        break\n",
    "\n",
    "for w in all_p:\n",
    "    print('m_pair:', w)"
   ]
  },
  {
   "cell_type": "markdown",
   "metadata": {},
   "source": [
    "---\n",
    "Find holes on the right\n",
    "---"
   ]
  },
  {
   "cell_type": "code",
   "execution_count": 43,
   "metadata": {},
   "outputs": [
    {
     "name": "stdout",
     "output_type": "stream",
     "text": [
      "m_next: [1, -1, -1, 2]\n"
     ]
    }
   ],
   "source": [
    "m_next = [-1] * n\n",
    "for i in range(n):\n",
    "    x, y = m[i]\n",
    "    for j in range(n):\n",
    "        a, b = m[j]\n",
    "        if b==y and a>x:\n",
    "            if m_next[i]<0:\n",
    "                m_next[i] = j\n",
    "            else:\n",
    "                c, d = m[ m_next[i] ]\n",
    "                if a<c:\n",
    "                    m_next[i] = j\n",
    "print('m_next:', m_next)"
   ]
  },
  {
   "cell_type": "markdown",
   "metadata": {},
   "source": [
    "---\n",
    "Helper function to check loop\n",
    "---"
   ]
  },
  {
   "cell_type": "code",
   "execution_count": 60,
   "metadata": {},
   "outputs": [],
   "source": [
    "def check_loop(i, passed, isWarping):\n",
    "    np = m_pair[i] if isWarping else m_next[i]\n",
    "    if np < 0:                                          # it's out of lawn, no loops found.\n",
    "        return False\n",
    "    if passed > n * 2:\n",
    "        return True                                     # looped\n",
    "    return check_loop(np, passed+1, not isWarping)"
   ]
  },
  {
   "cell_type": "markdown",
   "metadata": {},
   "source": [
    "---\n",
    "Find the final answer\n",
    "---"
   ]
  },
  {
   "cell_type": "code",
   "execution_count": 64,
   "metadata": {},
   "outputs": [
    {
     "name": "stdout",
     "output_type": "stream",
     "text": [
      "============================= 0\n",
      "m_base: [0, 1, 2, 3]\n",
      "m_pair: [1, 0, 3, 2]\n",
      "m_next: [1, -1, -1, 2]\n",
      "passed wholes:  9\n",
      "check_loop: True\n",
      "============================= 1\n",
      "m_base: [0, 1, 2, 3]\n",
      "m_pair: [2, 3, 0, 1]\n",
      "m_next: [1, -1, -1, 2]\n",
      "passed wholes:  9\n",
      "check_loop: True\n",
      "============================= 2\n",
      "m_base: [0, 1, 2, 3]\n",
      "m_pair: [3, 2, 1, 0]\n",
      "m_next: [1, -1, -1, 2]\n",
      "2\n"
     ]
    }
   ],
   "source": [
    "count = 0\n",
    "for m_pair in all_p:\n",
    "    print ('=============================', count)\n",
    "    print ('m_base:', list(range(n)))\n",
    "    print ('m_pair:', m_pair)\n",
    "    print ('m_next:', m_next)\n",
    "    for i in range(n):\n",
    "        if check_loop(i, 0, True) or check_loop(i, 0, False):\n",
    "            print ('check_loop: True')\n",
    "            count +=1\n",
    "            break\n",
    "\n",
    "print (count)"
   ]
  }
 ],
 "metadata": {
  "kernelspec": {
   "display_name": "Python 3",
   "language": "python",
   "name": "python3"
  },
  "language_info": {
   "codemirror_mode": {
    "name": "ipython",
    "version": 3
   },
   "file_extension": ".py",
   "mimetype": "text/x-python",
   "name": "python",
   "nbconvert_exporter": "python",
   "pygments_lexer": "ipython3",
   "version": "3.8.3"
  }
 },
 "nbformat": 4,
 "nbformat_minor": 4
}
