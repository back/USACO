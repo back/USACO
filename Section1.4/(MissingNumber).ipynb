{
 "cells": [
  {
   "cell_type": "markdown",
   "metadata": {},
   "source": [
    "(First Missing Number)\n",
    "===\n",
    "https://leetcode.com/problems/first-missing-positive/\n",
    "---"
   ]
  },
  {
   "cell_type": "code",
   "execution_count": 3,
   "metadata": {},
   "outputs": [
    {
     "name": "stdout",
     "output_type": "stream",
     "text": [
      "2\n"
     ]
    }
   ],
   "source": [
    "nums=[3,4,-1,1]\n",
    "\n",
    "for i in range(1,len(nums)+2):\n",
    "    if i not in nums:\n",
    "        print(i)\n",
    "        break"
   ]
  },
  {
   "cell_type": "markdown",
   "metadata": {},
   "source": [
    "Java Sample\n",
    "---\n",
    "```Java\n",
    "Set<Integer> s = new HashSet<Integer>();\n",
    "for (int i : nums) s.add(i);\n",
    "for(int i=1;i<nums.length+2;i++)\n",
    "    if(!s.contains(i))\n",
    "        return i;\n",
    "```"
   ]
  }
 ],
 "metadata": {
  "kernelspec": {
   "display_name": "Python 3",
   "language": "python",
   "name": "python3"
  },
  "language_info": {
   "codemirror_mode": {
    "name": "ipython",
    "version": 3
   },
   "file_extension": ".py",
   "mimetype": "text/x-python",
   "name": "python",
   "nbconvert_exporter": "python",
   "pygments_lexer": "ipython3",
   "version": "3.8.3"
  }
 },
 "nbformat": 4,
 "nbformat_minor": 4
}
