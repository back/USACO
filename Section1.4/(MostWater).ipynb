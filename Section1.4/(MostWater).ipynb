{
 "cells": [
  {
   "cell_type": "markdown",
   "metadata": {},
   "source": [
    "(Container with Most Water)\n",
    "===\n",
    "https://leetcode.com/problems/container-with-most-water/\n",
    "---\n",
    "---\n",
    "Read Inputs\n",
    "---"
   ]
  },
  {
   "cell_type": "code",
   "execution_count": 5,
   "metadata": {},
   "outputs": [
    {
     "name": "stdout",
     "output_type": "stream",
     "text": [
      "[1, 8, 6, 2, 5, 4, 8, 3, 7]\n"
     ]
    }
   ],
   "source": [
    "height=[1,8,6,2,5,4,8,3,7]\n",
    "print(height)"
   ]
  },
  {
   "cell_type": "code",
   "execution_count": 7,
   "metadata": {},
   "outputs": [
    {
     "name": "stdout",
     "output_type": "stream",
     "text": [
      "1 8 8 8\n",
      "1 7 49 49\n",
      "1 6 18 49\n",
      "1 5 40 49\n",
      "1 4 16 49\n",
      "1 3 15 49\n",
      "1 2 4 49\n",
      "1 1 6 49\n"
     ]
    }
   ],
   "source": [
    "answer, i, j = 0, 0, len(height)-1\n",
    "\n",
    "while i<j:\n",
    "    w = j-i\n",
    "    if height[i] < height[j]:\n",
    "        h=height[i]\n",
    "        i+=1\n",
    "    else:\n",
    "        h=height[j]\n",
    "        j-=1\n",
    "\n",
    "    v = w * h\n",
    "    if v > answer:\n",
    "        answer = v\n",
    "        \n",
    "    print(i, j, v, answer)"
   ]
  }
 ],
 "metadata": {
  "kernelspec": {
   "display_name": "Python 3",
   "language": "python",
   "name": "python3"
  },
  "language_info": {
   "codemirror_mode": {
    "name": "ipython",
    "version": 3
   },
   "file_extension": ".py",
   "mimetype": "text/x-python",
   "name": "python",
   "nbconvert_exporter": "python",
   "pygments_lexer": "ipython3",
   "version": "3.8.3"
  }
 },
 "nbformat": 4,
 "nbformat_minor": 4
}
