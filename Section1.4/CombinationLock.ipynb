{
 "cells": [
  {
   "cell_type": "markdown",
   "metadata": {},
   "source": [
    "# Section 1.4 - Combination Lock\n",
    "---\n",
    "Read inputs\n",
    "---"
   ]
  },
  {
   "cell_type": "code",
   "execution_count": 26,
   "metadata": {},
   "outputs": [
    {
     "name": "stdout",
     "output_type": "stream",
     "text": [
      "50 [1, 2, 3] [5, 6, 7]\n"
     ]
    }
   ],
   "source": [
    "fin=StringIO('''50\n",
    "1 2 3\n",
    "5 6 7''')\n",
    "\n",
    "n  = int(fin.readline().strip())\n",
    "p1 = list(map(int, fin.readline().split()))\n",
    "p2 = list(map(int, fin.readline().split()))\n",
    "\n",
    "print (n, p1, p2)"
   ]
  },
  {
   "cell_type": "markdown",
   "metadata": {},
   "source": [
    "---\n",
    "Define a helper function\n",
    "---"
   ]
  },
  {
   "cell_type": "code",
   "execution_count": 27,
   "metadata": {},
   "outputs": [
    {
     "name": "stdout",
     "output_type": "stream",
     "text": [
      "50 47 9 2\n"
     ]
    }
   ],
   "source": [
    "def norm(loopSize,i):\n",
    "    while i<1:\n",
    "        i+=loopSize\n",
    "    while i>loopSize:\n",
    "        i-=loopSize\n",
    "    return i\n",
    "print(n, norm(n,-3), norm(n,9), norm(n,52))"
   ]
  },
  {
   "cell_type": "markdown",
   "metadata": {},
   "source": [
    "---\n",
    "Search for all possible combinations\n",
    "---"
   ]
  },
  {
   "cell_type": "code",
   "execution_count": 32,
   "metadata": {},
   "outputs": [
    {
     "name": "stdout",
     "output_type": "stream",
     "text": [
      "249\n"
     ]
    }
   ],
   "source": [
    "k=set()                                     # HashSet<Integer> k = new HashSet<Integer>();\n",
    "for r1 in range(-2, +3):                    # for (int r1 = -2; r1 < 3; r1++)\n",
    "    for r2 in range(-2, +3):\n",
    "        for r3 in range(-2, +3):\n",
    "            k.add((norm(n, p1[0] + r1), norm(n, p1[1] + r2), norm(n, p1[2] + r3 )))\n",
    "            k.add((norm(n, p2[0] + r1), norm(n, p2[1] + r2), norm(n, p2[2] + r3 )))\n",
    "print(len(k))"
   ]
  }
 ],
 "metadata": {
  "kernelspec": {
   "display_name": "Python 3",
   "language": "python",
   "name": "python3"
  },
  "language_info": {
   "codemirror_mode": {
    "name": "ipython",
    "version": 3
   },
   "file_extension": ".py",
   "mimetype": "text/x-python",
   "name": "python",
   "nbconvert_exporter": "python",
   "pygments_lexer": "ipython3",
   "version": "3.8.3"
  }
 },
 "nbformat": 4,
 "nbformat_minor": 4
}
