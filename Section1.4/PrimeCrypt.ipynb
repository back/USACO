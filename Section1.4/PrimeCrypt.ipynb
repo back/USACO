{
 "cells": [
  {
   "cell_type": "markdown",
   "metadata": {},
   "source": [
    "# Section 1.4 - Prime Cryptarithm\n",
    "---"
   ]
  },
  {
   "cell_type": "code",
   "execution_count": 10,
   "metadata": {},
   "outputs": [
    {
     "name": "stdout",
     "output_type": "stream",
     "text": [
      "[2, 3, 4, 6, 8]\n"
     ]
    }
   ],
   "source": [
    "fin=StringIO('''5\n",
    "2 3 4 6 8''')\n",
    "\n",
    "fin.readline()\n",
    "c = list(map(int, fin.readline().split()))\n",
    "\n",
    "print(c)"
   ]
  },
  {
   "cell_type": "code",
   "execution_count": 14,
   "metadata": {},
   "outputs": [
    {
     "name": "stdout",
     "output_type": "stream",
     "text": [
      "False\n",
      "True\n"
     ]
    }
   ],
   "source": [
    "chk = lambda allows, number:any(x for x in str(number) if int(x) not in allows)\n",
    "\n",
    "print(chk(c, 234))\n",
    "print(chk(c, 237))"
   ]
  },
  {
   "cell_type": "code",
   "execution_count": 16,
   "metadata": {},
   "outputs": [
    {
     "name": "stdout",
     "output_type": "stream",
     "text": [
      "222 22 444 444 4884\n",
      "1\n"
     ]
    }
   ],
   "source": [
    "answer=0\n",
    "for d1 in c:\n",
    "    for d2 in c:\n",
    "        for d3 in c:\n",
    "            for d4 in c:\n",
    "                for d5 in c:\n",
    "                    n1 = d1 * 100 + d2 * 10 + d3\n",
    "                    n2 = d4 * 10 + d5\n",
    "                    n3 = n1 * d5\n",
    "                    n4 = n1 * d4\n",
    "\n",
    "                    if n3>999 or chk(c, n3):\n",
    "                        continue\n",
    "\n",
    "                    if n4>999 or chk(c, n4):\n",
    "                        continue\n",
    "\n",
    "                    n5 = n4 * 10 + n3\n",
    "                    if not chk(c, n5):\n",
    "                        answer += 1\n",
    "                        print (n1, n2, n3, n4, n5)\n",
    "print(answer)"
   ]
  }
 ],
 "metadata": {
  "kernelspec": {
   "display_name": "Python 3",
   "language": "python",
   "name": "python3"
  },
  "language_info": {
   "codemirror_mode": {
    "name": "ipython",
    "version": 3
   },
   "file_extension": ".py",
   "mimetype": "text/x-python",
   "name": "python",
   "nbconvert_exporter": "python",
   "pygments_lexer": "ipython3",
   "version": "3.8.3"
  }
 },
 "nbformat": 4,
 "nbformat_minor": 4
}
