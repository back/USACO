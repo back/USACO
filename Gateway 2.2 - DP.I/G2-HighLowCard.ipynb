{
 "cells": [
  {
   "cell_type": "markdown",
   "id": "a37c57e5",
   "metadata": {},
   "source": [
    "# Hige Card Low Card\n",
    "\n",
    "- http://www.usaco.org/index.php?page=viewproblem2&cpid=573\n",
    "  - be noted that this one is in *Gold* group\n",
    "\n",
    "### Read Input\n",
    "- Collect FirstHalf, SecondHalf, and Bessie's Hand"
   ]
  },
  {
   "cell_type": "code",
   "execution_count": 22,
   "id": "776a1715",
   "metadata": {},
   "outputs": [
    {
     "name": "stdout",
     "output_type": "stream",
     "text": [
      "4 [1, 8] [4, 3] [2, 5, 6, 7]\n"
     ]
    }
   ],
   "source": [
    "import sys\n",
    "sys.stdin=StringIO('''4\n",
    "1\n",
    "8\n",
    "4\n",
    "3\n",
    "''')\n",
    "\n",
    "n = int(sys.stdin.readline())\n",
    "f = [int(sys.stdin.readline()) for _ in range(n//2)]\n",
    "s = [int(sys.stdin.readline()) for _ in range(n//2)]\n",
    "b = [i for i in range(1, n*2) if i not in (f+s)]\n",
    "print(n, f, s, b)"
   ]
  },
  {
   "cell_type": "markdown",
   "id": "639b5403",
   "metadata": {},
   "source": [
    "- Alternate way of building Bessie's hand:\n",
    "  - initialize a 2*N sized boolean array\n",
    "  - while building FirstHalf and SecondHalf:\n",
    "    - flip boolean array items indexed by the number read in\n",
    "  - in the end, create a list based all non-flipped index\n",
    "\n",
    "### Sort all for doing Greedy search"
   ]
  },
  {
   "cell_type": "code",
   "execution_count": null,
   "id": "2a8d2c4c",
   "metadata": {},
   "outputs": [],
   "source": [
    "f.sort()\n",
    "s.sort()\n",
    "b.sort()"
   ]
  },
  {
   "cell_type": "markdown",
   "id": "e3a94770",
   "metadata": {},
   "source": [
    "### Checking the First-Half of the Hands"
   ]
  },
  {
   "cell_type": "code",
   "execution_count": null,
   "id": "ac0960ef",
   "metadata": {},
   "outputs": [],
   "source": [
    "i=len(f)-1\n",
    "j=len(b)-1\n",
    "\n",
    "score = 0\n",
    "while i>=0:\n",
    "    if f[i] < b[j]:\n",
    "        j-=1\n",
    "        score+=1\n",
    "        print(f[i], \"<\", b[j])\n",
    "    i-=1\n",
    "    \n",
    "print(\"Score: %s\" % score)"
   ]
  },
  {
   "cell_type": "markdown",
   "id": "30a2a454",
   "metadata": {},
   "source": [
    "### Checking the Second-Half of the Hands"
   ]
  },
  {
   "cell_type": "code",
   "execution_count": null,
   "id": "b9cad5de",
   "metadata": {},
   "outputs": [],
   "source": [
    "i=0\n",
    "j=0\n",
    "while i<len(s):\n",
    "    if s[i] > b[j]:\n",
    "        j+=1\n",
    "        score+=1\n",
    "        print(s[i], \">\", b[j])\n",
    "    i+=1\n",
    "    \n",
    "print(\"Score: %s\" % score)"
   ]
  }
 ],
 "metadata": {
  "kernelspec": {
   "display_name": "Python 3 (ipykernel)",
   "language": "python",
   "name": "python3"
  },
  "language_info": {
   "codemirror_mode": {
    "name": "ipython",
    "version": 3
   },
   "file_extension": ".py",
   "mimetype": "text/x-python",
   "name": "python",
   "nbconvert_exporter": "python",
   "pygments_lexer": "ipython3",
   "version": "3.8.11"
  }
 },
 "nbformat": 4,
 "nbformat_minor": 5
}
