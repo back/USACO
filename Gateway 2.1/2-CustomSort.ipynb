{
 "cells": [
  {
   "cell_type": "markdown",
   "metadata": {},
   "source": [
    "# Customized Sorting\n",
    "\n",
    "### Resources\n",
    "- [Custom Sort in Java](https://darrenyao.com/usacobook/cpp.pdf#page=34)\n",
    "  - [Arrays.sort](https://docs.oracle.com/en/java/javase/11/docs/api/java.base/java/util/Arrays.html#sort(T%5B%5D,java.util.Comparator)) (JavaDoc)\n",
    "  - [Collections.sort](https://docs.oracle.com/en/java/javase/11/docs/api/java.base/java/util/Collections.html#sort(java.util.List,java.util.Comparator)) (JavaDoc)\n",
    "- [Custom Sort in C++](https://usaco.guide/CPH.pdf#page=39)\n",
    "\n",
    "\n",
    "### A Python Shuffler"
   ]
  },
  {
   "cell_type": "code",
   "execution_count": null,
   "metadata": {},
   "outputs": [],
   "source": [
    "x = [\"Tony\", \"Stark\", \"Jordon\", \"Michael\"]\n",
    "x.sort()\n",
    "print(x)"
   ]
  },
  {
   "cell_type": "code",
   "execution_count": null,
   "metadata": {},
   "outputs": [],
   "source": [
    "x.sort(key=lambda x:randint(1,100))\n",
    "pp(x)"
   ]
  },
  {
   "cell_type": "markdown",
   "metadata": {},
   "source": [
    "### A Java Shuffler\n",
    "```Java\n",
    "//int[] y = new int[]{0, 1, 2, 3, 4, ...};\n",
    "Arrays.sort(y, new Comparator<Integer>() {\n",
    "    @Override\n",
    "    public int compare(Integer o1, Integer o2) {\n",
    "        //return original_list[o1] - original_list[o2];\n",
    "        return Math.random() > 0.5 ? 1 : -1;\n",
    "    }\n",
    "});\n",
    "```\n",
    "### In Class Practice\n",
    "- Odd-Even sort\n",
    "  - Generate a random list of numbers (20, 1~100)\n",
    "  - Sort it with Odd first, Even last\n",
    "\n",
    "### Advanced Usage\n",
    "- Reverse Sorting\n",
    "- Multi-Criteria Sorting\n",
    "- **Coordinate Compression**"
   ]
  },
  {
   "cell_type": "code",
   "execution_count": null,
   "metadata": {},
   "outputs": [],
   "source": [
    "p=[randint(1, 200) for _ in range(10)]\n",
    "pp(p)"
   ]
  },
  {
   "cell_type": "code",
   "execution_count": null,
   "metadata": {},
   "outputs": [],
   "source": [
    "q=[i for i in range(10)]\n",
    "pp(q)"
   ]
  },
  {
   "cell_type": "code",
   "execution_count": null,
   "metadata": {},
   "outputs": [],
   "source": [
    "q.sort(key=lambda x:p[x])\n",
    "pp(q)"
   ]
  },
  {
   "cell_type": "code",
   "execution_count": null,
   "metadata": {},
   "outputs": [],
   "source": [
    "for i in range(10):\n",
    "    p[q[i]]=i+1\n",
    "pp(p)"
   ]
  },
  {
   "cell_type": "markdown",
   "metadata": {},
   "source": [
    "### Study Sample\n",
    "- [Seating Arrangements (Hard Version)](https://codeforces.com/contest/1566/problem/D2)\n",
    "\n",
    "### Easy\n",
    "- [Movie Festival](https://cses.fi/problemset/task/1629)\n",
    "- [Restaurant Customers](https://cses.fi/problemset/task/1619)\n",
    "- [Lifeguards](http://www.usaco.org/index.php?page=viewproblem2&cpid=786)\n",
    "\n",
    "### Normal\n",
    "- [Rental Service](http://www.usaco.org/index.php?page=viewproblem2&cpid=787)\n",
    "- [Mountain View](http://www.usaco.org/index.php?page=viewproblem2&cpid=896)\n",
    "- [Stuck in a Rut](http://www.usaco.org/index.php?page=viewproblem2&cpid=1064)\n",
    "- [Splitting the Field](http://www.usaco.org/index.php?page=viewproblem2&cpid=645)\n",
    "- [The Smallest String Concatenation](https://codeforces.com/problemset/problem/632/C)\n",
    "- [Nezzar and Symmetric Array](https://codeforces.com/problemset/problem/1478/C)\n",
    "- [Correct Placement](https://codeforces.com/problemset/problem/1472/E)\n",
    "\n",
    "### Hard\n",
    "- [Triangles](http://www.usaco.org/index.php?page=viewproblem2&cpid=1015)\n",
    "- [Out Of Sorts](http://www.usaco.org/index.php?page=viewproblem2&cpid=834)\n",
    "- [Meetings](http://www.usaco.org/index.php?page=viewproblem2&cpid=967)"
   ]
  }
 ],
 "metadata": {
  "kernelspec": {
   "display_name": "Python 3",
   "language": "python",
   "name": "python3"
  },
  "language_info": {
   "codemirror_mode": {
    "name": "ipython",
    "version": 3
   },
   "file_extension": ".py",
   "mimetype": "text/x-python",
   "name": "python",
   "nbconvert_exporter": "python",
   "pygments_lexer": "ipython3",
   "version": "3.9.7"
  }
 },
 "nbformat": 4,
 "nbformat_minor": 4
}
