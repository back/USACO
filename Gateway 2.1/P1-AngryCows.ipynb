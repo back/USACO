{
 "cells": [
  {
   "cell_type": "markdown",
   "id": "17b533b3-c445-418b-9713-1fe2141b7220",
   "metadata": {},
   "source": [
    "# Angry Cows\n",
    "> http://www.usaco.org/index.php?page=viewproblem2&cpid=592\n",
    "\n",
    "### Study"
   ]
  },
  {
   "cell_type": "code",
   "execution_count": null,
   "id": "908adde1-1a5d-4330-9f54-06711b9c3a05",
   "metadata": {},
   "outputs": [],
   "source": [
    "import java.util.Arrays;"
   ]
  },
  {
   "cell_type": "code",
   "execution_count": null,
   "id": "e1ef10ad-97be-4e07-a962-5296c5a58b7b",
   "metadata": {},
   "outputs": [],
   "source": [
    "int[][] x = new int[8][3];\n",
    "for(int i = 0; i<8; i++)\n",
    "    for(int j = 0; j<3; j++)\n",
    "        x[i][j] = (int)(Math.random()*100);\n",
    "\n",
    "for(int[] row : x)\n",
    "    System.out.println(Arrays.toString(row));"
   ]
  },
  {
   "cell_type": "code",
   "execution_count": null,
   "id": "d8a0237b-f9e5-4513-bd90-fae74a6fcd48",
   "metadata": {},
   "outputs": [],
   "source": [
    "Comparator<int[]> cmp = new Comparator<int[]>(){\n",
    "    public int compare(int[] a, int[] b) {\n",
    "        return a[0] - b[0];\n",
    "    }\n",
    "}"
   ]
  },
  {
   "cell_type": "code",
   "execution_count": null,
   "id": "8743599f-5dad-41c0-a404-d0992b017723",
   "metadata": {},
   "outputs": [],
   "source": [
    "Arrays.sort(x, cmp);\n",
    "\n",
    "for(int[] row : x)\n",
    "    System.out.println(Arrays.toString(row));"
   ]
  }
 ],
 "metadata": {
  "kernelspec": {
   "display_name": "Java",
   "language": "java",
   "name": "java"
  },
  "language_info": {
   "codemirror_mode": "java",
   "file_extension": ".jshell",
   "mimetype": "text/x-java-source",
   "name": "Java",
   "pygments_lexer": "java",
   "version": "14.0.2+12-46"
  }
 },
 "nbformat": 4,
 "nbformat_minor": 5
}
