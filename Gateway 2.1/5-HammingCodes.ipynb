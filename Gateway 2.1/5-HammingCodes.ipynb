{
 "cells": [
  {
   "cell_type": "markdown",
   "metadata": {},
   "source": [
    "# Hamming Codes\n",
    "---\n",
    "Read Inputs\n",
    "---"
   ]
  },
  {
   "cell_type": "code",
   "execution_count": 1,
   "metadata": {},
   "outputs": [],
   "source": [
    "n, b, d = 16, 7, 3"
   ]
  },
  {
   "cell_type": "markdown",
   "metadata": {},
   "source": [
    "---\n",
    "Find Numbers with required bitwise distance\n",
    "---"
   ]
  },
  {
   "cell_type": "code",
   "execution_count": 2,
   "metadata": {},
   "outputs": [
    {
     "name": "stdout",
     "output_type": "stream",
     "text": [
      "30\n",
      "0b111\n",
      "0b11001\n",
      "0b11110\n",
      "4\n"
     ]
    }
   ],
   "source": [
    "x, y = 7, 25\n",
    "\n",
    "print ( x ^ y )    #bitwise Xor: both are 1 or 0: false;   one 1 another 0: true\n",
    "\n",
    "print ( bin(x) )        #  00111\n",
    "print ( bin(y) )        #  11001\n",
    "print ( bin(x ^ y) )    #  11110\n",
    "\n",
    "print ( bin(x ^ y).count('1') )"
   ]
  },
  {
   "cell_type": "code",
   "execution_count": 2,
   "metadata": {},
   "outputs": [
    {
     "name": "stdout",
     "output_type": "stream",
     "text": [
      "[0, 7, 25, 30, 42, 45, 51, 52, 75, 76, 82, 85, 97, 102, 120, 127]\n"
     ]
    }
   ],
   "source": [
    "answer = [0]\n",
    "check = 0\n",
    "while (len(answer) < n):\n",
    "    check += 1\n",
    "    found = True\n",
    "    for i in answer:\n",
    "        if bin(check ^ i).count('1') < d:\n",
    "            found = False\n",
    "            break\n",
    "    if found:\n",
    "        answer.append(check)\n",
    "\n",
    "print(answer)"
   ]
  },
  {
   "cell_type": "markdown",
   "metadata": {},
   "source": [
    "---\n",
    "Output\n",
    "---"
   ]
  },
  {
   "cell_type": "code",
   "execution_count": 3,
   "metadata": {},
   "outputs": [
    {
     "name": "stdout",
     "output_type": "stream",
     "text": [
      "0 7 25 30 42 45 51 52 75 76\n",
      "82 85 97 102 120 127\n"
     ]
    }
   ],
   "source": [
    "line_count = 0\n",
    "out = ''\n",
    "for i in answer[:-1]:\n",
    "    out += str(i)\n",
    "    line_count += 1\n",
    "    out += ' ' if line_count % 10 > 0 else '\\n'\n",
    "out += str(answer[-1])\n",
    "print(out)"
   ]
  }
 ],
 "metadata": {
  "kernelspec": {
   "display_name": "Python 3",
   "language": "python",
   "name": "python3"
  },
  "language_info": {
   "codemirror_mode": {
    "name": "ipython",
    "version": 3
   },
   "file_extension": ".py",
   "mimetype": "text/x-python",
   "name": "python",
   "nbconvert_exporter": "python",
   "pygments_lexer": "ipython3",
   "version": "3.8.3"
  }
 },
 "nbformat": 4,
 "nbformat_minor": 4
}
