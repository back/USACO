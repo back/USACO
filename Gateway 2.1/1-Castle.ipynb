{
 "cells": [
  {
   "cell_type": "markdown",
   "metadata": {},
   "source": [
    "# Section 2.1 - The Castle\n",
    "\n",
    "### Read Inputs"
   ]
  },
  {
   "cell_type": "code",
   "execution_count": 1,
   "metadata": {},
   "outputs": [
    {
     "name": "stdout",
     "output_type": "stream",
     "text": [
      "[[11, 6, 11, 6, 3, 10, 6],\n",
      " [7, 9, 6, 13, 5, 15, 5],\n",
      " [1, 10, 12, 7, 13, 7, 5],\n",
      " [13, 11, 10, 8, 10, 12, 13]]\n"
     ]
    }
   ],
   "source": [
    "fin=StringIO('''7 4\n",
    "11 6 11 6 3 10 6\n",
    "7 9 6 13 5 15 5\n",
    "1 10 12 7 13 7 5\n",
    "13 11 10 8 10 12 13\n",
    "''')\n",
    "\n",
    "w,h = list(map(int, fin.readline().split()))\n",
    "room_walls = [list(map(int,line.split())) for line in fin.readlines()]\n",
    "pp(room_walls)"
   ]
  },
  {
   "cell_type": "markdown",
   "metadata": {},
   "source": [
    "### Merge the connected rooms"
   ]
  },
  {
   "cell_type": "code",
   "execution_count": 2,
   "metadata": {},
   "outputs": [
    {
     "name": "stdout",
     "output_type": "stream",
     "text": [
      "[[0, 0, 0, 0, 0, 0, 0],\n",
      " [0, 0, 0, 0, 0, 0, 0],\n",
      " [0, 0, 0, 0, 0, 0, 0],\n",
      " [0, 0, 0, 0, 0, 0, 0]]\n"
     ]
    }
   ],
   "source": [
    "room_codes = [[0] * w for _ in range(h)]\n",
    "pp(room_codes)"
   ]
  },
  {
   "cell_type": "markdown",
   "metadata": {},
   "source": [
    "### Bit Mask for Wall Checking"
   ]
  },
  {
   "cell_type": "code",
   "execution_count": 3,
   "metadata": {},
   "outputs": [
    {
     "name": "stdout",
     "output_type": "stream",
     "text": [
      "1 0 -1\n",
      "2 -1 0\n",
      "4 0 1\n",
      "8 1 0\n"
     ]
    }
   ],
   "source": [
    "steps = {1: ( 0,-1),  # West\n",
    "         2: (-1, 0),  # North\n",
    "         4: ( 0, 1),  # East\n",
    "         8: ( 1, 0)}  # South\n",
    "\n",
    "for mask, (dRow, dCol) in steps.items():\n",
    "    print(mask, dRow, dCol)"
   ]
  },
  {
   "cell_type": "markdown",
   "metadata": {},
   "source": [
    "##### Try any number for a validation"
   ]
  },
  {
   "cell_type": "code",
   "execution_count": 4,
   "metadata": {},
   "outputs": [
    {
     "name": "stdout",
     "output_type": "stream",
     "text": [
      "1\n",
      "2\n",
      "0\n",
      "8\n"
     ]
    }
   ],
   "source": [
    "i = 11\n",
    "print (i & 1)\n",
    "print (i & 2)\n",
    "print (i & 4)\n",
    "print (i & 8)"
   ]
  },
  {
   "cell_type": "markdown",
   "metadata": {},
   "source": [
    "### Flood Filling"
   ]
  },
  {
   "cell_type": "code",
   "execution_count": 5,
   "metadata": {},
   "outputs": [
    {
     "name": "stdout",
     "output_type": "stream",
     "text": [
      "[[1, 1, 2, 2, 3, 3, 3],\n",
      " [1, 1, 1, 2, 3, 4, 3],\n",
      " [1, 1, 1, 5, 3, 5, 3],\n",
      " [1, 5, 5, 5, 5, 5, 3]]\n"
     ]
    }
   ],
   "source": [
    "def check_code(i, j, token): \n",
    "    \n",
    "    if room_codes[i][j] > 0:\n",
    "        return False\n",
    "    \n",
    "    room_codes[i][j] = token\n",
    "    \n",
    "    for mask, (dRow, dCol) in steps.items():\n",
    "        if room_walls[i][j] & mask == 0:\n",
    "            check_code(i+dRow, j+dCol, token)\n",
    "    \n",
    "    return True\n",
    "\n",
    "t = 1\n",
    "for i in range(h):\n",
    "    for j in range(w):\n",
    "        if check_code(i, j, t):\n",
    "            t += 1\n",
    "        \n",
    "pp(room_codes)"
   ]
  },
  {
   "cell_type": "markdown",
   "metadata": {},
   "source": [
    "### Count Room Sizes"
   ]
  },
  {
   "cell_type": "code",
   "execution_count": 6,
   "metadata": {},
   "outputs": [
    {
     "name": "stdout",
     "output_type": "stream",
     "text": [
      "{1: 9, 2: 3, 3: 8, 4: 1, 5: 7}\n",
      "5\n",
      "9\n"
     ]
    }
   ],
   "source": [
    "room_sizes={}\n",
    "for i in range(h):\n",
    "    for j in range(w):\n",
    "        code = room_codes[i][j]\n",
    "        if code in room_sizes:\n",
    "            room_sizes[code] += 1\n",
    "        else:\n",
    "            room_sizes[code] = 1\n",
    "\n",
    "pp(room_sizes)\n",
    "print(len(room_sizes))\n",
    "print(max(room_sizes.values()))"
   ]
  },
  {
   "cell_type": "markdown",
   "metadata": {},
   "source": [
    "### Search for each wall to find Max Merge"
   ]
  },
  {
   "cell_type": "code",
   "execution_count": null,
   "metadata": {},
   "outputs": [],
   "source": [
    "min_i = 0\n",
    "min_j = 0\n",
    "max_size = 0\n",
    "max_direction = ''\n",
    "for j in range(w):                # for (int j = 0;   j < w;  j++) {...}\n",
    "    for i in range(h-1, -1, -1):  # for (int i = h-1; i > -1; i--) {...}\n",
    "        wall = room_walls[i][j]\n",
    "        merged_east = 0\n",
    "        merged_north = 0\n",
    "        if wall >= 8:\n",
    "            wall -= 8\n",
    "        if wall >= 4 and j < w-1:\n",
    "            if room_codes[i][j] != room_codes[i][j+1]:\n",
    "                merged_east = room_sizes[room_codes[i][j]] + room_sizes[room_codes[i][j+1]]\n",
    "            wall -= 4\n",
    "        if wall >= 2 and i > 0:\n",
    "            if room_codes[i][j] != room_codes[i-1][j]:\n",
    "                merged_north = room_sizes[room_codes[i][j]] + room_sizes[room_codes[i-1][j]]\n",
    "        if merged_north > max_size:\n",
    "            min_i = i\n",
    "            min_j = j\n",
    "            max_size = merged_north\n",
    "            max_direction = 'N'\n",
    "        if merged_east > max_size:\n",
    "            min_i = i\n",
    "            min_j = j\n",
    "            max_size = merged_east\n",
    "            max_direction = 'E'\n",
    "\n",
    "print(max_size)  # <-- max room size after merge\n",
    "print(min_i+1, min_j+1, max_direction)"
   ]
  }
 ],
 "metadata": {
  "kernelspec": {
   "display_name": "Python 3",
   "language": "python",
   "name": "python3"
  },
  "language_info": {
   "codemirror_mode": {
    "name": "ipython",
    "version": 3
   },
   "file_extension": ".py",
   "mimetype": "text/x-python",
   "name": "python",
   "nbconvert_exporter": "python",
   "pygments_lexer": "ipython3",
   "version": "3.9.7"
  }
 },
 "nbformat": 4,
 "nbformat_minor": 4
}
