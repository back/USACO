{
 "cells": [
  {
   "cell_type": "markdown",
   "metadata": {},
   "source": [
    "# Sorting\n",
    "\n",
    "- Bronze problems are designed that you shouldn't need a $\\mathcal{O}(N\\log N)$ time sort\n",
    "- repeatedly extracting the minimum in $\\mathcal{O}(N^2)$ time will always suffice.\n",
    "\n",
    "# Videos\n",
    "- [Merge Sort](https://youtu.be/XaqR3G_NVoo)\n",
    "- [Quick Sort](https://youtu.be/ywWBy6J5gz8)\n",
    "\n",
    "### Java APIs\n",
    "\n",
    "- [Arrays.sort](https://docs.oracle.com/javase/7/docs/api/java/util/Arrays.html#sort(java.lang.Object[])) --> on an array\n",
    "- [Collections.sort](https://docs.oracle.com/javase/7/docs/api/java/util/Collections.html#sort(java.util.List)) --> on a list\n",
    "\n",
    "### C/C++ & Python\n",
    "\n",
    "- sort()\n",
    "\n",
    "### Two Sample Problems to Study\n",
    "- [Distinct Numbers](https://cses.fi/problemset/task/1621)\n",
    "- [Kayaking](https://codeforces.com/contest/863/problem/B)\n",
    "\n",
    "### More Problems from USACO\n",
    "- [Why Did the Cow Cross the Road III](http://www.usaco.org/index.php?page=viewproblem2&cpid=713)\n",
    "\n",
    "### Beyong Easy Level\n",
    "- [Angry Cows](http://www.usaco.org/index.php?page=viewproblem2&cpid=592)\n"
   ]
  }
 ],
 "metadata": {
  "kernelspec": {
   "display_name": "Java",
   "language": "java",
   "name": "java"
  },
  "language_info": {
   "codemirror_mode": "java",
   "file_extension": ".jshell",
   "mimetype": "text/x-java-source",
   "name": "Java",
   "pygments_lexer": "java",
   "version": "14.0.2+12-46"
  }
 },
 "nbformat": 4,
 "nbformat_minor": 4
}
