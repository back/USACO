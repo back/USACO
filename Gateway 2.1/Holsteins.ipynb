{
 "cells": [
  {
   "cell_type": "markdown",
   "metadata": {},
   "source": [
    "# Section 2.1 - Healthy Holsteins\n",
    "---\n",
    "Read Inputs\n",
    "---"
   ]
  },
  {
   "cell_type": "code",
   "execution_count": 6,
   "metadata": {},
   "outputs": [
    {
     "name": "stdout",
     "output_type": "stream",
     "text": [
      "4 [100, 200, 300, 400]\n",
      "3 [[50, 50, 50, 50], [200, 300, 200, 300], [900, 150, 389, 399]]\n"
     ]
    }
   ],
   "source": [
    "fin=StringIO('''4\n",
    "100 200 300 400\n",
    "3\n",
    "50   50  50  50\n",
    "200 300 200 300\n",
    "900 150 389 399\n",
    "''')\n",
    "\n",
    "v = int(fin.readline().strip())\n",
    "req = list(map(int, fin.readline().split()))\n",
    "g = int(fin.readline().strip())\n",
    "feeds = [list(map(int, i.split())) for i in fin.readlines()]\n",
    "\n",
    "print(v, req)\n",
    "print(g, feeds)"
   ]
  },
  {
   "cell_type": "markdown",
   "metadata": {},
   "source": [
    "---\n",
    "Calculate the Scoop of each Holsteins\n",
    "---"
   ]
  },
  {
   "cell_type": "code",
   "execution_count": 16,
   "metadata": {},
   "outputs": [
    {
     "name": "stdout",
     "output_type": "stream",
     "text": [
      "[[0], [1], [2], [3]]\n"
     ]
    }
   ],
   "source": [
    "pool = [[i] for i in range(g)]\n",
    "print(pool)"
   ]
  },
  {
   "cell_type": "code",
   "execution_count": 11,
   "metadata": {},
   "outputs": [
    {
     "name": "stdout",
     "output_type": "stream",
     "text": [
      "[[0], [1], [2]]\n",
      "[50, 50, 50, 50]\n",
      "\n",
      "[200, 300, 200, 300]\n",
      "\n",
      "[900, 150, 389, 399]\n",
      "\n",
      "[[0, 1], [0, 2], [1, 2]]\n",
      "[250, 350, 250, 350]\n",
      "\n",
      "[950, 200, 439, 449]\n",
      "2 1 3\n"
     ]
    }
   ],
   "source": [
    "while pool:\n",
    "    print(pool)\n",
    "    for p in pool:\n",
    "        scoops = list(map(sum, zip(*[feeds[i] for i in p])))\n",
    "        print(scoops)\n",
    "        if all(i[0]<=i[1] for i in zip(req,scoops)):\n",
    "            print(len(p),' '.join(list(str(i+1) for i in p)))\n",
    "            pool = None\n",
    "            break\n",
    "        print()\n",
    "    if pool:\n",
    "        pool = [p+[i] for p in pool for i in range(p[-1]+1, g)]"
   ]
  }
 ],
 "metadata": {
  "kernelspec": {
   "display_name": "Python 3",
   "language": "python",
   "name": "python3"
  },
  "language_info": {
   "codemirror_mode": {
    "name": "ipython",
    "version": 3
   },
   "file_extension": ".py",
   "mimetype": "text/x-python",
   "name": "python",
   "nbconvert_exporter": "python",
   "pygments_lexer": "ipython3",
   "version": "3.8.3"
  }
 },
 "nbformat": 4,
 "nbformat_minor": 4
}
