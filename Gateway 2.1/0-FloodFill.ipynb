{
 "cells": [
  {
   "cell_type": "markdown",
   "metadata": {},
   "source": [
    "# Flood Fill Algorithm\n",
    "\n",
    "### Connected Fields\n",
    "\n",
    "![](../image/FloodFill.gif)\n",
    "\n",
    "---\n",
    "### Store the Graph by an Edges List"
   ]
  },
  {
   "cell_type": "code",
   "execution_count": 3,
   "metadata": {},
   "outputs": [],
   "source": [
    "graph = [(1,4), (1,8), (2,7), (2,9), (5,6), (5,7), (5,9), (7,9)]"
   ]
  },
  {
   "cell_type": "markdown",
   "metadata": {},
   "source": [
    "### Prepare the Component Mapping"
   ]
  },
  {
   "cell_type": "code",
   "execution_count": 12,
   "metadata": {},
   "outputs": [
    {
     "name": "stdout",
     "output_type": "stream",
     "text": [
      "[0, 0, 0, 0, 0, 0, 0, 0, 0, 0]\n"
     ]
    }
   ],
   "source": [
    "compo = [0] * 10\n",
    "print(compo)"
   ]
  },
  {
   "cell_type": "markdown",
   "metadata": {},
   "source": [
    "### Flood Fill Algorithm"
   ]
  },
  {
   "cell_type": "code",
   "execution_count": 7,
   "metadata": {},
   "outputs": [],
   "source": [
    "def floodfill(label):\n",
    "    found = True\n",
    "    while found:\n",
    "        found = False\n",
    "        for i in range(1,10):\n",
    "            if compo[i] == -1:\n",
    "                found = True\n",
    "                compo[i] = label\n",
    "                for a,b in graph:\n",
    "                    if i in (a,b):\n",
    "                        x = b if i==a else a\n",
    "                        if compo[x] == 0:\n",
    "                            compo[x] = -1"
   ]
  },
  {
   "cell_type": "markdown",
   "metadata": {},
   "source": [
    "### Manual Test"
   ]
  },
  {
   "cell_type": "code",
   "execution_count": 11,
   "metadata": {},
   "outputs": [
    {
     "name": "stdout",
     "output_type": "stream",
     "text": [
      "[0, 100, 0, 0, 100, 0, 0, 0, 100, 0]\n"
     ]
    }
   ],
   "source": [
    "compo[1] = -1\n",
    "floodfill(100)\n",
    "\n",
    "\n",
    "print(compo)"
   ]
  },
  {
   "cell_type": "markdown",
   "metadata": {},
   "source": [
    "### Complete Search"
   ]
  },
  {
   "cell_type": "code",
   "execution_count": 13,
   "metadata": {},
   "outputs": [
    {
     "name": "stdout",
     "output_type": "stream",
     "text": [
      "[0, 1, 2, 3, 1, 2, 2, 2, 1, 2]\n"
     ]
    }
   ],
   "source": [
    "label = 1\n",
    "for i in range(1,10):\n",
    "    if compo[i] == 0:\n",
    "        compo[i] = -1;\n",
    "        floodfill(label)\n",
    "        label += 1\n",
    "print(compo)"
   ]
  },
  {
   "cell_type": "markdown",
   "metadata": {},
   "source": [
    "### Final Answer"
   ]
  },
  {
   "cell_type": "code",
   "execution_count": 14,
   "metadata": {},
   "outputs": [
    {
     "name": "stdout",
     "output_type": "stream",
     "text": [
      "3\n"
     ]
    }
   ],
   "source": [
    "print(max(compo))"
   ]
  },
  {
   "cell_type": "code",
   "execution_count": 16,
   "metadata": {},
   "outputs": [
    {
     "name": "stdout",
     "output_type": "stream",
     "text": [
      "[2, 2, 1, 3, 3, 3, 2, 3, 1]\n",
      "[1, 1, 2, 2, 2, 3, 3, 3, 3]\n"
     ]
    }
   ],
   "source": [
    "p = [2,2,1,3,3,3,2,3,1]\n",
    "q = sorted(p)\n",
    "\n",
    "print(p)\n",
    "print(q)"
   ]
  }
 ],
 "metadata": {
  "kernelspec": {
   "display_name": "Python 3",
   "language": "python",
   "name": "python3"
  },
  "language_info": {
   "codemirror_mode": {
    "name": "ipython",
    "version": 3
   },
   "file_extension": ".py",
   "mimetype": "text/x-python",
   "name": "python",
   "nbconvert_exporter": "python",
   "pygments_lexer": "ipython3",
   "version": "3.8.3"
  }
 },
 "nbformat": 4,
 "nbformat_minor": 4
}
