{
 "cells": [
  {
   "cell_type": "markdown",
   "metadata": {},
   "source": [
    "# Section 2.1 - The Castle\n",
    "\n",
    "---\n",
    "Read Inputs\n",
    "---"
   ]
  },
  {
   "cell_type": "code",
   "execution_count": null,
   "metadata": {},
   "outputs": [],
   "source": [
    "fin=StringIO('''7 4\n",
    "11 6 11 6 3 10 6\n",
    "7 9 6 13 5 15 5\n",
    "1 10 12 7 13 7 5\n",
    "13 11 10 8 10 12 13\n",
    "''')\n",
    "\n",
    "w,h = list(map(int, fin.readline().split()))\n",
    "room_walls = [list(map(int,line.split())) for line in fin.readlines()]\n",
    "pp(room_walls)"
   ]
  },
  {
   "cell_type": "markdown",
   "metadata": {},
   "source": [
    "---\n",
    "Merge the connected rooms\n",
    "---"
   ]
  },
  {
   "cell_type": "code",
   "execution_count": null,
   "metadata": {},
   "outputs": [],
   "source": [
    "room_codes = [list(range(i*w, i*w+w)) for i in range(h)]\n",
    "pp(room_codes)"
   ]
  },
  {
   "cell_type": "code",
   "execution_count": null,
   "metadata": {},
   "outputs": [],
   "source": [
    "def check_code(i, j):\n",
    "    wall = room_walls[i][j]\n",
    "    code = room_codes[i][j]\n",
    "    if wall < 8: # open to the south\n",
    "        if code < room_codes[i+1][j]:\n",
    "            room_codes[i+1][j] = code\n",
    "            check_code(i+1, j)\n",
    "    else:\n",
    "        wall -= 8\n",
    "    if wall < 4: # open to the east\n",
    "        if code<room_codes[i][j+1]:\n",
    "            room_codes[i][j+1] = code\n",
    "            check_code(i, j+1)\n",
    "    else:\n",
    "        wall -= 4\n",
    "    if wall < 2: # open to the north\n",
    "        if code<room_codes[i-1][j]:\n",
    "            room_codes[i-1][j] = code\n",
    "            check_code(i-1, j)\n",
    "    else:\n",
    "        wall-=2\n",
    "    if wall < 1: # open to the west\n",
    "        if code<room_codes[i][j-1]:\n",
    "            room_codes[i][j-1] = code\n",
    "            check_code(i, j-1)\n",
    "\n",
    "for i in range(h):\n",
    "    for j in range(w):\n",
    "        check_code(i, j)\n",
    "        \n",
    "pp(room_codes)"
   ]
  },
  {
   "cell_type": "markdown",
   "metadata": {},
   "source": [
    "---\n",
    "Find all merged room sizes\n",
    "---"
   ]
  },
  {
   "cell_type": "code",
   "execution_count": null,
   "metadata": {},
   "outputs": [],
   "source": [
    "room_sizes={}\n",
    "for i in range(h):\n",
    "    for j in range(w):\n",
    "        code = room_codes[i][j]\n",
    "        if code in room_sizes:\n",
    "            room_sizes[code] += 1\n",
    "        else:\n",
    "            room_sizes[code] = 1\n",
    "\n",
    "pp(room_sizes)\n",
    "print(len(room_sizes))\n",
    "print(max(room_sizes.values()))"
   ]
  },
  {
   "cell_type": "code",
   "execution_count": null,
   "metadata": {},
   "outputs": [],
   "source": [
    "min_i = 0\n",
    "min_j = 0\n",
    "max_size = 0\n",
    "max_direction = ''\n",
    "for j in range(w):                # for (int j = 0;   j < w;  j++) {...}\n",
    "    for i in range(h-1, -1, -1):  # for (int i = h-1; i > -1; i--) {...}\n",
    "        wall = room_walls[i][j]\n",
    "        merged_east = 0\n",
    "        merged_north = 0\n",
    "        if wall >= 8:\n",
    "            wall -= 8\n",
    "        if wall >= 4 and j < w-1:\n",
    "            if room_codes[i][j] != room_codes[i][j+1]:\n",
    "                merged_east = room_sizes[room_codes[i][j]] + room_sizes[room_codes[i][j+1]]\n",
    "            wall -= 4\n",
    "        if wall >= 2 and i > 0:\n",
    "            if room_codes[i][j] != room_codes[i-1][j]:\n",
    "                merged_north = room_sizes[room_codes[i][j]] + room_sizes[room_codes[i-1][j]]\n",
    "        if merged_north > max_size:\n",
    "            min_i = i\n",
    "            min_j = j\n",
    "            max_size = merged_north\n",
    "            max_direction = 'N'\n",
    "        if merged_east > max_size:\n",
    "            min_i = i\n",
    "            min_j = j\n",
    "            max_size = merged_east\n",
    "            max_direction = 'E'\n",
    "\n",
    "print(max_size)  # <-- max room size after merge\n",
    "print(min_i+1, min_j+1, max_direction)"
   ]
  }
 ],
 "metadata": {
  "kernelspec": {
   "display_name": "Python 3",
   "language": "python",
   "name": "python3"
  },
  "language_info": {
   "codemirror_mode": {
    "name": "ipython",
    "version": 3
   },
   "file_extension": ".py",
   "mimetype": "text/x-python",
   "name": "python",
   "nbconvert_exporter": "python",
   "pygments_lexer": "ipython3",
   "version": "3.9.7"
  }
 },
 "nbformat": 4,
 "nbformat_minor": 4
}
