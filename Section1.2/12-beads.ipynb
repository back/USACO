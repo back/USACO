{
 "cells": [
  {
   "cell_type": "markdown",
   "metadata": {},
   "source": [
    "# Section 1.2 - Broken Necklace\n",
    "- Take care of the ring loop\n",
    "- Need to count with status"
   ]
  },
  {
   "cell_type": "code",
   "execution_count": null,
   "metadata": {},
   "outputs": [],
   "source": [
    "length = 29\n",
    "beads='wwwbbrwrbrbrrbrbrwrwwrbwrwrrb' * 2\n",
    "print (beads)"
   ]
  },
  {
   "cell_type": "markdown",
   "metadata": {},
   "source": [
    "## How to deal with the ring loop?"
   ]
  },
  {
   "cell_type": "code",
   "execution_count": null,
   "metadata": {},
   "outputs": [],
   "source": [
    "for i in range(length):\n",
    "    print(beads[i:i+length])"
   ]
  },
  {
   "cell_type": "code",
   "execution_count": null,
   "metadata": {},
   "outputs": [],
   "source": [
    "answer = 0\n",
    "for i in range(length):\n",
    "    collected = red = blue = 0\n",
    "    for c in beads[i:i+length]:\n",
    "        if c=='w':\n",
    "            collected += 1\n",
    "            continue\n",
    "        if c=='r':\n",
    "            red = blue + 1\n",
    "        if c=='b':\n",
    "            blue = red + 1\n",
    "        if red > 2 or blue > 2:\n",
    "            break\n",
    "        collected += 1\n",
    "    if collected > answer:\n",
    "        answer = collected\n",
    "            \n",
    "print (answer)\n"
   ]
  }
 ],
 "metadata": {
  "kernelspec": {
   "display_name": "Python 3",
   "language": "python",
   "name": "python3"
  },
  "language_info": {
   "codemirror_mode": {
    "name": "ipython",
    "version": 3
   },
   "file_extension": ".py",
   "mimetype": "text/x-python",
   "name": "python",
   "nbconvert_exporter": "python",
   "pygments_lexer": "ipython3",
   "version": "3.8.3"
  }
 },
 "nbformat": 4,
 "nbformat_minor": 4
}
