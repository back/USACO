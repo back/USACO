{
 "cells": [
  {
   "cell_type": "markdown",
   "metadata": {},
   "source": [
    "# Section 1.2 - Count the Clumps\n",
    "\n",
    "- [CodingBat Question Link](https://codingbat.com/prob/p193817)\n",
    "\n",
    "### Solution\n",
    "\n",
    "- Start searching from the 3rd element\n",
    "- Count clumps if:\n",
    "  - N<sub>i-2</sub> **==** N<sub>i-1</sub>\n",
    "  - N<sub>i-1</sub>  **!=**  N<sub>i</sub>\n",
    "- Take special care for the last pair of the list\n",
    "  - Just assume there is extra invisible number after the last element\n",
    "  - And it does not equal to any previous numbers\n",
    "  \n",
    "---\n",
    "### Java Code\n",
    "```java\n",
    "int clumps = 0;\n",
    "\n",
    "for(int i=2; i<=nums.length; i++)\n",
    "    if ((i==nums.length || nums[i] != nums[i-1]) && nums[i-1] == nums[i-2])\n",
    "        clumps++;\n",
    "\n",
    "return clumps;\n",
    "```"
   ]
  }
 ],
 "metadata": {
  "kernelspec": {
   "display_name": "Python 3",
   "language": "python",
   "name": "python3"
  },
  "language_info": {
   "codemirror_mode": {
    "name": "ipython",
    "version": 3
   },
   "file_extension": ".py",
   "mimetype": "text/x-python",
   "name": "python",
   "nbconvert_exporter": "python",
   "pygments_lexer": "ipython3",
   "version": "3.8.3"
  }
 },
 "nbformat": 4,
 "nbformat_minor": 4
}
