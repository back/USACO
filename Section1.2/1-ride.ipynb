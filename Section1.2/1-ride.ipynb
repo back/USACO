{
 "cells": [
  {
   "cell_type": "markdown",
   "metadata": {},
   "source": [
    "# Section 1.2 - Your Ride Is Here\n",
    "- Read 2 line of names (string without line ending)\n",
    "- Split each line into character arrays"
   ]
  },
  {
   "cell_type": "code",
   "execution_count": null,
   "metadata": {},
   "outputs": [],
   "source": [
    "a = 'COMETQ'\n",
    "b = 'HVNGAT'\n",
    "\n",
    "for i in a:\n",
    "    print (i, ord(i), ord(i) - ord('A') + 1)\n",
    "#print ([ i for i in a ])"
   ]
  },
  {
   "cell_type": "markdown",
   "metadata": {},
   "source": [
    "- Define the encoding function\n",
    "- Compare the encoding results"
   ]
  },
  {
   "cell_type": "code",
   "execution_count": null,
   "metadata": {},
   "outputs": [],
   "source": [
    "from operator import mul\n",
    "from functools import reduce\n",
    "encode = lambda s: reduce(mul, (ord(c)-64 for c in s.strip()))%47"
   ]
  },
  {
   "cell_type": "code",
   "execution_count": null,
   "metadata": {},
   "outputs": [],
   "source": [
    "def enc(s):\n",
    "    code = 1\n",
    "    for c in s:\n",
    "        code *= ord(c) - 64\n",
    "    return code % 47"
   ]
  },
  {
   "cell_type": "code",
   "execution_count": null,
   "metadata": {
    "tags": []
   },
   "outputs": [],
   "source": [
    "print( 'GO' if encode(a) == encode(b) else 'STAY' )"
   ]
  },
  {
   "cell_type": "code",
   "execution_count": null,
   "metadata": {
    "tags": []
   },
   "outputs": [],
   "source": [
    "c = 'ABSTAR'\n",
    "d = 'USACO'\n",
    "print( 'GO' if encode(c) == encode(d) else 'STAY' )"
   ]
  }
 ],
 "metadata": {
  "kernelspec": {
   "display_name": "Python 3",
   "language": "python",
   "name": "python3"
  },
  "language_info": {
   "codemirror_mode": {
    "name": "ipython",
    "version": 3
   },
   "file_extension": ".py",
   "mimetype": "text/x-python",
   "name": "python",
   "nbconvert_exporter": "python",
   "pygments_lexer": "ipython3",
   "version": "3.8.3"
  }
 },
 "nbformat": 4,
 "nbformat_minor": 4
}
