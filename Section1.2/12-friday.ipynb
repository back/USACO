{
 "cells": [
  {
   "cell_type": "markdown",
   "metadata": {},
   "source": [
    "# Section 1.2 - Firday the Thirteenth\n",
    "There is a online [Calculator](https://www.calculator.net/date-calculator.html) you can use."
   ]
  },
  {
   "cell_type": "code",
   "execution_count": null,
   "metadata": {},
   "outputs": [],
   "source": [
    "isLeapYear = lambda year: year % 400 == 0 or year % 4 == 0 and year % 100 > 0\n",
    "for year in [1700, 1800,1900,2000,2004]:\n",
    "    print(year, isLeapYear(year))"
   ]
  },
  {
   "cell_type": "code",
   "execution_count": null,
   "metadata": {},
   "outputs": [],
   "source": [
    "n = 1\n",
    "rslt = [0, 0, 0, 0, 0, 0, 0]\n",
    "days = 13 - 31\n",
    "for year in range(1900, 1900+n):\n",
    "    for month in range(12):\n",
    "        if month in (0,1,3,5,7,8,10):\n",
    "            days += 31\n",
    "        elif month in (4,6,9,11):\n",
    "            days += 30\n",
    "        else:\n",
    "            days += 28\n",
    "            if year % 400 == 0 or year % 4 == 0 and year % 100 > 0:\n",
    "                days += 1\n",
    "        rslt[ (days+1) % 7 ] += 1\n",
    "print(rslt)"
   ]
  }
 ],
 "metadata": {
  "kernelspec": {
   "display_name": "Python 3",
   "language": "python",
   "name": "python3"
  },
  "language_info": {
   "codemirror_mode": {
    "name": "ipython",
    "version": 3
   },
   "file_extension": ".py",
   "mimetype": "text/x-python",
   "name": "python",
   "nbconvert_exporter": "python",
   "pygments_lexer": "ipython3",
   "version": "3.8.3"
  }
 },
 "nbformat": 4,
 "nbformat_minor": 4
}
