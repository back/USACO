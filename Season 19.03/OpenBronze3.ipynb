{
 "cells": [
  {
   "cell_type": "code",
   "execution_count": 11,
   "id": "3103fed6",
   "metadata": {},
   "outputs": [],
   "source": [
    "import sys\n",
    "\n",
    "sys.stdin=StringIO('''4\n",
    "2 spots firebreathing\n",
    "0\n",
    "1 flying\n",
    "2 telepathic flying\n",
    "''')"
   ]
  },
  {
   "cell_type": "code",
   "execution_count": 12,
   "id": "75478a2b",
   "metadata": {},
   "outputs": [
    {
     "name": "stdout",
     "output_type": "stream",
     "text": [
      "{'firebreathing': [0], 'flying': [2, 3], 'spots': [0], 'telepathic': [3]}\n"
     ]
    }
   ],
   "source": [
    "n = int(sys.stdin.readline())\n",
    "mtx = {}\n",
    "for i in range(n):\n",
    "    for char in sys.stdin.readline().split()[1:]:\n",
    "        if char in mtx:\n",
    "            mtx[char].append(i)\n",
    "        else:\n",
    "            mtx[char] = [i]\n",
    "pp(mtx)"
   ]
  },
  {
   "cell_type": "code",
   "execution_count": 13,
   "id": "773f437f",
   "metadata": {},
   "outputs": [],
   "source": [
    "pops = list(mtx.values())\n",
    "\n",
    "for i in range(len(pops)-1):\n",
    "    for j in range(i, len(pops)):\n",
    "        print()"
   ]
  }
 ],
 "metadata": {
  "kernelspec": {
   "display_name": "Python 3 (ipykernel)",
   "language": "python",
   "name": "python3"
  },
  "language_info": {
   "codemirror_mode": {
    "name": "ipython",
    "version": 3
   },
   "file_extension": ".py",
   "mimetype": "text/x-python",
   "name": "python",
   "nbconvert_exporter": "python",
   "pygments_lexer": "ipython3",
   "version": "3.9.7"
  }
 },
 "nbformat": 4,
 "nbformat_minor": 5
}
