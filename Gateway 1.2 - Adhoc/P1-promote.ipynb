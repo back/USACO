{
 "cells": [
  {
   "cell_type": "markdown",
   "id": "31316d70-52f8-43b3-8778-4f49cb79cfff",
   "metadata": {},
   "source": [
    "# Promote Counting\n",
    "> http://www.usaco.org/index.php?page=viewproblem2&cpid=591\n",
    "\n",
    "\n",
    "|        | Before | After |Promoted?|\n",
    "|--------|--------|-------|---------|\n",
    "|Bronze  | 55     | 61    |         |\n",
    "|Silver  | 36     | 44    |    ?    |\n",
    "|Gold    | 22     | 18    |    ?    |\n",
    "|Platinum| 7      | 10    |    ?    |\n"
   ]
  },
  {
   "cell_type": "code",
   "execution_count": 7,
   "id": "01e67468-97d8-45e9-9a30-52423a95c54d",
   "metadata": {},
   "outputs": [
    {
     "name": "stdout",
     "output_type": "stream",
     "text": [
      "3\n",
      "7\n",
      "13\n"
     ]
    }
   ],
   "source": [
    "bronze   = [55,61]\n",
    "silver   = [36,42]\n",
    "gold     = [22,26]\n",
    "platinum = [ 7,10]\n",
    "\n",
    "platinum_promotions = platinum[1] - platinum[0]\n",
    "gold_promotions     = platinum_promotions + gold[1] - gold[0]\n",
    "silver_promotions   = gold_promotions + silver[1] - silver[0]\n",
    "\n",
    "print(platinum_promotions)\n",
    "print(gold_promotions)\n",
    "print(silver_promotions)"
   ]
  }
 ],
 "metadata": {
  "kernelspec": {
   "display_name": "Python 3",
   "language": "python",
   "name": "python3"
  },
  "language_info": {
   "codemirror_mode": {
    "name": "ipython",
    "version": 3
   },
   "file_extension": ".py",
   "mimetype": "text/x-python",
   "name": "python",
   "nbconvert_exporter": "python",
   "pygments_lexer": "ipython3",
   "version": "3.9.7"
  }
 },
 "nbformat": 4,
 "nbformat_minor": 5
}
