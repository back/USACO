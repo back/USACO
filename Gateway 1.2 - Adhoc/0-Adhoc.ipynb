{
 "cells": [
  {
   "cell_type": "markdown",
   "metadata": {},
   "source": [
    "# Adhoc Problems\n",
    "\n",
    "- National Sorting (Bucket Sort)\n",
    "\n",
    "> 1 millon SAT scores\n",
    "\n",
    "> Score Range: 0 - 1600\n",
    "\n",
    "```Java\n",
    "int[] scores  = new int[1601];\n",
    "\n",
    "scores[0];\n",
    "scores[1];\n",
    "...\n",
    "scores[1600];\n",
    "\n",
    "scores[1204]++;  // <-- 1204\n",
    "```\n",
    "\n",
    "### Easy\n",
    "- [Do you know your ABCs?](http://www.usaco.org/index.php?page=viewproblem2&cpid=1059)\n",
    "- [Promote Counting](http://www.usaco.org/index.php?page=viewproblem2&cpid=591)\n",
    "- [Word Processor](http://www.usaco.org/index.php?page=viewproblem2&cpid=987)\n",
    "- [Teleportation](http://www.usaco.org/index.php?page=viewproblem2&cpid=807)\n",
    "- [Bucket Brigate](http://www.usaco.org/index.php?page=viewproblem2&cpid=939)\n",
    "- [Sleepy Cow Herding](http://www.usaco.org/index.php?page=viewproblem2&cpid=915)\n",
    "\n",
    "### Normal\n",
    "- [Sleepy Cow Sorting](http://www.usaco.org/index.php?page=viewproblem2&cpid=892)\n",
    "- [Taming the Herd](http://www.usaco.org/index.php?page=viewproblem2&cpid=809)\n",
    "- [Milking Order](http://www.usaco.org/index.php?page=viewproblem2&cpid=832)\n",
    "\n",
    "### Hard\n",
    "- [Modern Art](http://www.usaco.org/index.php?page=viewproblem2&cpid=737)\n",
    "- [Hoofball](http://www.usaco.org/index.php?page=viewproblem2&cpid=808)\n",
    "\n",
    "### Uncategorized\n",
    "- [Spirale](https://dmoj.ca/problem/coci17c5p2)\n",
    "- [Dima & Containers](https://codeforces.com/problemset/problem/358/C)\n",
    "- [Digit Quaries](https://cses.fi/problemset/task/2431/) (really hard)"
   ]
  }
 ],
 "metadata": {
  "kernelspec": {
   "display_name": "Python 3",
   "language": "python",
   "name": "python3"
  },
  "language_info": {
   "codemirror_mode": {
    "name": "ipython",
    "version": 3
   },
   "file_extension": ".py",
   "mimetype": "text/x-python",
   "name": "python",
   "nbconvert_exporter": "python",
   "pygments_lexer": "ipython3",
   "version": "3.9.7"
  }
 },
 "nbformat": 4,
 "nbformat_minor": 4
}
