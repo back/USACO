{
 "cells": [
  {
   "cell_type": "markdown",
   "id": "ade892ae-f357-45ab-a75d-ccaa51885d6a",
   "metadata": {},
   "source": [
    "# Bucket Brigate"
   ]
  }
 ],
 "metadata": {
  "kernelspec": {
   "display_name": "Python 3",
   "language": "python",
   "name": "python3"
  },
  "language_info": {
   "codemirror_mode": {
    "name": "ipython",
    "version": 3
   },
   "file_extension": ".py",
   "mimetype": "text/x-python",
   "name": "python",
   "nbconvert_exporter": "python",
   "pygments_lexer": "ipython3",
   "version": "3.9.7"
  }
 },
 "nbformat": 4,
 "nbformat_minor": 5
}
