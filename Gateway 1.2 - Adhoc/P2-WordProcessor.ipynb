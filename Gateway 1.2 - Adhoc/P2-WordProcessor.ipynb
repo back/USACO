{
 "cells": [
  {
   "cell_type": "markdown",
   "id": "fcb382d5-98ca-45eb-98d8-b70066f7f55c",
   "metadata": {},
   "source": [
    "# Word Processor\n",
    "> http://www.usaco.org/index.php?page=viewproblem2&cpid=987\n",
    "### Read Inputs"
   ]
  },
  {
   "cell_type": "code",
   "execution_count": 9,
   "id": "beb07c22-3079-4d43-a9b1-602e66bcdba3",
   "metadata": {},
   "outputs": [
    {
     "name": "stdout",
     "output_type": "stream",
     "text": [
      "['hello', 'my', 'name', 'is', 'Bessie', 'and', 'this', 'is', 'my', 'essay']\n"
     ]
    }
   ],
   "source": [
    "read = StringIO('''10 7\n",
    "hello my name is Bessie and this is my essay\n",
    "''')\n",
    "\n",
    "n, k = map(int, read.readline().split())\n",
    "word_list = read.readline().split()\n",
    "print(word_list)"
   ]
  },
  {
   "cell_type": "markdown",
   "id": "0517333c-85c9-4a60-a23e-f7d4a46627e8",
   "metadata": {},
   "source": [
    "### Print Out the Result"
   ]
  },
  {
   "cell_type": "code",
   "execution_count": 10,
   "id": "455fa32a-1ec8-49fb-bcb7-f9d197b90193",
   "metadata": {},
   "outputs": [
    {
     "name": "stdout",
     "output_type": "stream",
     "text": [
      "hello my\n",
      "name is\n",
      "Bessie\n",
      "and this\n",
      "is my\n",
      "essay\n"
     ]
    }
   ],
   "source": [
    "cur_chars = 0\n",
    "for word in word_list:\n",
    "    if cur_chars + len(word) > k:\n",
    "        print()\n",
    "        cur_chars = 0\n",
    "    elif cur_chars > 0:\n",
    "        print(' ', end='')\n",
    "    print(word, end='')\n",
    "    cur_chars += len(word)\n",
    "print()"
   ]
  }
 ],
 "metadata": {
  "kernelspec": {
   "display_name": "Python 3",
   "language": "python",
   "name": "python3"
  },
  "language_info": {
   "codemirror_mode": {
    "name": "ipython",
    "version": 3
   },
   "file_extension": ".py",
   "mimetype": "text/x-python",
   "name": "python",
   "nbconvert_exporter": "python",
   "pygments_lexer": "ipython3",
   "version": "3.9.7"
  }
 },
 "nbformat": 4,
 "nbformat_minor": 5
}
