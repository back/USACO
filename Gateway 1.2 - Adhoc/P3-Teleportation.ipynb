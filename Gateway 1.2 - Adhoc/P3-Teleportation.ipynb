{
 "cells": [
  {
   "cell_type": "markdown",
   "id": "0c77d13d-1a49-4f00-97ca-2a92e646a1d9",
   "metadata": {},
   "source": [
    "# Teleportation\n",
    "> http://www.usaco.org/index.php?page=viewproblem2&cpid=807\n",
    "### Read Inputs"
   ]
  },
  {
   "cell_type": "code",
   "execution_count": 3,
   "id": "f948c4c8-fc90-448d-a82e-18762075bd74",
   "metadata": {},
   "outputs": [
    {
     "name": "stdout",
     "output_type": "stream",
     "text": [
      "3 10 8 2\n"
     ]
    }
   ],
   "source": [
    "file_in = StringIO('''3 10 8 2\n",
    "''')\n",
    "\n",
    "data = file_in.readline().split('\\n')\n",
    "a, b, x, y = map(int, data[0].split(' '))\n",
    "\n",
    "print(a, b, x, y)"
   ]
  },
  {
   "cell_type": "markdown",
   "id": "9b788f85-198c-4e13-8e2b-0782ae92c294",
   "metadata": {},
   "source": [
    "### Calculate Answer"
   ]
  },
  {
   "cell_type": "code",
   "execution_count": 4,
   "id": "9a318ae2-e0ad-4f9e-b1a8-2bf00ec66098",
   "metadata": {},
   "outputs": [
    {
     "name": "stdout",
     "output_type": "stream",
     "text": [
      "3\n"
     ]
    }
   ],
   "source": [
    "# Manually sort a, b to be increasing order\n",
    "if a > b:\n",
    "    a, b = b, a\n",
    "    \n",
    "# Manually sort x, y to be increasing order\n",
    "if x > y:\n",
    "    x, y = y, x\n",
    "\n",
    "# Set base distance as distance needed to travel without using teleporter\n",
    "base_distance = b - a\n",
    "\n",
    "# Set teleporter distance to be the travel distance using the teleporter\n",
    "teleporter_distance = abs(a - x) + abs(b - y)\n",
    "\n",
    "# The answer is the minimum of the teleporter distance and the base distance\n",
    "ans = min(teleporter_distance, base_distance)\n",
    "\n",
    "# Output the answer using Python file i/o system\n",
    "print(ans)"
   ]
  }
 ],
 "metadata": {
  "kernelspec": {
   "display_name": "Python 3",
   "language": "python",
   "name": "python3"
  },
  "language_info": {
   "codemirror_mode": {
    "name": "ipython",
    "version": 3
   },
   "file_extension": ".py",
   "mimetype": "text/x-python",
   "name": "python",
   "nbconvert_exporter": "python",
   "pygments_lexer": "ipython3",
   "version": "3.9.7"
  }
 },
 "nbformat": 4,
 "nbformat_minor": 5
}
