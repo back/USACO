{
 "cells": [
  {
   "cell_type": "markdown",
   "id": "548eaf12-1edf-43ea-9e1d-acedfceb451a",
   "metadata": {},
   "source": [
    "# Taming the Herd\n",
    "> http://www.usaco.org/index.php?page=viewproblem2&cpid=809\n",
    "### Read Inputs"
   ]
  },
  {
   "cell_type": "code",
   "execution_count": 2,
   "id": "79398d52-81b2-4588-86ce-96f847d3db94",
   "metadata": {},
   "outputs": [
    {
     "name": "stdout",
     "output_type": "stream",
     "text": [
      "4 [-1, -1, -1, 1]\n"
     ]
    }
   ],
   "source": [
    "fin = StringIO('''4\n",
    "-1 -1 -1 1\n",
    "''')\n",
    "\n",
    "days = int(fin.readline().strip())\n",
    "entry = [int(i) for i in fin.readline().split()]\n",
    "\n",
    "print(days, entry)"
   ]
  },
  {
   "cell_type": "markdown",
   "id": "d0c18be1-c483-4b5f-bce6-d9c2527ef286",
   "metadata": {},
   "source": [
    "### Calculations"
   ]
  },
  {
   "cell_type": "code",
   "execution_count": 4,
   "id": "3dadbe77-baee-480d-a86a-56403425ddfd",
   "metadata": {},
   "outputs": [
    {
     "name": "stdout",
     "output_type": "stream",
     "text": [
      "2 3\n"
     ]
    }
   ],
   "source": [
    "time = -1  # Keep tracks of the days left where 0 outbreaks is guaranteed\n",
    "outbreaks = 0  # Count the number of outbreaks that must happen\n",
    "potential = 0  # Count the number of outbreaks that can potentially happen\n",
    "valid = True  # Check if the input is valid\n",
    "\n",
    "# If the first entry is above 0, then we have a contradiction\n",
    "if entry[0] > 0:\n",
    "    valid = False\n",
    "else:\n",
    "    entry[0] = 0\n",
    "\n",
    "\"\"\"\n",
    "If we ever come across a contradiction, then the \n",
    "log is necessarily inconsistent, so we can just output −1. \n",
    "Otherwise, the log must consist of several streaks 0,1,2,…,k \n",
    "of various lengths, with possibly some −1s between \n",
    "streaks - entries which we could not uniquely deduce.\n",
    "We know that the first streak starts on the first day.\n",
    "\"\"\"\n",
    "for day in range(days - 1, -1, -1):\n",
    "    if time != -1 and entry[day] != -1 and entry[day] != time:\n",
    "        valid = False\n",
    "        break\n",
    "    if time == -1:\n",
    "        time = entry[day]\n",
    "    if entry[day] == -1:\n",
    "        entry[day] = time\n",
    "    if entry[day] == 0:\n",
    "        outbreaks += 1\n",
    "    if entry[day] == -1:\n",
    "        potential += 1\n",
    "    if time > -1:\n",
    "        time -= 1\n",
    "\n",
    "if valid:\n",
    "    print(outbreaks, outbreaks + potential)\n",
    "else:\n",
    "    print(-1)"
   ]
  }
 ],
 "metadata": {
  "kernelspec": {
   "display_name": "Python 3",
   "language": "python",
   "name": "python3"
  },
  "language_info": {
   "codemirror_mode": {
    "name": "ipython",
    "version": 3
   },
   "file_extension": ".py",
   "mimetype": "text/x-python",
   "name": "python",
   "nbconvert_exporter": "python",
   "pygments_lexer": "ipython3",
   "version": "3.9.7"
  }
 },
 "nbformat": 4,
 "nbformat_minor": 5
}
