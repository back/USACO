{
 "cells": [
  {
   "cell_type": "markdown",
   "metadata": {},
   "source": [
    "# Section 1.4 - Ski Course Design\n",
    "---\n",
    "Read inputs\n",
    "---"
   ]
  },
  {
   "cell_type": "code",
   "execution_count": null,
   "metadata": {},
   "outputs": [],
   "source": [
    "fin=StringIO('''5\n",
    "20\n",
    "4\n",
    "1\n",
    "24\n",
    "21''')\n",
    "\n",
    "n = int(fin.readline())\n",
    "h = list(map(int, fin.readlines()))\n",
    "\n",
    "print(n, h)"
   ]
  },
  {
   "cell_type": "code",
   "execution_count": null,
   "metadata": {},
   "outputs": [],
   "source": [
    "for i in range( min(h), max(h)-17+1 ):\n",
    "    print (i, i + 17)"
   ]
  },
  {
   "cell_type": "code",
   "execution_count": null,
   "metadata": {},
   "outputs": [],
   "source": [
    "import matplotlib.pyplot as plt\n",
    "import numpy as np\n",
    "\n",
    "plt.bar(np.arange(len(h)), h, align='center', alpha=0.5)\n",
    "plt.ylabel('Height')\n",
    "plt.title('Ski Course')\n",
    "\n",
    "plt.show()"
   ]
  },
  {
   "cell_type": "markdown",
   "metadata": {},
   "source": [
    "### A helper function to calculate hill fixing cost"
   ]
  },
  {
   "cell_type": "code",
   "execution_count": null,
   "metadata": {},
   "outputs": [],
   "source": [
    "def fix(x, minHeight):\n",
    "    if x < minHeight:\n",
    "        return (minHeight - x)*(minHeight - x)\n",
    "    if x > minHeight+17:\n",
    "        return (x - minHeight - 17)*(x - minHeight - 17)\n",
    "    return 0"
   ]
  },
  {
   "cell_type": "markdown",
   "metadata": {},
   "source": [
    "### Searching for the minimum cost from all possible hills heights"
   ]
  },
  {
   "cell_type": "code",
   "execution_count": null,
   "metadata": {},
   "outputs": [],
   "source": [
    "minSum = 0\n",
    "for i in range( min(h), max(h)-17+1 ):\n",
    "    sum = 0\n",
    "    print ('planning on height: ' + str(i) + ',' + str(i+17), end='  ')\n",
    "    for x in h:\n",
    "        sum += fix(x, i)\n",
    "    print ('total cost will be: ' + str(sum))\n",
    "    if not minSum or sum < minSum:\n",
    "        minSum = sum\n",
    "        \n",
    "print(minSum)"
   ]
  }
 ],
 "metadata": {
  "kernelspec": {
   "display_name": "Python 3",
   "language": "python",
   "name": "python3"
  },
  "language_info": {
   "codemirror_mode": {
    "name": "ipython",
    "version": 3
   },
   "file_extension": ".py",
   "mimetype": "text/x-python",
   "name": "python",
   "nbconvert_exporter": "python",
   "pygments_lexer": "ipython3",
   "version": "3.9.7"
  }
 },
 "nbformat": 4,
 "nbformat_minor": 4
}
