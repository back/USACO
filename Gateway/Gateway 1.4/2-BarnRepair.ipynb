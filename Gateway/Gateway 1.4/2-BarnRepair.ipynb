{
 "cells": [
  {
   "cell_type": "markdown",
   "metadata": {},
   "source": [
    "# Section 1.4 - Barn Repair\n",
    "### Read Inputs"
   ]
  },
  {
   "cell_type": "code",
   "execution_count": 10,
   "metadata": {
    "tags": []
   },
   "outputs": [
    {
     "name": "stdout",
     "output_type": "stream",
     "text": [
      "[3, 4, 6, 8, 14, 15, 16, 17, 21, 25, 26, 27, 30, 31, 40, 41, 42, 43]\n"
     ]
    }
   ],
   "source": [
    "fin=StringIO('''4 50 18\n",
    "3\n",
    "4\n",
    "6\n",
    "8\n",
    "14\n",
    "15\n",
    "16\n",
    "17\n",
    "21\n",
    "25\n",
    "26\n",
    "27\n",
    "30\n",
    "31\n",
    "40\n",
    "41\n",
    "42\n",
    "43''')\n",
    "\n",
    "m, s, c = map(int, fin.readline().split())\n",
    "cows = sorted(int(line.strip()) for line in fin.readlines())\n",
    "print(cows)"
   ]
  },
  {
   "cell_type": "markdown",
   "metadata": {},
   "source": [
    "### Calculate Gaps"
   ]
  },
  {
   "cell_type": "code",
   "execution_count": 11,
   "metadata": {},
   "outputs": [
    {
     "name": "stdout",
     "output_type": "stream",
     "text": [
      "[0, 1, 1, 5, 0, 0, 0, 3, 3, 0, 0, 2, 0, 8, 0, 0, 0]\n"
     ]
    }
   ],
   "source": [
    "gaps = [cows[i] - cows[i-1] - 1 for i in range(1,c)]\n",
    "print(gaps)"
   ]
  },
  {
   "cell_type": "code",
   "execution_count": 12,
   "metadata": {},
   "outputs": [
    {
     "name": "stdout",
     "output_type": "stream",
     "text": [
      "[1, 1, 2, 3, 3, 5, 8]\n"
     ]
    }
   ],
   "source": [
    "gaps = sorted(i for i in gaps if i)\n",
    "print(gaps)"
   ]
  },
  {
   "cell_type": "markdown",
   "metadata": {},
   "source": [
    "### Calulate Skips"
   ]
  },
  {
   "cell_type": "code",
   "execution_count": 13,
   "metadata": {},
   "outputs": [
    {
     "name": "stdout",
     "output_type": "stream",
     "text": [
      "3\n",
      "16\n"
     ]
    }
   ],
   "source": [
    "skip = min(m-1, len(gaps))\n",
    "print (skip)\n",
    "skip = sum(gaps[-skip:]) if skip else 0\n",
    "print (skip)"
   ]
  },
  {
   "cell_type": "markdown",
   "metadata": {},
   "source": [
    "### Calculate Answer\n",
    "- Total length of the boards needed"
   ]
  },
  {
   "cell_type": "code",
   "execution_count": 16,
   "metadata": {},
   "outputs": [
    {
     "name": "stdout",
     "output_type": "stream",
     "text": [
      "41\n",
      "25\n"
     ]
    }
   ],
   "source": [
    "full = cows[-1] - cows[0] + 1\n",
    "print(full)\n",
    "print(full - skip)"
   ]
  }
 ],
 "metadata": {
  "kernelspec": {
   "display_name": "Python 3",
   "language": "python",
   "name": "python3"
  },
  "language_info": {
   "codemirror_mode": {
    "name": "ipython",
    "version": 3
   },
   "file_extension": ".py",
   "mimetype": "text/x-python",
   "name": "python",
   "nbconvert_exporter": "python",
   "pygments_lexer": "ipython3",
   "version": "3.9.7"
  }
 },
 "nbformat": 4,
 "nbformat_minor": 4
}
