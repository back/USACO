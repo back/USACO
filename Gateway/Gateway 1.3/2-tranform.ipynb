{
 "cells": [
  {
   "cell_type": "markdown",
   "metadata": {},
   "source": [
    "# Section 1.3 - Transformations\n",
    "---\n",
    "## How to rotate a matrix\n",
    "\n",
    "- [Rotate Image](https://leetcode.com/problems/rotate-image/) (A LeetCode practice)"
   ]
  },
  {
   "cell_type": "code",
   "execution_count": 1,
   "metadata": {},
   "outputs": [
    {
     "name": "stdout",
     "output_type": "stream",
     "text": [
      "[31, 76, 15, 56, 49, 65, 92]\n",
      "[87, 91, 13, 57, 29, 71, 42]\n",
      "[63, 98, 62, 22, 12, 71, 82]\n",
      "[54, 19, 91, 43, 63, 55, 36]\n",
      "[97, 85, 57, 28, 80, 32, 31]\n",
      "[21, 66, 60, 80, 88, 75, 98]\n",
      "[58, 74, 23, 15, 92, 77, 70]\n"
     ]
    }
   ],
   "source": [
    "n   =  7\n",
    "mtx = [[randint(10,99) for _ in range(n)] for _ in range(n)]\n",
    "for row in mtx:\n",
    "    print(row)"
   ]
  },
  {
   "cell_type": "code",
   "execution_count": 2,
   "metadata": {},
   "outputs": [
    {
     "name": "stdout",
     "output_type": "stream",
     "text": [
      "[0, 0, 0, 0, 0, 0, 0]\n",
      "[0, 0, 0, 0, 0, 0, 0]\n",
      "[0, 0, 0, 0, 0, 0, 0]\n",
      "[0, 0, 0, 0, 0, 0, 0]\n",
      "[0, 0, 0, 0, 0, 0, 0]\n",
      "[0, 0, 0, 0, 0, 0, 0]\n",
      "[0, 0, 0, 0, 0, 0, 0]\n"
     ]
    }
   ],
   "source": [
    "tgt = [[0 for _ in range(n)] for _ in range(n)]\n",
    "for row in tgt:\n",
    "    print(row)"
   ]
  },
  {
   "cell_type": "code",
   "execution_count": 3,
   "metadata": {},
   "outputs": [
    {
     "name": "stdout",
     "output_type": "stream",
     "text": [
      "[58, 21, 97, 54, 63, 87, 31]\n",
      "[74, 66, 85, 19, 98, 91, 76]\n",
      "[23, 60, 57, 91, 62, 13, 15]\n",
      "[15, 80, 28, 43, 22, 57, 56]\n",
      "[92, 88, 80, 63, 12, 29, 49]\n",
      "[77, 75, 32, 55, 71, 71, 65]\n",
      "[70, 98, 31, 36, 82, 42, 92]\n"
     ]
    }
   ],
   "source": [
    "for i in range(n):\n",
    "    for j in range(n):\n",
    "        tgt[i][j] = mtx[n-j-1][i]             # Rotate 90 Degrees Clock-wise\n",
    "        #tgt[i][j] = mtx[n-i-1][n-j-1]        # Rotate 180 Degrees\n",
    "        #tgt[i][j] = mtx[j][n-i-1]\n",
    "        \n",
    "        \n",
    "        #tgt[i][j] = mtx[i][n-j-1]            # horizontally flipped\n",
    "        \n",
    "for row in tgt:\n",
    "    print(row)"
   ]
  }
 ],
 "metadata": {
  "kernelspec": {
   "display_name": "Python 3",
   "language": "python",
   "name": "python3"
  },
  "language_info": {
   "codemirror_mode": {
    "name": "ipython",
    "version": 3
   },
   "file_extension": ".py",
   "mimetype": "text/x-python",
   "name": "python",
   "nbconvert_exporter": "python",
   "pygments_lexer": "ipython3",
   "version": "3.9.7"
  }
 },
 "nbformat": 4,
 "nbformat_minor": 4
}
