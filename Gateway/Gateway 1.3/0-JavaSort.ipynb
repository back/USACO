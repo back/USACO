{
 "cells": [
  {
   "cell_type": "code",
   "execution_count": 9,
   "id": "56c59e7a-5d81-4b20-88df-03e20cb4dd03",
   "metadata": {},
   "outputs": [
    {
     "name": "stdout",
     "output_type": "stream",
     "text": [
      "0"
     ]
    }
   ],
   "source": [
    "int[] k = new int[15];  // k[0], k[1], k[2], ...., k[14]\n",
    "\n",
    "System.out.print( k[k.length - 1] );"
   ]
  },
  {
   "cell_type": "code",
   "execution_count": 18,
   "id": "075b5971-8402-4a8e-a753-0730850291c6",
   "metadata": {},
   "outputs": [
    {
     "name": "stdout",
     "output_type": "stream",
     "text": [
      "0,0,0,0,0,0,0,0,0,0,0,0,0,0,0,\n",
      "[0, 2, 4, 6, 8, 10, 12, 14, 16, 18, 20, 22, 24, 26, 28]"
     ]
    }
   ],
   "source": [
    "for(int i = 0; i < k.length; i++) {  // for ( ; ; )   can be used to set values\n",
    "    k[i] = i * 2;\n",
    "}\n",
    "\n",
    "for( int a  :  k ){                 //   for ( : )  cannot be used to set values\n",
    "    a = 0;\n",
    "    System.out.print(a + \",\");\n",
    "}\n",
    "System.out.println();\n",
    "\n",
    "\n",
    "System.out.print(Arrays.toString(k));"
   ]
  },
  {
   "cell_type": "code",
   "execution_count": 26,
   "id": "5bf5c921-db54-4ca2-bb70-c2c721108339",
   "metadata": {},
   "outputs": [
    {
     "name": "stdout",
     "output_type": "stream",
     "text": [
      "[1, 2, 3][1, 3]2\n",
      "[1, 3, 5, -1, 100]\n",
      "5\n"
     ]
    }
   ],
   "source": [
    "ArrayList<Integer> k = new ArrayList<Integer>();\n",
    "\n",
    "k.add(1);\n",
    "k.add(2);\n",
    "k.add(3);\n",
    "System.out.print(k);\n",
    "\n",
    "k.remove(1);\n",
    "\n",
    "System.out.print(k);\n",
    "System.out.println( k.size()  );\n",
    "\n",
    "k.add(5);\n",
    "k.add(-1);\n",
    "k.add(100);\n",
    "\n",
    "System.out.println(k);\n",
    "\n",
    "System.out.println( k.size()  );\n",
    "\n"
   ]
  },
  {
   "cell_type": "code",
   "execution_count": 36,
   "id": "28d94ca2-3acb-42d9-8a49-a5f415476278",
   "metadata": {},
   "outputs": [
    {
     "name": "stdout",
     "output_type": "stream",
     "text": [
      "[48, 18]\n",
      "[73, 1]\n",
      "[47, 23]\n",
      "[32, 13]\n",
      "[14, 50]\n",
      "[34, 23]\n",
      "[2, 57]\n",
      "[94, 89]\n",
      "[99, 22]\n",
      "[3, 61]\n",
      "=====================\n",
      "[73, 1]\n",
      "[32, 13]\n",
      "[48, 18]\n",
      "[99, 22]\n",
      "[47, 23]\n",
      "[34, 23]\n",
      "[14, 50]\n",
      "[2, 57]\n",
      "[3, 61]\n",
      "[94, 89]\n"
     ]
    }
   ],
   "source": [
    "ArrayList<int[]> t = new ArrayList<>();\n",
    "\n",
    "for (int i = 0; i < 10; i++ ){\n",
    "    int[] x = new int[2];\n",
    "    x[0] = (int) (Math.random()*100);\n",
    "    x[1] = (int) (Math.random()*100);\n",
    "    t.add(x);\n",
    "}\n",
    "\n",
    "for( int[] x : t ){\n",
    "    System.out.println(Arrays.toString(x));\n",
    "}\n",
    "\n",
    "Comparator<int[]> c = new Comparator<>(){\n",
    "   public int compare(int[] a, int[] b){\n",
    "       if (a[1] < b[1])\n",
    "           return -1;\n",
    "       if (a[1] > b[1])\n",
    "           return 1;\n",
    "       return 0;\n",
    "   }\n",
    "};\n",
    "\n",
    "System.out .println(\"=====================\");\n",
    "\n",
    "//t.sort(c);\n",
    "Collections.sort(t, c);\n",
    "\n",
    "for( int[] x : t ){\n",
    "    System.out.println(Arrays.toString(x));\n",
    "}"
   ]
  }
 ],
 "metadata": {
  "kernelspec": {
   "display_name": "Java",
   "language": "java",
   "name": "java"
  },
  "language_info": {
   "codemirror_mode": "java",
   "file_extension": ".jshell",
   "mimetype": "text/x-java-source",
   "name": "Java",
   "pygments_lexer": "java",
   "version": "15.0.1+9-18"
  }
 },
 "nbformat": 4,
 "nbformat_minor": 5
}
