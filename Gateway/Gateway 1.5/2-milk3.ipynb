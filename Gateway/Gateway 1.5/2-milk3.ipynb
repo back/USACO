{
 "cells": [
  {
   "cell_type": "markdown",
   "metadata": {},
   "source": [
    "# Section 1.5 - Monther's Milk\n",
    "### Read Inputs"
   ]
  },
  {
   "cell_type": "code",
   "execution_count": 1,
   "metadata": {},
   "outputs": [
    {
     "name": "stdout",
     "output_type": "stream",
     "text": [
      "(2, 5, 10) [0, 0, 10]\n"
     ]
    }
   ],
   "source": [
    "cap = (2, 5, 10)\n",
    "vol = [0, 0, cap[2]]\n",
    "\n",
    "print( cap, vol )"
   ]
  },
  {
   "cell_type": "markdown",
   "metadata": {},
   "source": [
    "### A recursive \"pouring\" method"
   ]
  },
  {
   "cell_type": "code",
   "execution_count": 2,
   "metadata": {},
   "outputs": [
    {
     "name": "stdout",
     "output_type": "stream",
     "text": [
      "(0, 5, 5)\n",
      "(0, 0, 10)\n",
      "(2, 0, 8)\n",
      "(0, 2, 8)\n",
      "(2, 2, 6)\n",
      "(0, 4, 6)\n",
      "(2, 4, 4)\n",
      "(1, 5, 4)\n",
      "(1, 0, 9)\n",
      "(0, 1, 9)\n",
      "(2, 1, 7)\n",
      "(0, 3, 7)\n",
      "(2, 3, 5)\n",
      "(2, 5, 3)\n",
      "{5, 6, 7, 8, 9, 10}\n"
     ]
    }
   ],
   "source": [
    "answer = set()\n",
    "status = set()\n",
    "\n",
    "def pour(fromIndex, toIndex):\n",
    "    p = min(vol[fromIndex],  cap[toIndex] - vol[toIndex])\n",
    "    if p:\n",
    "        vol[toIndex] += p\n",
    "        vol[fromIndex] -= p\n",
    "        \n",
    "        if vol[0] == 0:\n",
    "            answer.add(vol[2])\n",
    "        \n",
    "        x = tuple(vol)\n",
    "        if x not in status:\n",
    "            status.add(x)\n",
    "            print(x)\n",
    "            otherIndex = 3 - fromIndex - toIndex\n",
    "            pour(toIndex,    fromIndex)\n",
    "            pour(toIndex,    otherIndex)\n",
    "            pour(otherIndex, toIndex)\n",
    "            pour(otherIndex, fromIndex)\n",
    "            pour(fromIndex,  otherIndex)\n",
    "\n",
    "        vol[toIndex] -= p\n",
    "        vol[fromIndex] += p       \n",
    "            \n",
    "pour(2, 1)\n",
    "pour(2, 0)\n",
    "\n",
    "print(answer)"
   ]
  }
 ],
 "metadata": {
  "kernelspec": {
   "display_name": "Python 3",
   "language": "python",
   "name": "python3"
  },
  "language_info": {
   "codemirror_mode": {
    "name": "ipython",
    "version": 3
   },
   "file_extension": ".py",
   "mimetype": "text/x-python",
   "name": "python",
   "nbconvert_exporter": "python",
   "pygments_lexer": "ipython3",
   "version": "3.9.7"
  }
 },
 "nbformat": 4,
 "nbformat_minor": 4
}
