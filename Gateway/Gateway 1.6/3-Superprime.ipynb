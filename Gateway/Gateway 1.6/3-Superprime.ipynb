{
 "cells": [
  {
   "cell_type": "markdown",
   "metadata": {},
   "source": [
    "# Section 1.6 - Superprime Rib\n",
    "### Read Inputs & Prepare the Primes"
   ]
  },
  {
   "cell_type": "code",
   "execution_count": 10,
   "metadata": {},
   "outputs": [],
   "source": [
    "n=8"
   ]
  },
  {
   "cell_type": "markdown",
   "metadata": {},
   "source": [
    "### Prepare the Prime List\n",
    "- However, work out all prime numbers under range 99999999 would be definitely exceeding the time limit\n",
    "- So here we only need to get prime numbers up to the square root of $ 10^n $"
   ]
  },
  {
   "cell_type": "code",
   "execution_count": 11,
   "metadata": {},
   "outputs": [
    {
     "name": "stdout",
     "output_type": "stream",
     "text": [
      "1228\n"
     ]
    }
   ],
   "source": [
    "limit = int(10 ** (n/2))\n",
    "p = [0] * limit\n",
    "for i in range(3, limit):\n",
    "    if p[i] == 0:\n",
    "        for j in range(i+i, limit, i):\n",
    "            p[j] = 1;\n",
    "ps = [index for index,value in enumerate(p) if value == 0 and index > 1 and index%2 > 0]\n",
    "print(len(ps))"
   ]
  },
  {
   "cell_type": "markdown",
   "metadata": {},
   "source": [
    "### Find Answer\n",
    "- A typical **Working Queue** solution:\n",
    "  - Start from left side, search and collect all possible answers"
   ]
  },
  {
   "cell_type": "code",
   "execution_count": 13,
   "metadata": {},
   "outputs": [
    {
     "name": "stdout",
     "output_type": "stream",
     "text": [
      "[23, 29, 31, 37, 53, 59, 71, 73, 79]\n",
      "[233, 239, 293, 311, 313, 317, 373, 379, 593, 599, 719, 733, 739, 797]\n",
      "[2333, 2339, 2393, 2399, 2939, 3119, 3137, 3733, 3739, 3793, 3797, 5939, 7193, 7331, 7333, 7393]\n",
      "[23333, 23339, 23399, 23993, 29399, 31193, 31379, 37337, 37339, 37397, 59393, 59399, 71933, 73331, 73939]\n",
      "[233993, 239933, 293999, 373379, 373393, 593933, 593993, 719333, 739391, 739393, 739397, 739399]\n",
      "[2339933, 2399333, 2939999, 3733799, 5939333, 7393913, 7393931, 7393933]\n",
      "[23399339, 29399999, 37337999, 59393339, 73939133]\n"
     ]
    }
   ],
   "source": [
    "answer = [2,3,5,7]\n",
    "while n>1:\n",
    "    new_answer = []\n",
    "    for i in answer:\n",
    "        for j in [1,3,7,9]:\n",
    "            a = i*10+j\n",
    "            limit = int(sqrt(a))\n",
    "            for factor in ps:\n",
    "                if a%factor == 0:\n",
    "                    break\n",
    "                elif factor > limit:\n",
    "                    new_answer.append(a)\n",
    "                    break\n",
    "    n -= 1\n",
    "    answer = new_answer\n",
    "    print(answer)"
   ]
  }
 ],
 "metadata": {
  "kernelspec": {
   "display_name": "Python 3",
   "language": "python",
   "name": "python3"
  },
  "language_info": {
   "codemirror_mode": {
    "name": "ipython",
    "version": 3
   },
   "file_extension": ".py",
   "mimetype": "text/x-python",
   "name": "python",
   "nbconvert_exporter": "python",
   "pygments_lexer": "ipython3",
   "version": "3.9.7"
  }
 },
 "nbformat": 4,
 "nbformat_minor": 4
}
