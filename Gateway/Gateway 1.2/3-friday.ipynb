{
 "cells": [
  {
   "cell_type": "markdown",
   "metadata": {},
   "source": [
    "# Section 1.2 - Firday the Thirteenth\n",
    "### How to calculate leap years in hundred years"
   ]
  },
  {
   "cell_type": "code",
   "execution_count": 1,
   "metadata": {},
   "outputs": [
    {
     "name": "stdout",
     "output_type": "stream",
     "text": [
      "1700 False\n",
      "1800 False\n",
      "1900 False\n",
      "2000 True\n",
      "2004 True\n"
     ]
    }
   ],
   "source": [
    "for year in [1700,1800,1900,2000,2004]:\n",
    "    print(year, year % 400 == 0 or year % 4 == 0 and year % 100 > 0)"
   ]
  },
  {
   "cell_type": "markdown",
   "metadata": {},
   "source": [
    "### There is a online [Calendar](https://gml.noaa.gov/grad/antuv/Calendar.jsp?view=DOY&year=1900&col=4) can be reviewed for concept understanding."
   ]
  },
  {
   "cell_type": "code",
   "execution_count": 5,
   "metadata": {},
   "outputs": [
    {
     "name": "stdout",
     "output_type": "stream",
     "text": [
      "[33, 34, 33, 35, 35, 34, 36]\n",
      "36 [33, 34, 33, 35, 35, 34]\n"
     ]
    }
   ],
   "source": [
    "n = 20\n",
    "rslt = [0, 0, 0, 0, 0, 0, 0] # int[] rslt = new int[7];\n",
    "days = 13 - 31\n",
    "for year in range(1900, 1900+n):\n",
    "    for month in range(12):\n",
    "        if month in (0,1,3,5,7,8,10):\n",
    "            days += 31\n",
    "        elif month in (4,6,9,11):\n",
    "            days += 30\n",
    "        else:\n",
    "            days += 28\n",
    "            if year % 400 == 0 or year % 4 == 0 and year % 100 > 0:\n",
    "                days += 1\n",
    "        rslt[ (days) % 7 ] += 1       # here we count a new 13th day found in which weekday...\n",
    "        #print(year, month, days, (days+1)%7)\n",
    "print(rslt)\n",
    "print(rslt[-1], rslt[:-1])"
   ]
  }
 ],
 "metadata": {
  "kernelspec": {
   "display_name": "Python 3",
   "language": "python",
   "name": "python3"
  },
  "language_info": {
   "codemirror_mode": {
    "name": "ipython",
    "version": 3
   },
   "file_extension": ".py",
   "mimetype": "text/x-python",
   "name": "python",
   "nbconvert_exporter": "python",
   "pygments_lexer": "ipython3",
   "version": "3.9.7"
  }
 },
 "nbformat": 4,
 "nbformat_minor": 4
}
