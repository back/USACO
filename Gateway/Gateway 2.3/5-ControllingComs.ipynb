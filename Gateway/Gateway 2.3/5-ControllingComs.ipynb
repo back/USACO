{
 "cells": [
  {
   "cell_type": "markdown",
   "metadata": {},
   "source": [
    "# Section 2.3 - Controlling Companies\n",
    "---\n",
    "Read Inputs\n",
    "---\n",
    "- Also prepare the connection matrix"
   ]
  },
  {
   "cell_type": "code",
   "execution_count": 2,
   "metadata": {},
   "outputs": [
    {
     "name": "stdout",
     "output_type": "stream",
     "text": [
      "[0, 0, 0, 0]\n",
      "[0, 0, 80, 0]\n",
      "[0, 0, 0, 80]\n",
      "[0, 20, 0, 0]\n"
     ]
    }
   ],
   "source": [
    "import sys\n",
    "sys.stdin = StringIO('''3\n",
    "1 2 80\n",
    "2 3 80\n",
    "3 1 20\n",
    "''')\n",
    "\n",
    "\n",
    "n = int(sys.stdin.readline())\n",
    "\n",
    "x = n+1\n",
    "mx = [ [0] * x for _ in range(x) ]\n",
    "\n",
    "for line in sys.stdin.readlines():\n",
    "    a,b,c = map(int, line.split())\n",
    "    mx[a][b]=c\n",
    "\n",
    "for row in mx:\n",
    "    print(row)"
   ]
  },
  {
   "cell_type": "markdown",
   "metadata": {},
   "source": [
    "### Calculate the Ownership"
   ]
  },
  {
   "cell_type": "code",
   "execution_count": 6,
   "metadata": {},
   "outputs": [
    {
     "name": "stdout",
     "output_type": "stream",
     "text": [
      "Calculating company: 1\n",
      "myShares : [0, 0, 0, 0]\n",
      "myShares : [0, 0, 80, 0]\n",
      "myShares : [0, 0, 80, 80]\n",
      "myShares : [0, 20, 80, 80]\n",
      "1 2\n",
      "1 3\n",
      "Calculating company: 2\n",
      "myShares : [0, 0, 0, 0]\n",
      "myShares : [0, 0, 0, 80]\n",
      "myShares : [0, 20, 0, 80]\n",
      "2 3\n",
      "Calculating company: 3\n",
      "myShares : [0, 0, 0, 0]\n",
      "myShares : [0, 20, 0, 0]\n"
     ]
    }
   ],
   "source": [
    "for comp in range(1,x):\n",
    "    print('Calculating company: %s' % comp)\n",
    "\n",
    "    myShares = [0] * x\n",
    "    discover = [comp] # Starting from self owned shares\n",
    "    checked  = []     # Trace which comp has been calced\n",
    "\n",
    "    print('myShares : %s' % myShares)\n",
    "    while discover:\n",
    "        for i in discover:\n",
    "            myShares=[a+b for a, b in zip(mx[i], myShares)]\n",
    "            print('myShares : %s' % myShares)\n",
    "        checked.extend(discover)\n",
    "        discover = [i for i in range(1,x) if myShares[i]>50 and i not in checked]\n",
    "\n",
    "    for i in range(1,x):\n",
    "        if myShares[i]>50 and comp != i:\n",
    "            print(comp, i)"
   ]
  }
 ],
 "metadata": {
  "kernelspec": {
   "display_name": "Python 3",
   "language": "python",
   "name": "python3"
  },
  "language_info": {
   "codemirror_mode": {
    "name": "ipython",
    "version": 3
   },
   "file_extension": ".py",
   "mimetype": "text/x-python",
   "name": "python",
   "nbconvert_exporter": "python",
   "pygments_lexer": "ipython3",
   "version": "3.9.7"
  }
 },
 "nbformat": 4,
 "nbformat_minor": 4
}
