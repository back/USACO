{
 "cells": [
  {
   "cell_type": "code",
   "execution_count": null,
   "id": "3750cd7e-b4e7-4919-af00-5cd0e67f78f6",
   "metadata": {},
   "outputs": [],
   "source": [
    "Decimal:\n",
    "12321 = 1 * 10^4 + 2 * 10^3 + 3 * 10^2 + ...\n",
    "\n",
    "Number 4 based system:\n",
    "12321 = 1 * 4^4  + 2 * 4^3 + 3 * 4^2 + 2 * 4^1 + 1 * 4^0\n",
    "\n",
    "Hexdecimal\n",
    "12321 = 1 * 16^4  + 2 * 16^3 + 3 * 16^2 + 2 * 16^1 + 1 * 16^0\n",
    "\n",
    "\n",
    "Hexdecimal: 64  (100)\n",
    "\n",
    "A -> 10\n",
    "B -> 11\n",
    "C -> 12\n",
    "....\n",
    "...\n"
   ]
  },
  {
   "cell_type": "code",
   "execution_count": 6,
   "id": "a7de6ce4-a050-4de1-86d9-a1a60a0d72fc",
   "metadata": {},
   "outputs": [
    {
     "data": {
      "text/plain": [
       "'!dlrow ,olleH'"
      ]
     },
     "execution_count": 6,
     "metadata": {},
     "output_type": "execute_result"
    }
   ],
   "source": [
    "a = \"Hello, world!\"\n",
    "if a == a[::-1]"
   ]
  }
 ],
 "metadata": {
  "kernelspec": {
   "display_name": "Python 3",
   "language": "python",
   "name": "python3"
  },
  "language_info": {
   "codemirror_mode": {
    "name": "ipython",
    "version": 3
   },
   "file_extension": ".py",
   "mimetype": "text/x-python",
   "name": "python",
   "nbconvert_exporter": "python",
   "pygments_lexer": "ipython3",
   "version": "3.9.7"
  }
 },
 "nbformat": 4,
 "nbformat_minor": 5
}
