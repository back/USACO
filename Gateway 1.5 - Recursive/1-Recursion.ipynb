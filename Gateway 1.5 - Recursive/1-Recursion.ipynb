{
 "cells": [
  {
   "cell_type": "markdown",
   "metadata": {},
   "source": [
    "# Search with Recursion\n",
    "\n",
    "- Generating Sub-Sets\n",
    "- Permutations\n",
    "- Backtracking\n",
    "\n",
    "### BFS vs DFS\n",
    "![](../img/BFS-DFS.png)\n",
    "\n",
    "\n",
    "### Recursion Animate Examples\n",
    "\n",
    "- Factorial\n",
    "  - https://www.educative.io/courses/recursion-for-coding-interviews-in-python/B8wMXy0nmvk\n",
    "- Fibonacci\n",
    "  - https://visualgo.net/en/recursion\n",
    "- Tower of Hanoi\n",
    "  - http://towersofhanoi.info/Animate.aspx\n",
    "  - https://en.wikipedia.org/wiki/Tower_of_Hanoi\n",
    "- Flood Fill (zombie and cats)\n",
    "  - https://inventwithpython.com/blog/2011/08/11/recursion-explained-with-the-flood-fill-algorithm-and-zombies-and-cats/\n",
    "- Maze Runner\n",
    "  - https://preview.redd.it/qzmfijn9kewz.gif?format=mp4&s=dfd4ed9f00c9c45eb0641be4a54a610abf212e94\n",
    "\n",
    "---\n",
    "### A Sample Problem to Study\n",
    "- [Apple Division](https://cses.fi/problemset/task/1623)\n",
    "  - [A Geek Analysis](https://www.geeksforgeeks.org/partition-a-set-into-two-subsets-such-that-the-difference-of-subset-sums-is-minimum/)\n",
    "\n",
    "### Two More Samples\n",
    "- [Number of Islands](https://leetcode.com/problems/number-of-islands/)\n",
    "- [Drainage Ditches](http://poj.org/problem?id=1273)\n",
    "  - Only for the demonstration of path searching...\n",
    "\n",
    "### Beyong Easy Level\n",
    "- [Livestock Lineup](http://www.usaco.org/index.php?page=viewproblem2&cpid=965)\n",
    "- [Back and Forth](http://www.usaco.org/index.php?page=viewproblem2&cpid=857)\n",
    "\n",
    "### A Bit Challenging\n",
    "- [Wormholes](http://www.usaco.org/index.php?page=viewproblem2&cpid=360) (Considered Hard in Bronze Level)"
   ]
  }
 ],
 "metadata": {
  "kernelspec": {
   "display_name": "Python 3",
   "language": "python",
   "name": "python3"
  },
  "language_info": {
   "codemirror_mode": {
    "name": "ipython",
    "version": 3
   },
   "file_extension": ".py",
   "mimetype": "text/x-python",
   "name": "python",
   "nbconvert_exporter": "python",
   "pygments_lexer": "ipython3",
   "version": "3.9.7"
  }
 },
 "nbformat": 4,
 "nbformat_minor": 4
}
