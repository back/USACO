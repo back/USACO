{
 "cells": [
  {
   "cell_type": "markdown",
   "metadata": {},
   "source": [
    "# Section 1.5 - Monther's Milk\n",
    "---\n",
    "Read Inputs\n",
    "---"
   ]
  },
  {
   "cell_type": "code",
   "execution_count": null,
   "metadata": {},
   "outputs": [],
   "source": [
    "cap = (2, 5, 10)\n",
    "vol = [0, 0, cap[2]]\n",
    "\n",
    "print( cap, vol )"
   ]
  },
  {
   "cell_type": "markdown",
   "metadata": {},
   "source": [
    "---\n",
    "A recursive \"pouring\" method\n",
    "---"
   ]
  },
  {
   "cell_type": "code",
   "execution_count": null,
   "metadata": {},
   "outputs": [],
   "source": [
    "answer = set()\n",
    "status = set()\n",
    "\n",
    "def pour(vol, fromIndex, toIndex):\n",
    "    p = min(vol[fromIndex],  cap[toIndex] - vol[toIndex])\n",
    "    if p:\n",
    "        newVol = vol.copy()\n",
    "        newVol[toIndex] += p\n",
    "        newVol[fromIndex] -= p\n",
    "        \n",
    "        if newVol[0] == 0:\n",
    "            answer.add(newVol[2])\n",
    "        \n",
    "        x = tuple(newVol)\n",
    "        if x not in status:\n",
    "            status.add(x)\n",
    "            print(status)\n",
    "            otherIndex = 3 - fromIndex - toIndex\n",
    "            pour(newVol, toIndex,    fromIndex)\n",
    "            pour(newVol, toIndex,    otherIndex)\n",
    "            pour(newVol, otherIndex, toIndex)\n",
    "            pour(newVol, otherIndex, fromIndex)\n",
    "            pour(newVol, fromIndex,  otherIndex)\n",
    "            \n",
    "pour(vol, 2, 1)\n",
    "pour(vol, 2, 0)\n",
    "\n",
    "print(answer)"
   ]
  }
 ],
 "metadata": {
  "kernelspec": {
   "display_name": "Python 3",
   "language": "python",
   "name": "python3"
  },
  "language_info": {
   "codemirror_mode": {
    "name": "ipython",
    "version": 3
   },
   "file_extension": ".py",
   "mimetype": "text/x-python",
   "name": "python",
   "nbconvert_exporter": "python",
   "pygments_lexer": "ipython3",
   "version": "3.8.3"
  }
 },
 "nbformat": 4,
 "nbformat_minor": 4
}
