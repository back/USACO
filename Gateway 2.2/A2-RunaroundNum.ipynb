{
 "cells": [
  {
   "cell_type": "markdown",
   "metadata": {},
   "source": [
    "# Section 2.2 - Runaround Numbers\n",
    "\n",
    "### Convert a number a List of digits"
   ]
  },
  {
   "cell_type": "code",
   "execution_count": 7,
   "metadata": {},
   "outputs": [
    {
     "name": "stdout",
     "output_type": "stream",
     "text": [
      "[8, 1, 3, 6, 2]\n"
     ]
    }
   ],
   "source": [
    "n = 81362\n",
    "\n",
    "s = list(map(int,list(str(n))))\n",
    "\n",
    "print (s)"
   ]
  },
  {
   "cell_type": "markdown",
   "metadata": {},
   "source": [
    "---\n",
    "Checking if there are 0s or non-unique digits\n",
    "---"
   ]
  },
  {
   "cell_type": "code",
   "execution_count": 8,
   "metadata": {},
   "outputs": [],
   "source": [
    "w = len(s)\n",
    "\n",
    "if 0 in s or w > len(set(s)):\n",
    "    print('Found 0 or repetitive digits')"
   ]
  },
  {
   "cell_type": "markdown",
   "metadata": {},
   "source": [
    "### Loop the List\n",
    "- Mark all visited digits to zero"
   ]
  },
  {
   "cell_type": "code",
   "execution_count": 9,
   "metadata": {},
   "outputs": [
    {
     "name": "stdout",
     "output_type": "stream",
     "text": [
      "[0, 1, 3, 6, 2] next step to index: 3 value is: 6\n",
      "[0, 1, 3, 0, 2] next step to index: 4 value is: 2\n",
      "[0, 1, 3, 0, 0] next step to index: 1 value is: 1\n",
      "[0, 0, 3, 0, 0] next step to index: 2 value is: 3\n",
      "[0, 0, 0, 0, 0] next step to index: 0 value is: 0\n",
      "[0, 0, 0, 0, 0] run finished at: 0\n",
      "81362 is a Runaround Number!\n"
     ]
    }
   ],
   "source": [
    "i = 0\n",
    "while s[i]:\n",
    "    k = (s[i] + i) % w\n",
    "    s[i] = 0\n",
    "    i = k\n",
    "    print(s, 'next step to index:', k, 'value is:', s[k])\n",
    "    \n",
    "print(s, 'run finished at:', i)\n",
    "print(n, 'is not a Runaround Number!' if any(s) else 'is a Runaround Number!')"
   ]
  }
 ],
 "metadata": {
  "kernelspec": {
   "display_name": "Python 3",
   "language": "python",
   "name": "python3"
  },
  "language_info": {
   "codemirror_mode": {
    "name": "ipython",
    "version": 3
   },
   "file_extension": ".py",
   "mimetype": "text/x-python",
   "name": "python",
   "nbconvert_exporter": "python",
   "pygments_lexer": "ipython3",
   "version": "3.9.7"
  }
 },
 "nbformat": 4,
 "nbformat_minor": 4
}
