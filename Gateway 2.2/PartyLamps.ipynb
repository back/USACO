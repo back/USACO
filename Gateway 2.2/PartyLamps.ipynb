{
 "cells": [
  {
   "cell_type": "markdown",
   "metadata": {},
   "source": [
    "# Section 2.2 - Party Lamps\n",
    "---\n",
    "Read Inputs\n",
    "---"
   ]
  },
  {
   "cell_type": "code",
   "execution_count": 8,
   "metadata": {},
   "outputs": [
    {
     "name": "stdout",
     "output_type": "stream",
     "text": [
      "10 1 [] [7]\n"
     ]
    }
   ],
   "source": [
    "fin=StringIO('''10\n",
    "1\n",
    "-1\n",
    "7 -1\n",
    "''')\n",
    "\n",
    "n = int(fin.readline().strip())\n",
    "c = int(fin.readline().strip())\n",
    "on = list(map(int, fin.readline().split()))\n",
    "off = list(map(int, fin.readline().split()))\n",
    "\n",
    "on.pop()\n",
    "off.pop()\n",
    "\n",
    "print(n, c, on, off)"
   ]
  },
  {
   "cell_type": "markdown",
   "metadata": {},
   "source": [
    "---\n",
    "Prepare the Lamps\n",
    "---\n",
    "- We create one more lamp to use 1-based index"
   ]
  },
  {
   "cell_type": "code",
   "execution_count": 9,
   "metadata": {},
   "outputs": [
    {
     "name": "stdout",
     "output_type": "stream",
     "text": [
      "[True, True, True, True, True, True, True, True, True, True, True]\n"
     ]
    }
   ],
   "source": [
    "lamps = [True] * (n + 1)\n",
    "print (lamps)"
   ]
  },
  {
   "cell_type": "markdown",
   "metadata": {},
   "source": [
    "---\n",
    "The 16 cases\n",
    "---"
   ]
  },
  {
   "cell_type": "code",
   "execution_count": 17,
   "metadata": {},
   "outputs": [
    {
     "name": "stdout",
     "output_type": "stream",
     "text": [
      "0000 \t Flipped switches: 0\n",
      "0001 \t Flipped switches: 1\n",
      "0010 \t Flipped switches: 1\n",
      "0011 \t Flipped switches: 2\n",
      "0100 \t Flipped switches: 1\n",
      "0101 \t Flipped switches: 2\n",
      "0110 \t Flipped switches: 2\n",
      "0111 \t Flipped switches: 3\n",
      "1000 \t Flipped switches: 1\n",
      "1001 \t Flipped switches: 2\n",
      "1010 \t Flipped switches: 2\n",
      "1011 \t Flipped switches: 3\n",
      "1100 \t Flipped switches: 2\n",
      "1101 \t Flipped switches: 3\n",
      "1110 \t Flipped switches: 3\n",
      "1111 \t Flipped switches: 4\n"
     ]
    }
   ],
   "source": [
    "for i in range(16):\n",
    "    s = '{0:04b}'.format(i)\n",
    "    print('%s \\t Flipped switches: %s' % (s, s.count('1')))"
   ]
  },
  {
   "cell_type": "markdown",
   "metadata": {},
   "source": [
    "---\n",
    "Produce results for any given case\n",
    "---"
   ]
  },
  {
   "cell_type": "code",
   "execution_count": 12,
   "metadata": {},
   "outputs": [
    {
     "name": "stdout",
     "output_type": "stream",
     "text": [
      "[True, False, True, True, False, True, True, False, True, True, False]\n"
     ]
    }
   ],
   "source": [
    "s = '1001'\n",
    "\n",
    "for i in range(1,n+1):\n",
    "    if s[0]=='1':              lamps[i] = not lamps[i]\n",
    "    if s[1]=='1' and i%2 == 1: lamps[i] = not lamps[i]\n",
    "    if s[2]=='1' and i%2 == 0: lamps[i] = not lamps[i]\n",
    "    if s[3]=='1' and i%3 == 1: lamps[i] = not lamps[i]\n",
    "\n",
    "print(lamps)"
   ]
  },
  {
   "cell_type": "markdown",
   "metadata": {},
   "source": [
    "---\n",
    "Check On and Off\n",
    "---"
   ]
  },
  {
   "cell_type": "code",
   "execution_count": 13,
   "metadata": {},
   "outputs": [
    {
     "name": "stdout",
     "output_type": "stream",
     "text": [
      "[]\n",
      "[7]\n",
      "Found one answer:  0110110110\n"
     ]
    }
   ],
   "source": [
    "print(on)\n",
    "print(off)\n",
    "\n",
    "if all(lamps[x] for x in on):\n",
    "    if not any(lamps[x] for x in off):\n",
    "        answer = ''.join(\"1\" if x else \"0\" for x in lamps[1:])\n",
    "        print('Found one answer: ', answer)"
   ]
  }
 ],
 "metadata": {
  "kernelspec": {
   "display_name": "Python 3",
   "language": "python",
   "name": "python3"
  },
  "language_info": {
   "codemirror_mode": {
    "name": "ipython",
    "version": 3
   },
   "file_extension": ".py",
   "mimetype": "text/x-python",
   "name": "python",
   "nbconvert_exporter": "python",
   "pygments_lexer": "ipython3",
   "version": "3.8.3"
  }
 },
 "nbformat": 4,
 "nbformat_minor": 4
}
