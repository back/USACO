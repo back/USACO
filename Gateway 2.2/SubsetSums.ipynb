{
 "cells": [
  {
   "cell_type": "markdown",
   "metadata": {},
   "source": [
    "# Section 2.2 - Subset Sums\n",
    "---\n",
    "Read inputs\n",
    "---"
   ]
  },
  {
   "cell_type": "code",
   "execution_count": 2,
   "metadata": {},
   "outputs": [],
   "source": [
    "n = 7"
   ]
  },
  {
   "cell_type": "markdown",
   "metadata": {},
   "source": [
    "---\n",
    "Simplify the question\n",
    "---\n",
    "- For number range of $[1, 7]$, we need to find all subset **with a Summary** of ${\\frac{(1 + 7) * 7}{2}} * \\frac{1}{2} = 14$\n",
    "- Then divide the total combinations by 2 to get final answer\n",
    "\n",
    "How to list all the subsets?\n",
    "---\n",
    "- A recursive function can easily done this"
   ]
  },
  {
   "cell_type": "code",
   "execution_count": 4,
   "metadata": {},
   "outputs": [],
   "source": [
    "def listAllSubsets(lst):     #   [1, (2, 3,...)]\n",
    "    \n",
    "    if len(lst)==1:\n",
    "        return [lst]\n",
    "    \n",
    "    results = [[lst[0]]]\n",
    "    \n",
    "    for subList in listAllSubsets(lst[1:]):\n",
    "        results.append([lst[0]] + subList)\n",
    "        \n",
    "    for subList in listAllSubsets(lst[1:]):\n",
    "        results.append(subList)\n",
    "        \n",
    "    return results"
   ]
  },
  {
   "cell_type": "markdown",
   "metadata": {},
   "source": [
    "---\n",
    "Now let's try it\n",
    "---"
   ]
  },
  {
   "cell_type": "code",
   "execution_count": 5,
   "metadata": {},
   "outputs": [
    {
     "name": "stdout",
     "output_type": "stream",
     "text": [
      "[1, 2, 3, 4, 5, 6, 7]\n"
     ]
    }
   ],
   "source": [
    "n    = 7\n",
    "test = list(range(1,n+1))\n",
    "print(test)"
   ]
  },
  {
   "cell_type": "code",
   "execution_count": 8,
   "metadata": {},
   "outputs": [
    {
     "name": "stdout",
     "output_type": "stream",
     "text": [
      "[1, 2, 4, 7]\n",
      "[1, 2, 5, 6]\n",
      "[1, 3, 4, 6]\n",
      "[1, 6, 7]\n",
      "[2, 3, 4, 5]\n",
      "[2, 5, 7]\n",
      "[3, 4, 7]\n",
      "[3, 5, 6]\n"
     ]
    }
   ],
   "source": [
    "for solutions in listAllSubsets(test):\n",
    "    if sum(solutions) == 14:\n",
    "        print(solutions)"
   ]
  },
  {
   "cell_type": "markdown",
   "metadata": {},
   "source": [
    "---\n",
    "But this is not fast enough!\n",
    "---"
   ]
  },
  {
   "cell_type": "code",
   "execution_count": 9,
   "metadata": {},
   "outputs": [
    {
     "name": "stdout",
     "output_type": "stream",
     "text": [
      "[1, 2, 3, 4, 5, 6, 7, 8, 9, 10, 11, 12, 13, 14, 15, 16, 17, 18, 19, 20]\n"
     ]
    }
   ],
   "source": [
    "n     = 20\n",
    "test  = list(range(1, n+1))\n",
    "print(test)"
   ]
  },
  {
   "cell_type": "code",
   "execution_count": 10,
   "metadata": {},
   "outputs": [
    {
     "name": "stdout",
     "output_type": "stream",
     "text": [
      "Found answer: 7636\n",
      "Runnig time: 11.430031776428223 seconds\n"
     ]
    }
   ],
   "source": [
    "start = time()\n",
    "answer   = 0\n",
    "checkSum = int((1+n)*n/4)\n",
    "\n",
    "for solutions in listAllSubsets(test):\n",
    "    if sum(solutions)==checkSum:\n",
    "        answer+=1\n",
    "print('Found answer: %d' % (answer/2))\n",
    "\n",
    "print('Runnig time: %s seconds' % (time() - start))"
   ]
  },
  {
   "cell_type": "markdown",
   "metadata": {},
   "source": [
    "---\n",
    "A new find: State Transition Equition\n",
    "---\n",
    "$$ S_{n,sum} = S_{n-1,sum} + S_{n-1,sum-n} $$\n",
    "\n",
    "For example: $ S_{7,14} = S_{6,14} + S_{6,14-7} $"
   ]
  },
  {
   "cell_type": "code",
   "execution_count": 35,
   "metadata": {},
   "outputs": [],
   "source": [
    "def solutions(rank, sums):\n",
    "    if sums == 0:\n",
    "        return 1\n",
    "    elif rank == 0:\n",
    "        return 0\n",
    "    elif rank > sums:\n",
    "        return solutions(rank-1, sums)\n",
    "    else:\n",
    "        return solutions(rank-1, sums) + solutions(rank-1, sums-rank)"
   ]
  },
  {
   "cell_type": "code",
   "execution_count": 37,
   "metadata": {},
   "outputs": [
    {
     "name": "stdout",
     "output_type": "stream",
     "text": [
      "27 189\n",
      "1265204\n",
      "Total seconds: 52.37235069274902\n"
     ]
    }
   ],
   "source": [
    "rank = 27\n",
    "halfSum = int(rank * (rank+1) / 2 / 2)\n",
    "print(rank, halfSum)\n",
    "\n",
    "start = time()\n",
    "print( solutions(rank, halfSum)  )\n",
    "stop  = time()\n",
    "print( \"Total seconds: %s\" % (stop - start))"
   ]
  },
  {
   "cell_type": "markdown",
   "metadata": {},
   "source": [
    "---\n",
    "Array Compression\n",
    "---"
   ]
  },
  {
   "cell_type": "code",
   "execution_count": 16,
   "metadata": {},
   "outputs": [
    {
     "name": "stdout",
     "output_type": "stream",
     "text": [
      "[1, 0, 0, 0, 0, 0, 0, 0, 0, 0, 0, 0, 0, 0, 0, 0, 0, 0, 0, 0, 0, 0, 0, 0, 0, 0, 0, 0, 0, 0, 0, 0, 0, 0, 0, 0, 0, 0, 0, 0, 0, 0, 0, 0, 0, 0, 0, 0, 0, 0, 0, 0, 0, 0, 0, 0, 0, 0, 0, 0, 0, 0, 0, 0, 0, 0, 0, 0, 0, 0, 0, 0, 0, 0, 0, 0, 0, 0, 0, 0, 0, 0, 0, 0, 0, 0, 0, 0, 0, 0, 0, 0, 0, 0, 0, 0, 0, 0, 0, 0, 0, 0, 0, 0, 0, 0, 0, 0, 0, 0, 0, 0, 0, 0, 0, 0, 0, 0, 0, 0, 0, 0, 0, 0, 0, 0, 0, 0, 0, 0, 0, 0, 0, 0, 0, 0, 0, 0, 0, 0, 0, 0, 0, 0, 0, 0, 0, 0, 0, 0, 0, 0, 0, 0, 0, 0, 0, 0, 0, 0, 0, 0, 0, 0, 0, 0, 0, 0, 0, 0, 0, 0, 0, 0, 0, 0, 0, 0, 0, 0, 0, 0, 0, 0, 0, 0, 0, 0, 0, 0, 0, 0, 0, 0, 0, 0, 0, 0, 0, 0, 0, 0, 0, 0, 0, 0, 0, 0, 0, 0, 0, 0, 0, 0, 0, 0, 0, 0, 0, 0, 0, 0, 0, 0, 0, 0, 0, 0, 0, 0, 0, 0, 0] 232\n"
     ]
    }
   ],
   "source": [
    "n = 30\n",
    "\n",
    "s = int((1+n)*n/2/2)\n",
    "work = [0]*(s+1)\n",
    "work[0] = 1\n",
    "\n",
    "print( work, s )"
   ]
  },
  {
   "cell_type": "code",
   "execution_count": 17,
   "metadata": {},
   "outputs": [
    {
     "name": "stdout",
     "output_type": "stream",
     "text": [
      "4339640.0\n"
     ]
    }
   ],
   "source": [
    "for i in range(1, n+1):\n",
    "    for j in range(s, i-1, -1):\n",
    "        work[j] += work[j-i]\n",
    "        \n",
    "print(work[-1]/2)"
   ]
  }
 ],
 "metadata": {
  "kernelspec": {
   "display_name": "Python 3",
   "language": "python",
   "name": "python3"
  },
  "language_info": {
   "codemirror_mode": {
    "name": "ipython",
    "version": 3
   },
   "file_extension": ".py",
   "mimetype": "text/x-python",
   "name": "python",
   "nbconvert_exporter": "python",
   "pygments_lexer": "ipython3",
   "version": "3.8.3"
  }
 },
 "nbformat": 4,
 "nbformat_minor": 4
}
