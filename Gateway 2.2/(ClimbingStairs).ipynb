{
 "cells": [
  {
   "cell_type": "markdown",
   "metadata": {},
   "source": [
    "# Climbing Stairs\n",
    "---\n",
    "https://leetcode.com/problems/climbing-stairs/\n",
    "\n",
    "Preparing the steps list\n",
    "---"
   ]
  },
  {
   "cell_type": "code",
   "execution_count": 6,
   "metadata": {},
   "outputs": [
    {
     "name": "stdout",
     "output_type": "stream",
     "text": [
      "[1, 1, 0, 0, 0, 0, 0, 0, 0, 0, 0]\n"
     ]
    }
   ],
   "source": [
    "n = 10\n",
    "steps = [0] * (n+1)\n",
    "steps[0] = steps[1] = 1\n",
    "print (steps)"
   ]
  },
  {
   "cell_type": "code",
   "execution_count": 7,
   "metadata": {},
   "outputs": [
    {
     "name": "stdout",
     "output_type": "stream",
     "text": [
      "[1, 1, 2, 0, 0, 0, 0, 0, 0, 0, 0]\n",
      "[1, 1, 2, 3, 0, 0, 0, 0, 0, 0, 0]\n",
      "[1, 1, 2, 3, 5, 0, 0, 0, 0, 0, 0]\n",
      "[1, 1, 2, 3, 5, 8, 0, 0, 0, 0, 0]\n",
      "[1, 1, 2, 3, 5, 8, 13, 0, 0, 0, 0]\n",
      "[1, 1, 2, 3, 5, 8, 13, 21, 0, 0, 0]\n",
      "[1, 1, 2, 3, 5, 8, 13, 21, 34, 0, 0]\n",
      "[1, 1, 2, 3, 5, 8, 13, 21, 34, 55, 0]\n",
      "[1, 1, 2, 3, 5, 8, 13, 21, 34, 55, 89]\n"
     ]
    }
   ],
   "source": [
    "for i in range(2,n+1):\n",
    "    steps[i] = steps[i-1] + steps[i-2]\n",
    "    print (steps)"
   ]
  }
 ],
 "metadata": {
  "kernelspec": {
   "display_name": "Python 3",
   "language": "python",
   "name": "python3"
  },
  "language_info": {
   "codemirror_mode": {
    "name": "ipython",
    "version": 3
   },
   "file_extension": ".py",
   "mimetype": "text/x-python",
   "name": "python",
   "nbconvert_exporter": "python",
   "pygments_lexer": "ipython3",
   "version": "3.8.3"
  }
 },
 "nbformat": 4,
 "nbformat_minor": 4
}
