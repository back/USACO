{
 "cells": [
  {
   "cell_type": "markdown",
   "id": "bf1dc930",
   "metadata": {},
   "source": [
    "# Movie Festival\n",
    "\n",
    "- [Base Edition](https://cses.fi/problemset/task/1629)\n",
    "  - (Custom sort by ending time, always choose the earliest ending one)\n",
    "- [Advanced Edition](https://cses.fi/problemset/task/1632)\n",
    "  - Utilizing a multiset(TreeMap) to do the greedy search\n",
    "  \n",
    "### Prepare Inputs"
   ]
  },
  {
   "cell_type": "code",
   "execution_count": 27,
   "id": "1e8b0fb1",
   "metadata": {},
   "outputs": [],
   "source": [
    "int n=5, k=2;\n",
    "int[][] m = {{1, 5},{8, 10},{3, 6},{2, 5},{6, 9}};"
   ]
  },
  {
   "cell_type": "markdown",
   "id": "844568c3",
   "metadata": {},
   "source": [
    "### Sort movie intervals based on *end time*"
   ]
  },
  {
   "cell_type": "code",
   "execution_count": 28,
   "id": "58d73b9c",
   "metadata": {},
   "outputs": [
    {
     "name": "stdout",
     "output_type": "stream",
     "text": [
      "[1, 5]\n",
      "[2, 5]\n",
      "[3, 6]\n",
      "[6, 9]\n",
      "[8, 10]\n"
     ]
    }
   ],
   "source": [
    "// sort movies based on end time\n",
    "Arrays.sort(m, Comparator.comparingInt(m -> m[1]));\n",
    "for(int[] x : m)System.out.println(Arrays.toString(x));"
   ]
  },
  {
   "cell_type": "markdown",
   "id": "afb4b503",
   "metadata": {},
   "source": [
    "### Create a \"multiset\" via TreeSet class"
   ]
  },
  {
   "cell_type": "code",
   "execution_count": 29,
   "id": "84f681ec",
   "metadata": {},
   "outputs": [],
   "source": [
    "int maxMovies = 0;\n",
    "// times when members will finish watching their movies\n",
    "TreeMap<Integer, Integer> endTimes = new TreeMap<>();\n",
    "endTimes.put(0, k);  // initialize all members at time 0 ==> {0:2}"
   ]
  },
  {
   "cell_type": "markdown",
   "id": "1e8fcfc3",
   "metadata": {},
   "source": [
    "### Solve the problem\n",
    "- For each movie interval\n",
    "  - check if any viewers available before its starting time\n",
    "    - if found, update multiset by move 1 viewer from the current entry to new ending time entry"
   ]
  },
  {
   "cell_type": "code",
   "execution_count": 30,
   "id": "ca91d335",
   "metadata": {},
   "outputs": [
    {
     "name": "stdout",
     "output_type": "stream",
     "text": [
      "[1, 5]\n",
      "0:1\n",
      "5:1\n",
      "[2, 5]\n",
      "5:2\n",
      "[6, 9]\n",
      "5:1\n",
      "9:1\n",
      "[8, 10]\n",
      "9:1\n",
      "10:1\n",
      "Max movies: 4\n"
     ]
    }
   ],
   "source": [
    "for (int[] movie : m) {\n",
    "    Integer lower = endTimes.floorKey(movie[0]);\n",
    "    if (lower != null) {\n",
    "        maxMovies++;\n",
    "        int lowerValue = endTimes.get(lower);\n",
    "        if (lowerValue == 1) {\n",
    "            endTimes.remove(lower);\n",
    "        } else {\n",
    "            endTimes.put(lower, lowerValue - 1);\n",
    "        }\n",
    "        endTimes.put(movie[1], endTimes.getOrDefault(movie[1], 0) + 1);\n",
    "        System.out.println(Arrays.toString(movie));\n",
    "        for(Map.Entry<Integer, Integer> entry : endTimes.entrySet())\n",
    "            System.out.println(entry.getKey() + \":\" + entry.getValue());\n",
    "    }\n",
    "}\n",
    "System.out.println(\"Max movies: \" + maxMovies);"
   ]
  }
 ],
 "metadata": {
  "kernelspec": {
   "display_name": "Java",
   "language": "java",
   "name": "java"
  },
  "language_info": {
   "codemirror_mode": "java",
   "file_extension": ".jshell",
   "mimetype": "text/x-java-source",
   "name": "Java",
   "pygments_lexer": "java",
   "version": "14.0.2+12-46"
  }
 },
 "nbformat": 4,
 "nbformat_minor": 5
}
