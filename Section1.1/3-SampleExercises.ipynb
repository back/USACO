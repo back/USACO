{
 "cells": [
  {
   "cell_type": "markdown",
   "metadata": {},
   "source": [
    "# Sample Exercises\n",
    "---\n",
    "- [Teleportation](http://www.usaco.org/index.php?page=viewproblem2&cpid=807)\n",
    "- [Promote Counting](http://www.usaco.org/index.php?page=viewproblem2&cpid=591)\n",
    "- [Do you know your ABCs?](http://www.usaco.org/index.php?page=viewproblem2&cpid=1059)\n",
    "- [Word Processor](http://www.usaco.org/index.php?page=viewproblem2&cpid=987)\n",
    "- [Bucket Brigate](http://www.usaco.org/index.php?page=viewproblem2&cpid=939)"
   ]
  }
 ],
 "metadata": {
  "kernelspec": {
   "display_name": "Python 3",
   "language": "python",
   "name": "python3"
  },
  "language_info": {
   "codemirror_mode": {
    "name": "ipython",
    "version": 3
   },
   "file_extension": ".py",
   "mimetype": "text/x-python",
   "name": "python",
   "nbconvert_exporter": "python",
   "pygments_lexer": "ipython3",
   "version": "3.8.3"
  }
 },
 "nbformat": 4,
 "nbformat_minor": 4
}
