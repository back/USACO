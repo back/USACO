{
 "cells": [
  {
   "cell_type": "markdown",
   "metadata": {},
   "source": [
    "# Expected Knowledge\n",
    "---\n",
    "- Learned at least one programming language\n",
    " - C/C++\n",
    " - Java\n",
    " - Python\n",
    " - PASCAL\n",
    "- Variables\n",
    "- Data types\n",
    "- Reading Input\n",
    "- Writing Output\n",
    "- Loops\n",
    "- If / Else\n",
    "- Logical operators\n",
    "- Arrays\n",
    " - Multidimensional Arrays\n",
    "- Functions\n",
    " - Recursion (a function calling itself)\n",
    "\n",
    "In particular, contestants using Java should be familiar with roughly the <u>first half and ending part</u> of AP Computer Science A (excluding the Class Oriented sections)."
   ]
  },
  {
   "cell_type": "markdown",
   "metadata": {},
   "source": [
    "# Data Types\n",
    "---\n",
    "\n",
    "### int\n",
    "The 32-bit integer supports values between **−2 147 483 648** and **2 147 483 647**, which is roughly equal to ± $2×10^9$\n",
    "\n",
    "\n",
    "### float (double)\n",
    "It is important to know that floating point numbers are **not** exact, because the binary architecture of computers can only store decimals to a certain precision. Hence, we should always expect that floating point numbers are slightly off.\n",
    "\n",
    "Contest problems will mark as correct any output that is within a certain range of the judge’s answer.\n",
    "\n",
    "### char\n",
    "Remember they can be calculated by +, -, *, /; Please refer to the ASCII table below for specific values\n",
    "\n",
    "![](https://upload.wikimedia.org/wikipedia/commons/d/dd/ASCII-Table.svg)\n",
    "\n",
    "### String\n",
    "Strings are effectively arrays of characters. Most time you need this to access the character at a certain index and take substrings of the string."
   ]
  },
  {
   "cell_type": "markdown",
   "metadata": {},
   "source": [
    "# Time/Space Complexity\n",
    "\n",
    "In order to pass USACO, your program needs to finish running within a certain timeframe. This limit is 1 ~ 4 seconds for Java submissions. A conservative estimate for the number of operations the grading server can handle per second is $10^8$.\n",
    "\n",
    "# Big O Notation\n",
    "\n",
    "The worst-case complexity of processing data population of **n** as a function of (n)\n",
    "\n",
    "### $O(1)$\n",
    "The algorithm executes a constant number of operations\n",
    "\n",
    "### $O(n)$\n",
    "The execution time is linear to the processing population\n",
    "```Java\n",
    "for(int i = 1; i <= n; i++){\n",
    "    // constant time code her\n",
    "```\n",
    "\n",
    "### $O(n^2)$\n",
    "The worst case of double loop\n",
    "```Java\n",
    "for(int i = 1; i <= n; i++){\n",
    "    for(int j = 1; j <= i; j++){\n",
    "        // constant time code here\n",
    "    }\n",
    "}\n",
    "\n",
    "```\n",
    "\n",
    "### Other Common Complexities and Constraints\n",
    "\n",
    "- Mathematical formulas that just calculate an answer: O(1)\n",
    "- Unordered set/map: O(1) per operation\n",
    "- **Binary search**: O(log n)\n",
    "- Ordered set/map or priority queue: O(log n) per operation\n",
    "- Prime factorization of an integer, or checking primality or compositeness of an integer: O(√n)\n",
    "- Reading in n items of input: O(n)\n",
    "- Iterating through an array or a list of n elements: O(n)\n",
    "- Sorting: usually O(n log n) for default sorting algorithms (mergesort, quicksort)\n",
    "- Iterating through all subsets of size k of the input elements: $O(n^k)$\n",
    " - For example, iterating through all triplets is $O(n^3)$.\n",
    "- Iterating through all permutations: $O(n!)$\n"
   ]
  }
 ],
 "metadata": {
  "kernelspec": {
   "display_name": "Python 3",
   "language": "python",
   "name": "python3"
  },
  "language_info": {
   "codemirror_mode": {
    "name": "ipython",
    "version": 3
   },
   "file_extension": ".py",
   "mimetype": "text/x-python",
   "name": "python",
   "nbconvert_exporter": "python",
   "pygments_lexer": "ipython3",
   "version": "3.8.3"
  }
 },
 "nbformat": 4,
 "nbformat_minor": 4
}
