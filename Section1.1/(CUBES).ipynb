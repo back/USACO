{
 "cells": [
  {
   "cell_type": "markdown",
   "metadata": {},
   "source": [
    "# Entry Test - CUBES\n",
    "---\n",
    "$$(C+U+B+E+S)^3=CUBES$$\n",
    "---\n",
    "\n",
    "It's a good warm up, and should not be a problem for most of you.\n",
    "\n",
    "However, instead of trying all 5-digit numbers (there are 90,000 of them!), a better idea is to just test a much smaller group.\n",
    "\n",
    "Reply \"done' when you worked this new idea out and get the reduced test range:  ( 22^3 , 23^3, 24^3, ..., 35^3 ).\n",
    "\n",
    "---\n",
    "Considering this:    ( x ) ^ 3 = CUBES\n",
    "\n",
    "To get a 5-digit cubic result, the minimal x would be 22, maximum value is 46.\n",
    "That's a much smaller range we need to check against the formula...\n",
    "\n",
    "Furthermore, x is a summary of 5 unique single digits.\n",
    "That means the maximum of x is actually:  9+8+7+6+5 = 35\n",
    "\n",
    "So finally we can lock in the testing range:   22 ~ 35\n",
    "That's only 14 cases.   (comparing this to the 90,000 cases method)\n",
    "\n",
    "That's it. The rest part you already knew.\n",
    "\n",
    "Still, please reply here to mark your completion of this homework assignment.\n",
    "\n"
   ]
  },
  {
   "cell_type": "code",
   "execution_count": 1,
   "metadata": {},
   "outputs": [
    {
     "name": "stdout",
     "output_type": "stream",
     "text": [
      "19683\n"
     ]
    }
   ],
   "source": [
    "for i in range(22, 9+8+7+6+5+1):\n",
    "    a=set(str(i*i*i))\n",
    "    if len(a)==5 and i==sum(map(int, a)):\n",
    "        print(i*i*i)"
   ]
  },
  {
   "cell_type": "code",
   "execution_count": 2,
   "metadata": {},
   "outputs": [
    {
     "data": {
      "text/plain": [
       "27"
      ]
     },
     "execution_count": 2,
     "metadata": {},
     "output_type": "execute_result"
    }
   ],
   "source": [
    "(1+9+6+8+3)"
   ]
  },
  {
   "cell_type": "code",
   "execution_count": 4,
   "metadata": {},
   "outputs": [
    {
     "data": {
      "text/plain": [
       "17576"
      ]
     },
     "execution_count": 4,
     "metadata": {},
     "output_type": "execute_result"
    }
   ],
   "source": [
    "26*26*26"
   ]
  }
 ],
 "metadata": {
  "kernelspec": {
   "display_name": "Python 3",
   "language": "python",
   "name": "python3"
  },
  "language_info": {
   "codemirror_mode": {
    "name": "ipython",
    "version": 3
   },
   "file_extension": ".py",
   "mimetype": "text/x-python",
   "name": "python",
   "nbconvert_exporter": "python",
   "pygments_lexer": "ipython3",
   "version": "3.8.3"
  }
 },
 "nbformat": 4,
 "nbformat_minor": 4
}
