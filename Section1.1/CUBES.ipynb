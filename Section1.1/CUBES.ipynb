{
 "cells": [
  {
   "cell_type": "markdown",
   "metadata": {},
   "source": [
    "# Entry Test - CUBES\n",
    "---\n",
    "$$(C+U+B+E+S)^3=CUBES$$\n",
    "---\n",
    "\n",
    "It's a good warm up, and should not be a problem for most of you.\n",
    "\n",
    "However, instead of trying all 5-digit numbers (there are total 90,000 of them!), a better idea is to just test a very limited set.\n",
    "\n",
    "Considering this:    ( x ) ^ 3 = CUBES\n",
    "\n",
    "To get a 5-digit cubic result, the minimal x would be 22, maximum value is 46.\n",
    "So, 22 ~ 46, toal 25 numbers to check.\n",
    "That's a much smaller range...\n",
    "\n",
    "Furthermore, x is a summary of 5 unique single digits.\n",
    "That means the maximum of x can be further restricted:  9+8+7+6+5 = 35\n",
    "\n",
    "So finally we can lock in the testing range:   22 ~ 35\n",
    "That's only 14 cases.   (comparing this to the 90,000 cases method)\n",
    "\n",
    "That's it. The rest part you should be able to figure out easily.\n"
   ]
  },
  {
   "cell_type": "code",
   "execution_count": 2,
   "metadata": {},
   "outputs": [
    {
     "name": "stdout",
     "output_type": "stream",
     "text": [
      "17576\n",
      "19683\n"
     ]
    }
   ],
   "source": [
    "for i in range(22, 36):\n",
    "    if i==sum(map(int, str(i**3))):\n",
    "        print(i**3)"
   ]
  },
  {
   "cell_type": "code",
   "execution_count": 3,
   "metadata": {},
   "outputs": [
    {
     "name": "stdout",
     "output_type": "stream",
     "text": [
      "19683\n"
     ]
    }
   ],
   "source": [
    "for i in range(22, 36):\n",
    "    if len(set(str(i**3))) == 5:\n",
    "        if i==sum(map(int, str(i**3))):\n",
    "            print(i**3)"
   ]
  },
  {
   "cell_type": "code",
   "execution_count": 1,
   "metadata": {},
   "outputs": [
    {
     "name": "stdout",
     "output_type": "stream",
     "text": [
      "20 8000\n",
      "21 9261\n",
      "22 10648\n",
      "23 12167\n",
      "24 13824\n",
      "25 15625\n",
      "26 17576\n",
      "27 19683\n",
      "28 21952\n",
      "29 24389\n",
      "30 27000\n",
      "31 29791\n",
      "32 32768\n",
      "33 35937\n",
      "34 39304\n",
      "35 42875\n",
      "36 46656\n",
      "37 50653\n",
      "38 54872\n",
      "39 59319\n",
      "40 64000\n",
      "41 68921\n",
      "42 74088\n",
      "43 79507\n",
      "44 85184\n",
      "45 91125\n",
      "46 97336\n",
      "47 103823\n",
      "48 110592\n",
      "49 117649\n"
     ]
    }
   ],
   "source": [
    "for i in range(20, 50):\n",
    "    print (i, i**3)"
   ]
  }
 ],
 "metadata": {
  "kernelspec": {
   "display_name": "Python 3",
   "language": "python",
   "name": "python3"
  },
  "language_info": {
   "codemirror_mode": {
    "name": "ipython",
    "version": 3
   },
   "file_extension": ".py",
   "mimetype": "text/x-python",
   "name": "python",
   "nbconvert_exporter": "python",
   "pygments_lexer": "ipython3",
   "version": "3.8.3"
  }
 },
 "nbformat": 4,
 "nbformat_minor": 4
}
