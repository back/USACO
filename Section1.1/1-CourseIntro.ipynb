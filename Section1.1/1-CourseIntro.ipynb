{
 "cells": [
  {
   "cell_type": "markdown",
   "metadata": {},
   "source": [
    "# USA Team site\n",
    "---\n",
    "- [USACO](http://usaco.org)\n",
    "  - [Contests](http://usaco.org/index.php?page=contests)\n",
    "    - On-Line Contests\n",
    "    - The Road to the IOI Team\n",
    "  - [Resources](http://usaco.org/index.php?page=resources)\n",
    "    - Books about **Competitive Programming**\n",
    "    \n",
    "    \n",
    "Note: pay attention to the challenge schedule on the front page!\n",
    "\n",
    "# International Olympiad in Informatics\n",
    "---\n",
    "- [IOI](https://ioinformatics.org/)\n",
    "- [Wiki](https://en.wikipedia.org/wiki/International_Olympiad_in_Informatics)\n",
    "\n",
    "# International Collegiate Programming Contest\n",
    "---\n",
    "- [ICPC](https://icpc.global/)\n",
    "\n",
    "# USACO Training Gateway\n",
    "---\n",
    "https://train.usaco.org/\n",
    "- All submission must have a comment block at top with following contents\n",
    " - LANG:\n",
    " - TASK:\n",
    "- Please be noted that these 2 lines should not contain any other characters, including '*'\n",
    "\n",
    "## Submission\n",
    "\n",
    "- All input/output files are named exactly after TASK keyword:\n",
    " - **<task name\\>.in**\n",
    " - **<task name\\>.out**\n",
    "- Input file will always have the last line with an '\\\\n' only\n",
    "- Output file should also produce an '\\\\n' at the end as the last finishing line\n",
    "\n",
    "### Special notes for Java programmer:\n",
    "- USACO does not expect any \"package\" line on top of your main class. So you have to drop it."
   ]
  },
  {
   "cell_type": "markdown",
   "metadata": {},
   "source": [
    "File I/O\n",
    "---\n",
    "\n",
    "#### Java\n",
    "```java\n",
    "Scanner sc = new Scanner(new File(\"test.in\"));\n",
    "int x = sc.nextInt();\n",
    "int y = sc.nextInt();\n",
    "\n",
    "FileWriter fw = new FileWriter(\"test.out\");\n",
    "fw.write( (x+y) + \"\\n\" );\n",
    "fw.close();\n",
    "```\n",
    "\n",
    "#### Python\n",
    "```python\n",
    "with open('test.in') as fin, open('test.out', 'w') as fout:\n",
    "    fout.write ('%s\\n' % sum(map(int, fin.readline().split())))\n",
    "```\n",
    "\n",
    "#### C++\n",
    "```cpp\n",
    "ifstream fin (\"test.in\");\n",
    "int a, b;\n",
    "fin >> a >> b;\n",
    "\n",
    "ofstream fout (\"test.out\");\n",
    "fout << a+b << endl;\n",
    "```"
   ]
  },
  {
   "cell_type": "markdown",
   "metadata": {},
   "source": [
    "# Running Code Online\n",
    "---\n",
    "- [Replit](https://repl.it/)\n",
    "- [Judge0](https://ide.judge0.com)\n",
    "- [IDE1](https://ideone.com)\n",
    "- [CSA Academy](https://csacademy.com/workspace/)\n",
    "- [Goorm](https://ide.goorm.io/)\n",
    "\n",
    "You can also share code with [pastebin](pastebin.com) or [hastebin](hastbin.com)."
   ]
  },
  {
   "cell_type": "markdown",
   "metadata": {},
   "source": [
    "# Running Code Locally\n",
    "---\n",
    "\n",
    "- JetBrains - [IntelliJ IDEA Community](https://www.jetbrains.com/idea/)\n",
    "- Eclipse Foundation - [Eclipse](https://www.eclipse.org/eclipseide/)\n",
    "- King's College London - [BlueJ](https://bluej.org/)"
   ]
  },
  {
   "cell_type": "markdown",
   "metadata": {},
   "source": [
    "# Other Online Judgement Machine\n",
    "\n",
    "- [CSES](https://cses.fi/problemset/)\n",
    "- [LeetCode](https://leetcode.com/problemset/all/)\n",
    "- [UVa Online](https://onlinejudge.org/index.php?option=com_onlinejudge&Itemid=8)"
   ]
  }
 ],
 "metadata": {
  "kernelspec": {
   "display_name": "Python 3",
   "language": "python",
   "name": "python3"
  },
  "language_info": {
   "codemirror_mode": {
    "name": "ipython",
    "version": 3
   },
   "file_extension": ".py",
   "mimetype": "text/x-python",
   "name": "python",
   "nbconvert_exporter": "python",
   "pygments_lexer": "ipython3",
   "version": "3.8.3"
  }
 },
 "nbformat": 4,
 "nbformat_minor": 4
}
