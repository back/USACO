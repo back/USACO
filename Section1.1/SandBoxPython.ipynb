{
 "cells": [
  {
   "cell_type": "code",
   "execution_count": null,
   "metadata": {},
   "outputs": [],
   "source": [
    "for i in range(20, 50):\n",
    "    sumOfDigits = sum(int(digit) for digit in str(i**3))\n",
    "    if (i == sumOfDigits):\n",
    "        if len(set(i for i in str(i**3)))==5:\n",
    "            print(i, i**3, sumOfDigits)\n"
   ]
  },
  {
   "cell_type": "code",
   "execution_count": null,
   "metadata": {},
   "outputs": [],
   "source": [
    "import math\n",
    "\n",
    "point_x = [1] * 1000\n",
    "point_y = [2] * 1000\n",
    "\n",
    "point_x[50] = 12\n",
    "point_y[50] = 34\n",
    "\n",
    "maxDis = 0\n",
    "\n",
    "for i in range(1000):\n",
    "    for j in range(i+1, 1000):\n",
    "        disX = point_x[i] - point_x[j]\n",
    "        disY = point_y[i] - point_y[j]\n",
    "        dis = math.sqrt(disX*disX + disY*disY)\n",
    "        if dis > maxDis:\n",
    "            maxDis = dis\n",
    "            \n",
    "print(maxDis)"
   ]
  }
 ],
 "metadata": {
  "kernelspec": {
   "display_name": "Python 3",
   "language": "python",
   "name": "python3"
  },
  "language_info": {
   "codemirror_mode": {
    "name": "ipython",
    "version": 3
   },
   "file_extension": ".py",
   "mimetype": "text/x-python",
   "name": "python",
   "nbconvert_exporter": "python",
   "pygments_lexer": "ipython3",
   "version": "3.8.3"
  }
 },
 "nbformat": 4,
 "nbformat_minor": 4
}
