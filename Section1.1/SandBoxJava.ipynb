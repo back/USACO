{
 "cells": [
  {
   "cell_type": "code",
   "execution_count": 8,
   "metadata": {},
   "outputs": [
    {
     "name": "stdout",
     "output_type": "stream",
     "text": [
      "0.09999999999999998\n"
     ]
    }
   ],
   "source": [
    "System.out.println( 0.7 - 0.6 );  // 0.1 ?"
   ]
  },
  {
   "cell_type": "code",
   "execution_count": 9,
   "metadata": {},
   "outputs": [
    {
     "name": "stdout",
     "output_type": "stream",
     "text": [
      "33\n"
     ]
    }
   ],
   "source": [
    "System.out.println('c' / 3)"
   ]
  },
  {
   "cell_type": "code",
   "execution_count": null,
   "metadata": {},
   "outputs": [],
   "source": [
    "for(int i = 22; i < 47; i++) {\n",
    "    \n",
    "    int cube = i * i * i;\n",
    "    \n",
    "    String strCube = String.valueOf(cube);\n",
    "    \n",
    "    int digitsSum = 0;\n",
    "    for(int x = 0; x < strCube.length(); x++) {\n",
    "        String strDigit = strCube.substring(x, x+1);\n",
    "        digitsSum += Integer.valueOf( strDigit   );\n",
    "    }\n",
    "\n",
    "    if (digitsSum == i) {\n",
    "        \n",
    "        HashSet<Character> uniqueChars = new HashSet<Character>();\n",
    "        for (char c : strCube.toCharArray()) {\n",
    "            uniqueChars.add(c);\n",
    "        }\n",
    "        \n",
    "        if (uniqueChars.size()==5) \n",
    "            System.out.println(cube + \", digits sum = \" + digitsSum + \", cube root (i) = \" + i);\n",
    "    }\n",
    "}"
   ]
  }
 ],
 "metadata": {
  "kernelspec": {
   "display_name": "Java",
   "language": "java",
   "name": "java"
  },
  "language_info": {
   "codemirror_mode": "java",
   "file_extension": ".jshell",
   "mimetype": "text/x-java-source",
   "name": "Java",
   "pygments_lexer": "java",
   "version": "14.0.2+12-46"
  }
 },
 "nbformat": 4,
 "nbformat_minor": 4
}
