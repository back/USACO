{
 "cells": [
  {
   "cell_type": "code",
   "execution_count": 34,
   "id": "70338783",
   "metadata": {},
   "outputs": [
    {
     "name": "stdout",
     "output_type": "stream",
     "text": [
      "6\n",
      "[[31, 13], [12, 8], [25, 6], [10, 24], [1, 1], [997, 120]]\n"
     ]
    }
   ],
   "source": [
    "import sys\n",
    "sys.stdin=StringIO('''6\n",
    "31 13\n",
    "12 8\n",
    "25 6\n",
    "10 24\n",
    "1 1\n",
    "997 120\n",
    "''')\n",
    "\n",
    "n = int(sys.stdin.readline())\n",
    "print(n)\n",
    "\n",
    "p =  [list(map(int, lin.split())) for lin in sys.stdin.readlines()]\n",
    "print(p)    "
   ]
  },
  {
   "cell_type": "code",
   "execution_count": 36,
   "id": "7f29f9e4",
   "metadata": {},
   "outputs": [
    {
     "name": "stdout",
     "output_type": "stream",
     "text": [
      "32 13 1\n",
      "16 13 2\n",
      "8 13 3\n",
      "8 12 4\n",
      "8 6 5\n",
      "4 6 6\n",
      "6 6 8\n",
      "========= 8\n",
      "6 8 1\n",
      "8 8 3\n",
      "========= 3\n",
      "26 6 1\n",
      "13 6 2\n",
      "14 6 3\n",
      "7 6 4\n",
      "8 6 5\n",
      "4 6 6\n",
      "6 6 8\n",
      "========= 8\n",
      "10 12 1\n",
      "12 12 3\n",
      "========= 3\n",
      "========= 0\n",
      "998 120 1\n",
      "499 120 2\n",
      "500 120 3\n",
      "250 120 4\n",
      "125 120 5\n",
      "126 120 6\n",
      "63 120 7\n",
      "63 60 8\n",
      "64 60 9\n",
      "32 60 10\n",
      "32 30 11\n",
      "16 30 12\n",
      "16 15 13\n",
      "8 15 14\n",
      "8 14 15\n",
      "8 7 16\n",
      "4 7 17\n",
      "4 6 18\n",
      "6 6 20\n",
      "========= 20\n"
     ]
    }
   ],
   "source": [
    "for a, b in p:\n",
    "    step = 0\n",
    "    while a != b:\n",
    "        while a > b:\n",
    "            if a % 2 == 1:\n",
    "                a += 1\n",
    "                step += 1\n",
    "                print(a,b, step)\n",
    "            else:\n",
    "                a //= 2\n",
    "                step += 1\n",
    "                print(a,b, step)\n",
    "        while a < b:\n",
    "            if b-a < 3:\n",
    "                step += b-a\n",
    "                a = b\n",
    "                print(a,b, step)\n",
    "                break\n",
    "            if b % 2 == 1:\n",
    "                b -= 1\n",
    "                step += 1\n",
    "                print(a,b, step)\n",
    "            else:\n",
    "                b //= 2\n",
    "                step += 1\n",
    "                print(a,b, step)\n",
    "    print('=========', step)"
   ]
  },
  {
   "cell_type": "markdown",
   "id": "58285217",
   "metadata": {},
   "source": [
    "65536\n",
    "\n",
    "63     60\n",
    "64     60\n",
    "32     60\n",
    "32     30\n",
    "16     30\n",
    "16     15\n",
    "8      15\n",
    "8      14\n",
    "8      7\n",
    "4      7\n",
    "4      6\n",
    "\n",
    "       14\n",
    "       7\n",
    "4      6\n",
    "2\n",
    "3\n",
    "6\n",
    "7\n",
    "14\n",
    "15\n",
    "30\n",
    "60\n",
    "120\n",
    "\n",
    "64\n",
    "32\n",
    "16\n",
    "8\n",
    "+7=15\n",
    "30\n",
    "60\n",
    "120\n",
    "\n"
   ]
  },
  {
   "cell_type": "code",
   "execution_count": null,
   "id": "4ea72f0e",
   "metadata": {},
   "outputs": [],
   "source": [
    "\n"
   ]
  }
 ],
 "metadata": {
  "kernelspec": {
   "display_name": "Python 3",
   "language": "python",
   "name": "python3"
  },
  "language_info": {
   "codemirror_mode": {
    "name": "ipython",
    "version": 3
   },
   "file_extension": ".py",
   "mimetype": "text/x-python",
   "name": "python",
   "nbconvert_exporter": "python",
   "pygments_lexer": "ipython3",
   "version": "3.9.7"
  }
 },
 "nbformat": 4,
 "nbformat_minor": 5
}
