{
 "cells": [
  {
   "cell_type": "code",
   "execution_count": 28,
   "id": "1584afe3",
   "metadata": {},
   "outputs": [
    {
     "name": "stdout",
     "output_type": "stream",
     "text": [
      "7\n",
      "[4, 3, 1, 2, 5, 6, 7]\n"
     ]
    }
   ],
   "source": [
    "import sys\n",
    "\n",
    "sys.stdin=StringIO('''7\n",
    "4 3 1 2 5 6 7\n",
    "''')\n",
    "\n",
    "n = int(sys.stdin.readline())\n",
    "print(n)\n",
    "\n",
    "p = list(map(int, sys.stdin.readline().split()))\n",
    "print(p)    "
   ]
  },
  {
   "cell_type": "code",
   "execution_count": 29,
   "id": "c2f57796",
   "metadata": {},
   "outputs": [
    {
     "name": "stdout",
     "output_type": "stream",
     "text": [
      "15 3 1 3\n",
      "19 4 1 4\n",
      "24 4 0 5\n",
      "24\n"
     ]
    }
   ],
   "source": [
    "q = [-1] * n\n",
    "answer = (n-1)*2\n",
    "for i in range(1,n):\n",
    "    tracer = i-1\n",
    "    while tracer > -1 and p[tracer] < p[i]:\n",
    "        tracer = q[tracer]\n",
    "        if tracer > -1:\n",
    "            answer += i - tracer + 1\n",
    "            print(answer, i, tracer, (i-tracer+1))\n",
    "    q[i] = tracer\n",
    "print(answer)"
   ]
  }
 ],
 "metadata": {
  "kernelspec": {
   "display_name": "Python 3",
   "language": "python",
   "name": "python3"
  },
  "language_info": {
   "codemirror_mode": {
    "name": "ipython",
    "version": 3
   },
   "file_extension": ".py",
   "mimetype": "text/x-python",
   "name": "python",
   "nbconvert_exporter": "python",
   "pygments_lexer": "ipython3",
   "version": "3.9.7"
  }
 },
 "nbformat": 4,
 "nbformat_minor": 5
}
