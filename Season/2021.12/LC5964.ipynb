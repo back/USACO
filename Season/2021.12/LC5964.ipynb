{
 "cells": [
  {
   "cell_type": "markdown",
   "id": "20838722",
   "metadata": {},
   "source": [
    "# LeetCode Contest\n",
    "\n",
    "https://leetcode.com/contest/weekly-contest-273/problems/execution-of-all-suffix-instructions-staying-in-a-grid/\n",
    "\n",
    "### Read Inputs"
   ]
  },
  {
   "cell_type": "code",
   "execution_count": 13,
   "id": "f3a07c79",
   "metadata": {},
   "outputs": [
    {
     "name": "stdout",
     "output_type": "stream",
     "text": [
      "[1, 1, 0, 0, -1, 0]\n",
      "[0, 0, 1, 1, 0, -1]\n",
      "[0, 0, 0, 0, 0, 0]\n"
     ]
    }
   ],
   "source": [
    "n = 3\n",
    "startPos = [0,1]\n",
    "s = \"RRDDLU\"\n",
    "\n",
    "px = []\n",
    "py = []\n",
    "for c in s:\n",
    "    if c=='L':\n",
    "        px.append(-1)\n",
    "        py.append(0)\n",
    "    elif c=='R':\n",
    "        px.append(1)\n",
    "        py.append(0)\n",
    "    elif c=='U':\n",
    "        px.append(0)\n",
    "        py.append(-1)\n",
    "    elif c=='D':\n",
    "        px.append(0)\n",
    "        py.append(1)\n",
    "\n",
    "a = [0] * len(s)\n",
    "print(px)\n",
    "print(py)\n",
    "print(a)"
   ]
  },
  {
   "cell_type": "markdown",
   "id": "1b97f8d2",
   "metadata": {},
   "source": [
    "### Solution"
   ]
  },
  {
   "cell_type": "code",
   "execution_count": 14,
   "id": "de5e6251",
   "metadata": {},
   "outputs": [
    {
     "name": "stdout",
     "output_type": "stream",
     "text": [
      "[1, 5, 4, 3, 1, 0]\n"
     ]
    }
   ],
   "source": [
    "for i in range(len(a)):\n",
    "    dx = startPos[1]\n",
    "    dy = startPos[0]\n",
    "    for j in range(i,len(a)):\n",
    "        dx += px[j]\n",
    "        if dx<0 or dx>=n:\n",
    "            break\n",
    "        dy += py[j]\n",
    "        if dy<0 or dy>=n:\n",
    "            break\n",
    "        a[i]+=1\n",
    "print(a)"
   ]
  }
 ],
 "metadata": {
  "kernelspec": {
   "display_name": "Python 3 (ipykernel)",
   "language": "python",
   "name": "python3"
  },
  "language_info": {
   "codemirror_mode": {
    "name": "ipython",
    "version": 3
   },
   "file_extension": ".py",
   "mimetype": "text/x-python",
   "name": "python",
   "nbconvert_exporter": "python",
   "pygments_lexer": "ipython3",
   "version": "3.9.7"
  }
 },
 "nbformat": 4,
 "nbformat_minor": 5
}
