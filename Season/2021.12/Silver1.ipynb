{
 "cells": [
  {
   "cell_type": "markdown",
   "id": "7d47648b",
   "metadata": {},
   "source": [
    "# Closest Cow Wins\n",
    "\n",
    "### Read Inputs"
   ]
  },
  {
   "cell_type": "code",
   "execution_count": 25,
   "id": "06ef456a",
   "metadata": {},
   "outputs": [],
   "source": [
    "import sys\n",
    "sys.stdin=StringIO('''6 5 2\n",
    "0 4\n",
    "4 6\n",
    "8 10\n",
    "10 8\n",
    "12 12\n",
    "13 14\n",
    "2\n",
    "3\n",
    "5\n",
    "7\n",
    "11\n",
    "''')"
   ]
  },
  {
   "cell_type": "markdown",
   "id": "3837980f",
   "metadata": {},
   "source": [
    "### Solution"
   ]
  },
  {
   "cell_type": "code",
   "execution_count": 26,
   "id": "e3937239",
   "metadata": {},
   "outputs": [
    {
     "name": "stdout",
     "output_type": "stream",
     "text": [
      "[[0, 4], [4, 6], [8, 10], [10, 8], [12, 12], [13, 14]] [2, 3, 5, 7, 11]\n"
     ]
    }
   ],
   "source": [
    "k, m, n = map(int, sys.stdin.readline().split())\n",
    "g = [list(map(int, sys.stdin.readline().split())) for _ in range(k)]\n",
    "c = sorted(int(sys.stdin.readline()) for _ in range(m))\n",
    "a = []\n",
    "print (g, c)"
   ]
  },
  {
   "cell_type": "code",
   "execution_count": 27,
   "id": "502552c7",
   "metadata": {},
   "outputs": [],
   "source": [
    "def calc(start, end, span):\n",
    "    if start < end:\n",
    "        totalSum = sum(b for _, b in g[start:end])\n",
    "        if span < 0:\n",
    "            a.append(totalSum)\n",
    "        else:\n",
    "            maxHalf = 0\n",
    "            span /= 2\n",
    "            for i in range(start,end):\n",
    "                halfReach = g[i][0] + span\n",
    "                z = sum(b for a, b in g[i:end] if a < halfReach)\n",
    "                if z > maxHalf:\n",
    "                    maxHalf = z\n",
    "            a.append(maxHalf)\n",
    "            a.append(totalSum - maxHalf)"
   ]
  },
  {
   "cell_type": "code",
   "execution_count": 29,
   "id": "6356bb4e",
   "metadata": {},
   "outputs": [
    {
     "name": "stdout",
     "output_type": "stream",
     "text": [
      "[4, 6, 0, 10, 8, 26]\n"
     ]
    }
   ],
   "source": [
    "i=0\n",
    "while i<k and g[i][0]<c[0]:\n",
    "    i += 1\n",
    "calc(0,i,-1)\n",
    "\n",
    "for j in range(1, m):\n",
    "    span = c[j] - c[j-1]\n",
    "    start = i\n",
    "    while i<k and g[i][0]<c[j]:\n",
    "        i += 1\n",
    "    calc(start,i,span)\n",
    "\n",
    "calc(i,k,-1)\n",
    "\n",
    "print(a)"
   ]
  },
  {
   "cell_type": "code",
   "execution_count": 30,
   "id": "62bfa640",
   "metadata": {},
   "outputs": [
    {
     "name": "stdout",
     "output_type": "stream",
     "text": [
      "36\n"
     ]
    }
   ],
   "source": [
    "print(sum(sorted(a, reverse=True)[:n]))"
   ]
  }
 ],
 "metadata": {
  "kernelspec": {
   "display_name": "Python 3 (ipykernel)",
   "language": "python",
   "name": "python3"
  },
  "language_info": {
   "codemirror_mode": {
    "name": "ipython",
    "version": 3
   },
   "file_extension": ".py",
   "mimetype": "text/x-python",
   "name": "python",
   "nbconvert_exporter": "python",
   "pygments_lexer": "ipython3",
   "version": "3.9.7"
  }
 },
 "nbformat": 4,
 "nbformat_minor": 5
}
