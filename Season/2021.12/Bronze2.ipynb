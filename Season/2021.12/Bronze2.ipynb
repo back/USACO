{
 "cells": [
  {
   "cell_type": "markdown",
   "id": "a8d55d3b",
   "metadata": {},
   "source": [
    "# Air Cownditioning\n",
    "> http://usaco.org/index.php?page=viewproblem2&cpid=1156\n",
    "### Simulate Inputs"
   ]
  },
  {
   "cell_type": "code",
   "execution_count": 6,
   "id": "31313460",
   "metadata": {},
   "outputs": [],
   "source": [
    "import sys\n",
    "sys.stdin = StringIO('''5\n",
    "1 5 3 3 4\n",
    "1 2 2 2 1\n",
    "''')"
   ]
  },
  {
   "cell_type": "markdown",
   "id": "cfe905e5",
   "metadata": {},
   "source": [
    "### Solution\n",
    "- Find the differences between 2 input lists\n",
    "- Simplify the problem to find optimal way to reduce this diff list to all zero"
   ]
  },
  {
   "cell_type": "code",
   "execution_count": 7,
   "id": "a5b7411a",
   "metadata": {},
   "outputs": [
    {
     "name": "stdout",
     "output_type": "stream",
     "text": [
      "[0, 3, 1, 1, 3, 0]\n"
     ]
    }
   ],
   "source": [
    "n = int(sys.stdin.readline())\n",
    "s = list(map(int, sys.stdin.readline().split()))\n",
    "i = 0\n",
    "for x in map(int, sys.stdin.readline().split()):\n",
    "    s[i]-=x\n",
    "    i+=1\n",
    "s.append(0)\n",
    "pp(s)"
   ]
  },
  {
   "cell_type": "code",
   "execution_count": 8,
   "id": "6f3b32cc",
   "metadata": {},
   "outputs": [
    {
     "name": "stdout",
     "output_type": "stream",
     "text": [
      "[0, 2, 0, 0, 2, 0] 1\n",
      "[0, 0, 0, 0, 2, 0] 3\n",
      "[0, 0, 0, 0, 0, 0] 5\n",
      "5\n"
     ]
    }
   ],
   "source": [
    "a = 0\n",
    "for i in range(n):\n",
    "    while s[i]:\n",
    "        low = s[i]\n",
    "        for j in range(i, n+1):\n",
    "            if low>0 and s[j]>0:\n",
    "                if s[j]<low:\n",
    "                    low = s[j]\n",
    "            elif low<0 and s[j]<0:\n",
    "                if s[j]>low:\n",
    "                    low = s[j]\n",
    "            else:\n",
    "                break\n",
    "        for k in range(i, j):\n",
    "            s[k] -= low\n",
    "        a += abs(low)\n",
    "        print(s, a)\n",
    "print(a) "
   ]
  },
  {
   "cell_type": "markdown",
   "id": "59a36dae-8dae-4762-b231-8e7726ff812f",
   "metadata": {},
   "source": [
    "### The Surprising Method\n",
    "\n",
    "Define $ e_i=|d_{i+1} − d_i| $ that is, the difference between adjacent values of di.\n",
    "\n",
    "Why is $ e_i $ important? If $ e_i $ is zero, then $ d_i $ and $ d_{i+1} $ are the same and any operation we do to $ d_i $ should also be done to $ d_{i+1} $. However, if $ e_i $ is large, then the two values are very different, and there must be at least $ e_i $ operations that take place on one of $ d_i $ and $ d_{i+1} $ but not the other.\n",
    "\n",
    "More specifically, when we increase the range of values $ d_i $ through $ d_j $, note that $ e_{i-1} $ and $ e_j $ change by one each, and all other values in $ e $ remain unchanged. This motivates the following claim.\n",
    "\n",
    "Claim: The answer is $ \\sum_{i=0}^n \\frac{e_i}{2} $ or half the sum of all the values in $ e $."
   ]
  },
  {
   "cell_type": "code",
   "execution_count": null,
   "id": "df341b35-cc8c-45fa-af51-3061f15b0419",
   "metadata": {},
   "outputs": [],
   "source": [
    "n = int(sys.stdin.readline())\n",
    "s = list(map(int, sys.stdin.readline().split()))\n",
    "t = list(map(int, sys.stdin.readline().split()))\n",
    "\n",
    "difs = [x-y for x,y in zip(s,t)]\n",
    "\n",
    "print(sum(abs(x-y) for x,y in zip(difs+[0],[0]+difs))//2)"
   ]
  }
 ],
 "metadata": {
  "kernelspec": {
   "display_name": "Python 3",
   "language": "python",
   "name": "python3"
  },
  "language_info": {
   "codemirror_mode": {
    "name": "ipython",
    "version": 3
   },
   "file_extension": ".py",
   "mimetype": "text/x-python",
   "name": "python",
   "nbconvert_exporter": "python",
   "pygments_lexer": "ipython3",
   "version": "3.9.7"
  }
 },
 "nbformat": 4,
 "nbformat_minor": 5
}
