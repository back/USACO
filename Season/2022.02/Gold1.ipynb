{
 "cells": [
  {
   "cell_type": "markdown",
   "id": "25ee6266",
   "metadata": {},
   "source": [
    "# Gold 1"
   ]
  },
  {
   "cell_type": "code",
   "execution_count": 3,
   "id": "880d68cc",
   "metadata": {},
   "outputs": [
    {
     "name": "stdout",
     "output_type": "stream",
     "text": [
      "[[1, 2, 3, 4], [1, 3, 2, 4], [1, 2, 3, 4], [1, 2, 3, 4]]\n",
      "[[0, 0, 0, 0], [0, 0, 1, 1], [1, 0, 1, 0], [0, 1, 1, 1], [1, 0, 0, 1]]\n"
     ]
    }
   ],
   "source": [
    "import sys\n",
    "\n",
    "sys.stdin=StringIO('''4\n",
    "1 2 3 4\n",
    "1 3 2 4\n",
    "1 2 3 4\n",
    "1 2 3 4\n",
    "5\n",
    "HHHH\n",
    "HHGG\n",
    "GHGH\n",
    "HGGG\n",
    "GHHG\n",
    "''')\n",
    "\n",
    "n=int(sys.stdin.readline())\n",
    "p=[ list(map(int, sys.stdin.readline().split())) for _ in range(n)]\n",
    "q=int(sys.stdin.readline())\n",
    "g=[ list(map(lambda c:1 if c=='G' else 0, sys.stdin.readline().strip())) for _ in range(q)]\n",
    "pp(p)\n",
    "pp(g)"
   ]
  }
 ],
 "metadata": {
  "kernelspec": {
   "display_name": "Python 3",
   "language": "python",
   "name": "python3"
  },
  "language_info": {
   "codemirror_mode": {
    "name": "ipython",
    "version": 3
   },
   "file_extension": ".py",
   "mimetype": "text/x-python",
   "name": "python",
   "nbconvert_exporter": "python",
   "pygments_lexer": "ipython3",
   "version": "3.9.7"
  }
 },
 "nbformat": 4,
 "nbformat_minor": 5
}
