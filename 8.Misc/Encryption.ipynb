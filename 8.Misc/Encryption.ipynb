{
 "cells": [
  {
   "cell_type": "code",
   "execution_count": 16,
   "id": "371498d1-f88c-4cd8-963d-64f10d52c849",
   "metadata": {},
   "outputs": [],
   "source": [
    "import javax.crypto.*;\n",
    "import java.security.*;\n",
    "import java.security.spec.*;\n",
    "import javax.crypto.spec.*;"
   ]
  },
  {
   "cell_type": "code",
   "execution_count": 11,
   "id": "4d6f4243-069c-4fcb-8931-ca0c8242d7f8",
   "metadata": {},
   "outputs": [
    {
     "name": "stdout",
     "output_type": "stream",
     "text": [
      "[-113, 55, 23, -77, -4, 117, -128, 100, 127, 26, 35, -110, -113, 32, -37, -58]\n"
     ]
    }
   ],
   "source": [
    "SecureRandom rnd = new SecureRandom();\n",
    "byte[] salt = new byte[16];\n",
    "rnd.nextBytes(salt);\n",
    "System.out.println(Arrays.toString(salt));"
   ]
  },
  {
   "cell_type": "code",
   "execution_count": 23,
   "id": "21b50d8c-96a7-4fb4-aec8-7b153f4aa060",
   "metadata": {},
   "outputs": [
    {
     "name": "stdout",
     "output_type": "stream",
     "text": [
      "[119, 56, 95, -114, -51, -78, 76, -61, -41, 17, 84, 109, 52, -121, 74, 18]\n"
     ]
    }
   ],
   "source": [
    "String password = \"xrS7AJk+V6L5J?B%\";\n",
    "\n",
    "KeySpec keyspecSun = new PBEKeySpec(password.toCharArray(), salt, 9999, 128);\n",
    "SecretKeyFactory factorySun = SecretKeyFactory.getInstance(\"PBKDF2WithHmacSHA1\", \"SunJCE\");\n",
    "SecretKey keySun = factorySun.generateSecret(keyspecSun);\n",
    "System.out.println(Arrays.toString(keySun.getEncoded()));"
   ]
  }
 ],
 "metadata": {
  "kernelspec": {
   "display_name": "Java",
   "language": "java",
   "name": "java"
  },
  "language_info": {
   "codemirror_mode": "java",
   "file_extension": ".jshell",
   "mimetype": "text/x-java-source",
   "name": "Java",
   "pygments_lexer": "java",
   "version": "14.0.2+12-46"
  }
 },
 "nbformat": 4,
 "nbformat_minor": 5
}
