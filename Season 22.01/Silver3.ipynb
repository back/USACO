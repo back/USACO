{
 "cells": [
  {
   "cell_type": "code",
   "execution_count": 21,
   "id": "6e806d6e",
   "metadata": {},
   "outputs": [
    {
     "name": "stdout",
     "output_type": "stream",
     "text": [
      "8 10\n",
      "[[2, 1], [3, 4], [2, 3], [6, 5], [7, 8], [6, 7], [7, 5], [5, 8]]\n"
     ]
    }
   ],
   "source": [
    "import sys\n",
    "\n",
    "\n",
    "\n",
    "sys.stdin=StringIO('''8 10\n",
    "2 1\n",
    "3 4\n",
    "2 3\n",
    "6 5\n",
    "7 8\n",
    "6 7\n",
    "7 5\n",
    "5 8\n",
    "''')\n",
    "\n",
    "n, m = map(int, sys.stdin.readline().split())\n",
    "print(n, m)\n",
    "\n",
    "p = [list(map(int, lin.split())) for lin in sys.stdin.readlines()]\n",
    "print(p)"
   ]
  },
  {
   "cell_type": "code",
   "execution_count": 22,
   "id": "0f6c814d",
   "metadata": {},
   "outputs": [
    {
     "name": "stdout",
     "output_type": "stream",
     "text": [
      "[2, 1, 1]\n",
      "[3, 4, 2]\n",
      "[2, 3, 3]\n",
      "[6, 5, 4]\n",
      "[7, 8, 5]\n",
      "[6, 7, 6]\n",
      "[7, 5, 7]\n",
      "[5, 8, -1]\n",
      "1\n",
      "7\n",
      "6\n",
      "5\n",
      "4\n",
      "3\n",
      "2\n",
      "1\n",
      "8\n"
     ]
    }
   ],
   "source": [
    "s = [-1] * (m+1)  # which cow takes each food\n",
    "\n",
    "def fill(cow, cereal):\n",
    "    if s[cereal] < 0:\n",
    "        s[cereal] = cow\n",
    "        return True\n",
    "    else:\n",
    "        nextcow = s[cereal]\n",
    "        if p[nextcow][2] < p[cow][2] and p[nextcow][0] == cereal:\n",
    "            if fill(nextcow, p[nextcow][1]):\n",
    "                s[cereal] = cow\n",
    "                return True\n",
    "    return False\n",
    "\n",
    "head = []\n",
    "tail = []\n",
    "answer = 0\n",
    "\n",
    "for i in range(n):\n",
    "    if (len(p[i])>2):\n",
    "        print(i, p[i])\n",
    "        break\n",
    "    a, b = p[i]\n",
    "    p[i].append(n)\n",
    "    if fill(i, a):\n",
    "        head.append(i)\n",
    "        p[i][2]=len(head)\n",
    "    else:\n",
    "        tail.append(i)\n",
    "        p[i][2]=-len(tail)\n",
    "        if s[b] < 0:\n",
    "            s[b] = i\n",
    "        else:\n",
    "            answer+=1\n",
    "    print(p[i])\n",
    "            \n",
    "        \n",
    "print(answer)\n",
    "for i in reversed(head):\n",
    "    print(i+1)\n",
    "for i in tail:\n",
    "    print(i+1)"
   ]
  }
 ],
 "metadata": {
  "kernelspec": {
   "display_name": "Python 3 (ipykernel)",
   "language": "python",
   "name": "python3"
  },
  "language_info": {
   "codemirror_mode": {
    "name": "ipython",
    "version": 3
   },
   "file_extension": ".py",
   "mimetype": "text/x-python",
   "name": "python",
   "nbconvert_exporter": "python",
   "pygments_lexer": "ipython3",
   "version": "3.9.7"
  }
 },
 "nbformat": 4,
 "nbformat_minor": 5
}
