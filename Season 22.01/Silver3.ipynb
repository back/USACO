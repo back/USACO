{
 "cells": [
  {
   "cell_type": "code",
   "execution_count": 77,
   "id": "84184719",
   "metadata": {},
   "outputs": [
    {
     "name": "stdout",
     "output_type": "stream",
     "text": [
      "6 5\n",
      "[[3, 5], [5, 3], [1, 2], [3, 5], [3, 2], [2, 1]]\n"
     ]
    }
   ],
   "source": [
    "import sys\n",
    "\n",
    "\n",
    "\n",
    "sys.stdin=StringIO('''8 10\n",
    "2 1\n",
    "3 4\n",
    "2 3\n",
    "6 5\n",
    "7 8\n",
    "6 7\n",
    "7 5\n",
    "5 8\n",
    "''')\n",
    "\n",
    "sys.stdin=StringIO('''6 5\n",
    "3 5\n",
    "5 3\n",
    "1 2\n",
    "3 5\n",
    "3 2\n",
    "2 1\n",
    "''')\n",
    "\n",
    "n, m = map(int, sys.stdin.readline().split())\n",
    "print(n, m)\n",
    "\n",
    "p = [list(map(int, lin.split())) for lin in sys.stdin.readlines()]\n",
    "print(p)"
   ]
  },
  {
   "cell_type": "code",
   "execution_count": 78,
   "id": "d8860a4d",
   "metadata": {},
   "outputs": [
    {
     "name": "stdout",
     "output_type": "stream",
     "text": [
      "2\n",
      "3\n",
      "2\n",
      "1\n",
      "4\n",
      "5\n",
      "6\n"
     ]
    }
   ],
   "source": [
    "s = [-1] * (m+1)  # which cow takes each food\n",
    "\n",
    "def fill(cow, cereal):\n",
    "    if s[cereal] < 0:\n",
    "        s[cereal] = cow\n",
    "        return True\n",
    "    else:\n",
    "        nextcow = s[cereal]\n",
    "        if nextcow < cow and p[nextcow][0] == cereal:\n",
    "            if fill(nextcow, p[nextcow][1]):\n",
    "                s[cereal] = cow\n",
    "                return True\n",
    "    return False\n",
    "\n",
    "head = []\n",
    "tail = []\n",
    "answer = 0\n",
    "\n",
    "for i in range(n):\n",
    "    a, b = p[i]\n",
    "    if fill(i, a):\n",
    "        head.append(i)\n",
    "    else:\n",
    "        tail.append(i)\n",
    "        if s[b] < 0:\n",
    "            s[b] = i\n",
    "        else:\n",
    "            answer+=1\n",
    "            \n",
    "        \n",
    "print(answer)\n",
    "for i in reversed(head):\n",
    "    print(i+1)\n",
    "for i in tail:\n",
    "    print(i+1)"
   ]
  }
 ],
 "metadata": {
  "kernelspec": {
   "display_name": "Python 3 (ipykernel)",
   "language": "python",
   "name": "python3"
  },
  "language_info": {
   "codemirror_mode": {
    "name": "ipython",
    "version": 3
   },
   "file_extension": ".py",
   "mimetype": "text/x-python",
   "name": "python",
   "nbconvert_exporter": "python",
   "pygments_lexer": "ipython3",
   "version": "3.9.7"
  }
 },
 "nbformat": 4,
 "nbformat_minor": 5
}
