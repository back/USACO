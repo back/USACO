{
 "cells": [
  {
   "cell_type": "markdown",
   "id": "f0b9795c",
   "metadata": {},
   "source": [
    "# Gold 1"
   ]
  },
  {
   "cell_type": "code",
   "execution_count": 2,
   "id": "d6109d88",
   "metadata": {},
   "outputs": [
    {
     "name": "stdout",
     "output_type": "stream",
     "text": [
      "3 [9, 11, 7]\n"
     ]
    }
   ],
   "source": [
    "import sys\n",
    "sys.stdin=StringIO('''3\n",
    "9 11 7\n",
    "''')\n",
    "\n",
    "\n",
    "n = int(sys.stdin.readline())\n",
    "p = list(map(int, sys.stdin.readline().split()))\n",
    "print(n, p)"
   ]
  }
 ],
 "metadata": {
  "kernelspec": {
   "display_name": "Python 3 (ipykernel)",
   "language": "python",
   "name": "python3"
  },
  "language_info": {
   "codemirror_mode": {
    "name": "ipython",
    "version": 3
   },
   "file_extension": ".py",
   "mimetype": "text/x-python",
   "name": "python",
   "nbconvert_exporter": "python",
   "pygments_lexer": "ipython3",
   "version": "3.9.7"
  }
 },
 "nbformat": 4,
 "nbformat_minor": 5
}
