{
 "cells": [
  {
   "cell_type": "markdown",
   "id": "bd39c8ac",
   "metadata": {},
   "source": [
    "# Gold 2"
   ]
  },
  {
   "cell_type": "code",
   "execution_count": 48,
   "id": "ff8d22ec",
   "metadata": {},
   "outputs": [],
   "source": [
    "import sys\n",
    "\n",
    "sys.stdin=StringIO('''5 9\n",
    "A 1 2\n",
    "A 2 3\n",
    "D 1\n",
    "D 3\n",
    "A 2 4\n",
    "D 2\n",
    "R 2\n",
    "R 1\n",
    "R 3\n",
    "''')"
   ]
  },
  {
   "cell_type": "code",
   "execution_count": 49,
   "id": "ae2297fe",
   "metadata": {},
   "outputs": [
    {
     "name": "stdout",
     "output_type": "stream",
     "text": [
      "7\n",
      "8\n",
      "6\n",
      "9\n",
      "9\n"
     ]
    }
   ],
   "source": [
    "from sys import stdin as sin\n",
    "n, q = map(int, sin.readline().split())\n",
    "\n",
    "path = [(0,0)]\n",
    "link = [[] for _ in range(n+1)]\n",
    "live = [1] * (n+1)\n",
    "answer = [0] * (n+1)\n",
    "\n",
    "for step in range(1, q+1):\n",
    "    x = sin.readline().split()\n",
    "    if x[0] == 'A':\n",
    "        a , b = int(x[1]), int(x[2])\n",
    "        path.append((a, b))\n",
    "        link[a].append(b)\n",
    "        link[b].append(a)\n",
    "    elif x[0] == 'D':\n",
    "        live[int(x[1])] = 0\n",
    "    elif x[0] == 'R':\n",
    "        z = int(x[1])\n",
    "        a, b = path[z]\n",
    "        link[b].remove(a)\n",
    "        link[a].remove(b)\n",
    "        path[z] = (0, 0)\n",
    "        \n",
    "    for i in range(1, n+1):\n",
    "        if live[i] > 0:\n",
    "            answer[i] = step\n",
    "\n",
    "    changed = True\n",
    "    while changed:\n",
    "        changed = False\n",
    "        for a, b in path[1:]:\n",
    "            if answer[a] == step and answer[b] < step:\n",
    "                answer[b] = step\n",
    "                changed = True\n",
    "            if answer[a] < step and answer[b] == step:\n",
    "                answer[a] = step\n",
    "                changed = True\n",
    "\n",
    "for i in answer[1:]:\n",
    "    print(i)"
   ]
  }
 ],
 "metadata": {
  "kernelspec": {
   "display_name": "Python 3 (ipykernel)",
   "language": "python",
   "name": "python3"
  },
  "language_info": {
   "codemirror_mode": {
    "name": "ipython",
    "version": 3
   },
   "file_extension": ".py",
   "mimetype": "text/x-python",
   "name": "python",
   "nbconvert_exporter": "python",
   "pygments_lexer": "ipython3",
   "version": "3.9.7"
  }
 },
 "nbformat": 4,
 "nbformat_minor": 5
}
