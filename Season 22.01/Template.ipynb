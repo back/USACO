{
 "cells": [
  {
   "cell_type": "code",
   "execution_count": 2,
   "id": "8c91798b",
   "metadata": {},
   "outputs": [],
   "source": [
    "import sys\n",
    "sys.stdin=StringIO('''6\n",
    "1 2 3 4 5 6\n",
    "8 10\n",
    "2 1\n",
    "3 4\n",
    "2 3\n",
    "6 5\n",
    "7 8\n",
    "6 7\n",
    "7 5\n",
    "5 8\n",
    "''')"
   ]
  },
  {
   "cell_type": "code",
   "execution_count": 3,
   "id": "f0a822b1",
   "metadata": {},
   "outputs": [
    {
     "name": "stdout",
     "output_type": "stream",
     "text": [
      "6 [1, 2, 3, 4, 5, 6]\n",
      "8 10\n",
      "[[2, 1], [3, 4], [2, 3], [6, 5], [7, 8], [6, 7], [7, 5], [5, 8]]\n"
     ]
    }
   ],
   "source": [
    "from sys import stdin as sin\n",
    "\n",
    "n = int(sin.readline())\n",
    "s = list(map(int, sin.readline().split()))\n",
    "print(n, s)\n",
    "\n",
    "n, m = map(int, sin.readline().split())\n",
    "print(n, m)\n",
    "\n",
    "p = [list(map(int, lin.split())) for lin in sin.readlines()]\n",
    "print(p)"
   ]
  }
 ],
 "metadata": {
  "kernelspec": {
   "display_name": "Python 3",
   "language": "python",
   "name": "python3"
  },
  "language_info": {
   "codemirror_mode": {
    "name": "ipython",
    "version": 3
   },
   "file_extension": ".py",
   "mimetype": "text/x-python",
   "name": "python",
   "nbconvert_exporter": "python",
   "pygments_lexer": "ipython3",
   "version": "3.9.7"
  }
 },
 "nbformat": 4,
 "nbformat_minor": 5
}
