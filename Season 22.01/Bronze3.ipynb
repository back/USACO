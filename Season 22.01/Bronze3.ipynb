{
 "cells": [
  {
   "cell_type": "code",
   "execution_count": 9,
   "id": "63165edd",
   "metadata": {},
   "outputs": [],
   "source": [
    "import sys\n",
    "\n",
    "sys.stdin=StringIO('''5\n",
    "3\n",
    "8 10 5\n",
    "6\n",
    "4 6 4 4 6 4\n",
    "3\n",
    "0 1 0\n",
    "2\n",
    "1 2\n",
    "3\n",
    "10 9 9\n",
    "''')"
   ]
  },
  {
   "cell_type": "code",
   "execution_count": 10,
   "id": "434e3bcd",
   "metadata": {},
   "outputs": [
    {
     "name": "stdout",
     "output_type": "stream",
     "text": [
      "14\n",
      "16\n",
      "-1\n",
      "-1\n",
      "-1\n"
     ]
    }
   ],
   "source": [
    "t = int(sys.stdin.readline())\n",
    "for _ in range(t):\n",
    "    n = int(sys.stdin.readline())\n",
    "    p = list(map(int, sys.stdin.readline().split()))\n",
    "    answer = 0\n",
    "    for i in range(1, n):\n",
    "        if p[i] > p[i-1]:\n",
    "            if i+1<n and p[i+1] >= p[i] - p[i-1]:\n",
    "                answer += (p[i] - p[i-1])*2\n",
    "                p[i+1] -= p[i] - p[i-1]\n",
    "                p[i] = p[i-1]\n",
    "            else:\n",
    "                answer = -1\n",
    "                break\n",
    "        elif p[i] < p[i-1]:\n",
    "            if i % 2 == 0:\n",
    "                answer += (p[i-1] - p[i]) * i\n",
    "            else:\n",
    "                answer = -1\n",
    "                break\n",
    "    print(answer)"
   ]
  }
 ],
 "metadata": {
  "kernelspec": {
   "display_name": "Python 3 (ipykernel)",
   "language": "python",
   "name": "python3"
  },
  "language_info": {
   "codemirror_mode": {
    "name": "ipython",
    "version": 3
   },
   "file_extension": ".py",
   "mimetype": "text/x-python",
   "name": "python",
   "nbconvert_exporter": "python",
   "pygments_lexer": "ipython3",
   "version": "3.9.7"
  }
 },
 "nbformat": 4,
 "nbformat_minor": 5
}
