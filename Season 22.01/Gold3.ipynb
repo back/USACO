{
 "cells": [
  {
   "cell_type": "code",
   "execution_count": 5,
   "id": "43543e37",
   "metadata": {},
   "outputs": [],
   "source": [
    "import sys\n",
    "sys.stdin=StringIO('''6\n",
    "2 2 4 5 6 6\n",
    "''')"
   ]
  },
  {
   "cell_type": "code",
   "execution_count": 6,
   "id": "8dded8ea",
   "metadata": {},
   "outputs": [
    {
     "name": "stdout",
     "output_type": "stream",
     "text": [
      "[2, 2, 4, 5, 6, 6]\n"
     ]
    }
   ],
   "source": [
    "from sys import stdin as sin\n",
    "\n",
    "n = int(sin.readline())\n",
    "p = list(map(int, sin.readline().split()))\n",
    "print(p)\n",
    "\n",
    "\n",
    "\n",
    "\n",
    "\n"
   ]
  }
 ],
 "metadata": {
  "kernelspec": {
   "display_name": "Python 3",
   "language": "python",
   "name": "python3"
  },
  "language_info": {
   "codemirror_mode": {
    "name": "ipython",
    "version": 3
   },
   "file_extension": ".py",
   "mimetype": "text/x-python",
   "name": "python",
   "nbconvert_exporter": "python",
   "pygments_lexer": "ipython3",
   "version": "3.9.7"
  }
 },
 "nbformat": 4,
 "nbformat_minor": 5
}
