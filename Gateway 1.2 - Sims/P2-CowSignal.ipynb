{
 "cells": [
  {
   "cell_type": "markdown",
   "id": "282b4b49-f940-407f-9b24-0fe20606b069",
   "metadata": {},
   "source": [
    "# Cow Signal\n",
    "- http://www.usaco.org/index.php?page=viewproblem2&cpid=665\n",
    "- In class practice"
   ]
  },
  {
   "cell_type": "code",
   "execution_count": null,
   "id": "3250e41b-b4e8-4a5d-804a-00f45fdf6514",
   "metadata": {},
   "outputs": [],
   "source": [
    "Scanner sc = new Scanner(new File(\"src/cowsignal.in\"));\n",
    "int m = sc.nextInt();\n",
    "int n = sc.nextInt();\n",
    "int k = sc.nextInt();\n",
    "sc.nextLine();\n",
    "\n",
    "System.out.println(m+\",\"+n+\",\"+k);"
   ]
  },
  {
   "cell_type": "markdown",
   "id": "28fbf11d-6b7e-49ac-ad6c-da737c7bbc9d",
   "metadata": {},
   "source": [
    "### Read the original signal into a 2-D array"
   ]
  },
  {
   "cell_type": "code",
   "execution_count": null,
   "id": "cd312ec1-a285-4752-9c5e-c10e8b4ec789",
   "metadata": {},
   "outputs": [],
   "source": [
    "char[][] res = new char[m][n];\n",
    "\n",
    "for(int i = 0; i<m; i++)\n",
    "    res[i] = sc.nextLine().toCharArray();"
   ]
  },
  {
   "cell_type": "markdown",
   "id": "afd2a9e7-38db-4e2e-a3f2-c7bf29b8b449",
   "metadata": {},
   "source": [
    "### Print out the read-ins for validation\n",
    "- No need to include this section in submitted answer"
   ]
  },
  {
   "cell_type": "code",
   "execution_count": null,
   "id": "c3a4e204-c35a-49d9-828d-9f28008ab346",
   "metadata": {},
   "outputs": [],
   "source": [
    "for(int i = 0; i<m; i++) {\n",
    "    for(int j=0; j<n; j++)\n",
    "        System.out.print(res[i][j]);\n",
    "    System.out.println();\n",
    "}"
   ]
  },
  {
   "cell_type": "markdown",
   "id": "bb4ea6e2-5c48-46a1-b0ff-de35c9a80e48",
   "metadata": {},
   "source": [
    "### Now output the enlarged signal matrix"
   ]
  },
  {
   "cell_type": "code",
   "execution_count": null,
   "id": "0eecdd02-0e35-4388-9e4b-a5f3c1bea24c",
   "metadata": {},
   "outputs": [],
   "source": [
    "for(int i = 0; i<m*k; i++) {\n",
    "    for(int j=0; j<n*k; j++)\n",
    "        System.out.print(res[i/k][j/k]);\n",
    "    System.out.println();\n",
    "}"
   ]
  }
 ],
 "metadata": {
  "kernelspec": {
   "display_name": "Java",
   "language": "java",
   "name": "java"
  },
  "language_info": {
   "codemirror_mode": "java",
   "file_extension": ".jshell",
   "mimetype": "text/x-java-source",
   "name": "Java",
   "pygments_lexer": "java",
   "version": "14.0.2+12-46"
  }
 },
 "nbformat": 4,
 "nbformat_minor": 5
}
