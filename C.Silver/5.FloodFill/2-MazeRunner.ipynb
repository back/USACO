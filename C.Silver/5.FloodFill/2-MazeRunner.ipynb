{
 "cells": [
  {
   "cell_type": "markdown",
   "metadata": {
    "tags": []
   },
   "source": [
    "# Maze Runner (Flood Fill Demo)\n",
    "- Recursive Method (DFS)\n",
    "  - 4-way crawler\n",
    "  - Exit condition\n",
    "  - Stop condition (prevent crawlling back)\n",
    "- Working Queue Method (BFS)\n",
    "  - Less stack memory usage\n",
    "  - Better used in huge sparse maze"
   ]
  },
  {
   "cell_type": "code",
   "execution_count": 5,
   "metadata": {},
   "outputs": [
    {
     "name": "stdout",
     "output_type": "stream",
     "text": [
      ".▒▒▒███▒██▒██▒▒▒▒▒▒██▒▒▒▒▒███▒██▒▒█▒▒▒▒▒▒██▒▒▒▒█▒▒▒▒▒█▒█▒▒▒▒▒▒█▒█▒▒█▒█▒▒▒████▒▒▒\n",
      "▒▒▒▒▒▒████▒█▒▒█▒▒█▒▒▒▒▒▒▒█▒█▒▒██▒▒█▒▒▒▒████▒▒▒█▒█▒▒▒▒██▒▒█▒▒▒▒▒▒▒▒▒█▒█▒▒█▒█▒▒▒▒▒\n",
      "▒▒█▒███▒██▒█▒▒▒▒█▒▒█▒▒▒█▒█▒▒▒█▒▒█▒█▒▒▒▒██▒▒█▒█▒▒▒▒▒▒█▒▒▒▒▒▒▒▒▒▒▒▒▒▒▒▒▒██▒█▒▒▒▒██\n",
      "█▒▒▒▒▒▒█▒▒▒▒▒██▒▒█▒█▒▒█▒▒▒▒▒██▒▒██▒███▒▒▒██▒▒▒███▒█▒▒▒▒▒▒█▒▒▒█▒▒█▒▒▒██▒██▒▒▒██▒▒\n",
      "▒▒▒█▒█▒▒▒▒██▒▒▒▒▒▒▒█▒█▒██▒▒▒█▒▒▒▒█▒▒▒▒▒▒▒▒█▒█▒██▒▒▒▒▒▒█▒▒▒▒█▒▒▒▒██▒▒████▒▒▒█▒▒█▒\n",
      "▒▒▒▒▒██▒█▒█▒▒█▒▒▒▒▒▒█▒█▒▒▒▒█▒█▒▒▒▒▒█▒▒▒▒▒▒█▒▒▒▒▒▒▒▒▒█▒█▒▒▒▒▒▒▒▒▒▒▒███▒▒█▒▒▒▒▒▒▒█\n",
      "█▒██▒▒█▒█▒▒▒█▒███▒▒▒▒▒▒▒▒▒▒▒▒▒██▒▒█▒▒█▒████▒▒▒▒▒█▒▒█▒█▒▒██▒▒▒█▒█▒▒█▒▒▒▒█▒▒▒▒▒▒▒▒\n",
      "█▒▒████▒█▒▒▒▒▒██▒█▒█▒▒▒█▒▒██▒█▒██▒▒▒▒███▒█▒▒▒▒▒▒█▒▒▒▒▒█▒▒█▒▒██▒▒█▒▒▒██▒█▒█▒▒▒█▒▒\n",
      "▒█▒█▒▒▒▒██▒█▒▒█▒▒▒██▒▒██▒▒█▒▒▒▒▒▒██▒█▒▒▒▒█▒██▒█▒█▒██▒▒▒▒█▒▒▒▒▒█▒▒▒█▒▒▒▒▒▒█▒▒▒█▒▒\n",
      "▒▒▒▒▒▒█▒█▒▒▒█▒▒▒██▒█▒█▒█▒▒█▒▒█▒▒█▒█▒█▒██▒▒▒▒▒▒▒▒▒▒▒▒▒▒▒█▒█▒▒▒▒███▒▒▒▒▒▒▒▒▒▒▒▒█▒▒\n"
     ]
    }
   ],
   "source": [
    "W, H = 80, 10\n",
    "\n",
    "wall = u'\\N{FULL BLOCK}'\n",
    "path = u'\\N{MEDIUM SHADE}'\n",
    "step = '.'\n",
    "\n",
    "m = [[path if randint(0,100)>30 else wall for _ in range(W)] for _ in range(H)]\n",
    "m[0][0]=step\n",
    "\n",
    "for row in m:\n",
    "    print(''.join(row))"
   ]
  },
  {
   "cell_type": "markdown",
   "metadata": {},
   "source": [
    "### Define 2 utility functions"
   ]
  },
  {
   "cell_type": "code",
   "execution_count": 7,
   "metadata": {
    "tags": []
   },
   "outputs": [],
   "source": [
    "inRow = lambda v: v>=0 and v<H\n",
    "inCol = lambda v: v>=0 and v<W"
   ]
  },
  {
   "cell_type": "markdown",
   "metadata": {},
   "source": [
    "### Flood Filling the Maze"
   ]
  },
  {
   "cell_type": "code",
   "execution_count": 8,
   "metadata": {
    "tags": []
   },
   "outputs": [
    {
     "name": "stdout",
     "output_type": "stream",
     "text": [
      "....███▒██.██......██.....███.██▒▒█▒▒▒▒▒▒██▒▒▒▒█▒▒▒▒▒█▒█▒▒▒▒▒▒█▒█▒▒█▒█▒▒▒████▒▒▒\n",
      "......████.█..█..█.......█.█..██▒▒█▒▒▒▒████▒▒▒█▒█▒▒▒▒██▒▒█▒▒▒▒▒▒▒▒▒█▒█▒▒█▒█▒▒▒▒▒\n",
      "..█.███▒██.█....█..█...█.█...█▒▒█▒█▒▒▒▒██▒▒█▒█▒▒▒▒▒▒█▒▒▒▒▒▒▒▒▒▒▒▒▒▒▒▒▒██▒█▒▒▒▒██\n",
      "█......█.....██..█.█..█.....██▒▒██▒███▒▒▒██▒▒▒███▒█▒▒▒▒▒▒█▒▒▒█▒▒█▒▒▒██▒██▒▒▒██▒▒\n",
      "...█.█....██.......█.█▒██...█▒▒▒▒█▒▒▒▒▒▒▒▒█▒█▒██▒▒▒▒▒▒█▒▒▒▒█▒▒▒▒██▒▒████▒▒▒█▒▒█▒\n",
      ".....██.█.█..█......█.█....█.█▒▒▒▒▒█▒▒▒▒▒▒█▒▒▒▒▒▒▒▒▒█▒█▒▒▒▒▒▒▒▒▒▒▒███▒▒█▒▒▒▒▒▒▒█\n",
      "█.██..█.█...█.███.............██▒▒█▒▒█▒████▒▒▒▒▒█▒▒█▒█▒▒██▒▒▒█▒█▒▒█▒▒▒▒█▒▒▒▒▒▒▒▒\n",
      "█..████.█.....██.█.█...█..██.█.██▒▒▒▒███▒█▒▒▒▒▒▒█▒▒▒▒▒█▒▒█▒▒██▒▒█▒▒▒██▒█▒█▒▒▒█▒▒\n",
      ".█.█....██.█..█...██..██..█......██▒█▒▒▒▒█▒██▒█▒█▒██▒▒▒▒█▒▒▒▒▒█▒▒▒█▒▒▒▒▒▒█▒▒▒█▒▒\n",
      "......█.█...█...██▒█.█▒█..█..█..█▒█▒█▒██▒▒▒▒▒▒▒▒▒▒▒▒▒▒▒█▒█▒▒▒▒███▒▒▒▒▒▒▒▒▒▒▒▒█▒▒\n"
     ]
    }
   ],
   "source": [
    "q = [(0,0)]\n",
    "while(q):\n",
    "    x, y = q.pop(0)\n",
    "    if inRow(x-1) and m[x-1][y]==path:\n",
    "        m[x-1][y] = step\n",
    "        q.append((x-1, y))\n",
    "    if inRow(x+1) and m[x+1][y]==path:\n",
    "        m[x+1][y] = step\n",
    "        q.append((x+1, y))\n",
    "    if inCol(y-1) and m[x][y-1]==path:\n",
    "        m[x][y-1] = step\n",
    "        q.append((x, y-1))\n",
    "    if inCol(y+1) and m[x][y+1]==path:\n",
    "        m[x][y+1] = step\n",
    "        q.append((x, y+1))\n",
    "\n",
    "for row in m:\n",
    "    print(''.join(row))"
   ]
  }
 ],
 "metadata": {
  "kernelspec": {
   "display_name": "Python 3",
   "language": "python",
   "name": "python3"
  },
  "language_info": {
   "codemirror_mode": {
    "name": "ipython",
    "version": 3
   },
   "file_extension": ".py",
   "mimetype": "text/x-python",
   "name": "python",
   "nbconvert_exporter": "python",
   "pygments_lexer": "ipython3",
   "version": "3.9.7"
  }
 },
 "nbformat": 4,
 "nbformat_minor": 4
}
