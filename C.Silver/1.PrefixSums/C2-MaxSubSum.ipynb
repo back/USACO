{
 "cells": [
  {
   "cell_type": "markdown",
   "metadata": {},
   "source": [
    "# Maximum Subarray Sum\n",
    "> https://cses.fi/problemset/task/1660/\n",
    "### Simulate the inputs"
   ]
  },
  {
   "cell_type": "code",
   "execution_count": 7,
   "metadata": {},
   "outputs": [
    {
     "name": "stdout",
     "output_type": "stream",
     "text": [
      "[-1, 3, -2, 5, 3, -5, 2, 2]\n"
     ]
    }
   ],
   "source": [
    "import sys\n",
    "sys.stdin=StringIO('''8\n",
    "-1 3 -2 5 3 -5 2 2\n",
    "''')\n",
    "\n",
    "n = int(sys.stdin.readline())\n",
    "a = list(map(int, sys.stdin.readline().split()))\n",
    "\n",
    "print(a)"
   ]
  },
  {
   "cell_type": "code",
   "execution_count": 3,
   "metadata": {},
   "outputs": [
    {
     "name": "stdout",
     "output_type": "stream",
     "text": [
      "[-1, 2, 0, 5, 8, 3, 5, 7]\n"
     ]
    }
   ],
   "source": [
    "for i in range(1, n):\n",
    "    a[i] += a[i-1]\n",
    "    \n",
    "print(a)"
   ]
  },
  {
   "cell_type": "code",
   "execution_count": 5,
   "metadata": {
    "jupyter": {
     "source_hidden": true
    }
   },
   "outputs": [
    {
     "name": "stdout",
     "output_type": "stream",
     "text": [
      "9\n"
     ]
    }
   ],
   "source": [
    "maxSum = 0\n",
    "for i in range(n-1):\n",
    "    for j in range(1, n):\n",
    "        rangeSum = a[j] - a[i-1]\n",
    "        if rangeSum > maxSum:\n",
    "            maxSum = rangeSum\n",
    "print (maxSum)"
   ]
  },
  {
   "cell_type": "markdown",
   "metadata": {
    "jupyter": {
     "source_hidden": true
    }
   },
   "source": [
    "### Build the Prefix Sum array\n",
    "- Since there are negative values, not every items are *good* ones, let's build the prefix sum array in a special way..."
   ]
  },
  {
   "cell_type": "code",
   "execution_count": 8,
   "metadata": {},
   "outputs": [
    {
     "name": "stdout",
     "output_type": "stream",
     "text": [
      "[-1, 3, 1, 6, 9, 4, 6, 8]\n",
      "9\n"
     ]
    }
   ],
   "source": [
    "for i in range(1,len(a)):\n",
    "    if a[i-1]>0:\n",
    "        a[i] += a[i-1]\n",
    "\n",
    "print (a)\n",
    "print (max(a))"
   ]
  }
 ],
 "metadata": {
  "kernelspec": {
   "display_name": "Python 3",
   "language": "python",
   "name": "python3"
  },
  "language_info": {
   "codemirror_mode": {
    "name": "ipython",
    "version": 3
   },
   "file_extension": ".py",
   "mimetype": "text/x-python",
   "name": "python",
   "nbconvert_exporter": "python",
   "pygments_lexer": "ipython3",
   "version": "3.9.7"
  }
 },
 "nbformat": 4,
 "nbformat_minor": 4
}
