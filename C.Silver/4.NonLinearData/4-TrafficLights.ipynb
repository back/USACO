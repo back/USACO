{
 "cells": [
  {
   "cell_type": "markdown",
   "id": "a5fb7bed",
   "metadata": {},
   "source": [
    "# Traffic Lights\n",
    "\n",
    "https://cses.fi/problemset/task/1163\n",
    "\n",
    "### Read Inputs"
   ]
  },
  {
   "cell_type": "code",
   "execution_count": null,
   "id": "aaa6350d",
   "metadata": {},
   "outputs": [],
   "source": [
    "x,n = 8, 3\n",
    "p = [3, 6, 2]"
   ]
  },
  {
   "cell_type": "markdown",
   "id": "c96aa22f",
   "metadata": {},
   "source": [
    "### Solve with a Dictionary (Map)"
   ]
  },
  {
   "cell_type": "code",
   "execution_count": null,
   "id": "7492b3a7",
   "metadata": {},
   "outputs": [],
   "source": [
    "s = {0:x}\n",
    "\n",
    "for i in p:\n",
    "    maxLeft = max(k for k in s if k <= i)\n",
    "    s[i] = maxLeft + s[maxLeft] - i\n",
    "    s[maxLeft] = i - maxLeft\n",
    "    #print(s)\n",
    "    print(max(s.values()))"
   ]
  }
 ],
 "metadata": {
  "kernelspec": {
   "display_name": "Python 3",
   "language": "python",
   "name": "python3"
  },
  "language_info": {
   "codemirror_mode": {
    "name": "ipython",
    "version": 3
   },
   "file_extension": ".py",
   "mimetype": "text/x-python",
   "name": "python",
   "nbconvert_exporter": "python",
   "pygments_lexer": "ipython3",
   "version": "3.9.7"
  }
 },
 "nbformat": 4,
 "nbformat_minor": 5
}
