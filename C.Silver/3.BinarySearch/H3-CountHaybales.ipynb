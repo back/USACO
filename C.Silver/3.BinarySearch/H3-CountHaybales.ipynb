{
 "cells": [
  {
   "cell_type": "markdown",
   "id": "831ae14d",
   "metadata": {},
   "source": [
    "# Counting Haybales\n",
    "\n",
    "- [Counting Haybales](http://www.usaco.org/index.php?page=viewproblem2&cpid=666)\n",
    "- [Nick's Analysis](http://www.usaco.org/current/data/sol_haybales_silver_dec16.html)\n",
    "\n",
    "### Read Inputs"
   ]
  },
  {
   "cell_type": "code",
   "execution_count": 5,
   "id": "ef732ca2",
   "metadata": {},
   "outputs": [
    {
     "name": "stdout",
     "output_type": "stream",
     "text": [
      "4 6 [3, 2, 7, 5, 102, 9788778]\n",
      "[[2, 3], [2, 4], [2, 5], [2, 7], [4, 6], [8, 10]]\n"
     ]
    }
   ],
   "source": [
    "import sys\n",
    "sys.stdin = StringIO('''4 6\n",
    "3 2 7 5 102 9788778\n",
    "2 3\n",
    "2 4\n",
    "2 5\n",
    "2 7\n",
    "4 6\n",
    "8 10\n",
    "''')\n",
    "\n",
    "n, q = map(int, sys.stdin.readline().split())\n",
    "hays = list(map(int, sys.stdin.readline().split()))\n",
    "rngs = [list(map(int, sys.stdin.readline().split())) for _ in range(q)]\n",
    "\n",
    "print(n, q, hays)\n",
    "print(rngs)"
   ]
  },
  {
   "cell_type": "markdown",
   "id": "4165f74e",
   "metadata": {},
   "source": [
    "### Sort Haybales and Define a binary search function\n",
    "- Too expensive to prepare the \"prefix\" array for a huge sparce list\n",
    "- So we use ***binary search*** to calc the \"prefix\" value on each query"
   ]
  },
  {
   "cell_type": "code",
   "execution_count": 10,
   "id": "94785984",
   "metadata": {},
   "outputs": [
    {
     "name": "stdout",
     "output_type": "stream",
     "text": [
      "[2, 3, 5, 7, 102, 9788778]\n",
      "4\n",
      "5\n"
     ]
    }
   ],
   "source": [
    "hays.sort()\n",
    "\n",
    "def countTo(x):\n",
    "    if x < hays[0]:\n",
    "        return 0\n",
    "    \n",
    "    lo, hi = 0, len(hays)-1\n",
    "    while lo < hi:\n",
    "        mid = (lo + hi + 1)//2\n",
    "        if hays[mid] <= x:\n",
    "            lo = mid\n",
    "        else:\n",
    "            hi = mid - 1\n",
    "    return lo + 1            # return the *index* of the lo position, which\n",
    "                             # exactly equals how many data points on the left\n",
    "\n",
    "print(hays)\n",
    "print(countTo(100))\n",
    "print(countTo(400))"
   ]
  },
  {
   "cell_type": "markdown",
   "id": "35bb4d8e",
   "metadata": {},
   "source": [
    "### For each query, output the count in between\n",
    "- Rest part is exactly as the ***prefix summary*** algorithm"
   ]
  },
  {
   "cell_type": "code",
   "execution_count": 11,
   "id": "0d166456",
   "metadata": {},
   "outputs": [
    {
     "name": "stdout",
     "output_type": "stream",
     "text": [
      "2\n",
      "2\n",
      "3\n",
      "4\n",
      "1\n",
      "0\n"
     ]
    }
   ],
   "source": [
    "for a,b in rngs:\n",
    "    print(countTo(b)-countTo(a-1)) # Typical prefix-summary algorithm"
   ]
  }
 ],
 "metadata": {
  "kernelspec": {
   "display_name": "Python 3 (ipykernel)",
   "language": "python",
   "name": "python3"
  },
  "language_info": {
   "codemirror_mode": {
    "name": "ipython",
    "version": 3
   },
   "file_extension": ".py",
   "mimetype": "text/x-python",
   "name": "python",
   "nbconvert_exporter": "python",
   "pygments_lexer": "ipython3",
   "version": "3.9.7"
  }
 },
 "nbformat": 4,
 "nbformat_minor": 5
}
