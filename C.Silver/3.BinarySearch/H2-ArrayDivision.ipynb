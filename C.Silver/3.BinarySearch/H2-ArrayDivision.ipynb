{
 "cells": [
  {
   "cell_type": "markdown",
   "id": "dd9533a6",
   "metadata": {},
   "source": [
    "# Array Division\n",
    "- https://cses.fi/problemset/task/1085\n",
    "\n",
    "### Read Inputs"
   ]
  },
  {
   "cell_type": "code",
   "execution_count": 1,
   "id": "2d656627",
   "metadata": {},
   "outputs": [
    {
     "name": "stdout",
     "output_type": "stream",
     "text": [
      "5 3 [2, 4, 7, 3, 5]\n"
     ]
    }
   ],
   "source": [
    "import sys\n",
    "sys.stdin=StringIO('''5 3\n",
    "2 4 7 3 5\n",
    "''')\n",
    "\n",
    "n, k = map(int, sys.stdin.readline().split())\n",
    "a = list(map(int, sys.stdin.readline().split()))\n",
    "\n",
    "print(n, k, a)"
   ]
  },
  {
   "cell_type": "markdown",
   "id": "3bb59e92",
   "metadata": {},
   "source": [
    "### Create a monotonic function\n",
    "\n",
    "- Looking for answer in one step is a bit complicated\n",
    "- Checking for a given *Max Summary* against the group limit is relative easy\n",
    "  - And most important, this check has the *monotonic* feature\n",
    "  - Thus we can apply the binary search algorithm"
   ]
  },
  {
   "cell_type": "code",
   "execution_count": 3,
   "id": "f1013a44",
   "metadata": {},
   "outputs": [
    {
     "name": "stdout",
     "output_type": "stream",
     "text": [
      "False\n",
      "False\n",
      "True\n",
      "True\n"
     ]
    }
   ],
   "source": [
    "def check(x):\n",
    "    groups = subsum = 0\n",
    "    for i in a:\n",
    "        if i > x:\n",
    "            return False\n",
    "        subsum += i\n",
    "        if subsum > x:    # if new number explode out group:\n",
    "            groups += 1      # group found +1\n",
    "            subsum = i       # restart subsum from this new number\n",
    "    if subsum > 0:\n",
    "        groups += 1\n",
    "    #print(\"group needed for \", x, \" is \", groups)\n",
    "    return groups <= k    # does this group needed meet problem requirement\n",
    "\n",
    "print(check(6))\n",
    "print(check(7))\n",
    "print(check(8))\n",
    "print(check(9))\n"
   ]
  },
  {
   "cell_type": "markdown",
   "id": "55d49577",
   "metadata": {},
   "source": [
    "### Now do the binary search"
   ]
  },
  {
   "cell_type": "code",
   "execution_count": 4,
   "id": "680e3a26",
   "metadata": {},
   "outputs": [
    {
     "name": "stdout",
     "output_type": "stream",
     "text": [
      "8\n"
     ]
    }
   ],
   "source": [
    "lo, hi = max(a), sum(a) # could be done in one loop, or just simply use: 0, Integer.MAX_VALUE\n",
    "answer = 0\n",
    "while lo < hi:\n",
    "    mid = (lo + hi) // 2\n",
    "    if check(mid):\n",
    "        answer = mid\n",
    "        hi = mid - 1\n",
    "    else:\n",
    "        lo = mid + 1\n",
    "\n",
    "print(answer)"
   ]
  }
 ],
 "metadata": {
  "kernelspec": {
   "display_name": "Python 3 (ipykernel)",
   "language": "python",
   "name": "python3"
  },
  "language_info": {
   "codemirror_mode": {
    "name": "ipython",
    "version": 3
   },
   "file_extension": ".py",
   "mimetype": "text/x-python",
   "name": "python",
   "nbconvert_exporter": "python",
   "pygments_lexer": "ipython3",
   "version": "3.9.7"
  }
 },
 "nbformat": 4,
 "nbformat_minor": 5
}
