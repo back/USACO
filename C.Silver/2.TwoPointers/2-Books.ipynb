{
 "cells": [
  {
   "cell_type": "markdown",
   "metadata": {},
   "source": [
    "# Books\n",
    "https://codeforces.com/contest/279/problem/B\n",
    "\n",
    "---\n",
    "### Read Inputs"
   ]
  },
  {
   "cell_type": "code",
   "execution_count": 2,
   "metadata": {},
   "outputs": [
    {
     "name": "stdout",
     "output_type": "stream",
     "text": [
      "20 30 [8, 1, 2, 6, 9, 4, 1, 9, 9, 10, 4, 7, 8, 9, 5, 7, 1, 8, 7, 4]\n"
     ]
    }
   ],
   "source": [
    "import sys\n",
    "sys.stdin=StringIO('''20 30\n",
    "8 1 2 6 9 4 1 9 9 10 4 7 8 9 5 7 1 8 7 4''')\n",
    "\n",
    "n, m = map(int, sys.stdin.readline().split())\n",
    "a = list(map(int, sys.stdin.readline().split()))\n",
    "\n",
    "print (n, m, a)"
   ]
  },
  {
   "cell_type": "markdown",
   "metadata": {},
   "source": [
    "### A straight implementation of the solution discussed at [CodeForces](https://codeforces.com/edu/course/2/lesson/9/2):"
   ]
  },
  {
   "cell_type": "code",
   "execution_count": 3,
   "metadata": {},
   "outputs": [
    {
     "name": "stdout",
     "output_type": "stream",
     "text": [
      "6\n"
     ]
    }
   ],
   "source": [
    "x = L = res = 0\n",
    "\n",
    "for R in range(n):\n",
    "    x += a[R]\n",
    "    while x > m:\n",
    "        x -= a[L]\n",
    "        L+=1\n",
    "    res = max(res, R - L + 1)\n",
    "    \n",
    "print (res)"
   ]
  }
 ],
 "metadata": {
  "kernelspec": {
   "display_name": "Python 3",
   "language": "python",
   "name": "python3"
  },
  "language_info": {
   "codemirror_mode": {
    "name": "ipython",
    "version": 3
   },
   "file_extension": ".py",
   "mimetype": "text/x-python",
   "name": "python",
   "nbconvert_exporter": "python",
   "pygments_lexer": "ipython3",
   "version": "3.9.7"
  }
 },
 "nbformat": 4,
 "nbformat_minor": 4
}
