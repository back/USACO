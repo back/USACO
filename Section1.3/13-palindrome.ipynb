{
 "cells": [
  {
   "cell_type": "markdown",
   "metadata": {},
   "source": [
    "# Section 1.3 - Palindrome Numbers\n",
    "---\n",
    "- palindrome numbers:\n",
    "  - 12321, 34688643, ...\n",
    "- define a function: isPalindrome(a)\n",
    "  - return TRUE --> if a is a parlindrom number\n",
    "\n",
    "### Java sample implementation\n",
    "\n",
    "```Java\n",
    "//Using the \"reverse\" method from StringBuilder class\n",
    "public static boolean isPalindrome(int a) {\n",
    "    String s = String.valueOf(a);\n",
    "    return new StringBuilder(s).reverse().toString().equals(s);\n",
    "}\n",
    "\n",
    "//Using index to compare each character\n",
    "public static boolean isPalindrome(String s){\n",
    "    for(int i=0,j=s.length()-1; i<j; i++,j--)\n",
    "        if (s.charAt(i) != s.charAt(j))\n",
    "            return false;\n",
    "    return true;\n",
    "}\n",
    "```\n",
    "\n",
    "### Python sample implementation\n",
    "\n",
    "```Python\n",
    "def isParlindrome(n):\n",
    "    return str(n)==str(n)[::-1]\n",
    "```"
   ]
  },
  {
   "cell_type": "code",
   "execution_count": 5,
   "metadata": {},
   "outputs": [
    {
     "name": "stdout",
     "output_type": "stream",
     "text": [
      "ldfjsklddba\n"
     ]
    }
   ],
   "source": [
    "print(  \"abddlksjfdl\"[::-1])"
   ]
  },
  {
   "cell_type": "code",
   "execution_count": 6,
   "metadata": {},
   "outputs": [
    {
     "name": "stdout",
     "output_type": "stream",
     "text": [
      "True\n"
     ]
    }
   ],
   "source": [
    "isParlindrome=lambda n:str(n)==str(n)[::-1]\n",
    "\n",
    "print(isParlindrome(1012332101))"
   ]
  },
  {
   "cell_type": "markdown",
   "metadata": {},
   "source": [
    "## Convert Number to other Radius\n",
    "- Recursion method can be used here to simplify the logic"
   ]
  },
  {
   "cell_type": "code",
   "execution_count": 2,
   "metadata": {},
   "outputs": [],
   "source": [
    "BS=\"0123456789ABCDEFGHIJKLMNOPQRSTUVWXYZ\"\n",
    "convert = lambda n, b: convert(n//b, b).lstrip('0') + BS[n%b] if n else '0'"
   ]
  },
  {
   "cell_type": "code",
   "execution_count": 4,
   "metadata": {},
   "outputs": [
    {
     "data": {
      "text/plain": [
       "'42'"
      ]
     },
     "execution_count": 4,
     "metadata": {},
     "output_type": "execute_result"
    }
   ],
   "source": [
    "convert(102,25)"
   ]
  }
 ],
 "metadata": {
  "kernelspec": {
   "display_name": "Python 3",
   "language": "python",
   "name": "python3"
  },
  "language_info": {
   "codemirror_mode": {
    "name": "ipython",
    "version": 3
   },
   "file_extension": ".py",
   "mimetype": "text/x-python",
   "name": "python",
   "nbconvert_exporter": "python",
   "pygments_lexer": "ipython3",
   "version": "3.8.3"
  }
 },
 "nbformat": 4,
 "nbformat_minor": 4
}
