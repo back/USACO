{
 "cells": [
  {
   "cell_type": "markdown",
   "metadata": {},
   "source": [
    "# Section 1.3 - Palindrome Numbers\n",
    "---\n",
    "- palindrome numbers:\n",
    "  - 12321, 34688643, ...\n",
    "- define a function: isPalindrome(a)\n",
    "  - return TRUE --> if a is a parlindrom number\n",
    "  \n",
    "### In Class Practice\n",
    "- [Palindrome Number](https://leetcode.com/problems/palindrome-number/)\n",
    "- [Palindrome String](https://leetcode.com/problems/valid-palindrome/)"
   ]
  },
  {
   "cell_type": "markdown",
   "metadata": {},
   "source": [
    "### Java sample implementation\n",
    "\n",
    "```Java\n",
    "//Using the \"reverse\" method from StringBuilder class\n",
    "public static boolean isPalindrome(int a) {\n",
    "    String s = String.valueOf(a);\n",
    "    return new StringBuilder(s).reverse().toString().equals(s);\n",
    "}\n",
    "\n",
    "//Using index to compare each character\n",
    "public static boolean isPalindrome(String s){\n",
    "    for(int i=0,j=s.length()-1; i<j; i++,j--)\n",
    "        if (s.charAt(i) != s.charAt(j))\n",
    "            return false;\n",
    "    return true;\n",
    "}\n",
    "```\n",
    "\n",
    "### Python sample implementation\n",
    "\n",
    "```Python\n",
    "def isParlindrome(n):\n",
    "    return str(n)==str(n)[::-1]\n",
    "```"
   ]
  },
  {
   "cell_type": "code",
   "execution_count": null,
   "metadata": {},
   "outputs": [],
   "source": [
    "print(\"abddlksjfdl\"[::-1])"
   ]
  },
  {
   "cell_type": "code",
   "execution_count": null,
   "metadata": {},
   "outputs": [],
   "source": [
    "isParlindrome=lambda n:str(n)==str(n)[::-1]\n",
    "\n",
    "print(isParlindrome(1012332101))"
   ]
  },
  {
   "cell_type": "markdown",
   "metadata": {},
   "source": [
    "## Convert Number to other Radius\n",
    "- Recursion method can be used here to simplify the logic\n",
    " - However, please be careful on negative numbers...\n",
    " \n",
    "### In Class Practice\n",
    "- [Base 7](https://leetcode.com/problems/base-7/submissions/)"
   ]
  },
  {
   "cell_type": "code",
   "execution_count": null,
   "metadata": {},
   "outputs": [],
   "source": [
    "BS=\"0123456789ABCDEFGHIJKLMNOPQRSTUVWXYZ,.;:/\\[]{}()-_=+<>`~!@#$%^&*\"\n",
    "convert = lambda n, b: convert(n//b, b).lstrip('0') + BS[n%b] if n else '0'\n",
    "print(len(BS))"
   ]
  },
  {
   "cell_type": "code",
   "execution_count": null,
   "metadata": {},
   "outputs": [],
   "source": [
    "convert(9999999,64)"
   ]
  },
  {
   "cell_type": "markdown",
   "metadata": {},
   "source": [
    "* In Java, it would be much simpler\n",
    " * However, it only suports base number up to 36\n",
    "\n",
    "```Java\n",
    "Integer.toString(111111, 36);\n",
    "```\n",
    "\n",
    "Please try it in your own IDE..."
   ]
  }
 ],
 "metadata": {
  "kernelspec": {
   "display_name": "Python 3",
   "language": "python",
   "name": "python3"
  },
  "language_info": {
   "codemirror_mode": {
    "name": "ipython",
    "version": 3
   },
   "file_extension": ".py",
   "mimetype": "text/x-python",
   "name": "python",
   "nbconvert_exporter": "python",
   "pygments_lexer": "ipython3",
   "version": "3.8.3"
  }
 },
 "nbformat": 4,
 "nbformat_minor": 4
}
