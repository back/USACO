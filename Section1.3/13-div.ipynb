{
 "cells": [
  {
   "cell_type": "markdown",
   "metadata": {},
   "source": [
    "# Section 1.3 - Long Division\n",
    "---\n",
    "How to do a long division for $\\frac{1}{49}$ ?"
   ]
  },
  {
   "cell_type": "code",
   "execution_count": 8,
   "metadata": {},
   "outputs": [
    {
     "name": "stdout",
     "output_type": "stream",
     "text": [
      "0.0204081632653061224489795918367346938775510204081632653061224489795918367346938775510204081632653061\n"
     ]
    }
   ],
   "source": [
    "answer='0.'\n",
    "remainder = 10\n",
    "for _ in range(100):\n",
    "    answer += str(remainder // 49)\n",
    "    remainder = remainder % 49 * 10\n",
    "print (answer)"
   ]
  }
 ],
 "metadata": {
  "kernelspec": {
   "display_name": "Python 3",
   "language": "python",
   "name": "python3"
  },
  "language_info": {
   "codemirror_mode": {
    "name": "ipython",
    "version": 3
   },
   "file_extension": ".py",
   "mimetype": "text/x-python",
   "name": "python",
   "nbconvert_exporter": "python",
   "pygments_lexer": "ipython3",
   "version": "3.8.3"
  }
 },
 "nbformat": 4,
 "nbformat_minor": 4
}
