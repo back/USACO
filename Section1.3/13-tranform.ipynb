{
 "cells": [
  {
   "cell_type": "markdown",
   "metadata": {},
   "source": [
    "# Section 1.3 - Transformations\n",
    "---\n",
    "## How to rotate a matrix\n",
    "\n",
    "- [Rotate Image](https://leetcode.com/problems/rotate-image/) (A LeetCode practice)"
   ]
  },
  {
   "cell_type": "code",
   "execution_count": 2,
   "metadata": {},
   "outputs": [
    {
     "name": "stdout",
     "output_type": "stream",
     "text": [
      "[4, 2, 0, 3, 3]\n",
      "[0, 7, 4, 7, 3]\n",
      "[1, 9, 7, 0, 8]\n",
      "[7, 5, 7, 3, 1]\n",
      "[8, 6, 8, 3, 5]\n"
     ]
    }
   ],
   "source": [
    "n   = 5\n",
    "mtx = [[randint(0,9) for _ in range(n)] for _ in range(n)]\n",
    "for row in mtx:\n",
    "    print(row)"
   ]
  },
  {
   "cell_type": "code",
   "execution_count": 5,
   "metadata": {},
   "outputs": [
    {
     "name": "stdout",
     "output_type": "stream",
     "text": [
      "[3, 3, 0, 2, 4]\n",
      "[3, 7, 4, 7, 0]\n",
      "[8, 0, 7, 9, 1]\n",
      "[1, 3, 7, 5, 7]\n",
      "[5, 3, 8, 6, 8]\n"
     ]
    }
   ],
   "source": [
    "tgt = [[0 for _ in range(n)] for _ in range(n)]\n",
    "\n",
    "for i in range(n):\n",
    "    for j in range(n):\n",
    "        #tgt[i][j] = mtx[n-j-1][i]\n",
    "        #tgt[i][j] = mtx[n-i-1][n-j-1]\n",
    "        #tgt[i][j] = mtx[j][n-i-1]\n",
    "        tgt[i][j] = mtx[i][n-j-1]\n",
    "        \n",
    "for row in tgt:\n",
    "    print(row)"
   ]
  }
 ],
 "metadata": {
  "kernelspec": {
   "display_name": "Python 3",
   "language": "python",
   "name": "python3"
  },
  "language_info": {
   "codemirror_mode": {
    "name": "ipython",
    "version": 3
   },
   "file_extension": ".py",
   "mimetype": "text/x-python",
   "name": "python",
   "nbconvert_exporter": "python",
   "pygments_lexer": "ipython3",
   "version": "3.8.3"
  }
 },
 "nbformat": 4,
 "nbformat_minor": 4
}
