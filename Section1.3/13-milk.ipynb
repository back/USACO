{
 "cells": [
  {
   "cell_type": "markdown",
   "metadata": {},
   "source": [
    "# Section 1.3 - Milking Cows\n",
    "---\n",
    "## How to merge the intervals"
   ]
  },
  {
   "cell_type": "code",
   "execution_count": 14,
   "metadata": {},
   "outputs": [
    {
     "name": "stdout",
     "output_type": "stream",
     "text": [
      "[(67, 70), (25, 43), (32, 37), (76, 89), (58, 71), (64, 71), (49, 60), (19, 31), (46, 62), (27, 44)]\n"
     ]
    }
   ],
   "source": [
    "from random import randint\n",
    "x=[randint(1,80) for _ in range(10)]\n",
    "y=[(i, randint(i+1,i+20)) for i in x]\n",
    "print (y)"
   ]
  },
  {
   "cell_type": "code",
   "execution_count": 17,
   "metadata": {},
   "outputs": [
    {
     "name": "stdout",
     "output_type": "stream",
     "text": [
      "[(19, 31), (25, 43), (27, 44), (32, 37), (46, 62), (49, 60), (58, 71), (64, 71), (67, 70), (76, 89)]\n",
      "[(19, 31)]\n",
      "[(19, 43)]\n",
      "[(19, 44)]\n",
      "[(19, 44)]\n",
      "[(19, 44), (46, 62)]\n",
      "[(19, 44), (46, 62)]\n",
      "[(19, 44), (46, 71)]\n",
      "[(19, 44), (46, 71)]\n",
      "[(19, 44), (46, 71)]\n",
      "[(19, 44), (46, 71), (76, 89)]\n"
     ]
    }
   ],
   "source": [
    "z=[]\n",
    "print(sorted(y))\n",
    "for a,b in sorted(y):\n",
    "    if z and a <= z[-1][1]:\n",
    "        z[-1] = (min(z[-1][0], a), max(z[-1][1], b))\n",
    "    else:\n",
    "        z.append((a,b))\n",
    "    print(z)"
   ]
  },
  {
   "cell_type": "markdown",
   "metadata": {},
   "source": [
    "---\n",
    "Another way of merging is to work directly on the orginal list, if we can afford to lose the original data.\n",
    "\n",
    "However, we'd better sorting by the \"ending\" number and start from last item merging backwards..."
   ]
  },
  {
   "cell_type": "code",
   "execution_count": 19,
   "metadata": {},
   "outputs": [
    {
     "name": "stdout",
     "output_type": "stream",
     "text": [
      "[(19, 31), (32, 37), (25, 43), (27, 44), (49, 60), (46, 62), (67, 70), (58, 71), (64, 71), (76, 89)]\n",
      "[(19, 31), (32, 37), (25, 43), (27, 44), (49, 60), (46, 62), (67, 70), (58, 71), (76, 89)]\n",
      "[(19, 31), (32, 37), (25, 43), (27, 44), (49, 60), (46, 62), (58, 71), (76, 89)]\n",
      "[(19, 31), (32, 37), (25, 43), (27, 44), (49, 60), (46, 71), (76, 89)]\n",
      "[(19, 31), (32, 37), (25, 43), (27, 44), (46, 71), (76, 89)]\n",
      "[(19, 31), (32, 37), (25, 43), (27, 44), (46, 71), (76, 89)]\n",
      "[(19, 31), (32, 37), (25, 44), (46, 71), (76, 89)]\n",
      "[(19, 31), (25, 44), (46, 71), (76, 89)]\n",
      "[(19, 44), (46, 71), (76, 89)]\n"
     ]
    }
   ],
   "source": [
    "z = sorted(y, key=lambda item: item[1])\n",
    "for i in range(len(z)-1,0,-1):\n",
    "    if z[i][0] <= z[i-1][1]:\n",
    "        z[i-1] = (min(z[i-1][0],z[i][0]), z[i][1])\n",
    "        del z[i]\n",
    "    print(z)"
   ]
  },
  {
   "cell_type": "markdown",
   "metadata": {},
   "source": [
    "### How to Calculate the space then?\n",
    "\n",
    "This can be achieved in a simple loop.\n",
    "- maximum spans can be calculated directly by each mergered intervals\n",
    "- maximum gaps need an \"indexed\" loop so we can visit each item with its previous/next items"
   ]
  },
  {
   "cell_type": "code",
   "execution_count": null,
   "metadata": {},
   "outputs": [],
   "source": [
    "maxMilking = max(b-a for a,b in z)\n",
    "maxNotMilking = max(z[i+1][0]-z[i][1] for i in range(len(z)-1))\n",
    "print (maxMilking, maxNotMilking)"
   ]
  }
 ],
 "metadata": {
  "kernelspec": {
   "display_name": "Python 3",
   "language": "python",
   "name": "python3"
  },
  "language_info": {
   "codemirror_mode": {
    "name": "ipython",
    "version": 3
   },
   "file_extension": ".py",
   "mimetype": "text/x-python",
   "name": "python",
   "nbconvert_exporter": "python",
   "pygments_lexer": "ipython3",
   "version": "3.8.3"
  }
 },
 "nbformat": 4,
 "nbformat_minor": 4
}
