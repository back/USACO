{
 "cells": [
  {
   "cell_type": "markdown",
   "metadata": {},
   "source": [
    "# Section 1.3 - Name that Number\n",
    "---\n",
    "- Brutal force search\n",
    " - However, a minor thought might save a huge amount of time\n",
    "- For each word, calculating the number representation first is much better way\n",
    " - it is 80 times faster..."
   ]
  },
  {
   "cell_type": "code",
   "execution_count": 3,
   "metadata": {},
   "outputs": [
    {
     "name": "stdout",
     "output_type": "stream",
     "text": [
      "4734\n"
     ]
    }
   ],
   "source": [
    "k = 'ABCDEFGHIJKLMNOPRSTUVWXYQZ'\n",
    "v = '222333444555666777888999##'\n",
    "m = dict(zip(k,v))\n",
    "\n",
    "#print(m)\n",
    "\n",
    "print( ''.join([m[i] for i in 'GREG']) )"
   ]
  },
  {
   "cell_type": "markdown",
   "metadata": {},
   "source": [
    "### A bit of history\n",
    "\n",
    "![A phone pad](https://qph.fs.quoracdn.net/main-qimg-776d052d73187a68870a423d00e2cd4f.webp)"
   ]
  }
 ],
 "metadata": {
  "kernelspec": {
   "display_name": "Python 3",
   "language": "python",
   "name": "python3"
  },
  "language_info": {
   "codemirror_mode": {
    "name": "ipython",
    "version": 3
   },
   "file_extension": ".py",
   "mimetype": "text/x-python",
   "name": "python",
   "nbconvert_exporter": "python",
   "pygments_lexer": "ipython3",
   "version": "3.8.3"
  }
 },
 "nbformat": 4,
 "nbformat_minor": 4
}
