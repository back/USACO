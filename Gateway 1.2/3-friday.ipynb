{
 "cells": [
  {
   "cell_type": "markdown",
   "metadata": {},
   "source": [
    "# Section 1.2 - Firday the Thirteenth\n",
    "There is a online [Calculator](https://www.calculator.net/date-calculator.html) you can use."
   ]
  },
  {
   "cell_type": "code",
   "execution_count": 1,
   "metadata": {},
   "outputs": [
    {
     "name": "stdout",
     "output_type": "stream",
     "text": [
      "1700 False\n",
      "1800 False\n",
      "1900 False\n",
      "2000 True\n",
      "2004 True\n"
     ]
    }
   ],
   "source": [
    "for year in [1700,1800,1900,2000,2004]:\n",
    "    print(year, year % 400 == 0 or year % 4 == 0 and year % 100 > 0)"
   ]
  },
  {
   "cell_type": "code",
   "execution_count": 3,
   "metadata": {},
   "outputs": [
    {
     "name": "stdout",
     "output_type": "stream",
     "text": [
      "1900 0 13\n",
      "1900 1 44\n",
      "1900 2 72\n",
      "1900 3 103\n",
      "1900 4 133\n",
      "1900 5 164\n",
      "1900 6 194\n",
      "1900 7 225\n",
      "1900 8 256\n",
      "1900 9 286\n",
      "1900 10 317\n",
      "1900 11 347\n",
      "1901 0 378\n",
      "1901 1 409\n",
      "1901 2 437\n",
      "1901 3 468\n",
      "1901 4 498\n",
      "1901 5 529\n",
      "1901 6 559\n",
      "1901 7 590\n",
      "1901 8 621\n",
      "1901 9 651\n",
      "1901 10 682\n",
      "1901 11 712\n",
      "1902 0 743\n",
      "1902 1 774\n",
      "1902 2 802\n",
      "1902 3 833\n",
      "1902 4 863\n",
      "1902 5 894\n",
      "1902 6 924\n",
      "1902 7 955\n",
      "1902 8 986\n",
      "1902 9 1016\n",
      "1902 10 1047\n",
      "1902 11 1077\n",
      "1903 0 1108\n",
      "1903 1 1139\n",
      "1903 2 1167\n",
      "1903 3 1198\n",
      "1903 4 1228\n",
      "1903 5 1259\n",
      "1903 6 1289\n",
      "1903 7 1320\n",
      "1903 8 1351\n",
      "1903 9 1381\n",
      "1903 10 1412\n",
      "1903 11 1442\n",
      "[7, 7, 6, 7, 6, 7, 8]\n"
     ]
    }
   ],
   "source": [
    "n = 4\n",
    "rslt = [0, 0, 0, 0, 0, 0, 0]\n",
    "days = 13 - 31\n",
    "for year in range(1900, 1900+n):\n",
    "    for month in range(12):\n",
    "        if month in (0,1,3,5,7,8,10):\n",
    "            days += 31\n",
    "        elif month in (4,6,9,11):\n",
    "            days += 30\n",
    "        else:\n",
    "            days += 28\n",
    "            if year % 400 == 0 or year % 4 == 0 and year % 100 > 0:\n",
    "                days += 1\n",
    "        rslt[ (days+1) % 7 ] += 1\n",
    "        print(year, month, days)\n",
    "print(rslt)"
   ]
  }
 ],
 "metadata": {
  "kernelspec": {
   "display_name": "Python 3",
   "language": "python",
   "name": "python3"
  },
  "language_info": {
   "codemirror_mode": {
    "name": "ipython",
    "version": 3
   },
   "file_extension": ".py",
   "mimetype": "text/x-python",
   "name": "python",
   "nbconvert_exporter": "python",
   "pygments_lexer": "ipython3",
   "version": "3.8.3"
  }
 },
 "nbformat": 4,
 "nbformat_minor": 4
}
