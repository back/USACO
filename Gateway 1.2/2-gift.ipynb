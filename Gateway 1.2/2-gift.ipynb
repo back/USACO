{
 "cells": [
  {
   "cell_type": "markdown",
   "metadata": {},
   "source": [
    "# Section 1.2 - Greedy Gift Givers\n",
    "- design a map\n",
    "- follow the instructions"
   ]
  },
  {
   "cell_type": "code",
   "execution_count": null,
   "metadata": {},
   "outputs": [],
   "source": [
    "names=['dave', 'laura', 'owen', 'vick', 'amr']\n",
    "#money=[0, 0, 0, 0, 0]\n",
    "money=dict(zip(names,[0]*len(names)))\n",
    "print(money)"
   ]
  },
  {
   "cell_type": "code",
   "execution_count": null,
   "metadata": {},
   "outputs": [],
   "source": [
    "m, r = 200//3, 200%3\n",
    "\n",
    "print(m, r)\n",
    "\n",
    "money['dave']  -= 200 - r\n",
    "money['laura'] += m\n",
    "money['owen']  += m\n",
    "money['vick']  += m\n",
    "print(money)"
   ]
  },
  {
   "cell_type": "markdown",
   "metadata": {},
   "source": [
    "### Simulate the Input and Prepare the Dict/Map"
   ]
  },
  {
   "cell_type": "code",
   "execution_count": null,
   "metadata": {},
   "outputs": [],
   "source": [
    "fin=StringIO('''dave\n",
    "200 3\n",
    "laura\n",
    "owen\n",
    "vick\n",
    "owen\n",
    "500 1\n",
    "dave\n",
    "amr\n",
    "150 2\n",
    "vick\n",
    "owen\n",
    "laura\n",
    "0 2\n",
    "amr\n",
    "vick\n",
    "vick\n",
    "0 0\n",
    "''')\n",
    "\n",
    "for name in names:\n",
    "    money[name]=0\n",
    "print(money)"
   ]
  },
  {
   "cell_type": "markdown",
   "metadata": {},
   "source": [
    "### Let's follow the instruction to share the gifts"
   ]
  },
  {
   "cell_type": "code",
   "execution_count": null,
   "metadata": {},
   "outputs": [],
   "source": [
    "for i in range(5):\n",
    "    fromWho = fin.readline().strip()\n",
    "    cash, count = map(int, fin.readline().split())\n",
    "    if count:\n",
    "        gift = int(cash/count)\n",
    "        for j in range(count):\n",
    "            toWhom = fin.readline().strip()\n",
    "            money[fromWho] -= gift   # -66\n",
    "            money[toWhom]  += gift   # +66\n",
    "    print(money)"
   ]
  }
 ],
 "metadata": {
  "kernelspec": {
   "display_name": "Python 3",
   "language": "python",
   "name": "python3"
  },
  "language_info": {
   "codemirror_mode": {
    "name": "ipython",
    "version": 3
   },
   "file_extension": ".py",
   "mimetype": "text/x-python",
   "name": "python",
   "nbconvert_exporter": "python",
   "pygments_lexer": "ipython3",
   "version": "3.9.7"
  }
 },
 "nbformat": 4,
 "nbformat_minor": 4
}
