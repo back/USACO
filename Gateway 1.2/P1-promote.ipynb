{
 "cells": [
  {
   "cell_type": "markdown",
   "id": "31316d70-52f8-43b3-8778-4f49cb79cfff",
   "metadata": {},
   "source": [
    "# Promote\n",
    "\n",
    "|        | Before | After |Promoted?|\n",
    "|--------|--------|-------|---------|\n",
    "|Bronze  | 55     | 61    |         |\n",
    "|Silver  | 36     | 44    |    ?    |\n",
    "|Gold    | 22     | 18    |    ?    |\n",
    "|Platinum| 7      | 10    |    ?    |\n"
   ]
  }
 ],
 "metadata": {
  "kernelspec": {
   "display_name": "Python 3",
   "language": "python",
   "name": "python3"
  },
  "language_info": {
   "codemirror_mode": {
    "name": "ipython",
    "version": 3
   },
   "file_extension": ".py",
   "mimetype": "text/x-python",
   "name": "python",
   "nbconvert_exporter": "python",
   "pygments_lexer": "ipython3",
   "version": "3.9.7"
  }
 },
 "nbformat": 4,
 "nbformat_minor": 5
}
