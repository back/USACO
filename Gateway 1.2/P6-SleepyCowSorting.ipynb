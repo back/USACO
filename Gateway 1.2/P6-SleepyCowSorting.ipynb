{
 "cells": [
  {
   "cell_type": "markdown",
   "id": "6298e9d1-42f4-4a6d-b061-573e67c001f3",
   "metadata": {},
   "source": [
    "# Sleepy Cow Sorting"
   ]
  }
 ],
 "metadata": {
  "kernelspec": {
   "display_name": "Python 3",
   "language": "python",
   "name": "python3"
  },
  "language_info": {
   "codemirror_mode": {
    "name": "ipython",
    "version": 3
   },
   "file_extension": ".py",
   "mimetype": "text/x-python",
   "name": "python",
   "nbconvert_exporter": "python",
   "pygments_lexer": "ipython3",
   "version": "3.9.7"
  }
 },
 "nbformat": 4,
 "nbformat_minor": 5
}
