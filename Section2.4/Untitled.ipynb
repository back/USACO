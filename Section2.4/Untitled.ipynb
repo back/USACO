{
 "cells": [
  {
   "cell_type": "markdown",
   "metadata": {},
   "source": [
    "<pre>\n",
    "N 2 3\n",
    "E 5 7\n",
    "N 10 11\n",
    "...\n",
    "...\n",
    "</pre>"
   ]
  },
  {
   "cell_type": "code",
   "execution_count": 33,
   "metadata": {},
   "outputs": [
    {
     "name": "stdout",
     "output_type": "stream",
     "text": [
      "[(5, 0, 1, 2, 3, 0), (12, 1, 2, 5, 7, 0), (21, 2, 1, 10, 11, 0)]\n"
     ]
    }
   ],
   "source": [
    "cow = list()\n",
    "\n",
    "for line:\n",
    "    read direction -> \"N\" or \"E\"\n",
    "    read x, y\n",
    "    cow[i][0] = x + y;\n",
    "    cow[i][1] = i;\n",
    "    cow[i][2] = direction == 'E' ? 1 : 2;\n",
    "    cow[i][3] = x;\n",
    "    cow[i][4] = y;\n",
    "    cow[i][5] = 0;\n",
    "        \n",
    "        \n",
    "\n",
    "cow.append((2+3, 0, 1, 2, 3, 0))\n",
    "cow.append((5+7, 1, 2, 5, 7, 0))\n",
    "cow.append((10+11, 2, 1, 10, 11, 0))\n",
    "\n",
    "print(cow)    # in java:    int[][] cows = new int[n][6];"
   ]
  },
  {
   "cell_type": "code",
   "execution_count": 34,
   "metadata": {},
   "outputs": [
    {
     "name": "stdout",
     "output_type": "stream",
     "text": [
      "(5, 0, 1, 2, 3, 0)\n",
      "(12, 1, 2, 5, 7, 0)\n",
      "(21, 2, 1, 10, 11, 0)\n"
     ]
    }
   ],
   "source": [
    "for c in cow:\n",
    "    print(c)"
   ]
  }
 ],
 "metadata": {
  "kernelspec": {
   "display_name": "Python 3",
   "language": "python",
   "name": "python3"
  },
  "language_info": {
   "codemirror_mode": {
    "name": "ipython",
    "version": 3
   },
   "file_extension": ".py",
   "mimetype": "text/x-python",
   "name": "python",
   "nbconvert_exporter": "python",
   "pygments_lexer": "ipython3",
   "version": "3.8.3"
  }
 },
 "nbformat": 4,
 "nbformat_minor": 4
}
