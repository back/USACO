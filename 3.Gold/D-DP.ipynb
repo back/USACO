{
 "cells": [
  {
   "cell_type": "markdown",
   "metadata": {},
   "source": [
    "# Dynamic Programming\n",
    "\n",
    "### Books\n",
    "- [CPH](https://usaco.guide/CPH.pdf#page=75)\n",
    "- [Competitive Programming 2](https://usaco.guide/CP2.pdf#page=71)\n",
    "- [Dynamic Programming](https://dp-book.com/Dynamic_Programming.pdf)\n",
    "- [Supr Dewd](https://github.com/SuprDewd/T-414-AFLV/tree/master/06_dynamic_programming)\n",
    "- [Top Coder](https://www.topcoder.com/community/competitive-programming/tutorials/dynamic-programming-from-novice-to-advanced)\n",
    "- [Hacker Rank](https://www.hackerrank.com/topics/dynamic-programming)\n",
    "\n",
    "### Youtube Videos\n",
    "- [Enrich to DP #1](https://www.youtube.com/watch?v=YBSt1jYwVfU)\n",
    "- [Enrich to DP #2](https://www.youtube.com/watch?v=1mtvm2ubHCY)\n",
    "- [Enrich to DP #3](https://www.youtube.com/watch?v=pwpOC1dph6U)\n",
    "- [William Fiset: DP](https://www.youtube.com/watch?v=_tur2nPkIKo&list=PLDV1Zeh2NRsAsbafOroUBnNV8fhZa7P4u)\n",
    "\n",
    "### Study Sample\n",
    "- [Frog Stones](https://atcoder.jp/contests/dp/tasks/dp_a)\n",
    "\n",
    "### Common Problem Sets\n",
    "- [CSES](https://cses.fi/problemset/list/)\n",
    "- [@Coder](https://atcoder.jp/contests/dp/tasks)\n",
    "- [Code Forces](https://codeforces.com/blog/entry/67679)\n",
    "\n",
    "### USACO Gold DP Problems\n",
    "- [Time is Mooney](http://www.usaco.org/index.php?page=viewproblem2&cpid=993)\n",
    "- [Hoof Paper Scissors](http://www.usaco.org/index.php?page=viewproblem2&cpid=694)\n",
    "- [Teamwork](http://www.usaco.org/index.php?page=viewproblem2&cpid=863)\n",
    "- [Snakes](http://www.usaco.org/index.php?page=viewproblem2&cpid=945)\n",
    "\n",
    "### USACO Gold DP Challenges\n",
    "- [Circular Barn Revisited](http://www.usaco.org/index.php?page=viewproblem2&cpid=622)\n",
    "- [Taming the Herd](http://www.usaco.org/index.php?page=viewproblem2&cpid=815)\n",
    "- [Moortal Cowmbat](http://www.usaco.org/index.php?page=viewproblem2&cpid=971)\n",
    "- [Team Building](http://www.usaco.org/index.php?page=viewproblem2&cpid=673)\n",
    "- [Stamp Painting](http://www.usaco.org/index.php?page=viewproblem2&cpid=791)\n",
    "- [Bovine Genetics](http://www.usaco.org/index.php?page=viewproblem2&cpid=1066)\n"
   ]
  }
 ],
 "metadata": {
  "kernelspec": {
   "display_name": "Python 3",
   "language": "python",
   "name": "python3"
  },
  "language_info": {
   "codemirror_mode": {
    "name": "ipython",
    "version": 3
   },
   "file_extension": ".py",
   "mimetype": "text/x-python",
   "name": "python",
   "nbconvert_exporter": "python",
   "pygments_lexer": "ipython3",
   "version": "3.9.7"
  }
 },
 "nbformat": 4,
 "nbformat_minor": 4
}
