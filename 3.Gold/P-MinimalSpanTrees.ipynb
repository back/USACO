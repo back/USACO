{
 "cells": [
  {
   "cell_type": "markdown",
   "id": "b0eab1e6",
   "metadata": {},
   "source": [
    "# [Minimal Spanning Trees](https://en.wikipedia.org/wiki/Minimum_spanning_tree)\n",
    "\n",
    "### [Kruskal](https://en.wikipedia.org/wiki/Kruskal%27s_algorithm)\n",
    "- [CPH](https://usaco.guide/CPH.pdf#page=152)\n",
    "- [cp-algo](https://cp-algorithms.com/graph/mst_kruskal.html)\n",
    "- [cp-algo-DSU](https://cp-algorithms.com/graph/mst_kruskal_with_dsu.html)\n",
    "- [CP2](https://usaco.guide/CP2.pdf#page=100)\n",
    "\n",
    "### [Prim](https://en.wikipedia.org/wiki/Prim%27s_algorithm)\n",
    "- [CPH](https://usaco.guide/CPH.pdf#page=157)\n",
    "- [cp-algo](https://cp-algorithms.com/graph/mst_prim.html)\n",
    "- [CP2](https://usaco.guide/CP2.pdf#page=101)\n",
    "\n",
    "### Easy\n",
    "- [Superbull](http://www.usaco.org/index.php?page=viewproblem2&cpid=531)\n",
    "- [Fenced In](http://www.usaco.org/index.php?page=viewproblem2&cpid=623)\n",
    "- [Design Tutorial:Inverse](https://codeforces.com/contest/472/problem/D)\n",
    "\n",
    "### Normal\n",
    "- [GCD and MST](https://codeforces.com/problemset/problem/1513/D)\n",
    "- [I Would Walk 500 Miles](http://www.usaco.org/index.php?page=viewproblem2&cpid=946)\n",
    "- [Spanning Tree Fraction](https://www.hackerrank.com/contests/w31/challenges/spanning-tree-fraction/problem)\n",
    "- [Xor-MST](https://codeforces.com/contest/888/problem/G)\n",
    "- [Inheritance-2015](https://joisc2015.contest.atcoder.jp/tasks/joisc2015_k)\n",
    "- [Portals](http://www.usaco.org/index.php?page=viewproblem2&cpid=1138)\n",
    "\n",
    "\n",
    "### Hard\n",
    "- [Fenced In](http://www.usaco.org/index.php?page=viewproblem2&cpid=625)\n",
    "- [Sirni-2017](https://oj.uz/problem/view/COCI17_sirni)\n",
    "- [Checksum](https://codingcompetitions.withgoogle.com/kickstart/round/0000000000436140/000000000068c2c3)\n"
   ]
  }
 ],
 "metadata": {
  "kernelspec": {
   "display_name": "Python 3 (ipykernel)",
   "language": "python",
   "name": "python3"
  },
  "language_info": {
   "codemirror_mode": {
    "name": "ipython",
    "version": 3
   },
   "file_extension": ".py",
   "mimetype": "text/x-python",
   "name": "python",
   "nbconvert_exporter": "python",
   "pygments_lexer": "ipython3",
   "version": "3.9.7"
  }
 },
 "nbformat": 4,
 "nbformat_minor": 5
}
