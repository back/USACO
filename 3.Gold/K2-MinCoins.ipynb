{
 "cells": [
  {
   "cell_type": "markdown",
   "id": "4761ed0f",
   "metadata": {},
   "source": [
    "# Mimimizing Coins\n",
    "### Problem\n",
    "- https://cses.fi/problemset/task/1634\n",
    "\n",
    "### STE (Status Transition Equation)\n",
    "$$ dp[w]= \\min\\limits_{i=1}^{n}(dp[ w-coins[i] ]) + 1 $$\n",
    "\n",
    "### Read Inputs"
   ]
  },
  {
   "cell_type": "code",
   "execution_count": 2,
   "id": "c5272352",
   "metadata": {},
   "outputs": [],
   "source": [
    "n, x = 3, 11\n",
    "coin = [1, 5, 7]"
   ]
  },
  {
   "cell_type": "markdown",
   "id": "4e78f3e2",
   "metadata": {},
   "source": [
    "### Initialize DP Array"
   ]
  },
  {
   "cell_type": "code",
   "execution_count": 6,
   "id": "ef3ce8f8",
   "metadata": {},
   "outputs": [
    {
     "name": "stdout",
     "output_type": "stream",
     "text": [
      "[0, -1, -1, -1, -1, -1, -1, -1, -1, -1, -1, -1]\n"
     ]
    }
   ],
   "source": [
    "dp = [-1] * (x+1)\n",
    "dp[0] = 0\n",
    "pp(dp)"
   ]
  },
  {
   "cell_type": "markdown",
   "id": "399c1a39",
   "metadata": {},
   "source": [
    "### Do the DP"
   ]
  },
  {
   "cell_type": "code",
   "execution_count": 7,
   "id": "cf769605",
   "metadata": {},
   "outputs": [
    {
     "name": "stdout",
     "output_type": "stream",
     "text": [
      "[0, 1, 2, 3, 4, 1, 2, 1, 2, 3, 2, 3]\n"
     ]
    }
   ],
   "source": [
    "for w in range(1, x+1):\n",
    "    minCoins = -1\n",
    "    for c in coin:\n",
    "        if w >= c and dp[w-c] >= 0:\n",
    "            if minCoins < 0 or minCoins > dp[w-c]:\n",
    "                minCoins = dp[w-c] + 1\n",
    "    dp[w] = minCoins\n",
    "pp(dp)"
   ]
  },
  {
   "cell_type": "markdown",
   "id": "59b273ba",
   "metadata": {},
   "source": [
    "### Output Final Answer"
   ]
  },
  {
   "cell_type": "code",
   "execution_count": 8,
   "id": "4f81f6bb",
   "metadata": {},
   "outputs": [
    {
     "name": "stdout",
     "output_type": "stream",
     "text": [
      "3\n"
     ]
    }
   ],
   "source": [
    "print(dp[x])"
   ]
  }
 ],
 "metadata": {
  "kernelspec": {
   "display_name": "Python 3 (ipykernel)",
   "language": "python",
   "name": "python3"
  },
  "language_info": {
   "codemirror_mode": {
    "name": "ipython",
    "version": 3
   },
   "file_extension": ".py",
   "mimetype": "text/x-python",
   "name": "python",
   "nbconvert_exporter": "python",
   "pygments_lexer": "ipython3",
   "version": "3.9.7"
  }
 },
 "nbformat": 4,
 "nbformat_minor": 5
}
