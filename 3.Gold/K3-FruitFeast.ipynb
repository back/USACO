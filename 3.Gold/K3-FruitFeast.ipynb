{
 "cells": [
  {
   "cell_type": "markdown",
   "id": "14164d84",
   "metadata": {},
   "source": [
    "# Fruit Feast\n",
    "\n",
    "- http://www.usaco.org/index.php?page=viewproblem2&cpid=574\n",
    "\n",
    "- Bessie can only drink water once\n",
    "- We can separate the problem into three steps:\n",
    "  - First, use standard DP to run the cases as Bessie never drinks\n",
    "  - Second, half every above results in another DP array\n",
    "  - Last, DP the other array again as Bessie already drunk"
   ]
  },
  {
   "cell_type": "code",
   "execution_count": 5,
   "id": "21b52b8f",
   "metadata": {},
   "outputs": [
    {
     "name": "stdout",
     "output_type": "stream",
     "text": [
      "[[True, False, False, False, False, False, False, False, False],\n",
      " [False, False, False, False, False, False, False, False, False]]\n"
     ]
    }
   ],
   "source": [
    "t, x, y = 8, 5, 6\n",
    "\n",
    "seen = [[False] * (t+1) for _ in range(2)]\n",
    "seen[0][0] = True\n",
    "pp(seen)"
   ]
  },
  {
   "cell_type": "code",
   "execution_count": 8,
   "id": "93f46bdc",
   "metadata": {},
   "outputs": [
    {
     "name": "stdout",
     "output_type": "stream",
     "text": [
      "[[True, False, False, False, False, True, True, False, False],\n",
      " [True, False, True, True, False, True, True, True, True]]\n"
     ]
    }
   ],
   "source": [
    "for a in range(2):\n",
    "    for i in range(t+1):\n",
    "        if seen[a][i]:\n",
    "            if i+x <= t:\n",
    "                seen[a][i+x] = True\n",
    "            if i+y <= t:\n",
    "                seen[a][i+y] = True\n",
    "            if a == 0:\n",
    "                seen[1][i//2] = True\n",
    "pp(seen)"
   ]
  },
  {
   "cell_type": "code",
   "execution_count": 12,
   "id": "1b3c441e",
   "metadata": {},
   "outputs": [
    {
     "name": "stdout",
     "output_type": "stream",
     "text": [
      "8\n"
     ]
    }
   ],
   "source": [
    "ret = t\n",
    "while not seen[1][ret]:\n",
    "    ret-=1\n",
    "print(ret)"
   ]
  }
 ],
 "metadata": {
  "kernelspec": {
   "display_name": "Python 3 (ipykernel)",
   "language": "python",
   "name": "python3"
  },
  "language_info": {
   "codemirror_mode": {
    "name": "ipython",
    "version": 3
   },
   "file_extension": ".py",
   "mimetype": "text/x-python",
   "name": "python",
   "nbconvert_exporter": "python",
   "pygments_lexer": "ipython3",
   "version": "3.9.7"
  }
 },
 "nbformat": 4,
 "nbformat_minor": 5
}
