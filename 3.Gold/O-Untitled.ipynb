{
 "cells": [
  {
   "cell_type": "code",
   "execution_count": 18,
   "id": "26aa86e4",
   "metadata": {},
   "outputs": [
    {
     "name": "stdout",
     "output_type": "stream",
     "text": [
      "   0  -1   3   2  -1\n",
      "  -1   0   3  -1   1\n",
      "   3   3   0  -1  -1\n",
      "   2  -1  -1   0   1\n",
      "  -1   1  -1   1   0\n",
      "\n"
     ]
    }
   ],
   "source": [
    "n=5\n",
    "dis = [[-1]*n for _ in range(n)]\n",
    "for i in range(n):\n",
    "    dis[i][i]=0\n",
    "\n",
    "def f(a,b,t):\n",
    "    dis[a][b]=dis[b][a]=t\n",
    "\n",
    "f(0,2,3)\n",
    "f(1,2,3)\n",
    "f(0,3,2)\n",
    "f(3,4,1)\n",
    "f(1,4,1)\n",
    "\n",
    "def show():\n",
    "    for row in dis:\n",
    "        for i in row:\n",
    "            print('%4s' % i, end='')\n",
    "        print()\n",
    "    print()\n",
    "        \n",
    "show()"
   ]
  },
  {
   "cell_type": "code",
   "execution_count": 19,
   "id": "f73d442d",
   "metadata": {},
   "outputs": [
    {
     "name": "stdout",
     "output_type": "stream",
     "text": [
      "0 2 3 5\n",
      "1 2 4 4\n",
      "2 0 1 6\n",
      "2 0 4 7\n",
      "2 1 3 8\n",
      "3 0 4 3\n",
      "4 0 1 4\n",
      "4 1 3 2\n",
      "   0   4   3   2   3\n",
      "   4   0   3   2   1\n",
      "   3   3   0   5   4\n",
      "   2   2   5   0   1\n",
      "   3   1   4   1   0\n",
      "\n"
     ]
    }
   ],
   "source": [
    "for k in range(n):\n",
    "    for i in range(n-1):\n",
    "        for j in range(i+1,n):\n",
    "            if dis[i][k] >= 0 and dis[k][j] >= 0:\n",
    "                x = dis[i][k] + dis[k][j]\n",
    "                if dis[i][j] < 0 or dis[i][j] > x: # -1 means infinite\n",
    "                    print(k, i, j, x)\n",
    "                    dis[i][j] = dis[j][i] = x\n",
    "\n",
    "show()"
   ]
  }
 ],
 "metadata": {
  "kernelspec": {
   "display_name": "Python 3 (ipykernel)",
   "language": "python",
   "name": "python3"
  },
  "language_info": {
   "codemirror_mode": {
    "name": "ipython",
    "version": 3
   },
   "file_extension": ".py",
   "mimetype": "text/x-python",
   "name": "python",
   "nbconvert_exporter": "python",
   "pygments_lexer": "ipython3",
   "version": "3.9.7"
  }
 },
 "nbformat": 4,
 "nbformat_minor": 5
}
