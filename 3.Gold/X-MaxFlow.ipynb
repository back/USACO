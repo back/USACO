{
 "cells": [
  {
   "cell_type": "markdown",
   "metadata": {},
   "source": [
    "# Max Flow\n",
    "- [福特·福尔克森最大流算法](https://youtu.be/_VGKUOah3kw)\n",
    "- [Edmonds-Karp Algorithm](https://en.wikipedia.org/wiki/Edmonds%E2%80%93Karp_algorithm)\n",
    "- [Ford-Fulkerson Algorithm](https://en.wikipedia.org/wiki/Ford%E2%80%93Fulkerson_algorithm)\n",
    "\n",
    "\n",
    "---\n",
    "### Read Input"
   ]
  },
  {
   "cell_type": "code",
   "execution_count": null,
   "metadata": {},
   "outputs": [],
   "source": [
    "s = [0, 1]\n",
    "t = [4, 5]\n",
    "c = [[0, 0, 4, 6, 0, 0],\n",
    "     [0, 0, 5, 2, 0, 0], \n",
    "     [0, 0, 0, 0, 4, 4], \n",
    "     [0, 0, 0, 0, 6, 6], \n",
    "     [0, 0, 0, 0, 0, 0], \n",
    "     [0, 0, 0, 0, 0, 0]]"
   ]
  },
  {
   "cell_type": "markdown",
   "metadata": {},
   "source": [
    "### Looking for a path"
   ]
  },
  {
   "cell_type": "code",
   "execution_count": null,
   "metadata": {},
   "outputs": [],
   "source": [
    "def lookingPath(s, t, m):\n",
    "    paths = [ [i] for i in s ]\n",
    "    while paths:\n",
    "        path = paths.pop(0)\n",
    "        last = path[-1]\n",
    "        if last in t:\n",
    "            return path\n",
    "        for i, v in enumerate(m[last]):\n",
    "            if v and i not in path:\n",
    "                paths.append( path+[i] )"
   ]
  },
  {
   "cell_type": "markdown",
   "metadata": {},
   "source": [
    "### Initialize Flow Matrix"
   ]
  },
  {
   "cell_type": "code",
   "execution_count": null,
   "metadata": {},
   "outputs": [],
   "source": [
    "f= [[0] * len(c[0]) for _ in range(len(c))]\n",
    "\n",
    "for row in f:\n",
    "    print (row)"
   ]
  },
  {
   "cell_type": "markdown",
   "metadata": {},
   "source": [
    "### Step I - Found a path and minimum flow"
   ]
  },
  {
   "cell_type": "code",
   "execution_count": null,
   "metadata": {},
   "outputs": [],
   "source": [
    "path = lookingPath(s,t,c)\n",
    "print(path)\n",
    "\n",
    "pathXY = [(path[i], path[i+1]) for i in range(len(path)-1)]\n",
    "print(pathXY)\n",
    "\n",
    "minFlow = min(  c[x][y] for x, y in pathXY  )\n",
    "print(minFlow)"
   ]
  },
  {
   "cell_type": "markdown",
   "metadata": {},
   "source": [
    "### Step II - Update Capacity/Flow Matrix by minimum flow"
   ]
  },
  {
   "cell_type": "code",
   "execution_count": null,
   "metadata": {},
   "outputs": [],
   "source": [
    "for x, y in pathXY:\n",
    "    f[x][y] += minFlow\n",
    "    c[x][y] -= minFlow\n",
    "    c[y][x] += minFlow\n",
    "    \n",
    "for row in c:\n",
    "    print(row)"
   ]
  },
  {
   "cell_type": "markdown",
   "metadata": {},
   "source": [
    "### Repeating above 2 steps Until no new path found\n",
    "- Then calculate the final flow:"
   ]
  },
  {
   "cell_type": "code",
   "execution_count": null,
   "metadata": {},
   "outputs": [],
   "source": [
    "answer = 0\n",
    "for row in f:\n",
    "    print(row)\n",
    "    for i, v in enumerate(row):\n",
    "        if i in t:\n",
    "            answer += v\n",
    "print(answer)"
   ]
  }
 ],
 "metadata": {
  "kernelspec": {
   "display_name": "Python 3 (ipykernel)",
   "language": "python",
   "name": "python3"
  },
  "language_info": {
   "codemirror_mode": {
    "name": "ipython",
    "version": 3
   },
   "file_extension": ".py",
   "mimetype": "text/x-python",
   "name": "python",
   "nbconvert_exporter": "python",
   "pygments_lexer": "ipython3",
   "version": "3.9.7"
  }
 },
 "nbformat": 4,
 "nbformat_minor": 4
}
