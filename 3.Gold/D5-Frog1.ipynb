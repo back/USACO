{
 "cells": [
  {
   "cell_type": "markdown",
   "id": "e4d2598a",
   "metadata": {},
   "source": [
    "# Frog 1\n",
    "### Problem\n",
    "https://atcoder.jp/contests/dp/tasks/dp_a\n",
    "\n",
    "### Without Dynamic Programming\n",
    "Time Complexity: $\\mathcal{O}(2^N)$\n",
    "\n",
    "Since there are only two options, we can use **recursion** to compute what would happen if we jumped either $1$ stone, or $2$ stones. There are two possibilities, so recursively computing would require computing both a left and right subtree. Therefore, for every additional jump, each branch splits into two, which results in an exponential time complexity.\n",
    "\n",
    "However, this can be sped up with dynamic programming by keeping track of \"optimal states\" in order to avoid calculating states multiple times. For example, recursively calculating jumps of length $1,2,1$ and $2,1,2$ reuses the state of stone $3$. Dynamic programming provides the mechanism to cache such states.\n",
    "\n",
    "### With Dynamic Programming\n",
    "Time Complexity: $\\mathcal{O}(N)$\n",
    "\n",
    "There are only two options: jumping once, or jumping twice. Define $\\texttt{dp}[i]$ as the minimum cost to reach stone $i$. Therefore, $\\texttt{dp}[i+1]$ must represent the next stone, and $\\texttt{dp}[i+2]$ must represent the stone after that. Then, our transitions are as follows at stone $i$ must be:\n",
    "\n",
    "Jump one stone, incurring a cost of: $|\\text{height}_i - \\text{height}_{i+1}|$:\n",
    "$$\\texttt{dp}[i + 1] = \\min(\\texttt{dp}[i + 1], \\texttt{dp}[i] + |\\text{height}_i - \\text{height}_{i + 1}|)$$\n",
    "\n",
    "Jump two stones, incurring a cost of: $|\\text{height}_i - \\text{height}_{i + 2}|$:\n",
    "$$\\texttt{dp}[i + 2] = \\min(\\texttt{dp}[i + 2], \\texttt{dp}[i] + |\\text{height}_i - \\text{height}_{i + 2}|)$$\n",
    "\n",
    "We can start with the base case that: $\\texttt{dp}[1] = 0$, since the frog is already on that square, and proceed to calculate $\\texttt{dp}[1], \\texttt{dp}[2], \\ldots \\texttt{dp}[N]$. Note that in the code we ignore $\\texttt{dp}[i]$ if $i>N$."
   ]
  },
  {
   "cell_type": "code",
   "execution_count": 4,
   "id": "0ce0ee02",
   "metadata": {},
   "outputs": [
    {
     "name": "stdout",
     "output_type": "stream",
     "text": [
      "[2147483647, 2147483647, 2147483647, 2147483647, 2147483647, 2147483647]\n",
      "[0, 20, 30, 2147483647, 2147483647, 2147483647]\n",
      "[0, 20, 30, 20, 2147483647, 2147483647]\n",
      "[0, 20, 30, 20, 30, 2147483647]\n",
      "[0, 20, 30, 20, 30, 60]\n",
      "[0, 20, 30, 20, 30, 40]\n",
      "[0, 20, 30, 20, 30, 40]\n",
      "40\n"
     ]
    }
   ],
   "source": [
    "int N = 6;\n",
    "int[] height = {30, 10, 60, 10, 60, 50};\n",
    "\n",
    "int[] dp = new int[N];\n",
    "for(int i = 0; i < N; ++i) {\n",
    "    dp[i] = Integer.MAX_VALUE; // initially set our values to INF\n",
    "}\n",
    "System.out.println(Arrays.toString(dp));\n",
    "\n",
    "dp[0] = 0; // 0 index based array; base case: 0 cost for the first stone/pillar\n",
    "\n",
    "for(int i = 0; i < N; ++i) {\n",
    "    if(i + 1 < N)\n",
    "        dp[i + 1] = Math.min(dp[i + 1], dp[i] + Math.abs(height[i] - height[i + 1]));\n",
    "    if(i + 2 < N)\n",
    "        dp[i + 2] = Math.min(dp[i + 2], dp[i] + Math.abs(height[i] - height[i + 2]));\n",
    "    System.out.println(Arrays.toString(dp));\n",
    "}\n",
    "\n",
    "// dp[N] is the minimum cost to get to stone N\n",
    "System.out.println(dp[N-1]);"
   ]
  }
 ],
 "metadata": {
  "kernelspec": {
   "display_name": "Java",
   "language": "java",
   "name": "java"
  },
  "language_info": {
   "codemirror_mode": "java",
   "file_extension": ".jshell",
   "mimetype": "text/x-java-source",
   "name": "Java",
   "pygments_lexer": "java",
   "version": "14.0.2+12-46"
  }
 },
 "nbformat": 4,
 "nbformat_minor": 5
}
