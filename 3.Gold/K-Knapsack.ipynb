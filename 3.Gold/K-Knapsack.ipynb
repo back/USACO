{
 "cells": [
  {
   "cell_type": "markdown",
   "metadata": {},
   "source": [
    "# Knapsack Algorithm\n",
    "\n",
    "- Different from DP:\n",
    "  - DP: Calculating the combinations from a complex system\n",
    "  - KP: Find an **OPTIMUM** (min/max) value from all complex combinations\n",
    "\n",
    "### Definition\n",
    "\n",
    "Maximize: $$ \\sum\\limits_{i=1}^n v_i x_i $$\n",
    "Subject to: $$ \\sum\\limits_{i=1}^n w_i x_i \\le W $$\n",
    "\n",
    "### Wikipedia\n",
    "[![](../image/knapsack.png)](https://en.wikipedia.org/wiki/Knapsack_problem)\n",
    "\n",
    "### Common Types\n",
    "- Most Common Type:\n",
    "  - Knapsack **0-1**\n",
    "- Multi-Knapsack:\n",
    "  - Unbounded Knapsack Problem **(UKP)**\n",
    "  - Bounded Knapsack Problem **(BKP)**\n",
    "- Advanced Knapsack:\n",
    "  - Dependecy Knapsack\n",
    "  - Multiple-Choice Knapsack\n",
    "\n",
    "\n",
    "### Material\n",
    "- [CP Handbook](https://usaco.guide/CPH.pdf#page=75)\n",
    "- [Youtube - Enrich to DP #2](https://www.youtube.com/watch?v=1mtvm2ubHCY)\n",
    "\n",
    "\n",
    "### Problems\n",
    "- [Minimizing Coins](https://cses.fi/problemset/task/1634)\n",
    "- [Coin Combinations I (Unordered)](https://cses.fi/problemset/task/1635)\n",
    "- [Coin Combinations II (Ordered)](https://cses.fi/problemset/task/1636)\n",
    "- [Book Shop](https://cses.fi/problemset/task/1158)\n",
    "- [Money Sums](https://cses.fi/problemset/task/1745)\n",
    "- [Two Sets II](https://cses.fi/problemset/task/1093)\n",
    "- [Coding Company (hard)](https://cses.fi/problemset/task/1665)\n",
    "\n",
    "### USACO Gold/Plat\n",
    "\n",
    "- [Fruit Feast](http://www.usaco.org/index.php?page=viewproblem2&cpid=574)\n",
    "- [NOI - Knapsack](https://oj.uz/problem/view/NOI18_knapsack)\n",
    "- [Talent Show](http://www.usaco.org/index.php?page=viewproblem2&cpid=839)\n",
    "- [Mooriokart](http://www.usaco.org/index.php?page=viewproblem2&cpid=925)\n",
    "\n",
    "\n",
    "### With Number-Theoretic Twists\n",
    "- [Round Subset](http://codeforces.com/contest/837/problem/D)\n",
    "- [Cow Poetry](http://www.usaco.org/index.php?page=viewproblem2&cpid=897)\n",
    "- [Exercise](http://www.usaco.org/index.php?page=viewproblem2&cpid=1043)\n",
    "- [Maximal](https://szkopul.edu.pl/problemset/problem/lGqKS9urITMjTXhpdaHqyoEL/site/?key=statement)\n",
    "- [SubmultiplesOfN](https://community.topcoder.com/stat?c=problem_statement&pm=16969)\n",
    "- [Cloud Computing](https://oj.uz/problem/view/CEOI18_clo)\n",
    "\n"
   ]
  }
 ],
 "metadata": {
  "kernelspec": {
   "display_name": "Python 3 (ipykernel)",
   "language": "python",
   "name": "python3"
  },
  "language_info": {
   "codemirror_mode": {
    "name": "ipython",
    "version": 3
   },
   "file_extension": ".py",
   "mimetype": "text/x-python",
   "name": "python",
   "nbconvert_exporter": "python",
   "pygments_lexer": "ipython3",
   "version": "3.9.7"
  }
 },
 "nbformat": 4,
 "nbformat_minor": 4
}
