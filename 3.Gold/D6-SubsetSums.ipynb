{
 "cells": [
  {
   "cell_type": "markdown",
   "metadata": {},
   "source": [
    "# Section 2.2 - Problem 2: Subset Sums\n",
    "- USACO Training Gateway Section 2.2 - Problem 2\n",
    "\n",
    "### Simplify the question\n",
    "\n",
    "- For number range of $[1, 7]$, we need to find all subset **with a Summary** of ${\\frac{(1 + 7) * 7}{2}} * \\frac{1}{2} = 14$\n",
    "- Then divide the total count of these combinations by 2 to get final answer\n",
    "\n",
    "### How to list all the subsets?\n",
    "- A recursive function can easily done this"
   ]
  },
  {
   "cell_type": "code",
   "execution_count": null,
   "metadata": {},
   "outputs": [],
   "source": [
    "def listAllSubsets(lst):     #   [1, (2, 3,...)]\n",
    "    \n",
    "    if len(lst)==1:\n",
    "        return [lst]\n",
    "    \n",
    "    results = [[lst[0]]]\n",
    "    \n",
    "    for subList in listAllSubsets(lst[1:]):\n",
    "        results.append(subList)\n",
    "        results.append([lst[0]] + subList)\n",
    "        \n",
    "    return results"
   ]
  },
  {
   "cell_type": "markdown",
   "metadata": {},
   "source": [
    "---\n",
    "Now let's try it\n",
    "---"
   ]
  },
  {
   "cell_type": "code",
   "execution_count": null,
   "metadata": {},
   "outputs": [],
   "source": [
    "n    = 7\n",
    "test = list(range(1,n+1))\n",
    "print(test)"
   ]
  },
  {
   "cell_type": "code",
   "execution_count": null,
   "metadata": {},
   "outputs": [],
   "source": [
    "for subset in listAllSubsets(test):\n",
    "    if sum(subset)==14:\n",
    "        print(subset)"
   ]
  },
  {
   "cell_type": "markdown",
   "metadata": {},
   "source": [
    "---\n",
    "But this is not fast enough!\n",
    "---"
   ]
  },
  {
   "cell_type": "code",
   "execution_count": null,
   "metadata": {},
   "outputs": [],
   "source": [
    "n     = 22      #20: 2 sec; 21: 4 sec; 22: 9 sec; 25: ???\n",
    "test  = list(range(1, n+1))\n",
    "print(test)"
   ]
  },
  {
   "cell_type": "code",
   "execution_count": null,
   "metadata": {},
   "outputs": [],
   "source": [
    "start = time()\n",
    "answer   = 0\n",
    "checkSum = (1+n)*n//4\n",
    "\n",
    "for solutions in listAllSubsets(test):\n",
    "    if sum(solutions)==checkSum:\n",
    "        answer+=1\n",
    "print('Found answer: %d' % (answer/2))\n",
    "\n",
    "stop = time()\n",
    "print('Runnig time: %s seconds' % (stop - start))"
   ]
  },
  {
   "cell_type": "markdown",
   "metadata": {},
   "source": [
    "### A new thought: State Transition Equition\n",
    "$$\n",
    "S_{n,sum} = S_{n-1,sum} + S_{n-1,sum-n}\n",
    "$$\n",
    "For example: $ S_{7,14} = S_{6,14} + S_{6,7} $"
   ]
  },
  {
   "cell_type": "code",
   "execution_count": null,
   "metadata": {},
   "outputs": [],
   "source": [
    "def solutions(rank, sums):\n",
    "    if sums == 0:\n",
    "        return 1\n",
    "    elif rank == 0:\n",
    "        return 0\n",
    "    elif rank > sums:\n",
    "        return solutions(rank-1, sums)\n",
    "    else:\n",
    "        return solutions(rank-1, sums) + solutions(rank-1, sums-rank)"
   ]
  },
  {
   "cell_type": "code",
   "execution_count": null,
   "metadata": {},
   "outputs": [],
   "source": [
    "rank = 22       # 25:10 secs, 27:40 secs, ...\n",
    "checkSum = int(rank * (rank+1) / 2 / 2)\n",
    "\n",
    "start = time()\n",
    "print( \"Found solution:\", solutions(rank, checkSum)//2 )\n",
    "stop  = time()\n",
    "print( \"Total seconds: %s\" % (stop - start))"
   ]
  },
  {
   "cell_type": "markdown",
   "metadata": {},
   "source": [
    "---\n",
    "Array Compression\n",
    "---"
   ]
  },
  {
   "cell_type": "code",
   "execution_count": null,
   "metadata": {},
   "outputs": [],
   "source": [
    "n = 200   # 300: about 2.3 seconds\n",
    "\n",
    "s = int((1+n)*n/2/2)\n",
    "work = [0]*(s+1)\n",
    "work[0] = 1\n",
    "\n",
    "start = time()\n",
    "\n",
    "\n",
    "\n",
    "for i in range(1, n+1):\n",
    "    for j in range(s, i-1, -1): # for(int j=s; j>i-1; j--)\n",
    "        work[j] += work[j-i]\n",
    "\n",
    "        \n",
    "        \n",
    "        \n",
    "print(work[-1]//2)\n",
    "\n",
    "stop  = time()\n",
    "print( \"Total seconds: %s\" % (stop - start))"
   ]
  }
 ],
 "metadata": {
  "kernelspec": {
   "display_name": "Python 3 (ipykernel)",
   "language": "python",
   "name": "python3"
  },
  "language_info": {
   "codemirror_mode": {
    "name": "ipython",
    "version": 3
   },
   "file_extension": ".py",
   "mimetype": "text/x-python",
   "name": "python",
   "nbconvert_exporter": "python",
   "pygments_lexer": "ipython3",
   "version": "3.9.7"
  }
 },
 "nbformat": 4,
 "nbformat_minor": 4
}
