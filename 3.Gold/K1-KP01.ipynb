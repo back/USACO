{
 "cells": [
  {
   "cell_type": "markdown",
   "id": "0f8c12e7",
   "metadata": {},
   "source": [
    "# 0-1 Knapsack Problem\n",
    "\n",
    "- Each item could be used only once.\n",
    "\n",
    "### Standard Inputs"
   ]
  },
  {
   "cell_type": "code",
   "execution_count": 7,
   "id": "bae59df5",
   "metadata": {},
   "outputs": [],
   "source": [
    "weight = [ 1,  2, 3,  8,  7,  4 ]\n",
    "value  = [ 20, 5, 10, 40, 15, 25 ]\n",
    "W      = 10"
   ]
  },
  {
   "cell_type": "markdown",
   "id": "99af74e0",
   "metadata": {},
   "source": [
    "### Standard Output \n",
    "- Max value achieved withint the weight limit (W=10)\n",
    "- In this case, the answer is:\n",
    "\n",
    "> total weight = 1  + 8  = 9  < W \n",
    "> <br/>total value  = 20 + 40 = 60\n",
    "\n",
    "### DP: STE (State Transition Equition)\n",
    "\n",
    "$$\n",
    "V_{i, w} = max( V_{i-1, w}, V_{i-1, w-weight_i} + value_i )\n",
    "$$"
   ]
  },
  {
   "cell_type": "code",
   "execution_count": 3,
   "id": "7f8a5478",
   "metadata": {},
   "outputs": [
    {
     "name": "stdout",
     "output_type": "stream",
     "text": [
      "[[0, 0, 0, 0, 0, 0, 0, 0, 0, 0, 0],\n",
      " [0, 0, 0, 0, 0, 0, 0, 0, 0, 0, 0],\n",
      " [0, 0, 0, 0, 0, 0, 0, 0, 0, 0, 0],\n",
      " [0, 0, 0, 0, 0, 0, 0, 0, 0, 0, 0],\n",
      " [0, 0, 0, 0, 0, 0, 0, 0, 0, 0, 0],\n",
      " [0, 0, 0, 0, 0, 0, 0, 0, 0, 0, 0]]\n"
     ]
    }
   ],
   "source": [
    "dp=[ [0]*(W+1) for _ in range(len(value)) ]\n",
    "pp(dp)"
   ]
  },
  {
   "cell_type": "markdown",
   "id": "68458a53",
   "metadata": {},
   "source": [
    "### Initialization\n",
    "- Set the first item value to the first line"
   ]
  },
  {
   "cell_type": "code",
   "execution_count": 4,
   "id": "d42da859",
   "metadata": {},
   "outputs": [
    {
     "name": "stdout",
     "output_type": "stream",
     "text": [
      "[[0, 20, 20, 20, 20, 20, 20, 20, 20, 20, 20],\n",
      " [0, 0, 0, 0, 0, 0, 0, 0, 0, 0, 0],\n",
      " [0, 0, 0, 0, 0, 0, 0, 0, 0, 0, 0],\n",
      " [0, 0, 0, 0, 0, 0, 0, 0, 0, 0, 0],\n",
      " [0, 0, 0, 0, 0, 0, 0, 0, 0, 0, 0],\n",
      " [0, 0, 0, 0, 0, 0, 0, 0, 0, 0, 0]]\n"
     ]
    }
   ],
   "source": [
    "for col in range(W+1):\n",
    "    if col >= weight[0]:\n",
    "        dp[0][col] = value[0]\n",
    "pp(dp)"
   ]
  },
  {
   "cell_type": "markdown",
   "id": "562f9114",
   "metadata": {},
   "source": [
    "### Now do the DP"
   ]
  },
  {
   "cell_type": "code",
   "execution_count": 5,
   "id": "9e714ecd",
   "metadata": {},
   "outputs": [
    {
     "name": "stdout",
     "output_type": "stream",
     "text": [
      "[[0, 20, 20, 20, 20, 20, 20, 20, 20, 20, 20],\n",
      " [0, 20, 20, 25, 25, 25, 25, 25, 25, 25, 25],\n",
      " [0, 20, 20, 25, 30, 30, 35, 35, 35, 35, 35],\n",
      " [0, 20, 20, 25, 30, 30, 35, 35, 40, 60, 60],\n",
      " [0, 20, 20, 25, 30, 30, 35, 35, 40, 60, 60],\n",
      " [0, 20, 20, 25, 30, 45, 45, 50, 55, 60, 60]]\n"
     ]
    }
   ],
   "source": [
    "for i in range(1, len(value)):\n",
    "    for col in range(1, W+1):\n",
    "        if col < weight[i]:\n",
    "            dp[i][col] = dp[i-1][col]\n",
    "        else:\n",
    "            dp[i][col] = max( dp[i-1][col], dp[i-1][col-weight[i]] + value[i] )\n",
    "pp(dp)"
   ]
  },
  {
   "cell_type": "markdown",
   "id": "39cf387b",
   "metadata": {},
   "source": [
    "### Output the Final Answer"
   ]
  },
  {
   "cell_type": "code",
   "execution_count": 6,
   "id": "6657bc2e",
   "metadata": {},
   "outputs": [
    {
     "name": "stdout",
     "output_type": "stream",
     "text": [
      "60\n"
     ]
    }
   ],
   "source": [
    "print(dp[-1][-1])"
   ]
  }
 ],
 "metadata": {
  "kernelspec": {
   "display_name": "Python 3 (ipykernel)",
   "language": "python",
   "name": "python3"
  },
  "language_info": {
   "codemirror_mode": {
    "name": "ipython",
    "version": 3
   },
   "file_extension": ".py",
   "mimetype": "text/x-python",
   "name": "python",
   "nbconvert_exporter": "python",
   "pygments_lexer": "ipython3",
   "version": "3.9.7"
  }
 },
 "nbformat": 4,
 "nbformat_minor": 5
}
