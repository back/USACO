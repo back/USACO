{
 "cells": [
  {
   "cell_type": "markdown",
   "metadata": {},
   "source": [
    "# Section 2.3 - Zero Sum\n",
    "### Read Inputs"
   ]
  },
  {
   "cell_type": "code",
   "execution_count": 1,
   "metadata": {},
   "outputs": [],
   "source": [
    "n=4\n",
    "p='+- '"
   ]
  },
  {
   "cell_type": "markdown",
   "metadata": {},
   "source": [
    "### Prepare all possible combinations of operators"
   ]
  },
  {
   "cell_type": "code",
   "execution_count": 12,
   "metadata": {},
   "outputs": [
    {
     "name": "stdout",
     "output_type": "stream",
     "text": [
      "['+++',\n",
      " '++-',\n",
      " '++ ',\n",
      " '+-+',\n",
      " '+--',\n",
      " '+- ',\n",
      " '+ +',\n",
      " '+ -',\n",
      " '+  ',\n",
      " '-++',\n",
      " '-+-',\n",
      " '-+ ',\n",
      " '--+',\n",
      " '---',\n",
      " '-- ',\n",
      " '- +',\n",
      " '- -',\n",
      " '-  ',\n",
      " ' ++',\n",
      " ' +-',\n",
      " ' + ',\n",
      " ' -+',\n",
      " ' --',\n",
      " ' - ',\n",
      " '  +',\n",
      " '  -',\n",
      " '   ']\n"
     ]
    }
   ],
   "source": [
    "ops = ['']\n",
    "while len(ops[0]) < n-1:\n",
    "    x = ops.pop(0)\n",
    "    ops.extend(x+i for i in p)\n",
    "pp(ops)"
   ]
  },
  {
   "cell_type": "markdown",
   "metadata": {},
   "source": [
    "### An alternate way of generating all combinations of 3 ops\n",
    "- Utilizing the base-3 number system"
   ]
  },
  {
   "cell_type": "code",
   "execution_count": 33,
   "metadata": {},
   "outputs": [
    {
     "name": "stdout",
     "output_type": "stream",
     "text": [
      "000\n",
      "001\n",
      "002\n",
      "010\n",
      "011\n",
      "012\n",
      "020\n",
      "021\n",
      "022\n",
      "100\n",
      "101\n",
      "102\n",
      "110\n",
      "111\n",
      "112\n",
      "120\n",
      "121\n",
      "122\n",
      "200\n",
      "201\n",
      "202\n",
      "210\n",
      "211\n",
      "212\n",
      "220\n",
      "221\n",
      "222\n"
     ]
    }
   ],
   "source": [
    "BS=\"+- \"\n",
    "BS=\"012\"\n",
    "convert = lambda n, b: convert(n//b, b) + BS[n%b] if n else BS[0]\n",
    "\n",
    "for i in range(pow(3,3)):\n",
    "    print(convert(i+81,3)[-3:])"
   ]
  },
  {
   "cell_type": "markdown",
   "metadata": {},
   "source": [
    "### Producting All Possible Equations"
   ]
  },
  {
   "cell_type": "code",
   "execution_count": 5,
   "metadata": {},
   "outputs": [
    {
     "name": "stdout",
     "output_type": "stream",
     "text": [
      "1+2+3+4\n",
      "1+2+3-4\n",
      "1+2+3 4\n",
      "1+2-3+4\n",
      "1+2-3-4\n",
      "1+2-3 4\n",
      "1+2 3+4\n",
      "1+2 3-4\n",
      "1+2 3 4\n",
      "1-2+3+4\n",
      "1-2+3-4\n",
      "1-2+3 4\n",
      "1-2-3+4\n",
      "1-2-3-4\n",
      "1-2-3 4\n",
      "1-2 3+4\n",
      "1-2 3-4\n",
      "1-2 3 4\n",
      "1 2+3+4\n",
      "1 2+3-4\n",
      "1 2+3 4\n",
      "1 2-3+4\n",
      "1 2-3-4\n",
      "1 2-3 4\n",
      "1 2 3+4\n",
      "1 2 3-4\n",
      "1 2 3 4\n"
     ]
    }
   ],
   "source": [
    "for op in ops:\n",
    "    for i in range(1,n):\n",
    "        print(i, end='')\n",
    "        print(op[i-1], end='')\n",
    "    print(n)"
   ]
  },
  {
   "cell_type": "markdown",
   "metadata": {},
   "source": [
    "### Now insert the numbers and verify the result"
   ]
  },
  {
   "cell_type": "code",
   "execution_count": 11,
   "metadata": {},
   "outputs": [
    {
     "name": "stdout",
     "output_type": "stream",
     "text": [
      "1+2+3+4 = 10\n",
      "1+2+3-4 = 2\n",
      "1+2+3 4 = 37\n",
      "1+2-3+4 = 4\n",
      "1+2-3-4 = -4\n",
      "1+2-3 4 = -31\n",
      "1+2 3+4 = 28\n",
      "1+2 3-4 = 20\n",
      "1+2 3 4 = 235\n",
      "1-2+3+4 = 6\n",
      "1-2+3-4 = -2\n",
      "1-2+3 4 = 33\n",
      "1-2-3+4 = 0\n",
      "1-2-3-4 = -8\n",
      "1-2-3 4 = -35\n",
      "1-2 3+4 = -18\n",
      "1-2 3-4 = -26\n",
      "1-2 3 4 = -233\n",
      "1 2+3+4 = 19\n",
      "1 2+3-4 = 11\n",
      "1 2+3 4 = 46\n",
      "1 2-3+4 = 13\n",
      "1 2-3-4 = 5\n",
      "1 2-3 4 = -22\n",
      "1 2 3+4 = 127\n",
      "1 2 3-4 = 119\n",
      "1 2 3 4 = 1234\n"
     ]
    }
   ],
   "source": [
    "for op in ops:\n",
    "    base, prevNumber = 0, 1\n",
    "    for i in range(1, n):\n",
    "        operator = op[i-1]\n",
    "        currNumber = i+1\n",
    "        if operator == ' ':\n",
    "            prevNumber *= 10\n",
    "            if prevNumber > 0:\n",
    "                prevNumber += currNumber\n",
    "            else:\n",
    "                prevNumber -= currNumber\n",
    "        else:\n",
    "            base += prevNumber\n",
    "            if operator == '+':\n",
    "                prevNumber = currNumber\n",
    "            if operator == '-':\n",
    "                prevNumber = -currNumber\n",
    "\n",
    "    print(1,end='')\n",
    "    for i in range(1,n):\n",
    "        print(op[i-1], end='')\n",
    "        print(  i+1,   end='')\n",
    "    print(' = %s' % (base+prevNumber))"
   ]
  }
 ],
 "metadata": {
  "kernelspec": {
   "display_name": "Python 3 (ipykernel)",
   "language": "python",
   "name": "python3"
  },
  "language_info": {
   "codemirror_mode": {
    "name": "ipython",
    "version": 3
   },
   "file_extension": ".py",
   "mimetype": "text/x-python",
   "name": "python",
   "nbconvert_exporter": "python",
   "pygments_lexer": "ipython3",
   "version": "3.9.7"
  }
 },
 "nbformat": 4,
 "nbformat_minor": 4
}
