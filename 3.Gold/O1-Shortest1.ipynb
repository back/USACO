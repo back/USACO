{
 "cells": [
  {
   "cell_type": "markdown",
   "id": "5cbe6337",
   "metadata": {},
   "source": [
    "# Shortest Paths - I\n",
    "\n",
    "- https://cses.fi/problemset/task/1671\n",
    "\n",
    "### Dijkstra Algorithm\n",
    "- https://en.wikipedia.org/wiki/Dijkstra%27s_algorithm\n",
    "\n",
    "### Read Inputs\n",
    "- Create a dictionary of list to remember the edges\n",
    "- Please be noted here is with **1-based** index"
   ]
  },
  {
   "cell_type": "code",
   "execution_count": 1,
   "id": "4450afeb",
   "metadata": {},
   "outputs": [
    {
     "name": "stdout",
     "output_type": "stream",
     "text": [
      "{1: [(2, 6), (3, 2), (3, 4)], 3: [(2, 3)]}\n"
     ]
    }
   ],
   "source": [
    "fin = StringIO('''3 4\n",
    "1 2 6\n",
    "1 3 2\n",
    "3 2 3\n",
    "1 3 4\n",
    "''')\n",
    "\n",
    "n, m = map(int, fin.readline().split())\n",
    "g = {}\n",
    "for line in fin.readlines():\n",
    "    a,b,c = map(int, line.split())\n",
    "    if a in g:\n",
    "        g[a].append((b,c))\n",
    "    else:\n",
    "        g[a] = [(b,c)]\n",
    "pp(g)"
   ]
  },
  {
   "cell_type": "markdown",
   "id": "5f7fd9ad",
   "metadata": {},
   "source": [
    "### Prepare the shortest distance list for final answer\n",
    "- Use **-1** to represent **infinite**\n",
    "- Initialize the first city distance to 0"
   ]
  },
  {
   "cell_type": "code",
   "execution_count": 3,
   "id": "597b4d40",
   "metadata": {},
   "outputs": [
    {
     "name": "stdout",
     "output_type": "stream",
     "text": [
      "[-1, 0, -1, -1] [(0, 1)]\n"
     ]
    }
   ],
   "source": [
    "dist = [-1] * (n+1)\n",
    "dist[1] = 0\n",
    "nextNodes = [(dist[1], 1)]\n",
    "print(dist, nextNodes)"
   ]
  },
  {
   "cell_type": "markdown",
   "id": "99a49e69",
   "metadata": {},
   "source": [
    "### Dijkstra Algorithm\n",
    "- Maintain a set of **updated** nodes\n",
    "- Picking the minimal distance from the nextNodes for processing"
   ]
  },
  {
   "cell_type": "code",
   "execution_count": 4,
   "id": "acc6dec2",
   "metadata": {},
   "outputs": [
    {
     "name": "stdout",
     "output_type": "stream",
     "text": [
      "1 2 6 [-1, 0, 6, -1]\n",
      "1 3 2 [-1, 0, 6, 2]\n",
      "1 3 4 [-1, 0, 6, 2]\n",
      "3 2 3 [-1, 0, 5, 2]\n"
     ]
    }
   ],
   "source": [
    "while nextNodes:\n",
    "    x, a = min(nextNodes)\n",
    "    nextNodes.remove((x,a))\n",
    "    if a in g:\n",
    "        for b, c in g[a]:\n",
    "            upDist = dist[a] + c\n",
    "            if dist[b] < 0 or dist[b] > upDist:\n",
    "                dist[b] = upDist\n",
    "                nextNodes.append((dist[b],b))\n",
    "            print(a, b, c, dist)"
   ]
  },
  {
   "cell_type": "markdown",
   "id": "0c0e8e50",
   "metadata": {},
   "source": [
    "### Output the Final Answer"
   ]
  },
  {
   "cell_type": "code",
   "execution_count": 5,
   "id": "cf86a1f2",
   "metadata": {},
   "outputs": [
    {
     "name": "stdout",
     "output_type": "stream",
     "text": [
      "[0, 5, 2]\n"
     ]
    }
   ],
   "source": [
    "print(dist[1:])"
   ]
  },
  {
   "cell_type": "markdown",
   "id": "67cc761a",
   "metadata": {
    "jupyter": {
     "source_hidden": true
    }
   },
   "source": [
    "## Java Implimentation\n",
    "\n",
    "```Java\n",
    "   static void dijkstra(int src) {\n",
    "\t\t//Set all distances to infinity\n",
    "\t\tfor (int i = 0; i < N; ++i)\n",
    "\t\t\tdist[i] = Long.MAX_VALUE;\n",
    "\t\tPriorityQueue<Pair<Long, Integer>> pq = new PriorityQueue<Pair<Long, Integer>>\n",
    "\t\t\t((a, b) -> Long.compare(a.getKey(), b.getKey()));\n",
    "\t\tdist[src] = 0; // The shortest path from a node to itself is 0\n",
    "\t\tpq.add(new Pair<Long, Integer>(0L, src));\n",
    "\t\twhile(!pq.isEmpty()) {\n",
    "\t\t\tPair<Long, Integer> p = pq.poll();\n",
    "\t\t\tlong cdist = p.getKey();\n",
    "\t\t\tint node = p.getValue();\n",
    "\t\t\tif(cdist != dist[node])\n",
    "\t\t\t\tcontinue;\n",
    "\t\t\tfor (Pair<Integer, Integer> i : graph[node]) {\n",
    "\t\t\t\t// If we can reach a neighbouring node faster,\n",
    "\t\t\t\t// we update its minimum distance\n",
    "\t\t\t\tif(cdist+i.getValue() < dist[i.getKey()]) {\n",
    "\t\t\t\t\tdist[i.getKey()] = cdist + i.getValue();\n",
    "\t\t\t\t\tpq.add(new Pair<Long, Integer>(dist[i.getKey()], i.getKey()));\n",
    "\t\t\t\t}\n",
    "\t\t\t}\n",
    "\t\t}\n",
    "\t}\n",
    "\n",
    "\tpublic static void main(String[] args) throws Exception {\n",
    "\t\tBufferedReader br = new BufferedReader(new InputStreamReader(System.in));\n",
    "\t\tStringTokenizer st = new StringTokenizer(br.readLine());\n",
    "\t\tN = Integer.parseInt(st.nextToken());\n",
    "\t\tint M = Integer.parseInt(st.nextToken());\n",
    "\t\tgraph = new ArrayList[N];\n",
    "\t\tdist = new long[N];\n",
    "\t\tfor (int i = 0; i < N; i++) {\n",
    "\t\t\tgraph[i] = new ArrayList<Pair<Integer, Integer>>();\n",
    "\t\t}\n",
    "\t\tfor (int i = 0; i < M; i++) {\n",
    "\t\t\tst = new StringTokenizer(br.readLine());\n",
    "\t\t\tint a = Integer.parseInt(st.nextToken());\n",
    "\t\t\tint b = Integer.parseInt(st.nextToken());\n",
    "\t\t\tint c = Integer.parseInt(st.nextToken());\n",
    "\t\t\tgraph[a - 1].add(new Pair<Integer, Integer>(b - 1, c));\n",
    "\t\t}\n",
    "\t\tdijkstra(0);\n",
    "\t\tfor (int i = 0; i < N; i++) {\n",
    "\t\t\tSystem.out.print(dist[i] + \" \");\n",
    "\t\t}\n",
    "\t}\n",
    "```"
   ]
  }
 ],
 "metadata": {
  "kernelspec": {
   "display_name": "Python 3 (ipykernel)",
   "language": "python",
   "name": "python3"
  },
  "language_info": {
   "codemirror_mode": {
    "name": "ipython",
    "version": 3
   },
   "file_extension": ".py",
   "mimetype": "text/x-python",
   "name": "python",
   "nbconvert_exporter": "python",
   "pygments_lexer": "ipython3",
   "version": "3.9.7"
  }
 },
 "nbformat": 4,
 "nbformat_minor": 5
}
