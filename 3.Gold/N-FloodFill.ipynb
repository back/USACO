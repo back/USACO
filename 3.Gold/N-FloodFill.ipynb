{
 "cells": [
  {
   "cell_type": "markdown",
   "metadata": {},
   "source": [
    "# Flood Fill Algorithm\n",
    "\n",
    "### Material\n",
    "- [Yao's Notes](https://darrenyao.com/usacobook/java.pdf#page=56)\n",
    "- [CP2](https://usaco.guide/CP2.pdf#page=90)\n",
    "\n",
    "\n",
    "### Count Connected Fields\n",
    "\n",
    "![](../image/FloodFill.gif)\n",
    "\n",
    "---\n",
    "### Store the Graph by an Edges List"
   ]
  },
  {
   "cell_type": "code",
   "execution_count": 11,
   "metadata": {},
   "outputs": [],
   "source": [
    "graph = [(1,4), (1,8), (2,7), (2,9), (5,6), (5,7), (5,9), (7,9)]"
   ]
  },
  {
   "cell_type": "markdown",
   "metadata": {},
   "source": [
    "### Prepare the Component Mapping"
   ]
  },
  {
   "cell_type": "code",
   "execution_count": 12,
   "metadata": {},
   "outputs": [
    {
     "name": "stdout",
     "output_type": "stream",
     "text": [
      "[0, 0, 0, 0, 0, 0, 0, 0, 0, 0]\n"
     ]
    }
   ],
   "source": [
    "compo = [0] * 10\n",
    "print(compo)"
   ]
  },
  {
   "cell_type": "markdown",
   "metadata": {},
   "source": [
    "### Flood Fill Algorithm"
   ]
  },
  {
   "cell_type": "code",
   "execution_count": 13,
   "metadata": {},
   "outputs": [],
   "source": [
    "def floodfill(i, label):\n",
    "    if compo[i]!=0:\n",
    "        return False\n",
    "    compo[i] = label\n",
    "    for a,b in graph:\n",
    "        if a==i:\n",
    "            floodfill(b, label)\n",
    "        if b==i:\n",
    "            floodfill(a, label)\n",
    "    return True"
   ]
  },
  {
   "cell_type": "markdown",
   "metadata": {},
   "source": [
    "### Manual Test"
   ]
  },
  {
   "cell_type": "code",
   "execution_count": 14,
   "metadata": {},
   "outputs": [
    {
     "name": "stdout",
     "output_type": "stream",
     "text": [
      "[0, 1, 0, 0, 1, 0, 0, 0, 1, 0]\n"
     ]
    }
   ],
   "source": [
    "floodfill(1, 1)\n",
    "print(compo)"
   ]
  },
  {
   "cell_type": "markdown",
   "metadata": {},
   "source": [
    "### Complete Search"
   ]
  },
  {
   "cell_type": "code",
   "execution_count": 15,
   "metadata": {},
   "outputs": [
    {
     "name": "stdout",
     "output_type": "stream",
     "text": [
      "[0, 1, 2, 3, 1, 2, 2, 2, 1, 2]\n"
     ]
    }
   ],
   "source": [
    "compo = [0] * 10\n",
    "label = 1\n",
    "for i in range(1,10):\n",
    "    if floodfill(i, label):\n",
    "        label += 1\n",
    "print(compo)"
   ]
  },
  {
   "cell_type": "markdown",
   "metadata": {},
   "source": [
    "### Final Answer"
   ]
  },
  {
   "cell_type": "code",
   "execution_count": 16,
   "metadata": {},
   "outputs": [
    {
     "name": "stdout",
     "output_type": "stream",
     "text": [
      "3\n"
     ]
    }
   ],
   "source": [
    "print(max(compo))"
   ]
  }
 ],
 "metadata": {
  "kernelspec": {
   "display_name": "Python 3 (ipykernel)",
   "language": "python",
   "name": "python3"
  },
  "language_info": {
   "codemirror_mode": {
    "name": "ipython",
    "version": 3
   },
   "file_extension": ".py",
   "mimetype": "text/x-python",
   "name": "python",
   "nbconvert_exporter": "python",
   "pygments_lexer": "ipython3",
   "version": "3.9.7"
  }
 },
 "nbformat": 4,
 "nbformat_minor": 4
}
