{
 "cells": [
  {
   "cell_type": "markdown",
   "metadata": {},
   "source": [
    "# Recursion\n",
    "Animate Example\n",
    "\n",
    "### Factorial\n",
    "- https://www.educative.io/courses/recursion-for-coding-interviews-in-python/B8wMXy0nmvk\n",
    "\n",
    "### Fibonacci\n",
    "- https://visualgo.net/en/recursion\n",
    "\n",
    "### Binary Search\n",
    "- double recursive calls\n",
    "\n",
    "\n",
    "### Tower of Hanoi\n",
    "- http://towersofhanoi.info/Animate.aspx\n",
    "- https://en.wikipedia.org/wiki/Tower_of_Hanoi\n",
    "\n",
    "### Flood Fill (zombie and cats)\n",
    "- https://inventwithpython.com/blog/2011/08/11/recursion-explained-with-the-flood-fill-algorithm-and-zombies-and-cats/\n",
    "- \n",
    "### Maze Runner\n",
    "- https://preview.redd.it/qzmfijn9kewz.gif?format=mp4&s=dfd4ed9f00c9c45eb0641be4a54a610abf212e94\n",
    "\n",
    "\n",
    "### Tower of Hanoi\n",
    "---\n",
    "1. Show\n",
    "2. Solve\n",
    " - [Animated Solution](http://towersofhanoi.info/Animate.aspx)\n",
    " - [Playable Game](https://www.mathsisfun.com/games/towerofhanoi.html)"
   ]
  },
  {
   "cell_type": "code",
   "execution_count": 2,
   "metadata": {},
   "outputs": [
    {
     "data": {
      "text/plain": [
       "93"
      ]
     },
     "execution_count": 2,
     "metadata": {},
     "output_type": "execute_result"
    }
   ],
   "source": [
    "randint(1,100)"
   ]
  },
  {
   "cell_type": "raw",
   "metadata": {},
   "source": []
  },
  {
   "cell_type": "code",
   "execution_count": 4,
   "metadata": {},
   "outputs": [
    {
     "name": "stdout",
     "output_type": "stream",
     "text": [
      "-------------12345|------------------|------------------|\n"
     ]
    }
   ],
   "source": [
    "pole=lambda x:('-'*N + ''.join(map(str,x)) + '|')[-N-1:]\n",
    "show=lambda  :print(pole(a) + pole(b) + pole(c))\n",
    "\n",
    "# N: just shows how long the pole is, does not matter to real solutions:\n",
    "N,a,b,c = 18, [1,2,3,4,5], [], []\n",
    "\n",
    "show()"
   ]
  },
  {
   "cell_type": "code",
   "execution_count": 6,
   "metadata": {},
   "outputs": [],
   "source": [
    "# understand: parameters in function calls...\n",
    "def move(x, p1, p2, p3):\n",
    "    if x <= 1:\n",
    "        p2.insert(0, p1.pop(0))\n",
    "        show()\n",
    "    else:\n",
    "        move(x-1, p1, p3, p2)\n",
    "        move( 1 , p1, p2, p3)\n",
    "        move(x-1, p3, p2, p1)"
   ]
  },
  {
   "cell_type": "code",
   "execution_count": 7,
   "metadata": {},
   "outputs": [
    {
     "name": "stdout",
     "output_type": "stream",
     "text": [
      "--------------2345|-----------------1|------------------|\n",
      "---------------345|-----------------1|-----------------2|\n",
      "---------------345|------------------|----------------12|\n",
      "----------------45|-----------------3|----------------12|\n",
      "---------------145|-----------------3|-----------------2|\n",
      "---------------145|----------------23|------------------|\n",
      "----------------45|---------------123|------------------|\n",
      "-----------------5|---------------123|-----------------4|\n",
      "-----------------5|----------------23|----------------14|\n",
      "----------------25|-----------------3|----------------14|\n",
      "---------------125|-----------------3|-----------------4|\n",
      "---------------125|------------------|----------------34|\n",
      "----------------25|-----------------1|----------------34|\n",
      "-----------------5|-----------------1|---------------234|\n",
      "-----------------5|------------------|--------------1234|\n",
      "------------------|-----------------5|--------------1234|\n",
      "-----------------1|-----------------5|---------------234|\n",
      "-----------------1|----------------25|----------------34|\n",
      "------------------|---------------125|----------------34|\n",
      "-----------------3|---------------125|-----------------4|\n",
      "-----------------3|----------------25|----------------14|\n",
      "----------------23|-----------------5|----------------14|\n",
      "---------------123|-----------------5|-----------------4|\n",
      "---------------123|----------------45|------------------|\n",
      "----------------23|---------------145|------------------|\n",
      "-----------------3|---------------145|-----------------2|\n",
      "-----------------3|----------------45|----------------12|\n",
      "------------------|---------------345|----------------12|\n",
      "-----------------1|---------------345|-----------------2|\n",
      "-----------------1|--------------2345|------------------|\n",
      "------------------|-------------12345|------------------|\n"
     ]
    }
   ],
   "source": [
    "move(5, a, b, c)"
   ]
  }
 ],
 "metadata": {
  "kernelspec": {
   "display_name": "Python 3",
   "language": "python",
   "name": "python3"
  },
  "language_info": {
   "codemirror_mode": {
    "name": "ipython",
    "version": 3
   },
   "file_extension": ".py",
   "mimetype": "text/x-python",
   "name": "python",
   "nbconvert_exporter": "python",
   "pygments_lexer": "ipython3",
   "version": "3.8.3"
  }
 },
 "nbformat": 4,
 "nbformat_minor": 4
}
