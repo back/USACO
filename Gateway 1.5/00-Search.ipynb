{
 "cells": [
  {
   "cell_type": "markdown",
   "metadata": {},
   "source": [
    "# Complete Search\n",
    "\n",
    "In many problems (especially in Bronze), it’s sufficient to check all possible cases in the solution space, whether it be all elements, all pairs of elements, or all subsets, or all permutations. Unsurprisingly, this is called complete search (or brute force), because it completely searches the entire solution space.\n",
    "\n",
    "### Sample Problems to Study\n",
    "- [Maximum Distance](https://codeforces.com/gym/102951/problem/A) (Exaustive double loop)\n",
    "- [3 Sum](https://leetcode.com/problems/3sum/)\n",
    "\n",
    "\n",
    "### More Problems from USACO\n",
    "- [Milk Pails](http://www.usaco.org/index.php?page=viewproblem2&cpid=615)\n",
    "- [Diamond Collector](http://www.usaco.org/index.php?page=viewproblem2&cpid=639)\n",
    "- [Daisy Chains](http://www.usaco.org/index.php?page=viewproblem2&cpid=1060)\n",
    "- [Cow Gymnastics](http://www.usaco.org/index.php?page=viewproblem2&cpid=963)\n",
    "- [Bovine Genomics](http://www.usaco.org/index.php?page=viewproblem2&cpid=736)\n",
    "- [Triangles](http://www.usaco.org/index.php?page=viewproblem2&cpid=1011)\n",
    "- [Lifeguards](http://www.usaco.org/index.php?page=viewproblem2&cpid=784)\n",
    "- [Why Did the Cow Cross the Road II](http://www.usaco.org/index.php?page=viewproblem2&cpid=712)\n",
    "\n",
    "### Beyong Easy Level\n",
    "- [Guess the Animal](http://www.usaco.org/index.php?page=viewproblem2&cpid=893)\n",
    "- [Load Balancing](http://www.usaco.org/index.php?page=viewproblem2&cpid=617)\n",
    "- [Photoshoot](http://www.usaco.org/index.php?page=viewproblem2&cpid=988)\n",
    "- [Where Am I?](http://usaco.org/index.php?page=viewproblem2&cpid=964)\n",
    "- [Livestock Lineup](http://usaco.org/index.php?page=viewproblem2&cpid=965)\n",
    "- [Field Reduction](http://www.usaco.org/index.php?page=viewproblem2&cpid=641)\n",
    "  - For this problem, you can’t do a full complete search; you have to do a reduced search\n",
    "\n",
    "### A Bit Challenging\n",
    "- [Contaminated Milk](http://www.usaco.org/index.php?page=viewproblem2&cpid=569)\n",
    "- [Cowntact Tracing](http://www.usaco.org/index.php?page=viewproblem2&cpid=1037)\n",
    "- [Bull in a China Shop](http://www.usaco.org/index.php?page=viewproblem2&cpid=640)\n",
    "- [Back and Forth](http://www.usaco.org/index.php?page=viewproblem2&cpid=857)\n",
    "\n",
    "### Bonus Training\n",
    "- [Chessboard and Queens](https://cses.fi/problemset/task/1624)\n"
   ]
  }
 ],
 "metadata": {
  "kernelspec": {
   "display_name": "Python 3",
   "language": "python",
   "name": "python3"
  },
  "language_info": {
   "codemirror_mode": {
    "name": "ipython",
    "version": 3
   },
   "file_extension": ".py",
   "mimetype": "text/x-python",
   "name": "python",
   "nbconvert_exporter": "python",
   "pygments_lexer": "ipython3",
   "version": "3.9.7"
  }
 },
 "nbformat": 4,
 "nbformat_minor": 4
}
