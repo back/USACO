{
 "cells": [
  {
   "cell_type": "code",
   "execution_count": null,
   "metadata": {},
   "outputs": [],
   "source": [
    "int[] state = new int[3];  // { 8, 4, 5};\n",
    "\n",
    "static HashSet<String> visitedCases = new HashSet<String>(); // outside main()\n",
    "\n",
    "if (!visitedCases.contains(s)) {\n",
    "    visitedCases.add(s);   // convert 3 numbers -> String:   \"8,4,5\"\n",
    "    //keep exploring folowing cases from here...\n",
    "}\n"
   ]
  }
 ],
 "metadata": {
  "kernelspec": {
   "display_name": "Java",
   "language": "java",
   "name": "java"
  },
  "language_info": {
   "codemirror_mode": "java",
   "file_extension": ".jshell",
   "mimetype": "text/x-java-source",
   "name": "Java",
   "pygments_lexer": "java",
   "version": "14.0.2+12-46"
  }
 },
 "nbformat": 4,
 "nbformat_minor": 4
}
