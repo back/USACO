{
 "cells": [
  {
   "cell_type": "code",
   "execution_count": null,
   "id": "a42474b4-9bc4-4a66-a694-85a3ff4a04d9",
   "metadata": {
    "tags": []
   },
   "outputs": [],
   "source": [
    "N = 22\n",
    "M = 250\n",
    "\n",
    "answer = []\n",
    "max = M * M * 2\n",
    "bisquare = [0] * (max + 1)\n",
    "for i in range(M + 1):\n",
    "    for j in range(i, M + 1):\n",
    "        bisquare[i * i + j * j] = 1\n",
    "#print(bisquare)"
   ]
  },
  {
   "cell_type": "code",
   "execution_count": 8,
   "id": "86bb4fee-eaed-4527-b564-0ffd3a3dc3a8",
   "metadata": {},
   "outputs": [
    {
     "name": "stdout",
     "output_type": "stream",
     "text": [
      "1.3842670917510986, 1013341\n"
     ]
    }
   ],
   "source": [
    "loop_count = 0\n",
    "t0 = time()\n",
    "for i in range(max + 1 - N + 1):\n",
    "    if bisquare[i] == 0:\n",
    "        continue\n",
    "    for j in range(1, (max - i) // (N - 1) + 1):\n",
    "        count = 1\n",
    "        b = i + j\n",
    "        while bisquare[b]:\n",
    "            loop_count += 1\n",
    "            if count == N - 1:\n",
    "                answer.append((i, j))\n",
    "                break\n",
    "            count += 1\n",
    "            b += j\n",
    "\n",
    "t1 = time()\n",
    "print(f\"{t1 - t0}, {loop_count}\")"
   ]
  },
  {
   "cell_type": "code",
   "execution_count": 9,
   "id": "3a13edbe-fe09-4496-aea0-b34b156a4236",
   "metadata": {},
   "outputs": [
    {
     "name": "stdout",
     "output_type": "stream",
     "text": [
      "0.6666967868804932, 421699\n"
     ]
    }
   ],
   "source": [
    "loop_count = 0\n",
    "t0 = time()\n",
    "result = []\n",
    "for i in range(max + 1):\n",
    "    if bisquare[i] == 0:\n",
    "        continue\n",
    "    for step in range(1, i // (N - 1) + 1):\n",
    "        checks = N\n",
    "        b = i - step\n",
    "        while bisquare[b]:\n",
    "            loop_count += 1\n",
    "            if checks == 2:\n",
    "                result.append((b, step))\n",
    "                break\n",
    "            checks -= 1\n",
    "            b -= step\n",
    "            \n",
    "t1 = time()\n",
    "print(f\"{t1 - t0}, {loop_count}\")"
   ]
  }
 ],
 "metadata": {
  "kernelspec": {
   "display_name": "Python 3",
   "language": "python",
   "name": "python3"
  },
  "language_info": {
   "codemirror_mode": {
    "name": "ipython",
    "version": 3
   },
   "file_extension": ".py",
   "mimetype": "text/x-python",
   "name": "python",
   "nbconvert_exporter": "python",
   "pygments_lexer": "ipython3",
   "version": "3.9.7"
  }
 },
 "nbformat": 4,
 "nbformat_minor": 5
}
