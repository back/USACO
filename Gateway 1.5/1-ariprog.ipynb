{
 "cells": [
  {
   "cell_type": "markdown",
   "metadata": {},
   "source": [
    "# Section 1.5 - Arithmetic Progression\n",
    "---\n",
    "Read Inputs\n",
    "---"
   ]
  },
  {
   "cell_type": "code",
   "execution_count": 1,
   "metadata": {},
   "outputs": [
    {
     "name": "stdout",
     "output_type": "stream",
     "text": [
      "22 250\n"
     ]
    }
   ],
   "source": [
    "n, m = 5, 7\n",
    "\n",
    "n, m = 18, 100\n",
    "n, m = 21, 200\n",
    "n, m = 22, 250\n",
    "\n",
    "print(n, m)"
   ]
  },
  {
   "cell_type": "markdown",
   "metadata": {},
   "source": [
    "### Build up Square Summaries"
   ]
  },
  {
   "cell_type": "code",
   "execution_count": 2,
   "metadata": {},
   "outputs": [
    {
     "name": "stdout",
     "output_type": "stream",
     "text": [
      "21047\n"
     ]
    }
   ],
   "source": [
    "sqset = set()\n",
    "for p in range(m+1):\n",
    "    for q in range(p,m+1):\n",
    "        sqset.add(p*p + q*q)\n",
    "        \n",
    "\n",
    "print(len(sqset))\n",
    "#print(sorted(sqset))"
   ]
  },
  {
   "cell_type": "markdown",
   "metadata": {},
   "source": [
    "---\n",
    "Looking for the Sequences\n",
    "---"
   ]
  },
  {
   "cell_type": "code",
   "execution_count": 3,
   "metadata": {},
   "outputs": [
    {
     "name": "stdout",
     "output_type": "stream",
     "text": [
      "[(13421, 2772)]\n",
      "16.43364453315735\n"
     ]
    }
   ],
   "source": [
    "start = time()\n",
    "\n",
    "result = []\n",
    "for a in sqset:\n",
    "    for step in range(1, a//(n-1)+1):\n",
    "        checks = n\n",
    "        b = a - step\n",
    "        while b in sqset:\n",
    "            if checks == 2:\n",
    "                result.append((b, step))\n",
    "                break\n",
    "            checks -= 1\n",
    "            b -= step\n",
    "\n",
    "print(result)\n",
    "\n",
    "print(time() - start)"
   ]
  },
  {
   "cell_type": "markdown",
   "metadata": {},
   "source": [
    "---\n",
    "Sorting the results for final answer\n",
    "---"
   ]
  },
  {
   "cell_type": "code",
   "execution_count": null,
   "metadata": {},
   "outputs": [],
   "source": [
    "from operator import itemgetter\n",
    "if result:\n",
    "    result.sort(key=itemgetter(1))\n",
    "    for item in result:\n",
    "        print('%s %s' % (item[0], item[1]))\n",
    "else:\n",
    "    print('NONE')"
   ]
  }
 ],
 "metadata": {
  "kernelspec": {
   "display_name": "Python 3",
   "language": "python",
   "name": "python3"
  },
  "language_info": {
   "codemirror_mode": {
    "name": "ipython",
    "version": 3
   },
   "file_extension": ".py",
   "mimetype": "text/x-python",
   "name": "python",
   "nbconvert_exporter": "python",
   "pygments_lexer": "ipython3",
   "version": "3.9.7"
  }
 },
 "nbformat": 4,
 "nbformat_minor": 4
}
