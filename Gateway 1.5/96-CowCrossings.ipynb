{
 "cells": [
  {
   "cell_type": "markdown",
   "metadata": {},
   "source": [
    "# Why Did the Cow Cross the Road II\n",
    "- [Why Did the Cow Cross the Road II](http://www.usaco.org/index.php?page=viewproblem2&cpid=712)\n",
    "---\n",
    "### Read Inputs"
   ]
  },
  {
   "cell_type": "code",
   "execution_count": 10,
   "metadata": {},
   "outputs": [
    {
     "name": "stdout",
     "output_type": "stream",
     "text": [
      "ABCCABDDEEFFGGHHIIJJKKLLMMNNOOPPQQRRSSTTUUVVWWXXYYZZ 52\n"
     ]
    }
   ],
   "source": [
    "recordings = 'ABCCABDDEEFFGGHHIIJJKKLLMMNNOOPPQQRRSSTTUUVVWWXXYYZZ'\n",
    "print(recordings, len(recordings))"
   ]
  },
  {
   "cell_type": "markdown",
   "metadata": {},
   "source": [
    "### Check the Crossings"
   ]
  },
  {
   "cell_type": "code",
   "execution_count": 13,
   "metadata": {},
   "outputs": [
    {
     "name": "stdout",
     "output_type": "stream",
     "text": [
      "[['A', 'B']] => 1\n"
     ]
    }
   ],
   "source": [
    "crossings = []   # collecting answers here\n",
    "\n",
    "for i, c in enumerate(recordings):\n",
    "\n",
    "    first = recordings.index(c)\n",
    "    \n",
    "    if i > first:\n",
    "        \n",
    "        appearances = []\n",
    "        \n",
    "        # Make a list of all cows that have an entry/exit point between the entry and exit point of the current cow\n",
    "        for j in range(first + 1, i):\n",
    "            if recordings[j] in appearances:\n",
    "                appearances.remove(recordings[j])\n",
    "            else:\n",
    "                appearances.append(recordings[j])\n",
    "        \n",
    "        # Add all pairs to the crossings list if not already in it\n",
    "        for k in appearances:\n",
    "            if [c, k] not in crossings and [k, c] not in crossings:\n",
    "                crossings.append([c, k])\n",
    "\n",
    "print(crossings, '=>', len(crossings))"
   ]
  }
 ],
 "metadata": {
  "kernelspec": {
   "display_name": "Python 3",
   "language": "python",
   "name": "python3"
  },
  "language_info": {
   "codemirror_mode": {
    "name": "ipython",
    "version": 3
   },
   "file_extension": ".py",
   "mimetype": "text/x-python",
   "name": "python",
   "nbconvert_exporter": "python",
   "pygments_lexer": "ipython3",
   "version": "3.8.3"
  }
 },
 "nbformat": 4,
 "nbformat_minor": 4
}
