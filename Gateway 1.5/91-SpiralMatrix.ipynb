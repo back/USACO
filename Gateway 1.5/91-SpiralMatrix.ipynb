{
 "cells": [
  {
   "cell_type": "markdown",
   "metadata": {},
   "source": [
    "# Spiral Matrix\n",
    "- https://leetcode.com/problems/spiral-matrix/\n",
    "---\n",
    "### Read Inputs"
   ]
  },
  {
   "cell_type": "code",
   "execution_count": null,
   "metadata": {},
   "outputs": [],
   "source": [
    "matrix = [\n",
    "  [1, 2,  3,  4 ],\n",
    "  [5, 6,  7,  8 ],\n",
    "  [9, 10, 11, 12]\n",
    "]"
   ]
  },
  {
   "cell_type": "markdown",
   "metadata": {},
   "source": [
    "### Method 1 - Simulation"
   ]
  },
  {
   "cell_type": "code",
   "execution_count": null,
   "metadata": {},
   "outputs": [],
   "source": [
    "r = c = 0\n",
    "visited = set([(0,0)])\n",
    "results = [matrix[0][0]]\n",
    "\n",
    "counter = 1\n",
    "rows = len(matrix)\n",
    "cols = len(matrix[0])\n",
    "total = rows * cols\n",
    "\n",
    "while counter < total:\n",
    "    for dx, dy in ((0,1), (1,0), (0,-1), (-1, 0)):\n",
    "        while 0<=r+dx<rows and 0<=c+dy<cols and ((r+dx, c+dy) not in visited):\n",
    "            r+=dx\n",
    "            c+=dy\n",
    "            visited.add((r,c))                    \n",
    "            results.append(matrix[r][c])\n",
    "            counter+=1\n",
    "            \n",
    "print(results)"
   ]
  },
  {
   "cell_type": "markdown",
   "metadata": {},
   "source": [
    "### Method 2 - Recursive"
   ]
  },
  {
   "cell_type": "code",
   "execution_count": null,
   "metadata": {},
   "outputs": [],
   "source": [
    "def spiral(matrix):\n",
    "    if len(matrix)==0:\n",
    "        return []\n",
    "    elif len(matrix)==1:\n",
    "        return matrix[0]\n",
    "    elif len(matrix)==2:\n",
    "        return matrix[0] + matrix[1][::-1]\n",
    "    elif len(matrix[0])==1:\n",
    "        return [i[0] for i in matrix]\n",
    "    else:\n",
    "        mx = matrix[0] + [s[-1] for s in matrix[1:-1]] + matrix[-1][::-1] + [s[0] for s in matrix[-2:0:-1]]\n",
    "        if len(matrix[0])>2:\n",
    "            mx.extend(spiral([line[1:-1] for line in matrix[1:-1]]))\n",
    "        return mx\n",
    "    \n",
    "print(spiral(matrix))"
   ]
  }
 ],
 "metadata": {
  "kernelspec": {
   "display_name": "Python 3",
   "language": "python",
   "name": "python3"
  },
  "language_info": {
   "codemirror_mode": {
    "name": "ipython",
    "version": 3
   },
   "file_extension": ".py",
   "mimetype": "text/x-python",
   "name": "python",
   "nbconvert_exporter": "python",
   "pygments_lexer": "ipython3",
   "version": "3.8.3"
  }
 },
 "nbformat": 4,
 "nbformat_minor": 4
}
