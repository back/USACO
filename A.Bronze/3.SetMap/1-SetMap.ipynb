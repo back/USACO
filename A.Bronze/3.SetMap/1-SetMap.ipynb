{
 "cells": [
  {
   "cell_type": "markdown",
   "metadata": {},
   "source": [
    "# Sets & Maps\n",
    "\n",
    "### Two Sample Problems to Study\n",
    "- [Distinct Numbers](https://cses.fi/problemset/task/1621)\n",
    "- [Associated Array](https://judge.yosupo.jp/problem/associative_array)\n",
    "\n",
    "### More Problems from USACO\n",
    "- [Team Tic Tac Toe](http://www.usaco.org/index.php?page=viewproblem2&cpid=831)\n",
    "- [Where Am I?](http://www.usaco.org/index.php?page=viewproblem2&cpid=964)\n",
    "\n",
    "### Beyong Easy Level\n",
    "- [Cities & States](http://www.usaco.org/index.php?page=viewproblem2&cpid=667)\n",
    "\n",
    "### Bonus Training\n",
    "- [Sum of Two Values](https://cses.fi/problemset/task/1640) == LeetCode:2Sum\n",
    "- [Jury Marks](https://codeforces.com/contest/831/problem/C)\n",
    "- [Made Up](https://atcoder.jp/contests/abc202/tasks/abc202_c?lang=en)\n"
   ]
  },
  {
   "cell_type": "markdown",
   "metadata": {
    "tags": []
   },
   "source": [
    "---\n",
    "### Distinct Numbers"
   ]
  },
  {
   "cell_type": "code",
   "execution_count": null,
   "metadata": {},
   "outputs": [],
   "source": [
    "fin = StringIO('''5\n",
    "2 3 2 2 3\n",
    "''')\n",
    "input = fin.readline\n",
    "\n",
    "input()\n",
    "print(len(set(input().split())))"
   ]
  },
  {
   "cell_type": "markdown",
   "metadata": {},
   "source": [
    "---\n",
    "### Associative Array"
   ]
  },
  {
   "cell_type": "code",
   "execution_count": null,
   "metadata": {},
   "outputs": [],
   "source": [
    "fin = StringIO('''8\n",
    "0 1 2\n",
    "1 1\n",
    "1 2\n",
    "0 2 3\n",
    "1 1\n",
    "1 2\n",
    "0 2 1\n",
    "1 2\n",
    "''')\n",
    "input = fin.readline\n",
    "\n",
    "\n",
    "d={}\n",
    "q=int(input().strip())\n",
    "for _ in range(q):\n",
    "    x = input().split()\n",
    "    if x[0]=='1':\n",
    "        print(d.get(x[1], '0'))\n",
    "    else:\n",
    "        d[x[1]] = x[2]"
   ]
  }
 ],
 "metadata": {
  "kernelspec": {
   "display_name": "Python 3",
   "language": "python",
   "name": "python3"
  },
  "language_info": {
   "codemirror_mode": {
    "name": "ipython",
    "version": 3
   },
   "file_extension": ".py",
   "mimetype": "text/x-python",
   "name": "python",
   "nbconvert_exporter": "python",
   "pygments_lexer": "ipython3",
   "version": "3.9.7"
  }
 },
 "nbformat": 4,
 "nbformat_minor": 4
}
