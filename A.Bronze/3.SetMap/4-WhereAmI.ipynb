{
 "cells": [
  {
   "cell_type": "markdown",
   "id": "bc86226e-c84e-4f91-bbf4-07db6fd896bd",
   "metadata": {},
   "source": [
    "# Where Am I\n",
    "> http://www.usaco.org/index.php?page=viewproblem2&cpid=964\n",
    "### Read Inputs"
   ]
  },
  {
   "cell_type": "code",
   "execution_count": 12,
   "id": "c190049f-03a6-4d22-b26f-5cf0e4589ef2",
   "metadata": {},
   "outputs": [],
   "source": [
    "fin = StringIO('''7\n",
    "ABCDABC\n",
    "''')\n",
    "\n",
    "n = int(fin.readline().strip())\n",
    "m = fin.readline().strip()"
   ]
  },
  {
   "cell_type": "markdown",
   "id": "a789fa27-0a6d-4873-bf00-0f0f8e6dbdb6",
   "metadata": {},
   "source": [
    "### Find the Answer\n",
    "- Start from 1, checking to the whole length\n",
    "- For each possible answer, build up an unique set"
   ]
  },
  {
   "cell_type": "code",
   "execution_count": 13,
   "id": "665fc2b6-bd70-4373-81ec-65134c921ee7",
   "metadata": {},
   "outputs": [
    {
     "name": "stdout",
     "output_type": "stream",
     "text": [
      "4\n"
     ]
    }
   ],
   "source": [
    "for answer in range(1, n+1):\n",
    "    s = set()\n",
    "    for i in range(n-answer+1):\n",
    "        if m[i:answer+i] in s:\n",
    "            s.clear()\n",
    "            break\n",
    "        s.add(m[i:answer+i])\n",
    "    if s:\n",
    "        print(answer)\n",
    "        break"
   ]
  }
 ],
 "metadata": {
  "kernelspec": {
   "display_name": "Python 3",
   "language": "python",
   "name": "python3"
  },
  "language_info": {
   "codemirror_mode": {
    "name": "ipython",
    "version": 3
   },
   "file_extension": ".py",
   "mimetype": "text/x-python",
   "name": "python",
   "nbconvert_exporter": "python",
   "pygments_lexer": "ipython3",
   "version": "3.9.7"
  }
 },
 "nbformat": 4,
 "nbformat_minor": 5
}
