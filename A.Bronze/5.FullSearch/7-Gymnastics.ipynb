{
 "cells": [
  {
   "cell_type": "markdown",
   "metadata": {},
   "source": [
    "# [Cow Gymnastics](http://usaco.org/index.php?page=viewproblem2&cpid=963)\n",
    "---\n",
    "### Read Inputs"
   ]
  },
  {
   "cell_type": "code",
   "execution_count": 1,
   "metadata": {},
   "outputs": [
    {
     "name": "stdout",
     "output_type": "stream",
     "text": [
      "3 4\n"
     ]
    }
   ],
   "source": [
    "fin=StringIO('''3 4\n",
    "4 1 2 3\n",
    "4 1 3 2\n",
    "4 2 1 3''')\n",
    "\n",
    "k, n = map(int, fin.readline().split())\n",
    "print(k, n)"
   ]
  },
  {
   "cell_type": "markdown",
   "metadata": {
    "tags": []
   },
   "source": [
    "### Prepare the Better matrix"
   ]
  },
  {
   "cell_type": "code",
   "execution_count": 15,
   "metadata": {
    "tags": []
   },
   "outputs": [
    {
     "name": "stdout",
     "output_type": "stream",
     "text": [
      "[0, 0, 0, 0, 0]\n",
      "[0, 0, 0, 0, 0]\n",
      "[0, 0, 0, 0, 0]\n",
      "[0, 0, 0, 0, 0]\n",
      "[0, 0, 0, 0, 0]\n"
     ]
    }
   ],
   "source": [
    "better=[[0]*(n+1) for _ in range(n+1)]\n",
    "for row in better:\n",
    "    print(row)"
   ]
  },
  {
   "cell_type": "markdown",
   "metadata": {},
   "source": [
    "### Fill in who is ever better than whom"
   ]
  },
  {
   "cell_type": "code",
   "execution_count": 16,
   "metadata": {
    "tags": []
   },
   "outputs": [
    {
     "name": "stdout",
     "output_type": "stream",
     "text": [
      "[0, 0, 0, 0, 0]\n",
      "[0, 0, 1, 1, 0]\n",
      "[0, 1, 0, 1, 0]\n",
      "[0, 0, 1, 0, 0]\n",
      "[0, 1, 1, 1, 0]\n"
     ]
    }
   ],
   "source": [
    "for _ in range(k):\n",
    "    x = list(map(int, fin.readline().split()))\n",
    "    for i in range(n-1):\n",
    "        for j in range(i+1, n):\n",
    "            better[x[i]][x[j]] = 1\n",
    "for row in better:\n",
    "    print(row)"
   ]
  },
  {
   "cell_type": "markdown",
   "metadata": {},
   "source": [
    "### Count those A>B different than B>A"
   ]
  },
  {
   "cell_type": "code",
   "execution_count": 4,
   "metadata": {},
   "outputs": [
    {
     "name": "stdout",
     "output_type": "stream",
     "text": [
      "4\n"
     ]
    }
   ],
   "source": [
    "answer = 0\n",
    "for i in range(1, n):\n",
    "    for j in range(i+1, n+1):\n",
    "        if better[i][j] != better[j][i]:\n",
    "            answer += 1\n",
    "print(answer)"
   ]
  }
 ],
 "metadata": {
  "kernelspec": {
   "display_name": "Python 3",
   "language": "python",
   "name": "python3"
  },
  "language_info": {
   "codemirror_mode": {
    "name": "ipython",
    "version": 3
   },
   "file_extension": ".py",
   "mimetype": "text/x-python",
   "name": "python",
   "nbconvert_exporter": "python",
   "pygments_lexer": "ipython3",
   "version": "3.9.7"
  }
 },
 "nbformat": 4,
 "nbformat_minor": 4
}
