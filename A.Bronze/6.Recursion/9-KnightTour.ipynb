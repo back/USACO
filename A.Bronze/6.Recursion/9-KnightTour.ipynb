{
 "cells": [
  {
   "cell_type": "markdown",
   "metadata": {},
   "source": [
    "# Knight Tour\n",
    "\n",
    "A flood fill with **back tracing**\n",
    "\n",
    "### Study Case\n",
    "- [Knight Tour](https://bradfieldcs.com/algos/graphs/knights-tour/)\n",
    "\n",
    "### Prepare the Grid"
   ]
  },
  {
   "cell_type": "code",
   "execution_count": 1,
   "metadata": {},
   "outputs": [
    {
     "name": "stdout",
     "output_type": "stream",
     "text": [
      "[[0, 0, 0, 0, 0, 0, 0, 0],\n",
      " [0, 0, 0, 0, 0, 0, 0, 0],\n",
      " [0, 0, 0, 0, 0, 0, 0, 0],\n",
      " [0, 0, 0, 0, 0, 0, 0, 0],\n",
      " [0, 0, 0, 0, 0, 0, 0, 0],\n",
      " [0, 0, 0, 0, 0, 0, 0, 0],\n",
      " [0, 0, 0, 0, 0, 0, 0, 0],\n",
      " [0, 0, 0, 0, 0, 0, 0, 0]]\n"
     ]
    }
   ],
   "source": [
    "board = [[0] * 8 for _ in range(8)]\n",
    "pp(board)"
   ]
  },
  {
   "cell_type": "markdown",
   "metadata": {},
   "source": [
    "### Define the flood-fill moving function"
   ]
  },
  {
   "cell_type": "code",
   "execution_count": 2,
   "metadata": {},
   "outputs": [],
   "source": [
    "def explore(row, col, step):\n",
    "    if row<0 or row>7 or col<0 or col>7 or board[row][col]>0:\n",
    "        return False\n",
    "    board[row][col] = step\n",
    "    if step == 64:\n",
    "        return True\n",
    "    blocked = True\n",
    "    for dx, dy in [(-2,-1), (-2,1), \n",
    "                   (-1,-2), (-1,2),\n",
    "                   (1,-2),  (1,2),\n",
    "                   (2,-1),  (2,1)]:\n",
    "        if explore(row+dy, col+dx, step+1):\n",
    "            blocked = False\n",
    "    if blocked:\n",
    "        board[row][col]=0\n",
    "        return False\n",
    "    \n",
    "    return True"
   ]
  },
  {
   "cell_type": "markdown",
   "metadata": {},
   "source": [
    "### Start the Flood-Fill (DFS) from Any Cell\n",
    "- Unfortunately it will run for near **2 minutes**..."
   ]
  },
  {
   "cell_type": "code",
   "execution_count": 3,
   "metadata": {},
   "outputs": [
    {
     "name": "stdout",
     "output_type": "stream",
     "text": [
      "[[1, 10, 31, 64, 33, 26, 53, 62],\n",
      " [12, 7, 28, 25, 30, 63, 34, 51],\n",
      " [9, 2, 11, 32, 27, 52, 61, 54],\n",
      " [6, 13, 8, 29, 24, 35, 50, 41],\n",
      " [3, 18, 5, 36, 49, 40, 55, 60],\n",
      " [14, 21, 16, 23, 46, 57, 42, 39],\n",
      " [17, 4, 19, 48, 37, 44, 59, 56],\n",
      " [20, 15, 22, 45, 58, 47, 38, 43]]\n"
     ]
    }
   ],
   "source": [
    "explore(0,0,1)\n",
    "pp(board)"
   ]
  },
  {
   "cell_type": "markdown",
   "metadata": {},
   "source": [
    "### Optimization\n",
    "- [Warnsdroff Heuristic](https://en.wikipedia.org/wiki/Knight%27s_tour#Warnsdorff's_rule)"
   ]
  }
 ],
 "metadata": {
  "kernelspec": {
   "display_name": "Python 3",
   "language": "python",
   "name": "python3"
  },
  "language_info": {
   "codemirror_mode": {
    "name": "ipython",
    "version": 3
   },
   "file_extension": ".py",
   "mimetype": "text/x-python",
   "name": "python",
   "nbconvert_exporter": "python",
   "pygments_lexer": "ipython3",
   "version": "3.9.7"
  }
 },
 "nbformat": 4,
 "nbformat_minor": 4
}
