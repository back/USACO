{
 "cells": [
  {
   "cell_type": "markdown",
   "id": "090d49cb-8d87-4368-aa3b-50d527856f24",
   "metadata": {
    "tags": []
   },
   "source": [
    "# Back Tracking\n",
    "### Book Resource\n",
    "- [CPH - 5.3](https://usaco.guide/CPH.pdf#page=60)\n",
    "\n",
    "### Chessboard & Queens\n",
    "- https://cses.fi/problemset/task/1624\n",
    "- Please note that this can also be solved by **Permutations** method"
   ]
  },
  {
   "cell_type": "code",
   "execution_count": 3,
   "id": "d4328f05-46ea-4693-b428-b64f074eede3",
   "metadata": {},
   "outputs": [
    {
     "name": "stdout",
     "output_type": "stream",
     "text": [
      "65\n"
     ]
    }
   ],
   "source": [
    "fin=StringIO('''........\n",
    "........\n",
    "..*.....\n",
    "........\n",
    "........\n",
    ".....**.\n",
    "...*....\n",
    "........\n",
    "''')\n",
    "\n",
    "g = fin.readlines()\n",
    "d1 = [0] * 15      # columns under attacked diagonally (as from row 0)\n",
    "d2 = [0] * 15      # columns under attacked diagonally (as from row 0)\n",
    "c  = [0] * 8       # columns under attacked vertically (same column)\n",
    "\n",
    "ans = 0\n",
    "\n",
    "def dfs(r): # place queen in r-th row\n",
    "    global ans\n",
    "    if r == 8:\n",
    "        ans += 1\n",
    "    else:\n",
    "        for i in range(8):\n",
    "            if g[r][i] == '*': continue\n",
    "            if c[i] or d1[r + i] or d2[i - r + 7]: continue\n",
    "            c[i] = d1[r + i] = d2[i - r + 7] = 1\n",
    "            dfs(r + 1)\n",
    "            c[i] = d1[r + i] = d2[i - r + 7] = 0\n",
    "\n",
    "dfs(0)\n",
    "print(ans)"
   ]
  },
  {
   "cell_type": "markdown",
   "id": "ee4b1d6f-ce16-4b81-ae25-e18c58ab460a",
   "metadata": {
    "tags": []
   },
   "source": [
    "# Grid Paths\n",
    "- https://cses.fi/problemset/task/1625\n",
    "- [CPH - 5.3](https://usaco.guide/CPH.pdf#page=62)\n",
    "- Please make sure to understand the **3 optimizations**"
   ]
  }
 ],
 "metadata": {
  "kernelspec": {
   "display_name": "Python 3",
   "language": "python",
   "name": "python3"
  },
  "language_info": {
   "codemirror_mode": {
    "name": "ipython",
    "version": 3
   },
   "file_extension": ".py",
   "mimetype": "text/x-python",
   "name": "python",
   "nbconvert_exporter": "python",
   "pygments_lexer": "ipython3",
   "version": "3.9.7"
  }
 },
 "nbformat": 4,
 "nbformat_minor": 5
}
