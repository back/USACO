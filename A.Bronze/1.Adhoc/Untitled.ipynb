{
 "cells": [
  {
   "cell_type": "code",
   "execution_count": 13,
   "id": "e0ec934f-8f35-4496-8dda-a64a724dbe6b",
   "metadata": {},
   "outputs": [
    {
     "name": "stdout",
     "output_type": "stream",
     "text": [
      "0.1\n",
      "0.2\n",
      "0.3\n",
      "false\n"
     ]
    }
   ],
   "source": [
    "double a,b,c;\n",
    "a = 0.1;\n",
    "b = 0.2;\n",
    "c = 0.3;\n",
    "System.out.println(a );\n",
    "System.out.println(b);\n",
    "System.out.println(c);\n",
    "System.out.println(a + b == c);"
   ]
  }
 ],
 "metadata": {
  "kernelspec": {
   "display_name": "Java",
   "language": "java",
   "name": "java"
  },
  "language_info": {
   "codemirror_mode": "java",
   "file_extension": ".jshell",
   "mimetype": "text/x-java-source",
   "name": "Java",
   "pygments_lexer": "java",
   "version": "15.0.1+9-18"
  }
 },
 "nbformat": 4,
 "nbformat_minor": 5
}
