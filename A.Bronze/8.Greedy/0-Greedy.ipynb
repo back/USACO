{
 "cells": [
  {
   "cell_type": "markdown",
   "metadata": {},
   "source": [
    "# Greedy Algorithms\n",
    "\n",
    "Greedy does not refer to a single algorithm, but rather a way of thinking; there's no one way to do greedy algorithms. Hence, we use a selection of well-known examples to help you understand the greedy paradigm.\n",
    "\n",
    "> It's not the algorithm solving the puzzle, it's your brainwork doing it. -- Han.\n",
    "\n",
    "\n",
    "### Book Resources\n",
    "- [Yao's Notes](https://darrenyao.com/usacobook/java.pdf#page=41)\n",
    "- [Competitive Pragrammer's Handbook](https://usaco.guide/CPH.pdf#page=67) (**Coin Problem**)\n",
    "- [Principles of Algorithmic Problem Solving](https://usaco.guide/PAPS.pdf#page=153)\n",
    "- [Slide from Intro to Algorithms](https://www.cs.princeton.edu/~wayne/kleinberg-tardos/pdf/04GreedyAlgorithmsI.pdf)\n",
    "\n",
    "\n",
    "### Coin Problem\n",
    "- European Coin System\n",
    "  - {1,2,5,10,20,50,100,200}\n",
    "- Random Coin System\n",
    "  - {1,3,4} **?**\n",
    "\n",
    "\n",
    "### A Sample Problem to Study\n",
    "- [Mad Scientist](http://www.usaco.org/index.php?page=viewproblem2&cpid=1012)\n",
    "\n",
    "### More Problems from USACO\n",
    "- [Cow Tipping](http://www.usaco.org/index.php?page=viewproblem2&cpid=689)\n",
    "- [Even More Odd Photos](http://www.usaco.org/index.php?page=viewproblem2&cpid=1084)\n",
    "\n",
    "### Beyong Easy Level\n",
    "- [Out of Place](http://www.usaco.org/index.php?page=viewproblem2&cpid=785)\n",
    "- [Race](http://www.usaco.org/index.php?page=viewproblem2&cpid=989)\n",
    "\n",
    "### Extra Practice\n",
    "- [2 Sum](https://leetcode.com/problems/two-sum/)\n",
    "  - [Sum of Two Values](https://cses.fi/problemset/task/1640)\n",
    "- [3 Sum](https://leetcode.com/problems/3sum/)"
   ]
  },
  {
   "cell_type": "markdown",
   "metadata": {},
   "source": [
    "# Advanced Greedy Algorithms\n",
    "\n",
    "### Complicated Greedy Algorithms\n",
    "- Knapsack\n",
    "\n",
    "### Scheduling\n",
    "- 3 Strategies:\n",
    "  - shortest ones\n",
    "  - earliest ones\n",
    "  - ending fast ones\n",
    "- [Movie Festival](https://cses.fi/problemset/task/1629)\n",
    "- [Movie Festival II](https://cses.fi/problemset/task/1632)\n",
    "  \n",
    "### In-Class Exercise\n",
    "- Generate a 11-number array in random integers: 0~99\n",
    "  - Or use: [98, 52, 65, 7, 49, 55, 80, 83, 73, 75, 84]\n",
    "- Find a value **x** that minimizes the sum:\n",
    "  - $|a_1 − x| + |a_2 − x| + ··· + |a_n − x|$\n",
    "  - $(a_1 − x)^2 + (a_2 − x)^2 + ··· + (a_n − x)^2$\n",
    "- Oberve and compare the results with:\n",
    "  - Median of the array\n",
    "  - Mean of the array\n",
    "- Figure out why\n",
    "\n",
    "### A problem in Gold group\n",
    "- [HighCardLowCard](http://www.usaco.org/index.php?page=viewproblem2&cpid=573)"
   ]
  }
 ],
 "metadata": {
  "kernelspec": {
   "display_name": "Python 3",
   "language": "python",
   "name": "python3"
  },
  "language_info": {
   "codemirror_mode": {
    "name": "ipython",
    "version": 3
   },
   "file_extension": ".py",
   "mimetype": "text/x-python",
   "name": "python",
   "nbconvert_exporter": "python",
   "pygments_lexer": "ipython3",
   "version": "3.9.7"
  }
 },
 "nbformat": 4,
 "nbformat_minor": 4
}
