{
 "cells": [
  {
   "cell_type": "markdown",
   "metadata": {},
   "source": [
    "# Missing Number\n",
    "\n",
    "https://leetcode.com/problems/first-missing-positive/\n",
    "\n",
    "### Sample inputs"
   ]
  },
  {
   "cell_type": "code",
   "execution_count": 1,
   "metadata": {},
   "outputs": [],
   "source": [
    "int[] nums = {3,4,-1,1};"
   ]
  },
  {
   "cell_type": "markdown",
   "metadata": {},
   "source": [
    "### Simplest method but would be slow"
   ]
  },
  {
   "cell_type": "code",
   "execution_count": 2,
   "metadata": {},
   "outputs": [
    {
     "name": "stdout",
     "output_type": "stream",
     "text": [
      "2\n"
     ]
    }
   ],
   "source": [
    "for(int i=1; i <= nums.length+1; i++) {\n",
    "    boolean found = false;\n",
    "    for(int j : nums)\n",
    "        if(i == j) {\n",
    "            found = true;\n",
    "            break;\n",
    "        }\n",
    "    if (!found) {\n",
    "        System.out.println(i);\n",
    "        break;\n",
    "    }\n",
    "}"
   ]
  },
  {
   "cell_type": "markdown",
   "metadata": {},
   "source": [
    "### A better solution\n",
    "- Step I: re-arrange the list to put numbers into position as good as possible"
   ]
  },
  {
   "cell_type": "code",
   "execution_count": 8,
   "metadata": {},
   "outputs": [
    {
     "name": "stdout",
     "output_type": "stream",
     "text": [
      "[1, 4, 3, -1]\n"
     ]
    }
   ],
   "source": [
    "int n = nums.length;\n",
    "\n",
    "for (int i = 0; i < n; i++) {\n",
    "    int x = nums[i];\n",
    "    while (x != i + 1) {\n",
    "        if (x <= 0 || x >= n || x == nums[x-1])\n",
    "            break;\n",
    "        nums[i] = nums[x - 1];\n",
    "        nums[x - 1] = x;\n",
    "        x = nums[i];\n",
    "    }\n",
    "}\n",
    "\n",
    "System.out.println(Arrays.toString(nums));"
   ]
  },
  {
   "cell_type": "markdown",
   "metadata": {},
   "source": [
    "- Step II: look for the first out-of-position number"
   ]
  },
  {
   "cell_type": "code",
   "execution_count": 12,
   "metadata": {},
   "outputs": [
    {
     "name": "stdout",
     "output_type": "stream",
     "text": [
      "2\n"
     ]
    }
   ],
   "source": [
    "for (int i = 0; i < n; i++){\n",
    "    if (nums[i] != i + 1){\n",
    "        System.out.println(i+1);\n",
    "        break;\n",
    "    }\n",
    "}"
   ]
  },
  {
   "cell_type": "markdown",
   "metadata": {},
   "source": [
    "- Step III: Don't forget the case if all numbers are in position"
   ]
  },
  {
   "cell_type": "code",
   "execution_count": 10,
   "metadata": {},
   "outputs": [
    {
     "name": "stdout",
     "output_type": "stream",
     "text": [
      "5\n"
     ]
    }
   ],
   "source": [
    "System.out.println(n+1); //return n + 1; "
   ]
  }
 ],
 "metadata": {
  "kernelspec": {
   "display_name": "Java",
   "language": "java",
   "name": "java"
  },
  "language_info": {
   "codemirror_mode": "java",
   "file_extension": ".jshell",
   "mimetype": "text/x-java-source",
   "name": "Java",
   "pygments_lexer": "java",
   "version": "15.0.1+9-18"
  }
 },
 "nbformat": 4,
 "nbformat_minor": 4
}
