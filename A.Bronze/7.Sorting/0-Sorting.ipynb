{
 "cells": [
  {
   "cell_type": "markdown",
   "metadata": {
    "tags": []
   },
   "source": [
    "# Sorting\n",
    "\n",
    "- Bronze problems are designed that you shouldn't need a $\\mathcal{O}(N\\log N)$ time sort\n",
    "- repeatedly extracting the minimum in $\\mathcal{O}(N^2)$ time will always suffice.\n",
    "\n",
    "Is it possible to sort an array faster than in O(nlogn) time? It turns out that this\n",
    "is not possible when we restrict ourselves to sorting algorithms that are based on\n",
    "comparing array elements.\n",
    "\n",
    "\n",
    "### Book Resource\n",
    "- [CPH - 3](https://usaco.guide/CPH.pdf#page=35)\n",
    "\n",
    "### Methods\n",
    "- Slower ones needs double loop\n",
    "  - Bubble Sort\n",
    "  - Selection Sort\n",
    "  - Insertion Sort\n",
    "- Faster ones used by industry\n",
    "  - [Merge Sort](https://youtu.be/XaqR3G_NVoo) (video)\n",
    "  - [Quick Sort](https://youtu.be/ywWBy6J5gz8) (video)\n",
    "\n",
    "### Java APIs\n",
    "- [Custom Sort in Java](https://darrenyao.com/usacobook/cpp.pdf#page=34)\n",
    "  - [Arrays.sort](https://docs.oracle.com/javase/7/docs/api/java/util/Arrays.html#sort(java.lang.Object[])) --> on an array\n",
    "  - [Collections.sort](https://docs.oracle.com/javase/7/docs/api/java/util/Collections.html#sort(java.util.List)) --> on a list\n",
    "\n",
    "### Python\n",
    "- [Sorting How To](https://docs.python.org/3/howto/sorting.html)\n",
    "\n",
    "### C++\n",
    "- [Sort with Comparator](https://usaco.guide/CPH.pdf#page=40)\n",
    "\n",
    "---\n",
    "### A Python Shuffler (random sorting)"
   ]
  },
  {
   "cell_type": "code",
   "execution_count": 7,
   "metadata": {
    "tags": []
   },
   "outputs": [
    {
     "name": "stdout",
     "output_type": "stream",
     "text": [
      "['Jordan', 'Michael', 'Stark', 'Stephen', 'Strange', 'Tony']\n"
     ]
    }
   ],
   "source": [
    "x = [\"Tony\", \"Stark\", \"Michael\", \"Jordan\", \"Stephen\", \"Strange\"]\n",
    "x.sort()\n",
    "print(x)"
   ]
  },
  {
   "cell_type": "code",
   "execution_count": 13,
   "metadata": {},
   "outputs": [
    {
     "name": "stdout",
     "output_type": "stream",
     "text": [
      "['Strange', 'Michael', 'Stark', 'Jordan', 'Stephen', 'Tony']\n"
     ]
    }
   ],
   "source": [
    "x.sort(key=lambda x:randint(1,100))\n",
    "pp(x)"
   ]
  },
  {
   "cell_type": "markdown",
   "metadata": {},
   "source": [
    "### Problems to Study\n",
    "- [Kayaking](https://codeforces.com/contest/863/problem/B)\n",
    "- [Why Did the Cow Cross the Road III](http://www.usaco.org/index.php?page=viewproblem2&cpid=713)\n",
    "- [Angry Cows](http://www.usaco.org/index.php?page=viewproblem2&cpid=592)\n",
    "\n",
    "### Easy\n",
    "- [Movie Festival](https://cses.fi/problemset/task/1629)\n",
    "- [Restaurant Customers](https://cses.fi/problemset/task/1619)\n",
    "- [Lifeguards](http://www.usaco.org/index.php?page=viewproblem2&cpid=786)\n",
    "\n",
    "### Normal\n",
    "- [Rental Service](http://www.usaco.org/index.php?page=viewproblem2&cpid=787)\n",
    "- [Mountain View](http://www.usaco.org/index.php?page=viewproblem2&cpid=896)\n",
    "- [Stuck in a Rut](http://www.usaco.org/index.php?page=viewproblem2&cpid=1064)\n",
    "- [Splitting the Field](http://www.usaco.org/index.php?page=viewproblem2&cpid=645)\n",
    "- [The Smallest String Concatenation](https://codeforces.com/problemset/problem/632/C)\n",
    "- [Nezzar and Symmetric Array](https://codeforces.com/problemset/problem/1478/C)\n",
    "- [Correct Placement](https://codeforces.com/problemset/problem/1472/E)\n",
    "\n",
    "### Hard\n",
    "- [Triangles](http://www.usaco.org/index.php?page=viewproblem2&cpid=1015)\n",
    "- [Out Of Sorts](http://www.usaco.org/index.php?page=viewproblem2&cpid=834)\n",
    "- [Meetings](http://www.usaco.org/index.php?page=viewproblem2&cpid=967)"
   ]
  }
 ],
 "metadata": {
  "kernelspec": {
   "display_name": "Python 3",
   "language": "python",
   "name": "python3"
  },
  "language_info": {
   "codemirror_mode": {
    "name": "ipython",
    "version": 3
   },
   "file_extension": ".py",
   "mimetype": "text/x-python",
   "name": "python",
   "nbconvert_exporter": "python",
   "pygments_lexer": "ipython3",
   "version": "3.9.7"
  }
 },
 "nbformat": 4,
 "nbformat_minor": 4
}
