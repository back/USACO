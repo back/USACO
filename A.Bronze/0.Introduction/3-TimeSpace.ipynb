{
 "cells": [
  {
   "cell_type": "markdown",
   "id": "a33dada8-91a6-45d1-ad9a-d364135e6de6",
   "metadata": {},
   "source": [
    "# Time/Space Complexity\n",
    "\n",
    "In order to pass USACO, your program needs to finish running within a certain timeframe. This limit is 1 ~ 4 seconds for Java submissions. A conservative estimate for the number of operations the grading server can handle per second is $10^8$.\n",
    "\n",
    "## Big O Notation\n",
    "\n",
    "The worst-case complexity of processing data population of **n** as a function of (n)\n",
    "\n",
    "### $O(1)$\n",
    "The algorithm executes a constant number of operations\n",
    "\n",
    "### $O(n)$\n",
    "The execution time is linear to the processing population\n",
    "```Java\n",
    "for(int i = 1; i <= n; i++){\n",
    "    // constant time code her\n",
    "}\n",
    "```\n",
    "\n",
    "### $O(n^2)$\n",
    "The worst case of double loop\n",
    "```Java\n",
    "for(int i = 1; i <= n; i++){\n",
    "    for(int j = 1; j <= i; j++){\n",
    "        // constant time code here\n",
    "    }\n",
    "}\n",
    "\n",
    "```\n",
    "\n",
    "### Common Complexities and Constraints\n",
    "\n",
    "- Constant\n",
    "  - Mathematical formulas that just calculate an answer: O(1)\n",
    "  - Unordered set/map: O(1) per operation\n",
    "- Fast\n",
    "  - **Binary search**: O(log n)\n",
    "  - Ordered set/map or priority queue: O(log n) per operation\n",
    "- Common\n",
    "  - Reading in n items of input: O(n)\n",
    "  - Iterating through an array or a list of n elements: O(n)\n",
    "  - Sorting: usually O(n log n) for default sorting algorithms (mergesort, quicksort)\n",
    "- Slow\n",
    "  - Iterating through all subsets of size k of the input elements: $O(n^k)$\n",
    "    - For example, iterating through all triplets is $O(n^3)$.\n",
    "  - Iterating through all permutations: $O(n!)$\n",
    "\n",
    "### Some Rough Estimations for Contest\n",
    "- Be special note the 7500 threshold, that's the maximum test data can survive the double-loop brutal force!"
   ]
  },
  {
   "cell_type": "markdown",
   "id": "a15e9c58-ed1c-463f-af5f-35e06ba5a520",
   "metadata": {
    "tags": []
   },
   "source": [
    "| n                      | Possible complexities |\n",
    "|------------------------|-----------------------|\n",
    "| $ n \\le 10 $           | $ \\mathcal{O}(n!)$, $\\mathcal{O}(n^7)$, $\\mathcal{O}(n^6)$ |\n",
    "| $ n \\le 20 $           | $ \\mathcal{O}(2^n \\cdot n)$, $\\mathcal{O}(n^5)$            |\n",
    "| $ n \\le 80 $           | $ \\mathcal{O}(n^4)$                                        |\n",
    "| $ n \\le 400 $          | $ \\mathcal{O}(n^3)$                                        |\n",
    "| $ n \\le 7500 $         | $ \\mathcal{O}(n^2)$                                        |\n",
    "| $ n \\le 7 \\cdot 10^4 $ | $ \\mathcal{O}(n \\sqrt n)$                                  |\n",
    "| $ n \\le 5 \\cdot 10^5 $ | $ \\mathcal{O}(n \\log n)$                                   |\n",
    "| $ n \\le 5 \\cdot 10^6 $ | $ \\mathcal{O}(n)$                                          |\n",
    "| $ n \\le 10^{18} $      | $ \\mathcal{O}(\\log^2 n)$, $\\mathcal{O}(\\log n)$, $\\mathcal{O}(1)$ |"
   ]
  },
  {
   "cell_type": "markdown",
   "id": "4aa924fc-8f03-48ec-83f7-f7acd0f1a112",
   "metadata": {},
   "source": [
    "### Youtube Shorts\n",
    "\n",
    "- [BigO by William Fiset](https://youtu.be/zUUkiEllHG0)\n",
    "- [CS Dojo by Brilliant.org](https://youtu.be/D6xkbGLQesk)"
   ]
  }
 ],
 "metadata": {
  "kernelspec": {
   "display_name": "Python 3",
   "language": "python",
   "name": "python3"
  },
  "language_info": {
   "codemirror_mode": {
    "name": "ipython",
    "version": 3
   },
   "file_extension": ".py",
   "mimetype": "text/x-python",
   "name": "python",
   "nbconvert_exporter": "python",
   "pygments_lexer": "ipython3",
   "version": "3.9.7"
  }
 },
 "nbformat": 4,
 "nbformat_minor": 5
}
