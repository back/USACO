{
 "cells": [
  {
   "cell_type": "markdown",
   "id": "14a69586-440d-40b6-bdda-c2d8e49bd180",
   "metadata": {},
   "source": [
    "# Online Judgement Machines\n",
    "- [CSES](https://cses.fi/problemset/)\n",
    "- [LeetCode](https://leetcode.com/problemset/all/)\n",
    "- [UVa Online](https://onlinejudge.org/index.php?option=com_onlinejudge&Itemid=8)\n",
    "- [Open Kattis](https://open.kattis.com/)\n",
    "\n",
    "### Sample Problems\n",
    "- [Two Sum](https://leetcode.com/problems/two-sum/)\n",
    "- [BasketBall One-on-One](https://open.kattis.com/contests/mcpc19open/problems/basketballoneonone)\n",
    "\n",
    "# Running Code Online\n",
    "- [Replit](https://repl.it/)\n",
    "- [Judge0](https://ide.judge0.com)\n",
    "- [IDE1](https://ideone.com)\n",
    "- [CSA Academy](https://csacademy.com/workspace/)\n",
    "- [Goorm](https://ide.goorm.io/)\n",
    "\n",
    "You can also share code with [pastebin](https://pastebin.com) or [hastebin](https://hastebin.com).\n",
    "\n",
    "# Running Code Locally\n",
    "- Java\n",
    "  - JetBrains - [IntelliJ IDEA Community](https://www.jetbrains.com/idea/)\n",
    "  - Eclipse Foundation - [Eclipse](https://www.eclipse.org/eclipseide/)\n",
    "  - King's College London - [BlueJ](https://bluej.org/)\n",
    "- C/C++\n",
    "  - Microsoft - [Visual Studio](https://visualstudio.microsoft.com/zh-hans/free-developer-offers/)\n",
    "  \n",
    "# AP Computer Science A\n",
    "- [Barron's Book 7e](https://www.mooreschools.com/cms/lib/OK01000367/Centricity/Domain/1996/book.pdf)"
   ]
  }
 ],
 "metadata": {
  "kernelspec": {
   "display_name": "Python 3",
   "language": "python",
   "name": "python3"
  },
  "language_info": {
   "codemirror_mode": {
    "name": "ipython",
    "version": 3
   },
   "file_extension": ".py",
   "mimetype": "text/x-python",
   "name": "python",
   "nbconvert_exporter": "python",
   "pygments_lexer": "ipython3",
   "version": "3.9.7"
  }
 },
 "nbformat": 4,
 "nbformat_minor": 5
}
