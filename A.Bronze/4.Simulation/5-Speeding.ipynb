{
 "cells": [
  {
   "cell_type": "markdown",
   "id": "80f5df73-e859-4d1f-b82d-76b215b6577a",
   "metadata": {},
   "source": [
    "# Speeding\n",
    "- http://www.usaco.org/index.php?page=viewproblem2&cpid=568"
   ]
  },
  {
   "cell_type": "code",
   "execution_count": 3,
   "id": "f107dbeb-1d7b-4449-a375-30583483fc7e",
   "metadata": {},
   "outputs": [
    {
     "name": "stdout",
     "output_type": "stream",
     "text": [
      "3 3\n"
     ]
    }
   ],
   "source": [
    "fin=StringIO('''3 3\n",
    "40 75\n",
    "50 35\n",
    "10 45\n",
    "40 76\n",
    "20 30\n",
    "40 40\n",
    "''')\n",
    "\n",
    "#with open('shell.in') as fin:\n",
    "#with open('shell.out', 'w') as fout:\n",
    "\n",
    "n, m = map(int, fin.readline().split())\n",
    "print(n, m)"
   ]
  },
  {
   "cell_type": "markdown",
   "id": "bca5f405-4579-437f-9fa7-1a1c0a887599",
   "metadata": {},
   "source": [
    "### Ideas - Build complete speed/drive arrays"
   ]
  },
  {
   "cell_type": "code",
   "execution_count": 4,
   "id": "c0b39920-47ad-4e89-93e5-830e1b6f3565",
   "metadata": {},
   "outputs": [
    {
     "name": "stdout",
     "output_type": "stream",
     "text": [
      "[75, 75, 75, 75, 75, 75, 75, 75, 75, 75, 75, 75, 75, 75, 75, 75, 75, 75, 75, 75, 75, 75, 75, 75, 75, 75, 75, 75, 75, 75, 75, 75, 75, 75, 75, 75, 75, 75, 75, 75, 35, 35, 35, 35, 35, 35, 35, 35, 35, 35, 35, 35, 35, 35, 35, 35, 35, 35, 35, 35, 35, 35, 35, 35, 35, 35, 35, 35, 35, 35, 35, 35, 35, 35, 35, 35, 35, 35, 35, 35, 35, 35, 35, 35, 35, 35, 35, 35, 35, 35, 45, 45, 45, 45, 45, 45, 45, 45, 45, 45]\n",
      "[76, 76, 76, 76, 76, 76, 76, 76, 76, 76, 76, 76, 76, 76, 76, 76, 76, 76, 76, 76, 76, 76, 76, 76, 76, 76, 76, 76, 76, 76, 76, 76, 76, 76, 76, 76, 76, 76, 76, 76, 30, 30, 30, 30, 30, 30, 30, 30, 30, 30, 30, 30, 30, 30, 30, 30, 30, 30, 30, 30, 40, 40, 40, 40, 40, 40, 40, 40, 40, 40, 40, 40, 40, 40, 40, 40, 40, 40, 40, 40, 40, 40, 40, 40, 40, 40, 40, 40, 40, 40, 40, 40, 40, 40, 40, 40, 40, 40, 40, 40]\n"
     ]
    }
   ],
   "source": [
    "speed=[]\n",
    "for i in range(n):\n",
    "    miles, maxSpeed = map(int, fin.readline().split())\n",
    "    speed.extend( [maxSpeed] * miles )\n",
    "\n",
    "drive=[]\n",
    "for i in range(m):\n",
    "    miles, maxSpeed = map(int, fin.readline().split())\n",
    "    drive.extend( [maxSpeed] * miles )\n",
    "\n",
    "print(speed)\n",
    "print(drive)"
   ]
  },
  {
   "cell_type": "code",
   "execution_count": 5,
   "id": "6f69ca2d-fdfc-4dcc-8cad-0cfd6b41e6b2",
   "metadata": {},
   "outputs": [
    {
     "name": "stdout",
     "output_type": "stream",
     "text": [
      "[1, 1, 1, 1, 1, 1, 1, 1, 1, 1, 1, 1, 1, 1, 1, 1, 1, 1, 1, 1, 1, 1, 1, 1, 1, 1, 1, 1, 1, 1, 1, 1, 1, 1, 1, 1, 1, 1, 1, 1, 0, 0, 0, 0, 0, 0, 0, 0, 0, 0, 0, 0, 0, 0, 0, 0, 0, 0, 0, 0, 5, 5, 5, 5, 5, 5, 5, 5, 5, 5, 5, 5, 5, 5, 5, 5, 5, 5, 5, 5, 5, 5, 5, 5, 5, 5, 5, 5, 5, 5, 0, 0, 0, 0, 0, 0, 0, 0, 0, 0]\n",
      "5\n"
     ]
    }
   ],
   "source": [
    "overSpeed = [ a-b if a > b else 0 for a, b in zip(drive, speed)]\n",
    "print ( overSpeed )\n",
    "print ( max(overSpeed) )"
   ]
  },
  {
   "cell_type": "markdown",
   "id": "ddff6662-3d15-4f4b-b913-de33b3d90c60",
   "metadata": {},
   "source": [
    "### Simplified Code - build 1 list is enough"
   ]
  },
  {
   "cell_type": "code",
   "execution_count": 4,
   "id": "41d9ef56-950c-412f-bdcc-a1d0337dc17c",
   "metadata": {},
   "outputs": [
    {
     "name": "stdout",
     "output_type": "stream",
     "text": [
      "5\n"
     ]
    }
   ],
   "source": [
    "travel = [0] * 100\n",
    "\n",
    "pos = 0\n",
    "for _ in range(n):\n",
    "    seg, spd = map(int, fin.readline().split())\n",
    "    seg_end = pos + seg\n",
    "    while pos < seg_end:\n",
    "        travel[pos] = spd\n",
    "        pos += 1\n",
    "        \n",
    "pos = 0\n",
    "ans = 0\n",
    "for _ in range(m):\n",
    "    seg, spd = map(int, fin.readline().split())\n",
    "    seg_end = pos + seg\n",
    "    while pos < seg_end:\n",
    "        if spd - travel[pos] > ans:\n",
    "            ans = spd - travel[pos]\n",
    "        pos += 1\n",
    "\n",
    "print(ans)"
   ]
  }
 ],
 "metadata": {
  "kernelspec": {
   "display_name": "Python 3",
   "language": "python",
   "name": "python3"
  },
  "language_info": {
   "codemirror_mode": {
    "name": "ipython",
    "version": 3
   },
   "file_extension": ".py",
   "mimetype": "text/x-python",
   "name": "python",
   "nbconvert_exporter": "python",
   "pygments_lexer": "ipython3",
   "version": "3.9.7"
  }
 },
 "nbformat": 4,
 "nbformat_minor": 5
}
