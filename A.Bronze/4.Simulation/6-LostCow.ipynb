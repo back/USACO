{
 "cells": [
  {
   "cell_type": "markdown",
   "id": "8d22909b-0db1-4ebf-af61-ca55a763b630",
   "metadata": {},
   "source": [
    "# The Lost Cow\n",
    "- http://www.usaco.org/index.php?page=viewproblem2&cpid=735"
   ]
  },
  {
   "cell_type": "code",
   "execution_count": 1,
   "id": "a8f418f5-1a15-447f-910f-e43b6b163a95",
   "metadata": {},
   "outputs": [
    {
     "name": "stdout",
     "output_type": "stream",
     "text": [
      "1 True 0\n",
      "2 False 2\n",
      "4 True 6\n",
      "9\n"
     ]
    }
   ],
   "source": [
    "x, y = 3, 6\n",
    "\n",
    "distance = 1\n",
    "travelled = 0\n",
    "move_right = True\n",
    "\n",
    "while True:\n",
    "    print (distance, move_right, travelled)\n",
    "    if move_right:\n",
    "        if x > y or x + distance < y:\n",
    "            travelled += distance * 2\n",
    "            distance += distance\n",
    "            move_right = False\n",
    "        else:\n",
    "            travelled += y - x\n",
    "            break\n",
    "    else:\n",
    "        if x < y or x - distance > y:\n",
    "            travelled += distance * 2\n",
    "            distance += distance\n",
    "            move_right = True\n",
    "        else:\n",
    "            travelled += x - y\n",
    "            break\n",
    "        \n",
    "print(travelled)"
   ]
  }
 ],
 "metadata": {
  "kernelspec": {
   "display_name": "Python 3",
   "language": "python",
   "name": "python3"
  },
  "language_info": {
   "codemirror_mode": {
    "name": "ipython",
    "version": 3
   },
   "file_extension": ".py",
   "mimetype": "text/x-python",
   "name": "python",
   "nbconvert_exporter": "python",
   "pygments_lexer": "ipython3",
   "version": "3.9.7"
  }
 },
 "nbformat": 4,
 "nbformat_minor": 5
}
