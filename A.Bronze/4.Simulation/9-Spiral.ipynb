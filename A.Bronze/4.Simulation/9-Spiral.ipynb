{
 "cells": [
  {
   "cell_type": "markdown",
   "id": "a9490c5a-a2c0-43ed-8d6e-f596773f0874",
   "metadata": {},
   "source": [
    "# Spirale\n",
    "> https://dmoj.ca/problem/coci17c5p2"
   ]
  },
  {
   "cell_type": "markdown",
   "id": "a7882711-ba02-4d04-a9da-9be2051295d8",
   "metadata": {},
   "source": [
    "Simulate the spiral around each starting position. For every cell in our solution we will choose the minimum number that visit this cell.\n",
    "> Time Complexity: $\\mathcal{O}(K*N*M)$"
   ]
  },
  {
   "cell_type": "markdown",
   "id": "d3588ea9-a38c-4e5d-a3a2-2317becfc4d7",
   "metadata": {},
   "source": [
    "```C++\n",
    "#include <bits/stdc++.h>\n",
    "\n",
    "using namespace std;\n",
    "using ll = long long;\n",
    "using ld = long double;\n",
    "\n",
    "vector<int> ui = {0, -1, 0, 1},\n",
    "            uj = {1, 0, -1, 0},\n",
    "            di = {0, -1, 0, 1},\n",
    "            dj = {-1, 0, 1, 0};\n",
    "int mat[50][50], cnt = 0, n, m, k, cur = 0;\n",
    "\n",
    "void fn (int x, int y) {\n",
    "    if (x < 0 || x >= m || y < 0 || y >= n) return;\n",
    "    cnt++;\n",
    "    mat[y][x] = min(mat[y][x], cur);\n",
    "}\n",
    "\n",
    "int main () {\n",
    "    cin >> n >> m >> k;\n",
    "    int x, y, z;\n",
    "    vector<int> ti, tj;\n",
    "    for (int i = 0; i < 50; i++) {\n",
    "        for (int j = 0; j < 50; j++) {\n",
    "            mat[i][j] = 1e9;\n",
    "        }\n",
    "    }\n",
    "    for (int i = 0; i < k; i++) {\n",
    "        cin >> x >> y >> z;\n",
    "        x--; y--;\n",
    "        swap(x, y);\n",
    "        if (z == 0) {\n",
    "            ti = di;\n",
    "            tj = dj;\n",
    "        } else {\n",
    "            ti = ui;\n",
    "            tj = uj;\n",
    "        }\n",
    "        int kk = 1;\n",
    "        int di = 1;\n",
    "        int c = 2;\n",
    "        cur = 1;\n",
    "        cnt = 0;\n",
    "        fn(x, y);\n",
    "        while (true) {\n",
    "            if (cnt >= n * m) break;\n",
    "            if (c == 0) {\n",
    "                di++;\n",
    "                c = 2;\n",
    "            }\n",
    "            for (int va = 0; va < di; va++) {\n",
    "                x += tj[kk];\n",
    "                y += ti[kk];\n",
    "                cur++;\n",
    "                fn(x, y);\n",
    "            }\n",
    "            c--;\n",
    "            kk = (kk + 1) % 4;\n",
    "        }\n",
    "    }\n",
    "    for (int i = 0; i < n; i++) {\n",
    "        for (int j = 0; j < m; j++) {\n",
    "            cout << mat[i][j] << (j == m - 1 ? '\\n' : ' ');\n",
    "        }\n",
    "    }\n",
    "}\n",
    "```"
   ]
  }
 ],
 "metadata": {
  "kernelspec": {
   "display_name": "Python 3",
   "language": "python",
   "name": "python3"
  },
  "language_info": {
   "codemirror_mode": {
    "name": "ipython",
    "version": 3
   },
   "file_extension": ".py",
   "mimetype": "text/x-python",
   "name": "python",
   "nbconvert_exporter": "python",
   "pygments_lexer": "ipython3",
   "version": "3.9.7"
  }
 },
 "nbformat": 4,
 "nbformat_minor": 5
}
