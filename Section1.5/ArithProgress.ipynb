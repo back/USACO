{
 "cells": [
  {
   "cell_type": "markdown",
   "metadata": {},
   "source": [
    "# Section 1.5 - Arithmetic Progression\n",
    "---\n",
    "Read Inputs\n",
    "---"
   ]
  },
  {
   "cell_type": "code",
   "execution_count": 60,
   "metadata": {},
   "outputs": [
    {
     "name": "stdout",
     "output_type": "stream",
     "text": [
      "5 7\n"
     ]
    }
   ],
   "source": [
    "n, m = 5, 7\n",
    "#n, m = 18, 100\n",
    "#n, m = 21, 200\n",
    "#n, m = 22, 250\n",
    "\n",
    "\n",
    "print(n, m)"
   ]
  },
  {
   "cell_type": "markdown",
   "metadata": {},
   "source": [
    "---\n",
    "Build up Square Summaries\n",
    "---"
   ]
  },
  {
   "cell_type": "code",
   "execution_count": 62,
   "metadata": {},
   "outputs": [
    {
     "name": "stdout",
     "output_type": "stream",
     "text": [
      "34\n",
      "[0, 1, 2, 4, 5, 8, 9, 10, 13, 16, 17, 18, 20, 25, 26, 29, 32, 34, 36, 37, 40, 41, 45, 49, 50, 52, 53, 58, 61, 65, 72, 74, 85, 98]\n"
     ]
    }
   ],
   "source": [
    "sqset = set()\n",
    "for i in range(m+1):\n",
    "    for j in range(i,m+1):\n",
    "        sqset.add(i*i + j*j)\n",
    "        \n",
    "\n",
    "print(len(sqset))\n",
    "print(sorted(sqset))"
   ]
  },
  {
   "cell_type": "markdown",
   "metadata": {},
   "source": [
    "---\n",
    "Looking for the Sequences\n",
    "---"
   ]
  },
  {
   "cell_type": "code",
   "execution_count": 63,
   "metadata": {},
   "outputs": [
    {
     "name": "stdout",
     "output_type": "stream",
     "text": [
      "[(1, 4), (2, 8), (1, 12), (37, 4), (5, 12), (29, 8), (13, 12), (17, 12), (5, 20), (2, 24)]\n",
      "0.0\n"
     ]
    }
   ],
   "source": [
    "start = time()\n",
    "\n",
    "result = []\n",
    "for a in sqset:\n",
    "    for step in range(1, a//(n-1)+1):\n",
    "        checks = n\n",
    "        b = a - step\n",
    "        while b in sqset:\n",
    "            if checks == 2:\n",
    "                result.append((b, step))\n",
    "                break\n",
    "            checks -= 1\n",
    "            b -= step\n",
    "            \n",
    "\n",
    "print(result)\n",
    "print(time() - start)"
   ]
  },
  {
   "cell_type": "markdown",
   "metadata": {},
   "source": [
    "---\n",
    "Sorting the results for final answer\n",
    "---"
   ]
  },
  {
   "cell_type": "code",
   "execution_count": 64,
   "metadata": {},
   "outputs": [
    {
     "name": "stdout",
     "output_type": "stream",
     "text": [
      "1 4\n",
      "37 4\n",
      "2 8\n",
      "29 8\n",
      "1 12\n",
      "5 12\n",
      "13 12\n",
      "17 12\n",
      "5 20\n",
      "2 24\n"
     ]
    }
   ],
   "source": [
    "from operator import itemgetter\n",
    "if result:\n",
    "    result.sort(key=itemgetter(1))\n",
    "    for item in result:\n",
    "        print('%s %s' % (item[0], item[1]))\n",
    "else:\n",
    "    print('NONE')"
   ]
  }
 ],
 "metadata": {
  "kernelspec": {
   "display_name": "Python 3",
   "language": "python",
   "name": "python3"
  },
  "language_info": {
   "codemirror_mode": {
    "name": "ipython",
    "version": 3
   },
   "file_extension": ".py",
   "mimetype": "text/x-python",
   "name": "python",
   "nbconvert_exporter": "python",
   "pygments_lexer": "ipython3",
   "version": "3.8.3"
  }
 },
 "nbformat": 4,
 "nbformat_minor": 4
}
