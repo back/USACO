{
 "cells": [
  {
   "cell_type": "markdown",
   "metadata": {},
   "source": [
    "# (Valid Parentheses)\n",
    "https://leetcode.com/problems/valid-parentheses/\n",
    "\n",
    "---\n",
    "Prepare a lookup dictionary/map\n",
    "---"
   ]
  },
  {
   "cell_type": "code",
   "execution_count": 12,
   "metadata": {},
   "outputs": [
    {
     "name": "stdout",
     "output_type": "stream",
     "text": [
      "{')': '(', ']': '[', '}': '{'}\n"
     ]
    }
   ],
   "source": [
    "d = dict(zip(')]}', '([{'))\n",
    "print(d)"
   ]
  },
  {
   "cell_type": "markdown",
   "metadata": {},
   "source": [
    "---\n",
    "Checking with a **stack** method\n",
    "---"
   ]
  },
  {
   "cell_type": "code",
   "execution_count": 13,
   "metadata": {},
   "outputs": [],
   "source": [
    "def check(s):\n",
    "    stack=[]\n",
    "    for c in s:\n",
    "        if c in '([{':\n",
    "            stack.append(c)\n",
    "        else:\n",
    "            if stack and stack[-1] == d[c]:\n",
    "                stack.pop()\n",
    "            else:\n",
    "                return False\n",
    "    return not stack"
   ]
  },
  {
   "cell_type": "markdown",
   "metadata": {},
   "source": [
    "---\n",
    "Test the method\n",
    "---"
   ]
  },
  {
   "cell_type": "code",
   "execution_count": 14,
   "metadata": {},
   "outputs": [
    {
     "name": "stdout",
     "output_type": "stream",
     "text": [
      "(]  ->  False\n",
      "(){}[]  ->  True\n",
      "{()[]}  ->  True\n",
      "({)}[]  ->  False\n",
      "{[]({[]([[{()}]])})}  ->  True\n"
     ]
    }
   ],
   "source": [
    "for s in ['(]', '(){}[]', '{()[]}', '({)}[]', '{[]({[]([[{()}]])})}']:\n",
    "    print(s, \" -> \", check(s))"
   ]
  }
 ],
 "metadata": {
  "kernelspec": {
   "display_name": "Python 3",
   "language": "python",
   "name": "python3"
  },
  "language_info": {
   "codemirror_mode": {
    "name": "ipython",
    "version": 3
   },
   "file_extension": ".py",
   "mimetype": "text/x-python",
   "name": "python",
   "nbconvert_exporter": "python",
   "pygments_lexer": "ipython3",
   "version": "3.8.3"
  }
 },
 "nbformat": 4,
 "nbformat_minor": 4
}
