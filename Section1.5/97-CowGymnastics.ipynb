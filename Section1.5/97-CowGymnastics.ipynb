{
 "cells": [
  {
   "cell_type": "markdown",
   "metadata": {},
   "source": [
    "# [Cow Gymnastics](http://usaco.org/index.php?page=viewproblem2&cpid=963)\n",
    "---\n",
    "### Read Inputs"
   ]
  },
  {
   "cell_type": "code",
   "execution_count": null,
   "metadata": {},
   "outputs": [],
   "source": [
    "fin=StringIO('''3 4\n",
    "4 1 2 3\n",
    "4 1 3 2\n",
    "4 2 1 3''')\n",
    "\n",
    "k, n = map(int, fin.readline().split())\n",
    "print(k, n)"
   ]
  },
  {
   "cell_type": "markdown",
   "metadata": {},
   "source": [
    "---\n",
    "### Prepare the Better matrix"
   ]
  },
  {
   "cell_type": "code",
   "execution_count": null,
   "metadata": {},
   "outputs": [],
   "source": [
    "better=[[0]*(n+1) for _ in range(n+1)]\n",
    "for row in better:\n",
    "    print(row)"
   ]
  },
  {
   "cell_type": "markdown",
   "metadata": {},
   "source": [
    "---\n",
    "### Fill in who is ever better than whom"
   ]
  },
  {
   "cell_type": "code",
   "execution_count": null,
   "metadata": {},
   "outputs": [],
   "source": [
    "for _ in range(k):\n",
    "    x = list(map(int, fin.readline().split()))\n",
    "    for i in range(n-1):\n",
    "        for j in range(i+1, n):\n",
    "            better[x[i]][x[j]] = 1\n",
    "for row in better:\n",
    "    print(row)"
   ]
  },
  {
   "cell_type": "markdown",
   "metadata": {},
   "source": [
    "---\n",
    "### Count those A>B different than B>A"
   ]
  },
  {
   "cell_type": "code",
   "execution_count": null,
   "metadata": {},
   "outputs": [],
   "source": [
    "answer = 0\n",
    "for i in range(1, n):\n",
    "    for j in range(i+1, n+1):\n",
    "        if better[i][j] != better[j][i]:\n",
    "            answer += 1\n",
    "print(answer)"
   ]
  }
 ],
 "metadata": {
  "kernelspec": {
   "display_name": "Python 3",
   "language": "python",
   "name": "python3"
  },
  "language_info": {
   "codemirror_mode": {
    "name": "ipython",
    "version": 3
   },
   "file_extension": ".py",
   "mimetype": "text/x-python",
   "name": "python",
   "nbconvert_exporter": "python",
   "pygments_lexer": "ipython3",
   "version": "3.8.3"
  }
 },
 "nbformat": 4,
 "nbformat_minor": 4
}
