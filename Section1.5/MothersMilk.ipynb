{
 "cells": [
  {
   "cell_type": "markdown",
   "metadata": {},
   "source": [
    "# Section 1.5 - Monther's Milk\n",
    "---\n",
    "Read Inputs\n",
    "---"
   ]
  },
  {
   "cell_type": "code",
   "execution_count": 4,
   "metadata": {},
   "outputs": [
    {
     "ename": "AttributeError",
     "evalue": "'tuple' object has no attribute 'append'",
     "output_type": "error",
     "traceback": [
      "\u001b[1;31m---------------------------------------------------------------------------\u001b[0m",
      "\u001b[1;31mAttributeError\u001b[0m                            Traceback (most recent call last)",
      "\u001b[1;32m<ipython-input-4-a6b3ebe688ab>\u001b[0m in \u001b[0;36m<module>\u001b[1;34m\u001b[0m\n\u001b[0;32m      2\u001b[0m \u001b[1;31m#cap = [8, 9, 10]\u001b[0m\u001b[1;33m\u001b[0m\u001b[1;33m\u001b[0m\u001b[1;33m\u001b[0m\u001b[0m\n\u001b[0;32m      3\u001b[0m \u001b[1;33m\u001b[0m\u001b[0m\n\u001b[1;32m----> 4\u001b[1;33m \u001b[0mcap\u001b[0m\u001b[1;33m.\u001b[0m\u001b[0mappend\u001b[0m\u001b[1;33m(\u001b[0m\u001b[1;36m7\u001b[0m\u001b[1;33m)\u001b[0m\u001b[1;33m\u001b[0m\u001b[1;33m\u001b[0m\u001b[0m\n\u001b[0m\u001b[0;32m      5\u001b[0m \u001b[0mprint\u001b[0m\u001b[1;33m(\u001b[0m\u001b[0mcap\u001b[0m\u001b[1;33m)\u001b[0m\u001b[1;33m\u001b[0m\u001b[1;33m\u001b[0m\u001b[0m\n\u001b[0;32m      6\u001b[0m \u001b[1;33m\u001b[0m\u001b[0m\n",
      "\u001b[1;31mAttributeError\u001b[0m: 'tuple' object has no attribute 'append'"
     ]
    }
   ],
   "source": [
    "cap = (2, 5, 10)\n",
    "#cap = [8, 9, 10]\n",
    "\n",
    "cap.append(7)\n",
    "\n",
    "\n",
    "HashSet<String> status = new HashSet<String>();\n",
    "\n",
    "list[0] + \",\" + list[1] + \",\" + list[2];\n",
    "\n",
    "print(cap)\n",
    "\n",
    "vol = [0, 0, cap[2]]"
   ]
  },
  {
   "cell_type": "markdown",
   "metadata": {},
   "source": [
    "---\n",
    "A recursive \"pouring\" method\n",
    "---"
   ]
  },
  {
   "cell_type": "code",
   "execution_count": 2,
   "metadata": {},
   "outputs": [
    {
     "name": "stdout",
     "output_type": "stream",
     "text": [
      "(0, 5, 5)\n",
      "(2, 3, 5)\n",
      "(0, 3, 7)\n",
      "(0, 0, 10)\n",
      "(2, 0, 8)\n",
      "(0, 2, 8)\n",
      "(2, 2, 6)\n",
      "(0, 4, 6)\n",
      "(2, 4, 4)\n",
      "(1, 5, 4)\n",
      "(1, 0, 9)\n",
      "(0, 1, 9)\n",
      "(2, 1, 7)\n",
      "(2, 5, 3)\n",
      "{5, 6, 7, 8, 9, 10}\n"
     ]
    }
   ],
   "source": [
    "answer = set()\n",
    "status = set()\n",
    "\n",
    "def pour(vol, fromIndex, toIndex):\n",
    "    p = min(vol[fromIndex],  cap[toIndex] - vol[toIndex])\n",
    "    if p:\n",
    "        newVol = vol.copy()\n",
    "        newVol[toIndex] += p\n",
    "        newVol[fromIndex] -= p\n",
    "        \n",
    "        if newVol[0] == 0:\n",
    "            answer.add(newVol[2])\n",
    "        \n",
    "        x = tuple(newVol)\n",
    "        if x not in status:\n",
    "            status.add(x)\n",
    "            print(sta)\n",
    "            otherIndex = 3 - fromIndex - toIndex\n",
    "            pour(newVol, toIndex,    otherIndex)\n",
    "            pour(newVol, otherIndex, toIndex)\n",
    "            pour(newVol, fromIndex,  otherIndex)\n",
    "            pour(newVol, otherIndex, fromIndex)\n",
    "            \n",
    "pour(vol, 2, 1)\n",
    "pour(vol, 2, 0)\n",
    "\n",
    "print(answer)"
   ]
  }
 ],
 "metadata": {
  "kernelspec": {
   "display_name": "Python 3",
   "language": "python",
   "name": "python3"
  },
  "language_info": {
   "codemirror_mode": {
    "name": "ipython",
    "version": 3
   },
   "file_extension": ".py",
   "mimetype": "text/x-python",
   "name": "python",
   "nbconvert_exporter": "python",
   "pygments_lexer": "ipython3",
   "version": "3.8.3"
  }
 },
 "nbformat": 4,
 "nbformat_minor": 4
}
