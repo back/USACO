{
 "cells": [
  {
   "cell_type": "markdown",
   "metadata": {},
   "source": [
    "# Bovine Genomics\n",
    "- http://www.usaco.org/index.php?page=viewproblem2&cpid=736\n",
    "---\n",
    "### Read Inputs"
   ]
  },
  {
   "cell_type": "code",
   "execution_count": null,
   "metadata": {},
   "outputs": [],
   "source": [
    "fin=StringIO('''3 8\n",
    "AATCCCAT\n",
    "GATTGCAA\n",
    "GGTCGCAA\n",
    "ACTCCCAG\n",
    "ACTCGCAT\n",
    "ACTTCCAT''')\n",
    "\n",
    "data = fin.read().strip().split('\\n')\n",
    "n, m = map(int, data[0].split(' '))\n",
    "\n",
    "spotty_cows = [data[i + 1] for i in range(n)]\n",
    "plain_cows = [data[i + n + 1] for i in range(n)]\n",
    "\n",
    "print (spotty_cows, plain_cows)"
   ]
  },
  {
   "cell_type": "markdown",
   "metadata": {},
   "source": [
    "---\n",
    "### Check Spotted against Plan, on every genomic positions"
   ]
  },
  {
   "cell_type": "code",
   "execution_count": null,
   "metadata": {},
   "outputs": [],
   "source": [
    "spots = []\n",
    "plains = []\n",
    "total = 0\n",
    "\n",
    "# Check if the spotty and plain cows have any repeated characters at this position\n",
    "for i in range(m):\n",
    "    used = False\n",
    "    for j in range(n):\n",
    "        for k in range(n):\n",
    "            if spotty_cows[j][i] == plain_cows[k][i]:\n",
    "                used = True\n",
    "                break\n",
    "    if used == False:\n",
    "        total += 1\n",
    "        print(total)"
   ]
  }
 ],
 "metadata": {
  "kernelspec": {
   "display_name": "Python 3",
   "language": "python",
   "name": "python3"
  },
  "language_info": {
   "codemirror_mode": {
    "name": "ipython",
    "version": 3
   },
   "file_extension": ".py",
   "mimetype": "text/x-python",
   "name": "python",
   "nbconvert_exporter": "python",
   "pygments_lexer": "ipython3",
   "version": "3.8.3"
  }
 },
 "nbformat": 4,
 "nbformat_minor": 4
}
