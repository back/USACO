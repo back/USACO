{
 "cells": [
  {
   "cell_type": "markdown",
   "id": "b7c4ad4d-9d6b-452f-b80e-8f3c1051e7b0",
   "metadata": {
    "tags": []
   },
   "source": [
    "# Problem Types\n",
    "\n",
    "- Ad Hoc Problems\n",
    "- BigNums\n",
    "- Simulations\n",
    "\n",
    "\n",
    "- Greedy Search\n",
    "- Complete Search\n",
    "- Flood Fill\n",
    "- Recursive Techniques\n",
    "\n",
    "\n",
    "- Dynamic Programming\n",
    "- Knapsack\n",
    "- Shortest Path\n",
    "- Minimum Spanning Tree\n",
    "- Network Flow\n",
    "\n",
    "\n",
    "- Computational Geometry\n",
    "- Eulerian Path (一笔画)\n",
    "- Two-Dimensional Convex Hull (凸包)\n",
    "\n",
    "\n",
    "- Approximate Search\n",
    "- Heuristic Search (启发式搜索)"
   ]
  },
  {
   "cell_type": "markdown",
   "id": "49e8359f-df57-4141-9b84-9cb1add0d670",
   "metadata": {},
   "source": [
    "### CUBES (Ad hoc)\n",
    "Find a single digit solution for below equation:\n",
    "$$(C+U+B+E+S)^3=CUBES$$\n",
    "\n",
    "Trying all 5-digit numbers would be a run at total 90,000 of time. A better idea is to just test a very limited set.\n",
    "\n",
    "Considering this:    ( x ) ^ 3 = CUBES\n",
    "\n",
    "To get a 5-digit cubic result, the minimal x would be 22, maximum value is 46.\n",
    "So, 22 ~ 46, toal 25 numbers to check.\n",
    "That's a much smaller range...\n",
    "\n",
    "Furthermore, x is a summary of 5 unique single digits.\n",
    "That means the maximum of x can be further restricted:  9+8+7+6+5 = 35\n",
    "\n",
    "So finally we can lock in the testing range:   22 ~ 35\n",
    "That's only 14 cases.   (comparing this to the 90,000 cases method)\n",
    "\n",
    "That's it. The rest part you should be able to figure out easily.\n"
   ]
  },
  {
   "cell_type": "code",
   "execution_count": null,
   "id": "8fa6fd56-4d02-4473-bf49-54493de9daf7",
   "metadata": {},
   "outputs": [],
   "source": [
    "for i in range(20, 50):\n",
    "    print (i, i**3)"
   ]
  },
  {
   "cell_type": "code",
   "execution_count": null,
   "id": "2d9571c4-7b74-4d65-ac31-f5bdc1c29fa6",
   "metadata": {},
   "outputs": [],
   "source": [
    "for i in range(22, 36):\n",
    "    if i==sum(map(int, str(i**3))):\n",
    "        print(i**3)"
   ]
  },
  {
   "cell_type": "code",
   "execution_count": null,
   "id": "a038f772-dccb-4b9e-8dd5-27765f076385",
   "metadata": {},
   "outputs": [],
   "source": [
    "for i in range(22, 36):\n",
    "    if len(set(str(i**3))) == 5 and i==sum(map(int, str(i**3))):\n",
    "        print(i**3)"
   ]
  },
  {
   "cell_type": "markdown",
   "id": "edb2d580-4d4c-46eb-960b-59f07cf28225",
   "metadata": {},
   "source": [
    "### Long Division (simulation)\n",
    "Calculate to $100_{th}$ fraction digit for $\\frac{1}{49}$"
   ]
  },
  {
   "cell_type": "code",
   "execution_count": null,
   "id": "0bc00769-0eb0-48c3-92ba-25290acd31c5",
   "metadata": {},
   "outputs": [],
   "source": [
    "print (1/49)"
   ]
  },
  {
   "cell_type": "code",
   "execution_count": null,
   "id": "0f90ed73-26a4-4481-b825-f630055c7025",
   "metadata": {},
   "outputs": [],
   "source": [
    "print ( 13 // 5 )\n",
    "print ( 13 %  5 )"
   ]
  },
  {
   "cell_type": "code",
   "execution_count": null,
   "id": "949d369b-e304-4611-a1e8-101c1c4d4c74",
   "metadata": {
    "tags": []
   },
   "outputs": [],
   "source": [
    "answer='0.'\n",
    "remainder = 10\n",
    "for _ in range(1000):\n",
    "    answer += str(remainder // 49)\n",
    "    remainder = remainder % 49 * 10\n",
    "print (answer)"
   ]
  }
 ],
 "metadata": {
  "kernelspec": {
   "display_name": "Python 3",
   "language": "python",
   "name": "python3"
  },
  "language_info": {
   "codemirror_mode": {
    "name": "ipython",
    "version": 3
   },
   "file_extension": ".py",
   "mimetype": "text/x-python",
   "name": "python",
   "nbconvert_exporter": "python",
   "pygments_lexer": "ipython3",
   "version": "3.9.7"
  }
 },
 "nbformat": 4,
 "nbformat_minor": 5
}
