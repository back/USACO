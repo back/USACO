{
 "cells": [
  {
   "cell_type": "markdown",
   "id": "0b153c05-7cee-4627-84a5-9f2151246d19",
   "metadata": {},
   "source": [
    "# Open Contest Result [2022](http://usaco.org/index.php?page=open22results) [2021](http://usaco.org/index.php?page=open21results) [2020](http://usaco.org/index.php?page=open20results)\n",
    "- Learned at least one programming language\n",
    " - C\n",
    " - C++\n",
    " - Java\n",
    " - Python 2\n",
    " - Python 3\n",
    " - ~~PASCAL~~\n",
    " \n",
    "# The minimal set of coding knowledge\n",
    "- Variables\n",
    "- Primitive data types\n",
    "- Logical operators\n",
    "- Arrays\n",
    " - Multidimensional Arrays\n",
    "- If else\n",
    "- Loops\n",
    "- Functions\n",
    " - Recursion (a function calling itself)\n",
    "- Reading Input\n",
    "- Writing Output\n",
    "\n",
    "##### In particular, contestants using Java should be familiar with roughly the <u>first half and ending part</u> of [AP Computer Science A](https://www.mooreschools.com/cms/lib/OK01000367/Centricity/Domain/1996/book.pdf), excluding the Class Oriented sections\n",
    "\n",
    "##### Special notes for Java programmer:\n",
    "> USACO does NOT expect any \"package\" line on top of your main class. So you have to drop it before submitting.\n",
    "\n",
    "# Data Types\n",
    "\n",
    "### int\n",
    "- The 32-bit integer supports values between **−2 147 483 648** and **2 147 483 647**, roughly equal to ± $2×10^9$\n",
    "- The 64-bit long type supports values between **-9,223,372,036,854,775,808** to **9,223,372,036,854,775,807**, roughly as ± $9×10^{18}$\n",
    "\n",
    "### decimal (float/double)\n",
    "It is important to know that floating point numbers are **not** exact, because the binary architecture of computers can only store decimals to a certain precision. Hence, we should always expect that floating point numbers are slightly off. Contest problems will mark as correct any output that is within a certain range of the judge’s answer.\n",
    "\n",
    "### boolean\n",
    "In Java, it's a strict type of data. In C/C++/Python, there are rules for other type values when they used as a \"boolean\".\n",
    "\n",
    "### char\n",
    "Remember they can be calculated by +, -, *, /; Please refer to the ASCII table below for specific values\n",
    "\n",
    "![](../img/ascii-table.jpg)\n",
    "\n",
    "### String\n",
    "Strings are effectively arrays of characters. Most time you need this to access the character at a certain index and take substrings of the string."
   ]
  }
 ],
 "metadata": {
  "kernelspec": {
   "display_name": "Python 3",
   "language": "python",
   "name": "python3"
  },
  "language_info": {
   "codemirror_mode": {
    "name": "ipython",
    "version": 3
   },
   "file_extension": ".py",
   "mimetype": "text/x-python",
   "name": "python",
   "nbconvert_exporter": "python",
   "pygments_lexer": "ipython3",
   "version": "3.9.7"
  }
 },
 "nbformat": 4,
 "nbformat_minor": 5
}
