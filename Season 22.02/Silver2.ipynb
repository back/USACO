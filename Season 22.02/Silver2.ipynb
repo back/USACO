{
 "cells": [
  {
   "cell_type": "code",
   "execution_count": 6,
   "id": "bc5438ba",
   "metadata": {},
   "outputs": [
    {
     "name": "stdout",
     "output_type": "stream",
     "text": [
      "7 5 10\n",
      "[(-2, 0), (3, 0), (4, 0), (5, 0), (0, 10), (0, -10), (0, 10)]\n"
     ]
    }
   ],
   "source": [
    "import sys\n",
    "\n",
    "sys.stdin=StringIO('''7\n",
    "5 10\n",
    "-2 0\n",
    "3 0\n",
    "4 0\n",
    "5 0\n",
    "0 10\n",
    "0 -10\n",
    "0 10\n",
    "''')\n",
    "\n",
    "n=int(sys.stdin.readline())\n",
    "x, y = map(int, sys.stdin.readline().split())\n",
    "p=[tuple(map(int, sys.stdin.readline().split())) for _ in range(n)]\n",
    "print(n, x, y)\n",
    "pp(p)"
   ]
  },
  {
   "cell_type": "code",
   "execution_count": 157,
   "id": "ec32160c",
   "metadata": {},
   "outputs": [
    {
     "name": "stdout",
     "output_type": "stream",
     "text": [
      "[([0], (-2, 0)),\n",
      " ([1], (3, 0)),\n",
      " ([2], (4, 0)),\n",
      " ([3], (5, 0)),\n",
      " ([4], (0, 10)),\n",
      " ([5], (0, -10)),\n",
      " ([6], (0, 10))]\n"
     ]
    }
   ],
   "source": [
    "q = [([i],p[i]) for i in range(n)]\n",
    "pp(q)"
   ]
  },
  {
   "cell_type": "code",
   "execution_count": 158,
   "id": "6c81321b",
   "metadata": {},
   "outputs": [
    {
     "name": "stdout",
     "output_type": "stream",
     "text": [
      "0\n",
      "2\n",
      "0\n",
      "3\n",
      "0\n",
      "1\n",
      "0\n"
     ]
    }
   ],
   "source": [
    "answer = [0] * (n+1)\n",
    "\n",
    "while q:\n",
    "    comb, loc = q.pop(0)\n",
    "    if loc == (x, y):\n",
    "        answer[len(comb)] += 1\n",
    "    for i in range(comb[-1]+1, n):\n",
    "        q.append((comb + [i], (loc[0] + p[i][0], loc[1] + p[i][1])))\n",
    "    \n",
    "for i in answer[1:]:\n",
    "    print(i)"
   ]
  }
 ],
 "metadata": {
  "kernelspec": {
   "display_name": "Python 3 (ipykernel)",
   "language": "python",
   "name": "python3"
  },
  "language_info": {
   "codemirror_mode": {
    "name": "ipython",
    "version": 3
   },
   "file_extension": ".py",
   "mimetype": "text/x-python",
   "name": "python",
   "nbconvert_exporter": "python",
   "pygments_lexer": "ipython3",
   "version": "3.9.7"
  }
 },
 "nbformat": 4,
 "nbformat_minor": 5
}
