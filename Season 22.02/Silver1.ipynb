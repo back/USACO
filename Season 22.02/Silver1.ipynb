{
 "cells": [
  {
   "cell_type": "markdown",
   "id": "2dbb9daa",
   "metadata": {},
   "source": [
    "# Silver 1 - Preferred Gifts"
   ]
  },
  {
   "cell_type": "code",
   "execution_count": 22,
   "id": "3091d9c5",
   "metadata": {},
   "outputs": [
    {
     "name": "stdout",
     "output_type": "stream",
     "text": [
      "[[1, 2, 3, 4], [4, 3, 2, 1], [1, 2, 3, 4], [1, 2, 3, 4]]\n"
     ]
    }
   ],
   "source": [
    "import sys\n",
    "\n",
    "sys.stdin=StringIO('''4\n",
    "1 2 3 4\n",
    "4 3 2 1\n",
    "1 2 3 4\n",
    "1 2 3 4\n",
    "''')\n",
    "\n",
    "n=int(sys.stdin.readline())\n",
    "p=[list(map(int, sys.stdin.readline().split())) for _ in range(n)]\n",
    "pp(p)"
   ]
  },
  {
   "cell_type": "code",
   "execution_count": 23,
   "id": "eae9c571",
   "metadata": {},
   "outputs": [
    {
     "name": "stdout",
     "output_type": "stream",
     "text": [
      "[[0, 0, 0, 0, 0],\n",
      " [0, 0, 0, 0, 0],\n",
      " [0, 0, 0, 1, 1],\n",
      " [0, 0, 1, 0, 0],\n",
      " [0, 0, 1, 0, 0]]\n"
     ]
    }
   ],
   "source": [
    "def checkOrder(i, a, b):\n",
    "    # is cow(i) prefer a before b?\n",
    "    for x in p[i-1]:\n",
    "        if x==a:\n",
    "            return True\n",
    "        elif x==b:\n",
    "            return False\n",
    "        \n",
    "g=[[0] * (n+1) for _ in range(n+1)]\n",
    "\n",
    "# double loop for each pair of cows:\n",
    "for i in range(1, n+1):\n",
    "    for j in range(i+1, n+1):\n",
    "        if checkOrder(i, j, i) and checkOrder(j, i, j):\n",
    "            g[i][j] = g[j][i] = 1\n",
    "            \n",
    "pp(g)"
   ]
  },
  {
   "cell_type": "code",
   "execution_count": 24,
   "id": "96e297c5",
   "metadata": {},
   "outputs": [
    {
     "name": "stdout",
     "output_type": "stream",
     "text": [
      "[[0, 0, 0, 0, 0],\n",
      " [0, 0, 0, 0, 0],\n",
      " [0, 0, 0, 1, 1],\n",
      " [0, 0, 1, 0, 0],\n",
      " [0, 0, 1, 1, 0]]\n"
     ]
    }
   ],
   "source": [
    "# Floyd-Warshall Algorithm\n",
    "for k in range(1, n+1):\n",
    "    for i in range(1, n+1):\n",
    "        for j in range(1, n+1):\n",
    "            if i!=j and g[i][j]==0 and g[i][k] and g[k][j]: # found a chained swap\n",
    "                if checkOrder(i, j, i):\n",
    "                    g[i][j] = 1\n",
    "                if checkOrder(j, i, j):\n",
    "                    g[j][i] = 1\n",
    "\n",
    "pp(g)"
   ]
  },
  {
   "cell_type": "code",
   "execution_count": 25,
   "id": "c39e3d53",
   "metadata": {},
   "outputs": [
    {
     "name": "stdout",
     "output_type": "stream",
     "text": [
      "1\n",
      "4\n",
      "2\n",
      "2\n"
     ]
    }
   ],
   "source": [
    "for i in range(1, n+1):\n",
    "    for x in p[i-1]:\n",
    "        if g[i][x] or x == i:\n",
    "            print(x)\n",
    "            break"
   ]
  }
 ],
 "metadata": {
  "kernelspec": {
   "display_name": "Python 3 (ipykernel)",
   "language": "python",
   "name": "python3"
  },
  "language_info": {
   "codemirror_mode": {
    "name": "ipython",
    "version": 3
   },
   "file_extension": ".py",
   "mimetype": "text/x-python",
   "name": "python",
   "nbconvert_exporter": "python",
   "pygments_lexer": "ipython3",
   "version": "3.9.7"
  }
 },
 "nbformat": 4,
 "nbformat_minor": 5
}
