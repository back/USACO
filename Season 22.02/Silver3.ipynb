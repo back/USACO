{
 "cells": [
  {
   "cell_type": "code",
   "execution_count": 45,
   "id": "5b120736",
   "metadata": {},
   "outputs": [],
   "source": [
    "import sys\n",
    "\n",
    "sys.stdin=StringIO('''6\n",
    "5 5 1\n",
    "1 2 3 4 5\n",
    "5 5 1\n",
    "1 2 3 5 4\n",
    "5 5 1\n",
    "1 2 4 5 3\n",
    "5 5 2\n",
    "1 2 4 5 3\n",
    "3 10 2\n",
    "1 3 2 1 3 2 1 3 2 1\n",
    "3 10 1\n",
    "1 3 2 1 3 2 1 3 2 1\n",
    "''')"
   ]
  },
  {
   "cell_type": "code",
   "execution_count": 46,
   "id": "46cfa586",
   "metadata": {},
   "outputs": [
    {
     "name": "stdout",
     "output_type": "stream",
     "text": [
      "YES\n",
      "YES\n",
      "NO\n",
      "YES\n",
      "YES\n",
      "NO\n"
     ]
    }
   ],
   "source": [
    "t=int(sys.stdin.readline())\n",
    "for x in range(t):\n",
    "    m, n, k = map(int, sys.stdin.readline().split())\n",
    "    f=list(map(int, sys.stdin.readline().split()))\n",
    "    \n",
    "    f_min = 1\n",
    "    f_max = k\n",
    "    skip  = 0\n",
    "\n",
    "    while f:\n",
    "        #print(f, skip, f_min, f_max)\n",
    "        filed = False\n",
    "        for i in range(skip, min(skip+k, len(f))):\n",
    "            if f[i] >= f_min and f[i] <= f_max:\n",
    "                f.pop(i)\n",
    "                filed = True\n",
    "                break\n",
    "        if filed:\n",
    "            if skip + k > len(f) and skip > 0:\n",
    "                skip -= 1\n",
    "        elif f_min not in f and f_max < m:\n",
    "            f_min += 1\n",
    "            f_max += 1\n",
    "        elif skip + k < len(f):\n",
    "            skip += 1\n",
    "        else:\n",
    "            break\n",
    "    print('NO' if f else 'YES')"
   ]
  }
 ],
 "metadata": {
  "kernelspec": {
   "display_name": "Python 3 (ipykernel)",
   "language": "python",
   "name": "python3"
  },
  "language_info": {
   "codemirror_mode": {
    "name": "ipython",
    "version": 3
   },
   "file_extension": ".py",
   "mimetype": "text/x-python",
   "name": "python",
   "nbconvert_exporter": "python",
   "pygments_lexer": "ipython3",
   "version": "3.9.7"
  }
 },
 "nbformat": 4,
 "nbformat_minor": 5
}
