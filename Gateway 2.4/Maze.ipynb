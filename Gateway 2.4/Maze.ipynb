{
 "cells": [
  {
   "cell_type": "markdown",
   "metadata": {},
   "source": [
    "# Section 2.4 - Overfencing (maze1)\n",
    "---\n",
    "Sample Inputs\n",
    "---"
   ]
  },
  {
   "cell_type": "code",
   "execution_count": 2,
   "metadata": {},
   "outputs": [
    {
     "name": "stdout",
     "output_type": "stream",
     "text": [
      "5 3\n",
      "+-+-+-+-+-+\n",
      "\n",
      "|         |\n",
      "\n",
      "+-+ +-+ + +\n",
      "\n",
      "|     | | |\n",
      "\n",
      "+ +-+-+ + +\n",
      "\n",
      "| |     |  \n",
      "\n",
      "+-+ +-+-+-+\n",
      "\n"
     ]
    }
   ],
   "source": [
    "fin=StringIO('''5 3\n",
    "+-+-+-+-+-+\n",
    "|         |\n",
    "+-+ +-+ + +\n",
    "|     | | |\n",
    "+ +-+-+ + +\n",
    "| |     |  \n",
    "+-+ +-+-+-+\n",
    "''')\n",
    "\n",
    "w,h = map(int, fin.readline().split())\n",
    "m = fin.readlines()\n",
    "\n",
    "print(w,h)\n",
    "for row in m:\n",
    "    print(row)"
   ]
  },
  {
   "cell_type": "markdown",
   "metadata": {},
   "source": [
    "---\n",
    "Mark the cells directly to the Exits\n",
    "---"
   ]
  },
  {
   "cell_type": "code",
   "execution_count": 6,
   "metadata": {},
   "outputs": [
    {
     "name": "stdout",
     "output_type": "stream",
     "text": [
      "{(2, 1): 1, (2, 4): 1}\n"
     ]
    }
   ],
   "source": [
    "depth = {}\n",
    "\n",
    "# for a given cell: (row,col)\n",
    "# the 4 walls can be found at:\n",
    "#                   m[row*2  ][col*2+1]\n",
    "#  m[row*2+1][col*2]                   m[row*2+1][col*2+2]\n",
    "#                   m[row*2+2][col*2+1]\n",
    "\n",
    "# find exit cells\n",
    "for col in range(w):\n",
    "    if m[0][col*2+1]==' ':\n",
    "        depth[(0,col)]=1\n",
    "    if m[h*2][col*2+1]==' ':\n",
    "        depth[(h-1,col)]=1\n",
    "for row in range(h):\n",
    "    if m[row*2+1][0]==' ':\n",
    "        depth[(row,0)]=1\n",
    "    if m[row*2+1][w*2]==' ':\n",
    "        depth[(row,w-1)]=1\n",
    "        \n",
    "print(depth)"
   ]
  },
  {
   "cell_type": "code",
   "execution_count": 7,
   "metadata": {},
   "outputs": [
    {
     "name": "stdout",
     "output_type": "stream",
     "text": [
      "[(2, 1), (2, 4)] -> 2\n",
      "[(2, 2), (1, 4)] -> 3\n",
      "[(2, 3), (0, 4)] -> 4\n",
      "[(1, 3), (0, 3)] -> 5\n",
      "[(0, 2)] -> 6\n",
      "[(0, 1)] -> 7\n",
      "[(1, 1), (0, 0)] -> 8\n",
      "[(1, 0), (1, 2)] -> 9\n",
      "9\n"
     ]
    }
   ],
   "source": [
    "i = 1\n",
    "while len(depth) < w*h:\n",
    "    progress = [p for p in depth if depth[p] == i]\n",
    "    if progress:\n",
    "        i+=1\n",
    "        print(progress, '->', i)\n",
    "        for row, col in progress:\n",
    "            if row > 0   and m[row*2  ][col*2+1] == ' ' and (row-1, col) not in depth:\n",
    "                depth[(row-1, col)] = i\n",
    "            if row < h-1 and m[row*2+2][col*2+1] == ' ' and (row+1, col) not in depth:\n",
    "                depth[(row+1, col)] = i\n",
    "            if col > 0   and m[row*2+1][col*2  ] == ' ' and (row, col-1) not in depth:\n",
    "                depth[(row, col-1)] = i\n",
    "            if col < w-1 and m[row*2+1][col*2+2] == ' ' and (row, col+1) not in depth:\n",
    "                depth[(row, col+1)] = i\n",
    "\n",
    "print(i)"
   ]
  }
 ],
 "metadata": {
  "kernelspec": {
   "display_name": "Python 3",
   "language": "python",
   "name": "python3"
  },
  "language_info": {
   "codemirror_mode": {
    "name": "ipython",
    "version": 3
   },
   "file_extension": ".py",
   "mimetype": "text/x-python",
   "name": "python",
   "nbconvert_exporter": "python",
   "pygments_lexer": "ipython3",
   "version": "3.8.3"
  }
 },
 "nbformat": 4,
 "nbformat_minor": 4
}
