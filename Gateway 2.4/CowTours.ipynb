{
 "cells": [
  {
   "cell_type": "markdown",
   "metadata": {},
   "source": [
    "# Section 2.4 - Cow Tours\n",
    "---\n",
    "Sample Inputs\n",
    "---"
   ]
  },
  {
   "cell_type": "code",
   "execution_count": null,
   "metadata": {},
   "outputs": [],
   "source": [
    "from math import sqrt\n",
    "\n",
    "def geo_dis(x, y):\n",
    "    a = loc[x][0] - loc[y][0]\n",
    "    b = loc[x][1] - loc[y][1]\n",
    "    return sqrt( a*a + b*b )\n",
    "\n",
    "with open(fileName + '.in') as fin, open(fileName + '.out', 'w') as fout:\n",
    "    n = int(fin.readline().strip())\n",
    "    d = fin.readlines()\n",
    "    loc = [list(map(int,line.split())) for line in d[:n]]\n",
    "    con = [[int(i) for i in line.strip()]  for line in d[n:]]\n",
    "    dis = [[0]*n for _ in range(n)]\n",
    "\n",
    "    for i in range(n-1):\n",
    "        for j in range(i+1,n):\n",
    "            dis[i][j] = dis[j][i] = geo_dis(i,j) if con[i][j] else -1 # -1 means infinite\n",
    "    \n",
    "    for k in range(n):\n",
    "        for i in range(n-1):\n",
    "            for j in range(i+1,n):\n",
    "                if dis[i][k] > 0 and dis[k][j] > 0:\n",
    "                    x = dis[i][k] + dis[k][j]\n",
    "                    if dis[i][j] < 0 or dis[i][j] > x: # -1 means infinite\n",
    "                        dis[i][j] = dis[j][i] = x\n",
    "\n",
    "    max_dis = [max(row) for row in dis]\n",
    "    ans = min(geo_dis(i, j) + max_dis[i] + max_dis[j]\n",
    "                for i in range(n-1)\n",
    "                for j in range(i+1, n)\n",
    "                if dis[i][j] < 0)\n",
    "\n",
    "    fout.write('{:.6f}\\n'.format(max(ans, max(max_dis))))\n"
   ]
  }
 ],
 "metadata": {
  "kernelspec": {
   "display_name": "Python 3",
   "language": "python",
   "name": "python3"
  },
  "language_info": {
   "codemirror_mode": {
    "name": "ipython",
    "version": 3
   },
   "file_extension": ".py",
   "mimetype": "text/x-python",
   "name": "python",
   "nbconvert_exporter": "python",
   "pygments_lexer": "ipython3",
   "version": "3.8.3"
  }
 },
 "nbformat": 4,
 "nbformat_minor": 4
}
