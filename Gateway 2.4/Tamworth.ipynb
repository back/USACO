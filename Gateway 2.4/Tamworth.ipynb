{
 "cells": [
  {
   "cell_type": "markdown",
   "metadata": {},
   "source": [
    "# Section 2.4 - The Tamworth Two\n",
    "---\n",
    "Sample Inputs\n",
    "---"
   ]
  },
  {
   "cell_type": "code",
   "execution_count": 12,
   "metadata": {},
   "outputs": [
    {
     "name": "stdout",
     "output_type": "stream",
     "text": [
      "['*', '.', '.', '.', '*', '.', '.', '.', '.', '.']\n",
      "['.', '.', '.', '.', '.', '.', '*', '.', '.', '.']\n",
      "['.', '.', '.', '*', '.', '.', '.', '*', '.', '.']\n",
      "['.', '.', '.', '.', '.', '.', '.', '.', '.', '.']\n",
      "['.', '.', '.', '*', '.', 'F', '.', '.', '.', '.']\n",
      "['*', '.', '.', '.', '.', '.', '*', '.', '.', '.']\n",
      "['.', '.', '.', '*', '.', '.', '.', '.', '.', '.']\n",
      "['.', '.', 'C', '.', '.', '.', '.', '.', '.', '*']\n",
      "['.', '.', '.', '*', '.', '*', '.', '.', '.', '.']\n",
      "['.', '*', '.', '*', '.', '.', '.', '.', '.', '.']\n"
     ]
    }
   ],
   "source": [
    "fin=StringIO('''*...*.....\n",
    "......*...\n",
    "...*...*..\n",
    "..........\n",
    "...*.F....\n",
    "*.....*...\n",
    "...*......\n",
    "..C......*\n",
    "...*.*....\n",
    ".*.*......''')\n",
    "\n",
    "m = [list(line.strip()) for line in fin.readlines()]\n",
    "\n",
    "for row in m:\n",
    "    print(row)\n",
    "    "
   ]
  },
  {
   "cell_type": "markdown",
   "metadata": {},
   "source": [
    "---\n",
    "Locate Farmer John and the cows\n",
    "---"
   ]
  },
  {
   "cell_type": "code",
   "execution_count": 13,
   "metadata": {},
   "outputs": [
    {
     "name": "stdout",
     "output_type": "stream",
     "text": [
      "(1, 4, 5)\n",
      "(1, 7, 2)\n"
     ]
    }
   ],
   "source": [
    "for row in range(10):\n",
    "    for col in range(10):\n",
    "        if m[row][col]=='F':\n",
    "            f = (1,row,col)     # 1 means going up\n",
    "            m[row][col] = '.'\n",
    "        if m[row][col]=='C':\n",
    "            c = (1,row,col)     # 1 means going up\n",
    "            m[row][col] = '.'\n",
    "        \n",
    "print(f)\n",
    "print(c)"
   ]
  },
  {
   "cell_type": "markdown",
   "metadata": {},
   "source": [
    "---\n",
    "Prepare the moving logic\n",
    "---"
   ]
  },
  {
   "cell_type": "code",
   "execution_count": 14,
   "metadata": {},
   "outputs": [],
   "source": [
    "def move(m, p):\n",
    "    p0, p1, p2 = p\n",
    "    if p0 == 1: # move up\n",
    "        if p1 == 0 or m[ p1 - 1 ][ p2 ] == '*':\n",
    "            p0 = 2\n",
    "        else:\n",
    "            p1 -= 1\n",
    "    elif p0 == 2: # move right\n",
    "        if p2 == 9 or m[ p1 ][ p2 + 1 ] == '*':\n",
    "            p0 = 3\n",
    "        else:\n",
    "            p2 += 1\n",
    "    elif p0 == 3: # move down\n",
    "        if p1 == 9 or m[ p1 + 1 ][ p2 ] == '*':\n",
    "            p0 = 4\n",
    "        else:\n",
    "            p1 += 1\n",
    "    elif p0 == 4: # move left\n",
    "        if p2 == 0 or m[ p1 ][ p2 - 1 ] == '*':\n",
    "            p0 = 1\n",
    "        else:\n",
    "            p2 -= 1\n",
    "    return (p0, p1, p2)"
   ]
  },
  {
   "cell_type": "markdown",
   "metadata": {},
   "source": [
    "---\n",
    "Start the Chase!\n",
    "---"
   ]
  },
  {
   "cell_type": "code",
   "execution_count": 15,
   "metadata": {},
   "outputs": [
    {
     "name": "stdout",
     "output_type": "stream",
     "text": [
      "(3, 6, 2)\n",
      "(1, 6, 2)\n",
      "49\n"
     ]
    }
   ],
   "source": [
    "state=[]   # all history of locations ever been with BOTH John and cows\n",
    "i = 0\n",
    "met = False\n",
    "while (f,c) not in state:\n",
    "    state.append((f,c))\n",
    "    if f[1]==c[1] and f[2] == c[2]:\n",
    "        met = True\n",
    "        break\n",
    "    f=move(m,f)\n",
    "    c=move(m,c)\n",
    "    i+=1\n",
    "    \n",
    "print(f)\n",
    "print(c)\n",
    "print(i)"
   ]
  }
 ],
 "metadata": {
  "kernelspec": {
   "display_name": "Python 3",
   "language": "python",
   "name": "python3"
  },
  "language_info": {
   "codemirror_mode": {
    "name": "ipython",
    "version": 3
   },
   "file_extension": ".py",
   "mimetype": "text/x-python",
   "name": "python",
   "nbconvert_exporter": "python",
   "pygments_lexer": "ipython3",
   "version": "3.8.3"
  }
 },
 "nbformat": 4,
 "nbformat_minor": 4
}
