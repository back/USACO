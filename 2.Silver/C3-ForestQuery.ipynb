{
 "cells": [
  {
   "cell_type": "markdown",
   "metadata": {},
   "source": [
    "# Forest Query\n",
    "\n",
    "### Simulate Inputs"
   ]
  },
  {
   "cell_type": "code",
   "execution_count": 1,
   "metadata": {},
   "outputs": [],
   "source": [
    "import sys\n",
    "sys.stdin=StringIO('''10 10\n",
    "**.*.*.**.\n",
    "*.**.*..*.\n",
    ".*****.**.\n",
    "**....***.\n",
    ".****...**\n",
    ".**.******\n",
    ".****..*.*\n",
    "*.**.**...\n",
    "..*.****.*\n",
    "**.*.*...*\n",
    "7 2 9 6\n",
    "7 2 9 8\n",
    "9 2 9 8\n",
    "7 2 8 6\n",
    "7 1 8 6\n",
    "7 10 8 10\n",
    "8 3 10 5\n",
    "5 7 7 7\n",
    "9 3 10 9\n",
    "1 4 7 9\n",
    "''')\n",
    "\n",
    "n, q = map(int, sys.stdin.readline().split())"
   ]
  },
  {
   "cell_type": "markdown",
   "metadata": {},
   "source": [
    "### Build 2-D Prefix Summary matrix"
   ]
  },
  {
   "cell_type": "code",
   "execution_count": 2,
   "metadata": {},
   "outputs": [
    {
     "name": "stdout",
     "output_type": "stream",
     "text": [
      "[0, 0, 0, 0, 0, 0, 0, 0, 0, 0, 0]\n",
      "[0, 0, 0, 0, 0, 0, 0, 0, 0, 0, 0]\n",
      "[0, 0, 0, 0, 0, 0, 0, 0, 0, 0, 0]\n",
      "[0, 0, 0, 0, 0, 0, 0, 0, 0, 0, 0]\n",
      "[0, 0, 0, 0, 0, 0, 0, 0, 0, 0, 0]\n",
      "[0, 0, 0, 0, 0, 0, 0, 0, 0, 0, 0]\n",
      "[0, 0, 0, 0, 0, 0, 0, 0, 0, 0, 0]\n",
      "[0, 0, 0, 0, 0, 0, 0, 0, 0, 0, 0]\n",
      "[0, 0, 0, 0, 0, 0, 0, 0, 0, 0, 0]\n",
      "[0, 0, 0, 0, 0, 0, 0, 0, 0, 0, 0]\n",
      "[0, 0, 0, 0, 0, 0, 0, 0, 0, 0, 0]\n"
     ]
    }
   ],
   "source": [
    "p = [[0 for _ in range(n+1)] for _ in range(n+1)]\n",
    "\n",
    "for row in p:\n",
    "    print(row)"
   ]
  },
  {
   "cell_type": "code",
   "execution_count": 3,
   "metadata": {},
   "outputs": [
    {
     "name": "stdout",
     "output_type": "stream",
     "text": [
      "[0, 0, 0, 0, 0, 0, 0, 0, 0, 0, 0]\n",
      "[0, 1, 2, 2, 3, 3, 4, 4, 5, 6, 6]\n",
      "[0, 2, 3, 4, 6, 6, 8, 8, 9, 11, 11]\n",
      "[0, 2, 4, 6, 9, 10, 13, 13, 15, 18, 18]\n",
      "[0, 3, 6, 8, 11, 12, 15, 16, 19, 23, 23]\n",
      "[0, 3, 7, 10, 14, 16, 19, 20, 23, 28, 29]\n",
      "[0, 3, 8, 12, 16, 19, 23, 25, 29, 35, 37]\n",
      "[0, 3, 9, 14, 19, 23, 27, 29, 34, 40, 43]\n",
      "[0, 4, 10, 16, 22, 26, 31, 34, 39, 45, 48]\n",
      "[0, 4, 10, 17, 23, 28, 34, 38, 44, 50, 54]\n",
      "[0, 5, 12, 19, 26, 31, 38, 42, 48, 54, 59]\n"
     ]
    }
   ],
   "source": [
    "for row in range(1,n+1):\n",
    "    rowSum = 0\n",
    "    for col in range(1, n+1):\n",
    "        if sys.stdin.read(1)=='*':\n",
    "            rowSum+=1\n",
    "        p[row][col]=p[row-1][col]+rowSum\n",
    "    sys.stdin.readline()\n",
    "            \n",
    "for row in p:\n",
    "    print(row)"
   ]
  },
  {
   "cell_type": "markdown",
   "metadata": {},
   "source": [
    "### Getting query results"
   ]
  },
  {
   "cell_type": "code",
   "execution_count": 4,
   "metadata": {},
   "outputs": [
    {
     "name": "stdout",
     "output_type": "stream",
     "text": [
      "3 23 4 34 --> 10\n",
      "3 29 4 44 --> 14\n",
      "4 39 4 44 --> 5\n",
      "3 23 4 31 --> 7\n",
      "0 23 0 31 --> 8\n",
      "35 37 45 48 --> 1\n",
      "9 23 12 31 --> 5\n",
      "15 16 27 29 --> 1\n",
      "10 45 12 54 --> 7\n",
      "0 0 14 40 --> 26\n"
     ]
    }
   ],
   "source": [
    "for _ in range(q):\n",
    "    y1, x1, y2, x2 = map(int, sys.stdin.readline().split())\n",
    "    \n",
    "    a = p[y1-1][x1-1]\n",
    "    b = p[y1-1][x2]\n",
    "    c = p[y2][x1-1]\n",
    "    d = p[y2][x2]\n",
    "    \n",
    "    print(a, b, c, d, '-->', a+d-b-c)"
   ]
  },
  {
   "cell_type": "markdown",
   "metadata": {},
   "source": [
    "### Notes: Heavy Test Case\n",
    "- So far with the above algorithm, only the first test case could be completed with **Java/Python**\n",
    "- The 2nd test case involves massive amount of the inputs and only **C++** could handle it in time"
   ]
  }
 ],
 "metadata": {
  "kernelspec": {
   "display_name": "Python 3",
   "language": "python",
   "name": "python3"
  },
  "language_info": {
   "codemirror_mode": {
    "name": "ipython",
    "version": 3
   },
   "file_extension": ".py",
   "mimetype": "text/x-python",
   "name": "python",
   "nbconvert_exporter": "python",
   "pygments_lexer": "ipython3",
   "version": "3.8.3"
  }
 },
 "nbformat": 4,
 "nbformat_minor": 4
}
