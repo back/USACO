{
 "cells": [
  {
   "cell_type": "markdown",
   "metadata": {},
   "source": [
    "# Seating Arrangements\n",
    "\n",
    "- [CodeForces: Seating Arrangements (Hard Version)](https://codeforces.com/contest/1566/problem/D2)\n",
    "\n",
    "### Read Inputs"
   ]
  },
  {
   "cell_type": "code",
   "execution_count": 10,
   "metadata": {},
   "outputs": [
    {
     "name": "stdout",
     "output_type": "stream",
     "text": [
      "3 3 [3, 4, 4, 1, 1, 1, 1, 1, 2]\n"
     ]
    }
   ],
   "source": [
    "import sys\n",
    "sys.stdin=StringIO('''3 3\n",
    "3 4 4 1 1 1 1 1 2\n",
    "''')\n",
    "\n",
    "n, m = map(int, sys.stdin.readline().split())\n",
    "a = list(map(int, sys.stdin.readline().split()))\n",
    "print(n, m, a)"
   ]
  },
  {
   "cell_type": "markdown",
   "metadata": {},
   "source": [
    "### Sort by the Eye Sight"
   ]
  },
  {
   "cell_type": "code",
   "execution_count": 11,
   "metadata": {},
   "outputs": [
    {
     "name": "stdout",
     "output_type": "stream",
     "text": [
      "[0, 1, 2, 3, 4, 5, 6, 7, 8]\n"
     ]
    }
   ],
   "source": [
    "b = list(range(m*n))\n",
    "pp(b)"
   ]
  },
  {
   "cell_type": "code",
   "execution_count": 12,
   "metadata": {},
   "outputs": [
    {
     "name": "stdout",
     "output_type": "stream",
     "text": [
      "[3, 4, 5, 6, 7, 8, 0, 1, 2]\n"
     ]
    }
   ],
   "source": [
    "b = sorted(range(m*n), key=lambda x:a[x])\n",
    "pp(b)"
   ]
  },
  {
   "cell_type": "markdown",
   "metadata": {},
   "source": [
    "### Arrange the result by Rows"
   ]
  },
  {
   "cell_type": "code",
   "execution_count": 13,
   "metadata": {},
   "outputs": [
    {
     "name": "stdout",
     "output_type": "stream",
     "text": [
      "[3, 4, 5]\n",
      "[6, 7, 8]\n",
      "[0, 1, 2]\n"
     ]
    }
   ],
   "source": [
    "c=[ b[(nn)*m:(nn+1)*m] for nn in range(n) ]\n",
    "for row in c:\n",
    "    pp(row)"
   ]
  },
  {
   "cell_type": "code",
   "execution_count": 14,
   "metadata": {},
   "outputs": [
    {
     "name": "stdout",
     "output_type": "stream",
     "text": [
      "4\n"
     ]
    }
   ],
   "source": [
    "inconvenient = 0\n",
    "for row in c:\n",
    "    for i in range(1, m):\n",
    "        for j in range(i):\n",
    "            if row[j]<row[i] and a[row[j]] < a[row[i]]:\n",
    "                inconvenient+=1\n",
    "            \n",
    "print(inconvenient)"
   ]
  }
 ],
 "metadata": {
  "kernelspec": {
   "display_name": "Python 3",
   "language": "python",
   "name": "python3"
  },
  "language_info": {
   "codemirror_mode": {
    "name": "ipython",
    "version": 3
   },
   "file_extension": ".py",
   "mimetype": "text/x-python",
   "name": "python",
   "nbconvert_exporter": "python",
   "pygments_lexer": "ipython3",
   "version": "3.8.3"
  }
 },
 "nbformat": 4,
 "nbformat_minor": 4
}
