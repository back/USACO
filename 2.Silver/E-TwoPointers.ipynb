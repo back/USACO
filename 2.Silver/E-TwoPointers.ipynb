{
 "cells": [
  {
   "cell_type": "markdown",
   "metadata": {},
   "source": [
    "# Two Pointers\n",
    "\n",
    "### Reading Courses\n",
    "- [Code Forces Video Course](https://codeforces.com/edu/course/2/lesson/9)\n",
    "  - Merging Array\n",
    "  - Segment Sumary\n",
    "\n",
    "### Reading Pages\n",
    "- [Darren Yao's Java Notes](https://darrenyao.com/usacobook/java.pdf#page=80)\n",
    "  - One alternate issue for [2Sum](https://leetcode.com/problems/two-sum/)\n",
    "  - The **limitation** of \"two pointer\" solution above...\n",
    "- [Competitive Programmer’s Handbook](https://usaco.guide/CPH.pdf#page=87)\n",
    "\n",
    "### Study Cases\n",
    "- [Books](https://codeforces.com/contest/279/problem/B)\n",
    "- [Sum of Two Values](https://cses.fi/problemset/task/1640) (alternate method here!)\n",
    "- [Subarray Count for Sum](https://cses.fi/problemset/task/1660)\n",
    "- [Google Kick Start: Trash Bins](https://codingcompetitions.withgoogle.com/kickstart/round/0000000000435bae/0000000000887c32)\n",
    "\n",
    "### Past Problems\n",
    "- [Most Water](https://leetcode.com/problems/container-with-most-water/)\n",
    "- [Trapped Rain](https://leetcode.com/problems/trapping-rain-water/)\n",
    "\n",
    "### Easy\n",
    "\n",
    "- [Sum of Three Values](https://cses.fi/problemset/task/1641)\n",
    "- [Paired Up](http://www.usaco.org/index.php?page=viewproblem2&cpid=738)\n",
    "- [Cellular Network](https://codeforces.com/contest/702/problem/C)\n",
    "- [They Are Everywhere](https://codeforces.com/problemset/problem/701/C)\n",
    "\n",
    "### Normal\n",
    "- [Diamond Collector](http://www.usaco.org/index.php?page=viewproblem2&cpid=643)\n",
    "- [Sleepy Cow Herding](http://www.usaco.org/index.php?page=viewproblem2&cpid=918)\n",
    "- [Garland](https://codeforces.com/problemset/problem/814/C)"
   ]
  }
 ],
 "metadata": {
  "kernelspec": {
   "display_name": "Python 3",
   "language": "python",
   "name": "python3"
  },
  "language_info": {
   "codemirror_mode": {
    "name": "ipython",
    "version": 3
   },
   "file_extension": ".py",
   "mimetype": "text/x-python",
   "name": "python",
   "nbconvert_exporter": "python",
   "pygments_lexer": "ipython3",
   "version": "3.8.3"
  }
 },
 "nbformat": 4,
 "nbformat_minor": 4
}
