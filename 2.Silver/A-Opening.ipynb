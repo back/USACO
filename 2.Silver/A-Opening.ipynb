{
 "cells": [
  {
   "cell_type": "markdown",
   "metadata": {},
   "source": [
    "# Training Gateway Chapter I Review\n",
    "- Basic Submitting\n",
    "\n",
    "### Total 20 Problems\n",
    "- Section 1.2 -> 4 Problems\n",
    "- Section 1.3 -> 5 Problems\n",
    "- Section 1.4 -> 6 Problems\n",
    "- Section 1.5 -> 2 Problems\n",
    "- Section 1.6 -> 3 Problems\n",
    "\n",
    "### Adhoc Thinking\n",
    "- National Sorting (Bucket Sort)\n",
    "\n",
    "> 1 millon SAT scores\n",
    "\n",
    "> Score Range: 0 - 1600\n",
    "\n",
    "```Java\n",
    "int[] scores  = new int[1601];\n",
    "\n",
    "scores[0];\n",
    "scores[1];\n",
    "//...\n",
    "scores[1600]  1204 -> scores[1204]++;\n",
    "```\n",
    "\n",
    "- Section 2.1\n",
    "  - Hamming Codes\n",
    "- Section 2.2\n",
    "  - Preface Numbering\n",
    "  - Party Lamps\n",
    "\n",
    "# Training Gateway Chapter II Preview\n",
    "### Total 19 Problems\n",
    "- Section 2.1 -> 5 Problems\n",
    "- Section 2.2 -> 4 Problems\n",
    "- Section 2.3 -> 5 Problems\n",
    "- Section 2.4 -> 5 Problems\n",
    "\n",
    "### Algorithm Solving\n",
    "- Matrix Data\n",
    "- Prefix Sums\n",
    "- Customized Sorting\n",
    "- Two Pointers\n",
    "- Non Linear Data\n",
    "- Greedy\n",
    "- Binary Search\n",
    "- Graph with DFS\n",
    "- Graph with Flood Fill\n",
    "- Tree Algorithms (Dijkstra, Kruskal)\n"
   ]
  }
 ],
 "metadata": {
  "kernelspec": {
   "display_name": "Python 3 (ipykernel)",
   "language": "python",
   "name": "python3"
  },
  "language_info": {
   "codemirror_mode": {
    "name": "ipython",
    "version": 3
   },
   "file_extension": ".py",
   "mimetype": "text/x-python",
   "name": "python",
   "nbconvert_exporter": "python",
   "pygments_lexer": "ipython3",
   "version": "3.9.7"
  }
 },
 "nbformat": 4,
 "nbformat_minor": 4
}
