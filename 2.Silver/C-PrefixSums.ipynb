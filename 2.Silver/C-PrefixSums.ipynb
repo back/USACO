{
 "cells": [
  {
   "cell_type": "markdown",
   "metadata": {},
   "source": [
    "# Prefix Sums\n",
    "\n",
    "### Books\n",
    "- [Darren Yao's Java Notes](https://darrenyao.com/usacobook/java.pdf#page=69)\n",
    "- [Competitive Programmer’s Handbook](https://usaco.guide/CPH.pdf#page=94)\n",
    "- [Principles of Algorithmic Problem Solving](https://usaco.guide/PAPS.pdf#page=207)\n",
    "\n",
    "### Study Cases\n",
    "- [Static Range Sum](https://judge.yosupo.jp/problem/static_range_sum)\n",
    "- [Max Subarray Sum](https://cses.fi/problemset/task/1643)\n",
    "  - [(on LeetCode)](https://leetcode.com/problems/maximum-subarray/)\n",
    "- [Forest Queries](https://cses.fi/problemset/task/1652)\n",
    "\n",
    "### Easy\n",
    "- [Breed Counting](http://www.usaco.org/index.php?page=viewproblem2&cpid=572)\n",
    "- [Painting the Barn](http://www.usaco.org/index.php?page=viewproblem2&cpid=919)\n",
    "- [The Lazy Cow](http://www.usaco.org/index.php?page=viewproblem2&cpid=416)\n",
    "\n",
    "### Norm\n",
    "- [Summing to 7s](http://www.usaco.org/index.php?page=viewproblem2&cpid=595)\n",
    "- [Hoof Paper Scissors](http://www.usaco.org/index.php?page=viewproblem2&cpid=691)\n",
    "- [Subarray Sums](https://cses.fi/problemset/task/1661)\n",
    "- [Why Did the Cow Cross the Road II](http://www.usaco.org/index.php?page=viewproblem2&cpid=715)\n",
    "- [Rectangular Pasture](http://www.usaco.org/index.php?page=viewproblem2&cpid=1063)\n",
    "\n",
    "### Hard\n",
    "- [Painting the Barn(Gold)](http://www.usaco.org/index.php?page=viewproblem2&cpid=923)\n",
    "\n",
    "### Bonus\n",
    "- [Haybale Stacking](https://www.spoj.com/problems/HAYBALE/)\n",
    "- [Good Subarrays](https://codeforces.com/contest/1398/problem/C)\n",
    "- [GCD on Blackboard](https://atcoder.jp/contests/abc125/tasks/abc125_c)\n",
    "- [Multiple of 2019](https://atcoder.jp/contests/abc164/tasks/abc164_d)\n",
    "- [Modern Art](http://www.usaco.org/index.php?page=viewproblem2&cpid=744)"
   ]
  },
  {
   "cell_type": "markdown",
   "metadata": {},
   "source": [
    "### Generate a Randomized Sample List\n",
    "- Precalculate a ranged summary for later verification"
   ]
  },
  {
   "cell_type": "code",
   "execution_count": null,
   "metadata": {},
   "outputs": [],
   "source": [
    "q = [randint(0, 100) for _ in range(20)]\n",
    "print(q)\n",
    "\n",
    "l, r = 15, 18\n",
    "print(q[l:r+1])        # <-- Note: End index is inclusive\n",
    "print(sum(q[l:r+1]))   # <-- Note: End index is inclusive"
   ]
  },
  {
   "cell_type": "markdown",
   "metadata": {},
   "source": [
    "### Genreate PrefixSummaryList"
   ]
  },
  {
   "cell_type": "code",
   "execution_count": null,
   "metadata": {},
   "outputs": [],
   "source": [
    "for i in range(1, len(q)):\n",
    "    q[i] += q[i-1]\n",
    "print(q)"
   ]
  },
  {
   "cell_type": "markdown",
   "metadata": {},
   "source": [
    "### Calucate any Subarray Summaries"
   ]
  },
  {
   "cell_type": "code",
   "execution_count": null,
   "metadata": {},
   "outputs": [],
   "source": [
    "print(q[l-1], q[r])\n",
    "print(q[r] - q[l-1])"
   ]
  }
 ],
 "metadata": {
  "kernelspec": {
   "display_name": "Python 3",
   "language": "python",
   "name": "python3"
  },
  "language_info": {
   "codemirror_mode": {
    "name": "ipython",
    "version": 3
   },
   "file_extension": ".py",
   "mimetype": "text/x-python",
   "name": "python",
   "nbconvert_exporter": "python",
   "pygments_lexer": "ipython3",
   "version": "3.9.7"
  }
 },
 "nbformat": 4,
 "nbformat_minor": 4
}
