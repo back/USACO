{
 "cells": [
  {
   "cell_type": "markdown",
   "metadata": {},
   "source": [
    "# Section 2.2 - Party Lamps\n",
    "- First mentioned in Section 1.6 TEXT node: **Complete Search**\n",
    "\n",
    "Naively, for each button press, you have to try 4 possibilities, for a total of $4^{10000}$ (about $10^{6020}$ ), which means there's no way you could do complete search (this particular algorithm would exploit recursion).\n",
    "\n",
    "Noticing that the order of the button presses does not matter gets this number down to about $10000^4$ (about $10^{16}$ ), still too big to completely search (but certainly closer by a factor of over $10^{6000}$ ).\n",
    "\n",
    "However, pressing a button twice is the same as pressing the button no times, so all you really have to check is pressing each button either 0 or 1 times. That's only $2^4$ = 16 possibilities, surely a number of iterations solvable within the time limit.\n",
    "\n",
    "### Read Inputs"
   ]
  },
  {
   "cell_type": "code",
   "execution_count": 1,
   "metadata": {},
   "outputs": [
    {
     "name": "stdout",
     "output_type": "stream",
     "text": [
      "10 1 [] [7]\n"
     ]
    }
   ],
   "source": [
    "fin=StringIO('''10\n",
    "1\n",
    "-1\n",
    "7 -1\n",
    "''')\n",
    "\n",
    "n = int(fin.readline().strip())\n",
    "c = int(fin.readline().strip())\n",
    "on = list(map(int, fin.readline().split()))\n",
    "off = list(map(int, fin.readline().split()))\n",
    "\n",
    "on.pop()  # remove the ending -1\n",
    "off.pop() # remove the ending -1\n",
    "\n",
    "print(n, c, on, off)"
   ]
  },
  {
   "cell_type": "markdown",
   "metadata": {},
   "source": [
    "### The total 16 cases"
   ]
  },
  {
   "cell_type": "code",
   "execution_count": 3,
   "metadata": {},
   "outputs": [
    {
     "name": "stdout",
     "output_type": "stream",
     "text": [
      "0 0 0 0 switches flipped: 0\n",
      "0 0 0 1 switches flipped: 1\n",
      "0 0 1 0 switches flipped: 1\n",
      "0 0 1 1 switches flipped: 2\n",
      "0 1 0 0 switches flipped: 1\n",
      "0 1 0 1 switches flipped: 2\n",
      "0 1 1 0 switches flipped: 2\n",
      "0 1 1 1 switches flipped: 3\n",
      "1 0 0 0 switches flipped: 1\n",
      "1 0 0 1 switches flipped: 2\n",
      "1 0 1 0 switches flipped: 2\n",
      "1 0 1 1 switches flipped: 3\n",
      "1 1 0 0 switches flipped: 2\n",
      "1 1 0 1 switches flipped: 3\n",
      "1 1 1 0 switches flipped: 3\n",
      "1 1 1 1 switches flipped: 4\n"
     ]
    }
   ],
   "source": [
    "for sw1 in (0, 1):\n",
    "    for sw2 in (0, 1):\n",
    "        for sw3 in (0, 1):\n",
    "            for sw4 in (0, 1):\n",
    "                flip = sw1 + sw2 + sw3 + sw4\n",
    "                print(sw1,sw2,sw3,sw4,\"switches flipped:\",flip)"
   ]
  },
  {
   "cell_type": "markdown",
   "metadata": {},
   "source": [
    "### Only check possible cases:\n",
    "1. Target flip count must >= case flip count\n",
    "2. Target flip count - case flip count = Even Number"
   ]
  },
  {
   "cell_type": "code",
   "execution_count": 16,
   "metadata": {},
   "outputs": [
    {
     "name": "stdout",
     "output_type": "stream",
     "text": [
      "0110110110\n",
      "0101010101\n",
      "0000000000\n"
     ]
    }
   ],
   "source": [
    "for sw1 in (0, 1):\n",
    "    for sw2 in (0, 1):\n",
    "        for sw3 in (0, 1):\n",
    "            for sw4 in (0, 1):\n",
    "                flip = sw1 + sw2 + sw3 + sw4\n",
    "                if flip <= c and (c - flip)%2 == 0:\n",
    "                    lamp = [1] * (n+1)\n",
    "                    for i in range(1,n+1):\n",
    "                        if sw1==1:\n",
    "                            lamp[i] = 1-lamp[i]\n",
    "                        if sw2==1 and i%2 == 1:\n",
    "                            lamp[i] = 1-lamp[i]\n",
    "                        if sw3==1 and i%2 == 0:\n",
    "                            lamp[i] = 1-lamp[i]\n",
    "                        if sw4==1 and i%3 == 1:\n",
    "                            lamp[i] = 1-lamp[i]\n",
    "\n",
    "                    if all(lamp[x] for x in on):\n",
    "                        if not any(lamp[x] for x in off):\n",
    "                            lamp.pop(0)\n",
    "                            print(''.join(map(str, lamp)))"
   ]
  }
 ],
 "metadata": {
  "kernelspec": {
   "display_name": "Python 3 (ipykernel)",
   "language": "python",
   "name": "python3"
  },
  "language_info": {
   "codemirror_mode": {
    "name": "ipython",
    "version": 3
   },
   "file_extension": ".py",
   "mimetype": "text/x-python",
   "name": "python",
   "nbconvert_exporter": "python",
   "pygments_lexer": "ipython3",
   "version": "3.8.11"
  }
 },
 "nbformat": 4,
 "nbformat_minor": 4
}
