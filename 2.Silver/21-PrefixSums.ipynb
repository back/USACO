{
 "cells": [
  {
   "cell_type": "markdown",
   "metadata": {},
   "source": [
    "# Prefix Sums\n",
    "\n",
    "### Books\n",
    "- [Darren Yao's Java Notes](https://darrenyao.com/usacobook/java.pdf#page=69)\n",
    "- [Competitive Programmer’s Handbook](https://usaco.guide/CPH.pdf#page=94)\n",
    "- [Principles of Algorithmic Problem Solving](https://usaco.guide/PAPS.pdf#page=207)\n",
    "\n",
    "### Study Cases\n",
    "- [Range Sum](https://judge.yosupo.jp/problem/static_range_sum)\n",
    "- [Max Subarray Sum](https://cses.fi/problemset/task/1643)\n",
    "- [Forest Queries](https://cses.fi/problemset/task/1652)\n",
    "\n",
    "### Easy\n",
    "- [Breed Counting](http://www.usaco.org/index.php?page=viewproblem2&cpid=572)\n",
    "- [Painting the Barn](http://www.usaco.org/index.php?page=viewproblem2&cpid=919)\n",
    "- [The Lazy Cow](http://www.usaco.org/index.php?page=viewproblem2&cpid=416)\n",
    "\n",
    "### Norm\n",
    "- [Summing to 7s](http://www.usaco.org/index.php?page=viewproblem2&cpid=595)\n",
    "- [Hoof Paper Scissors](http://www.usaco.org/index.php?page=viewproblem2&cpid=691)\n",
    "- [Subarray Sums](https://cses.fi/problemset/task/1661)\n",
    "- [Why Did the Cow Cross the Road II](http://www.usaco.org/index.php?page=viewproblem2&cpid=715)\n",
    "- [Rectangular Pasture](http://www.usaco.org/index.php?page=viewproblem2&cpid=1063)\n",
    "\n",
    "### Hard\n",
    "- [Painting the Barn(Gold)](http://www.usaco.org/index.php?page=viewproblem2&cpid=923)\n",
    "\n",
    "### Bonus\n",
    "- [Haybale Stacking](https://www.spoj.com/problems/HAYBALE/)\n",
    "- [Good Subarrays](https://codeforces.com/contest/1398/problem/C)\n",
    "- [GCD on Blackboard](https://atcoder.jp/contests/abc125/tasks/abc125_c)\n",
    "- [Multiple of 2019](https://atcoder.jp/contests/abc164/tasks/abc164_d)\n",
    "- [Modern Art](http://www.usaco.org/index.php?page=viewproblem2&cpid=744)\n"
   ]
  },
  {
   "cell_type": "code",
   "execution_count": 11,
   "metadata": {},
   "outputs": [
    {
     "name": "stdout",
     "output_type": "stream",
     "text": [
      "[99, 14, 43, 69, 96, 22, 5, 81, 18, 95, 87, 87, 58, 39, 73, 63, 58, 96, 79, 9]\n"
     ]
    }
   ],
   "source": [
    "import random\n",
    "\n",
    "q = [0] * 20\n",
    "\n",
    "for i in range(len(q)):\n",
    "    q[i] = random.randint(0, 100)\n",
    "\n",
    "print(q)"
   ]
  },
  {
   "cell_type": "code",
   "execution_count": 12,
   "metadata": {},
   "outputs": [
    {
     "name": "stdout",
     "output_type": "stream",
     "text": [
      "[99, 113, 156, 225, 321, 343, 348, 429, 447, 542, 629, 716, 774, 813, 886, 949, 1007, 1103, 1182, 1191]\n"
     ]
    }
   ],
   "source": [
    "s = [0] * len(q)\n",
    "\n",
    "s[0] = q[0]\n",
    "\n",
    "for i in range(1, len(q)):\n",
    "    s[i] = s[i-1] + q[i]\n",
    "    \n",
    "print(s) # prefix summary list"
   ]
  },
  {
   "cell_type": "code",
   "execution_count": 13,
   "metadata": {},
   "outputs": [
    {
     "name": "stdout",
     "output_type": "stream",
     "text": [
      "782\n"
     ]
    }
   ],
   "source": [
    "li = 5\n",
    "lr = 18\n",
    "\n",
    "summary = 0\n",
    "for i in range(li, lr):\n",
    "    summary += q[i]\n",
    "    \n",
    "print(summary)"
   ]
  },
  {
   "cell_type": "code",
   "execution_count": 18,
   "metadata": {},
   "outputs": [
    {
     "name": "stdout",
     "output_type": "stream",
     "text": [
      "1103 321\n",
      "782\n"
     ]
    }
   ],
   "source": [
    "print( s[lr-1], s[li-1] )\n",
    "print( s[lr-1] - s[li-1] )"
   ]
  }
 ],
 "metadata": {
  "kernelspec": {
   "display_name": "Python 3",
   "language": "python",
   "name": "python3"
  },
  "language_info": {
   "codemirror_mode": {
    "name": "ipython",
    "version": 3
   },
   "file_extension": ".py",
   "mimetype": "text/x-python",
   "name": "python",
   "nbconvert_exporter": "python",
   "pygments_lexer": "ipython3",
   "version": "3.8.3"
  }
 },
 "nbformat": 4,
 "nbformat_minor": 4
}
