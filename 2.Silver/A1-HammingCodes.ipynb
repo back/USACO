{
 "cells": [
  {
   "cell_type": "markdown",
   "metadata": {},
   "source": [
    "# Section 2.1 - Hamming Codes\n",
    "\n",
    "### Analysis: Find Numbers with required bitwise distance"
   ]
  },
  {
   "cell_type": "code",
   "execution_count": 14,
   "metadata": {},
   "outputs": [
    {
     "name": "stdout",
     "output_type": "stream",
     "text": [
      "30\n"
     ]
    }
   ],
   "source": [
    "x, y =7, 25\n",
    "\n",
    "print ( x ^ y )    #bitwise Xor: both are 1 or 0: false;   one 1 another 0: true"
   ]
  },
  {
   "cell_type": "code",
   "execution_count": 15,
   "metadata": {},
   "outputs": [
    {
     "name": "stdout",
     "output_type": "stream",
     "text": [
      "0b111\n",
      "0b11001\n",
      "0b11110\n"
     ]
    }
   ],
   "source": [
    "print ( bin(x) )        #  01001\n",
    "print ( bin(y) )        #  11001\n",
    "print ( bin(x ^ y) )    #  10000  -> 16"
   ]
  },
  {
   "cell_type": "code",
   "execution_count": 16,
   "metadata": {},
   "outputs": [
    {
     "name": "stdout",
     "output_type": "stream",
     "text": [
      "4\n"
     ]
    }
   ],
   "source": [
    "print ( bin(x ^ y).count('1') )"
   ]
  },
  {
   "cell_type": "markdown",
   "metadata": {},
   "source": [
    "> A Java Implementation:\n",
    "```Java\n",
    "String s = Integer.toBinaryString(x^y);\n",
    "long ones = s.chars().filter(c -> c == '1').count();\n",
    "```\n",
    "\n",
    "### Read Inputs"
   ]
  },
  {
   "cell_type": "code",
   "execution_count": null,
   "metadata": {},
   "outputs": [],
   "source": [
    "n, b, d = 16, 7, 3"
   ]
  },
  {
   "cell_type": "markdown",
   "metadata": {},
   "source": [
    "### Looking for answers based on already discovered answers"
   ]
  },
  {
   "cell_type": "code",
   "execution_count": 17,
   "metadata": {},
   "outputs": [
    {
     "name": "stdout",
     "output_type": "stream",
     "text": [
      "[0, 7, 25, 30, 42, 45, 51, 52, 75, 76, 82, 85, 97, 102, 120, 127]\n"
     ]
    }
   ],
   "source": [
    "answer = [0]\n",
    "check = 0\n",
    "while (len(answer) < n):\n",
    "    check += 1\n",
    "    found = True\n",
    "    for i in answer:\n",
    "        if bin(check ^ i).count('1') < d:\n",
    "            found = False\n",
    "            break\n",
    "    if found:\n",
    "        answer.append(check)\n",
    "\n",
    "print(answer)"
   ]
  },
  {
   "cell_type": "markdown",
   "metadata": {},
   "source": [
    "### Output"
   ]
  },
  {
   "cell_type": "code",
   "execution_count": 18,
   "metadata": {},
   "outputs": [
    {
     "name": "stdout",
     "output_type": "stream",
     "text": [
      "0 7 25 30 42 45 51 52 75 76\n",
      "82 85 97 102 120 127\n"
     ]
    }
   ],
   "source": [
    "line_count = 0\n",
    "for i in answer[:-1]:\n",
    "    print(i, end='')\n",
    "    line_count += 1\n",
    "    print(' ', end='') if line_count % 10 > 0 else print()\n",
    "print(answer[-1])"
   ]
  }
 ],
 "metadata": {
  "kernelspec": {
   "display_name": "Python 3 (ipykernel)",
   "language": "python",
   "name": "python3"
  },
  "language_info": {
   "codemirror_mode": {
    "name": "ipython",
    "version": 3
   },
   "file_extension": ".py",
   "mimetype": "text/x-python",
   "name": "python",
   "nbconvert_exporter": "python",
   "pygments_lexer": "ipython3",
   "version": "3.8.11"
  }
 },
 "nbformat": 4,
 "nbformat_minor": 4
}
