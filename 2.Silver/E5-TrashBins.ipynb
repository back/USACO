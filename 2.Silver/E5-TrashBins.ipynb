{
 "cells": [
  {
   "cell_type": "markdown",
   "metadata": {},
   "source": [
    "# Trash Bins\n",
    "- [Google Kick Start: Round F 2021](https://codingcompetitions.withgoogle.com/kickstart/round/0000000000435bae)\n",
    "  - First Questions: Trash Bins\n",
    "  \n",
    "### Read One Test Sample"
   ]
  },
  {
   "cell_type": "code",
   "execution_count": null,
   "metadata": {},
   "outputs": [],
   "source": [
    "String t = \"00100100\";\n",
    "int n = t.length();"
   ]
  },
  {
   "cell_type": "markdown",
   "metadata": {},
   "source": [
    "### Initialize \"Left Trash\" and \"Right Trash\""
   ]
  },
  {
   "cell_type": "code",
   "execution_count": null,
   "metadata": {},
   "outputs": [],
   "source": [
    "int sum = 0;\n",
    "int lt = -1;\n",
    "int rt = -1;\n",
    "for(int i=0; i<n; i++) {\n",
    "    if(t.charAt(i)=='1'){\n",
    "        rt = i;\n",
    "        break;\n",
    "    }\n",
    "}\n",
    "System.out.println(\"lt:\" + lt + \", rt:\" + rt);"
   ]
  },
  {
   "cell_type": "markdown",
   "metadata": {},
   "source": [
    "### Moving through All Houses"
   ]
  },
  {
   "cell_type": "code",
   "execution_count": null,
   "metadata": {},
   "outputs": [],
   "source": [
    "for(int i=0; i<n; i++){\n",
    "    if (i==rt){\n",
    "        lt=i; rt=-1;\n",
    "        for(int j=i+1; j<t.length(); j++){\n",
    "            if(t.charAt(j)=='1'){\n",
    "                rt = j;\n",
    "                break;\n",
    "            }\n",
    "        }\n",
    "        System.out.println(String.format(\"i: %s, lt: %s, rt: %s\", i, lt, rt));\n",
    "    } else {\n",
    "        int minDist = -1;\n",
    "        if(lt>=0){\n",
    "            minDist = i-lt;\n",
    "        }\n",
    "        if(rt>=0 && (minDist < 0 || rt-i < minDist)){\n",
    "            minDist = rt - i;\n",
    "        }\n",
    "        System.out.println(String.format(\"i: %s, minDist: %s\", i, minDist));\n",
    "        if(minDist >= 0)\n",
    "            sum += minDist;\n",
    "    }\n",
    "}\n",
    "\n",
    "System.out.println(sum);"
   ]
  }
 ],
 "metadata": {
  "kernelspec": {
   "display_name": "Java",
   "language": "java",
   "name": "java"
  },
  "language_info": {
   "codemirror_mode": "java",
   "file_extension": ".jshell",
   "mimetype": "text/x-java-source",
   "name": "Java",
   "pygments_lexer": "java",
   "version": "14.0.2+12-46"
  }
 },
 "nbformat": 4,
 "nbformat_minor": 4
}
