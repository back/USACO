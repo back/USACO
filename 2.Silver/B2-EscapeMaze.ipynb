{
 "cells": [
  {
   "cell_type": "markdown",
   "metadata": {},
   "source": [
    "### Study Case\n",
    "- [Escape a Large Maze](https://leetcode.com/problems/escape-a-large-maze/)\n",
    "  - Please note that the blocks length has a 200 limitation\n",
    "  - Also note that below Python code would timeout if submitted under Python3 :("
   ]
  },
  {
   "cell_type": "code",
   "execution_count": 7,
   "metadata": {},
   "outputs": [],
   "source": [
    "class Solution(object):\n",
    "    def isEscapePossible(self, blocked, source, target):\n",
    "        walked  = [i[0]*1000000+i[1] for i in blocked]\n",
    "        walked2 = list(walked)\n",
    "        return self.search(source, walked, source, target) and self.search(target, walked2, target, source)\n",
    "   \n",
    "    def search(self, here, walked, start, end):\n",
    "        if here[0]<0 or here[0]>=1000000:\n",
    "            return False\n",
    "        elif here[1]<0 or here[1]>=1000000:\n",
    "            return False\n",
    "        x = here[0]*1000000+here[1]\n",
    "        if x in walked:\n",
    "            return False\n",
    "        walked.append(x)\n",
    "        if abs(start[0]-here[0])+abs(start[1]-here[1]) > 200:\n",
    "            return True\n",
    "        if here == end:\n",
    "            return True\n",
    "        return self.search([here[0]-1, here[1]], walked, start, end) \\\n",
    "            or self.search([here[0]+1, here[1]], walked, start, end) \\\n",
    "            or self.search([here[0], here[1]-1], walked, start, end) \\\n",
    "            or self.search([here[0], here[1]+1], walked, start, end)"
   ]
  },
  {
   "cell_type": "code",
   "execution_count": 11,
   "metadata": {},
   "outputs": [
    {
     "name": "stdout",
     "output_type": "stream",
     "text": [
      "False\n"
     ]
    }
   ],
   "source": [
    "blocked = [[0,1],[1,0]]\n",
    "source = [0,0]\n",
    "target = [0,2]\n",
    "\n",
    "print(Solution().isEscapePossible(blocked, source, target))"
   ]
  },
  {
   "cell_type": "code",
   "execution_count": 10,
   "metadata": {},
   "outputs": [
    {
     "name": "stdout",
     "output_type": "stream",
     "text": [
      "True\n"
     ]
    }
   ],
   "source": [
    "blocked = []\n",
    "source = [0,0]\n",
    "target = [999999,999999]\n",
    "\n",
    "print(Solution().isEscapePossible(blocked, source, target))"
   ]
  },
  {
   "cell_type": "markdown",
   "metadata": {},
   "source": [
    "### Java Implementations\n",
    "```Java\n",
    "    public boolean isEscapePossible(int[][] blocked, int[] source, int[] target) {\n",
    "        HashSet<Long> blockedSet1 = new HashSet<Long>();\n",
    "        HashSet<Long> blockedSet2 = new HashSet<Long>();\n",
    "        for(int[] i : blocked) {\n",
    "            long x = i[0]*1000000+i[1];\n",
    "            blockedSet1.add(x);\n",
    "            blockedSet2.add(x);            \n",
    "        }\n",
    "        return search(blockedSet1, source, target, source) && search(blockedSet2, target, source, target);\n",
    "    }\n",
    "    \n",
    "    public boolean search(HashSet<Long> blockedSet, int[] source, int[] target, int[] origin) {\n",
    "        if (source[0]<0 || source[0]>=1000000) return false;\n",
    "        if (source[1]<0 || source[1]>=1000000) return false;\n",
    "        long x = source[0]*1000000+source[1];\n",
    "        if (blockedSet.contains(x)) return false; else blockedSet.add(x);\n",
    "        if (Math.abs(origin[0]-source[0])+Math.abs(origin[1]-source[1])>200) return true;\n",
    "        if (source[0] == target[0] && source[1]==target[1]) return true;\n",
    "        return search(blockedSet, new int[]{source[0]-1, source[1]}, target, origin)\n",
    "            || search(blockedSet, new int[]{source[0]+1, source[1]}, target, origin)\n",
    "            || search(blockedSet, new int[]{source[0], source[1]-1}, target, origin)\n",
    "            || search(blockedSet, new int[]{source[0], source[1]+1}, target, origin);\n",
    "    }\n",
    "```\n",
    "\n",
    "### Other ideas\n",
    "- BFS instead of DFS\n",
    "  - BFS usually solves the \"stack overflow\" issues"
   ]
  }
 ],
 "metadata": {
  "kernelspec": {
   "display_name": "Python 3",
   "language": "python",
   "name": "python3"
  },
  "language_info": {
   "codemirror_mode": {
    "name": "ipython",
    "version": 3
   },
   "file_extension": ".py",
   "mimetype": "text/x-python",
   "name": "python",
   "nbconvert_exporter": "python",
   "pygments_lexer": "ipython3",
   "version": "3.9.7"
  }
 },
 "nbformat": 4,
 "nbformat_minor": 4
}
