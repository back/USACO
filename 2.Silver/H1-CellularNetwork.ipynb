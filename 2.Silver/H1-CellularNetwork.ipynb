{
 "cells": [
  {
   "cell_type": "markdown",
   "metadata": {},
   "source": [
    "# Cellular Network\n",
    "\n",
    "- [Code Forces: Cellular Network](https://codeforces.com/blog/entry/83295)\n",
    "\n",
    "### Read Inputs"
   ]
  },
  {
   "cell_type": "code",
   "execution_count": null,
   "metadata": {},
   "outputs": [],
   "source": [
    "import sys\n",
    "sys.stdin = StringIO('''5 3\n",
    "1 5 10 14 17\n",
    "4 11 15\n",
    "''')\n",
    "\n",
    "n, m = map(int, sys.stdin.readline().split())\n",
    "cities = list(map(int, sys.stdin.readline().split()))\n",
    "towers = list(map(int, sys.stdin.readline().split()))\n",
    "\n",
    "print(n, m)\n",
    "print(cities)\n",
    "print(towers)"
   ]
  },
  {
   "cell_type": "markdown",
   "metadata": {},
   "source": [
    "### Method I: Binary Search"
   ]
  },
  {
   "cell_type": "code",
   "execution_count": null,
   "metadata": {},
   "outputs": [],
   "source": [
    "def binarySearch(aList, aValue):\n",
    "    low, high = 0, len(aList);\n",
    "    while low < high:\n",
    "        mid = (low + high) // 2;\n",
    "        if aList[mid] >= aValue:\n",
    "            high = mid\n",
    "        else:\n",
    "            low = mid + 1\n",
    "    return low\n",
    "\n",
    "print(binarySearch(towers, 10))\n",
    "print(binarySearch(towers, 11))\n",
    "print(binarySearch(towers, 12))"
   ]
  },
  {
   "cell_type": "code",
   "execution_count": null,
   "metadata": {},
   "outputs": [],
   "source": [
    "distances = []\n",
    "for i in range(n):\n",
    "    towerRight = binarySearch(towers, cities[i])\n",
    "    towerLeft = towerRight - 1\n",
    "\n",
    "    minR = towers[towerRight] - cities[i] if towerRight < m else -1\n",
    "    minL = cities[i] - towers[towerLeft] if towerLeft >= 0 else -1\n",
    "    \n",
    "    distances.append((minR, minL))\n",
    "\n",
    "print(distances)"
   ]
  },
  {
   "cell_type": "code",
   "execution_count": null,
   "metadata": {},
   "outputs": [],
   "source": [
    "minWithoutNegative = lambda x: x[0] if x[1]<0 else x[1] if x[0]<0 else min(x)\n",
    "print (max(map(minWithoutNegative, distances)))"
   ]
  },
  {
   "cell_type": "markdown",
   "metadata": {},
   "source": [
    "### Method II: Two Pointers\n",
    "- **i** is the first pointer, stepping through the cities\n",
    "- **tower** is the second pointer, stepping through the towers"
   ]
  },
  {
   "cell_type": "code",
   "execution_count": null,
   "metadata": {},
   "outputs": [],
   "source": [
    "dist = []\n",
    "tower = 0\n",
    "for i in range(n):\n",
    "    while tower < m-1 and towers[tower+1] < cities[i]:\n",
    "        tower += 1\n",
    "    if tower < m-1 and towers[tower+1] - cities[i] < cities[i] - towers[tower]:\n",
    "        tower += 1\n",
    "    dist.append(abs(towers[tower] - cities[i]))\n",
    "print (dist)\n",
    "print (max(dist))"
   ]
  }
 ],
 "metadata": {
  "kernelspec": {
   "display_name": "Python 3 (ipykernel)",
   "language": "python",
   "name": "python3"
  },
  "language_info": {
   "codemirror_mode": {
    "name": "ipython",
    "version": 3
   },
   "file_extension": ".py",
   "mimetype": "text/x-python",
   "name": "python",
   "nbconvert_exporter": "python",
   "pygments_lexer": "ipython3",
   "version": "3.8.11"
  }
 },
 "nbformat": 4,
 "nbformat_minor": 4
}
