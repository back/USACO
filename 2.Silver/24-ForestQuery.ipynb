{
 "cells": [
  {
   "cell_type": "markdown",
   "metadata": {},
   "source": [
    "# Forest Query\n",
    "\n",
    "### Simulate Inputs"
   ]
  },
  {
   "cell_type": "code",
   "execution_count": null,
   "metadata": {},
   "outputs": [],
   "source": [
    "import sys\n",
    "sys.stdin=StringIO('''10 10\n",
    "**.*.*.**.\n",
    "*.**.*..*.\n",
    ".*****.**.\n",
    "**....***.\n",
    ".****...**\n",
    ".**.******\n",
    ".****..*.*\n",
    "*.**.**...\n",
    "..*.****.*\n",
    "**.*.*...*\n",
    "7 2 9 6\n",
    "7 2 9 8\n",
    "9 2 9 8\n",
    "7 2 8 6\n",
    "7 1 8 6\n",
    "7 10 8 10\n",
    "8 3 10 5\n",
    "5 7 7 7\n",
    "9 3 10 9\n",
    "1 4 7 9\n",
    "''')\n",
    "\n",
    "n, q = map(int, sys.stdin.readline().split())"
   ]
  },
  {
   "cell_type": "markdown",
   "metadata": {},
   "source": [
    "### Build 2-D Prefix Summary matrix"
   ]
  },
  {
   "cell_type": "code",
   "execution_count": null,
   "metadata": {},
   "outputs": [],
   "source": [
    "p = [[0 for _ in range(n+1)] for _ in range(n+1)]\n",
    "\n",
    "for row in range(1,n+1):\n",
    "    rowSum = 0\n",
    "    for col in range(1, n+1):\n",
    "        if sys.stdin.read(1)=='*':\n",
    "            rowSum+=1\n",
    "        p[row][col]=p[row-1][col]+rowSum\n",
    "    sys.stdin.readline()\n",
    "            \n",
    "for row in p:\n",
    "    print(row)"
   ]
  },
  {
   "cell_type": "markdown",
   "metadata": {},
   "source": [
    "### Getting query results"
   ]
  },
  {
   "cell_type": "code",
   "execution_count": null,
   "metadata": {},
   "outputs": [],
   "source": [
    "for _ in range(q):\n",
    "    y1, x1, y2, x2 = map(int, sys.stdin.readline().split())\n",
    "    \n",
    "    a = p[y1-1][x1-1]\n",
    "    b = p[y1-1][x2]\n",
    "    c = p[y2][x1-1]\n",
    "    d = p[y2][x2]\n",
    "    \n",
    "    print(a, b, c, d, '-->', a+d-b-c)"
   ]
  },
  {
   "cell_type": "markdown",
   "metadata": {},
   "source": [
    "### Notes: Heavy Test Case\n",
    "- So far with the above algorithm, only the first test case could be completed with **Java/Python**\n",
    "- The 2nd test case involves massive amount of the inputs and only **C++** could handle it in time"
   ]
  }
 ],
 "metadata": {
  "kernelspec": {
   "display_name": "Python 3",
   "language": "python",
   "name": "python3"
  },
  "language_info": {
   "codemirror_mode": {
    "name": "ipython",
    "version": 3
   },
   "file_extension": ".py",
   "mimetype": "text/x-python",
   "name": "python",
   "nbconvert_exporter": "python",
   "pygments_lexer": "ipython3",
   "version": "3.8.3"
  }
 },
 "nbformat": 4,
 "nbformat_minor": 4
}
