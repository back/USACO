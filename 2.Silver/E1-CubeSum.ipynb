{
 "cells": [
  {
   "cell_type": "markdown",
   "metadata": {},
   "source": [
    "# In Class Practice\n",
    "\n",
    "### Cube Sum\n",
    "- Find positive intergers **a**, **b** for\n",
    "$$\n",
    "a^3 + b^3 = 929698\n",
    "$$\n",
    "\n",
    "$$\n",
    "a^3 + b^3 = 703657519796\n",
    "$$\n",
    "\n",
    "- Side note: count the total times your solution doing the cube products..."
   ]
  },
  {
   "cell_type": "code",
   "execution_count": null,
   "metadata": {},
   "outputs": [],
   "source": [
    "x=929698\n",
    "#x=703657519796\n",
    "\n",
    "i=1\n",
    "j=int(x**(1/3))      # Math.cbrt(...)?\n",
    "\n",
    "while(i<=j):\n",
    "    s = i**3 + j**3\n",
    "    if s < x:\n",
    "        i+=1\n",
    "    elif s > x:\n",
    "        j-=1\n",
    "    else:\n",
    "        print(i, j)\n",
    "        break"
   ]
  }
 ],
 "metadata": {
  "kernelspec": {
   "display_name": "Python 3",
   "language": "python",
   "name": "python3"
  },
  "language_info": {
   "codemirror_mode": {
    "name": "ipython",
    "version": 3
   },
   "file_extension": ".py",
   "mimetype": "text/x-python",
   "name": "python",
   "nbconvert_exporter": "python",
   "pygments_lexer": "ipython3",
   "version": "3.8.3"
  }
 },
 "nbformat": 4,
 "nbformat_minor": 4
}
