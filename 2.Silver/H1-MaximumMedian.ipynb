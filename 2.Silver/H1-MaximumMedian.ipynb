{
 "cells": [
  {
   "cell_type": "markdown",
   "id": "1ff733d1",
   "metadata": {},
   "source": [
    "# Maximum Median\n",
    "\n",
    "- https://codeforces.com/contest/1201/problem/C\n",
    "\n",
    "### Read Inputs"
   ]
  },
  {
   "cell_type": "code",
   "execution_count": 2,
   "id": "87bca2d1",
   "metadata": {},
   "outputs": [
    {
     "name": "stdout",
     "output_type": "stream",
     "text": [
      "[1, 2, 3, 4, 4, 4, 4]\n"
     ]
    }
   ],
   "source": [
    "n, k = 7, 7\n",
    "a = [4, 1, 2, 4, 3, 4, 4]\n",
    "\n",
    "a.sort()\n",
    "print(a)"
   ]
  },
  {
   "cell_type": "markdown",
   "id": "d3558acb",
   "metadata": {},
   "source": [
    "### Find the *monotonic* function\n",
    "\n",
    "Minimal increasing actions needed for new Median X:\n",
    "\n",
    "$$\n",
    "f(x) = \\sum \\limits _{i=\\frac{n}{2}} ^{n} max(0, x - a[i])\n",
    "$$"
   ]
  },
  {
   "cell_type": "code",
   "execution_count": 4,
   "id": "03965d73",
   "metadata": {},
   "outputs": [],
   "source": [
    "def actionsNeededforNewMedian(x):\n",
    "    action = 0\n",
    "    for i in range(n//2, n):\n",
    "        action += max(0, x-a[i])\n",
    "    return action"
   ]
  },
  {
   "cell_type": "markdown",
   "id": "06a3fc73",
   "metadata": {},
   "source": [
    "### Don't forgot to sort the array"
   ]
  },
  {
   "cell_type": "code",
   "execution_count": 6,
   "id": "c2771506",
   "metadata": {},
   "outputs": [
    {
     "name": "stdout",
     "output_type": "stream",
     "text": [
      "384\n",
      "16\n",
      "12\n",
      "8\n",
      "4\n",
      "0\n"
     ]
    }
   ],
   "source": [
    "print( actionsNeededforNewMedian(100) )\n",
    "print( actionsNeededforNewMedian(8) )\n",
    "print( actionsNeededforNewMedian(7) )\n",
    "print( actionsNeededforNewMedian(6) )\n",
    "print( actionsNeededforNewMedian(5) )\n",
    "print( actionsNeededforNewMedian(4) )"
   ]
  },
  {
   "cell_type": "markdown",
   "id": "9df16d42",
   "metadata": {},
   "source": [
    "### Now do Binary Search"
   ]
  },
  {
   "cell_type": "code",
   "execution_count": 9,
   "id": "dfc5895e",
   "metadata": {},
   "outputs": [
    {
     "name": "stdout",
     "output_type": "stream",
     "text": [
      "0 500000 1000000\n",
      "0 250000 499999\n",
      "0 125000 249999\n",
      "0 62500 124999\n",
      "0 31250 62499\n",
      "0 15625 31249\n",
      "0 7812 15624\n",
      "0 3906 7811\n",
      "0 1953 3905\n",
      "0 976 1952\n",
      "0 488 975\n",
      "0 244 487\n",
      "0 122 243\n",
      "0 61 121\n",
      "0 30 60\n",
      "0 15 29\n",
      "0 7 14\n",
      "0 3 6\n",
      "3 5 6\n",
      "5 6 6\n",
      "The maximum median is: 5\n"
     ]
    }
   ],
   "source": [
    "#low, high = min(a), max(a) + k\n",
    "low, high = 0, 1000000\n",
    "while low < high:\n",
    "    mid = (high + low + 1)//2\n",
    "    print(low, mid, high)\n",
    "    if actionsNeededforNewMedian(mid) <= k:\n",
    "        low = mid\n",
    "    else:\n",
    "        high = mid - 1\n",
    "    \n",
    "print('The maximum median is:', low)"
   ]
  }
 ],
 "metadata": {
  "kernelspec": {
   "display_name": "Python 3 (ipykernel)",
   "language": "python",
   "name": "python3"
  },
  "language_info": {
   "codemirror_mode": {
    "name": "ipython",
    "version": 3
   },
   "file_extension": ".py",
   "mimetype": "text/x-python",
   "name": "python",
   "nbconvert_exporter": "python",
   "pygments_lexer": "ipython3",
   "version": "3.8.11"
  }
 },
 "nbformat": 4,
 "nbformat_minor": 5
}
