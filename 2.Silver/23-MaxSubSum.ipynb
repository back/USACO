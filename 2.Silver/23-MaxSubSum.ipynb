{
 "cells": [
  {
   "cell_type": "markdown",
   "metadata": {},
   "source": [
    "# Maximum Subarray Sum\n",
    "\n",
    "### Simulate the inputs"
   ]
  },
  {
   "cell_type": "code",
   "execution_count": null,
   "metadata": {},
   "outputs": [],
   "source": [
    "import sys\n",
    "sys.stdin=StringIO('''5\n",
    "-1 -1 -1 -1 -2\n",
    "''')\n",
    "\n",
    "n = int(sys.stdin.readline())\n",
    "a = list(map(int, sys.stdin.readline().split()))\n",
    "\n",
    "print(a)"
   ]
  },
  {
   "cell_type": "markdown",
   "metadata": {},
   "source": [
    "### Build the Prefix Sum array\n",
    "- Since there are negative values, not every items are *good* ones, let's build the prefix sum array in a special way..."
   ]
  },
  {
   "cell_type": "code",
   "execution_count": null,
   "metadata": {},
   "outputs": [],
   "source": [
    "for i in range(1,len(a)):\n",
    "    if a[i-1]>0:\n",
    "        a[i] += a[i-1]\n",
    "\n",
    "print (a)\n",
    "print (max(a))"
   ]
  }
 ],
 "metadata": {
  "kernelspec": {
   "display_name": "Python 3",
   "language": "python",
   "name": "python3"
  },
  "language_info": {
   "codemirror_mode": {
    "name": "ipython",
    "version": 3
   },
   "file_extension": ".py",
   "mimetype": "text/x-python",
   "name": "python",
   "nbconvert_exporter": "python",
   "pygments_lexer": "ipython3",
   "version": "3.8.3"
  }
 },
 "nbformat": 4,
 "nbformat_minor": 4
}
