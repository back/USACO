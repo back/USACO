{
 "cells": [
  {
   "cell_type": "markdown",
   "metadata": {},
   "source": [
    "# Static Range Sum\n",
    "\n",
    "### Simulate the inputs"
   ]
  },
  {
   "cell_type": "code",
   "execution_count": null,
   "metadata": {},
   "outputs": [],
   "source": [
    "import sys\n",
    "sys.stdin=StringIO('''5 5\n",
    "1 10 100 1000 10000\n",
    "2 3\n",
    "0 3\n",
    "2 5\n",
    "3 4\n",
    "0 5\n",
    "''')"
   ]
  },
  {
   "cell_type": "markdown",
   "metadata": {},
   "source": [
    "### First, try the basic summary method\n",
    "- But it will fail most test cases with time-out..."
   ]
  },
  {
   "cell_type": "code",
   "execution_count": null,
   "metadata": {},
   "outputs": [],
   "source": [
    "n, q = map(int, sys.stdin.readline().split())\n",
    "a = list(map(int, sys.stdin.readline().split()))\n",
    "\n",
    "for _ in range(q):\n",
    "    l,r = map(int, sys.stdin.readline().split())\n",
    "    print(sum(a[l:r]))"
   ]
  },
  {
   "cell_type": "markdown",
   "metadata": {},
   "source": [
    "### Now, let's try the Prefix Sum way"
   ]
  },
  {
   "cell_type": "code",
   "execution_count": null,
   "metadata": {},
   "outputs": [],
   "source": [
    "n, q = map(int, sys.stdin.readline().split())\n",
    "a = list(map(int, sys.stdin.readline().split()))\n",
    "print(a)\n",
    "\n",
    "for i in range(1,len(a)):\n",
    "    a[i] += a[i-1]\n",
    "\n",
    "print (a)"
   ]
  },
  {
   "cell_type": "code",
   "execution_count": null,
   "metadata": {},
   "outputs": [],
   "source": [
    "for _ in range(q):\n",
    "    l,r = map(int, sys.stdin.readline().split())\n",
    "    print( a[r-1] - (a[l-1] if l>0 else 0) )"
   ]
  }
 ],
 "metadata": {
  "kernelspec": {
   "display_name": "Python 3",
   "language": "python",
   "name": "python3"
  },
  "language_info": {
   "codemirror_mode": {
    "name": "ipython",
    "version": 3
   },
   "file_extension": ".py",
   "mimetype": "text/x-python",
   "name": "python",
   "nbconvert_exporter": "python",
   "pygments_lexer": "ipython3",
   "version": "3.8.3"
  }
 },
 "nbformat": 4,
 "nbformat_minor": 4
}
