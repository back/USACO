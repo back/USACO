{
 "cells": [
  {
   "cell_type": "code",
   "execution_count": null,
   "id": "28547e8d",
   "metadata": {},
   "outputs": [],
   "source": [
    "int[][][][] field = new int[width][height][K+1][2];\n",
    "\n",
    "\n",
    "// init top row and left most column\n",
    "// Also fill in full-0 matrix in the Bayhales cells.\n",
    "\n",
    "for (int i = 1; i< width; i++)\n",
    "    for( int j = 1; j<height; j++) {\n",
    "        int[][] currentCellMatrix = field[i][j];\n",
    "        int[][] topCellMatrix = field[i-1][j];\n",
    "        int[][] leftCellMatrix = field[i][j-1];\n",
    "        \n",
    "     \n",
    "        for(int k = 0; k <= K; k++) {\n",
    "            currentCellMatrix[k][0] +=   leftCellMatrix[k][0];\n",
    "            if(k>0)\n",
    "                currentCellMatrix[k][0] += leftCellMatrix[k-1][1];\n",
    "            \n",
    "            currentCellMatrix[k][1] +=   topCellMatrix[k][1];\n",
    "            if(k>0)\n",
    "                currentCellMatrix[k][1] += topCellMatrix[k-1][1];\n",
    "        }\n",
    "    }\n",
    "\n",
    "// summarize the last cell's matrix.\n",
    "int[][] lastCellMatrix = field[width-1][height-1];\n"
   ]
  }
 ],
 "metadata": {
  "kernelspec": {
   "display_name": "Java",
   "language": "java",
   "name": "java"
  },
  "language_info": {
   "codemirror_mode": "java",
   "file_extension": ".jshell",
   "mimetype": "text/x-java-source",
   "name": "Java",
   "pygments_lexer": "java",
   "version": "14.0.2+12-46"
  }
 },
 "nbformat": 4,
 "nbformat_minor": 5
}
