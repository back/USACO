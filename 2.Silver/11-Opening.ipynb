{
 "cells": [
  {
   "cell_type": "markdown",
   "metadata": {},
   "source": [
    "# Adhoc Thinking\n",
    "\n",
    "\n",
    "### National Sorting\n",
    "\n",
    "1 millon SAT scores\n",
    "\n",
    "0 - 1600\n",
    "\n",
    "int[] scores  = new int[1601];\n",
    "\n",
    "scores[0]\n",
    "scores[1]\n",
    "...\n",
    "scores[1600]  1204 -> scores[1204]++;"
   ]
  }
 ],
 "metadata": {
  "kernelspec": {
   "display_name": "Python 3",
   "language": "python",
   "name": "python3"
  },
  "language_info": {
   "codemirror_mode": {
    "name": "ipython",
    "version": 3
   },
   "file_extension": ".py",
   "mimetype": "text/x-python",
   "name": "python",
   "nbconvert_exporter": "python",
   "pygments_lexer": "ipython3",
   "version": "3.8.3"
  }
 },
 "nbformat": 4,
 "nbformat_minor": 4
}
