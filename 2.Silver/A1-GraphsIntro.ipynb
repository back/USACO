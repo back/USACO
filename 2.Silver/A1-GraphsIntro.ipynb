{
 "cells": [
  {
   "cell_type": "markdown",
   "metadata": {},
   "source": [
    "# Seven Bridges \n",
    "- [Seven Bridges of Königsberg](https://en.wikipedia.org/wiki/Seven_Bridges_of_K%C3%B6nigsberg)\n",
    "\n",
    "![](https://upload.wikimedia.org/wikipedia/commons/5/5d/Konigsberg_bridges.png)\n",
    "\n",
    "# Intro to Graphs\n",
    "- [Graph Theory](https://en.wikipedia.org/wiki/Graph_theory)\n",
    "- [Graph Samples](https://csacademy.com/lesson/introduction_to_graphs/)\n",
    "  - Directed Graph\n",
    "  - Undirected Graph\n",
    "  - Simple Graph\n",
    "  - Tree\n",
    "- [Representation](https://csacademy.com/lesson/graph_representation/)\n",
    "  - Ajacency Matrix\n",
    "  - Nodes List\n",
    "  - Edges List\n",
    " \n",
    "```Java\n",
    "int[][] edges = new int[50][2];\n",
    "edges[0] = {1, 5};\n",
    "edges[1] = {4, 1};\n",
    "```\n",
    "![](../image/graph_representations.png)\n",
    "\n",
    "### Easy\n",
    "- [Great Revegetation](http://www.usaco.org/index.php?page=viewproblem2&cpid=916)\n",
    "- [Milk Factory](http://www.usaco.org/index.php?page=viewproblem2&cpid=940)\n",
    "- [Livestock Lineup](http://www.usaco.org/index.php?page=viewproblem2&cpid=965)\n",
    "- [Swapity Swap](http://www.usaco.org/index.php?page=viewproblem2&cpid=1013)\n",
    "\n",
    "### Hard\n",
    "- [Cow Evolution](http://www.usaco.org/index.php?page=viewproblem2&cpid=941)\n",
    "- [Family Tree](http://www.usaco.org/index.php?page=viewproblem2&cpid=833)\n",
    "- [Grass Planting](http://www.usaco.org/index.php?page=viewproblem2&cpid=894)\n"
   ]
  }
 ],
 "metadata": {
  "kernelspec": {
   "display_name": "Python 3",
   "language": "python",
   "name": "python3"
  },
  "language_info": {
   "codemirror_mode": {
    "name": "ipython",
    "version": 3
   },
   "file_extension": ".py",
   "mimetype": "text/x-python",
   "name": "python",
   "nbconvert_exporter": "python",
   "pygments_lexer": "ipython3",
   "version": "3.8.3"
  }
 },
 "nbformat": 4,
 "nbformat_minor": 4
}
