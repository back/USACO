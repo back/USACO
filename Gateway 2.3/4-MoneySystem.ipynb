{
 "cells": [
  {
   "cell_type": "markdown",
   "metadata": {},
   "source": [
    "# Section 2.3 - Money System\n",
    "\n",
    "- Similar problems:\n",
    "  - https://cses.fi/problemset/task/1635 (distinct order)\n",
    "  - https://cses.fi/problemset/task/1636 (non-distinct order)\n",
    "\n",
    "### Read Inputs"
   ]
  },
  {
   "cell_type": "code",
   "execution_count": 1,
   "metadata": {},
   "outputs": [],
   "source": [
    "_, n = 3, 10\n",
    "v=[1,2,5]"
   ]
  },
  {
   "cell_type": "markdown",
   "metadata": {},
   "source": [
    "### Prepare the Working List\n",
    "- Use 1-index based array"
   ]
  },
  {
   "cell_type": "code",
   "execution_count": 3,
   "metadata": {},
   "outputs": [
    {
     "name": "stdout",
     "output_type": "stream",
     "text": [
      "[1, 0, 0, 0, 0, 0, 0, 0, 0, 0, 0]\n"
     ]
    }
   ],
   "source": [
    "r = [0] * (n+1)\n",
    "r[0] = 1\n",
    "print(r)"
   ]
  },
  {
   "cell_type": "markdown",
   "metadata": {},
   "source": [
    "### Calucate Combinations Level by Level\n",
    "- First, a **wrong** doing"
   ]
  },
  {
   "cell_type": "code",
   "execution_count": 8,
   "metadata": {},
   "outputs": [
    {
     "name": "stdout",
     "output_type": "stream",
     "text": [
      "[1, 1, 2, 3, 5, 9, 15, 26, 44, 75, 128]\n"
     ]
    }
   ],
   "source": [
    "for i in range(1,n+1):\n",
    "    if i>=1:\n",
    "        r[i] += r[i-1]\n",
    "    if i>=2:\n",
    "        r[i] += r[i-2]\n",
    "    if i>=5:\n",
    "        r[i] += r[i-5]\n",
    "print(r)"
   ]
  },
  {
   "cell_type": "markdown",
   "metadata": {},
   "source": [
    "- Now, the **right** way to do it\n",
    "  - (Note: please don't forget to reset the working list!)"
   ]
  },
  {
   "cell_type": "code",
   "execution_count": 4,
   "metadata": {},
   "outputs": [
    {
     "name": "stdout",
     "output_type": "stream",
     "text": [
      "[1, 1, 1, 1, 1, 1, 1, 1, 1, 1, 1]\n",
      "[1, 1, 2, 2, 3, 3, 4, 4, 5, 5, 6]\n",
      "[1, 1, 2, 2, 3, 4, 5, 6, 7, 8, 10]\n"
     ]
    }
   ],
   "source": [
    "for m in v:\n",
    "    for i in range(m,n+1):\n",
    "        r[i] += r[i-m]\n",
    "\n",
    "    print(r)"
   ]
  }
 ],
 "metadata": {
  "kernelspec": {
   "display_name": "Python 3",
   "language": "python",
   "name": "python3"
  },
  "language_info": {
   "codemirror_mode": {
    "name": "ipython",
    "version": 3
   },
   "file_extension": ".py",
   "mimetype": "text/x-python",
   "name": "python",
   "nbconvert_exporter": "python",
   "pygments_lexer": "ipython3",
   "version": "3.9.7"
  }
 },
 "nbformat": 4,
 "nbformat_minor": 4
}
