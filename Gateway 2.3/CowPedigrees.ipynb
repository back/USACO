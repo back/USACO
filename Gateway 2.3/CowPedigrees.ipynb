{
 "cells": [
  {
   "cell_type": "markdown",
   "metadata": {},
   "source": [
    "# Section 2.3 - Cow Pedigrees\n",
    "---\n",
    "Full Test Cases\n",
    "\n",
    "    5 3\n",
    "    9 4\n",
    "    15 4\n",
    "    35 7\n",
    "    75 47\n",
    "    99 15\n",
    "    172 44\n",
    "    165 65\n",
    "    177 57\n",
    "    198 56\n",
    "    199 99\n",
    "    199 77"
   ]
  },
  {
   "cell_type": "code",
   "execution_count": 8,
   "metadata": {},
   "outputs": [],
   "source": [
    "n, l = 75, 47"
   ]
  },
  {
   "cell_type": "markdown",
   "metadata": {},
   "source": [
    "---\n",
    "Recursive method\n",
    "---"
   ]
  },
  {
   "cell_type": "code",
   "execution_count": null,
   "metadata": {},
   "outputs": [],
   "source": [
    "def ped(n, l):\n",
    "\n",
    "    # n: node, l: level or height\n",
    "    if l == 1:\n",
    "        return 1 if n == 1 else 0\n",
    "    if l == 2:\n",
    "        return 1 if n == 3 else 0\n",
    "\n",
    "    sum = 0\n",
    "    \n",
    "    leftLevel = l-1\n",
    "    for leftNodes in range(1, n-1, 2):\n",
    "        left = ped(leftNodes, leftLevel) # must have height K-1\n",
    "        if left > 0:\n",
    "            for rightLevel in range(1, l):\n",
    "                right = ped(n-leftNodes-1, rightLevel)\n",
    "                if right > 0:\n",
    "                    combo = left * right\n",
    "                    if leftLevel != rightLevel:\n",
    "                        combo *= 2  # for \n",
    "                    sum += combo\n",
    "    return sum\n",
    "\n",
    "print(ped(n, l) % 9901)"
   ]
  },
  {
   "cell_type": "markdown",
   "metadata": {},
   "source": [
    "---\n",
    "Dynamic Programming method\n",
    "---\n",
    "\n",
    "1. Total Nodes must be an odd number\n",
    "1. Left tree and right tree must both be an odd number\n",
    "1. All tree and sub tree start from 1\n",
    "\n",
    "### Define DP\n",
    "\n",
    "<center>$ DP_{N, L} $ : total tree combinations with N nodes, within L levels $ \\left( 1 \\leq level \\leq L \\right) $</center>\n",
    "\n",
    "### DP State Transition Formula\n",
    "\n",
    "$$ DP_{n,l} = \\sum_{k=1}^{n-2} \\left( DP_{k,l-1} \\cdot DP_{n-1-k,l-1} \\right) $$\n",
    "\n",
    "### Final Answer\n",
    "\n",
    "<center>Total combos with <b>n</b> nodes and exact <b>l</b> levels =  $ DP_{n,l} - DP_{n,l-1} $</center>"
   ]
  },
  {
   "cell_type": "markdown",
   "metadata": {},
   "source": [
    "---\n",
    "Prepare the DP array\n",
    "---"
   ]
  },
  {
   "cell_type": "code",
   "execution_count": 88,
   "metadata": {},
   "outputs": [
    {
     "name": "stdout",
     "output_type": "stream",
     "text": [
      "[0, 0, 0, 0, 0]\n",
      "[0, 0, 0, 0, 0]\n",
      "[0, 0, 0, 0, 0]\n",
      "[0, 0, 0, 0, 0]\n",
      "[0, 0, 0, 0, 0]\n",
      "[0, 0, 0, 0, 0]\n",
      "[0, 0, 0, 0, 0]\n",
      "[0, 0, 0, 0, 0]\n",
      "[0, 0, 0, 0, 0]\n",
      "[0, 0, 0, 0, 0]\n"
     ]
    }
   ],
   "source": [
    "dp=[[0]*(l+1) for i in range(n+1)]\n",
    "\n",
    "for row in dp:\n",
    "    print(row)"
   ]
  },
  {
   "cell_type": "markdown",
   "metadata": {},
   "source": [
    "---\n",
    "Initialize Edge Cases\n",
    "---"
   ]
  },
  {
   "cell_type": "code",
   "execution_count": 89,
   "metadata": {},
   "outputs": [
    {
     "name": "stdout",
     "output_type": "stream",
     "text": [
      "[0, 0, 0, 0, 0]\n",
      "[0, 1, 1, 1, 1]\n",
      "[0, 0, 0, 0, 0]\n",
      "[0, 0, 0, 0, 0]\n",
      "[0, 0, 0, 0, 0]\n",
      "[0, 0, 0, 0, 0]\n",
      "[0, 0, 0, 0, 0]\n",
      "[0, 0, 0, 0, 0]\n",
      "[0, 0, 0, 0, 0]\n",
      "[0, 0, 0, 0, 0]\n"
     ]
    }
   ],
   "source": [
    "for i in range(1, l+1):\n",
    "    dp[1][i]=1\n",
    "\n",
    "for row in dp:\n",
    "    print(row)"
   ]
  },
  {
   "cell_type": "markdown",
   "metadata": {},
   "source": [
    "---\n",
    "Calculate each levels\n",
    "---"
   ]
  },
  {
   "cell_type": "code",
   "execution_count": 90,
   "metadata": {},
   "outputs": [
    {
     "name": "stdout",
     "output_type": "stream",
     "text": [
      "[0, 0, 0, 0, 0]\n",
      "[0, 1, 1, 1, 1]\n",
      "[0, 0, 0, 0, 0]\n",
      "[0, 0, 1, 1, 1]\n",
      "[0, 0, 0, 0, 0]\n",
      "[0, 0, 0, 2, 2]\n",
      "[0, 0, 0, 0, 0]\n",
      "[0, 0, 0, 1, 5]\n",
      "[0, 0, 0, 0, 0]\n",
      "[0, 0, 0, 0, 6]\n"
     ]
    }
   ],
   "source": [
    "for nodes in range(3, n+1):\n",
    "    for lvl in range(2, l+1):\n",
    "        combo = 0\n",
    "        for k in range(1, nodes-1, 2):\n",
    "            combo += dp[k][lvl-1] * dp[nodes-1-k][lvl-1]\n",
    "        dp[nodes][lvl]=combo\n",
    "            \n",
    "for row in dp:\n",
    "    print(row)"
   ]
  },
  {
   "cell_type": "markdown",
   "metadata": {},
   "source": [
    "---\n",
    "Find the final answer\n",
    "---"
   ]
  },
  {
   "cell_type": "code",
   "execution_count": 91,
   "metadata": {},
   "outputs": [
    {
     "name": "stdout",
     "output_type": "stream",
     "text": [
      "9 4 6\n"
     ]
    }
   ],
   "source": [
    "print(n, l, (dp[n][l] - dp[n][l-1])%9901)"
   ]
  }
 ],
 "metadata": {
  "kernelspec": {
   "display_name": "Python 3",
   "language": "python",
   "name": "python3"
  },
  "language_info": {
   "codemirror_mode": {
    "name": "ipython",
    "version": 3
   },
   "file_extension": ".py",
   "mimetype": "text/x-python",
   "name": "python",
   "nbconvert_exporter": "python",
   "pygments_lexer": "ipython3",
   "version": "3.8.3"
  }
 },
 "nbformat": 4,
 "nbformat_minor": 4
}
