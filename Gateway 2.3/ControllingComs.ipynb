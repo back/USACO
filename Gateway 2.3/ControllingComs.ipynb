{
 "cells": [
  {
   "cell_type": "markdown",
   "metadata": {},
   "source": [
    "# Section 2.3 - Controlling Companies\n",
    "---\n",
    "Read Inputs\n",
    "---\n",
    "- Also prepare the connection matrix"
   ]
  },
  {
   "cell_type": "code",
   "execution_count": 1,
   "metadata": {},
   "outputs": [
    {
     "name": "stdout",
     "output_type": "stream",
     "text": [
      "[0, 0, 0, 0]\n",
      "[0, 0, 80, 0]\n",
      "[0, 0, 0, 80]\n",
      "[0, 20, 0, 0]\n"
     ]
    }
   ],
   "source": [
    "with StringIO('''3\n",
    "1 2 80\n",
    "2 3 80\n",
    "3 1 20\n",
    "''') as fin:\n",
    "    n = int(fin.readline())\n",
    "\n",
    "    x = n+1\n",
    "    mx = [ [0] * x for _ in range(x) ]\n",
    "\n",
    "    for line in fin.readlines():\n",
    "        a,b,c = map(int, line.split())\n",
    "        mx[a][b]=c\n",
    "\n",
    "for row in mx:\n",
    "    print(row)"
   ]
  },
  {
   "cell_type": "markdown",
   "metadata": {},
   "source": [
    "---\n",
    "Calculate the Ultimate Ownership\n",
    "---"
   ]
  },
  {
   "cell_type": "code",
   "execution_count": 4,
   "metadata": {},
   "outputs": [
    {
     "name": "stdout",
     "output_type": "stream",
     "text": [
      "Calculating comp: 1\n",
      "Discovering: [1]\n",
      "myShares - After : [0, 0, 80, 0]\n",
      "Checked: [1]\n",
      "\n",
      "Discovering: [2]\n",
      "myShares - After : [0, 0, 80, 80]\n",
      "Checked: [1, 2]\n",
      "\n",
      "Discovering: [3]\n",
      "myShares - After : [0, 20, 80, 80]\n",
      "Checked: [1, 2, 3]\n",
      "\n",
      "1 2\n",
      "\n",
      "1 3\n",
      "\n",
      "Calculating comp: 2\n",
      "Discovering: [2]\n",
      "myShares - After : [0, 0, 0, 80]\n",
      "Checked: [2]\n",
      "\n",
      "Discovering: [3]\n",
      "myShares - After : [0, 20, 0, 80]\n",
      "Checked: [2, 3]\n",
      "\n",
      "2 3\n",
      "\n",
      "Calculating comp: 3\n",
      "Discovering: [3]\n",
      "myShares - After : [0, 20, 0, 0]\n",
      "Checked: [3]\n",
      "\n"
     ]
    }
   ],
   "source": [
    "for comp in range(1,x):\n",
    "    print('Calculating comp: %s' % comp)\n",
    "\n",
    "    myShares = [0] * x\n",
    "    discover = [comp] # first loop to add self owned shares\n",
    "    checked  = []\n",
    "\n",
    "    while discover:\n",
    "        print('Discovering: %s' % discover)\n",
    "        for i in discover:\n",
    "            myShares=[a+b for a, b in zip(mx[i], myShares)]\n",
    "            print('myShares - After : %s' % myShares)\n",
    "        checked.extend(discover)\n",
    "        discover = [i for i in range(1,x) if myShares[i]>50 and i not in checked]\n",
    "        print('Checked: %s\\n' % checked)\n",
    "\n",
    "    for i in range(1,x):\n",
    "        if myShares[i]>50 and comp != i:\n",
    "            print(comp, i)\n",
    "            print()"
   ]
  }
 ],
 "metadata": {
  "kernelspec": {
   "display_name": "Python 3",
   "language": "python",
   "name": "python3"
  },
  "language_info": {
   "codemirror_mode": {
    "name": "ipython",
    "version": 3
   },
   "file_extension": ".py",
   "mimetype": "text/x-python",
   "name": "python",
   "nbconvert_exporter": "python",
   "pygments_lexer": "ipython3",
   "version": "3.8.3"
  }
 },
 "nbformat": 4,
 "nbformat_minor": 4
}
