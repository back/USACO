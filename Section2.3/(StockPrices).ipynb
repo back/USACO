{
 "cells": [
  {
   "cell_type": "markdown",
   "metadata": {},
   "source": [
    "# Best Time to Buy and Sell Stock\n",
    "https://leetcode.com/problems/best-time-to-buy-and-sell-stock/\n",
    "\n",
    "---\n",
    "Sample Inputs\n",
    "---"
   ]
  },
  {
   "cell_type": "code",
   "execution_count": 1,
   "metadata": {},
   "outputs": [],
   "source": [
    "prices = [7,1,5,3,6,4]"
   ]
  },
  {
   "cell_type": "markdown",
   "metadata": {},
   "source": [
    "---\n",
    "Simple Search\n",
    "---\n",
    "- Everytime we advance for a new price, there are 2 things to do:\n",
    " - If it brings more profit, update the max profit\n",
    " - If it is new low, then update the min price\n",
    " \n",
    "However, it has to be in that specific order..."
   ]
  },
  {
   "cell_type": "code",
   "execution_count": 2,
   "metadata": {},
   "outputs": [
    {
     "name": "stdout",
     "output_type": "stream",
     "text": [
      "5\n"
     ]
    }
   ],
   "source": [
    "maxProfit = 0\n",
    "minPrice = prices[0]\n",
    "\n",
    "for p in prices[1:]:\n",
    "    tryProfit = p-minPrice\n",
    "    if tryProfit > maxProfit:\n",
    "        maxProfit = tryProfit\n",
    "\n",
    "    if p < minPrice:\n",
    "        minPrice = p\n",
    "        \n",
    "print(maxProfit)"
   ]
  }
 ],
 "metadata": {
  "kernelspec": {
   "display_name": "Python 3",
   "language": "python",
   "name": "python3"
  },
  "language_info": {
   "codemirror_mode": {
    "name": "ipython",
    "version": 3
   },
   "file_extension": ".py",
   "mimetype": "text/x-python",
   "name": "python",
   "nbconvert_exporter": "python",
   "pygments_lexer": "ipython3",
   "version": "3.8.3"
  }
 },
 "nbformat": 4,
 "nbformat_minor": 4
}
