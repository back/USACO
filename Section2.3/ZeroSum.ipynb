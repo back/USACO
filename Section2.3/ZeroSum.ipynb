{
 "cells": [
  {
   "cell_type": "markdown",
   "metadata": {},
   "source": [
    "# Section 2.3 - Zero Sum\n",
    "---\n",
    "Read Inputs"
   ]
  },
  {
   "cell_type": "code",
   "execution_count": 11,
   "metadata": {},
   "outputs": [],
   "source": [
    "n=4\n",
    "p='+- '"
   ]
  },
  {
   "cell_type": "markdown",
   "metadata": {},
   "source": [
    "---\n",
    "Prepare all possible combinations of operators\n",
    "---"
   ]
  },
  {
   "cell_type": "code",
   "execution_count": 12,
   "metadata": {},
   "outputs": [],
   "source": [
    "ops = ['']\n",
    "while len(ops[0]) < n-1:\n",
    "    x = ops.pop(0)\n",
    "    ops.extend(x+i for i in p)\n",
    "\n",
    "#print(ops)"
   ]
  },
  {
   "cell_type": "code",
   "execution_count": 27,
   "metadata": {},
   "outputs": [
    {
     "name": "stdout",
     "output_type": "stream",
     "text": [
      "\"+++\"    1+2+3+4\n",
      "\"++-\"    1+2+3-4\n",
      "\"++ \"    1+2+3 4\n",
      "\"+-+\"    1+2-3+4\n",
      "\"+--\"    1+2-3-4\n",
      "\"+- \"    1+2-3 4\n",
      "\"+ +\"    1+2 3+4\n",
      "\"+ -\"    1+2 3-4\n",
      "\"+  \"    1+2 3 4\n",
      "\"-++\"    1-2+3+4\n",
      "\"-+-\"    1-2+3-4\n",
      "\"-+ \"    1-2+3 4\n",
      "\"--+\"    1-2-3+4\n",
      "\"---\"    1-2-3-4\n",
      "\"-- \"    1-2-3 4\n",
      "\"- +\"    1-2 3+4\n",
      "\"- -\"    1-2 3-4\n",
      "\"-  \"    1-2 3 4\n",
      "\" ++\"    1 2+3+4\n",
      "\" +-\"    1 2+3-4\n",
      "\" + \"    1 2+3 4\n",
      "\" -+\"    1 2-3+4\n",
      "\" --\"    1 2-3-4\n",
      "\" - \"    1 2-3 4\n",
      "\"  +\"    1 2 3+4\n",
      "\"  -\"    1 2 3-4\n",
      "\"   \"    1 2 3 4\n"
     ]
    }
   ],
   "source": [
    "for op in ops:\n",
    "    print('\"%s\"' % op, end='    ')\n",
    "    for i in range(1,n):\n",
    "        print(i, end='')\n",
    "        print(op[i-1], end='')\n",
    "    print(n)"
   ]
  },
  {
   "cell_type": "markdown",
   "metadata": {},
   "source": [
    "---\n",
    "Now insert the number to verify the results\n",
    "---"
   ]
  },
  {
   "cell_type": "code",
   "execution_count": 13,
   "metadata": {},
   "outputs": [
    {
     "name": "stdout",
     "output_type": "stream",
     "text": [
      "1+2+3+4 = 10\n",
      "1+2+3-4 = 2\n",
      "1+2+3 4 = 37\n",
      "1+2-3+4 = 4\n",
      "1+2-3-4 = -4\n",
      "1+2-3 4 = -31\n",
      "1+2 3+4 = 28\n",
      "1+2 3-4 = 20\n",
      "1+2 3 4 = 235\n",
      "1-2+3+4 = 6\n",
      "1-2+3-4 = -2\n",
      "1-2+3 4 = 33\n",
      "1-2-3+4 = 0\n",
      "1-2-3-4 = -8\n",
      "1-2-3 4 = -35\n",
      "1-2 3+4 = -18\n",
      "1-2 3-4 = -26\n",
      "1-2 3 4 = -233\n",
      "1 2+3+4 = 19\n",
      "1 2+3-4 = 11\n",
      "1 2+3 4 = 46\n",
      "1 2-3+4 = 13\n",
      "1 2-3-4 = 5\n",
      "1 2-3 4 = -22\n",
      "1 2 3+4 = 127\n",
      "1 2 3-4 = 119\n",
      "1 2 3 4 = 1234\n"
     ]
    }
   ],
   "source": [
    "for op in ops:\n",
    "    base, change = 1, 0\n",
    "    for i in range(1, n):\n",
    "        operator = op[i-1]\n",
    "        currNumber = i+1\n",
    "        if operator == ' ':\n",
    "            change *= 10\n",
    "            if change > 0:\n",
    "                change += currNumber\n",
    "            else:\n",
    "                change -= currNumber\n",
    "        else:\n",
    "            base += change\n",
    "            if operator == '+':\n",
    "                change = currNumber\n",
    "            if operator == '-':\n",
    "                change = -currNumber\n",
    "\n",
    "    print(1,end='')\n",
    "    for i in range(1,n):\n",
    "        print(op[i-1], end='')\n",
    "        print(  i+1,   end='')\n",
    "    print(' = %s' % (base+change))"
   ]
  }
 ],
 "metadata": {
  "kernelspec": {
   "display_name": "Python 3",
   "language": "python",
   "name": "python3"
  },
  "language_info": {
   "codemirror_mode": {
    "name": "ipython",
    "version": 3
   },
   "file_extension": ".py",
   "mimetype": "text/x-python",
   "name": "python",
   "nbconvert_exporter": "python",
   "pygments_lexer": "ipython3",
   "version": "3.8.3"
  }
 },
 "nbformat": 4,
 "nbformat_minor": 4
}
