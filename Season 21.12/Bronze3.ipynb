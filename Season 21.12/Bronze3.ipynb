{
 "cells": [
  {
   "cell_type": "markdown",
   "id": "278e43bc-7afb-46e8-81fe-fbcd78f09bc4",
   "metadata": {},
   "source": [
    "# Walking Home\n",
    "> http://usaco.org/index.php?page=viewproblem2&cpid=1157\n",
    "\n",
    "### Official Analysis\n",
    "> http://usaco.org/current/data/sol_prob3_bronze_dec21.html\n",
    "\n",
    "K=1: If Bessie can only turn once, she must turn at either the top-right corner or the bottom-left corner. Therefore, it suffices to check that the top row and right column are empty and that the bottom row and left column are empty.\n",
    "\n",
    "K=2: If Bessie is to make exactly two turns, then either she walks along the top row, turns right and walks all the way to the bottom and then turns left, or she walks along the left column, turns left, and walks all the way to the right and then turns right. In the former case, we can brute force all columns Bessie would select. In the latter case, we can brute force all rows Bessie would select.\n",
    "\n",
    "K=3: If Bessie is to make exactly three turns, then Bessie ends up turning in the middle of the grid in some square that is not in the top row, bottom row, left column, or right column. We can brute force all inner squares that Bessie would select.\n",
    "\n",
    "#### The runtime for a single test case is $ O(N^3) $:\n",
    "- There are $ O(N^2) $ paths that Bessie can consider\n",
    "- And there are $ O(N) $ squares on each path to validate as being empty\n",
    "\n",
    "### Alternative Solution\n",
    "\n",
    "Storing for each square, each possible number of turns (up to K), and each of the directions D and R, the number of ways for Bessie to reach that square using exactly that number of turns such that the last direction in which she walked was that direction. However, this is outside of the scope of both Bronze and Silver.\n",
    "### Simulate Inputs\n",
    "- Only take the last test maze as for demo"
   ]
  },
  {
   "cell_type": "code",
   "execution_count": 1,
   "id": "b1fd7e23",
   "metadata": {},
   "outputs": [],
   "source": [
    "import sys\n",
    "sys.stdin = StringIO('''4 3\n",
    "...H\n",
    ".H..\n",
    "....\n",
    "H...\n",
    "''')"
   ]
  },
  {
   "cell_type": "markdown",
   "id": "9952dbc3-bee0-4184-9a4c-90f120144fb9",
   "metadata": {},
   "source": [
    "### Read Inputs"
   ]
  },
  {
   "cell_type": "code",
   "execution_count": 8,
   "id": "31854e3a-58f5-4dd7-b04c-275de85448bf",
   "metadata": {},
   "outputs": [
    {
     "name": "stdin",
     "output_type": "stream",
     "text": [
      " 5,1\n"
     ]
    },
    {
     "ename": "ValueError",
     "evalue": "invalid literal for int() with base 10: '5,1'",
     "output_type": "error",
     "traceback": [
      "\u001b[1;31m---------------------------------------------------------------------------\u001b[0m",
      "\u001b[1;31mValueError\u001b[0m                                Traceback (most recent call last)",
      "Input \u001b[1;32mIn [8]\u001b[0m, in \u001b[0;36m<cell line: 5>\u001b[1;34m()\u001b[0m\n\u001b[0;32m      1\u001b[0m \u001b[38;5;66;03m# Only need below 2 lines when we read in multiple test cases:\u001b[39;00m\n\u001b[0;32m      2\u001b[0m \u001b[38;5;66;03m# T=int(sys.stdin.readline())\u001b[39;00m\n\u001b[0;32m      3\u001b[0m \u001b[38;5;66;03m# for _ in range(T):\u001b[39;00m\n\u001b[1;32m----> 5\u001b[0m n, t \u001b[38;5;241m=\u001b[39m \u001b[38;5;28mmap\u001b[39m(\u001b[38;5;28mint\u001b[39m, \u001b[38;5;28minput\u001b[39m()\u001b[38;5;241m.\u001b[39msplit())\n\u001b[0;32m      7\u001b[0m m \u001b[38;5;241m=\u001b[39m [\u001b[38;5;28mlist\u001b[39m(\u001b[38;5;28minput\u001b[39m()\u001b[38;5;241m.\u001b[39mstrip()) \u001b[38;5;28;01mfor\u001b[39;00m _ \u001b[38;5;129;01min\u001b[39;00m \u001b[38;5;28mrange\u001b[39m(n)]\n\u001b[0;32m     10\u001b[0m n,t \u001b[38;5;241m=\u001b[39m \u001b[38;5;28mmap\u001b[39m(\u001b[38;5;28mint\u001b[39m, sys\u001b[38;5;241m.\u001b[39mstdin\u001b[38;5;241m.\u001b[39mreadline()\u001b[38;5;241m.\u001b[39msplit())\n",
      "\u001b[1;31mValueError\u001b[0m: invalid literal for int() with base 10: '5,1'"
     ]
    }
   ],
   "source": [
    "# Only need below 2 lines when we read in multiple test cases:\n",
    "# T=int(sys.stdin.readline())\n",
    "# for _ in range(T):\n",
    "\n",
    "int n, t;\n",
    "cin >> n >> t;\n",
    "\n",
    "string s;\n",
    "cin >> s;\n",
    "\n",
    "\n",
    "m = [list(input().strip()) for _ in range(n)]\n",
    "\n",
    "\n",
    "n,t = map(int, sys.stdin.readline().split())\n",
    "m = [list(sys.stdin.readline().strip()) for _ in range(n)]\n",
    "pp(m)"
   ]
  },
  {
   "cell_type": "markdown",
   "id": "7be0497b-de5e-4ae5-b4c1-740ec0dbed4b",
   "metadata": {},
   "source": [
    "### Prepare a DP Matrix\n",
    "\n",
    "- We are preparing a matrix in size of N x N\n",
    "- Then in each cell, we need to put a 4 x 2 sub matrix to hold all data we need:\n",
    "\n",
    "|Each Cell Data Holds a|4x2 Sub Matrix|\n",
    "|-------------------|-----------------|\n",
    "| $ K[0]_{-left} $ | $ K[0]_{-up} $ |\n",
    "| $ K[1]_{-left} $ | $ K[1]_{-up} $ |\n",
    "| $ K[2]_{-left} $ | $ K[2]_{-up} $ |\n",
    "| $ K[3]_{-left} $ | $ K[3]_{-up} $ |"
   ]
  },
  {
   "cell_type": "code",
   "execution_count": 3,
   "id": "3f24e5c1-109a-40e3-9c44-28e24dfc48e8",
   "metadata": {},
   "outputs": [
    {
     "name": "stdout",
     "output_type": "stream",
     "text": [
      "[[[[0, 0], [0, 0], [0, 0], [0, 0]],\n",
      "  [[0, 0], [0, 0], [0, 0], [0, 0]],\n",
      "  [[0, 0], [0, 0], [0, 0], [0, 0]],\n",
      "  [[0, 0], [0, 0], [0, 0], [0, 0]]],\n",
      " [[[0, 0], [0, 0], [0, 0], [0, 0]],\n",
      "  [[0, 0], [0, 0], [0, 0], [0, 0]],\n",
      "  [[0, 0], [0, 0], [0, 0], [0, 0]],\n",
      "  [[0, 0], [0, 0], [0, 0], [0, 0]]],\n",
      " [[[0, 0], [0, 0], [0, 0], [0, 0]],\n",
      "  [[0, 0], [0, 0], [0, 0], [0, 0]],\n",
      "  [[0, 0], [0, 0], [0, 0], [0, 0]],\n",
      "  [[0, 0], [0, 0], [0, 0], [0, 0]]],\n",
      " [[[0, 0], [0, 0], [0, 0], [0, 0]],\n",
      "  [[0, 0], [0, 0], [0, 0], [0, 0]],\n",
      "  [[0, 0], [0, 0], [0, 0], [0, 0]],\n",
      "  [[0, 0], [0, 0], [0, 0], [0, 0]]]]\n"
     ]
    }
   ],
   "source": [
    "s = [[0] * n for _ in range(n)]\n",
    "for i in range(n):\n",
    "    for j in range(n):\n",
    "        s[i][j] = [[0,0] for _ in range(t+1)]\n",
    "pp(s)"
   ]
  },
  {
   "cell_type": "markdown",
   "id": "0a27f5ee-57f1-4b7e-b808-e46dcac3c898",
   "metadata": {},
   "source": [
    "### Prepare First Row Initial Data"
   ]
  },
  {
   "cell_type": "code",
   "execution_count": 4,
   "id": "9f439d49-b463-45e2-9f36-026fdb41581a",
   "metadata": {},
   "outputs": [
    {
     "name": "stdout",
     "output_type": "stream",
     "text": [
      "[[[[0, 0], [0, 0], [0, 0], [0, 0]],\n",
      "  [[1, 0], [0, 0], [0, 0], [0, 0]],\n",
      "  [[1, 0], [0, 0], [0, 0], [0, 0]],\n",
      "  [[0, 0], [0, 0], [0, 0], [0, 0]]],\n",
      " [[[0, 0], [0, 0], [0, 0], [0, 0]],\n",
      "  [[0, 0], [0, 0], [0, 0], [0, 0]],\n",
      "  [[0, 0], [0, 0], [0, 0], [0, 0]],\n",
      "  [[0, 0], [0, 0], [0, 0], [0, 0]]],\n",
      " [[[0, 0], [0, 0], [0, 0], [0, 0]],\n",
      "  [[0, 0], [0, 0], [0, 0], [0, 0]],\n",
      "  [[0, 0], [0, 0], [0, 0], [0, 0]],\n",
      "  [[0, 0], [0, 0], [0, 0], [0, 0]]],\n",
      " [[[0, 0], [0, 0], [0, 0], [0, 0]],\n",
      "  [[0, 0], [0, 0], [0, 0], [0, 0]],\n",
      "  [[0, 0], [0, 0], [0, 0], [0, 0]],\n",
      "  [[0, 0], [0, 0], [0, 0], [0, 0]]]]\n"
     ]
    }
   ],
   "source": [
    "blocked = False\n",
    "for i in range(1,n):\n",
    "    if m[0][i] == 'H':\n",
    "        blocked = True\n",
    "    elif not blocked:\n",
    "        s[0][i][0][0] = 1\n",
    "pp(s)"
   ]
  },
  {
   "cell_type": "markdown",
   "id": "f14efe0b-b7b7-48c6-bf3d-34bc15ea7d88",
   "metadata": {},
   "source": [
    "### Prepare the First Column Initial Data"
   ]
  },
  {
   "cell_type": "code",
   "execution_count": 5,
   "id": "7419fe72-e19e-478a-b001-7193c6bb81ab",
   "metadata": {},
   "outputs": [
    {
     "name": "stdout",
     "output_type": "stream",
     "text": [
      "[[[[0, 0], [0, 0], [0, 0], [0, 0]],\n",
      "  [[1, 0], [0, 0], [0, 0], [0, 0]],\n",
      "  [[1, 0], [0, 0], [0, 0], [0, 0]],\n",
      "  [[0, 0], [0, 0], [0, 0], [0, 0]]],\n",
      " [[[0, 1], [0, 0], [0, 0], [0, 0]],\n",
      "  [[0, 0], [0, 0], [0, 0], [0, 0]],\n",
      "  [[0, 0], [0, 0], [0, 0], [0, 0]],\n",
      "  [[0, 0], [0, 0], [0, 0], [0, 0]]],\n",
      " [[[0, 1], [0, 0], [0, 0], [0, 0]],\n",
      "  [[0, 0], [0, 0], [0, 0], [0, 0]],\n",
      "  [[0, 0], [0, 0], [0, 0], [0, 0]],\n",
      "  [[0, 0], [0, 0], [0, 0], [0, 0]]],\n",
      " [[[0, 0], [0, 0], [0, 0], [0, 0]],\n",
      "  [[0, 0], [0, 0], [0, 0], [0, 0]],\n",
      "  [[0, 0], [0, 0], [0, 0], [0, 0]],\n",
      "  [[0, 0], [0, 0], [0, 0], [0, 0]]]]\n"
     ]
    }
   ],
   "source": [
    "blocked = False\n",
    "for i in range(1,n):\n",
    "    if m[i][0] == 'H':\n",
    "        blocked = True\n",
    "    elif not blocked:\n",
    "        s[i][0][0][1] = 1\n",
    "pp(s)"
   ]
  },
  {
   "cell_type": "markdown",
   "id": "03c27c63-9683-4d1a-833b-248b936758b3",
   "metadata": {},
   "source": [
    "### Now to DP from Top-Left Cell to Bottom-Right Cell"
   ]
  },
  {
   "cell_type": "code",
   "execution_count": 6,
   "id": "4854f56b-f53f-489b-9853-cb2cde990464",
   "metadata": {},
   "outputs": [
    {
     "name": "stdout",
     "output_type": "stream",
     "text": [
      "[[[[0, 0], [0, 0], [0, 0], [0, 0]],\n",
      "  [[1, 0], [0, 0], [0, 0], [0, 0]],\n",
      "  [[1, 0], [0, 0], [0, 0], [0, 0]],\n",
      "  [[0, 0], [0, 0], [0, 0], [0, 0]]],\n",
      " [[[0, 1], [0, 0], [0, 0], [0, 0]],\n",
      "  [[0, 0], [0, 0], [0, 0], [0, 0]],\n",
      "  [[0, 0], [0, 1], [0, 0], [0, 0]],\n",
      "  [[0, 0], [0, 0], [1, 0], [0, 0]]],\n",
      " [[[0, 1], [0, 0], [0, 0], [0, 0]],\n",
      "  [[0, 0], [1, 0], [0, 0], [0, 0]],\n",
      "  [[0, 0], [1, 1], [0, 0], [0, 0]],\n",
      "  [[0, 0], [1, 0], [1, 0], [0, 1]]],\n",
      " [[[0, 0], [0, 0], [0, 0], [0, 0]],\n",
      "  [[0, 0], [0, 0], [0, 1], [0, 0]],\n",
      "  [[0, 0], [0, 1], [0, 1], [1, 0]],\n",
      "  [[0, 0], [0, 0], [1, 1], [2, 2]]]]\n"
     ]
    }
   ],
   "source": [
    "for row in range(1,n):\n",
    "    for col in range(1,n):\n",
    "        if m[row][col]!='H':\n",
    "            a = s[row][col-1] if col else z\n",
    "            b = s[row-1][col] if row else z\n",
    "            for i in range(t+1):\n",
    "                s[row][col][i][0] = a[i][0] + (a[i-1][1] if i else 0)\n",
    "                s[row][col][i][1] = b[i][1] + (b[i-1][0] if i else 0)\n",
    "\n",
    "pp(s)"
   ]
  },
  {
   "cell_type": "code",
   "execution_count": 7,
   "id": "cc40806f-a653-4211-b5b0-cf10272a001a",
   "metadata": {},
   "outputs": [
    {
     "name": "stdout",
     "output_type": "stream",
     "text": [
      "[[0, 0], [0, 0], [1, 1], [2, 2]]\n",
      "6\n"
     ]
    }
   ],
   "source": [
    "print(s[row][col])\n",
    "print(sum(sum(_) for _ in s[row][col]))"
   ]
  }
 ],
 "metadata": {
  "kernelspec": {
   "display_name": "Python 3",
   "language": "python",
   "name": "python3"
  },
  "language_info": {
   "codemirror_mode": {
    "name": "ipython",
    "version": 3
   },
   "file_extension": ".py",
   "mimetype": "text/x-python",
   "name": "python",
   "nbconvert_exporter": "python",
   "pygments_lexer": "ipython3",
   "version": "3.9.7"
  }
 },
 "nbformat": 4,
 "nbformat_minor": 5
}
