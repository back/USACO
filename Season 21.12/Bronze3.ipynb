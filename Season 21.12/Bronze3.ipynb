{
 "cells": [
  {
   "cell_type": "markdown",
   "id": "f45c5c4e",
   "metadata": {},
   "source": [
    "# Maze\n",
    "\n",
    "### Simulate Inputs"
   ]
  },
  {
   "cell_type": "code",
   "execution_count": 39,
   "id": "b1fd7e23",
   "metadata": {},
   "outputs": [],
   "source": [
    "import sys\n",
    "sys.stdin = StringIO('''7\n",
    "3 1\n",
    "...\n",
    "...\n",
    "...\n",
    "3 2\n",
    "...\n",
    "...\n",
    "...\n",
    "3 3\n",
    "...\n",
    "...\n",
    "...\n",
    "3 3\n",
    "...\n",
    ".H.\n",
    "...\n",
    "3 2\n",
    ".HH\n",
    "HHH\n",
    "HH.\n",
    "3 3\n",
    ".H.\n",
    "H..\n",
    "...\n",
    "4 3\n",
    "...H\n",
    ".H..\n",
    "....\n",
    "H...\n",
    "''')"
   ]
  },
  {
   "cell_type": "markdown",
   "id": "7aa1b67b",
   "metadata": {},
   "source": [
    "### Solution"
   ]
  },
  {
   "cell_type": "code",
   "execution_count": 40,
   "id": "5183e739",
   "metadata": {},
   "outputs": [
    {
     "name": "stdout",
     "output_type": "stream",
     "text": [
      "2\n",
      "4\n",
      "6\n",
      "2\n",
      "0\n",
      "0\n",
      "6\n"
     ]
    }
   ],
   "source": [
    "n=int(sys.stdin.readline())\n",
    "for _ in range(n):\n",
    "    n,t = map(int, sys.stdin.readline().split())\n",
    "    m = [list(sys.stdin.readline().strip()) for _ in range(n)]\n",
    "    s = [[0] * n for _ in range(n)]\n",
    "    \n",
    "    blocked = False\n",
    "    for i in range(1,n):\n",
    "        s[0][i] = [[0,0] for _ in range(t+1)]\n",
    "        if m[0][i] == 'H':\n",
    "            blocked = True\n",
    "        elif not blocked:\n",
    "            s[0][i][0][0] = 1\n",
    "            \n",
    "    blocked = False\n",
    "    for i in range(1,n):\n",
    "        s[i][0] = [[0,0] for _ in range(t+1)]\n",
    "        if m[i][0] == 'H':\n",
    "            blocked = True\n",
    "        elif not blocked:\n",
    "            s[i][0][0][1] = 1\n",
    "\n",
    "    for row in range(1,n):\n",
    "        for col in range(1,n):\n",
    "            s[row][col]=[[0,0] for _ in range(t+1)]\n",
    "            if m[row][col]!='H':\n",
    "                a = s[row][col-1] if col else z\n",
    "                b = s[row-1][col] if row else z\n",
    "                for i in range(t+1):\n",
    "                    s[row][col][i][0] = a[i][0] + (a[i-1][1] if i else 0)\n",
    "                    s[row][col][i][1] = b[i][1] + (b[i-1][0] if i else 0)\n",
    "\n",
    "    #pp(s)\n",
    "    print(sum(sum(_) for _ in s[row][col]))"
   ]
  }
 ],
 "metadata": {
  "kernelspec": {
   "display_name": "Python 3 (ipykernel)",
   "language": "python",
   "name": "python3"
  },
  "language_info": {
   "codemirror_mode": {
    "name": "ipython",
    "version": 3
   },
   "file_extension": ".py",
   "mimetype": "text/x-python",
   "name": "python",
   "nbconvert_exporter": "python",
   "pygments_lexer": "ipython3",
   "version": "3.9.7"
  }
 },
 "nbformat": 4,
 "nbformat_minor": 5
}
