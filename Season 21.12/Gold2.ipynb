{
 "cells": [
  {
   "cell_type": "markdown",
   "id": "a46627a9",
   "metadata": {},
   "source": [
    "# HILO\n",
    "\n",
    "### Read Inputs"
   ]
  },
  {
   "cell_type": "code",
   "execution_count": 40,
   "id": "42e0a399",
   "metadata": {},
   "outputs": [],
   "source": [
    "import sys\n",
    "sys.stdin = StringIO('''10\n",
    "8 3 6 1 9 7 2 4 5 10\n",
    "''')\n",
    "\n",
    "n=int(sys.stdin.readline())\n",
    "s=list(map(int, sys.stdin.readline().split()))\n",
    "\n",
    "r = [0] * (n+1)  # answer\n",
    "m = [] # HI mark ranges\n",
    "\n",
    "def find(x):\n",
    "    for i, v in enumerate(m):\n",
    "        if x > v[0] and x < v[1]:\n",
    "            return i\n",
    "    return -1\n",
    "\n",
    "def loBound(x, i):\n",
    "    filterList = [i for i in s[:i] if i<x]\n",
    "    return max(filterList) if filterList else 0"
   ]
  },
  {
   "cell_type": "code",
   "execution_count": 41,
   "id": "58992cfe",
   "metadata": {},
   "outputs": [
    {
     "name": "stdout",
     "output_type": "stream",
     "text": [
      "[[0, 8]] -1\n",
      "[0, 0, 0, 0, 0, 0, 0, 0, 0, 0, 0]\n",
      "[[0, 3]] 0\n",
      "[0, 0, 0, 1, 1, 1, 1, 1, 0, 0, 0]\n",
      "[[0, 3], [3, 6]] -1\n",
      "[0, 0, 0, 1, 1, 1, 1, 1, 0, 0, 0]\n",
      "[[0, 1], [3, 6]] 0\n",
      "[0, 1, 1, 1, 1, 1, 1, 1, 0, 0, 0]\n",
      "[[0, 1], [3, 6], [8, 9]] -1\n",
      "[0, 1, 1, 1, 1, 1, 1, 1, 0, 0, 0]\n",
      "[[0, 1], [3, 6], [8, 9], [6, 7]] -1\n",
      "[0, 1, 1, 1, 1, 1, 1, 1, 0, 0, 0]\n",
      "[[0, 1], [3, 6], [8, 9], [6, 7], [1, 2]] -1\n",
      "[0, 1, 1, 1, 1, 1, 1, 1, 0, 0, 0]\n",
      "[[0, 1], [3, 4], [8, 9], [6, 7], [1, 2]] 1\n",
      "[0, 1, 1, 1, 2, 2, 1, 1, 0, 0, 0]\n",
      "[[0, 1], [3, 4], [8, 9], [6, 7], [1, 2], [4, 5]] -1\n",
      "[0, 1, 1, 1, 2, 2, 1, 1, 0, 0, 0]\n",
      "[[0, 1], [3, 4], [8, 9], [6, 7], [1, 2], [4, 5], [9, 10]] -1\n",
      "[0, 1, 1, 1, 2, 2, 1, 1, 0, 0, 0]\n"
     ]
    }
   ],
   "source": [
    "for i in range(n):\n",
    "    pos = find(s[i])\n",
    "    if pos < 0:\n",
    "        lo = loBound(s[i], i)\n",
    "        m.append([lo, s[i]])\n",
    "    else:\n",
    "        for j in range(s[i], m[pos][1]):\n",
    "            r[j]+=1\n",
    "        m[pos][1] = s[i]\n",
    "    print(m, pos)\n",
    "    print(r)"
   ]
  },
  {
   "cell_type": "code",
   "execution_count": 20,
   "id": "36c8a168",
   "metadata": {},
   "outputs": [
    {
     "name": "stdout",
     "output_type": "stream",
     "text": [
      "x: [1, 1, 1, 1, 1, 1, 1, 1, 0, 0, 0]\n",
      "a: [0, 0, 0, 0, 0, 0, 0, 0, 0, 0, 0] 8\n",
      "\n",
      "x: [1, 1, 1, 0, 0, 0, 0, 0, 0, 0, 0]\n",
      "a: [0, 0, 0, 1, 1, 1, 1, 1, 0, 0, 0] 3\n",
      "\n",
      "x: [1, 1, 1, 1, 1, 1, 0, 0, 0, 0, 0]\n",
      "a: [0, 0, 0, 1, 1, 1, 1, 1, 0, 0, 0] 6\n",
      "\n",
      "x: [1, 0, 0, 1, 1, 1, 0, 0, 0, 0, 0]\n",
      "a: [0, 1, 1, 1, 1, 1, 1, 1, 0, 0, 0] 1\n",
      "\n",
      "x: [1, 0, 0, 1, 1, 1, 0, 0, 1, 0, 0]\n",
      "a: [0, 1, 1, 1, 1, 1, 1, 1, 0, 0, 0] 9\n",
      "\n",
      "x: [1, 0, 0, 1, 1, 1, 1, 0, 1, 0, 0]\n",
      "a: [0, 1, 1, 1, 1, 1, 1, 1, 0, 0, 0] 7\n",
      "\n",
      "x: [1, 1, 0, 1, 1, 1, 1, 0, 1, 0, 0]\n",
      "a: [0, 1, 1, 1, 1, 1, 1, 1, 0, 0, 0] 2\n",
      "\n",
      "x: [1, 1, 0, 1, 0, 0, 1, 0, 1, 0, 0]\n",
      "a: [0, 1, 1, 1, 2, 2, 1, 1, 0, 0, 0] 4\n",
      "\n",
      "x: [1, 1, 0, 1, 1, 0, 1, 0, 1, 0, 0]\n",
      "a: [0, 1, 1, 1, 2, 2, 1, 1, 0, 0, 0] 5\n",
      "\n",
      "x: [1, 1, 0, 1, 1, 0, 1, 0, 1, 1, 0]\n",
      "a: [0, 1, 1, 1, 2, 2, 1, 1, 0, 0, 0] 10\n",
      "\n"
     ]
    }
   ],
   "source": [
    "for i in s:\n",
    "    for j in range(i-1, -1, -1):\n",
    "        if x[j]==0:\n",
    "            x[j]=1\n",
    "            if v[j]==1:\n",
    "                break\n",
    "        else:\n",
    "            break\n",
    "    for j in range(i,n+1):\n",
    "        if x[j]==1 and v[j]==0:\n",
    "            x[j]=0\n",
    "            a[j]+=1\n",
    "        else:\n",
    "            break\n",
    "    v[i] = 1\n",
    "    print('x:', x)\n",
    "    print('a:', a, i)\n",
    "    print()"
   ]
  },
  {
   "cell_type": "code",
   "execution_count": 42,
   "id": "4cab36de",
   "metadata": {},
   "outputs": [
    {
     "name": "stdin",
     "output_type": "stream",
     "text": [
      " 2 3 3 5 4 5\n"
     ]
    },
    {
     "name": "stdout",
     "output_type": "stream",
     "text": [
      "[2, 3, 3, 5, 4, 5]\n"
     ]
    }
   ],
   "source": [
    "x = list(map(int, input().split()))\n",
    "print(x)"
   ]
  }
 ],
 "metadata": {
  "kernelspec": {
   "display_name": "Python 3 (ipykernel)",
   "language": "python",
   "name": "python3"
  },
  "language_info": {
   "codemirror_mode": {
    "name": "ipython",
    "version": 3
   },
   "file_extension": ".py",
   "mimetype": "text/x-python",
   "name": "python",
   "nbconvert_exporter": "python",
   "pygments_lexer": "ipython3",
   "version": "3.9.7"
  }
 },
 "nbformat": 4,
 "nbformat_minor": 5
}
