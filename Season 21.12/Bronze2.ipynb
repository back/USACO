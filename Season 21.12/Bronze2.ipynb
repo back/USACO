{
 "cells": [
  {
   "cell_type": "markdown",
   "id": "a8d55d3b",
   "metadata": {},
   "source": [
    "# Room Temperature\n",
    "\n",
    "### Simulate Inputs"
   ]
  },
  {
   "cell_type": "code",
   "execution_count": 60,
   "id": "31313460",
   "metadata": {},
   "outputs": [],
   "source": [
    "import sys\n",
    "sys.stdin = StringIO('''5\n",
    "1 5 3 3 4\n",
    "1 2 2 2 1\n",
    "''')"
   ]
  },
  {
   "cell_type": "markdown",
   "id": "cfe905e5",
   "metadata": {},
   "source": [
    "### Solution"
   ]
  },
  {
   "cell_type": "code",
   "execution_count": 62,
   "id": "a5b7411a",
   "metadata": {},
   "outputs": [
    {
     "name": "stdout",
     "output_type": "stream",
     "text": [
      "[0, 3, 1, 1, 3, 0]\n"
     ]
    }
   ],
   "source": [
    "n = int(sys.stdin.readline())\n",
    "s = list(map(int, sys.stdin.readline().split()))\n",
    "i = 0\n",
    "for x in map(int, sys.stdin.readline().split()):\n",
    "    s[i]-=x\n",
    "    i+=1\n",
    "s.append(0)\n",
    "pp(s)"
   ]
  },
  {
   "cell_type": "code",
   "execution_count": 63,
   "id": "6f3b32cc",
   "metadata": {},
   "outputs": [
    {
     "name": "stdout",
     "output_type": "stream",
     "text": [
      "1 5 1 [0, 2, 0, 0, 2, 0]\n",
      "1 2 2 [0, 0, 0, 0, 2, 0]\n",
      "4 5 2 [0, 0, 0, 0, 0, 0]\n",
      "5\n"
     ]
    }
   ],
   "source": [
    "a = 0\n",
    "for i in range(n):\n",
    "    while s[i]:\n",
    "        low = s[i]\n",
    "        for j in range(i, n+1):\n",
    "            if low>0 and s[j]>0:\n",
    "                if s[j]<low:\n",
    "                    low = s[j]\n",
    "            elif low<0 and s[j]<0:\n",
    "                if s[j]>low:\n",
    "                    low = s[j]\n",
    "            else:\n",
    "                break\n",
    "        for k in range(i, j):\n",
    "            s[k] -= low\n",
    "        print(i, j, low, s)\n",
    "        a += abs(low)\n",
    "print(a) "
   ]
  }
 ],
 "metadata": {
  "kernelspec": {
   "display_name": "Python 3 (ipykernel)",
   "language": "python",
   "name": "python3"
  },
  "language_info": {
   "codemirror_mode": {
    "name": "ipython",
    "version": 3
   },
   "file_extension": ".py",
   "mimetype": "text/x-python",
   "name": "python",
   "nbconvert_exporter": "python",
   "pygments_lexer": "ipython3",
   "version": "3.9.7"
  }
 },
 "nbformat": 4,
 "nbformat_minor": 5
}
