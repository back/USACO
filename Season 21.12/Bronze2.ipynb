{
 "cells": [
  {
   "cell_type": "markdown",
   "id": "dec35c28",
   "metadata": {},
   "source": [
    "# Room Temperature\n",
    "\n",
    "### Simulate Inputs"
   ]
  },
  {
   "cell_type": "code",
   "execution_count": 58,
   "id": "9fb54888",
   "metadata": {},
   "outputs": [],
   "source": [
    "import sys\n",
    "sys.stdin = StringIO('''5\n",
    "1 5 3 3 4\n",
    "1 2 2 2 1\n",
    "''')"
   ]
  },
  {
   "cell_type": "markdown",
   "id": "f547e860",
   "metadata": {},
   "source": [
    "### Solution"
   ]
  },
  {
   "cell_type": "code",
   "execution_count": 59,
   "id": "7f54c160",
   "metadata": {},
   "outputs": [
    {
     "name": "stdout",
     "output_type": "stream",
     "text": [
      "5\n"
     ]
    }
   ],
   "source": [
    "n  = int(sys.stdin.readline())\n",
    "s1 = list(map(int, sys.stdin.readline().split()))\n",
    "s2 = list(map(int, sys.stdin.readline().split()))\n",
    "\n",
    "s  = [a-b for a,b in zip(s1,s2)]\n",
    "s.append(0)\n",
    "\n",
    "a = 0\n",
    "for i in range(n):\n",
    "    while s[i]:\n",
    "        low = s[i]\n",
    "        for j in range(i, n+1):\n",
    "            if low>0 and s[j]>0:\n",
    "                if s[j]<low:\n",
    "                    low = s[j]\n",
    "            elif low<0 and s[j]<0:\n",
    "                if s[j]>low:\n",
    "                    low = s[j]\n",
    "            else:\n",
    "                break\n",
    "        for k in range(i, j):\n",
    "            s[k] -= low\n",
    "        #print(i, j, low, s)\n",
    "        a += abs(low)\n",
    "print(a) "
   ]
  }
 ],
 "metadata": {
  "kernelspec": {
   "display_name": "Python 3 (ipykernel)",
   "language": "python",
   "name": "python3"
  },
  "language_info": {
   "codemirror_mode": {
    "name": "ipython",
    "version": 3
   },
   "file_extension": ".py",
   "mimetype": "text/x-python",
   "name": "python",
   "nbconvert_exporter": "python",
   "pygments_lexer": "ipython3",
   "version": "3.9.7"
  }
 },
 "nbformat": 4,
 "nbformat_minor": 5
}
