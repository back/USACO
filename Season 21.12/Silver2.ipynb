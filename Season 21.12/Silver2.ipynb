{
 "cells": [
  {
   "cell_type": "markdown",
   "id": "80d6e025",
   "metadata": {},
   "source": [
    "# Connecting Two Barns\n",
    "\n",
    "### Read Inputs"
   ]
  },
  {
   "cell_type": "code",
   "execution_count": 36,
   "id": "b710d095",
   "metadata": {},
   "outputs": [],
   "source": [
    "import sys\n",
    "sys.stdin = StringIO('''2\n",
    "5 2\n",
    "1 2\n",
    "4 5\n",
    "5 3\n",
    "1 2\n",
    "2 3\n",
    "4 5\n",
    "''')"
   ]
  },
  {
   "cell_type": "markdown",
   "id": "8e98cac8",
   "metadata": {},
   "source": [
    "### Solution"
   ]
  },
  {
   "cell_type": "code",
   "execution_count": 37,
   "id": "09fa8f4c",
   "metadata": {},
   "outputs": [
    {
     "name": "stdout",
     "output_type": "stream",
     "text": [
      "2\n",
      "1\n"
     ]
    }
   ],
   "source": [
    "def find(x, tree):\n",
    "    for i, s in enumerate(tree):\n",
    "        if x in s:\n",
    "            return i\n",
    "    tree.append([x])\n",
    "    return len(tree)-1\n",
    "\n",
    "def dist(i, j, tree):\n",
    "    d = -1\n",
    "    for x in tree[i]:\n",
    "        for y in tree[j]:\n",
    "            dd = (x-y)**2\n",
    "            if d<0 or d>dd:\n",
    "                d = dd\n",
    "    return d\n",
    "    \n",
    "t = int(sys.stdin.readline())\n",
    "for _ in range(t):\n",
    "    n, m = map(int, sys.stdin.readline().split())\n",
    "    tree = [[i] for i in range(1,n+1)]\n",
    "    for _ in range(m):\n",
    "        a,b = map(int, sys.stdin.readline().split())\n",
    "        i = find(a, tree)\n",
    "        j = find(b, tree)\n",
    "        if i!=j:\n",
    "            tree[i].extend(tree[j])\n",
    "            tree.pop(j)\n",
    "\n",
    "    #pp(tree)\n",
    "            \n",
    "    head = find(1, tree)\n",
    "    tail = find(n, tree)\n",
    "    if head == tail:\n",
    "        print(0)\n",
    "    else:\n",
    "        cost = dist(head, tail, tree)\n",
    "        for i, bridge in enumerate(tree):\n",
    "            if i != head and i != tail:\n",
    "                dd = dist(head, i, tree)\n",
    "                dd += dist(i, tail, tree)\n",
    "                if cost > dd:\n",
    "                    cost = dd\n",
    "        print(cost)"
   ]
  }
 ],
 "metadata": {
  "kernelspec": {
   "display_name": "Python 3 (ipykernel)",
   "language": "python",
   "name": "python3"
  },
  "language_info": {
   "codemirror_mode": {
    "name": "ipython",
    "version": 3
   },
   "file_extension": ".py",
   "mimetype": "text/x-python",
   "name": "python",
   "nbconvert_exporter": "python",
   "pygments_lexer": "ipython3",
   "version": "3.9.7"
  }
 },
 "nbformat": 4,
 "nbformat_minor": 5
}
