{
 "cells": [
  {
   "cell_type": "markdown",
   "id": "5107aa76",
   "metadata": {},
   "source": [
    "# Problem C - Menorah\n",
    "\n",
    "https://codeforces.com/contest/1615/problem/C\n",
    "\n",
    "### Read Inputs"
   ]
  },
  {
   "cell_type": "code",
   "execution_count": 15,
   "id": "9862bb3a",
   "metadata": {},
   "outputs": [
    {
     "name": "stdout",
     "output_type": "stream",
     "text": [
      "0\n",
      "1\n",
      "-1\n",
      "3\n",
      "4\n"
     ]
    }
   ],
   "source": [
    "import sys\n",
    "sys.stdin = StringIO('''5\n",
    "5\n",
    "11010\n",
    "11010\n",
    "2\n",
    "01\n",
    "11\n",
    "3\n",
    "000\n",
    "101\n",
    "9\n",
    "100010111\n",
    "101101100\n",
    "9\n",
    "001011011\n",
    "011010101\n",
    "''')\n",
    "\n",
    "import sys\n",
    "t=int(sys.stdin.readline())\n",
    "for _ in range(t):\n",
    "    n = int(sys.stdin.readline())\n",
    "    a = sys.stdin.readline().strip()\n",
    "    b = sys.stdin.readline().strip()\n",
    "    #print(n, a, b)\n",
    "    sameBitsHas1 = False\n",
    "    diffBitsHas1 = False\n",
    "    sameBits = 0\n",
    "    for x,y in zip(a,b):\n",
    "        if x == y:\n",
    "            sameBits += 1\n",
    "            if x == '1':\n",
    "                sameBitsHas1 = True\n",
    "        elif x == '1':\n",
    "            diffBitsHas1 = True\n",
    "    if sameBits == n:\n",
    "        print(0)\n",
    "    else:\n",
    "        diffBits = n - sameBits\n",
    "        if sameBits <= diffBits and sameBitsHas1:\n",
    "            print(sameBits)\n",
    "        elif sameBits > diffBits and diffBitsHas1:\n",
    "            print(diffBits)\n",
    "        else:\n",
    "            print(-1)"
   ]
  }
 ],
 "metadata": {
  "kernelspec": {
   "display_name": "Python 3 (ipykernel)",
   "language": "python",
   "name": "python3"
  },
  "language_info": {
   "codemirror_mode": {
    "name": "ipython",
    "version": 3
   },
   "file_extension": ".py",
   "mimetype": "text/x-python",
   "name": "python",
   "nbconvert_exporter": "python",
   "pygments_lexer": "ipython3",
   "version": "3.9.7"
  }
 },
 "nbformat": 4,
 "nbformat_minor": 5
}
