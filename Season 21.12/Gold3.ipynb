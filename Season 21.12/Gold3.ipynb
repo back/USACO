{
 "cells": [
  {
   "cell_type": "markdown",
   "id": "71338971",
   "metadata": {},
   "source": [
    "# Bracelet Crossings\n",
    "\n",
    "### Read Inputs"
   ]
  },
  {
   "cell_type": "code",
   "execution_count": null,
   "id": "cedf9cc7",
   "metadata": {},
   "outputs": [],
   "source": [
    "import sys\n",
    "sys.stdin = StringIO('''\n",
    "''')"
   ]
  },
  {
   "cell_type": "code",
   "execution_count": 9,
   "id": "3332b85d",
   "metadata": {},
   "outputs": [
    {
     "name": "stdout",
     "output_type": "stream",
     "text": [
      "0 0 0\n",
      "1 1 1\n",
      "64 8 4\n",
      "729 27 9\n",
      "4096 64 16\n",
      "15625 125 25\n",
      "46656 216 36\n",
      "117649 343 49\n",
      "262144 512 64\n",
      "531441 729 81\n"
     ]
    }
   ],
   "source": [
    "a = [i**2 for i in range(1000)]\n",
    "b = [i**3 for i in range(1000)]\n",
    "c = [x for x in b if x in a]\n",
    "for i in c:\n",
    "    print(i, round(i**0.5), round(i**(1/3)))"
   ]
  },
  {
   "cell_type": "code",
   "execution_count": 22,
   "id": "0689dce6",
   "metadata": {},
   "outputs": [
    {
     "name": "stdout",
     "output_type": "stream",
     "text": [
      "32590 31622 999 31\n"
     ]
    }
   ],
   "source": [
    "n = 999999999\n",
    "\n",
    "a = round(n**.5)\n",
    "b = round(n**(1/3))\n",
    "c = round(n**(1/6))\n",
    "while a**2>n:\n",
    "    a-=1\n",
    "while b**3>n:\n",
    "    b-=1\n",
    "while c**6>n:\n",
    "    c-=1\n",
    "print(a+b-c, a,b,c)"
   ]
  }
 ],
 "metadata": {
  "kernelspec": {
   "display_name": "Python 3",
   "language": "python",
   "name": "python3"
  },
  "language_info": {
   "codemirror_mode": {
    "name": "ipython",
    "version": 3
   },
   "file_extension": ".py",
   "mimetype": "text/x-python",
   "name": "python",
   "nbconvert_exporter": "python",
   "pygments_lexer": "ipython3",
   "version": "3.9.7"
  }
 },
 "nbformat": 4,
 "nbformat_minor": 5
}
