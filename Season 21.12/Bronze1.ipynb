{
 "cells": [
  {
   "cell_type": "markdown",
   "id": "9f2b92dc",
   "metadata": {},
   "source": [
    "# Lonely Photos\n",
    "\n",
    "### Simulate Inputs"
   ]
  },
  {
   "cell_type": "code",
   "execution_count": 6,
   "id": "d8c22082",
   "metadata": {},
   "outputs": [],
   "source": [
    "import sys\n",
    "sys.stdin = StringIO('''5\n",
    "GHGHG\n",
    "''')"
   ]
  },
  {
   "cell_type": "markdown",
   "id": "b881d60c",
   "metadata": {},
   "source": [
    "### Solution"
   ]
  },
  {
   "cell_type": "code",
   "execution_count": 7,
   "id": "dcccd066",
   "metadata": {},
   "outputs": [
    {
     "name": "stdout",
     "output_type": "stream",
     "text": [
      "3\n"
     ]
    }
   ],
   "source": [
    "n = int(sys.stdin.readline().strip())\n",
    "s = sys.stdin.readline().strip()\n",
    "\n",
    "p = [0] * n\n",
    "for i in range(1, n):\n",
    "    p[i] = p[i-1] + (0 if s[i]==s[0] else 1)\n",
    "\n",
    "a = 0\n",
    "for i in range(n-2):\n",
    "    for j in range(i+2, n):\n",
    "        k = p[j] - (p[i-1] if i else 0)\n",
    "        if k==1 or k==j-i:\n",
    "            a += 1\n",
    "\n",
    "print(a)"
   ]
  }
 ],
 "metadata": {
  "kernelspec": {
   "display_name": "Python 3 (ipykernel)",
   "language": "python",
   "name": "python3"
  },
  "language_info": {
   "codemirror_mode": {
    "name": "ipython",
    "version": 3
   },
   "file_extension": ".py",
   "mimetype": "text/x-python",
   "name": "python",
   "nbconvert_exporter": "python",
   "pygments_lexer": "ipython3",
   "version": "3.9.7"
  }
 },
 "nbformat": 4,
 "nbformat_minor": 5
}
