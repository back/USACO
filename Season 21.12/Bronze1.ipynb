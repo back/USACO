{
 "cells": [
  {
   "cell_type": "markdown",
   "id": "a5312d94",
   "metadata": {},
   "source": [
    "# Lonely Photos\n",
    "> http://usaco.org/index.php?page=viewproblem2&cpid=1155\n",
    "\n",
    "### Simulate Inputs"
   ]
  },
  {
   "cell_type": "code",
   "execution_count": 13,
   "id": "d35e6683",
   "metadata": {},
   "outputs": [],
   "source": [
    "import sys\n",
    "sys.stdin = StringIO('''13\n",
    "GHGHGGGGHHGHG\n",
    "''')"
   ]
  },
  {
   "cell_type": "markdown",
   "id": "f08465be-1a83-4f2a-a578-dfb03c4759e5",
   "metadata": {},
   "source": [
    "### Solution 1: Tripple Loop\n",
    "- Time complexity is $ O(N^3) $\n",
    "- Only passing first few test cases"
   ]
  },
  {
   "cell_type": "code",
   "execution_count": 10,
   "id": "16bcc9a6-c6ff-431b-8380-56de581ce696",
   "metadata": {},
   "outputs": [
    {
     "name": "stdout",
     "output_type": "stream",
     "text": [
      "0 3 GHG\n",
      "1 4 HGH\n",
      "2 5 GHG\n",
      "2 6 GHGG\n",
      "2 7 GHGGG\n",
      "2 8 GHGGGG\n",
      "3 6 HGG\n",
      "3 7 HGGG\n",
      "3 8 HGGGG\n",
      "4 9 GGGGH\n",
      "5 9 GGGH\n",
      "6 9 GGH\n",
      "7 10 GHH\n",
      "8 11 HHG\n",
      "8 12 HHGH\n",
      "9 12 HGH\n",
      "10 13 GHG\n",
      "17\n"
     ]
    }
   ],
   "source": [
    "n = int(sys.stdin.readline().strip())\n",
    "s = sys.stdin.readline().strip()\n",
    "\n",
    "answer = 0\n",
    "\n",
    "for i in range(n-2):\n",
    "    for j in range(i+3, n+1):  # 'j' will be used as Exclusive Ending Indicator, so be: n+1\n",
    "        if s.count('G', i, j) == 1 or s.count('H', i, j) == 1:\n",
    "            answer += 1\n",
    "            print(i, j, s[i:j])\n",
    "            \n",
    "print(answer)"
   ]
  },
  {
   "cell_type": "markdown",
   "id": "59fee032-6a65-485e-8262-320774706fcd",
   "metadata": {},
   "source": [
    "### Method 2: Double Loop\n",
    "- Time complexity is $ O(N^2) $\n",
    "- Passing almost half of the test case"
   ]
  },
  {
   "cell_type": "code",
   "execution_count": 12,
   "id": "1628e189-dc40-4f1e-ae40-0bbe3d5d91b3",
   "metadata": {},
   "outputs": [
    {
     "name": "stdout",
     "output_type": "stream",
     "text": [
      "17\n"
     ]
    }
   ],
   "source": [
    "n = int(sys.stdin.readline().strip())\n",
    "s = sys.stdin.readline().strip()\n",
    "\n",
    "answer = 0\n",
    "for i in range(n-2):\n",
    "    g = h = 0\n",
    "    for j in range(i, n):\n",
    "        if s[j] == 'G':\n",
    "            g += 1\n",
    "        else:\n",
    "            h += 1\n",
    "        if g+h >= 3:\n",
    "            if g==1 or h==1:\n",
    "                answer += 1\n",
    "            elif g > 1 and h > 1:\n",
    "                break\n",
    "print(answer)"
   ]
  },
  {
   "cell_type": "markdown",
   "id": "3f159e3c-3b03-4ee0-9035-950e7fc2f1d7",
   "metadata": {},
   "source": [
    "### Method 3: Single Loop\n",
    "- Time complexity is $ O(N) $\n",
    "- On contest day, will pass all test cases\n",
    "- Somehow for practise, it misses the last one"
   ]
  },
  {
   "cell_type": "code",
   "execution_count": 16,
   "id": "a14b0a82-b35d-48c5-994e-8cd6fba95be4",
   "metadata": {},
   "outputs": [
    {
     "name": "stdout",
     "output_type": "stream",
     "text": [
      "defghijklmnopqrstuvwxyz\n"
     ]
    }
   ],
   "source": [
    "s = 'abcdefghijklmnopqrstuvwxyz'\n",
    "print( s[3:]  )"
   ]
  },
  {
   "cell_type": "code",
   "execution_count": 14,
   "id": "7ed07850-7572-49c4-b618-abf0ab5735cf",
   "metadata": {},
   "outputs": [
    {
     "name": "stdout",
     "output_type": "stream",
     "text": [
      "17\n"
     ]
    }
   ],
   "source": [
    "n = int(sys.stdin.readline().strip())\n",
    "s = sys.stdin.readline().strip()\n",
    "\n",
    "answer = 0\n",
    "for i in range(n):\n",
    "    l = r = 0\n",
    "    if i > 0:\n",
    "        for k in s[i-1::-1]:\n",
    "            if k != s[i]:\n",
    "                l += 1\n",
    "            else:\n",
    "                break\n",
    "    if i < n-1:\n",
    "        for k in s[i+1:]:\n",
    "            if k != s[i]:\n",
    "                r += 1\n",
    "            else:\n",
    "                break\n",
    "    answer += l*r + max(l-1, 0) + max(r-1, 0)\n",
    "print(answer)"
   ]
  }
 ],
 "metadata": {
  "kernelspec": {
   "display_name": "Python 3",
   "language": "python",
   "name": "python3"
  },
  "language_info": {
   "codemirror_mode": {
    "name": "ipython",
    "version": 3
   },
   "file_extension": ".py",
   "mimetype": "text/x-python",
   "name": "python",
   "nbconvert_exporter": "python",
   "pygments_lexer": "ipython3",
   "version": "3.9.7"
  }
 },
 "nbformat": 4,
 "nbformat_minor": 5
}
