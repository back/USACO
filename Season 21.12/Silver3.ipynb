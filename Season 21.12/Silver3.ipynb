{
 "cells": [
  {
   "cell_type": "markdown",
   "id": "8d6ef6a7",
   "metadata": {},
   "source": [
    "# Convoluted Intervals\n",
    "\n",
    "### Read Inputs"
   ]
  },
  {
   "cell_type": "code",
   "execution_count": 20,
   "id": "a9d04029",
   "metadata": {},
   "outputs": [],
   "source": [
    "import sys\n",
    "\n",
    "sys.stdin = StringIO('''2 5\n",
    "1 3\n",
    "2 5\n",
    "''')"
   ]
  },
  {
   "cell_type": "markdown",
   "id": "ad2558ef",
   "metadata": {},
   "source": [
    "### Solution"
   ]
  },
  {
   "cell_type": "code",
   "execution_count": 21,
   "id": "a3288460",
   "metadata": {},
   "outputs": [
    {
     "name": "stdout",
     "output_type": "stream",
     "text": [
      "0\n",
      "0\n",
      "1\n",
      "3\n",
      "4\n",
      "4\n",
      "4\n",
      "3\n",
      "3\n",
      "1\n",
      "1\n"
     ]
    }
   ],
   "source": [
    "n, m = map(int, sys.stdin.readline().split())\n",
    "p = [list(map(int, sys.stdin.readline().split())) for _ in range(n)]\n",
    "a = [0] * (m+m+1)\n",
    "b = [0] * (m+m+1)\n",
    "\n",
    "for i in range(n):\n",
    "    for j in range(n):\n",
    "        a[p[i][0]+p[j][0]]+=1\n",
    "        c = p[i][1]+p[j][1]+1\n",
    "        if c < len(b):\n",
    "            b[c] += 1\n",
    "\n",
    "answer = 0\n",
    "for x,y in zip(a,b):\n",
    "    answer += x\n",
    "    answer -= y\n",
    "    print(answer)"
   ]
  }
 ],
 "metadata": {
  "kernelspec": {
   "display_name": "Python 3 (ipykernel)",
   "language": "python",
   "name": "python3"
  },
  "language_info": {
   "codemirror_mode": {
    "name": "ipython",
    "version": 3
   },
   "file_extension": ".py",
   "mimetype": "text/x-python",
   "name": "python",
   "nbconvert_exporter": "python",
   "pygments_lexer": "ipython3",
   "version": "3.9.7"
  }
 },
 "nbformat": 4,
 "nbformat_minor": 5
}
