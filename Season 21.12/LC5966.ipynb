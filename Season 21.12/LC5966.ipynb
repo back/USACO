{
 "cells": [
  {
   "cell_type": "markdown",
   "id": "bae8977e",
   "metadata": {},
   "source": [
    "# LeetCode Contest\n",
    "\n",
    "https://leetcode.com/contest/weekly-contest-273/problems/recover-the-original-array/\n",
    "\n",
    "### Read Inputs"
   ]
  },
  {
   "cell_type": "code",
   "execution_count": 1,
   "id": "a9a8034a",
   "metadata": {},
   "outputs": [],
   "source": [
    "nums = [2,10,6,4,8,12]\n",
    "\n"
   ]
  },
  {
   "cell_type": "code",
   "execution_count": null,
   "id": "2e69187c",
   "metadata": {},
   "outputs": [],
   "source": []
  }
 ],
 "metadata": {
  "kernelspec": {
   "display_name": "Python 3 (ipykernel)",
   "language": "python",
   "name": "python3"
  },
  "language_info": {
   "codemirror_mode": {
    "name": "ipython",
    "version": 3
   },
   "file_extension": ".py",
   "mimetype": "text/x-python",
   "name": "python",
   "nbconvert_exporter": "python",
   "pygments_lexer": "ipython3",
   "version": "3.9.7"
  }
 },
 "nbformat": 4,
 "nbformat_minor": 5
}
