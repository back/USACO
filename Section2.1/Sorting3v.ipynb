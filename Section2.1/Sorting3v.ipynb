{
 "cells": [
  {
   "cell_type": "markdown",
   "metadata": {},
   "source": [
    "# Section 2.1 - Sorting 3-valued Sequence\n",
    "---\n",
    "Read Inputs\n",
    "---"
   ]
  },
  {
   "cell_type": "code",
   "execution_count": 2,
   "metadata": {},
   "outputs": [
    {
     "name": "stdout",
     "output_type": "stream",
     "text": [
      "[2, 2, 1, 3, 3, 3, 2, 3, 1]\n",
      "[1, 1, 2, 2, 2, 3, 3, 3, 3]\n"
     ]
    }
   ],
   "source": [
    "x=[2, 2, 1, 3, 3, 3, 2, 3, 1]\n",
    "print(x)\n",
    "print (sorted(x))"
   ]
  },
  {
   "cell_type": "markdown",
   "metadata": {},
   "source": [
    "---\n",
    "Found all values not in position\n",
    "---\n",
    "These are numbers need to be swapped"
   ]
  },
  {
   "cell_type": "code",
   "execution_count": 4,
   "metadata": {},
   "outputs": [
    {
     "name": "stdout",
     "output_type": "stream",
     "text": [
      "[(2, 1), (2, 1), (1, 2), (3, 2), (3, 2), (2, 3), (1, 3)]\n"
     ]
    }
   ],
   "source": [
    "# remove the already in-position items\n",
    "rst = [ i for i in zip(x,sorted(x)) if i[0]!=i[1] ]\n",
    "print(rst)"
   ]
  },
  {
   "cell_type": "markdown",
   "metadata": {},
   "source": [
    "---\n",
    "Zero out the number pairs that can be directly swapped\n",
    "---"
   ]
  },
  {
   "cell_type": "code",
   "execution_count": 5,
   "metadata": {},
   "outputs": [
    {
     "name": "stdout",
     "output_type": "stream",
     "text": [
      "[(0, 0), (2, 1), (0, 0), (0, 0), (3, 2), (0, 0), (1, 3)]\n"
     ]
    }
   ],
   "source": [
    "# zero out the swappable items\n",
    "for i in range(len(rst)-1):\n",
    "    for j in range(i+1, len(rst)):\n",
    "        if rst[i][0] == rst[j][1] and rst[i][1] == rst[j][0]:\n",
    "            rst[i], rst[j] = (0,0), (0,0)\n",
    "print(rst)"
   ]
  },
  {
   "cell_type": "markdown",
   "metadata": {},
   "source": [
    "---\n",
    "The rest numbers should be swapped in 3-round cycles\n",
    "---"
   ]
  },
  {
   "cell_type": "code",
   "execution_count": 6,
   "metadata": {},
   "outputs": [
    {
     "name": "stdout",
     "output_type": "stream",
     "text": [
      "4\n"
     ]
    }
   ],
   "source": [
    "swap_items = rst.count((0,0))\n",
    "loop_items = len(rst) - swap_items\n",
    "\n",
    "answer = swap_items//2 + loop_items//3*2\n",
    "\n",
    "print(answer)"
   ]
  }
 ],
 "metadata": {
  "kernelspec": {
   "display_name": "Python 3",
   "language": "python",
   "name": "python3"
  },
  "language_info": {
   "codemirror_mode": {
    "name": "ipython",
    "version": 3
   },
   "file_extension": ".py",
   "mimetype": "text/x-python",
   "name": "python",
   "nbconvert_exporter": "python",
   "pygments_lexer": "ipython3",
   "version": "3.8.3"
  }
 },
 "nbformat": 4,
 "nbformat_minor": 4
}
