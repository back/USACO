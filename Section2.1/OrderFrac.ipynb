{
 "cells": [
  {
   "cell_type": "markdown",
   "metadata": {},
   "source": [
    "# Section 2.1 - Ordered Fractions\n",
    "---\n",
    "Read Inputs\n",
    "---"
   ]
  },
  {
   "cell_type": "code",
   "execution_count": 2,
   "metadata": {},
   "outputs": [],
   "source": [
    "n = 5"
   ]
  },
  {
   "cell_type": "markdown",
   "metadata": {},
   "source": [
    "---\n",
    "List all fractions\n",
    "---"
   ]
  },
  {
   "cell_type": "code",
   "execution_count": 3,
   "metadata": {},
   "outputs": [
    {
     "name": "stdout",
     "output_type": "stream",
     "text": [
      "[(1, 2, 0.5), (1, 3, 0.3333333333333333), (2, 3, 0.6666666666666666), (1, 4, 0.25), (2, 4, 0.5), (3, 4, 0.75), (1, 5, 0.2), (2, 5, 0.4), (3, 5, 0.6), (4, 5, 0.8)]\n"
     ]
    }
   ],
   "source": [
    "x=[(nom, denom, nom/denom) for denom in range(1,n+1) for nom in range(1,denom)]\n",
    "print(x)"
   ]
  },
  {
   "cell_type": "markdown",
   "metadata": {},
   "source": [
    "---\n",
    "Sort by fraction values\n",
    "---"
   ]
  },
  {
   "cell_type": "code",
   "execution_count": 7,
   "metadata": {},
   "outputs": [
    {
     "name": "stdout",
     "output_type": "stream",
     "text": [
      "[(1, 5, 0.2), (1, 4, 0.25), (1, 3, 0.3333333333333333), (2, 5, 0.4), (1, 2, 0.5), (2, 4, 0.5), (3, 5, 0.6), (2, 3, 0.6666666666666666), (3, 4, 0.75), (4, 5, 0.8)]\n",
      "True\n"
     ]
    }
   ],
   "source": [
    "from operator import itemgetter\n",
    "x.sort(key=itemgetter(2))\n",
    "print(x)"
   ]
  },
  {
   "cell_type": "markdown",
   "metadata": {},
   "source": [
    "---\n",
    "Output the results\n",
    "---"
   ]
  },
  {
   "cell_type": "code",
   "execution_count": 5,
   "metadata": {},
   "outputs": [
    {
     "name": "stdout",
     "output_type": "stream",
     "text": [
      "0/1\n",
      "1/5\n",
      "1/4\n",
      "1/3\n",
      "2/5\n",
      "1/2\n",
      "3/5\n",
      "2/3\n",
      "3/4\n",
      "4/5\n",
      "1/1\n"
     ]
    }
   ],
   "source": [
    "print('0/1')\n",
    "\n",
    "prevA, prevB = 0, 1\n",
    "for a,b,c in x:\n",
    "    if prevA*b < prevB*a: \n",
    "        print('%s/%s' % (a,b))\n",
    "        prevA, prevB = a, b\n",
    "\n",
    "print('1/1')"
   ]
  }
 ],
 "metadata": {
  "kernelspec": {
   "display_name": "Python 3",
   "language": "python",
   "name": "python3"
  },
  "language_info": {
   "codemirror_mode": {
    "name": "ipython",
    "version": 3
   },
   "file_extension": ".py",
   "mimetype": "text/x-python",
   "name": "python",
   "nbconvert_exporter": "python",
   "pygments_lexer": "ipython3",
   "version": "3.8.3"
  }
 },
 "nbformat": 4,
 "nbformat_minor": 4
}
