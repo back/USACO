{
 "cells": [
  {
   "cell_type": "markdown",
   "metadata": {},
   "source": [
    "# Number of Islands\n",
    "https://leetcode.com/problems/number-of-islands/\n",
    "\n",
    "---\n",
    "Sample Inputs\n",
    "---"
   ]
  },
  {
   "cell_type": "code",
   "execution_count": 42,
   "metadata": {},
   "outputs": [],
   "source": [
    "grid = [\n",
    "  [\"1\",\"1\",\"0\",\"0\",\"0\"],\n",
    "  [\"1\",\"1\",\"0\",\"0\",\"0\"],\n",
    "  [\"0\",\"0\",\"1\",\"0\",\"0\"],\n",
    "  [\"0\",\"0\",\"0\",\"1\",\"1\"]\n",
    "]"
   ]
  },
  {
   "cell_type": "markdown",
   "metadata": {},
   "source": [
    "---\n",
    "Recursive Marking\n",
    "---"
   ]
  },
  {
   "cell_type": "code",
   "execution_count": 33,
   "metadata": {},
   "outputs": [],
   "source": [
    "def marking(r, c):\n",
    "    if r >= 0 and r < len(grid):\n",
    "        if c >= 0 and c < len(grid[0]):\n",
    "            if grid[r][c]==\"1\":\n",
    "                grid[r][c]=\".\"\n",
    "                marking(r-1, c)\n",
    "                marking(r+1, c)\n",
    "                marking(r, c-1)\n",
    "                marking(r, c+1)"
   ]
  },
  {
   "cell_type": "markdown",
   "metadata": {},
   "source": [
    "---\n",
    "Marking Islands\n",
    "---"
   ]
  },
  {
   "cell_type": "code",
   "execution_count": 39,
   "metadata": {
    "collapsed": true,
    "jupyter": {
     "outputs_hidden": true,
     "source_hidden": true
    }
   },
   "outputs": [
    {
     "name": "stdout",
     "output_type": "stream",
     "text": [
      "['X', 'X', '0', '0', '0']\n",
      "['X', 'X', '0', '0', '0']\n",
      "['0', 'X', 'X', 'X', '0']\n",
      "['0', '0', '0', 'X', 'X']\n"
     ]
    }
   ],
   "source": [
    "marking(2, 3)\n",
    "\n",
    "for row in grid:\n",
    "    print(row)"
   ]
  },
  {
   "cell_type": "markdown",
   "metadata": {},
   "source": [
    "---\n",
    "Count all marking calls\n",
    "---"
   ]
  },
  {
   "cell_type": "code",
   "execution_count": 43,
   "metadata": {},
   "outputs": [
    {
     "name": "stdout",
     "output_type": "stream",
     "text": [
      "Found a new land at 0, 0\n",
      "Found a new land at 2, 2\n",
      "Found a new land at 3, 3\n",
      "Total islands: 3\n"
     ]
    }
   ],
   "source": [
    "islands = 0\n",
    "rows = len(grid)\n",
    "cols = len(grid[0])\n",
    "\n",
    "for r in range(0, rows):\n",
    "    for c in range(0, cols):\n",
    "        if grid[r][c]==\"1\":\n",
    "            print('Found a new land at %s, %s' % (r, c))\n",
    "            marking(r, c)\n",
    "            islands += 1\n",
    "            \n",
    "print('Total islands: %s' % islands)"
   ]
  }
 ],
 "metadata": {
  "kernelspec": {
   "display_name": "Python 3",
   "language": "python",
   "name": "python3"
  },
  "language_info": {
   "codemirror_mode": {
    "name": "ipython",
    "version": 3
   },
   "file_extension": ".py",
   "mimetype": "text/x-python",
   "name": "python",
   "nbconvert_exporter": "python",
   "pygments_lexer": "ipython3",
   "version": "3.8.3"
  }
 },
 "nbformat": 4,
 "nbformat_minor": 4
}
