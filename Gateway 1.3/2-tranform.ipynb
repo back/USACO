{
 "cells": [
  {
   "cell_type": "markdown",
   "metadata": {},
   "source": [
    "# Section 1.3 - Transformations\n",
    "---\n",
    "## How to rotate a matrix\n",
    "\n",
    "- [Rotate Image](https://leetcode.com/problems/rotate-image/) (A LeetCode practice)"
   ]
  },
  {
   "cell_type": "code",
   "execution_count": null,
   "metadata": {},
   "outputs": [],
   "source": [
    "def rotate90(matrix):\n",
    "    pass....\n",
    "\n",
    "def rotate180(matrix):\n",
    "    rotate90(matrix)\n",
    "    rotate90(matrix)\n",
    "    \n",
    "def rotate270(matrix):\n",
    "    rotate90(matrix)\n",
    "    rotate90(matrix)\n",
    "    rotate90(matrix)\n",
    "\n",
    "def mirror(matrix):\n",
    "    ....\n",
    "    \n",
    "def transform(matrix, method):\n",
    "    \n",
    "    "
   ]
  },
  {
   "cell_type": "code",
   "execution_count": 2,
   "metadata": {},
   "outputs": [
    {
     "name": "stdout",
     "output_type": "stream",
     "text": [
      "[64, 79, 43]\n",
      "[85, 67, 57]\n",
      "[27, 24, 27]\n"
     ]
    }
   ],
   "source": [
    "n   = 3\n",
    "mtx = [[randint(10,99) for _ in range(n)] for _ in range(n)]\n",
    "for row in mtx:\n",
    "    print(row)"
   ]
  },
  {
   "cell_type": "code",
   "execution_count": 4,
   "metadata": {},
   "outputs": [
    {
     "name": "stdout",
     "output_type": "stream",
     "text": [
      "[27, 85, 64]\n",
      "[24, 67, 79]\n",
      "[27, 57, 43]\n"
     ]
    }
   ],
   "source": [
    "tgt = [[0 for _ in range(n)] for _ in range(n)]\n",
    "\n",
    "for i in range(n):\n",
    "    for j in range(n):\n",
    "        tgt[i][j] = mtx[n-j-1][i]             # Rotate 90 Degrees Clock-wise\n",
    "        \n",
    "        \n",
    "        \n",
    "        #tgt[i][j] = mtx[n-i-1][n-j-1]\n",
    "        #tgt[i][j] = mtx[j][n-i-1]\n",
    "        #tgt[i][j] = mtx[i][n-j-1]\n",
    "        \n",
    "for row in tgt:\n",
    "    print(row)"
   ]
  }
 ],
 "metadata": {
  "kernelspec": {
   "display_name": "Python 3",
   "language": "python",
   "name": "python3"
  },
  "language_info": {
   "codemirror_mode": {
    "name": "ipython",
    "version": 3
   },
   "file_extension": ".py",
   "mimetype": "text/x-python",
   "name": "python",
   "nbconvert_exporter": "python",
   "pygments_lexer": "ipython3",
   "version": "3.9.7"
  }
 },
 "nbformat": 4,
 "nbformat_minor": 4
}
