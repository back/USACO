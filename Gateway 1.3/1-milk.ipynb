{
 "cells": [
  {
   "cell_type": "markdown",
   "metadata": {},
   "source": [
    "# Section 1.3 - Milking Cows\n",
    "> How to merge a list of intervals?\n",
    "### Read Inputs"
   ]
  },
  {
   "cell_type": "code",
   "execution_count": 11,
   "metadata": {},
   "outputs": [
    {
     "name": "stdout",
     "output_type": "stream",
     "text": [
      "[(77, 97),\n",
      " (119, 124),\n",
      " (95, 109),\n",
      " (88, 91),\n",
      " (21, 26),\n",
      " (56, 68),\n",
      " (14, 19),\n",
      " (20, 32),\n",
      " (46, 65),\n",
      " (119, 126)]\n"
     ]
    }
   ],
   "source": [
    "from random import randint\n",
    "x=[randint(1,120) for _ in range(10)]\n",
    "y=[(i, randint(i+1,i+20)) for i in x]\n",
    "pp (y)"
   ]
  },
  {
   "cell_type": "markdown",
   "metadata": {},
   "source": [
    "### Python Convenience\n",
    "- For Java coders, you have to learn the comparator class\n",
    "- For C++ coders, here is the [simple way](https://www.geeksforgeeks.org/sort-vector-of-pairs-in-ascending-order-in-c/) of using pair class"
   ]
  },
  {
   "cell_type": "code",
   "execution_count": 12,
   "metadata": {},
   "outputs": [
    {
     "name": "stdout",
     "output_type": "stream",
     "text": [
      "[(14, 19),\n",
      " (20, 32),\n",
      " (21, 26),\n",
      " (46, 65),\n",
      " (56, 68),\n",
      " (77, 97),\n",
      " (88, 91),\n",
      " (95, 109),\n",
      " (119, 124),\n",
      " (119, 126)]\n"
     ]
    }
   ],
   "source": [
    "pp(sorted(y))"
   ]
  },
  {
   "cell_type": "code",
   "execution_count": 13,
   "metadata": {},
   "outputs": [
    {
     "name": "stdout",
     "output_type": "stream",
     "text": [
      "[(14, 19)]\n",
      "[(14, 19), (20, 32)]\n",
      "[(14, 19), (20, 32)]\n",
      "[(14, 19), (20, 32), (46, 65)]\n",
      "[(14, 19), (20, 32), (46, 68)]\n",
      "[(14, 19), (20, 32), (46, 68), (77, 97)]\n",
      "[(14, 19), (20, 32), (46, 68), (77, 97)]\n",
      "[(14, 19), (20, 32), (46, 68), (77, 109)]\n",
      "[(14, 19), (20, 32), (46, 68), (77, 109), (119, 124)]\n",
      "[(14, 19), (20, 32), (46, 68), (77, 109), (119, 126)]\n"
     ]
    }
   ],
   "source": [
    "z=[]\n",
    "for a,b in sorted(y):\n",
    "    if z and a <= z[-1][1]:\n",
    "        z[-1] = (min(z[-1][0], a), max(z[-1][1], b))\n",
    "    else:\n",
    "        z.append((a,b))\n",
    "    print(z)"
   ]
  },
  {
   "cell_type": "code",
   "execution_count": 16,
   "metadata": {},
   "outputs": [
    {
     "name": "stdout",
     "output_type": "stream",
     "text": [
      "[[5], [12], [22], [32], [7]]\n",
      "[32]\n"
     ]
    }
   ],
   "source": [
    "print (list([b-a] for a,b in z))\n",
    "print (max([b-a] for a,b in z))"
   ]
  },
  {
   "cell_type": "code",
   "execution_count": 17,
   "metadata": {},
   "outputs": [
    {
     "name": "stdout",
     "output_type": "stream",
     "text": [
      "1\n",
      "14\n",
      "9\n",
      "10\n"
     ]
    }
   ],
   "source": [
    "for i in range(len(z)-1):\n",
    "    thisItem = z[i]\n",
    "    nextItem = z[i+1]    \n",
    "    print( nextItem[0] - thisItem[1] )\n",
    "    "
   ]
  },
  {
   "cell_type": "markdown",
   "metadata": {},
   "source": [
    "### How to Calculate the space then?\n",
    "This can be achieved in a simple loop.\n",
    "- maximum spans can be calculated directly by each mergered intervals\n",
    "- maximum gaps need an \"indexed\" loop so we can visit each item with its previous/next items"
   ]
  },
  {
   "cell_type": "code",
   "execution_count": 18,
   "metadata": {},
   "outputs": [
    {
     "name": "stdout",
     "output_type": "stream",
     "text": [
      "32 14\n"
     ]
    }
   ],
   "source": [
    "maxMilking = max(b-a for a,b in z)\n",
    "maxNotMilking = max(z[i+1][0]-z[i][1] for i in range(len(z)-1))\n",
    "print (maxMilking, maxNotMilking)"
   ]
  }
 ],
 "metadata": {
  "kernelspec": {
   "display_name": "Python 3",
   "language": "python",
   "name": "python3"
  },
  "language_info": {
   "codemirror_mode": {
    "name": "ipython",
    "version": 3
   },
   "file_extension": ".py",
   "mimetype": "text/x-python",
   "name": "python",
   "nbconvert_exporter": "python",
   "pygments_lexer": "ipython3",
   "version": "3.9.7"
  }
 },
 "nbformat": 4,
 "nbformat_minor": 4
}
