{
 "cells": [
  {
   "cell_type": "markdown",
   "metadata": {},
   "source": [
    "# Section 1.3 - Milking Cows\n",
    "> How to merge a list of intervals?\n",
    "### Read Inputs"
   ]
  },
  {
   "cell_type": "code",
   "execution_count": 10,
   "metadata": {},
   "outputs": [
    {
     "name": "stdout",
     "output_type": "stream",
     "text": [
      "[(50, 65),\n",
      " (43, 51),\n",
      " (44, 46),\n",
      " (15, 28),\n",
      " (1, 10),\n",
      " (85, 96),\n",
      " (66, 69),\n",
      " (115, 134),\n",
      " (33, 52),\n",
      " (57, 75)]\n"
     ]
    }
   ],
   "source": [
    "from random import randint\n",
    "x=[randint(1,120) for _ in range(10)]\n",
    "y=[(i, randint(i+1,i+20)) for i in x]\n",
    "pp (y)"
   ]
  },
  {
   "cell_type": "markdown",
   "metadata": {},
   "source": [
    "### Python Convenience\n",
    "- For Java coders, you have to learn the comparator class\n",
    "  - preview: **Gateway 2.1 - Sorting**"
   ]
  },
  {
   "cell_type": "code",
   "execution_count": 11,
   "metadata": {},
   "outputs": [
    {
     "name": "stdout",
     "output_type": "stream",
     "text": [
      "[(1, 10),\n",
      " (15, 28),\n",
      " (33, 52),\n",
      " (43, 51),\n",
      " (44, 46),\n",
      " (50, 65),\n",
      " (57, 75),\n",
      " (66, 69),\n",
      " (85, 96),\n",
      " (115, 134)]\n"
     ]
    }
   ],
   "source": [
    "pp(sorted(y))"
   ]
  },
  {
   "cell_type": "code",
   "execution_count": 12,
   "metadata": {},
   "outputs": [
    {
     "name": "stdout",
     "output_type": "stream",
     "text": [
      "[(1, 10)]\n",
      "[(1, 10), (15, 28)]\n",
      "[(1, 10), (15, 28), (33, 52)]\n",
      "[(1, 10), (15, 28), (33, 52)]\n",
      "[(1, 10), (15, 28), (33, 52)]\n",
      "[(1, 10), (15, 28), (33, 65)]\n",
      "[(1, 10), (15, 28), (33, 75)]\n",
      "[(1, 10), (15, 28), (33, 75)]\n",
      "[(1, 10), (15, 28), (33, 75), (85, 96)]\n",
      "[(1, 10), (15, 28), (33, 75), (85, 96), (115, 134)]\n"
     ]
    }
   ],
   "source": [
    "z=[]\n",
    "for a,b in sorted(y):\n",
    "    if z and a <= z[-1][1]:\n",
    "        z[-1] = (min(z[-1][0], a), max(z[-1][1], b))\n",
    "    else:\n",
    "        z.append((a,b))\n",
    "    print(z)"
   ]
  },
  {
   "cell_type": "code",
   "execution_count": 14,
   "metadata": {},
   "outputs": [
    {
     "name": "stdout",
     "output_type": "stream",
     "text": [
      "[[9], [13], [42], [11], [19]]\n",
      "[42]\n"
     ]
    }
   ],
   "source": [
    "print (list([b-a] for a,b in z))\n",
    "print (max([b-a] for a,b in z))"
   ]
  },
  {
   "cell_type": "code",
   "execution_count": 15,
   "metadata": {},
   "outputs": [
    {
     "name": "stdout",
     "output_type": "stream",
     "text": [
      "5\n",
      "5\n",
      "10\n",
      "19\n"
     ]
    }
   ],
   "source": [
    "for i in range(len(z)-1):\n",
    "    thisItem = z[i]\n",
    "    nextItem = z[i+1]    \n",
    "    print( nextItem[0] - thisItem[1] )\n",
    "    "
   ]
  },
  {
   "cell_type": "markdown",
   "metadata": {},
   "source": [
    "### How to Calculate the space then?\n",
    "This can be achieved in a simple loop.\n",
    "- maximum spans can be calculated directly by each mergered intervals\n",
    "- maximum gaps need an \"indexed\" loop so we can visit each item with its previous/next items"
   ]
  },
  {
   "cell_type": "code",
   "execution_count": 6,
   "metadata": {},
   "outputs": [
    {
     "name": "stdout",
     "output_type": "stream",
     "text": [
      "41 5\n"
     ]
    }
   ],
   "source": [
    "maxMilking = max(b-a for a,b in z)\n",
    "maxNotMilking = max(z[i+1][0]-z[i][1] for i in range(len(z)-1))\n",
    "print (maxMilking, maxNotMilking)"
   ]
  }
 ],
 "metadata": {
  "kernelspec": {
   "display_name": "Python 3",
   "language": "python",
   "name": "python3"
  },
  "language_info": {
   "codemirror_mode": {
    "name": "ipython",
    "version": 3
   },
   "file_extension": ".py",
   "mimetype": "text/x-python",
   "name": "python",
   "nbconvert_exporter": "python",
   "pygments_lexer": "ipython3",
   "version": "3.9.7"
  }
 },
 "nbformat": 4,
 "nbformat_minor": 4
}
