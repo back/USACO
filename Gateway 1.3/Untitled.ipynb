{
 "cells": [
  {
   "cell_type": "code",
   "execution_count": null,
   "id": "1ca5d674-4322-4a15-9150-2928b0159028",
   "metadata": {},
   "outputs": [],
   "source": [
    "char x = 'G';\n",
    "\n",
    "int a = x + 7;  // ASCII code for this character\n",
    "\n",
    "System.out.println(a);\n",
    "\n",
    "String name = \"GRE\";\n",
    "\n",
    "name = name + x;\n",
    "\n",
    "System.out.println(name);"
   ]
  },
  {
   "cell_type": "code",
   "execution_count": null,
   "id": "26b0c8b9-c882-46e4-a5cb-0157c973395b",
   "metadata": {},
   "outputs": [],
   "source": [
    "for(int i = 2; i < 20; i++)\n",
    "    System.out.println(    Integer.toString(100, i)              );"
   ]
  },
  {
   "cell_type": "code",
   "execution_count": 7,
   "id": "0b78f0e0-8040-423b-8774-d9ea71b170ba",
   "metadata": {},
   "outputs": [],
   "source": [
    "int n = 3;\n",
    "\n",
    "int[][]  mtx  = new int[n][n];  // mtx[0][0], mtx[0][1], mtx[0][2], mtx[1][0], mtx[1][1], mtx[1][2], etc..., mtx[2][2]\n",
    "\n",
    "// How should we assign random values for each of the elements?\n",
    "\n",
    "for(int row = 0; row < n; row++) {\n",
    "    \n",
    "    for(int col = 0; col < n; col++) {\n",
    "        \n",
    "        int r = (int)(Math.random()*100);\n",
    "         \n",
    "        mtx[row][col] = r;\n",
    "        \n",
    "    }\n",
    "    \n",
    "}\n"
   ]
  },
  {
   "cell_type": "code",
   "execution_count": 8,
   "id": "fb14dd56-1a45-4525-b12f-c7fe3972c63b",
   "metadata": {},
   "outputs": [
    {
     "name": "stdout",
     "output_type": "stream",
     "text": [
      "28,24,47,\n",
      "16,97,93,\n",
      "26,58,16,\n"
     ]
    }
   ],
   "source": [
    "for(int row = 0; row < n; row++) {\n",
    "    for(int col = 0; col < n; col++) {\n",
    "        System.out.print( mtx[row][col] + \",\" );\n",
    "    }\n",
    "    System.out.println();\n",
    "}"
   ]
  },
  {
   "cell_type": "code",
   "execution_count": 12,
   "id": "043d7d17-7cc8-43f6-96c1-6e5f4852d631",
   "metadata": {},
   "outputs": [
    {
     "name": "stdout",
     "output_type": "stream",
     "text": [
      "16,58,26,\n",
      "93,97,16,\n",
      "47,24,28,\n"
     ]
    }
   ],
   "source": [
    "int[][] res = new int[n][n];\n",
    "\n",
    "//char[][] res = new char[n][n];\n",
    "//res[2][0] = '@';\n",
    "\n",
    "for(int row = 0; row < n; row++) {\n",
    "    \n",
    "    for(int col = 0; col < n; col++) {\n",
    "             \n",
    "        //res[row][col] = mtx[col][n - 1 - row];\n",
    "        \n",
    "        res[row][col] = mtx[n-1-row][n-1-col];\n",
    "        \n",
    "    }\n",
    "    \n",
    "}\n",
    "\n",
    "for(int row = 0; row < n; row++) {\n",
    "    for(int col = 0; col < n; col++) {\n",
    "        System.out.print( res[row][col] + \",\" );\n",
    "    }\n",
    "    System.out.println();\n",
    "}"
   ]
  },
  {
   "cell_type": "code",
   "execution_count": 5,
   "id": "6ec1e0ed-3849-4702-a1f1-2fba9e1d17bb",
   "metadata": {},
   "outputs": [
    {
     "name": "stdout",
     "output_type": "stream",
     "text": [
      "0,0,0,\n",
      "0,0,0,\n",
      "0,0,0,\n"
     ]
    }
   ],
   "source": [
    "\n",
    "int row = 0;\n",
    "mtx[2][0], mtx[1][0], mtx[0][0];\n",
    "\n",
    "int row = 1;\n",
    "mtx[2[1], mtx[1][1], mtx[0][1];\n",
    "\n",
    "int row = 2;\n",
    "mtx[2][2], mtx[1][2], mtx[0][2];\n",
    "    \n",
    "    \n",
    "    \n",
    "int row = ?;\n",
    "mtx[n - 1 - col][row], mtx[n - 1 - col][row], mtx[n - 1 - col][row];\n",
    "\n",
    "    col=0,     col=1,     col=2,\n",
    "    \n",
    "    2             1          0\n",
    "    \n",
    "    (total columns number - 1)\n",
    "\n",
    "    \n",
    "for(int row = 0; row < 3; row++) {\n",
    "    for(int col = 0; col < 3; col++) {\n",
    "        System.out.print( res[row][col] + \",\" );\n",
    "    }\n",
    "    System.out.println();\n",
    "}"
   ]
  }
 ],
 "metadata": {
  "kernelspec": {
   "display_name": "Java",
   "language": "java",
   "name": "java"
  },
  "language_info": {
   "codemirror_mode": "java",
   "file_extension": ".jshell",
   "mimetype": "text/x-java-source",
   "name": "Java",
   "pygments_lexer": "java",
   "version": "15.0.1+9-18"
  }
 },
 "nbformat": 4,
 "nbformat_minor": 5
}
