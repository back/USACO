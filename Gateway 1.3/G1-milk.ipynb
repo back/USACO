{
 "cells": [
  {
   "cell_type": "markdown",
   "metadata": {},
   "source": [
    "# Section 1.3 - Milking Cows\n",
    "---\n",
    "## How to merge the intervals"
   ]
  },
  {
   "cell_type": "code",
   "execution_count": 4,
   "metadata": {},
   "outputs": [
    {
     "name": "stdout",
     "output_type": "stream",
     "text": [
      "[(38, 53), (27, 29), (26, 27), (33, 51), (56, 72), (13, 26), (19, 22), (76, 82), (64, 77), (18, 26)]\n"
     ]
    }
   ],
   "source": [
    "from random import randint\n",
    "x=[randint(1,80) for _ in range(10)]\n",
    "y=[(i, randint(i+1,i+20)) for i in x]\n",
    "print (y)"
   ]
  },
  {
   "cell_type": "code",
   "execution_count": 5,
   "metadata": {},
   "outputs": [
    {
     "name": "stdout",
     "output_type": "stream",
     "text": [
      "[(13, 26), (18, 26), (19, 22), (26, 27), (27, 29), (33, 51), (38, 53), (56, 72), (64, 77), (76, 82)]\n"
     ]
    }
   ],
   "source": [
    "print(sorted(y))"
   ]
  },
  {
   "cell_type": "code",
   "execution_count": 6,
   "metadata": {},
   "outputs": [
    {
     "name": "stdout",
     "output_type": "stream",
     "text": [
      "[(13, 26)]\n",
      "[(13, 26)]\n",
      "[(13, 26)]\n",
      "[(13, 27)]\n",
      "[(13, 29)]\n",
      "[(13, 29), (33, 51)]\n",
      "[(13, 29), (33, 53)]\n",
      "[(13, 29), (33, 53), (56, 72)]\n",
      "[(13, 29), (33, 53), (56, 77)]\n",
      "[(13, 29), (33, 53), (56, 82)]\n"
     ]
    }
   ],
   "source": [
    "z=[]\n",
    "for a,b in sorted(y):\n",
    "    if z and a <= z[-1][1]:\n",
    "        z[-1] = (min(z[-1][0], a), max(z[-1][1], b))\n",
    "    else:\n",
    "        z.append((a,b))\n",
    "    print(z)"
   ]
  },
  {
   "cell_type": "markdown",
   "metadata": {},
   "source": [
    "### How to Calculate the space then?\n",
    "\n",
    "This can be achieved in a simple loop.\n",
    "- maximum spans can be calculated directly by each mergered intervals\n",
    "- maximum gaps need an \"indexed\" loop so we can visit each item with its previous/next items"
   ]
  },
  {
   "cell_type": "code",
   "execution_count": null,
   "metadata": {},
   "outputs": [],
   "source": [
    "maxMilking = max(b-a for a,b in z)\n",
    "maxNotMilking = max(z[i+1][0]-z[i][1] for i in range(len(z)-1))\n",
    "print (maxMilking, maxNotMilking)"
   ]
  }
 ],
 "metadata": {
  "kernelspec": {
   "display_name": "Python 3",
   "language": "python",
   "name": "python3"
  },
  "language_info": {
   "codemirror_mode": {
    "name": "ipython",
    "version": 3
   },
   "file_extension": ".py",
   "mimetype": "text/x-python",
   "name": "python",
   "nbconvert_exporter": "python",
   "pygments_lexer": "ipython3",
   "version": "3.9.7"
  }
 },
 "nbformat": 4,
 "nbformat_minor": 4
}
