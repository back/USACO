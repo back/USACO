{
 "cells": [
  {
   "cell_type": "code",
   "execution_count": null,
   "id": "ef5e3a6c-f8b2-4e16-ba4c-af7bfca6e90d",
   "metadata": {},
   "outputs": [],
   "source": [
    "290492304827340116\n",
    "           7:   7 x 10^6\n",
    "          2:    2 x 10^7\n",
    "         8:     8 x 10^8\n",
    "            \n",
    "            \n",
    "            \n",
    "726364123452\n",
    "\n",
    "           2: 2\n",
    "          5:  5 x 8^1\n",
    "         4:   4 x 8^2\n",
    "        3:    3 x 8^3\n",
    "        ...\n",
    "        ...\n",
    "        ...\n",
    "7:            7 x 8^11\n",
    "\n",
    "\"01234567\"\n",
    "123 (base 8) === 83 (base 10) === ???? (base ?)\n",
    "\n",
    "   1x8^2 + 2x8^1 + 3 = 1x64 + 2x8 + 3 = 64+16+3 = 83 (base 10)\n",
    "\n",
    "    \n",
    "    \n",
    "    \n",
    "\"01\" (base 2) ==> binary system\n",
    "1010011\n",
    "      1         ==> 1\n",
    "     1: 1x2^1   ==> 2\n",
    "    0: \n",
    "   0:\n",
    "  1:    1x2^4   ==> 16\n",
    " 0:\n",
    "1:      1x2^6   ==> 64\n",
    "\n",
    "============================> 83 (base 10)\n",
    "\n",
    "\n",
    "\"0123456789ABCDEFGHIJ\"\n",
    "(base 16)\n",
    "\n",
    "7F9E"
   ]
  }
 ],
 "metadata": {
  "kernelspec": {
   "display_name": "Python 3",
   "language": "python",
   "name": "python3"
  },
  "language_info": {
   "codemirror_mode": {
    "name": "ipython",
    "version": 3
   },
   "file_extension": ".py",
   "mimetype": "text/x-python",
   "name": "python",
   "nbconvert_exporter": "python",
   "pygments_lexer": "ipython3",
   "version": "3.9.7"
  }
 },
 "nbformat": 4,
 "nbformat_minor": 5
}
