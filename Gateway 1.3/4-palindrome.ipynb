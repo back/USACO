{
 "cells": [
  {
   "cell_type": "markdown",
   "metadata": {},
   "source": [
    "# Section 1.3 - Palindrome Numbers\n",
    "---\n",
    "- palindrome numbers:\n",
    "  - 12321, 34688643, ...\n",
    "- define a function: isPalindrome(a)\n",
    "  - return TRUE --> if a is a parlindrom number\n",
    "  \n",
    "### In Class Practice\n",
    "- [Palindrome Number](https://leetcode.com/problems/palindrome-number/)\n",
    "- [Palindrome String](https://leetcode.com/problems/valid-palindrome/)\n",
    "  - Note A: need to remove non-alphanumeric characters\n",
    "  - Note B: case insensitive compare to original string"
   ]
  },
  {
   "cell_type": "markdown",
   "metadata": {},
   "source": [
    "### Java sample implementation\n",
    "\n",
    "```Java\n",
    "//Using the \"reverse\" method from StringBuilder class\n",
    "public static boolean isPalindrome(int a) {\n",
    "    String s = String.valueOf(a);\n",
    "    \n",
    "    //s.reverse(); // this does not exist!\n",
    "    \n",
    "    // But we can do this:\n",
    "    \n",
    "    //StringBuilder sb = new StringBuilder(s);\n",
    "    //String newReversedS = sb.reverse().toString();\n",
    "     \n",
    "    //if (newReversedS.equals(s))\n",
    "    //    return true;\n",
    "    //else\n",
    "    //    return false;\n",
    "        \n",
    "    \n",
    "    return new StringBuilder(s).reverse().toString().equals(s);\n",
    "}\n",
    "\n",
    "//Using index to compare each character\n",
    "public static boolean isPalindrome(String s){\n",
    "    \n",
    "    \n",
    "    for(int i=0,j=s.length()-1;i<j;i++,j--)\n",
    "        if (s.charAt(i) != s.charAt(j))\n",
    "            return false;\n",
    "    \n",
    "    \n",
    "    for(int i=0; i<s.length(); i++) {\n",
    "        int theOtherI = s.length - 1 - i;\n",
    "        if (s.charAt(i) != s.charAt(theOtherI)\n",
    "            return false;\n",
    "    }\n",
    "    \n",
    "    return true;\n",
    "}\n",
    "```\n",
    "\n",
    "### Python sample implementation\n",
    "\n",
    "```Python\n",
    "def isParlindrome(n):\n",
    "    return str(n)==str(n)[::-1]\n",
    "```"
   ]
  },
  {
   "cell_type": "code",
   "execution_count": 1,
   "metadata": {},
   "outputs": [
    {
     "name": "stdout",
     "output_type": "stream",
     "text": [
      "ldfjsklddba\n"
     ]
    }
   ],
   "source": [
    "print(\"abddlksjfdl\"[::-1])"
   ]
  },
  {
   "cell_type": "code",
   "execution_count": null,
   "metadata": {},
   "outputs": [],
   "source": [
    "isParlindrome=lambda n:str(n)==str(n)[::-1]\n",
    "\n",
    "print(isParlindrome(1012332101))"
   ]
  },
  {
   "cell_type": "markdown",
   "metadata": {},
   "source": [
    "## Convert Number to other Radius\n",
    "- Recursion method can be used here to simplify the logic\n",
    " - However, please be careful on negative numbers...\n",
    " \n",
    "### In Class Practice\n",
    "- [Base 7](https://leetcode.com/problems/base-7/)"
   ]
  },
  {
   "cell_type": "code",
   "execution_count": null,
   "metadata": {},
   "outputs": [],
   "source": [
    "76283423429762   ==>   10\n",
    "\n",
    "convert(n, 10)\n",
    "\n",
    "convert(7628342342976, 10) ,  2\n",
    "convert(762834234297, 10) ,  62\n",
    "\n"
   ]
  },
  {
   "cell_type": "code",
   "execution_count": 1,
   "metadata": {},
   "outputs": [
    {
     "name": "stdout",
     "output_type": "stream",
     "text": [
      "64\n"
     ]
    }
   ],
   "source": [
    "BS=\"0123456789ABCDEFGHIJKLMNOPQRSTUVWXYZ,.;:/\\[]{}()-_=+<>`~!@#$%^&*\"\n",
    "convert = lambda n, b: convert(n//b, b).lstrip('0') + BS[n%b] if n else '0' # BS.charAt(index)\n",
    "print(len(BS))"
   ]
  },
  {
   "cell_type": "code",
   "execution_count": 8,
   "metadata": {},
   "outputs": [
    {
     "name": "stdout",
     "output_type": "stream",
     "text": [
      "11000011010011111\n"
     ]
    }
   ],
   "source": [
    "print(convert(99999,2))"
   ]
  },
  {
   "cell_type": "markdown",
   "metadata": {
    "tags": []
   },
   "source": [
    "* In Java, it would be much simpler\n",
    " * However, it only suports base number up to 36\n",
    "\n",
    "```Java\n",
    "Integer.toString(111111, 36);\n",
    "```\n",
    "\n",
    "Please try it in your own IDE..."
   ]
  },
  {
   "cell_type": "markdown",
   "metadata": {},
   "source": [
    "# Palindromic Squares"
   ]
  },
  {
   "cell_type": "code",
   "execution_count": 11,
   "metadata": {},
   "outputs": [
    {
     "name": "stdout",
     "output_type": "stream",
     "text": [
      "1 1\n",
      "2 4\n",
      "3 9\n",
      "11 121\n",
      "22 484\n",
      "101 10201\n",
      "111 12321\n",
      "121 14641\n"
     ]
    }
   ],
   "source": [
    "b = 16\n",
    "for i in range(1,301):\n",
    "    q=convert(i*i,b)\n",
    "    if q==q[::-1]:\n",
    "        print('%s %s' % (convert(i, b), q))"
   ]
  },
  {
   "cell_type": "markdown",
   "metadata": {},
   "source": [
    "# Dual Palindromes"
   ]
  },
  {
   "cell_type": "code",
   "execution_count": null,
   "metadata": {},
   "outputs": [],
   "source": [
    "n, s = 3, 25\n",
    "\n",
    "while n:\n",
    "    s+=1\n",
    "    count=0\n",
    "    for b in range(2,11):\n",
    "        q=convert(s,b)\n",
    "        if q==q[::-1]:\n",
    "           count+=1\n",
    "           if (count>1):\n",
    "               print(s)\n",
    "               n-=1\n",
    "               break"
   ]
  }
 ],
 "metadata": {
  "kernelspec": {
   "display_name": "Python 3",
   "language": "python",
   "name": "python3"
  },
  "language_info": {
   "codemirror_mode": {
    "name": "ipython",
    "version": 3
   },
   "file_extension": ".py",
   "mimetype": "text/x-python",
   "name": "python",
   "nbconvert_exporter": "python",
   "pygments_lexer": "ipython3",
   "version": "3.9.7"
  }
 },
 "nbformat": 4,
 "nbformat_minor": 4
}
