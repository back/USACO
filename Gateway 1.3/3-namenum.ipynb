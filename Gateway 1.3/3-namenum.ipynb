{
 "cells": [
  {
   "cell_type": "markdown",
   "metadata": {},
   "source": [
    "# Section 1.3 - Name that Number\n",
    "---\n",
    "- Brutal force search\n",
    " - However, a minor thought might save a huge amount of time\n",
    "- For each word, calculating the number representation first is much better way\n",
    " - it is 80 times faster..."
   ]
  },
  {
   "cell_type": "code",
   "execution_count": 3,
   "metadata": {},
   "outputs": [
    {
     "name": "stdout",
     "output_type": "stream",
     "text": [
      "{'A': '2',\n",
      " 'B': '2',\n",
      " 'C': '2',\n",
      " 'D': '3',\n",
      " 'E': '3',\n",
      " 'F': '3',\n",
      " 'G': '4',\n",
      " 'H': '4',\n",
      " 'I': '4',\n",
      " 'J': '5',\n",
      " 'K': '5',\n",
      " 'L': '5',\n",
      " 'M': '6',\n",
      " 'N': '6',\n",
      " 'O': '6',\n",
      " 'P': '7',\n",
      " 'Q': '#',\n",
      " 'R': '7',\n",
      " 'S': '7',\n",
      " 'T': '8',\n",
      " 'U': '8',\n",
      " 'V': '8',\n",
      " 'W': '9',\n",
      " 'X': '9',\n",
      " 'Y': '9',\n",
      " 'Z': '#'}\n"
     ]
    }
   ],
   "source": [
    "k = 'ABCDEFGHIJKLMNOPRSTUVWXYQZ'\n",
    "v = '222333444555666777888999##'\n",
    "m = dict(zip(k,v))\n",
    "\n",
    "pp(m)"
   ]
  },
  {
   "cell_type": "code",
   "execution_count": 4,
   "metadata": {},
   "outputs": [
    {
     "name": "stdout",
     "output_type": "stream",
     "text": [
      "4734\n"
     ]
    }
   ],
   "source": [
    "print( ''.join([m[i] for i in 'GREG']) )"
   ]
  },
  {
   "cell_type": "markdown",
   "metadata": {},
   "source": [
    "### A bit of history\n",
    "\n",
    "![A phone pad](https://qph.fs.quoracdn.net/main-qimg-776d052d73187a68870a423d00e2cd4f.webp)"
   ]
  }
 ],
 "metadata": {
  "kernelspec": {
   "display_name": "Python 3",
   "language": "python",
   "name": "python3"
  },
  "language_info": {
   "codemirror_mode": {
    "name": "ipython",
    "version": 3
   },
   "file_extension": ".py",
   "mimetype": "text/x-python",
   "name": "python",
   "nbconvert_exporter": "python",
   "pygments_lexer": "ipython3",
   "version": "3.9.7"
  }
 },
 "nbformat": 4,
 "nbformat_minor": 4
}
