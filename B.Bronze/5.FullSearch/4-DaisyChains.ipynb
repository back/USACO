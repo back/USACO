{
 "cells": [
  {
   "cell_type": "markdown",
   "id": "9a123cd0-00c9-4e41-a3a5-e1541a82249b",
   "metadata": {},
   "source": [
    "# Daisy Chains\n",
    "> http://www.usaco.org/index.php?page=viewproblem2&cpid=1060\n",
    "### Prepare & Read Inputs"
   ]
  },
  {
   "cell_type": "code",
   "execution_count": 2,
   "id": "e6943175-1106-4d08-bbe5-caa5af1a11cd",
   "metadata": {},
   "outputs": [
    {
     "name": "stdout",
     "output_type": "stream",
     "text": [
      "[1, 1, 2, 3]\n"
     ]
    }
   ],
   "source": [
    "fin = StringIO('''4\n",
    "1 1 2 3\n",
    "''')\n",
    "\n",
    "n = int(fin.readline())\n",
    "p = list(map(int, fin.readline().split()))\n",
    "print (p)"
   ]
  },
  {
   "cell_type": "markdown",
   "id": "213e5fac-f982-4e2f-9e08-86359f42281c",
   "metadata": {},
   "source": [
    "### Complete Search for All ranges\n",
    "- $O(N^3)$"
   ]
  },
  {
   "cell_type": "code",
   "execution_count": 5,
   "id": "66cde9bb-c7c5-4f76-b020-158f8b3d3929",
   "metadata": {},
   "outputs": [
    {
     "name": "stdout",
     "output_type": "stream",
     "text": [
      "6\n"
     ]
    }
   ],
   "source": [
    "count = 0\n",
    "for i in range(n):\n",
    "    for j in range(i, n):\n",
    "        avg = sum(p[i:j+1]) / (j-i+1)\n",
    "        if avg in p[i:j+1]:\n",
    "            count += 1\n",
    "print(count)"
   ]
  }
 ],
 "metadata": {
  "kernelspec": {
   "display_name": "Python 3",
   "language": "python",
   "name": "python3"
  },
  "language_info": {
   "codemirror_mode": {
    "name": "ipython",
    "version": 3
   },
   "file_extension": ".py",
   "mimetype": "text/x-python",
   "name": "python",
   "nbconvert_exporter": "python",
   "pygments_lexer": "ipython3",
   "version": "3.9.7"
  }
 },
 "nbformat": 4,
 "nbformat_minor": 5
}
