{
 "cells": [
  {
   "cell_type": "markdown",
   "id": "12c8c16a-f63c-4567-b06d-c57d33ab6ab1",
   "metadata": {},
   "source": [
    "# Diamond Collector\n",
    "> http://www.usaco.org/index.php?page=viewproblem2&cpid=639"
   ]
  },
  {
   "cell_type": "markdown",
   "id": "843c788f-ed92-45e1-a314-b161e2058627",
   "metadata": {},
   "source": [
    "### Prepare & Read Inputs"
   ]
  },
  {
   "cell_type": "code",
   "execution_count": 1,
   "id": "d3dbd9b3-5b83-4081-9db3-1f764d7e0d54",
   "metadata": {},
   "outputs": [
    {
     "name": "stdout",
     "output_type": "stream",
     "text": [
      "[1, 6, 4, 3, 1]\n"
     ]
    }
   ],
   "source": [
    "fin = StringIO('''5 3\n",
    "1\n",
    "6\n",
    "4\n",
    "3\n",
    "1\n",
    "''')\n",
    "\n",
    "N, K = map(int, fin.readline().split())\n",
    "diamonds = [int(fin.readline()) for _ in range(N)]\n",
    "print(diamonds)"
   ]
  },
  {
   "cell_type": "markdown",
   "id": "2af2759d-9565-4b9b-bb3c-176f8e2722d3",
   "metadata": {},
   "source": [
    "### Complete Search"
   ]
  },
  {
   "cell_type": "code",
   "execution_count": 2,
   "id": "dacded1d-4025-488d-a229-d2235d834a7e",
   "metadata": {},
   "outputs": [
    {
     "name": "stdout",
     "output_type": "stream",
     "text": [
      "4\n"
     ]
    }
   ],
   "source": [
    "largest = 0\n",
    "for x in range(N):\n",
    "    curlargest = 0\n",
    "    for y in range(N):\n",
    "        if diamonds[y] >= diamonds[x] and diamonds[y] <= diamonds[x] + K:\n",
    "            curlargest += 1\n",
    "    largest = max(largest, curlargest)\n",
    "    curlargest = 0\n",
    "print(largest)"
   ]
  }
 ],
 "metadata": {
  "kernelspec": {
   "display_name": "Python 3",
   "language": "python",
   "name": "python3"
  },
  "language_info": {
   "codemirror_mode": {
    "name": "ipython",
    "version": 3
   },
   "file_extension": ".py",
   "mimetype": "text/x-python",
   "name": "python",
   "nbconvert_exporter": "python",
   "pygments_lexer": "ipython3",
   "version": "3.9.7"
  }
 },
 "nbformat": 4,
 "nbformat_minor": 5
}
