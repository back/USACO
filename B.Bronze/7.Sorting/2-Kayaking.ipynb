{
 "cells": [
  {
   "cell_type": "markdown",
   "id": "0bae45e3-616f-4b03-94e5-b0a86c23b206",
   "metadata": {},
   "source": [
    "# Kayaking\n",
    "> https://codeforces.com/contest/863/problem/B\n",
    "\n",
    "### Analysis\n",
    "Without the 2 singles, the entire group's minimal factor would always be the closest pairs **after** sorting:\n",
    "```\n",
    "(0,1), (2,3), (4,5), etc...\n",
    "```\n",
    "However, with the 2 singles joining in, there has to be some searchings. Below method just use complete search technoques\n",
    "\n",
    "### Read Inputs"
   ]
  },
  {
   "cell_type": "code",
   "execution_count": 1,
   "id": "e6250a72-fdab-4974-aef4-4a9ee9788df3",
   "metadata": {},
   "outputs": [
    {
     "name": "stdout",
     "output_type": "stream",
     "text": [
      "8 [1, 3, 3, 4, 4, 6, 100, 200]\n"
     ]
    }
   ],
   "source": [
    "fin=StringIO('''4\n",
    "1 3 4 6 3 4 100 200\n",
    "''')\n",
    "\n",
    "n = int(fin.readline().strip()) * 2\n",
    "people = sorted(list(map(int, fin.readline().split())))\n",
    "print(n, people)"
   ]
  },
  {
   "cell_type": "markdown",
   "id": "7d2fce79-f801-4443-9989-084fd0ecf6c9",
   "metadata": {},
   "source": [
    "### Solving by Complete Search"
   ]
  },
  {
   "cell_type": "code",
   "execution_count": 3,
   "id": "d93af008-c597-427d-9869-39350fc169eb",
   "metadata": {},
   "outputs": [
    {
     "name": "stdout",
     "output_type": "stream",
     "text": [
      "0 1 ---> 103\n",
      "0 2 ---> 103\n",
      "0 3 ---> 102\n",
      "0 4 ---> 102\n",
      "0 5 ---> 100\n",
      "0 6 ---> 194\n",
      "0 7 ---> 94\n",
      "1 2 ---> 105\n",
      "1 3 ---> 104\n",
      "1 4 ---> 104\n",
      "1 5 ---> 102\n",
      "1 6 ---> 196\n",
      "1 7 ---> 96\n",
      "2 3 ---> 104\n",
      "2 4 ---> 104\n",
      "2 5 ---> 102\n",
      "2 6 ---> 196\n",
      "2 7 ---> 96\n",
      "3 4 ---> 105\n",
      "3 5 ---> 103\n",
      "3 6 ---> 197\n",
      "3 7 ---> 97\n",
      "4 5 ---> 103\n",
      "4 6 ---> 197\n",
      "4 7 ---> 97\n",
      "5 6 ---> 199\n",
      "5 7 ---> 99\n",
      "6 7 ---> 5\n",
      "5\n"
     ]
    }
   ],
   "source": [
    "min_instability = float('inf')\n",
    "for i in range(n):\n",
    "    for j in range(i + 1, n):\n",
    "        q = [people[k] for k in range(n) if k != i and k != j] # new group exclude 2 singles\n",
    "        new_instability = sum(q[k+1] - q[k] for k in range(0, n-2, 2))\n",
    "        min_instability = min(min_instability, new_instability)\n",
    "        print(i, j, \"--->\", new_instability)\n",
    "\n",
    "print(min_instability)"
   ]
  }
 ],
 "metadata": {
  "kernelspec": {
   "display_name": "Python 3",
   "language": "python",
   "name": "python3"
  },
  "language_info": {
   "codemirror_mode": {
    "name": "ipython",
    "version": 3
   },
   "file_extension": ".py",
   "mimetype": "text/x-python",
   "name": "python",
   "nbconvert_exporter": "python",
   "pygments_lexer": "ipython3",
   "version": "3.9.7"
  }
 },
 "nbformat": 4,
 "nbformat_minor": 5
}
