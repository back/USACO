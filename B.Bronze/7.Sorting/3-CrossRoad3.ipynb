{
 "cells": [
  {
   "cell_type": "markdown",
   "id": "29568ca4-fef3-4d9b-a11e-dca664160e79",
   "metadata": {},
   "source": [
    "# Why Did the Cow Cross the Road III\n",
    "> http://www.usaco.org/index.php?page=viewproblem2&cpid=713\n",
    "\n",
    "### Read Inputs\n",
    "- Sorted the cows after reading in"
   ]
  },
  {
   "cell_type": "code",
   "execution_count": 1,
   "id": "a0aff8a5-eb46-4d72-9a4e-eca972bf6bfe",
   "metadata": {},
   "outputs": [
    {
     "name": "stdout",
     "output_type": "stream",
     "text": [
      "[[2, 1], [5, 7], [8, 3]]\n"
     ]
    }
   ],
   "source": [
    "fin = StringIO('''3\n",
    "2 1\n",
    "8 3\n",
    "5 7\n",
    "''')\n",
    "\n",
    "n = int(fin.readline())\n",
    "cows = sorted(list(map(int, fin.readline().split()))for i in range(n))\n",
    "print(cows)"
   ]
  },
  {
   "cell_type": "markdown",
   "id": "4d7d502c-bb45-43ad-9d97-8dd9c4747a36",
   "metadata": {},
   "source": [
    "### Solving it"
   ]
  },
  {
   "cell_type": "code",
   "execution_count": 2,
   "id": "e67671b7-753e-47e5-9f72-ee40bb5a2c85",
   "metadata": {},
   "outputs": [
    {
     "name": "stdout",
     "output_type": "stream",
     "text": [
      "15\n"
     ]
    }
   ],
   "source": [
    "cur_time = 0\n",
    "\n",
    "for a, b in cows:\n",
    "    cur_time = max(cur_time, a) + b\n",
    "\n",
    "print(cur_time)"
   ]
  }
 ],
 "metadata": {
  "kernelspec": {
   "display_name": "Python 3",
   "language": "python",
   "name": "python3"
  },
  "language_info": {
   "codemirror_mode": {
    "name": "ipython",
    "version": 3
   },
   "file_extension": ".py",
   "mimetype": "text/x-python",
   "name": "python",
   "nbconvert_exporter": "python",
   "pygments_lexer": "ipython3",
   "version": "3.9.7"
  }
 },
 "nbformat": 4,
 "nbformat_minor": 5
}
