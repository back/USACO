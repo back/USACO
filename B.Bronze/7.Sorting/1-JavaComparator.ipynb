{
 "cells": [
  {
   "cell_type": "markdown",
   "id": "17b533b3-c445-418b-9713-1fe2141b7220",
   "metadata": {},
   "source": [
    "# Java Comparator & Comparable\n",
    "### Prepare a complex array"
   ]
  },
  {
   "cell_type": "code",
   "execution_count": null,
   "id": "fe7a5fd7-8a50-4353-9dcf-74d86ec59bec",
   "metadata": {
    "tags": []
   },
   "outputs": [],
   "source": [
    "public class XYZ extends BaseClass implements Comparable {\n",
    "    public int compareTo(XYZ anotherObject) {\n",
    "        if (this.age < anotherObject.getAge())\n",
    "            return -1;\n",
    "        else if (this.age > anotherObject.getAge())\n",
    "            return 1;\n",
    "        else\n",
    "            return 0;\n",
    "    }\n",
    "}"
   ]
  },
  {
   "cell_type": "code",
   "execution_count": 13,
   "id": "908adde1-1a5d-4330-9f54-06711b9c3a05",
   "metadata": {},
   "outputs": [],
   "source": [
    "import java.util.Arrays;\n",
    "\n",
    "int[][] generate(int rows, int cols) {\n",
    "    int[][] res = new int[rows][cols];\n",
    "    for(int i = 0; i<rows; i++)\n",
    "        for(int j = 0; j<cols; j++)\n",
    "            res[i][j] = (int)(Math.random()*100);\n",
    "    return res;\n",
    "}\n",
    "\n",
    "void show(int[][] data) {\n",
    "    for(int[] row : data)\n",
    "        System.out.println(Arrays.toString(row));\n",
    "}"
   ]
  },
  {
   "cell_type": "code",
   "execution_count": 19,
   "id": "e1ef10ad-97be-4e07-a962-5296c5a58b7b",
   "metadata": {},
   "outputs": [
    {
     "name": "stdout",
     "output_type": "stream",
     "text": [
      "[84, 21, 94, 84, 38]\n",
      "[84, 96, 7, 56, 45]\n",
      "[5, 93, 69, 5, 11]\n",
      "[7, 49, 67, 0, 67]\n",
      "[40, 76, 8, 51, 46]\n",
      "[40, 17, 77, 27, 70]\n",
      "[90, 77, 14, 25, 11]\n",
      "[65, 4, 85, 24, 50]\n"
     ]
    }
   ],
   "source": [
    "int[][] x = generate(8, 5);\n",
    "show(x);"
   ]
  },
  {
   "cell_type": "markdown",
   "id": "0fa1fb86-1aa5-421f-a397-da6c5b435579",
   "metadata": {},
   "source": [
    "### Traditional Way of Sorting with Comparators"
   ]
  },
  {
   "cell_type": "code",
   "execution_count": 21,
   "id": "090c1581-b726-4ad2-b6af-93cf3f0ac3fa",
   "metadata": {},
   "outputs": [
    {
     "name": "stdout",
     "output_type": "stream",
     "text": [
      "[90, 77, 14, 25, 11]\n",
      "[5, 93, 69, 5, 11]\n",
      "[84, 21, 94, 84, 38]\n",
      "[84, 96, 7, 56, 45]\n",
      "[40, 76, 8, 51, 46]\n",
      "[65, 4, 85, 24, 50]\n",
      "[7, 49, 67, 0, 67]\n",
      "[40, 17, 77, 27, 70]\n"
     ]
    }
   ],
   "source": [
    "// anonymous class implementation\n",
    "Arrays.sort(x, new Comparator<int[]>(){\n",
    "    public int compare(int[] a, int[] b) {\n",
    "        return a[4] - b[4];\n",
    "    }\n",
    "});\n",
    "show(x);"
   ]
  },
  {
   "cell_type": "markdown",
   "id": "4d8fc899-0c38-45c5-8d53-9f7a444a9175",
   "metadata": {},
   "source": [
    "### New Way of Using Lambdas"
   ]
  },
  {
   "cell_type": "code",
   "execution_count": 22,
   "id": "0baa71df-822c-4760-8ced-f262ab8f9b89",
   "metadata": {},
   "outputs": [
    {
     "name": "stdout",
     "output_type": "stream",
     "text": [
      "[5, 93, 69, 5, 11]\n",
      "[7, 49, 67, 0, 67]\n",
      "[40, 76, 8, 51, 46]\n",
      "[40, 17, 77, 27, 70]\n",
      "[65, 4, 85, 24, 50]\n",
      "[84, 21, 94, 84, 38]\n",
      "[84, 96, 7, 56, 45]\n",
      "[90, 77, 14, 25, 11]\n"
     ]
    }
   ],
   "source": [
    "// (, , , ,) -> {body of function as an expression}\n",
    "\n",
    "Arrays.sort(x, (int[] a, int[] b) -> a[0]-b[0]  );\n",
    "show(x);"
   ]
  }
 ],
 "metadata": {
  "kernelspec": {
   "display_name": "Java",
   "language": "java",
   "name": "java"
  },
  "language_info": {
   "codemirror_mode": "java",
   "file_extension": ".jshell",
   "mimetype": "text/x-java-source",
   "name": "Java",
   "pygments_lexer": "java",
   "version": "15.0.1+9-18"
  }
 },
 "nbformat": 4,
 "nbformat_minor": 5
}
