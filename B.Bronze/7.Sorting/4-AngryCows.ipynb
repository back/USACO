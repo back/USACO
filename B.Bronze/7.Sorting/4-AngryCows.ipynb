{
 "cells": [
  {
   "cell_type": "markdown",
   "id": "ccf13379-d45d-4067-bda7-40a967eafcaf",
   "metadata": {},
   "source": [
    "# Angry Cows\n",
    "> http://www.usaco.org/index.php?page=viewproblem2&cpid=592\n",
    "\n",
    "### Read Inputs"
   ]
  },
  {
   "cell_type": "code",
   "execution_count": 13,
   "id": "8f6d65c1-961f-4230-aa77-fd41c1817e0c",
   "metadata": {},
   "outputs": [
    {
     "name": "stdout",
     "output_type": "stream",
     "text": [
      "[3, 4, 5, 6, 8, 13]\n"
     ]
    }
   ],
   "source": [
    "fin=StringIO('''6\n",
    "8\n",
    "5\n",
    "6\n",
    "13\n",
    "3\n",
    "4''')\n",
    "\n",
    "n = int(fin.readline())\n",
    "bales = sorted([int(fin.readline()) for _ in range(n)])\n",
    "\n",
    "print(bales)"
   ]
  },
  {
   "cell_type": "markdown",
   "id": "c35e5509-3484-4959-bf34-00725121d8f7",
   "metadata": {},
   "source": [
    "### Define the Chain-ReAction search function\n",
    "- Basically it's a simulation to look for farthest bale the explosion can reach\n",
    "- Using \"abs()\" for this can be in both directions"
   ]
  },
  {
   "cell_type": "code",
   "execution_count": 14,
   "id": "c6cd29e4-5922-4411-88da-0d290d193c64",
   "metadata": {},
   "outputs": [],
   "source": [
    "def chain(start, direction): # direction: 1 or -1\n",
    "    reached = start\n",
    "    for radius in range(1, bales[-1]-bales[0]):\n",
    "        reaching = reached\n",
    "        while -1 < reaching + direction < len(bales) and abs(bales[reaching + direction] - bales[reached]) <= radius:\n",
    "            reaching += direction\n",
    "        if reached == reaching:\n",
    "            break\n",
    "        reached = reaching\n",
    "    return abs(reached - start)"
   ]
  },
  {
   "cell_type": "markdown",
   "id": "3a24a54e-d463-4593-9fb8-976d5e0d2ef1",
   "metadata": {},
   "source": [
    "### Complete Search on Each Bale to Find the Max Result"
   ]
  },
  {
   "cell_type": "code",
   "execution_count": 15,
   "id": "5a47fc04-7c58-4158-b451-5260c9a18707",
   "metadata": {},
   "outputs": [
    {
     "name": "stdout",
     "output_type": "stream",
     "text": [
      "5\n"
     ]
    }
   ],
   "source": [
    "print(max(chain(i, -1) + chain(i, 1) + 1 for i in range(len(bales))))"
   ]
  }
 ],
 "metadata": {
  "kernelspec": {
   "display_name": "Python 3",
   "language": "python",
   "name": "python3"
  },
  "language_info": {
   "codemirror_mode": {
    "name": "ipython",
    "version": 3
   },
   "file_extension": ".py",
   "mimetype": "text/x-python",
   "name": "python",
   "nbconvert_exporter": "python",
   "pygments_lexer": "ipython3",
   "version": "3.9.7"
  }
 },
 "nbformat": 4,
 "nbformat_minor": 5
}
