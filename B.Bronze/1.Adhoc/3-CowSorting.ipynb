{
 "cells": [
  {
   "cell_type": "markdown",
   "id": "6298e9d1-42f4-4a6d-b061-573e67c001f3",
   "metadata": {},
   "source": [
    "# Sleepy Cow Sorting\n",
    "> https://usaco.org/index.php?page=viewproblem2&cpid=892\n",
    "### Read Inputs"
   ]
  },
  {
   "cell_type": "code",
   "execution_count": 1,
   "id": "276d08e8-a4f6-41fb-adde-5b01c15ccd4b",
   "metadata": {},
   "outputs": [],
   "source": [
    "fin=StringIO('''4\n",
    "1 2 4 3\n",
    "''')\n",
    "\n",
    "n = int(fin.readline())\n",
    "cows = list(map(int, fin.readline().split()))"
   ]
  },
  {
   "cell_type": "markdown",
   "id": "4571e43d-5b64-437d-9336-06755b243faf",
   "metadata": {},
   "source": [
    "### Check backwards for already sorted part"
   ]
  },
  {
   "cell_type": "code",
   "execution_count": 2,
   "id": "e70551eb-a929-42a7-a7a0-dc01e3c20e56",
   "metadata": {},
   "outputs": [
    {
     "name": "stdout",
     "output_type": "stream",
     "text": [
      "3\n"
     ]
    }
   ],
   "source": [
    "for i in range(n - 1, 0, -1):\n",
    "    if cows[i-1] > cows[i]:\n",
    "        print(i)\n",
    "        break"
   ]
  }
 ],
 "metadata": {
  "kernelspec": {
   "display_name": "Python 3",
   "language": "python",
   "name": "python3"
  },
  "language_info": {
   "codemirror_mode": {
    "name": "ipython",
    "version": 3
   },
   "file_extension": ".py",
   "mimetype": "text/x-python",
   "name": "python",
   "nbconvert_exporter": "python",
   "pygments_lexer": "ipython3",
   "version": "3.9.7"
  }
 },
 "nbformat": 4,
 "nbformat_minor": 5
}
