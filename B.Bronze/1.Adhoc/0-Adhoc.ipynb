{
 "cells": [
  {
   "cell_type": "markdown",
   "metadata": {},
   "source": [
    "# Adhoc Problems\n",
    "\n",
    "Ad-hoc problems are problems that don’t fall into any standard algorithmic category\n",
    "with well known solutions. They are usually unique problems intended to be solved with\n",
    "unconventional techniques. \n",
    "\n",
    "Unfortunately, since ad-hoc problems don’t have solutions consisting of well known\n",
    "algorithms, there is no systematical method to solve them. The best way of learning how\n",
    "to do ad-hoc is to **practice**.\n",
    "\n",
    "### One Quick Sample\n",
    "National Sorting (Bucket Sort)\n",
    "- 1 millon SAT scores\n",
    "- Score Range: 0 - 1600\n",
    "\n",
    "```Java\n",
    "int[] scores  = new int[1601];\n",
    "\n",
    "scores[0];\n",
    "scores[1];\n",
    "...\n",
    "scores[1600];\n",
    "\n",
    "scores[1204]++;  // <-- 1204\n",
    "```\n",
    "\n",
    "### Easy\n",
    "- [Bucket Brigate](http://www.usaco.org/index.php?page=viewproblem2&cpid=939)\n",
    "- [Promotion Counting](http://www.usaco.org/index.php?page=viewproblem2&cpid=591)\n",
    "- [Sleepy Cow Herding](http://www.usaco.org/index.php?page=viewproblem2&cpid=915)\n",
    "- [Sleepy Cow Sorting](http://www.usaco.org/index.php?page=viewproblem2&cpid=892)\n",
    "\n",
    "### Normal\n",
    "- [Taming the Herd](http://www.usaco.org/index.php?page=viewproblem2&cpid=809)\n",
    "- [Milking Order](http://www.usaco.org/index.php?page=viewproblem2&cpid=832)"
   ]
  }
 ],
 "metadata": {
  "kernelspec": {
   "display_name": "Python 3",
   "language": "python",
   "name": "python3"
  },
  "language_info": {
   "codemirror_mode": {
    "name": "ipython",
    "version": 3
   },
   "file_extension": ".py",
   "mimetype": "text/x-python",
   "name": "python",
   "nbconvert_exporter": "python",
   "pygments_lexer": "ipython3",
   "version": "3.9.7"
  }
 },
 "nbformat": 4,
 "nbformat_minor": 4
}
