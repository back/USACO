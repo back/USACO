{
 "cells": [
  {
   "cell_type": "markdown",
   "id": "c4139cc8-e07c-4ea1-84c8-2fe4511af94f",
   "metadata": {
    "tags": []
   },
   "source": [
    "# Sleepy Cow Herding\n",
    "> http://www.usaco.org/index.php?page=viewproblem2&cpid=915\n",
    "\n",
    "### Read Inputs"
   ]
  },
  {
   "cell_type": "code",
   "execution_count": 2,
   "id": "75e08926-49b5-4bcf-9c87-82eb4bcb59d1",
   "metadata": {},
   "outputs": [
    {
     "name": "stdout",
     "output_type": "stream",
     "text": [
      "4 7 9\n"
     ]
    }
   ],
   "source": [
    "import sys\n",
    "\n",
    "sys.stdin = StringIO('''4 7 9\n",
    "''')\n",
    "\n",
    "a, b, c = map(int, sys.stdin.readline().split())\n",
    "\n",
    "print(a,b,c)"
   ]
  },
  {
   "cell_type": "markdown",
   "id": "807b6766-e466-4c87-994d-5ad659e6be47",
   "metadata": {},
   "source": [
    "### Calculate Answer\n",
    "- Best scenario: the three elements are already in order.\n",
    "- If there is a difference by 2, it can be solved in one move.\n",
    "  - 3 5 9 -> 5 7 9\n",
    "- It can always be solved in two moves by moving a -> c - 2 and b -> c - 1.\n",
    "- If there is less than one integer between the two elements, it'll be taken care of in the if statement above.\n",
    "- The worst case is incrementing by 1 in the largest gap.\n",
    "  - 3 5 9 -> 5 6 9 -> 6 7 9 -> 7 8 9"
   ]
  },
  {
   "cell_type": "code",
   "execution_count": 3,
   "id": "b8bd78bf-cb04-4520-8c56-9a8528f8f5c4",
   "metadata": {},
   "outputs": [
    {
     "name": "stdout",
     "output_type": "stream",
     "text": [
      "1\n",
      "2\n"
     ]
    }
   ],
   "source": [
    "if c == a + 2:\n",
    "    print(0)\n",
    "elif b == a + 2 or c == b + 2:\n",
    "    print(1)\n",
    "else:\n",
    "    print(2)\n",
    "\n",
    "print(max(b - a, c - b) - 1)"
   ]
  }
 ],
 "metadata": {
  "kernelspec": {
   "display_name": "Python 3",
   "language": "python",
   "name": "python3"
  },
  "language_info": {
   "codemirror_mode": {
    "name": "ipython",
    "version": 3
   },
   "file_extension": ".py",
   "mimetype": "text/x-python",
   "name": "python",
   "nbconvert_exporter": "python",
   "pygments_lexer": "ipython3",
   "version": "3.9.7"
  }
 },
 "nbformat": 4,
 "nbformat_minor": 5
}
