{
 "cells": [
  {
   "cell_type": "markdown",
   "id": "05c5382c-f744-492c-a56d-c5389aea0445",
   "metadata": {},
   "source": [
    "# Mixing Milk\n",
    "\n",
    "### Read Inputs"
   ]
  },
  {
   "cell_type": "code",
   "execution_count": 1,
   "id": "1681fa31-78cd-4df0-8613-c06c862dba14",
   "metadata": {},
   "outputs": [],
   "source": [
    "fin=StringIO('''10 3\n",
    "11 4\n",
    "12 5\n",
    "''')\n",
    "\n",
    "#with open('mixmilk.in') as fin:\n",
    "#with open('mixmilk.out', 'w') as fout:"
   ]
  },
  {
   "cell_type": "markdown",
   "id": "b78d41df-691b-4eed-9e8b-39709d35c891",
   "metadata": {},
   "source": [
    "### Prepare the Full Capacity & Milk Holding array\n",
    "- We can do this in a 2-D array, but separate lists are easier to read"
   ]
  },
  {
   "cell_type": "code",
   "execution_count": 2,
   "id": "dd1fa394-8dc1-4007-ae57-b8487f62540a",
   "metadata": {},
   "outputs": [
    {
     "name": "stdout",
     "output_type": "stream",
     "text": [
      "[10, 11, 12] [3, 4, 5]\n"
     ]
    }
   ],
   "source": [
    "full=[0]*3\n",
    "milk=[0]*3\n",
    "\n",
    "for i in range(3):\n",
    "    full[i], milk[i] = map(int, fin.readline().split())\n",
    "    \n",
    "print(full, milk)"
   ]
  },
  {
   "cell_type": "markdown",
   "id": "f2959288-08db-4758-a615-06cc04dadfd3",
   "metadata": {},
   "source": [
    "### Define a milk pouring function"
   ]
  },
  {
   "cell_type": "code",
   "execution_count": 3,
   "id": "641f7c55-5cf9-4c43-99c0-a50848db5ca3",
   "metadata": {},
   "outputs": [],
   "source": [
    "def pour(b_from, b_to):\n",
    "    m = min(milk[b_from], full[b_to] - milk[b_to])\n",
    "    milk[b_from] -= m\n",
    "    milk[b_to]   += m"
   ]
  },
  {
   "cell_type": "markdown",
   "id": "445ef3b4-0edd-4453-8bc4-354aa1683fa7",
   "metadata": {},
   "source": [
    "### Now do the 100 pouring simulation"
   ]
  },
  {
   "cell_type": "code",
   "execution_count": 4,
   "id": "76a89627-4f78-4fb1-92f2-452a8c36e700",
   "metadata": {},
   "outputs": [
    {
     "name": "stdout",
     "output_type": "stream",
     "text": [
      "[0, 10, 2]\n"
     ]
    }
   ],
   "source": [
    "for i in range(100):\n",
    "    b_from, b_to = i%3, (i+1)%3\n",
    "    pour(b_from, b_to)\n",
    "    \n",
    "print(milk)"
   ]
  }
 ],
 "metadata": {
  "kernelspec": {
   "display_name": "Python 3",
   "language": "python",
   "name": "python3"
  },
  "language_info": {
   "codemirror_mode": {
    "name": "ipython",
    "version": 3
   },
   "file_extension": ".py",
   "mimetype": "text/x-python",
   "name": "python",
   "nbconvert_exporter": "python",
   "pygments_lexer": "ipython3",
   "version": "3.9.7"
  }
 },
 "nbformat": 4,
 "nbformat_minor": 5
}
