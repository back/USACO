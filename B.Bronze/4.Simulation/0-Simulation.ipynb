{
 "cells": [
  {
   "cell_type": "markdown",
   "metadata": {
    "jp-MarkdownHeadingCollapsed": true,
    "tags": []
   },
   "source": [
    "# Procedure Simulation\n",
    "In many problems, we can simply simulate what we’re told to do by the problem statement. Since there’s no formal algorithm involved, the intent of the problem is to assess competence with one’s programming language of choice and knowledge of built-in data structures. At least in USACO Bronze, when a problem statement says to find the end result of some process, or to find when something occurs, it’s usually sufficient to simulate the process.\n",
    "\n",
    "### Book Resource\n",
    "- [Yao's Notes](https://darrenyao.com/usacobook/cpp.pdf#page=24)\n",
    "\n",
    "### A LeetCode Sample\n",
    "- [Add Strings](https://leetcode.com/problems/add-strings/) (Similar to the long division: ${1}\\div{49}$)\n",
    "\n",
    "### In Class Practice\n",
    "- [Cow Signal](http://www.usaco.org/index.php?page=viewproblem2&cpid=665)\n",
    "\n",
    "### More Problems from USACO\n",
    "- [Shell Game](http://www.usaco.org/index.php?page=viewproblem2&cpid=891)\n",
    "- [Mixing Milk](http://www.usaco.org/index.php?page=viewproblem2&cpid=855)\n",
    "- [Speeding](http://www.usaco.org/index.php?page=viewproblem2&cpid=568)\n",
    "- [Lost Cow](http://www.usaco.org/index.php?page=viewproblem2&cpid=735)\n",
    "\n",
    "### Beyond Easy Level\n",
    "- [Block Game](http://www.usaco.org/index.php?page=viewproblem2&cpid=664)\n",
    "\n",
    "### A Bit Challenging\n",
    "- [Stuck in a Rut](http://www.usaco.org/index.php?page=viewproblem2&cpid=1061)\n",
    "\n",
    "### Other OJ\n",
    "- [Spirale](https://dmoj.ca/problem/coci17c5p2)\n"
   ]
  }
 ],
 "metadata": {
  "kernelspec": {
   "display_name": "Python 3",
   "language": "python",
   "name": "python3"
  },
  "language_info": {
   "codemirror_mode": {
    "name": "ipython",
    "version": 3
   },
   "file_extension": ".py",
   "mimetype": "text/x-python",
   "name": "python",
   "nbconvert_exporter": "python",
   "pygments_lexer": "ipython3",
   "version": "3.9.7"
  }
 },
 "nbformat": 4,
 "nbformat_minor": 4
}
