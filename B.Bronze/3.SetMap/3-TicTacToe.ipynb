{
 "cells": [
  {
   "cell_type": "markdown",
   "id": "eaa7d545-e8ae-48dd-8ce3-75c471952aba",
   "metadata": {},
   "source": [
    "# Team Tic Tac Toe\n",
    "> http://www.usaco.org/index.php?page=viewproblem2&cpid=831\n",
    "### Read Inputs"
   ]
  },
  {
   "cell_type": "code",
   "execution_count": 22,
   "id": "b4b8599a-b97b-4a45-9028-a69e161ddf5e",
   "metadata": {},
   "outputs": [
    {
     "name": "stdout",
     "output_type": "stream",
     "text": [
      "['COW', 'XXO', 'OXX']\n"
     ]
    }
   ],
   "source": [
    "fin = StringIO('''COW\n",
    "XXO\n",
    "OXX\n",
    "''')\n",
    "\n",
    "grid = [r.strip() for r in fin.readlines()]\n",
    "print(grid)"
   ]
  },
  {
   "cell_type": "markdown",
   "id": "c3668df6-0586-42cb-9203-e7a5a9d8fe06",
   "metadata": {},
   "source": [
    "### Collect all in-a-line sets"
   ]
  },
  {
   "cell_type": "code",
   "execution_count": 21,
   "id": "86d915af-6eb6-4b60-8662-31fa95f9267e",
   "metadata": {},
   "outputs": [
    {
     "name": "stdout",
     "output_type": "stream",
     "text": [
      "{('O', 'C', 'X'), ('C', 'X'), ('O', 'X'), ('O', 'W', 'X'), ('O', 'C', 'W')}\n",
      "0\n",
      "2\n"
     ]
    }
   ],
   "source": [
    "answers = set()\n",
    "\n",
    "for row in range(3):\n",
    "    answers.add(tuple(set(grid[row])))\n",
    "\n",
    "for col in range(3):\n",
    "    answers.add(tuple(set(row[col] for row in grid)))\n",
    "        \n",
    "answers.add(tuple(set(grid[i][i] for i in range(3))))\n",
    "answers.add(tuple(set(grid[i][2-i] for i in range(3))))\n",
    "\n",
    "print(answers)\n",
    "\n",
    "print(len(list(x for x in answers if len(x) == 1)))\n",
    "print(len(list(x for x in answers if len(x) == 2)))"
   ]
  }
 ],
 "metadata": {
  "kernelspec": {
   "display_name": "Python 3",
   "language": "python",
   "name": "python3"
  },
  "language_info": {
   "codemirror_mode": {
    "name": "ipython",
    "version": 3
   },
   "file_extension": ".py",
   "mimetype": "text/x-python",
   "name": "python",
   "nbconvert_exporter": "python",
   "pygments_lexer": "ipython3",
   "version": "3.9.7"
  }
 },
 "nbformat": 4,
 "nbformat_minor": 5
}
