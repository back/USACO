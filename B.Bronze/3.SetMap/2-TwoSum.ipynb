{
 "cells": [
  {
   "cell_type": "markdown",
   "id": "1986a929-8aaa-4f4f-9648-5e9212f8dde2",
   "metadata": {},
   "source": [
    "# 2 Sum\n",
    "> https://leetcode.com/problems/two-sum/"
   ]
  },
  {
   "cell_type": "code",
   "execution_count": 9,
   "id": "a7fc914e-5fd4-4860-8b7e-6fbaa0f19a3f",
   "metadata": {},
   "outputs": [],
   "source": [
    "nums = [2,7,11,15]\n",
    "target = 9"
   ]
  },
  {
   "cell_type": "code",
   "execution_count": 10,
   "id": "f724d190-034a-4792-9651-0348cd8dfd55",
   "metadata": {},
   "outputs": [
    {
     "name": "stdout",
     "output_type": "stream",
     "text": [
      "[1, 0]\n"
     ]
    }
   ],
   "source": [
    "t = {}\n",
    "for i, v in enumerate(nums):\n",
    "    if v in t:\n",
    "        print([i, t[v]])\n",
    "        break\n",
    "    t[target-v] = i"
   ]
  }
 ],
 "metadata": {
  "kernelspec": {
   "display_name": "Python 3",
   "language": "python",
   "name": "python3"
  },
  "language_info": {
   "codemirror_mode": {
    "name": "ipython",
    "version": 3
   },
   "file_extension": ".py",
   "mimetype": "text/x-python",
   "name": "python",
   "nbconvert_exporter": "python",
   "pygments_lexer": "ipython3",
   "version": "3.9.7"
  }
 },
 "nbformat": 4,
 "nbformat_minor": 5
}
