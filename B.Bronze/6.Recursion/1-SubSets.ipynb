{
 "cells": [
  {
   "cell_type": "markdown",
   "id": "94104ca9-a2c7-4aca-ac2b-989454bc3f81",
   "metadata": {
    "tags": []
   },
   "source": [
    "# Generating Subsets\n",
    "\n",
    "### Book Resource\n",
    "- [CPH - 5.1](https://usaco.guide/CPH.pdf#page=57)\n",
    "\n",
    "### Method 1 - Recursive"
   ]
  },
  {
   "cell_type": "code",
   "execution_count": 1,
   "id": "4293889e-f208-402a-895f-f1bdd54c8d44",
   "metadata": {
    "tags": []
   },
   "outputs": [
    {
     "name": "stdout",
     "output_type": "stream",
     "text": [
      "[]\n",
      "[2]\n",
      "[1]\n",
      "[1, 2]\n",
      "[0]\n",
      "[0, 2]\n",
      "[0, 1]\n",
      "[0, 1, 2]\n"
     ]
    }
   ],
   "source": [
    "N = 3\n",
    "subset=[]\n",
    "\n",
    "def search(k):\n",
    "    if k == N:\n",
    "        print(subset)\n",
    "    else:\n",
    "        search(k+1)       #search new subset WITHOUT k       \n",
    "        subset.append(k)\n",
    "        search(k+1)       #search new subset WITH k\n",
    "        subset.pop()\n",
    "\n",
    "search(0)"
   ]
  },
  {
   "cell_type": "markdown",
   "id": "0b5edb64-af33-4858-9a28-a4b902e39e6f",
   "metadata": {},
   "source": [
    "### Method 2 - Bitwise"
   ]
  },
  {
   "cell_type": "code",
   "execution_count": 2,
   "id": "07ceb340-604c-4c70-b3e7-62e4d57f385f",
   "metadata": {},
   "outputs": [
    {
     "name": "stdout",
     "output_type": "stream",
     "text": [
      "[]\n",
      "[0]\n",
      "[1]\n",
      "[0, 1]\n",
      "[2]\n",
      "[0, 2]\n",
      "[1, 2]\n",
      "[0, 1, 2]\n"
     ]
    }
   ],
   "source": [
    "for b in range(1<<N):\n",
    "    print([ i for i in range(N) if b & (1<<i) ])"
   ]
  }
 ],
 "metadata": {
  "kernelspec": {
   "display_name": "Python 3",
   "language": "python",
   "name": "python3"
  },
  "language_info": {
   "codemirror_mode": {
    "name": "ipython",
    "version": 3
   },
   "file_extension": ".py",
   "mimetype": "text/x-python",
   "name": "python",
   "nbconvert_exporter": "python",
   "pygments_lexer": "ipython3",
   "version": "3.9.7"
  }
 },
 "nbformat": 4,
 "nbformat_minor": 5
}
