{
 "cells": [
  {
   "cell_type": "markdown",
   "metadata": {},
   "source": [
    "# Apple Division\n",
    "\n",
    "### https://cses.fi/problemset/task/1623\n",
    "- [Geeks Analysis](https://www.geeksforgeeks.org/partition-a-set-into-two-subsets-such-that-the-difference-of-subset-sums-is-minimum/)\n",
    "\n",
    "---\n",
    "### Sample Inputs"
   ]
  },
  {
   "cell_type": "code",
   "execution_count": 1,
   "metadata": {},
   "outputs": [
    {
     "name": "stdout",
     "output_type": "stream",
     "text": [
      "[3, 2, 7, 4, 1]\n"
     ]
    }
   ],
   "source": [
    "p=[3, 2, 7, 4, 1]\n",
    "print(p)"
   ]
  },
  {
   "cell_type": "markdown",
   "metadata": {},
   "source": [
    "### Recursive Method to Split"
   ]
  },
  {
   "cell_type": "code",
   "execution_count": 4,
   "metadata": {},
   "outputs": [
    {
     "name": "stdout",
     "output_type": "stream",
     "text": [
      "Left: [3, 2, 7, 4, 1]                Right: []                             Diff: 17\n",
      "Left: [3, 2, 7, 4]                   Right: [1]                            Diff: 15\n",
      "Left: [3, 2, 7, 1]                   Right: [4]                            Diff: 9\n",
      "Left: [3, 2, 7]                      Right: [4, 1]                         Diff: 7\n",
      "Left: [3, 2, 4, 1]                   Right: [7]                            Diff: 3\n",
      "Left: [3, 2, 4]                      Right: [7, 1]                         Diff: 1\n",
      "Left: [3, 2, 1]                      Right: [7, 4]                         Diff: 5\n",
      "Left: [3, 2]                         Right: [7, 4, 1]                      Diff: 7\n",
      "Left: [3, 7, 4, 1]                   Right: [2]                            Diff: 13\n",
      "Left: [3, 7, 4]                      Right: [2, 1]                         Diff: 11\n",
      "Left: [3, 7, 1]                      Right: [2, 4]                         Diff: 5\n",
      "Left: [3, 7]                         Right: [2, 4, 1]                      Diff: 3\n",
      "Left: [3, 4, 1]                      Right: [2, 7]                         Diff: 1\n",
      "Left: [3, 4]                         Right: [2, 7, 1]                      Diff: 3\n",
      "Left: [3, 1]                         Right: [2, 7, 4]                      Diff: 9\n",
      "Left: [3]                            Right: [2, 7, 4, 1]                   Diff: 11\n",
      "Left: [2, 7, 4, 1]                   Right: [3]                            Diff: 11\n",
      "Left: [2, 7, 4]                      Right: [3, 1]                         Diff: 9\n",
      "Left: [2, 7, 1]                      Right: [3, 4]                         Diff: 3\n",
      "Left: [2, 7]                         Right: [3, 4, 1]                      Diff: 1\n",
      "Left: [2, 4, 1]                      Right: [3, 7]                         Diff: 3\n",
      "Left: [2, 4]                         Right: [3, 7, 1]                      Diff: 5\n",
      "Left: [2, 1]                         Right: [3, 7, 4]                      Diff: 11\n",
      "Left: [2]                            Right: [3, 7, 4, 1]                   Diff: 13\n",
      "Left: [7, 4, 1]                      Right: [3, 2]                         Diff: 7\n",
      "Left: [7, 4]                         Right: [3, 2, 1]                      Diff: 5\n",
      "Left: [7, 1]                         Right: [3, 2, 4]                      Diff: 1\n",
      "Left: [7]                            Right: [3, 2, 4, 1]                   Diff: 3\n",
      "Left: [4, 1]                         Right: [3, 2, 7]                      Diff: 7\n",
      "Left: [4]                            Right: [3, 2, 7, 1]                   Diff: 9\n",
      "Left: [1]                            Right: [3, 2, 7, 4]                   Diff: 15\n",
      "Left: []                             Right: [3, 2, 7, 4, 1]                Diff: 17\n"
     ]
    }
   ],
   "source": [
    "def split(i, left, right):\n",
    "    if i==len(p):\n",
    "        d = abs(sum(left)-sum(right))\n",
    "        print('Left: %-30s Right: %-30s Diff: %s' % (left, right, d))\n",
    "    else:\n",
    "        split(i+1, left+[p[i]], right)\n",
    "        split(i+1, left,        right+[p[i]])\n",
    "        \n",
    "split(0, [], [])    # start from empty Left/Right branches"
   ]
  },
  {
   "cell_type": "markdown",
   "metadata": {},
   "source": [
    "### Alternative Method (BitMask)"
   ]
  },
  {
   "cell_type": "code",
   "execution_count": 5,
   "metadata": {},
   "outputs": [
    {
     "name": "stdout",
     "output_type": "stream",
     "text": [
      "00000 \t[]                            [3, 2, 7, 4, 1]               17\n",
      "00001 \t[3]                           [2, 7, 4, 1]                  11\n",
      "00010 \t[2]                           [3, 7, 4, 1]                  13\n",
      "00011 \t[3, 2]                        [7, 4, 1]                     7\n",
      "00100 \t[7]                           [3, 2, 4, 1]                  3\n",
      "00101 \t[3, 7]                        [2, 4, 1]                     3\n",
      "00110 \t[2, 7]                        [3, 4, 1]                     1\n",
      "00111 \t[3, 2, 7]                     [4, 1]                        7\n",
      "01000 \t[4]                           [3, 2, 7, 1]                  9\n",
      "01001 \t[3, 4]                        [2, 7, 1]                     3\n",
      "01010 \t[2, 4]                        [3, 7, 1]                     5\n",
      "01011 \t[3, 2, 4]                     [7, 1]                        1\n",
      "01100 \t[7, 4]                        [3, 2, 1]                     5\n",
      "01101 \t[3, 7, 4]                     [2, 1]                        11\n",
      "01110 \t[2, 7, 4]                     [3, 1]                        9\n",
      "01111 \t[3, 2, 7, 4]                  [1]                           15\n",
      "10000 \t[1]                           [3, 2, 7, 4]                  15\n",
      "10001 \t[3, 1]                        [2, 7, 4]                     9\n",
      "10010 \t[2, 1]                        [3, 7, 4]                     11\n",
      "10011 \t[3, 2, 1]                     [7, 4]                        5\n",
      "10100 \t[7, 1]                        [3, 2, 4]                     1\n",
      "10101 \t[3, 7, 1]                     [2, 4]                        5\n",
      "10110 \t[2, 7, 1]                     [3, 4]                        3\n",
      "10111 \t[3, 2, 7, 1]                  [4]                           9\n",
      "11000 \t[4, 1]                        [3, 2, 7]                     7\n",
      "11001 \t[3, 4, 1]                     [2, 7]                        1\n",
      "11010 \t[2, 4, 1]                     [3, 7]                        3\n",
      "11011 \t[3, 2, 4, 1]                  [7]                           3\n",
      "11100 \t[7, 4, 1]                     [3, 2]                        7\n",
      "11101 \t[3, 7, 4, 1]                  [2]                           13\n",
      "11110 \t[2, 7, 4, 1]                  [3]                           11\n",
      "11111 \t[3, 2, 7, 4, 1]               []                            17\n"
     ]
    }
   ],
   "source": [
    "s = sum(p)\n",
    "minDiff = 0\n",
    "\n",
    "for i in range(2 ** len(p)): # Math.pow(2,len(p))\n",
    "    \n",
    "    x = [v for j, v in enumerate(p) if 2**j & i]\n",
    "    minDiff = min(minDiff, abs(s - sum(x) * 2))\n",
    "    \n",
    "    # no need to calc \"y\", here is only for output shows:\n",
    "    y = [v for j, v in enumerate(p) if not 2**j & i]\n",
    "    \n",
    "    print(bin(i)[2:].zfill(len(p)), \"\\t%-30s%-30s%s\" % (x, y, abs(s - sum(x) * 2)))"
   ]
  }
 ],
 "metadata": {
  "kernelspec": {
   "display_name": "Python 3",
   "language": "python",
   "name": "python3"
  },
  "language_info": {
   "codemirror_mode": {
    "name": "ipython",
    "version": 3
   },
   "file_extension": ".py",
   "mimetype": "text/x-python",
   "name": "python",
   "nbconvert_exporter": "python",
   "pygments_lexer": "ipython3",
   "version": "3.9.7"
  }
 },
 "nbformat": 4,
 "nbformat_minor": 4
}
