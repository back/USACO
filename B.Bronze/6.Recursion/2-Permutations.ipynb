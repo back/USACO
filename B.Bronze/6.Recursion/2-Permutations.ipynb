{
 "cells": [
  {
   "cell_type": "markdown",
   "id": "05a85ee8-8631-4d3d-8ae8-c0d3783ea1f7",
   "metadata": {
    "tags": []
   },
   "source": [
    "# Generating Permutations\n",
    "Here we discuss generic list permutations.\n",
    "\n",
    "### Book Resource\n",
    "- [CPH - 5.2](https://usaco.guide/CPH.pdf#page=59)\n",
    "\n",
    "### Method 1 - Recursive"
   ]
  },
  {
   "cell_type": "code",
   "execution_count": null,
   "id": "bc012028-203f-41ad-84c5-0507dca6fde0",
   "metadata": {},
   "outputs": [],
   "source": [
    "N=5\n",
    "permutation = []\n",
    "chosen = [0] * N\n",
    "\n",
    "def search():\n",
    "    if len(permutation) == N:\n",
    "        print(permutation)\n",
    "    else:\n",
    "        for i in range(N):            # complete search for all next items\n",
    "            if chosen[i]: continue    # skip previously selected item\n",
    "            chosen[i] = 1             # else then mark this item  \n",
    "            permutation.append(i)     # append it to permutation\n",
    "            search()                  # keep recursive work if not finished\n",
    "            chosen[i] = 0             # unchozen this one\n",
    "            permutation.pop()         # and remove it for next recursive path\n",
    "search()"
   ]
  },
  {
   "cell_type": "markdown",
   "id": "354414fc-7ca3-4705-8281-6791575f53f0",
   "metadata": {},
   "source": [
    "### Method 2 - C++ Built-in function\n",
    "- Documentation\n",
    "  - https://en.cppreference.com/w/cpp/algorithm/next_permutation\n",
    "- Sample usage:\n",
    "```C++\n",
    "do {\n",
    "    // process p\n",
    "} while (next_permutation(p.begin(),p.end()));\n",
    "```"
   ]
  }
 ],
 "metadata": {
  "kernelspec": {
   "display_name": "Python 3",
   "language": "python",
   "name": "python3"
  },
  "language_info": {
   "codemirror_mode": {
    "name": "ipython",
    "version": 3
   },
   "file_extension": ".py",
   "mimetype": "text/x-python",
   "name": "python",
   "nbconvert_exporter": "python",
   "pygments_lexer": "ipython3",
   "version": "3.9.7"
  }
 },
 "nbformat": 4,
 "nbformat_minor": 5
}
