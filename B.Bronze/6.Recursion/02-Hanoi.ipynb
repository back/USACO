{
 "cells": [
  {
   "cell_type": "markdown",
   "metadata": {},
   "source": [
    "# Tower of Hanoi\n",
    "- [Animated Solution](http://towersofhanoi.info/Animate.aspx)\n",
    "- [Playable Game](https://www.mathsisfun.com/games/towerofhanoi.html)"
   ]
  },
  {
   "cell_type": "code",
   "execution_count": null,
   "metadata": {},
   "outputs": [],
   "source": [
    "pole=lambda x: ('-'*N + ''.join(map(str,x)) + '|')[-N-1:]\n",
    "show=lambda: print(pole(a) + pole(b) + pole(c))\n",
    "\n",
    "# N: just for how long the pole is, does not matter to real solutions:\n",
    "N,a,b,c = 18, [1,2,3,4,5], [], []\n",
    "\n",
    "show()"
   ]
  },
  {
   "cell_type": "code",
   "execution_count": null,
   "metadata": {},
   "outputs": [],
   "source": [
    "# understand: parameters in function calls...\n",
    "# move all X discs from P1 to P2, using P3 as helper pillar\n",
    "def move(x, p1, p2, p3):\n",
    "    if x <= 1:\n",
    "        p2.insert(0, p1.pop(0))\n",
    "        show()\n",
    "    else:\n",
    "        move(x-1, p1, p3, p2)\n",
    "        move( 1 , p1, p2, p3)\n",
    "        move(x-1, p3, p2, p1)"
   ]
  },
  {
   "cell_type": "markdown",
   "metadata": {},
   "source": [
    "### Now call this *Recursive* method:"
   ]
  },
  {
   "cell_type": "code",
   "execution_count": null,
   "metadata": {},
   "outputs": [],
   "source": [
    "a,b,c = [1,2,3,4,5], [], []\n",
    "move(5, a, b, c)"
   ]
  }
 ],
 "metadata": {
  "kernelspec": {
   "display_name": "Python 3",
   "language": "python",
   "name": "python3"
  },
  "language_info": {
   "codemirror_mode": {
    "name": "ipython",
    "version": 3
   },
   "file_extension": ".py",
   "mimetype": "text/x-python",
   "name": "python",
   "nbconvert_exporter": "python",
   "pygments_lexer": "ipython3",
   "version": "3.9.7"
  }
 },
 "nbformat": 4,
 "nbformat_minor": 4
}
