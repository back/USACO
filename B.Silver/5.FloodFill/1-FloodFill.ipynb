{
 "cells": [
  {
   "cell_type": "markdown",
   "metadata": {},
   "source": [
    "# Flood Fill Algorithm\n",
    "\n",
    "### Material\n",
    "- [Yao's Notes](https://darrenyao.com/usacobook/java.pdf#page=56)\n",
    "- [CP2](https://usaco.guide/CP2.pdf#page=90)\n",
    "\n",
    "### USACO Training Gateway\n",
    "- Section 2.4: Tamworth Two\n",
    "- Section 2.4: Overfencing\n",
    "\n",
    "### In-Class Study: Count Connected Fields\n",
    "\n",
    "![](../../img/FloodFill.gif)\n",
    "\n",
    "---\n",
    "### Store the Graph by an Edges List"
   ]
  },
  {
   "cell_type": "code",
   "execution_count": 1,
   "metadata": {},
   "outputs": [],
   "source": [
    "graph = [(1,4), (1,8), (2,7), (2,9), (5,6), (5,7), (5,9), (7,9)]"
   ]
  },
  {
   "cell_type": "markdown",
   "metadata": {},
   "source": [
    "### Prepare the Component Mapping"
   ]
  },
  {
   "cell_type": "code",
   "execution_count": 14,
   "metadata": {},
   "outputs": [
    {
     "name": "stdout",
     "output_type": "stream",
     "text": [
      "[0, 0, 0, 0, 0, 0, 0, 0, 0, 0]\n"
     ]
    }
   ],
   "source": [
    "compo = [0] * 10  # 1-based index system\n",
    "print(compo)"
   ]
  },
  {
   "cell_type": "markdown",
   "metadata": {},
   "source": [
    "### Flood Fill Algorithm"
   ]
  },
  {
   "cell_type": "code",
   "execution_count": 3,
   "metadata": {},
   "outputs": [],
   "source": [
    "def floodfill(i, label):\n",
    "    if compo[i]!=0:\n",
    "        return False\n",
    "    compo[i] = label\n",
    "    for a,b in graph:\n",
    "        if a==i:\n",
    "            floodfill(b, label)\n",
    "        if b==i:\n",
    "            floodfill(a, label)\n",
    "    return True"
   ]
  },
  {
   "cell_type": "markdown",
   "metadata": {},
   "source": [
    "### Manual Test"
   ]
  },
  {
   "cell_type": "code",
   "execution_count": 13,
   "metadata": {},
   "outputs": [
    {
     "name": "stdout",
     "output_type": "stream",
     "text": [
      "[0, 1, 0, 0, 1, 0, 0, 0, 1, 0]\n"
     ]
    }
   ],
   "source": [
    "floodfill(1, 1)\n",
    "print(compo)"
   ]
  },
  {
   "cell_type": "code",
   "execution_count": 10,
   "metadata": {},
   "outputs": [
    {
     "name": "stdout",
     "output_type": "stream",
     "text": [
      "[0, 1, 9, 0, 1, 9, 9, 9, 1, 9]\n"
     ]
    }
   ],
   "source": [
    "floodfill(2, 9)\n",
    "print(compo)"
   ]
  },
  {
   "cell_type": "code",
   "execution_count": 11,
   "metadata": {},
   "outputs": [
    {
     "name": "stdout",
     "output_type": "stream",
     "text": [
      "[0, 1, 9, 88, 1, 9, 9, 9, 1, 9]\n"
     ]
    }
   ],
   "source": [
    "floodfill(3, 88)\n",
    "print(compo)"
   ]
  },
  {
   "cell_type": "markdown",
   "metadata": {},
   "source": [
    "### Complete Search"
   ]
  },
  {
   "cell_type": "code",
   "execution_count": 15,
   "metadata": {},
   "outputs": [
    {
     "name": "stdout",
     "output_type": "stream",
     "text": [
      "[0, 1, 2, 3, 1, 2, 2, 2, 1, 2]\n"
     ]
    }
   ],
   "source": [
    "compo = [0] * 10\n",
    "label = 1\n",
    "for i in range(1,10):\n",
    "    if floodfill(i, label):\n",
    "        label += 1\n",
    "print(compo)"
   ]
  },
  {
   "cell_type": "markdown",
   "metadata": {},
   "source": [
    "### Final Answer"
   ]
  },
  {
   "cell_type": "code",
   "execution_count": 16,
   "metadata": {},
   "outputs": [
    {
     "name": "stdout",
     "output_type": "stream",
     "text": [
      "3\n",
      "3\n"
     ]
    }
   ],
   "source": [
    "#print(label - 1)\n",
    "print(max(compo))\n"
   ]
  }
 ],
 "metadata": {
  "kernelspec": {
   "display_name": "Python 3",
   "language": "python",
   "name": "python3"
  },
  "language_info": {
   "codemirror_mode": {
    "name": "ipython",
    "version": 3
   },
   "file_extension": ".py",
   "mimetype": "text/x-python",
   "name": "python",
   "nbconvert_exporter": "python",
   "pygments_lexer": "ipython3",
   "version": "3.9.7"
  }
 },
 "nbformat": 4,
 "nbformat_minor": 4
}
