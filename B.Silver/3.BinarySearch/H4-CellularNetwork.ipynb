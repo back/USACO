{
 "cells": [
  {
   "cell_type": "markdown",
   "metadata": {},
   "source": [
    "# Cellular Network\n",
    "\n",
    "- [Code Forces: Cellular Network](https://codeforces.com/contest/702/problem/C)\n",
    "\n",
    "### Read Inputs"
   ]
  },
  {
   "cell_type": "code",
   "execution_count": 1,
   "metadata": {},
   "outputs": [
    {
     "name": "stdout",
     "output_type": "stream",
     "text": [
      "5 3\n",
      "[1, 5, 10, 14, 17]\n",
      "[4, 11, 15]\n"
     ]
    }
   ],
   "source": [
    "import sys\n",
    "sys.stdin = StringIO('''5 3\n",
    "1 5 10 14 17\n",
    "4 11 15\n",
    "''')\n",
    "\n",
    "n, m = map(int, sys.stdin.readline().split())\n",
    "cities = list(map(int, sys.stdin.readline().split()))\n",
    "towers = list(map(int, sys.stdin.readline().split()))\n",
    "\n",
    "print(n, m)\n",
    "print(cities)\n",
    "print(towers)"
   ]
  },
  {
   "cell_type": "markdown",
   "metadata": {},
   "source": [
    "### Method I: Binary Search\n",
    "- First defined the helper function:\n",
    "  - With Java, there is already build in functions could be used:\n",
    "    - Arrays.binarySearch(...)\n",
    "    - Collections.binarySearch(...)"
   ]
  },
  {
   "cell_type": "code",
   "execution_count": 2,
   "metadata": {},
   "outputs": [
    {
     "name": "stdout",
     "output_type": "stream",
     "text": [
      "1\n",
      "1\n",
      "2\n"
     ]
    }
   ],
   "source": [
    "def binarySearch(aList, aValue):\n",
    "    low, high = 0, len(aList);\n",
    "    while low < high:\n",
    "        mid = (high + low) // 2;\n",
    "        if aList[mid] >= aValue:\n",
    "            high = mid\n",
    "        else:\n",
    "            low = mid + 1\n",
    "    return low\n",
    "\n",
    "print(binarySearch(towers, 10))\n",
    "print(binarySearch(towers, 11))\n",
    "print(binarySearch(towers, 12))"
   ]
  },
  {
   "cell_type": "markdown",
   "metadata": {},
   "source": [
    "### Now check each city's location within Tower list"
   ]
  },
  {
   "cell_type": "code",
   "execution_count": 3,
   "metadata": {},
   "outputs": [
    {
     "name": "stdout",
     "output_type": "stream",
     "text": [
      "[(-1, 3), (1, 6), (6, 1), (3, 1), (2, -1)]\n"
     ]
    }
   ],
   "source": [
    "distances = []\n",
    "for i in range(n):\n",
    "    towerRight = binarySearch(towers, cities[i])\n",
    "    towerLeft = towerRight - 1\n",
    "\n",
    "    minL = cities[i] - towers[towerLeft] if towerLeft >= 0 else -1    # Integer.MAX_VALUE\n",
    "    minR = towers[towerRight] - cities[i] if towerRight < m else -1\n",
    "    \n",
    "    distances.append((minL, minR))\n",
    "\n",
    "print(distances) # left nearest tower, right nearest tower, for each city"
   ]
  },
  {
   "cell_type": "markdown",
   "metadata": {},
   "source": [
    "### Looking for minimal Tower Range\n",
    "- First, remove begining and ending -1\n",
    "- Then, just keep the minimal value in left,right distance\n",
    "- Last, find the maximum value from the final list"
   ]
  },
  {
   "cell_type": "code",
   "execution_count": 4,
   "metadata": {},
   "outputs": [
    {
     "name": "stdout",
     "output_type": "stream",
     "text": [
      "3\n"
     ]
    }
   ],
   "source": [
    "minWithoutNegative = lambda x: x[0] if x[1]<0 else x[1] if x[0]<0 else min(x)\n",
    "print (max(map(minWithoutNegative, distances)))"
   ]
  },
  {
   "cell_type": "markdown",
   "metadata": {},
   "source": [
    "### Method II: Two Pointers\n",
    "- **i** is the first pointer, stepping through the cities\n",
    "- **tower** is the second pointer, stepping through the towers"
   ]
  },
  {
   "cell_type": "code",
   "execution_count": 5,
   "metadata": {},
   "outputs": [
    {
     "name": "stdout",
     "output_type": "stream",
     "text": [
      "[3, 1, 1, 1, 2]\n",
      "3\n"
     ]
    }
   ],
   "source": [
    "dist = []\n",
    "tower = 0\n",
    "for i in range(n):\n",
    "    while tower < m-1 and towers[tower+1] < cities[i]:\n",
    "        tower += 1\n",
    "    if tower < m-1 and towers[tower+1] - cities[i] < cities[i] - towers[tower]:\n",
    "        tower += 1\n",
    "    dist.append(abs(towers[tower] - cities[i]))\n",
    "print (dist)\n",
    "print (max(dist))"
   ]
  }
 ],
 "metadata": {
  "kernelspec": {
   "display_name": "Python 3 (ipykernel)",
   "language": "python",
   "name": "python3"
  },
  "language_info": {
   "codemirror_mode": {
    "name": "ipython",
    "version": 3
   },
   "file_extension": ".py",
   "mimetype": "text/x-python",
   "name": "python",
   "nbconvert_exporter": "python",
   "pygments_lexer": "ipython3",
   "version": "3.9.7"
  }
 },
 "nbformat": 4,
 "nbformat_minor": 4
}
