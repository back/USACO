{
 "cells": [
  {
   "cell_type": "markdown",
   "metadata": {},
   "source": [
    "# Binary Searching\n",
    "- Monotonic Functions\n",
    "- Finding The Maximum x Such That f(x) hit a threshold\n",
    "\n",
    "### Resources\n",
    "- [CS Academy](https://csacademy.com/lesson/binary_search)\n",
    "- [Code Forces](https://codeforces.com/edu/course/2/lesson/6/1/practice)\n",
    "- [Khan Academy](https://www.khanacademy.org/computing/computer-science/algorithms/binary-search/a/binary-search)\n",
    "- [Top Coder](https://www.topcoder.com/community/competitive-programming/tutorials/binary-search)\n",
    "- [Leet Code](https://leetcode.com/discuss/general-discussion/786126/python-powerful-ultimate-binary-search-template-solved-many-problems)\n",
    "- [Yao's Notes](https://darrenyao.com/usacobook/java.pdf#page=73)\n",
    "- [CPH](https://usaco.guide/CPH.pdf#page=41)\n",
    "\n",
    "### Examples\n",
    "- Cellular Network\n",
    "- Maximum Median\n",
    "- USACO: Counting Haybales (Dec. 2016, Silver)\\\n",
    "\n",
    "### Library Functions For Binary Search\n",
    "- [Arrays.binarySearch](https://docs.oracle.com/javase/7/docs/api/java/util/Arrays.html#binarySearch(int[],%20int))\n",
    "- [Collections.binarySearch](https://docs.oracle.com/javase/7/docs/api/java/util/Collections.html#binarySearch(java.util.List,%20T))\n",
    "\n",
    "### Study Video\n",
    "- https://youtu.be/GU7DpgHINWQ"
   ]
  }
 ],
 "metadata": {
  "kernelspec": {
   "display_name": "Python 3",
   "language": "python",
   "name": "python3"
  },
  "language_info": {
   "codemirror_mode": {
    "name": "ipython",
    "version": 3
   },
   "file_extension": ".py",
   "mimetype": "text/x-python",
   "name": "python",
   "nbconvert_exporter": "python",
   "pygments_lexer": "ipython3",
   "version": "3.9.7"
  }
 },
 "nbformat": 4,
 "nbformat_minor": 4
}
