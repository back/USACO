{
 "cells": [
  {
   "cell_type": "markdown",
   "metadata": {},
   "source": [
    "# Concert Ticket\n",
    "- [CSES: Concert Ticket](https://cses.fi/problemset/task/1091)\n",
    "\n",
    "### Read Inputs"
   ]
  },
  {
   "cell_type": "code",
   "execution_count": null,
   "metadata": {},
   "outputs": [],
   "source": [
    "int n = 5, m = 3;\n",
    "int[] t = {5, 3, 7, 8, 5};\n",
    "int[] c = {4, 8, 3};"
   ]
  },
  {
   "cell_type": "markdown",
   "metadata": {},
   "source": [
    "### Build Multiset"
   ]
  },
  {
   "cell_type": "code",
   "execution_count": null,
   "metadata": {},
   "outputs": [],
   "source": [
    "TreeMap<Integer, Integer> ticketMultiset = new TreeMap<>();\n",
    "\n",
    "for (int priceOfTicket : t)\n",
    "    if (ticketMultiset.containsKey(priceOfTicket))\n",
    "        ticketMultiset.put(priceOfTicket, ticketMultiset.get(priceOfTicket) + 1);\n",
    "    else\n",
    "        ticketMultiset.put(priceOfTicket, 1);"
   ]
  },
  {
   "cell_type": "markdown",
   "metadata": {},
   "source": [
    "### Looking for the Answer\n",
    "\n",
    "- Utilize the **lowerEntry()** method from TreeSet class"
   ]
  },
  {
   "cell_type": "code",
   "execution_count": null,
   "metadata": {},
   "outputs": [],
   "source": [
    "for (int customerMaxPrice : c) {\n",
    "\n",
    "    // Get the optimal ticket for this customer \n",
    "    // Add 1 because lowerEntry returns the highest *lower* entry\n",
    "    Map.Entry<Integer, Integer> val = ticketMultiset.lowerEntry(customerMaxPrice + 1); \n",
    "\n",
    "    if (val == null)\n",
    "        System.out.println(-1);\n",
    "    else {\n",
    "        System.out.println(val.getKey());\n",
    "        if (val.getValue() == 1)\n",
    "            ticketMultiset.remove(val.getKey());\n",
    "        else\n",
    "            ticketMultiset.put(val.getKey(), val.getValue() - 1);\n",
    "    }\n",
    "}"
   ]
  }
 ],
 "metadata": {
  "kernelspec": {
   "display_name": "Java",
   "language": "java",
   "name": "java"
  },
  "language_info": {
   "codemirror_mode": "java",
   "file_extension": ".jshell",
   "mimetype": "text/x-java-source",
   "name": "Java",
   "pygments_lexer": "java",
   "version": "14.0.2+12-46"
  }
 },
 "nbformat": 4,
 "nbformat_minor": 4
}
