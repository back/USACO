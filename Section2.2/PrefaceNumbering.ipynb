{
 "cells": [
  {
   "cell_type": "markdown",
   "metadata": {},
   "source": [
    "# Section 2.2 - Preface Numbering\n",
    "\n",
    "---\n",
    "Roman Number system\n",
    "---"
   ]
  },
  {
   "cell_type": "code",
   "execution_count": 10,
   "metadata": {},
   "outputs": [
    {
     "name": "stdout",
     "output_type": "stream",
     "text": [
      "orl\n"
     ]
    }
   ],
   "source": [
    "s=\"Hello,world!\"\n",
    "\n",
    "print (s[7:10])   # Java: String.substring(7, 10)"
   ]
  },
  {
   "cell_type": "code",
   "execution_count": 2,
   "metadata": {},
   "outputs": [],
   "source": [
    "chunk = [1000,900,500, 400,100, 90, 50,  40,  10,  9,  5,   4,  1]\n",
    "roman = ['M','CM','D','CD','C','XC','L','XL','X','IX','V','IV','I']"
   ]
  },
  {
   "cell_type": "markdown",
   "metadata": {},
   "source": [
    "---\n",
    "Convert a given number Roman format\n",
    "---"
   ]
  },
  {
   "cell_type": "code",
   "execution_count": 6,
   "metadata": {},
   "outputs": [
    {
     "name": "stdout",
     "output_type": "stream",
     "text": [
      "MMMCMLXXVI"
     ]
    }
   ],
   "source": [
    "num = 3976\n",
    "for c,r in zip(chunk, roman):\n",
    "    while num >= c:\n",
    "        num -= c\n",
    "        print(r, end=\"\")    # print(...) ==> Java: System.out.println()    \n",
    "                            # print(..., end=\"\")   => System.out.print()?"
   ]
  },
  {
   "cell_type": "markdown",
   "metadata": {},
   "source": [
    "---\n",
    "Counting occurance of each letter\n",
    "---"
   ]
  },
  {
   "cell_type": "code",
   "execution_count": 13,
   "metadata": {},
   "outputs": [
    {
     "name": "stdout",
     "output_type": "stream",
     "text": [
      "1 \t-> I\n",
      "2 \t-> II\n",
      "3 \t-> III\n",
      "4 \t-> IV\n",
      "5 \t-> V\n",
      "6 \t-> VI\n",
      "7 \t-> VII\n",
      "8 \t-> VIII\n",
      "9 \t-> IX\n",
      "10 \t-> X\n",
      "11 \t-> XI\n",
      "12 \t-> XII\n",
      "13 \t-> XIII\n",
      "14 \t-> XIV\n",
      "15 \t-> XV\n",
      "{'I': 21, 'V': 7, 'X': 7, 'L': 0, 'C': 0, 'D': 0, 'M': 0}\n"
     ]
    }
   ],
   "source": [
    "answer = {'I':0,'V':0,'X':0,'L':0,'C':0,'D':0,'M':0}\n",
    "\n",
    "for i in range(1,16):\n",
    "    num = i\n",
    "    print(i, '\\t-> ', end='')\n",
    "    for c,r in zip(chunk, roman):\n",
    "        while num >= c:\n",
    "            num -= c\n",
    "            print(r, end='')\n",
    "            for key in r:          # Java: String.charAt(0), String.charAt(1)\n",
    "                answer[key] += 1   # answer.put(key, answer.get(key) + 1)\n",
    "    print()\n",
    "    \n",
    "print(answer)"
   ]
  },
  {
   "cell_type": "markdown",
   "metadata": {},
   "source": [
    "---\n",
    "Output the final Answer\n",
    "---\n",
    "- Just filter out the Zero entries"
   ]
  },
  {
   "cell_type": "code",
   "execution_count": 17,
   "metadata": {},
   "outputs": [
    {
     "name": "stdout",
     "output_type": "stream",
     "text": [
      "I 7\n",
      "V 2\n"
     ]
    }
   ],
   "source": [
    "for k in answer:\n",
    "    if answer.get(k):\n",
    "        print(k, answer[k])"
   ]
  }
 ],
 "metadata": {
  "kernelspec": {
   "display_name": "Python 3",
   "language": "python",
   "name": "python3"
  },
  "language_info": {
   "codemirror_mode": {
    "name": "ipython",
    "version": 3
   },
   "file_extension": ".py",
   "mimetype": "text/x-python",
   "name": "python",
   "nbconvert_exporter": "python",
   "pygments_lexer": "ipython3",
   "version": "3.8.3"
  }
 },
 "nbformat": 4,
 "nbformat_minor": 4
}
