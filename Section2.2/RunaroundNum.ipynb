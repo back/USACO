{
 "cells": [
  {
   "cell_type": "markdown",
   "metadata": {},
   "source": [
    "# Section 2.2 - Runaround Numbers\n",
    "---\n",
    "Convert a number a List of each digit\n",
    "---"
   ]
  },
  {
   "cell_type": "code",
   "execution_count": 15,
   "metadata": {},
   "outputs": [
    {
     "name": "stdout",
     "output_type": "stream",
     "text": [
      "[8, 1, 3, 6, 5]\n"
     ]
    }
   ],
   "source": [
    "n = 81365\n",
    "\n",
    "s = list(map(int,list(str(n))))\n",
    "\n",
    "print (s)"
   ]
  },
  {
   "cell_type": "markdown",
   "metadata": {},
   "source": [
    "---\n",
    "Checking if there are 0s or non-unique digits\n",
    "---"
   ]
  },
  {
   "cell_type": "code",
   "execution_count": 16,
   "metadata": {},
   "outputs": [],
   "source": [
    "w = len(s)\n",
    "\n",
    "if 0 in s or w > len(set(s)):\n",
    "    print('Found 0 or repetitive digits')"
   ]
  },
  {
   "cell_type": "markdown",
   "metadata": {},
   "source": [
    "---\n",
    "Loop the List\n",
    "---"
   ]
  },
  {
   "cell_type": "code",
   "execution_count": 17,
   "metadata": {},
   "outputs": [
    {
     "name": "stdout",
     "output_type": "stream",
     "text": [
      "[0, 1, 3, 6, 5] 3\n",
      "[0, 1, 3, 0, 5] 4\n",
      "[0, 1, 3, 0, 0] 4\n",
      "[0, 1, 3, 0, 0]\n"
     ]
    }
   ],
   "source": [
    "i = 0\n",
    "while s[i]:\n",
    "    k = (s[i] + i) % w\n",
    "    s[i] = 0\n",
    "    i = k\n",
    "    print(s, k)\n",
    "    \n",
    "print(s)"
   ]
  }
 ],
 "metadata": {
  "kernelspec": {
   "display_name": "Python 3",
   "language": "python",
   "name": "python3"
  },
  "language_info": {
   "codemirror_mode": {
    "name": "ipython",
    "version": 3
   },
   "file_extension": ".py",
   "mimetype": "text/x-python",
   "name": "python",
   "nbconvert_exporter": "python",
   "pygments_lexer": "ipython3",
   "version": "3.8.3"
  }
 },
 "nbformat": 4,
 "nbformat_minor": 4
}
