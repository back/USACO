{
 "cells": [
  {
   "cell_type": "markdown",
   "metadata": {},
   "source": [
    "# USACO Training Gateway\n",
    "---\n",
    "## Section 1.3\n",
    "|Problem                  |Source|\n",
    "|-------------------------|---------------|\n",
    "|Milking Cows|Section 1.3|\n",
    "|Transformations|Section 1.3|\n",
    "|Name that Number|Section 1.3|\n",
    "|Palindromic Squares|Section 1.3|\n",
    "|Dual Palindromes|Section 1.3|\n",
    "\n",
    "\n",
    "## Real Contest\n",
    "---\n",
    "|Problem                  |Source|\n",
    "|-------------------------|---------------|\n",
    "|[Shell Game](http://www.usaco.org/index.php?page=viewproblem2&cpid=891)|USACO 2019 Jan|\n",
    "|[Mixing Milk](http://www.usaco.org/index.php?page=viewproblem2&cpid=855)|USACO 2018 Dec|\n",
    "\n",
    "\n",
    "## More Contest\n",
    "---\n",
    "|Problem                  |Source|\n",
    "|-------------------------|---------------|\n",
    "|[The Cow Signal](http://www.usaco.org/index.php?page=viewproblem2&cpid=665)|USACO|\n",
    "|[Speeding](http://www.usaco.org/index.php?page=viewproblem2&cpid=568)|USACO|\n",
    "|[The Lost Cow](http://www.usaco.org/index.php?page=viewproblem2&cpid=735)|USACO|\n",
    "|[Bovine Shuffle](http://www.usaco.org/index.php?page=viewproblem2&cpid=760)|USACO|\n",
    "|[Bucket List](http://www.usaco.org/index.php?page=viewproblem2&cpid=856)|USACO|\n",
    "\n",
    "## Harder Contest\n",
    "---\n",
    "|Problem                  |Source|\n",
    "|-------------------------|---------------|\n",
    "|[Measuring Traffic](http://www.usaco.org/index.php?page=viewproblem2&cpid=917)|USACO|\n",
    "|[Circular Barn](http://www.usaco.org/index.php?page=viewproblem2&cpid=616)|USACO|\n",
    "|[Block Game](http://www.usaco.org/index.php?page=viewproblem2&cpid=664)|USACO|\n",
    "|[Tic Tac Toe](http://www.usaco.org/index.php?page=viewproblem2&cpid=831)|USACO|\n",
    "|[Mowing the Field](http://www.usaco.org/index.php?page=viewproblem2&cpid=593)|USACO|\n",
    "|[Sensoring](http://www.usaco.org/index.php?page=viewproblem2&cpid=526)|USACO|\n",
    "|[Milk Measurement](http://www.usaco.org/index.php?page=viewproblem2&cpid=761)|USACO|\n",
    "\n",
    "## Even Harder Contest\n",
    "---\n",
    "|Problem                  |Source|\n",
    "|-------------------------|---------------|\n",
    "|[Stuck in a Rut](http://www.usaco.org/index.php?page=viewproblem2&cpid=1061)|USACO|\n"
   ]
  }
 ],
 "metadata": {
  "kernelspec": {
   "display_name": "Python 3",
   "language": "python",
   "name": "python3"
  },
  "language_info": {
   "codemirror_mode": {
    "name": "ipython",
    "version": 3
   },
   "file_extension": ".py",
   "mimetype": "text/x-python",
   "name": "python",
   "nbconvert_exporter": "python",
   "pygments_lexer": "ipython3",
   "version": "3.8.3"
  }
 },
 "nbformat": 4,
 "nbformat_minor": 4
}
