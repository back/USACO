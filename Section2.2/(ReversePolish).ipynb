{
 "cells": [
  {
   "cell_type": "markdown",
   "metadata": {},
   "source": [
    "# Reverse Polish Notation\n",
    "\n",
    "---\n",
    "https://leetcode.com/problems/evaluate-reverse-polish-notation/\n",
    "\n",
    "Prepare the inputs\n",
    "---\n"
   ]
  },
  {
   "cell_type": "code",
   "execution_count": 9,
   "metadata": {},
   "outputs": [
    {
     "name": "stdout",
     "output_type": "stream",
     "text": [
      "['10', '6', '9', '3', '+', '-11', '*', '/', '*', '17', '+', '5', '+']\n"
     ]
    }
   ],
   "source": [
    "tokens=[\"10\",\"6\",\"9\",\"3\",\"+\",\"-11\",\"*\",\"/\",\"*\",\"17\",\"+\",\"5\",\"+\"]\n",
    "print(tokens)"
   ]
  },
  {
   "cell_type": "markdown",
   "metadata": {},
   "source": [
    "---\n",
    "Calculation with a Stack\n",
    "---"
   ]
  },
  {
   "cell_type": "code",
   "execution_count": 10,
   "metadata": {},
   "outputs": [
    {
     "name": "stdout",
     "output_type": "stream",
     "text": [
      "[10]\n",
      "[10, 6]\n",
      "[10, 6, 9]\n",
      "[10, 6, 9, 3]\n",
      "[10, 6, 12]\n",
      "[10, 6, 12, -11]\n",
      "[10, 6, -132]\n",
      "[10, 0]\n",
      "[0]\n",
      "[0, 17]\n",
      "[17]\n",
      "[17, 5]\n",
      "[22]\n"
     ]
    }
   ],
   "source": [
    "stack = []\n",
    "for t in tokens:\n",
    "    if t == '+':\n",
    "        a = stack.pop()\n",
    "        stack[-1] += a\n",
    "    elif t == '-':\n",
    "        a = stack.pop()\n",
    "        stack[-1] -= a\n",
    "    elif t == '*':\n",
    "        a = stack.pop()\n",
    "        stack[-1] *= a\n",
    "    elif t == '/':\n",
    "        a = stack.pop()\n",
    "        stack[-1] = int(stack[-1]/a)\n",
    "    else:\n",
    "        stack.append(int(t))\n",
    "    print(stack)"
   ]
  }
 ],
 "metadata": {
  "kernelspec": {
   "display_name": "Python 3",
   "language": "python",
   "name": "python3"
  },
  "language_info": {
   "codemirror_mode": {
    "name": "ipython",
    "version": 3
   },
   "file_extension": ".py",
   "mimetype": "text/x-python",
   "name": "python",
   "nbconvert_exporter": "python",
   "pygments_lexer": "ipython3",
   "version": "3.8.3"
  }
 },
 "nbformat": 4,
 "nbformat_minor": 4
}
