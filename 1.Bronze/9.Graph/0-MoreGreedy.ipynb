{
 "cells": [
  {
   "cell_type": "markdown",
   "metadata": {},
   "source": [
    "# Greedy Algorithms (Advanced Topics)\n",
    "\n",
    "### Complicated Greedy Algorithms\n",
    "- Knapsack\n",
    "\n",
    "### Scheduling\n",
    "- 3 Strategies:\n",
    "  - shortest ones\n",
    "  - earliest ones\n",
    "  - ending fast ones\n",
    "- [Movie Festival](https://cses.fi/problemset/task/1629)\n",
    "- [Movie Festival II](https://cses.fi/problemset/task/1632)\n",
    "  \n",
    "### In-Class Exercise\n",
    "- Generate a 11-number array in random integers: 0~99\n",
    "  - Or use: [98, 52, 65, 7, 49, 55, 80, 83, 73, 75, 84]\n",
    "- Find a value **x** that minimizes the sum:\n",
    "  - $|a_1 − x| + |a_2 − x| + ··· + |a_n − x|$\n",
    "  - $(a_1 − x)^2 + (a_2 − x)^2 + ··· + (a_n − x)^2$\n",
    "- Oberve and compare the results with:\n",
    "  - Median of the array\n",
    "  - Mean of the array\n",
    "- Figure out why\n",
    "\n",
    "### A problem in Gold group\n",
    "- [HighCardLowCard](http://www.usaco.org/index.php?page=viewproblem2&cpid=573)"
   ]
  }
 ],
 "metadata": {
  "kernelspec": {
   "display_name": "Python 3",
   "language": "python",
   "name": "python3"
  },
  "language_info": {
   "codemirror_mode": {
    "name": "ipython",
    "version": 3
   },
   "file_extension": ".py",
   "mimetype": "text/x-python",
   "name": "python",
   "nbconvert_exporter": "python",
   "pygments_lexer": "ipython3",
   "version": "3.9.7"
  }
 },
 "nbformat": 4,
 "nbformat_minor": 4
}
