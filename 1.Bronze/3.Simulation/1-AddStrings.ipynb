{
 "cells": [
  {
   "cell_type": "markdown",
   "id": "4f63402c-c8b0-4153-bb36-9b9285f34b07",
   "metadata": {},
   "source": [
    "# Add Strings\n",
    "- https://leetcode.com/problems/add-strings/"
   ]
  },
  {
   "cell_type": "code",
   "execution_count": 3,
   "id": "a53f24e0-aa5b-4ceb-a491-b863b8d03485",
   "metadata": {},
   "outputs": [
    {
     "name": "stdout",
     "output_type": "stream",
     "text": [
      "10000000000000000000000000000\n"
     ]
    }
   ],
   "source": [
    "String num1 = \"9999999999999999999999999999\";\n",
    "String num2 = \"1\";\n",
    "\n",
    "\n",
    "StringBuilder sb = new StringBuilder();\n",
    "\n",
    "int carry = 0;\n",
    "int p1 = num1.length() - 1;\n",
    "int p2 = num2.length() - 1;\n",
    "while (p1 >= 0 || p2 >= 0) {\n",
    "    int x1 = p1 >= 0 ? num1.charAt(p1) - '0' : 0;\n",
    "    int x2 = p2 >= 0 ? num2.charAt(p2) - '0' : 0;\n",
    "    int v = x1 + x2 + carry;\n",
    "    sb.append(v % 10);\n",
    "    carry = v / 10;\n",
    "    p1--;\n",
    "    p2--;    \n",
    "}\n",
    "\n",
    "if (carry != 0) sb.append(carry);\n",
    "        \n",
    "System.out.println( sb.reverse().toString() );"
   ]
  }
 ],
 "metadata": {
  "kernelspec": {
   "display_name": "Java",
   "language": "java",
   "name": "java"
  },
  "language_info": {
   "codemirror_mode": "java",
   "file_extension": ".jshell",
   "mimetype": "text/x-java-source",
   "name": "Java",
   "pygments_lexer": "java",
   "version": "14.0.2+12-46"
  }
 },
 "nbformat": 4,
 "nbformat_minor": 5
}
