{
 "cells": [
  {
   "cell_type": "markdown",
   "id": "a63a5706-08d4-47de-8cbf-51c8a8caf416",
   "metadata": {},
   "source": [
    "# Shell Game\n",
    "\n",
    "### Read Inputs"
   ]
  },
  {
   "cell_type": "code",
   "execution_count": 19,
   "id": "558018f5-16af-4493-b4cc-89594549967a",
   "metadata": {},
   "outputs": [],
   "source": [
    "fin=StringIO('''3\n",
    "1 2 1\n",
    "3 2 1\n",
    "1 3 1\n",
    "''')\n",
    "\n",
    "#with open('shell.in') as fin:\n",
    "#with open('shell.out', 'w') as fout:"
   ]
  },
  {
   "cell_type": "markdown",
   "id": "463a57b9-a986-403a-a608-2a2a201cd5bc",
   "metadata": {},
   "source": [
    "### Prepare the Shell & Answer array"
   ]
  },
  {
   "cell_type": "code",
   "execution_count": 20,
   "id": "7996f4f2-0f90-49e5-8470-173750a8010f",
   "metadata": {},
   "outputs": [],
   "source": [
    "s = [1, 2, 3]\n",
    "r = [0, 0, 0]"
   ]
  },
  {
   "cell_type": "markdown",
   "id": "11647dd1-4292-4a14-8cc5-01da854f871a",
   "metadata": {},
   "source": [
    "### Simulate each steps\n",
    "\n",
    "- Pay attention to the 0 based index!\n",
    "- Who can make it as 1 based index solution?"
   ]
  },
  {
   "cell_type": "code",
   "execution_count": 21,
   "id": "e0617e5f-4c30-46ee-8c32-4a962d7cac15",
   "metadata": {},
   "outputs": [
    {
     "name": "stdout",
     "output_type": "stream",
     "text": [
      "[2, 1, 3] [0, 0, 1]\n",
      "[2, 3, 1] [0, 0, 2]\n",
      "[1, 3, 2] [0, 1, 2]\n",
      "2\n"
     ]
    }
   ],
   "source": [
    "n = int(fin.readline())\n",
    "for _ in range(n):\n",
    "    a, b, g = map(int, fin.readline().split())\n",
    "    a, b, g = a-1, b-1, g-1\n",
    "    s[a], s[b] = s[b], s[a]\n",
    "    r[s[g]] += 1\n",
    "    print(s, r)\n",
    "print(max(r))"
   ]
  }
 ],
 "metadata": {
  "kernelspec": {
   "display_name": "Python 3",
   "language": "python",
   "name": "python3"
  },
  "language_info": {
   "codemirror_mode": {
    "name": "ipython",
    "version": 3
   },
   "file_extension": ".py",
   "mimetype": "text/x-python",
   "name": "python",
   "nbconvert_exporter": "python",
   "pygments_lexer": "ipython3",
   "version": "3.9.7"
  }
 },
 "nbformat": 4,
 "nbformat_minor": 5
}
