{
 "cells": [
  {
   "cell_type": "markdown",
   "id": "10b467b4-24d2-4351-8c87-bc2e6576a667",
   "metadata": {},
   "source": [
    "# Maximum Distance\n",
    "> https://codeforces.com/gym/102951/problem/A\n",
    "### Read Inputs"
   ]
  },
  {
   "cell_type": "code",
   "execution_count": 1,
   "id": "7b43fad7-0e55-4719-b22e-7bc5f609842a",
   "metadata": {},
   "outputs": [
    {
     "name": "stdout",
     "output_type": "stream",
     "text": [
      "[321, -15, -525]\n",
      "[404, 373, 990]\n"
     ]
    }
   ],
   "source": [
    "fin=StringIO('''3\n",
    "321 -15 -525\n",
    "404 373 990\n",
    "''')\n",
    "\n",
    "n = int(fin.readline())\n",
    "x = list(map(int, fin.readline().split()))\n",
    "y = list(map(int, fin.readline().split()))\n",
    "\n",
    "print(x)\n",
    "print(y)"
   ]
  },
  {
   "cell_type": "markdown",
   "id": "b4301516-9ca3-4a21-ab58-648225ae6237",
   "metadata": {},
   "source": [
    "### Brutal Force Full Search"
   ]
  },
  {
   "cell_type": "code",
   "execution_count": 2,
   "id": "faa9abb6-349e-4060-ad28-021adae93f44",
   "metadata": {},
   "outputs": [
    {
     "name": "stdout",
     "output_type": "stream",
     "text": [
      "1059112\n"
     ]
    }
   ],
   "source": [
    "m = 0\n",
    "for i in range(n-1):\n",
    "    for j in range(i+1, n):\n",
    "        dx = x[i]-x[j]\n",
    "        dy = y[i]-y[j]\n",
    "        m = max(m, dx*dx + dy*dy)\n",
    "print(m)"
   ]
  }
 ],
 "metadata": {
  "kernelspec": {
   "display_name": "Python 3",
   "language": "python",
   "name": "python3"
  },
  "language_info": {
   "codemirror_mode": {
    "name": "ipython",
    "version": 3
   },
   "file_extension": ".py",
   "mimetype": "text/x-python",
   "name": "python",
   "nbconvert_exporter": "python",
   "pygments_lexer": "ipython3",
   "version": "3.9.7"
  }
 },
 "nbformat": 4,
 "nbformat_minor": 5
}
