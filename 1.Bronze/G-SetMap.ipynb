{
 "cells": [
  {
   "cell_type": "markdown",
   "metadata": {},
   "source": [
    "# Sets & Maps\n",
    "\n",
    "### Two Sample Problems to Study\n",
    "- [Distinct Numbers](https://cses.fi/problemset/task/1621)\n",
    "- [Associated Array](https://judge.yosupo.jp/problem/associative_array)\n",
    "\n",
    "### More Problems from USACO\n",
    "- [Where Am I?](http://www.usaco.org/index.php?page=viewproblem2&cpid=964)\n",
    "- [Team Tic Tac Toe](http://www.usaco.org/index.php?page=viewproblem2&cpid=831)\n",
    "\n",
    "### Beyong Easy Level\n",
    "- [Year of the Cow](http://www.usaco.org/index.php?page=viewproblem2&cpid=1107)\n",
    "- [Not Last](http://www.usaco.org/index.php?page=viewproblem2&cpid=687)\n",
    "- [Cities & States](http://www.usaco.org/index.php?page=viewproblem2&cpid=667)\n",
    "\n",
    "### Bonus Training\n",
    "- [Sum of Two Values](https://cses.fi/problemset/task/1640)\n",
    "- [Jury Marks](https://codeforces.com/contest/831/problem/C)\n",
    "- [Made Up](https://atcoder.jp/contests/abc202/tasks/abc202_c?lang=en)\n"
   ]
  }
 ],
 "metadata": {
  "kernelspec": {
   "display_name": "Python 3 (ipykernel)",
   "language": "python",
   "name": "python3"
  },
  "language_info": {
   "codemirror_mode": {
    "name": "ipython",
    "version": 3
   },
   "file_extension": ".py",
   "mimetype": "text/x-python",
   "name": "python",
   "nbconvert_exporter": "python",
   "pygments_lexer": "ipython3",
   "version": "3.9.7"
  }
 },
 "nbformat": 4,
 "nbformat_minor": 4
}
