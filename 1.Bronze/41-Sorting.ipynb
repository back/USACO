{
 "cells": [
  {
   "cell_type": "markdown",
   "metadata": {},
   "source": [
    "# Sorting\n",
    "\n",
    "- Bronze problems are designed that you shouldn't need a $\\mathcal{O}(N\\log N)$ time sort\n",
    "- repeatedly extracting the minimum in $\\mathcal{O}(N^2)$ time will always suffice.\n",
    "\n",
    "### Java APIs\n",
    "\n",
    "- [Arrays.sort](https://docs.oracle.com/javase/7/docs/api/java/util/Arrays.html#sort(java.lang.Object[]))\n",
    "- [Collections.sort](https://docs.oracle.com/javase/7/docs/api/java/util/Collections.html#sort(java.util.List))\n",
    "\n",
    "### C/C++ & Python\n",
    "\n",
    "- sort()\n",
    "\n",
    "### Two Sample Problems to Study\n",
    "- [Distinct Numbers](https://cses.fi/problemset/task/1621)\n",
    "- [Kayaking](https://codeforces.com/contest/863/problem/B)\n",
    "\n",
    "### More Problems from USACO\n",
    "- [Why Did the Cow Cross the Road III](http://www.usaco.org/index.php?page=viewproblem2&cpid=713)\n",
    "\n",
    "### Beyong Easy Level\n",
    "- [Angry Cows](http://www.usaco.org/index.php?page=viewproblem2&cpid=592)\n"
   ]
  }
 ],
 "metadata": {
  "kernelspec": {
   "display_name": "Python 3",
   "language": "python",
   "name": "python3"
  },
  "language_info": {
   "codemirror_mode": {
    "name": "ipython",
    "version": 3
   },
   "file_extension": ".py",
   "mimetype": "text/x-python",
   "name": "python",
   "nbconvert_exporter": "python",
   "pygments_lexer": "ipython3",
   "version": "3.8.3"
  }
 },
 "nbformat": 4,
 "nbformat_minor": 4
}
