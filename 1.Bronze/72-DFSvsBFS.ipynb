{
 "cells": [
  {
   "cell_type": "markdown",
   "metadata": {},
   "source": [
    "# DFS vs BFS\n",
    "---\n",
    "![](https://miro.medium.com/max/1094/0*ZIsIX-f-j7kvxJMW.png)\n",
    "\n",
    "---\n",
    "![](https://vivadifferences.com/wp-content/uploads/2019/10/DFS-VS-BFS.png)"
   ]
  }
 ],
 "metadata": {
  "kernelspec": {
   "display_name": "Python 3",
   "language": "python",
   "name": "python3"
  },
  "language_info": {
   "codemirror_mode": {
    "name": "ipython",
    "version": 3
   },
   "file_extension": ".py",
   "mimetype": "text/x-python",
   "name": "python",
   "nbconvert_exporter": "python",
   "pygments_lexer": "ipython3",
   "version": "3.8.3"
  }
 },
 "nbformat": 4,
 "nbformat_minor": 4
}
