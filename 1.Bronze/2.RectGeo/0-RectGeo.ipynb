{
 "cells": [
  {
   "cell_type": "markdown",
   "id": "30cbac6b-e3f7-4d0e-b95a-0f9a1c7ae2d3",
   "metadata": {},
   "source": [
    "# Rectangle Geometry\n",
    "Problems involving rectangles whose sides are parallel to the coordinate axes.\n",
    "\n",
    "### Easy\n",
    "- [Blocked Billboard](http://www.usaco.org/index.php?page=viewproblem2&cpid=759)\n",
    "- [Blocked Billboard II](http://www.usaco.org/index.php?page=viewproblem2&cpid=783)\n",
    "\n",
    "### Normal\n",
    "- [White Sheet](https://codeforces.com/contest/1216/problem/C)\n",
    "- [Two Tables](https://codeforces.com/problemset/problem/1555/B)"
   ]
  }
 ],
 "metadata": {
  "kernelspec": {
   "display_name": "Python 3",
   "language": "python",
   "name": "python3"
  },
  "language_info": {
   "codemirror_mode": {
    "name": "ipython",
    "version": 3
   },
   "file_extension": ".py",
   "mimetype": "text/x-python",
   "name": "python",
   "nbconvert_exporter": "python",
   "pygments_lexer": "ipython3",
   "version": "3.9.7"
  }
 },
 "nbformat": 4,
 "nbformat_minor": 5
}
