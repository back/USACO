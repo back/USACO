{
 "cells": [
  {
   "cell_type": "markdown",
   "metadata": {},
   "source": [
    "# Search with Recursion\n",
    "\n",
    "- Generating Sub-Sets\n",
    "- Permutations\n",
    "- Backtracking\n",
    "\n",
    "### A Sample Problem to Study\n",
    "- [Apple Division](https://cses.fi/problemset/task/1623)\n",
    "  - [A Geek Analysis](https://www.geeksforgeeks.org/partition-a-set-into-two-subsets-such-that-the-difference-of-subset-sums-is-minimum/)\n",
    "\n",
    "### Beyong Easy Level\n",
    "- [Livestock Lineup](http://www.usaco.org/index.php?page=viewproblem2&cpid=965)\n",
    "- [Back and Forth](http://www.usaco.org/index.php?page=viewproblem2&cpid=857)\n",
    "\n",
    "### A Bit Challenging\n",
    "- [Wormholes](http://www.usaco.org/index.php?page=viewproblem2&cpid=360) (Considered Hard in Bronze Level)\n"
   ]
  }
 ],
 "metadata": {
  "kernelspec": {
   "display_name": "Python 3",
   "language": "python",
   "name": "python3"
  },
  "language_info": {
   "codemirror_mode": {
    "name": "ipython",
    "version": 3
   },
   "file_extension": ".py",
   "mimetype": "text/x-python",
   "name": "python",
   "nbconvert_exporter": "python",
   "pygments_lexer": "ipython3",
   "version": "3.8.3"
  }
 },
 "nbformat": 4,
 "nbformat_minor": 4
}
