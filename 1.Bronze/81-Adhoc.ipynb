{
 "cells": [
  {
   "cell_type": "markdown",
   "metadata": {},
   "source": [
    "### Easy\n",
    "- [Sleepy Cow Herding](http://www.usaco.org/index.php?page=viewproblem2&cpid=915)\n",
    "\n",
    "### Normal\n",
    "- [Sleepy Cow Sorting](http://www.usaco.org/index.php?page=viewproblem2&cpid=892)\n",
    "- [Taming the Herd](http://www.usaco.org/index.php?page=viewproblem2&cpid=809)\n",
    "\n",
    "### Hard\n",
    "- [Modern Art](http://www.usaco.org/index.php?page=viewproblem2&cpid=737)\n",
    "- [Hoofball](http://www.usaco.org/index.php?page=viewproblem2&cpid=808)\n",
    "\n"
   ]
  }
 ],
 "metadata": {
  "kernelspec": {
   "display_name": "Python 3",
   "language": "python",
   "name": "python3"
  },
  "language_info": {
   "codemirror_mode": {
    "name": "ipython",
    "version": 3
   },
   "file_extension": ".py",
   "mimetype": "text/x-python",
   "name": "python",
   "nbconvert_exporter": "python",
   "pygments_lexer": "ipython3",
   "version": "3.8.3"
  }
 },
 "nbformat": 4,
 "nbformat_minor": 4
}
