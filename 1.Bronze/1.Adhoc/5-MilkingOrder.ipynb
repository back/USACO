{
 "cells": [
  {
   "cell_type": "markdown",
   "id": "9f83808f-a4a6-4e1c-bb7d-5be059d90e58",
   "metadata": {},
   "source": [
    "# Milking Order\n",
    "> http://www.usaco.org/index.php?page=viewproblem2&cpid=832\n",
    "### Read Inputs"
   ]
  },
  {
   "cell_type": "code",
   "execution_count": 1,
   "id": "f8ef5cbe-9229-4e1d-9ad6-886a0f8bf9aa",
   "metadata": {},
   "outputs": [
    {
     "name": "stdout",
     "output_type": "stream",
     "text": [
      "6 3 2\n",
      "[4, 5, 6]\n",
      "[[5, 3], [3, 1]]\n"
     ]
    }
   ],
   "source": [
    "fin = StringIO('''6 3 2\n",
    "4 5 6\n",
    "5 3\n",
    "3 1\n",
    "''')\n",
    "\n",
    "n, m, k   = map(int, fin.readline().split())\n",
    "hierarchy = list(map(int, fin.readline().split()))\n",
    "fixed     = [list(map(int, fin.readline().split())) for _ in range(k)]\n",
    "\n",
    "print(n, m, k)\n",
    "print(hierarchy)\n",
    "print(fixed)"
   ]
  },
  {
   "cell_type": "code",
   "execution_count": 4,
   "id": "c293c272-9ede-4cba-9b1d-2c98e65dc594",
   "metadata": {},
   "outputs": [
    {
     "name": "stdout",
     "output_type": "stream",
     "text": [
      "[3, 0, 5, 0, 0, 0]\n"
     ]
    }
   ],
   "source": [
    "cows = [0] * n\n",
    "\n",
    "for cow, fix in fixed:\n",
    "    cows[fix-1] = cow    # be careful about the 0 based index!\n",
    "        \n",
    "print(cows)"
   ]
  },
  {
   "cell_type": "markdown",
   "id": "78bb09b0-5f3d-4ab6-b049-f6b3df29c977",
   "metadata": {},
   "source": [
    "### Working on all scenarios\n",
    "In this problem, there are three cases that we have to consider:\n",
    "- Cow 1 is fixed:\n",
    "  - No way to improve it, just output its **fixed** position.\n",
    "- Cow 1 is in the given hierarchy of cows:\n",
    "  - Place every cow in the hierarchy as **early** as possible.\n",
    "- Cow 1 is neither fixed nor in the hierarchy:\n",
    "  - Place every cow in the hierarchy as **late** as possible, such that cow 1 gets the earliest possible position."
   ]
  },
  {
   "cell_type": "code",
   "execution_count": 6,
   "id": "0ee9599d-5290-4d9d-b88f-1f4414cf8d72",
   "metadata": {},
   "outputs": [
    {
     "name": "stdout",
     "output_type": "stream",
     "text": [
      "4\n"
     ]
    }
   ],
   "source": [
    "if 1 in cows:\n",
    "    # Case 1\n",
    "    ans = cows.index(1) + 1\n",
    "    \n",
    "elif 1 in hierarchy:\n",
    "    # Case 2\n",
    "    i = 0\n",
    "    pointer = 0\n",
    "    while pointer <= m - 1:\n",
    "        if hierarchy[pointer] in cows:\n",
    "            i = cows.index(hierarchy[pointer]) + 1\n",
    "            pointer += 1\n",
    "        else:\n",
    "            if cows[i] == 0:\n",
    "                cows[i] = hierarchy[pointer]\n",
    "                i += 1\n",
    "                pointer += 1\n",
    "            else:\n",
    "                i += 1\n",
    "    for i in range(n):\n",
    "        if cows[i] == 1:\n",
    "            ans = i + 1\n",
    "            break\n",
    "\n",
    "else:\n",
    "    # Case 3\n",
    "    i = n - 1\n",
    "    pointer = m - 1\n",
    "    while pointer >= 0:\n",
    "        if hierarchy[pointer] in cows:\n",
    "            i = cows.index(hierarchy[pointer]) - 1\n",
    "            pointer -= 1\n",
    "        else:\n",
    "            if cows[i] == 0:\n",
    "                cows[i] = hierarchy[pointer]\n",
    "                i -= 1\n",
    "                pointer -= 1\n",
    "            else:\n",
    "                i -= 1\n",
    "\n",
    "    for i in range(n):\n",
    "        if cows[i] == 0:\n",
    "            ans = i + 1\n",
    "            break\n",
    "\n",
    "print(ans)"
   ]
  }
 ],
 "metadata": {
  "kernelspec": {
   "display_name": "Python 3",
   "language": "python",
   "name": "python3"
  },
  "language_info": {
   "codemirror_mode": {
    "name": "ipython",
    "version": 3
   },
   "file_extension": ".py",
   "mimetype": "text/x-python",
   "name": "python",
   "nbconvert_exporter": "python",
   "pygments_lexer": "ipython3",
   "version": "3.9.7"
  }
 },
 "nbformat": 4,
 "nbformat_minor": 5
}
