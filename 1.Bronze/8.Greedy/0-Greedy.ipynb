{
 "cells": [
  {
   "cell_type": "markdown",
   "metadata": {},
   "source": [
    "# Greedy Algorithms\n",
    "\n",
    "Greedy does not refer to a single algorithm, but rather a way of thinking; there's no one way to do greedy algorithms. Hence, we use a selection of well-known examples to help you understand the greedy paradigm.\n",
    "\n",
    "> It's not the algorithm solving the puzzle, it's your brainwork doing it. -- Han.\n",
    "\n",
    "\n",
    "### Book Resources\n",
    "- [Yao's Notes](https://darrenyao.com/usacobook/java.pdf#page=41)\n",
    "- [Competitive Pragrammer's Handbook](https://usaco.guide/CPH.pdf#page=67) (**Coin Problem**)\n",
    "- [Principles of Algorithmic Problem Solving](https://usaco.guide/PAPS.pdf#page=153)\n",
    "- [Slide from Intro to Algorithms](https://www.cs.princeton.edu/~wayne/kleinberg-tardos/pdf/04GreedyAlgorithmsI.pdf)\n",
    "\n",
    "\n",
    "### Coin Problem\n",
    "- European Coin System\n",
    "  - {1,2,5,10,20,50,100,200}\n",
    "- Random Coin System\n",
    "  - {1,3,4} **?**\n",
    "\n",
    "\n",
    "### A Sample Problem to Study\n",
    "- [Mad Scientist](http://www.usaco.org/index.php?page=viewproblem2&cpid=1012)\n",
    "\n",
    "### More Problems from USACO\n",
    "- [Cow Tipping](http://www.usaco.org/index.php?page=viewproblem2&cpid=689)\n",
    "- [Even More Odd Photos](http://www.usaco.org/index.php?page=viewproblem2&cpid=1084)\n",
    "\n",
    "### Beyong Easy Level\n",
    "- [Out of Place](http://www.usaco.org/index.php?page=viewproblem2&cpid=785)\n",
    "- [Race](http://www.usaco.org/index.php?page=viewproblem2&cpid=989)\n",
    "\n",
    "### Extra Practice\n",
    "- [3 Sum](https://leetcode.com/problems/3sum/)"
   ]
  },
  {
   "cell_type": "code",
   "execution_count": null,
   "metadata": {},
   "outputs": [],
   "source": [
    "3, 5,  8, 11, 17, 23    --   134"
   ]
  }
 ],
 "metadata": {
  "kernelspec": {
   "display_name": "Python 3",
   "language": "python",
   "name": "python3"
  },
  "language_info": {
   "codemirror_mode": {
    "name": "ipython",
    "version": 3
   },
   "file_extension": ".py",
   "mimetype": "text/x-python",
   "name": "python",
   "nbconvert_exporter": "python",
   "pygments_lexer": "ipython3",
   "version": "3.9.7"
  }
 },
 "nbformat": 4,
 "nbformat_minor": 4
}
