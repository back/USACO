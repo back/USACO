{
 "cells": [
  {
   "cell_type": "markdown",
   "id": "21af84e3-70ef-4ce4-97fb-d5ac4429d8a6",
   "metadata": {},
   "source": [
    "# High Card Low Card\n",
    "> http://www.usaco.org/index.php?page=viewproblem2&cpid=573\n",
    "\n",
    "> Please note this is a **Gold** level problem\n",
    "\n",
    "### Read Inputs"
   ]
  },
  {
   "cell_type": "code",
   "execution_count": 4,
   "id": "5355e68a-0214-44d5-a2fa-12c55c6549d9",
   "metadata": {},
   "outputs": [
    {
     "name": "stdout",
     "output_type": "stream",
     "text": [
      "4 [1, 8, 4, 3]\n"
     ]
    }
   ],
   "source": [
    "fin=StringIO('''4\n",
    "1\n",
    "8\n",
    "4\n",
    "3\n",
    "''')\n",
    "\n",
    "n = int(fin.readline())\n",
    "x = list(map(int, fin.readlines()))\n",
    "\n",
    "print(n, x)"
   ]
  },
  {
   "cell_type": "code",
   "execution_count": 1,
   "id": "3d7b6534-03bc-48d1-9d3d-a3584cb4b5a7",
   "metadata": {},
   "outputs": [],
   "source": [
    "#x=[randint(0, 100) for _ in range(11)]\n",
    "x = [98, 52, 65, 7, 49, 55, 80, 83, 73, 75, 84]"
   ]
  },
  {
   "cell_type": "code",
   "execution_count": 6,
   "id": "b394ebca-3dc6-4af1-a1b7-ab0c33def236",
   "metadata": {},
   "outputs": [
    {
     "name": "stdout",
     "output_type": "stream",
     "text": [
      "3 8\n",
      "[1, 3, 4, 8]\n"
     ]
    }
   ],
   "source": [
    "minT = minS = 0\n",
    "\n",
    "for t in range(min(x), max(x)):\n",
    "    s = sum(abs(t-i) for i in x)\n",
    "    if minS == 0 or minS > s:\n",
    "        minS = s\n",
    "        minT = t\n",
    "        \n",
    "print(minT, minS)\n",
    "print(sorted(x))"
   ]
  }
 ],
 "metadata": {
  "kernelspec": {
   "display_name": "Python 3",
   "language": "python",
   "name": "python3"
  },
  "language_info": {
   "codemirror_mode": {
    "name": "ipython",
    "version": 3
   },
   "file_extension": ".py",
   "mimetype": "text/x-python",
   "name": "python",
   "nbconvert_exporter": "python",
   "pygments_lexer": "ipython3",
   "version": "3.9.7"
  }
 },
 "nbformat": 4,
 "nbformat_minor": 5
}
