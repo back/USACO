{
 "cells": [
  {
   "cell_type": "markdown",
   "id": "31b01df7-cff8-46c6-8149-1cd39794f0dd",
   "metadata": {},
   "source": [
    "### Generating Subsets Recursively\n",
    "\n",
    "> https://usaco.guide/CPH.pdf#page=57\n",
    "\n",
    "The first method would be to write a recursive function which searches over all\n",
    "possibilities.\n",
    "\n",
    "At some index, we either add $\\texttt{weight}_i$ to the first set or the second\n",
    "set, storing two sums $s_1$ and $s_2$ with the sum of values in each set.\n",
    "\n",
    "Then, we return the difference between the two sums once we've reached the end\n",
    "of the array.\n",
    "\n",
    "### Read Inputs"
   ]
  },
  {
   "cell_type": "code",
   "execution_count": 2,
   "id": "66b2299a-19ae-4a0c-bec9-3f57f37c942f",
   "metadata": {},
   "outputs": [
    {
     "name": "stdout",
     "output_type": "stream",
     "text": [
      "5 [3, 2, 7, 4, 1]\n"
     ]
    }
   ],
   "source": [
    "fin = StringIO('''5\n",
    "3 2 7 4 1\n",
    "''')\n",
    "\n",
    "n = int(fin.readline())\n",
    "p = list(map(int, fin.readline().split()))\n",
    "\n",
    "print(n, p)"
   ]
  },
  {
   "cell_type": "markdown",
   "id": "5b3789ef-84f2-4217-b98b-3ddbb801980a",
   "metadata": {},
   "source": [
    "### Recursive Search\n",
    "- Two way recursive calls for complete possibilities when each new apple is added..."
   ]
  },
  {
   "cell_type": "code",
   "execution_count": 8,
   "id": "939251d6-478d-4fe3-90b3-0cdaad269ddd",
   "metadata": {},
   "outputs": [
    {
     "name": "stdout",
     "output_type": "stream",
     "text": [
      "recursive searching:  0 0 0\n",
      "recursive searching:  1 3 0\n",
      "recursive searching:  2 5 0\n",
      "recursive searching:  3 12 0\n",
      "recursive searching:  4 16 0\n",
      "recursive searching:  5 17 0\n",
      "recursive searching:  5 16 1\n",
      "recursive searching:  4 12 4\n",
      "recursive searching:  5 13 4\n",
      "recursive searching:  5 12 5\n",
      "recursive searching:  3 5 7\n",
      "recursive searching:  4 9 7\n",
      "recursive searching:  5 10 7\n",
      "recursive searching:  5 9 8\n",
      "recursive searching:  4 5 11\n",
      "recursive searching:  5 6 11\n",
      "recursive searching:  5 5 12\n",
      "recursive searching:  2 3 2\n",
      "recursive searching:  3 10 2\n",
      "recursive searching:  4 14 2\n",
      "recursive searching:  5 15 2\n",
      "recursive searching:  5 14 3\n",
      "recursive searching:  4 10 6\n",
      "recursive searching:  5 11 6\n",
      "recursive searching:  5 10 7\n",
      "recursive searching:  3 3 9\n",
      "recursive searching:  4 7 9\n",
      "recursive searching:  5 8 9\n",
      "recursive searching:  5 7 10\n",
      "recursive searching:  4 3 13\n",
      "recursive searching:  5 4 13\n",
      "recursive searching:  5 3 14\n",
      "recursive searching:  1 0 3\n",
      "recursive searching:  2 2 3\n",
      "recursive searching:  3 9 3\n",
      "recursive searching:  4 13 3\n",
      "recursive searching:  5 14 3\n",
      "recursive searching:  5 13 4\n",
      "recursive searching:  4 9 7\n",
      "recursive searching:  5 10 7\n",
      "recursive searching:  5 9 8\n",
      "recursive searching:  3 2 10\n",
      "recursive searching:  4 6 10\n",
      "recursive searching:  5 7 10\n",
      "recursive searching:  5 6 11\n",
      "recursive searching:  4 2 14\n",
      "recursive searching:  5 3 14\n",
      "recursive searching:  5 2 15\n",
      "recursive searching:  2 0 5\n",
      "recursive searching:  3 7 5\n",
      "recursive searching:  4 11 5\n",
      "recursive searching:  5 12 5\n",
      "recursive searching:  5 11 6\n",
      "recursive searching:  4 7 9\n",
      "recursive searching:  5 8 9\n",
      "recursive searching:  5 7 10\n",
      "recursive searching:  3 0 12\n",
      "recursive searching:  4 4 12\n",
      "recursive searching:  5 5 12\n",
      "recursive searching:  5 4 13\n",
      "recursive searching:  4 0 16\n",
      "recursive searching:  5 1 16\n",
      "recursive searching:  5 0 17\n",
      "1\n"
     ]
    }
   ],
   "source": [
    "def solve(i, s1, s2):\n",
    "    print('recursive searching: ', i, s1, s2)\n",
    "    if i == n:\n",
    "        return abs(s2 - s1)\n",
    "    return min(solve(i + 1, s1 + p[i], s2        ),\n",
    "               solve(i + 1, s1,        s2 + p[i]))\n",
    "\n",
    "print(solve(0, 0, 0))"
   ]
  }
 ],
 "metadata": {
  "kernelspec": {
   "display_name": "Python 3",
   "language": "python",
   "name": "python3"
  },
  "language_info": {
   "codemirror_mode": {
    "name": "ipython",
    "version": 3
   },
   "file_extension": ".py",
   "mimetype": "text/x-python",
   "name": "python",
   "nbconvert_exporter": "python",
   "pygments_lexer": "ipython3",
   "version": "3.9.7"
  }
 },
 "nbformat": 4,
 "nbformat_minor": 5
}
