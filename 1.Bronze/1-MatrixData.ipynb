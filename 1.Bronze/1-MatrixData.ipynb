{
 "cells": [
  {
   "cell_type": "markdown",
   "metadata": {},
   "source": [
    "# Rectangle Geometry\n",
    "\n",
    "The extent of “geometry” problems on USACO Bronze are usually quite simple and limited to intersections and unions of squares and rectangles. These usually only include twoor three squares or rectangles, in which case you can simply draw out cases on paper, which should logically lead to a solution.\n",
    "\n",
    "Here are some of the functions that the Rectangle class has:\n",
    "- Find whether a certain point or rectangle is contained within another rectangle\n",
    "- Find the intersection or union of two rectangles\n",
    "- Translate, scale, or shrink rectangles\n",
    "\n",
    "### A Sample Problem to Study\n",
    "- [Fence Painting](http://www.usaco.org/index.php?page=viewproblem2&cpid=567) (USACO 2015, December Contest, Bronze 1)\n",
    "\n",
    "### More Problems from USACO\n",
    "- [Square Pasture](http://www.usaco.org/index.php?page=viewproblem2&cpid=663)\n",
    "- [Blocked Billboard](http://usaco.org/index.php?page=viewproblem2&cpid=759)\n",
    "- [Blocked Billboard II](http://www.usaco.org/index.php?page=viewproblem2&cpid=783)\n",
    "\n",
    "### Bonus Training\n",
    "- [Code Forces: White Sheet](https://codeforces.com/contest/1216/problem/C)\n",
    "- [Code Forces: Two Tables](https://codeforces.com/problemset/problem/1555/B)\n"
   ]
  }
 ],
 "metadata": {
  "kernelspec": {
   "display_name": "Python 3",
   "language": "python",
   "name": "python3"
  },
  "language_info": {
   "codemirror_mode": {
    "name": "ipython",
    "version": 3
   },
   "file_extension": ".py",
   "mimetype": "text/x-python",
   "name": "python",
   "nbconvert_exporter": "python",
   "pygments_lexer": "ipython3",
   "version": "3.8.3"
  }
 },
 "nbformat": 4,
 "nbformat_minor": 4
}
