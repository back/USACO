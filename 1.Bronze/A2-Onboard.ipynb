{
 "cells": [
  {
   "cell_type": "markdown",
   "id": "4610f5c4-c01a-42b1-959e-6b291c440f09",
   "metadata": {
    "tags": []
   },
   "source": [
    "# Onboarding to USACO\n",
    "\n",
    "You will have to register 2 online user accounts at USACO website.\n",
    "\n",
    "1. http://usaco.org/\n",
    "   - You should, or highly advised to, use your real name to create a login here.\n",
    "    - This login will be used later this year to take Copper/Silver/Gold tests.\n",
    "    - Your score will be marked by the name you used in registration here.\n",
    "    - However, we will *not* use this login during our training camp.\n",
    "\n",
    "\n",
    "2. https://train.usaco.org/\n",
    "    - Feel free to register by any name.\n",
    "    - Your training progress will be marked here.\n",
    "    - Each solutions submitted will also be evaluated by the virtual machine on this site.\n",
    "    - This one is the main battle field for us."
   ]
  },
  {
   "cell_type": "markdown",
   "id": "a1e9522c-0b93-4ee1-a712-44287ebf3b9c",
   "metadata": {},
   "source": [
    "### First Submision\n",
    "- Login to the USACO Training Gateway.\n",
    "- Start reading Section 1.1, so you can see the contents of next section.\n",
    "- Now in Section 1.2, read the first link:\n",
    "  - TEXT Submitting Solutions\n",
    "\n",
    "Modify your code just created in \"Task 2 - File I/O\", make it:\n",
    "- Read in a file named: **test.in**\n",
    "- Read in two numbers in first line\n",
    "  - They should be separated by a space\n",
    "- Calculate the summary\n",
    "- Write the answer to a file named: **test.out**\n",
    "\n",
    "Using whatever the \"comments\" format in your chosen language, put in a 2-line comment block at the beginning of your code:\n",
    "\n",
    "```\n",
    "TASK: test\n",
    "LANG: JAVA\n",
    "```\n",
    "\n",
    "Replace the last word with PYTHON2, PYTHON3, C, or C++ according to the specific languages you have chosen here.\n",
    "\n",
    "Scroll down to the bottom of the page:\n",
    "- Click the \"Choose File\" button and find your code\n",
    "- Click the \"Send it in!\" button to see if it works\n",
    "\n",
    "![](img/grade-expl.png)\n"
   ]
  },
  {
   "cell_type": "markdown",
   "id": "c744c358-78b8-4908-a6a4-7c971aaf1b06",
   "metadata": {
    "tags": []
   },
   "source": [
    "#### Java\n",
    "```java\n",
    "Scanner sc = new Scanner(new File(\"test.in\"));\n",
    "int x = sc.nextInt();\n",
    "int y = sc.nextInt();\n",
    "\n",
    "FileWriter fw = new FileWriter(\"test.out\");\n",
    "fw.write( (x+y) + \"\\n\" );\n",
    "fw.close();\n",
    "```\n",
    "\n",
    "#### Python\n",
    "```python\n",
    "with open('test.in') as fin, open('test.out', 'w') as fout:\n",
    "    fout.write ('%s\\n' % sum(map(int, fin.readline().split())))\n",
    "```\n",
    "\n",
    "#### C++\n",
    "```cpp\n",
    "ifstream fin (\"test.in\");\n",
    "int a, b;\n",
    "fin >> a >> b;\n",
    "\n",
    "ofstream fout (\"test.out\");\n",
    "fout << a+b << endl;\n",
    "```"
   ]
  },
  {
   "cell_type": "markdown",
   "id": "3c941c79-8eba-4f1c-b5a2-17e273770118",
   "metadata": {
    "tags": []
   },
   "source": [
    "# Running Code Online\n",
    "- [Replit](https://repl.it/)\n",
    "- [Judge0](https://ide.judge0.com)\n",
    "- [IDE1](https://ideone.com)\n",
    "- [CSA Academy](https://csacademy.com/workspace/)\n",
    "- [Goorm](https://ide.goorm.io/)\n",
    "\n",
    "You can also share code with [pastebin](https://pastebin.com) or [hastebin](https://hastebin.com).\n",
    "\n",
    "# Running Code Locally\n",
    "- Java\n",
    "  - JetBrains - [IntelliJ IDEA Community](https://www.jetbrains.com/idea/)\n",
    "  - Eclipse Foundation - [Eclipse](https://www.eclipse.org/eclipseide/)\n",
    "  - King's College London - [BlueJ](https://bluej.org/)\n",
    "- C/C++\n",
    "  - Microsoft - [Visual Studio](https://visualstudio.microsoft.com/zh-hans/free-developer-offers/)"
   ]
  }
 ],
 "metadata": {
  "kernelspec": {
   "display_name": "Python 3",
   "language": "python",
   "name": "python3"
  },
  "language_info": {
   "codemirror_mode": {
    "name": "ipython",
    "version": 3
   },
   "file_extension": ".py",
   "mimetype": "text/x-python",
   "name": "python",
   "nbconvert_exporter": "python",
   "pygments_lexer": "ipython3",
   "version": "3.9.7"
  }
 },
 "nbformat": 4,
 "nbformat_minor": 5
}
