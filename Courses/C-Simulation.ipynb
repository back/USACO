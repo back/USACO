{
 "cells": [
  {
   "cell_type": "markdown",
   "metadata": {},
   "source": [
    "# Procesure Simulation\n",
    "In many problems, we can simply simulate what we’re told to do by the problem statement. Since there’s no formal algorithm involved, the intent of the problem is to assess competence with one’s programming language of choice and knowledge of built-in data structures. At least in USACO Bronze, when a problem statement says to find the end result of some process, or to find when something occurs, it’s usually sufficient to simulate the process\n",
    "\n",
    "### Two Sample Problems to Study\n",
    "- [Shell Game](http://www.usaco.org/index.php?page=viewproblem2&cpid=891)\n",
    "- [Mixing Milk](http://www.usaco.org/index.php?page=viewproblem2&cpid=855)\n",
    "\n",
    "### More Problems from USACO\n",
    "- [Cow Signal](http://www.usaco.org/index.php?page=viewproblem2&cpid=665)\n",
    "- [Speeding](http://www.usaco.org/index.php?page=viewproblem2&cpid=568)\n",
    "- [Lost Cow](http://www.usaco.org/index.php?page=viewproblem2&cpid=735)\n",
    "- [Bovine Shuffle](http://www.usaco.org/index.php?page=viewproblem2&cpid=760)\n",
    "- [Bucket List](http://www.usaco.org/index.php?page=viewproblem2&cpid=856)\n",
    "\n",
    "\n",
    "### Beyong Easy Level\n",
    "- [Measuring Traffic](http://www.usaco.org/index.php?page=viewproblem2&cpid=917)\n",
    "- [Circular Barn](http://www.usaco.org/index.php?page=viewproblem2&cpid=616)\n",
    "- [Block Game](http://www.usaco.org/index.php?page=viewproblem2&cpid=664)\n",
    "- [Team Tic Tac Toe](http://www.usaco.org/index.php?page=viewproblem2&cpid=831)\n",
    "- [Mowing the Field](http://www.usaco.org/index.php?page=viewproblem2&cpid=593)\n",
    "- [Censoring](http://www.usaco.org/index.php?page=viewproblem2&cpid=526)\n",
    "- [Milk Measurement](http://www.usaco.org/index.php?page=viewproblem2&cpid=761)\n",
    "\n",
    "### A Bit Challenging\n",
    "- [Why Did the Cow Cross the Road III](http://www.usaco.org/index.php?page=viewproblem2&cpid=713)\n",
    "- [Stuck in a Rut](http://www.usaco.org/index.php?page=viewproblem2&cpid=1061)\n"
   ]
  }
 ],
 "metadata": {
  "kernelspec": {
   "display_name": "Python 3",
   "language": "python",
   "name": "python3"
  },
  "language_info": {
   "codemirror_mode": {
    "name": "ipython",
    "version": 3
   },
   "file_extension": ".py",
   "mimetype": "text/x-python",
   "name": "python",
   "nbconvert_exporter": "python",
   "pygments_lexer": "ipython3",
   "version": "3.9.7"
  }
 },
 "nbformat": 4,
 "nbformat_minor": 4
}
