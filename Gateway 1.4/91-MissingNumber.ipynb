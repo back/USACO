{
 "cells": [
  {
   "cell_type": "markdown",
   "metadata": {},
   "source": [
    "# Missing Number\n",
    "\n",
    "https://leetcode.com/problems/first-missing-positive/\n",
    "\n",
    "### Sample inputs"
   ]
  },
  {
   "cell_type": "code",
   "execution_count": null,
   "metadata": {},
   "outputs": [],
   "source": [
    "int[] nums = {3,4,-1,1};"
   ]
  },
  {
   "cell_type": "markdown",
   "metadata": {},
   "source": [
    "---\n",
    "### Simplest method but would be slow"
   ]
  },
  {
   "cell_type": "code",
   "execution_count": null,
   "metadata": {},
   "outputs": [],
   "source": [
    "Set<Integer> s = new HashSet<Integer>();\n",
    "for (int i : nums) s.add(i);\n",
    "for(int i=1;i<nums.length+2;i++)\n",
    "    if(!s.contains(i)) {\n",
    "        System.out.println(i); break; // return i;\n",
    "    }"
   ]
  },
  {
   "cell_type": "markdown",
   "metadata": {},
   "source": [
    "---\n",
    "### A better solution"
   ]
  },
  {
   "cell_type": "code",
   "execution_count": null,
   "metadata": {},
   "outputs": [],
   "source": [
    "int n = nums.length;\n",
    "\n",
    "for (int i = 0; i < n; i++) {\n",
    "  while (nums[i] != i + 1) {\n",
    "    if (nums[i] <= 0 || nums[i] >= n)\n",
    "      break;\n",
    "\n",
    "    if (nums[i] == nums[nums[i]-1])\n",
    "        break;\n",
    "\n",
    "    int temp = nums[i];\n",
    "    nums[i] = nums[temp - 1];\n",
    "    nums[temp - 1] = temp;\n",
    "  }\n",
    "}\n",
    "\n",
    "System.out.println(Arrays.toString(nums));\n",
    "\n",
    "for (int i = 0; i < n; i++){\n",
    "  if (nums[i] != i + 1){\n",
    "    System.out.println(i+1); break; // return i + 1;\n",
    "  }\n",
    "}  \n",
    "\n",
    "//System.out.println(n+1); //return n + 1; "
   ]
  }
 ],
 "metadata": {
  "kernelspec": {
   "display_name": "Java",
   "language": "java",
   "name": "java"
  },
  "language_info": {
   "codemirror_mode": "java",
   "file_extension": ".jshell",
   "mimetype": "text/x-java-source",
   "name": "Java",
   "pygments_lexer": "java",
   "version": "14.0.2+12-46"
  }
 },
 "nbformat": 4,
 "nbformat_minor": 4
}
