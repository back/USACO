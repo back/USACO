{
 "cells": [
  {
   "cell_type": "markdown",
   "metadata": {},
   "source": [
    "# Greedy Tryouts\n",
    "\n",
    "Greedy does not refer to a single algorithm, but rather a way of thinking that is applied to problems; there's no one way to do greedy algorithms. Hence, we use a selection of well-known examples to help you understand the greedy paradigm.\n",
    "\n",
    "### A Sample Problem to Study\n",
    "- [Mad Scientist](http://www.usaco.org/index.php?page=viewproblem2&cpid=1012)\n",
    "\n",
    "### More Problems from USACO\n",
    "- [Cow Tipping](http://www.usaco.org/index.php?page=viewproblem2&cpid=689)\n",
    "- [Even More Odd Photos](http://www.usaco.org/index.php?page=viewproblem2&cpid=1084)\n",
    "\n",
    "### Beyong Easy Level\n",
    "- [Out of Place](http://www.usaco.org/index.php?page=viewproblem2&cpid=785)\n",
    "\n",
    "### A Bit Challenging\n",
    "- [Race](http://www.usaco.org/index.php?page=viewproblem2&cpid=989)\n"
   ]
  }
 ],
 "metadata": {
  "kernelspec": {
   "display_name": "Python 3",
   "language": "python",
   "name": "python3"
  },
  "language_info": {
   "codemirror_mode": {
    "name": "ipython",
    "version": 3
   },
   "file_extension": ".py",
   "mimetype": "text/x-python",
   "name": "python",
   "nbconvert_exporter": "python",
   "pygments_lexer": "ipython3",
   "version": "3.9.7"
  }
 },
 "nbformat": 4,
 "nbformat_minor": 4
}
