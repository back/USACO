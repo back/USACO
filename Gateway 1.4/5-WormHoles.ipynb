{
 "cells": [
  {
   "cell_type": "markdown",
   "metadata": {},
   "source": [
    "# Section 1.4 - Wormholes\n",
    "---\n",
    "Read Inputs\n",
    "---"
   ]
  },
  {
   "cell_type": "code",
   "execution_count": 4,
   "metadata": {},
   "outputs": [
    {
     "name": "stdout",
     "output_type": "stream",
     "text": [
      "[(0, 0), (1, 0), (1, 1), (0, 1)]\n"
     ]
    }
   ],
   "source": [
    "fin=StringIO('''4\n",
    "0 0\n",
    "1 0\n",
    "1 1\n",
    "0 1''')\n",
    "\n",
    "n = int(fin.readline().strip())\n",
    "m = [tuple(map(int, line.split())) for line in fin.readlines()]\n",
    "\n",
    "print(m)"
   ]
  },
  {
   "cell_type": "markdown",
   "metadata": {},
   "source": [
    "### Search for all possible pairs"
   ]
  },
  {
   "cell_type": "code",
   "execution_count": 45,
   "metadata": {},
   "outputs": [
    {
     "name": "stdout",
     "output_type": "stream",
     "text": [
      "[(0, 1), (2, 3)]\n",
      "[(0, 2), (1, 3)]\n",
      "[(0, 3), (1, 2)]\n"
     ]
    }
   ],
   "source": [
    "pairs = []\n",
    "\n",
    "def find_pairs(lst):\n",
    "    if len(lst) < 2:\n",
    "        print(pairs)       # found a complete pairing solution\n",
    "    else:\n",
    "        for i in range(1,len(lst)):\n",
    "            a = lst[0]\n",
    "            b = lst[i]\n",
    "            pairs.append( (a,b) )\n",
    "            find_pairs(lst[1:i]+lst[i+1:])   # keep searching the rest of list\n",
    "            pairs.pop()\n",
    "\n",
    "find_pairs(list(range(4)))"
   ]
  },
  {
   "cell_type": "markdown",
   "metadata": {},
   "source": [
    "### Better-prepared pair data"
   ]
  },
  {
   "cell_type": "code",
   "execution_count": 49,
   "metadata": {
    "tags": []
   },
   "outputs": [
    {
     "name": "stdout",
     "output_type": "stream",
     "text": [
      "[1, 0, 3, 2]\n",
      "[2, 3, 0, 1]\n",
      "[3, 2, 1, 0]\n"
     ]
    }
   ],
   "source": [
    "lst = list(range(n))\n",
    "all_pairs = []\n",
    "\n",
    "def better_pairs():\n",
    "    p = [i for i, v in enumerate(lst) if i==v]\n",
    "    if p:\n",
    "        a = p[0]\n",
    "        for b in p[1:]:\n",
    "            lst[a], lst[b] = lst[b], lst[a]\n",
    "            better_pairs()\n",
    "            lst[a], lst[b] = lst[b], lst[a]\n",
    "    else:\n",
    "        print(lst)\n",
    "        all_pairs.append(lst.copy())\n",
    "\n",
    "better_pairs()\n",
    "#print(all_pairs)"
   ]
  },
  {
   "cell_type": "markdown",
   "metadata": {},
   "source": [
    "### Find holes on each portal's direct right"
   ]
  },
  {
   "cell_type": "code",
   "execution_count": 39,
   "metadata": {},
   "outputs": [
    {
     "name": "stdout",
     "output_type": "stream",
     "text": [
      "wh_next: [1, -1, -1, 2]\n"
     ]
    }
   ],
   "source": [
    "wh_next = [-1] * n\n",
    "for i in range(n):\n",
    "    x, y = m[i]\n",
    "    for j in range(n):\n",
    "        a, b = m[j]\n",
    "        if b==y and a>x:\n",
    "            if wh_next[i]<0:\n",
    "                wh_next[i] = j\n",
    "            else:\n",
    "                c, d = m[ wh_next[i] ]\n",
    "                if a<c:\n",
    "                    wh_next[i] = j\n",
    "print('wh_next:', wh_next)"
   ]
  },
  {
   "cell_type": "markdown",
   "metadata": {},
   "source": [
    "### Helper function to check loop"
   ]
  },
  {
   "cell_type": "code",
   "execution_count": 23,
   "metadata": {},
   "outputs": [],
   "source": [
    "def check_loop(i, passed, isWarping):\n",
    "    np = wh_pair[i] if isWarping else wh_next[i]\n",
    "    if np < 0:                                          # it's out of lawn, no loops found.\n",
    "        return False\n",
    "    if passed > n * 2:\n",
    "        return True                                     # looped\n",
    "    return check_loop(np, passed+1, not isWarping)"
   ]
  },
  {
   "cell_type": "markdown",
   "metadata": {},
   "source": [
    "### Combine all data to find the final answer"
   ]
  },
  {
   "cell_type": "code",
   "execution_count": 50,
   "metadata": {},
   "outputs": [
    {
     "name": "stdout",
     "output_type": "stream",
     "text": [
      "checking pair: [1, 0, 3, 2]\t<= loops found!\n",
      "checking pair: [2, 3, 0, 1]\t<= loops found!\n",
      "checking pair: [3, 2, 1, 0]\t\n",
      "\n",
      "Total Looped Combinations:\t2\n"
     ]
    }
   ],
   "source": [
    "count = 0\n",
    "\n",
    "for wh_pair in all_pairs:\n",
    "    print ('checking pair:', wh_pair, end='\\t')\n",
    "    for i in range(n):\n",
    "        if check_loop(i, 0, True) or check_loop(i, 0, False):\n",
    "            print ('<= loops found!')\n",
    "            count +=1\n",
    "            break\n",
    "\n",
    "print ('\\n\\nTotal Looped Combinations:\\t%s' % count)"
   ]
  }
 ],
 "metadata": {
  "kernelspec": {
   "display_name": "Python 3",
   "language": "python",
   "name": "python3"
  },
  "language_info": {
   "codemirror_mode": {
    "name": "ipython",
    "version": 3
   },
   "file_extension": ".py",
   "mimetype": "text/x-python",
   "name": "python",
   "nbconvert_exporter": "python",
   "pygments_lexer": "ipython3",
   "version": "3.9.7"
  }
 },
 "nbformat": 4,
 "nbformat_minor": 4
}
