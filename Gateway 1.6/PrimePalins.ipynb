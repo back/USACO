{
 "cells": [
  {
   "cell_type": "markdown",
   "metadata": {},
   "source": [
    "# Section 1.6 - Prime Palindromes\n",
    "---\n",
    "Read Inputs\n",
    "---"
   ]
  },
  {
   "cell_type": "code",
   "execution_count": 4,
   "metadata": {},
   "outputs": [],
   "source": [
    "a, b = 5, 500"
   ]
  },
  {
   "cell_type": "markdown",
   "metadata": {},
   "source": [
    "---\n",
    "Prepare the Primes\n",
    "---"
   ]
  },
  {
   "cell_type": "code",
   "execution_count": 6,
   "metadata": {},
   "outputs": [
    {
     "name": "stdout",
     "output_type": "stream",
     "text": [
      "[3, 5, 7, 11, 13, 17, 19]\n"
     ]
    }
   ],
   "source": [
    "from math import sqrt\n",
    "\n",
    "ps = [3,5,7]\n",
    "\n",
    "check = 11\n",
    "squre = 25\n",
    "limit = 1\n",
    "\n",
    "factorLimit = int(sqrt(b))\n",
    "while check < factorLimit:\n",
    "    if check == squre:\n",
    "        limit += 1\n",
    "        squre = ps[limit] * ps[limit]\n",
    "    else:\n",
    "        prime = True\n",
    "        for i in ps[:limit]:\n",
    "            if check % i == 0:\n",
    "                prime = False\n",
    "                break\n",
    "        if prime:\n",
    "            ps.append(check)\n",
    "    check += 2\n",
    "\n",
    "print(ps)"
   ]
  },
  {
   "cell_type": "markdown",
   "metadata": {},
   "source": [
    "---\n",
    "Special Handles\n",
    "---"
   ]
  },
  {
   "cell_type": "code",
   "execution_count": 7,
   "metadata": {},
   "outputs": [],
   "source": [
    "pp = set()\n",
    "for check in [2,5]:\n",
    "    if check >= a and check <=b:\n",
    "        pp.add(check)"
   ]
  },
  {
   "cell_type": "markdown",
   "metadata": {},
   "source": [
    "---\n",
    "Main Logic\n",
    "---"
   ]
  },
  {
   "cell_type": "code",
   "execution_count": 11,
   "metadata": {},
   "outputs": [
    {
     "name": "stdout",
     "output_type": "stream",
     "text": [
      "[5, 7, 11, 101, 131, 151, 181, 191, 313, 353, 373, 383]\n"
     ]
    }
   ],
   "source": [
    "for i in range(len(str(a)), len(str(b))+1):\n",
    "    for half in range( 10 ** ((i-1)//2), 10 ** ((i+1)//2) ):\n",
    "        if str(half)[0] in '24568':\n",
    "            continue\n",
    "        anotherhalf = str(half)[::-1]\n",
    "        check = int(str(half) + (anotherhalf[1:] if i%2 else anotherhalf))\n",
    "        if check >= a and check <=b:\n",
    "            if check in ps:\n",
    "                pp.add(check)\n",
    "            else:\n",
    "                prime = True\n",
    "                for i in ps:\n",
    "                    if check % i == 0:\n",
    "                        prime = False\n",
    "                        break\n",
    "                if prime:\n",
    "                    pp.add(check)\n",
    "                    \n",
    "print(sorted(pp))"
   ]
  }
 ],
 "metadata": {
  "kernelspec": {
   "display_name": "Python 3",
   "language": "python",
   "name": "python3"
  },
  "language_info": {
   "codemirror_mode": {
    "name": "ipython",
    "version": 3
   },
   "file_extension": ".py",
   "mimetype": "text/x-python",
   "name": "python",
   "nbconvert_exporter": "python",
   "pygments_lexer": "ipython3",
   "version": "3.8.3"
  }
 },
 "nbformat": 4,
 "nbformat_minor": 4
}
