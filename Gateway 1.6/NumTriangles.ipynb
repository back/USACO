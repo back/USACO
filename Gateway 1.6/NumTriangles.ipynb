{
 "cells": [
  {
   "cell_type": "markdown",
   "metadata": {},
   "source": [
    "# Section 1.6 - Number Triangles\n",
    "\n",
    "---\n",
    "Read Inputs\n",
    "---"
   ]
  },
  {
   "cell_type": "code",
   "execution_count": 6,
   "metadata": {},
   "outputs": [
    {
     "name": "stdout",
     "output_type": "stream",
     "text": [
      "[[7], [3, 8], [8, 1, 0], [2, 7, 4, 4], [4, 5, 2, 6, 5]]\n"
     ]
    }
   ],
   "source": [
    "fin=StringIO('''5\n",
    "7\n",
    "3 8\n",
    "8 1 0\n",
    "2 7 4 4\n",
    "4 5 2 6 5\n",
    "''')\n",
    "\n",
    "n = int(fin.readline().strip())\n",
    "tree = [list(map(int, l.split())) for l in fin.readlines()]\n",
    "\n",
    "print(tree)"
   ]
  },
  {
   "cell_type": "markdown",
   "metadata": {},
   "source": [
    "---\n",
    "Calculate Each Route Value\n",
    "---"
   ]
  },
  {
   "cell_type": "code",
   "execution_count": 7,
   "metadata": {},
   "outputs": [
    {
     "name": "stdout",
     "output_type": "stream",
     "text": [
      "[30]\n",
      "[23, 21]\n",
      "[20, 13, 10]\n",
      "[7, 12, 10, 10]\n",
      "[4, 5, 2, 6, 5]\n"
     ]
    }
   ],
   "source": [
    "for row in range(len(tree)-1, 0, -1):      # for(int row=tree.length-1; row>0; row--) {...}\n",
    "    p = tree[row-1]\n",
    "    r = tree[row]\n",
    "    for col in range(len(p)):\n",
    "        p[col] += max(r[col], r[col+1])\n",
    "        \n",
    "for row in tree:\n",
    "    print(row)"
   ]
  }
 ],
 "metadata": {
  "kernelspec": {
   "display_name": "Python 3",
   "language": "python",
   "name": "python3"
  },
  "language_info": {
   "codemirror_mode": {
    "name": "ipython",
    "version": 3
   },
   "file_extension": ".py",
   "mimetype": "text/x-python",
   "name": "python",
   "nbconvert_exporter": "python",
   "pygments_lexer": "ipython3",
   "version": "3.8.3"
  }
 },
 "nbformat": 4,
 "nbformat_minor": 4
}
