{
 "cells": [
  {
   "cell_type": "markdown",
   "metadata": {},
   "source": [
    "# Section 1.6 - Prime Palindromes\n",
    "### Read Inputs"
   ]
  },
  {
   "cell_type": "code",
   "execution_count": 84,
   "metadata": {},
   "outputs": [],
   "source": [
    "a, b = 5, 500000"
   ]
  },
  {
   "cell_type": "markdown",
   "metadata": {},
   "source": [
    "### Prepare the Primes\n",
    "- Please note we excluded 2 here (digits handling in later part)\n",
    "- Also, let's check on each number by only using the minimal necessary prime factors\n",
    "  - For example: with [3,5,7], these factors can filter out prime numbers in range: 9 ~ 49"
   ]
  },
  {
   "cell_type": "code",
   "execution_count": 85,
   "metadata": {},
   "outputs": [
    {
     "name": "stdout",
     "output_type": "stream",
     "text": [
      "41537\n",
      "0.9845774173736572\n"
     ]
    }
   ],
   "source": [
    "start = time()\n",
    "\n",
    "ps = [3,5,7]\n",
    "\n",
    "checkNumber = 9\n",
    "factorRange = 2  # <-- this is the index of 7\n",
    "squareRange = 49\n",
    "\n",
    "while checkNumber <= b:\n",
    "    if checkNumber < squareRange:\n",
    "        prime = True\n",
    "        for i in ps[:factorRange]:\n",
    "            if checkNumber % i == 0:\n",
    "                prime = False\n",
    "                break\n",
    "        if prime:\n",
    "            ps.append(checkNumber)\n",
    "    else:\n",
    "        factorRange += 1\n",
    "        squareRange = ps[factorRange] * ps[factorRange]\n",
    "    # only checking odd numbers:\n",
    "    checkNumber += 2\n",
    "\n",
    "print(len(ps))\n",
    "\n",
    "print(time() - start)"
   ]
  },
  {
   "cell_type": "markdown",
   "metadata": {},
   "source": [
    "### Alternate Method\n",
    "> https://en.wikipedia.org/wiki/Sieve_of_Eratosthenes"
   ]
  },
  {
   "cell_type": "code",
   "execution_count": 86,
   "metadata": {},
   "outputs": [
    {
     "name": "stdout",
     "output_type": "stream",
     "text": [
      "41537\n",
      "0.19346046447753906\n"
     ]
    }
   ],
   "source": [
    "start = time()\n",
    "\n",
    "p = [0] * (b+1)\n",
    "\n",
    "for i in range(3, int(b**0.5)+1, 2):\n",
    "    if p[i] == 0:\n",
    "        for j in range(i+i, b+1, i):\n",
    "            p[j] = 1;\n",
    "ps = [index for index,value in enumerate(p) if value == 0 and index > 1 and index%2 > 0]\n",
    "\n",
    "print(len(ps))\n",
    "print(time() - start)"
   ]
  },
  {
   "cell_type": "markdown",
   "metadata": {},
   "source": [
    "---\n",
    "Special Handles\n",
    "---"
   ]
  },
  {
   "cell_type": "code",
   "execution_count": null,
   "metadata": {},
   "outputs": [],
   "source": [
    "pp = set()\n",
    "for check in [2,5]:\n",
    "    if check >= a and check <=b:\n",
    "        pp.add(check)\n",
    "        \n",
    "print(pp)"
   ]
  },
  {
   "cell_type": "markdown",
   "metadata": {},
   "source": [
    "### Main Logic\n",
    "- How could we minimize the numbers to check?\n",
    "  - Instead of checking all the numbers in range, let's **build** those palindromes\n",
    "  \n",
    "  \n",
    "find all numbers in range start with 1,3,7,9\n",
    "if current range is 5,6 digits, then we find all 3 digit numbers.\n",
    "\n",
    "101    10101, 101101\n",
    "102    10201, 102201\n",
    "103\n",
    "...\n",
    "997\n",
    "998\n",
    "999\n",
    "\n",
    "\n",
    "7,8 == > 4 digits\n",
    "\n",
    "\n",
    "\n",
    "\n",
    "  "
   ]
  },
  {
   "cell_type": "code",
   "execution_count": 87,
   "metadata": {},
   "outputs": [
    {
     "name": "stdout",
     "output_type": "stream",
     "text": [
      "Looking for palindromes in total 1 digits: 1 -> 9\n",
      "Looking for palindromes in total 2 digits: 1 -> 9\n",
      "Looking for palindromes in total 3 digits: 10 -> 99\n",
      "Looking for palindromes in total 4 digits: 10 -> 99\n",
      "Looking for palindromes in total 5 digits: 100 -> 999\n",
      "Looking for palindromes in total 6 digits: 100 -> 999\n",
      "[5, 7, 11, 101, 131, 151, 181, 191, 313, 353, 373, 383]\n"
     ]
    }
   ],
   "source": [
    "for i in range(len(str(a)), len(str(b))+1):\n",
    "    lowerRange = 10 ** ((i-1)//2)\n",
    "    upperRange = 10 ** ((i+1)//2)\n",
    "    print('Looking for palindromes in total %s digits: %s -> %s' % (i, lowerRange, upperRange-1))\n",
    "    for half in range(lowerRange, upperRange):\n",
    "        if str(half)[0] in '24568':\n",
    "            continue\n",
    "        anotherhalf = str(half)[::-1]\n",
    "        check = int(str(half) + (anotherhalf[1:] if i%2 else anotherhalf))    # 1234 -> 12344321; 1234 -> 1234321\n",
    "        if a <= check and check <= b:\n",
    "            prime = True\n",
    "            for i in ps:\n",
    "                if check % i == 0:\n",
    "                    prime = False\n",
    "                    break\n",
    "            if prime:\n",
    "                pp.add(check)\n",
    "\n",
    "print(sorted(pp))"
   ]
  }
 ],
 "metadata": {
  "kernelspec": {
   "display_name": "Python 3",
   "language": "python",
   "name": "python3"
  },
  "language_info": {
   "codemirror_mode": {
    "name": "ipython",
    "version": 3
   },
   "file_extension": ".py",
   "mimetype": "text/x-python",
   "name": "python",
   "nbconvert_exporter": "python",
   "pygments_lexer": "ipython3",
   "version": "3.9.7"
  }
 },
 "nbformat": 4,
 "nbformat_minor": 4
}
