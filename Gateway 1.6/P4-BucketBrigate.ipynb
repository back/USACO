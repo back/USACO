{
 "cells": [
  {
   "cell_type": "markdown",
   "id": "c33da9da-4d56-413d-834a-ce6db2730301",
   "metadata": {},
   "source": [
    "# Bucket Brigate\n",
    "> http://www.usaco.org/index.php?page=viewproblem2&cpid=939\n",
    "\n",
    "### Read Inputs"
   ]
  },
  {
   "cell_type": "code",
   "execution_count": 1,
   "id": "a7e18d7b-b688-49ca-96fa-2f8ada518025",
   "metadata": {},
   "outputs": [],
   "source": [
    "import sys\n",
    "sys.stdin = StringIO('''..........\n",
    "..........\n",
    "..........\n",
    "..B.......\n",
    "..........\n",
    ".....R....\n",
    "..........\n",
    "..........\n",
    ".....L....\n",
    "..........\n",
    "''')\n",
    "\n",
    "for i in range(10):\n",
    "    row = sys.stdin.readline()\n",
    "    for j in range(10):\n",
    "        if row[j] == \"B\":\n",
    "            barn_i = i\n",
    "            barn_j = j\n",
    "        if row[j] == \"R\":\n",
    "            rock_i = i\n",
    "            rock_j = j\n",
    "        if row[j] == \"L\":\n",
    "            lake_i = i\n",
    "            lake_j = j"
   ]
  },
  {
   "cell_type": "markdown",
   "id": "4990af42-1447-4f2b-ace9-031e3c817e73",
   "metadata": {},
   "source": [
    "### Calculate Answer"
   ]
  },
  {
   "cell_type": "code",
   "execution_count": 3,
   "id": "c5883fc2-61f1-4a0b-91f2-baca227c516d",
   "metadata": {},
   "outputs": [
    {
     "name": "stdout",
     "output_type": "stream",
     "text": [
      "7\n"
     ]
    }
   ],
   "source": [
    "# distance without accounting for the rock\n",
    "cows = abs(barn_i - lake_i) + abs(barn_j - lake_j) - 1\n",
    "\n",
    "# if the barn, lake and rock are in the same row\n",
    "# and the rock is betwen the barn and the lake\n",
    "if (barn_i == rock_i == lake_i and\n",
    "        (lake_j < rock_j < barn_j or barn_j < rock_j < lake_j)):\n",
    "    cows += 2\n",
    "    \n",
    "# if the barn, lake and rock are in the same column\n",
    "# and the rock is between the barn and the lake\n",
    "elif (barn_j == rock_j == lake_j and\n",
    "        (lake_i < rock_i < barn_i or barn_i < rock_i < lake_i)):\n",
    "    cows += 2\n",
    "\n",
    "print(cows)"
   ]
  }
 ],
 "metadata": {
  "kernelspec": {
   "display_name": "Python 3",
   "language": "python",
   "name": "python3"
  },
  "language_info": {
   "codemirror_mode": {
    "name": "ipython",
    "version": 3
   },
   "file_extension": ".py",
   "mimetype": "text/x-python",
   "name": "python",
   "nbconvert_exporter": "python",
   "pygments_lexer": "ipython3",
   "version": "3.9.7"
  }
 },
 "nbformat": 4,
 "nbformat_minor": 5
}
