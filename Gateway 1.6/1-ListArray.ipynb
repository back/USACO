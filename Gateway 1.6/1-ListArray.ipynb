{
 "cells": [
  {
   "cell_type": "markdown",
   "id": "a4fe019f-5dc4-46fc-b419-7a58dc7cca65",
   "metadata": {
    "tags": []
   },
   "source": [
    "# List & Array\n",
    "\n",
    "### Basic Operation\n",
    "- Initialization\n",
    "- Insertion\n",
    "- Deletion\n",
    "- Iteration\n",
    "\n",
    "### List Comprehension (Python)\n",
    "- [Python4Beginners](https://www.pythonforbeginners.com/basics/list-comprehensions-in-python)\n",
    "- [GeeksforGeeds](https://www.geeksforgeeks.org/nested-list-comprehensions-in-python/)\n",
    "\n",
    "### Pair & Tuples\n",
    "- [TutorialsPoint](https://www.tutorialspoint.com/python/python_tuples.htm) (Python)\n",
    "- [Pair Class](https://cplusplus.com/reference/utility/pair/) (C++)\n",
    "\n",
    "\n",
    "### Memory Allocation\n",
    "\n",
    "One thing to keep in mind when using arrays is the memory limit. Usually the\n",
    "USACO memory limit is **256 MB**. To estimate how many values can be stored within\n",
    "this limit:\n",
    "\n",
    "1. Calculate the total memory size in bytes: 256 MB == $256\\cdot 10^6$ Bytes\n",
    "2. Divide by the size, in bytes, of an int (4), or a long long (8), etc. For example, the number of ints that you are able to store is bounded above by\n",
    "$\\frac{256\\cdot 10^6}{4}=64\\cdot 10^6$\n",
    "3. Be aware that\n",
    "program overhead\n",
    "(which can be very significant, especially with recursive functions) will\n",
    "reduce the amount of memory available"
   ]
  }
 ],
 "metadata": {
  "kernelspec": {
   "display_name": "Python 3",
   "language": "python",
   "name": "python3"
  },
  "language_info": {
   "codemirror_mode": {
    "name": "ipython",
    "version": 3
   },
   "file_extension": ".py",
   "mimetype": "text/x-python",
   "name": "python",
   "nbconvert_exporter": "python",
   "pygments_lexer": "ipython3",
   "version": "3.9.7"
  }
 },
 "nbformat": 4,
 "nbformat_minor": 5
}
