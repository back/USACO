{
 "cells": [
  {
   "cell_type": "markdown",
   "metadata": {},
   "source": [
    "# Section 1.6 - Superprime Rib\n",
    "---\n",
    "Read Inputs\n",
    "---"
   ]
  },
  {
   "cell_type": "code",
   "execution_count": null,
   "metadata": {},
   "outputs": [],
   "source": [
    "n=4"
   ]
  },
  {
   "cell_type": "markdown",
   "metadata": {},
   "source": [
    "---\n",
    "Prepare the Primes\n",
    "---"
   ]
  },
  {
   "cell_type": "code",
   "execution_count": null,
   "metadata": {},
   "outputs": [],
   "source": [
    "from math import sqrt\n",
    "limit = int(sqrt(int('9' * n)))\n",
    "\n",
    "p = [3,5,7]\n",
    "check = 11\n",
    "while check < limit:\n",
    "    fac_limit = int(sqrt(check))\n",
    "    for i in p:\n",
    "        if check % i == 0:\n",
    "            break\n",
    "        elif i > fac_limit:\n",
    "            p.append(check)\n",
    "            break\n",
    "    check += 2\n",
    "\n",
    "print(p)"
   ]
  },
  {
   "cell_type": "markdown",
   "metadata": {},
   "source": [
    "---\n",
    "Final Answer\n",
    "---\n",
    "- A typical \"Working Queue\" solution here"
   ]
  },
  {
   "cell_type": "code",
   "execution_count": null,
   "metadata": {},
   "outputs": [],
   "source": [
    "answer = [2,3,5,7]\n",
    "while n>1:\n",
    "    new_answer = []\n",
    "    for i in answer:\n",
    "        for j in [1,3,7,9]:\n",
    "            a = i*10+j\n",
    "            limit = int(sqrt(a))\n",
    "            for factor in p:\n",
    "                if a%factor == 0:\n",
    "                    break\n",
    "                elif factor > limit:\n",
    "                    new_answer.append(a)\n",
    "                    break\n",
    "    n -= 1\n",
    "    answer = new_answer\n",
    "    print(answer)"
   ]
  }
 ],
 "metadata": {
  "kernelspec": {
   "display_name": "Python 3",
   "language": "python",
   "name": "python3"
  },
  "language_info": {
   "codemirror_mode": {
    "name": "ipython",
    "version": 3
   },
   "file_extension": ".py",
   "mimetype": "text/x-python",
   "name": "python",
   "nbconvert_exporter": "python",
   "pygments_lexer": "ipython3",
   "version": "3.8.3"
  }
 },
 "nbformat": 4,
 "nbformat_minor": 4
}
