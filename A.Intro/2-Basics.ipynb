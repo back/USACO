{
 "cells": [
  {
   "cell_type": "markdown",
   "id": "044c2fbc-3e52-44c4-ba31-a430e7ca085e",
   "metadata": {},
   "source": [
    "# Open Contest Result [2020](http://usaco.org/index.php?page=open20results) [2021](http://usaco.org/index.php?page=open21results) [2022](http://usaco.org/index.php?page=open22results) [2023](http://usaco.org/index.php?page=open23results)\n",
    "- Learned at least one programming language\n",
    " - C\n",
    " - C++\n",
    " - Java\n",
    " - Python 2\n",
    " - Python 3\n",
    " - ~~PASCAL~~"
   ]
  },
  {
   "cell_type": "code",
   "execution_count": null,
   "id": "a1ae7246-fea2-4e69-9dc3-d0d8f2662cb4",
   "metadata": {
    "jupyter": {
     "source_hidden": true
    },
    "tags": []
   },
   "outputs": [],
   "source": [
    "import matplotlib.pyplot as plt\n",
    "\n",
    "year= [2020, 2021, 2022, 2023]\n",
    "tot = [4169, 3889, 4529, 4913]\n",
    "usa = [2575, 2386, 2686, 2751]\n",
    "chn = [ 729,  722, 1041, 1341]\n",
    "\n",
    "plt.bar(year, tot, label='total')\n",
    "plt.bar(year, usa, label='usa')\n",
    "plt.bar(year, chn, label='chn')\n",
    "plt.title(\"Number of Students/Participants\") \n",
    "plt.legend()\n",
    "plt.show()"
   ]
  },
  {
   "cell_type": "markdown",
   "id": "3b321caa-bcbf-4ff9-a8e3-d67b342a22a9",
   "metadata": {},
   "source": [
    " \n",
    "# The minimal set of coding knowledge\n",
    "- Variables\n",
    "- Primitive data types\n",
    "- Logical operators\n",
    "- Arrays\n",
    " - Multidimensional Arrays\n",
    "- If else\n",
    "- Loops\n",
    "- Functions\n",
    " - Recursion (a function calling itself)\n",
    "- Reading Input\n",
    "- Writing Output\n",
    "\n",
    "##### In particular, contestants using Java should be familiar with roughly the <u>first half and ending part</u> of [AP Computer Science A](https://www.mooreschools.com/cms/lib/OK01000367/Centricity/Domain/1996/book.pdf), excluding the Class Oriented sections\n",
    "\n",
    "##### Special notes for Java programmer:\n",
    "> USACO does NOT expect any \"package\" line on top of your main class. So you have to drop it before submitting.\n",
    "\n",
    "# Data Types\n",
    "\n",
    "### int\n",
    "- The 32-bit integer supports values between **−2 147 483 648** and **2 147 483 647**, roughly equal to ± $2×10^9$\n",
    "- The 64-bit long type supports values between **-9,223,372,036,854,775,808** to **9,223,372,036,854,775,807**, roughly as ± $9×10^{18}$\n",
    "\n",
    "### decimal (float/double)\n",
    "It is important to know that floating point numbers are **not** exact, because the binary architecture of computers can only store decimals to a certain precision. Hence, we should always expect that floating point numbers are slightly off. Contest problems will mark as correct any output that is within a certain range of the judge’s answer."
   ]
  },
  {
   "cell_type": "code",
   "execution_count": null,
   "id": "a1dcdf6b-0e03-4ef2-abc7-d57098d5ee5d",
   "metadata": {},
   "outputs": [],
   "source": [
    "a = 0.1\n",
    "b = 0.2\n",
    "c = 0.3\n",
    "print( a + b == c )"
   ]
  },
  {
   "cell_type": "code",
   "execution_count": null,
   "id": "63b8edc0-db54-489d-b4f9-26be8a7522ae",
   "metadata": {},
   "outputs": [],
   "source": [
    "print( a + b )"
   ]
  },
  {
   "cell_type": "code",
   "execution_count": null,
   "id": "b0724933-cb4f-4b96-8603-97d53432e5a0",
   "metadata": {},
   "outputs": [],
   "source": [
    "print ( abs( a+b - c ) < 0.00000000001 )"
   ]
  },
  {
   "cell_type": "markdown",
   "id": "047cafde-693f-462e-a535-fc9af6ce5f85",
   "metadata": {
    "tags": []
   },
   "source": [
    "### boolean\n",
    "In Java, it's a strict type of data. In C/C++/Python, there are rules for other type values when they used as a \"boolean\".\n",
    "\n",
    "### char\n",
    "Remember they can be calculated by +, -, *, /; Please refer to the ASCII table below for specific values\n",
    "\n",
    "![](../img/ascii-table.jpg)\n",
    "\n",
    "### String\n",
    "Strings are effectively arrays of characters. Most time you need this to access the character at a certain index and take substrings of the string."
   ]
  }
 ],
 "metadata": {
  "kernelspec": {
   "display_name": "Python 3",
   "language": "python",
   "name": "python3"
  },
  "language_info": {
   "codemirror_mode": {
    "name": "ipython",
    "version": 3
   },
   "file_extension": ".py",
   "mimetype": "text/x-python",
   "name": "python",
   "nbconvert_exporter": "python",
   "pygments_lexer": "ipython3",
   "version": "3.9.7"
  }
 },
 "nbformat": 4,
 "nbformat_minor": 5
}
