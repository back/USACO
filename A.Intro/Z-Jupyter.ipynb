{
 "cells": [
  {
   "cell_type": "markdown",
   "id": "2c35d804",
   "metadata": {},
   "source": [
    "### How to find the IPython startup directory"
   ]
  },
  {
   "cell_type": "code",
   "execution_count": 17,
   "id": "562b6c69",
   "metadata": {},
   "outputs": [
    {
     "name": "stdout",
     "output_type": "stream",
     "text": [
      "C:\\Users\\Dad\\.ipython\\profile_default\\startup\n"
     ]
    }
   ],
   "source": [
    "cfgDir = get_ipython().profile_dir.startup_dir\n",
    "print (cfgDir)"
   ]
  },
  {
   "cell_type": "code",
   "execution_count": 18,
   "id": "f453d099-a131-4fae-96a7-3c60ee647b94",
   "metadata": {},
   "outputs": [
    {
     "data": {
      "text/plain": [
       "['5-imports.py', 'README']"
      ]
     },
     "execution_count": 18,
     "metadata": {},
     "output_type": "execute_result"
    }
   ],
   "source": [
    "from os import listdir, path\n",
    "listdir(cfgDir)"
   ]
  },
  {
   "cell_type": "code",
   "execution_count": 20,
   "id": "5693094a-2fa5-4c8a-9632-c4cdf1a96391",
   "metadata": {},
   "outputs": [
    {
     "name": "stdout",
     "output_type": "stream",
     "text": [
      "from time import time\n",
      "from random import randint\n",
      "from io import StringIO\n",
      "from pprint import pprint as pp\n",
      "\n"
     ]
    }
   ],
   "source": [
    "for fn in listdir(cfgDir):\n",
    "    if fn.endswith('.py'):\n",
    "        with open(path.join(cfgDir, fn),'r') as f:\n",
    "            print(f.read())"
   ]
  }
 ],
 "metadata": {
  "kernelspec": {
   "display_name": "Python 3",
   "language": "python",
   "name": "python3"
  },
  "language_info": {
   "codemirror_mode": {
    "name": "ipython",
    "version": 3
   },
   "file_extension": ".py",
   "mimetype": "text/x-python",
   "name": "python",
   "nbconvert_exporter": "python",
   "pygments_lexer": "ipython3",
   "version": "3.9.7"
  }
 },
 "nbformat": 4,
 "nbformat_minor": 5
}
