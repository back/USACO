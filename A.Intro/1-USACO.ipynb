{
 "cells": [
  {
   "cell_type": "markdown",
   "id": "fcc5aed2-a7b0-4417-8c26-f5761751e4b4",
   "metadata": {
    "tags": []
   },
   "source": [
    "![](http://usaco.org/current/images/usaco_logo.png)\n",
    "- [USACO](http://usaco.org)\n",
    "  - [Contests](http://usaco.org/index.php?page=contests)\n",
    "    - On-Line Contests\n",
    "    - The Road to the IOI Team\n",
    "  - [Resources](http://usaco.org/index.php?page=resources)\n",
    "    - Books about **Competitive Programming**\n",
    "  - [Training](https://train.usaco.org/)\n",
    "    - A Six-Chapter complete training path towards international level competing\n",
    "\n",
    ">Note: pay attention to the next challenge **schedule** on the front page!\n",
    "\n",
    "# International Olympiad in Informatics\n",
    "- [IOI](https://ioinformatics.org/)\n",
    "- [Wiki](https://en.wikipedia.org/wiki/International_Olympiad_in_Informatics)\n",
    "\n",
    "# International Collegiate Programming Contest\n",
    "- [ICPC](https://icpc.global/)\n",
    "\n",
    "# A Sample Video from USACO team member\n",
    "- [What is Competitive Programming?](https://youtu.be/ueNT-w7Oluw)"
   ]
  }
 ],
 "metadata": {
  "kernelspec": {
   "display_name": "Python 3",
   "language": "python",
   "name": "python3"
  },
  "language_info": {
   "codemirror_mode": {
    "name": "ipython",
    "version": 3
   },
   "file_extension": ".py",
   "mimetype": "text/x-python",
   "name": "python",
   "nbconvert_exporter": "python",
   "pygments_lexer": "ipython3",
   "version": "3.9.7"
  }
 },
 "nbformat": 4,
 "nbformat_minor": 5
}
