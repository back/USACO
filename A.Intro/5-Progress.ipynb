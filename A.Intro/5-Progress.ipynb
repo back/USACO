{
 "cells": [
  {
   "cell_type": "markdown",
   "metadata": {
    "tags": []
   },
   "source": [
    "# Training Gateway\n",
    "- Chapter 1: Getting Started\n",
    "- Chapter 2: Bigger Challenges\n",
    "- Chapter 3: Techniques more subtle\n",
    "- Chapter 4: Advanced algorithms and difficult drills\n",
    "- Chapter 5: Serious challenges\n",
    "- Chapter 6: Contest Practice\n",
    "\n",
    "##### You have to solve all problems in previous chapter to be able to see next one. "
   ]
  },
  {
   "cell_type": "markdown",
   "metadata": {
    "tags": []
   },
   "source": [
    "# Chapter I Overview\n",
    "- Basic Submitting\n",
    "\n",
    "### Total 20 Problems\n",
    "- Section 1.2 -> 4 Problems\n",
    "- Section 1.3 -> 5 Problems\n",
    "- Section 1.4 -> 6 Problems\n",
    "- Section 1.5 -> 2 Problems\n",
    "- Section 1.6 -> 3 Problems"
   ]
  },
  {
   "cell_type": "markdown",
   "metadata": {
    "tags": []
   },
   "source": [
    "# Chapter II Overview\n",
    "### Total 19 Problems\n",
    "- Section 2.1 -> 5 Problems\n",
    "- Section 2.2 -> 4 Problems\n",
    "- Section 2.3 -> 5 Problems\n",
    "- Section 2.4 -> 5 Problems\n",
    "\n",
    "### Algorithm Solving\n",
    "- Matrix Data\n",
    "- Prefix Sums\n",
    "- Customized Sorting\n",
    "- Two Pointers\n",
    "- Non Linear Data\n",
    "- Greedy\n",
    "- Binary Search\n",
    "- Graph with DFS\n",
    "- Graph with Flood Fill"
   ]
  },
  {
   "cell_type": "markdown",
   "metadata": {
    "tags": []
   },
   "source": [
    "# Chapter III Overview\n",
    "### Total 19 Problems\n",
    "- Section 3.1 -> 5 Problems\n",
    "- Section 3.2 -> 6 Problems\n",
    "- Section 3.3 -> 5 Problems\n",
    "- Section 3.4 -> 3 Problems\n",
    "\n",
    "### Algorithm Solving\n",
    "- Dynamic Programming\n",
    "  - Knapsack\n",
    "- Tree Algorithms\n",
    "  - Dijkstra\n",
    "  - Kruskal\n",
    "  - Warshall\n",
    "- Graph Algorithms\n",
    "  - Eulerian Tours\n",
    "  - Computational Geometry"
   ]
  }
 ],
 "metadata": {
  "kernelspec": {
   "display_name": "Python 3",
   "language": "python",
   "name": "python3"
  },
  "language_info": {
   "codemirror_mode": {
    "name": "ipython",
    "version": 3
   },
   "file_extension": ".py",
   "mimetype": "text/x-python",
   "name": "python",
   "nbconvert_exporter": "python",
   "pygments_lexer": "ipython3",
   "version": "3.9.7"
  }
 },
 "nbformat": 4,
 "nbformat_minor": 4
}
