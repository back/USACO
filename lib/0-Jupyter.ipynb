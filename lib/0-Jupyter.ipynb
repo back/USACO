{
 "cells": [
  {
   "cell_type": "markdown",
   "id": "2c35d804",
   "metadata": {},
   "source": [
    "### How to find the IPython startup directory"
   ]
  },
  {
   "cell_type": "code",
   "execution_count": 2,
   "id": "562b6c69",
   "metadata": {},
   "outputs": [
    {
     "name": "stdout",
     "output_type": "stream",
     "text": [
      "C:\\Users\\Dad\\.ipython\\profile_default\\startup\n"
     ]
    }
   ],
   "source": [
    "print (get_ipython().profile_dir.startup_dir)"
   ]
  }
 ],
 "metadata": {
  "kernelspec": {
   "display_name": "Python 3",
   "language": "python",
   "name": "python3"
  },
  "language_info": {
   "codemirror_mode": {
    "name": "ipython",
    "version": 3
   },
   "file_extension": ".py",
   "mimetype": "text/x-python",
   "name": "python",
   "nbconvert_exporter": "python",
   "pygments_lexer": "ipython3",
   "version": "3.9.7"
  }
 },
 "nbformat": 4,
 "nbformat_minor": 5
}
