{
 "cells": [
  {
   "cell_type": "markdown",
   "id": "830df108",
   "metadata": {},
   "source": [
    "# Boarding Model"
   ]
  },
  {
   "cell_type": "code",
   "execution_count": 1,
   "id": "24267667",
   "metadata": {},
   "outputs": [],
   "source": [
    "def boarding(rows, cols, passengers):    \n",
    "    duration = 0\n",
    "    asle = [None] * rows\n",
    "    seated = [[0] * cols for i in range(rows)]\n",
    "\n",
    "    while passengers or any(asle):\n",
    "        for i in range(rows-1, -1, -1):\n",
    "            p=asle[i]\n",
    "            if p:                     # check if current asle location has a person\n",
    "                if p[0] == i:         # check if this person arrived his/her row\n",
    "                    if p[2]:          # check if this person stowed his/her luggage\n",
    "                        p[2] -= 1\n",
    "                    else:             # ready to seat\n",
    "                        if seated[p[0]][p[1]] > 1:     # check if this person currently in seating\n",
    "                            seated[p[0]][p[1]] -= 1\n",
    "                        elif seated[p[0]][p[1]] == 1:  # check if this person seated\n",
    "                            asle[i] = None             # mark asle empty\n",
    "                        else:                          # determine how long this person need for seating\n",
    "                            seating = 1\n",
    "                            if p[1]==0 and seated[p[0]][1]: seating += 3\n",
    "                            if p[1]==0 and seated[p[0]][2]: seating += 3\n",
    "                            if p[1]==1 and seated[p[0]][2]: seating += 3\n",
    "                            if p[1]==4 and seated[p[0]][3]: seating += 3\n",
    "                            if p[1]==5 and seated[p[0]][3]: seating += 3\n",
    "                            if p[1]==5 and seated[p[0]][4]: seating += 3\n",
    "                            seated[p[0]][p[1]] = seating\n",
    "                elif not asle[i+1]:\n",
    "                    asle[i+1] = p\n",
    "                    asle[i] = None\n",
    "        if passengers and not asle[0]:\n",
    "            asle[0] = passengers.pop(0)\n",
    "        duration += 1\n",
    "    \n",
    "    return duration"
   ]
  },
  {
   "cell_type": "code",
   "execution_count": 24,
   "id": "54f95180",
   "metadata": {},
   "outputs": [
    {
     "name": "stdout",
     "output_type": "stream",
     "text": [
      "1220\n",
      "[1182, 1245, 1256, 1215, 1205, 1255, 1224, 1200, 1223, 1193, 1232, 1205, 1207, 1255, 1226, 1201, 1233, 1189, 1214, 1196, 1230, 1216, 1223, 1231, 1247, 1244, 1225, 1234, 1229, 1233, 1277, 1236, 1208, 1249, 1246, 1209, 1195, 1212, 1232, 1219, 1211, 1231, 1231, 1215, 1181, 1224, 1235, 1215, 1224, 1242, 1191, 1208, 1201, 1227, 1214, 1195, 1244, 1230, 1221, 1228, 1210, 1254, 1222, 1198, 1235, 1216, 1241, 1294, 1190, 1198, 1215, 1148, 1215, 1225, 1201, 1203, 1201, 1225, 1191, 1236, 1247, 1253, 1230, 1215, 1229, 1200, 1204, 1177, 1236, 1210, 1223, 1236, 1217, 1239, 1227, 1266, 1197, 1212, 1225, 1199, 1147, 1212, 1257, 1241, 1218, 1149, 1228, 1197, 1226, 1224, 1207, 1228, 1218, 1204, 1244, 1225, 1183, 1267, 1245, 1204, 1226, 1206, 1211, 1243, 1252, 1229, 1245, 1243, 1175, 1154, 1177, 1225, 1231, 1212, 1222, 1222, 1219, 1235, 1196, 1209, 1250, 1173, 1239, 1225, 1218, 1186, 1195, 1206, 1233, 1184, 1198, 1226, 1245, 1269, 1204, 1195, 1184, 1242, 1211, 1245, 1226, 1174, 1218, 1257, 1265, 1209, 1248, 1195, 1228, 1230, 1235, 1254, 1266, 1243, 1199, 1203, 1203, 1247, 1215, 1195, 1194, 1222, 1233, 1223, 1146, 1252, 1199, 1221, 1219, 1279, 1266, 1238, 1229, 1202, 1218, 1239, 1221, 1189, 1263, 1258]\n"
     ]
    }
   ],
   "source": [
    "from random import shuffle, randint\n",
    "\n",
    "rows = 33\n",
    "cols = 6\n",
    "sims = 200\n",
    "\n",
    "x = list(range(sims))\n",
    "y = [0] * sims\n",
    "\n",
    "for i in x:\n",
    "    passengers = [[i,j,randint(0,5)] for i in range(rows) for j in range(cols)]\n",
    "    #shuffle(passengers)\n",
    "    y[i] = boarding(rows, cols, passengers)\n",
    "print(sum(y)//len(y))\n",
    "\n",
    "print(y)"
   ]
  }
 ],
 "metadata": {
  "kernelspec": {
   "display_name": "Python 3",
   "language": "python",
   "name": "python3"
  },
  "language_info": {
   "codemirror_mode": {
    "name": "ipython",
    "version": 3
   },
   "file_extension": ".py",
   "mimetype": "text/x-python",
   "name": "python",
   "nbconvert_exporter": "python",
   "pygments_lexer": "ipython3",
   "version": "3.9.7"
  }
 },
 "nbformat": 4,
 "nbformat_minor": 5
}
